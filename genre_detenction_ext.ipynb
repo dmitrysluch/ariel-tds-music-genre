{
 "cells": [
  {
   "cell_type": "code",
   "execution_count": 1,
   "id": "4ec4f216-efdb-4e99-aec2-b26667fa71ba",
   "metadata": {},
   "outputs": [],
   "source": [
    "import pandas as pd\n",
    "import numpy as np\n",
    "from model import *\n",
    "import extractor\n",
    "class Extractor(extractor.AudioDataExtractionPipeline):\n",
    "    pass"
   ]
  },
  {
   "cell_type": "code",
   "execution_count": 2,
   "id": "5512d565-1366-47d5-8b87-efda54317286",
   "metadata": {},
   "outputs": [
    {
     "data": {
      "text/html": [
       "<div>\n",
       "<style scoped>\n",
       "    .dataframe tbody tr th:only-of-type {\n",
       "        vertical-align: middle;\n",
       "    }\n",
       "\n",
       "    .dataframe tbody tr th {\n",
       "        vertical-align: top;\n",
       "    }\n",
       "\n",
       "    .dataframe thead th {\n",
       "        text-align: right;\n",
       "    }\n",
       "</style>\n",
       "<table border=\"1\" class=\"dataframe\">\n",
       "  <thead>\n",
       "    <tr style=\"text-align: right;\">\n",
       "      <th></th>\n",
       "      <th>filename</th>\n",
       "      <th>length</th>\n",
       "      <th>chroma_stft_mean</th>\n",
       "      <th>chroma_stft_var</th>\n",
       "      <th>rms_mean</th>\n",
       "      <th>rms_var</th>\n",
       "      <th>spectral_centroid_mean</th>\n",
       "      <th>spectral_centroid_var</th>\n",
       "      <th>spectral_bandwidth_mean</th>\n",
       "      <th>spectral_bandwidth_var</th>\n",
       "      <th>...</th>\n",
       "      <th>mfcc16_var</th>\n",
       "      <th>mfcc17_mean</th>\n",
       "      <th>mfcc17_var</th>\n",
       "      <th>mfcc18_mean</th>\n",
       "      <th>mfcc18_var</th>\n",
       "      <th>mfcc19_mean</th>\n",
       "      <th>mfcc19_var</th>\n",
       "      <th>mfcc20_mean</th>\n",
       "      <th>mfcc20_var</th>\n",
       "      <th>label</th>\n",
       "    </tr>\n",
       "  </thead>\n",
       "  <tbody>\n",
       "    <tr>\n",
       "      <th>0</th>\n",
       "      <td>blues.00000.wav</td>\n",
       "      <td>661794</td>\n",
       "      <td>0.350088</td>\n",
       "      <td>0.088757</td>\n",
       "      <td>0.130228</td>\n",
       "      <td>0.002827</td>\n",
       "      <td>1784.165850</td>\n",
       "      <td>129774.064525</td>\n",
       "      <td>2002.449060</td>\n",
       "      <td>85882.761315</td>\n",
       "      <td>...</td>\n",
       "      <td>52.420910</td>\n",
       "      <td>-1.690215</td>\n",
       "      <td>36.524071</td>\n",
       "      <td>-0.408979</td>\n",
       "      <td>41.597103</td>\n",
       "      <td>-2.303523</td>\n",
       "      <td>55.062923</td>\n",
       "      <td>1.221291</td>\n",
       "      <td>46.936035</td>\n",
       "      <td>blues</td>\n",
       "    </tr>\n",
       "    <tr>\n",
       "      <th>1</th>\n",
       "      <td>blues.00001.wav</td>\n",
       "      <td>661794</td>\n",
       "      <td>0.340914</td>\n",
       "      <td>0.094980</td>\n",
       "      <td>0.095948</td>\n",
       "      <td>0.002373</td>\n",
       "      <td>1530.176679</td>\n",
       "      <td>375850.073649</td>\n",
       "      <td>2039.036516</td>\n",
       "      <td>213843.755497</td>\n",
       "      <td>...</td>\n",
       "      <td>55.356403</td>\n",
       "      <td>-0.731125</td>\n",
       "      <td>60.314529</td>\n",
       "      <td>0.295073</td>\n",
       "      <td>48.120598</td>\n",
       "      <td>-0.283518</td>\n",
       "      <td>51.106190</td>\n",
       "      <td>0.531217</td>\n",
       "      <td>45.786282</td>\n",
       "      <td>blues</td>\n",
       "    </tr>\n",
       "    <tr>\n",
       "      <th>2</th>\n",
       "      <td>blues.00002.wav</td>\n",
       "      <td>661794</td>\n",
       "      <td>0.363637</td>\n",
       "      <td>0.085275</td>\n",
       "      <td>0.175570</td>\n",
       "      <td>0.002746</td>\n",
       "      <td>1552.811865</td>\n",
       "      <td>156467.643368</td>\n",
       "      <td>1747.702312</td>\n",
       "      <td>76254.192257</td>\n",
       "      <td>...</td>\n",
       "      <td>40.598766</td>\n",
       "      <td>-7.729093</td>\n",
       "      <td>47.639427</td>\n",
       "      <td>-1.816407</td>\n",
       "      <td>52.382141</td>\n",
       "      <td>-3.439720</td>\n",
       "      <td>46.639660</td>\n",
       "      <td>-2.231258</td>\n",
       "      <td>30.573025</td>\n",
       "      <td>blues</td>\n",
       "    </tr>\n",
       "    <tr>\n",
       "      <th>3</th>\n",
       "      <td>blues.00003.wav</td>\n",
       "      <td>661794</td>\n",
       "      <td>0.404785</td>\n",
       "      <td>0.093999</td>\n",
       "      <td>0.141093</td>\n",
       "      <td>0.006346</td>\n",
       "      <td>1070.106615</td>\n",
       "      <td>184355.942417</td>\n",
       "      <td>1596.412872</td>\n",
       "      <td>166441.494769</td>\n",
       "      <td>...</td>\n",
       "      <td>44.427753</td>\n",
       "      <td>-3.319597</td>\n",
       "      <td>50.206673</td>\n",
       "      <td>0.636965</td>\n",
       "      <td>37.319130</td>\n",
       "      <td>-0.619121</td>\n",
       "      <td>37.259739</td>\n",
       "      <td>-3.407448</td>\n",
       "      <td>31.949339</td>\n",
       "      <td>blues</td>\n",
       "    </tr>\n",
       "    <tr>\n",
       "      <th>4</th>\n",
       "      <td>blues.00004.wav</td>\n",
       "      <td>661794</td>\n",
       "      <td>0.308526</td>\n",
       "      <td>0.087841</td>\n",
       "      <td>0.091529</td>\n",
       "      <td>0.002303</td>\n",
       "      <td>1835.004266</td>\n",
       "      <td>343399.939274</td>\n",
       "      <td>1748.172116</td>\n",
       "      <td>88445.209036</td>\n",
       "      <td>...</td>\n",
       "      <td>86.099236</td>\n",
       "      <td>-5.454034</td>\n",
       "      <td>75.269707</td>\n",
       "      <td>-0.916874</td>\n",
       "      <td>53.613918</td>\n",
       "      <td>-4.404827</td>\n",
       "      <td>62.910812</td>\n",
       "      <td>-11.703234</td>\n",
       "      <td>55.195160</td>\n",
       "      <td>blues</td>\n",
       "    </tr>\n",
       "    <tr>\n",
       "      <th>...</th>\n",
       "      <td>...</td>\n",
       "      <td>...</td>\n",
       "      <td>...</td>\n",
       "      <td>...</td>\n",
       "      <td>...</td>\n",
       "      <td>...</td>\n",
       "      <td>...</td>\n",
       "      <td>...</td>\n",
       "      <td>...</td>\n",
       "      <td>...</td>\n",
       "      <td>...</td>\n",
       "      <td>...</td>\n",
       "      <td>...</td>\n",
       "      <td>...</td>\n",
       "      <td>...</td>\n",
       "      <td>...</td>\n",
       "      <td>...</td>\n",
       "      <td>...</td>\n",
       "      <td>...</td>\n",
       "      <td>...</td>\n",
       "      <td>...</td>\n",
       "    </tr>\n",
       "    <tr>\n",
       "      <th>995</th>\n",
       "      <td>rock.00095.wav</td>\n",
       "      <td>661794</td>\n",
       "      <td>0.352063</td>\n",
       "      <td>0.080487</td>\n",
       "      <td>0.079486</td>\n",
       "      <td>0.000345</td>\n",
       "      <td>2008.149458</td>\n",
       "      <td>282174.689224</td>\n",
       "      <td>2106.541053</td>\n",
       "      <td>88609.749506</td>\n",
       "      <td>...</td>\n",
       "      <td>45.050526</td>\n",
       "      <td>-13.289984</td>\n",
       "      <td>41.754955</td>\n",
       "      <td>2.484145</td>\n",
       "      <td>36.778877</td>\n",
       "      <td>-6.713265</td>\n",
       "      <td>54.866825</td>\n",
       "      <td>-1.193787</td>\n",
       "      <td>49.950665</td>\n",
       "      <td>rock</td>\n",
       "    </tr>\n",
       "    <tr>\n",
       "      <th>996</th>\n",
       "      <td>rock.00096.wav</td>\n",
       "      <td>661794</td>\n",
       "      <td>0.398687</td>\n",
       "      <td>0.075086</td>\n",
       "      <td>0.076458</td>\n",
       "      <td>0.000588</td>\n",
       "      <td>2006.843354</td>\n",
       "      <td>182114.709510</td>\n",
       "      <td>2068.942009</td>\n",
       "      <td>82426.016726</td>\n",
       "      <td>...</td>\n",
       "      <td>33.851742</td>\n",
       "      <td>-10.848309</td>\n",
       "      <td>39.395096</td>\n",
       "      <td>1.881229</td>\n",
       "      <td>32.010040</td>\n",
       "      <td>-7.461491</td>\n",
       "      <td>39.196327</td>\n",
       "      <td>-2.795338</td>\n",
       "      <td>31.773624</td>\n",
       "      <td>rock</td>\n",
       "    </tr>\n",
       "    <tr>\n",
       "      <th>997</th>\n",
       "      <td>rock.00097.wav</td>\n",
       "      <td>661794</td>\n",
       "      <td>0.432142</td>\n",
       "      <td>0.075268</td>\n",
       "      <td>0.081651</td>\n",
       "      <td>0.000322</td>\n",
       "      <td>2077.526598</td>\n",
       "      <td>231657.968040</td>\n",
       "      <td>1927.293153</td>\n",
       "      <td>74717.124394</td>\n",
       "      <td>...</td>\n",
       "      <td>33.597008</td>\n",
       "      <td>-12.845291</td>\n",
       "      <td>36.367264</td>\n",
       "      <td>3.440978</td>\n",
       "      <td>36.001110</td>\n",
       "      <td>-12.588070</td>\n",
       "      <td>42.502201</td>\n",
       "      <td>-2.106337</td>\n",
       "      <td>29.865515</td>\n",
       "      <td>rock</td>\n",
       "    </tr>\n",
       "    <tr>\n",
       "      <th>998</th>\n",
       "      <td>rock.00098.wav</td>\n",
       "      <td>661794</td>\n",
       "      <td>0.362485</td>\n",
       "      <td>0.091506</td>\n",
       "      <td>0.083860</td>\n",
       "      <td>0.001211</td>\n",
       "      <td>1398.699344</td>\n",
       "      <td>240318.731073</td>\n",
       "      <td>1818.450280</td>\n",
       "      <td>109090.207161</td>\n",
       "      <td>...</td>\n",
       "      <td>46.324894</td>\n",
       "      <td>-4.416050</td>\n",
       "      <td>43.583942</td>\n",
       "      <td>1.556207</td>\n",
       "      <td>34.331261</td>\n",
       "      <td>-5.041897</td>\n",
       "      <td>47.227180</td>\n",
       "      <td>-3.590644</td>\n",
       "      <td>41.299088</td>\n",
       "      <td>rock</td>\n",
       "    </tr>\n",
       "    <tr>\n",
       "      <th>999</th>\n",
       "      <td>rock.00099.wav</td>\n",
       "      <td>661794</td>\n",
       "      <td>0.358401</td>\n",
       "      <td>0.085884</td>\n",
       "      <td>0.054454</td>\n",
       "      <td>0.000336</td>\n",
       "      <td>1609.795082</td>\n",
       "      <td>422203.216152</td>\n",
       "      <td>1797.213044</td>\n",
       "      <td>120115.632927</td>\n",
       "      <td>...</td>\n",
       "      <td>59.167755</td>\n",
       "      <td>-7.069775</td>\n",
       "      <td>73.760391</td>\n",
       "      <td>0.028346</td>\n",
       "      <td>76.504326</td>\n",
       "      <td>-2.025783</td>\n",
       "      <td>72.189316</td>\n",
       "      <td>1.155239</td>\n",
       "      <td>49.662510</td>\n",
       "      <td>rock</td>\n",
       "    </tr>\n",
       "  </tbody>\n",
       "</table>\n",
       "<p>1000 rows × 60 columns</p>\n",
       "</div>"
      ],
      "text/plain": [
       "            filename  length  chroma_stft_mean  chroma_stft_var  rms_mean  \\\n",
       "0    blues.00000.wav  661794          0.350088         0.088757  0.130228   \n",
       "1    blues.00001.wav  661794          0.340914         0.094980  0.095948   \n",
       "2    blues.00002.wav  661794          0.363637         0.085275  0.175570   \n",
       "3    blues.00003.wav  661794          0.404785         0.093999  0.141093   \n",
       "4    blues.00004.wav  661794          0.308526         0.087841  0.091529   \n",
       "..               ...     ...               ...              ...       ...   \n",
       "995   rock.00095.wav  661794          0.352063         0.080487  0.079486   \n",
       "996   rock.00096.wav  661794          0.398687         0.075086  0.076458   \n",
       "997   rock.00097.wav  661794          0.432142         0.075268  0.081651   \n",
       "998   rock.00098.wav  661794          0.362485         0.091506  0.083860   \n",
       "999   rock.00099.wav  661794          0.358401         0.085884  0.054454   \n",
       "\n",
       "      rms_var  spectral_centroid_mean  spectral_centroid_var  \\\n",
       "0    0.002827             1784.165850          129774.064525   \n",
       "1    0.002373             1530.176679          375850.073649   \n",
       "2    0.002746             1552.811865          156467.643368   \n",
       "3    0.006346             1070.106615          184355.942417   \n",
       "4    0.002303             1835.004266          343399.939274   \n",
       "..        ...                     ...                    ...   \n",
       "995  0.000345             2008.149458          282174.689224   \n",
       "996  0.000588             2006.843354          182114.709510   \n",
       "997  0.000322             2077.526598          231657.968040   \n",
       "998  0.001211             1398.699344          240318.731073   \n",
       "999  0.000336             1609.795082          422203.216152   \n",
       "\n",
       "     spectral_bandwidth_mean  spectral_bandwidth_var  ...  mfcc16_var  \\\n",
       "0                2002.449060            85882.761315  ...   52.420910   \n",
       "1                2039.036516           213843.755497  ...   55.356403   \n",
       "2                1747.702312            76254.192257  ...   40.598766   \n",
       "3                1596.412872           166441.494769  ...   44.427753   \n",
       "4                1748.172116            88445.209036  ...   86.099236   \n",
       "..                       ...                     ...  ...         ...   \n",
       "995              2106.541053            88609.749506  ...   45.050526   \n",
       "996              2068.942009            82426.016726  ...   33.851742   \n",
       "997              1927.293153            74717.124394  ...   33.597008   \n",
       "998              1818.450280           109090.207161  ...   46.324894   \n",
       "999              1797.213044           120115.632927  ...   59.167755   \n",
       "\n",
       "     mfcc17_mean  mfcc17_var  mfcc18_mean  mfcc18_var  mfcc19_mean  \\\n",
       "0      -1.690215   36.524071    -0.408979   41.597103    -2.303523   \n",
       "1      -0.731125   60.314529     0.295073   48.120598    -0.283518   \n",
       "2      -7.729093   47.639427    -1.816407   52.382141    -3.439720   \n",
       "3      -3.319597   50.206673     0.636965   37.319130    -0.619121   \n",
       "4      -5.454034   75.269707    -0.916874   53.613918    -4.404827   \n",
       "..           ...         ...          ...         ...          ...   \n",
       "995   -13.289984   41.754955     2.484145   36.778877    -6.713265   \n",
       "996   -10.848309   39.395096     1.881229   32.010040    -7.461491   \n",
       "997   -12.845291   36.367264     3.440978   36.001110   -12.588070   \n",
       "998    -4.416050   43.583942     1.556207   34.331261    -5.041897   \n",
       "999    -7.069775   73.760391     0.028346   76.504326    -2.025783   \n",
       "\n",
       "     mfcc19_var  mfcc20_mean  mfcc20_var  label  \n",
       "0     55.062923     1.221291   46.936035  blues  \n",
       "1     51.106190     0.531217   45.786282  blues  \n",
       "2     46.639660    -2.231258   30.573025  blues  \n",
       "3     37.259739    -3.407448   31.949339  blues  \n",
       "4     62.910812   -11.703234   55.195160  blues  \n",
       "..          ...          ...         ...    ...  \n",
       "995   54.866825    -1.193787   49.950665   rock  \n",
       "996   39.196327    -2.795338   31.773624   rock  \n",
       "997   42.502201    -2.106337   29.865515   rock  \n",
       "998   47.227180    -3.590644   41.299088   rock  \n",
       "999   72.189316     1.155239   49.662510   rock  \n",
       "\n",
       "[1000 rows x 60 columns]"
      ]
     },
     "execution_count": 2,
     "metadata": {},
     "output_type": "execute_result"
    }
   ],
   "source": [
    "import pandas as pd\n",
    "df = pd.read_csv(\"dataset/Data/features_30_sec.csv\")\n",
    "df"
   ]
  },
  {
   "cell_type": "code",
   "execution_count": 3,
   "id": "dbdeecea-5a6e-488b-89e2-4c9e4d7e472b",
   "metadata": {},
   "outputs": [],
   "source": [
    "from sklearn.model_selection import train_test_split\n",
    "\n",
    "# Define features and target\n",
    "X = df.drop(columns=['label'])  # Features: e.g., 'track' and 'statistics'\n",
    "y = df['label']  # Target: 'label'\n",
    "\n",
    "# Split the dataset while preserving class proportions\n",
    "X_train, X_eval, y_train, y_eval = train_test_split(\n",
    "    X, y, \n",
    "    test_size=0.3,  # 30% for testing\n",
    "    stratify=y,     # Preserve class proportions\n",
    "    random_state=42 # For reproducibility\n",
    ")"
   ]
  },
  {
   "cell_type": "code",
   "execution_count": 4,
   "id": "b3f52c4c-0f71-42f5-b0a3-20853d19f15c",
   "metadata": {},
   "outputs": [],
   "source": [
    "# Drop corrupted sample \n",
    "idx = X_train.index[X_train[\"filename\"] == \"jazz.00054.wav\"]\n",
    "X_train = X_train.drop(index=idx)\n",
    "y_train = y_train.drop(index=idx)"
   ]
  },
  {
   "cell_type": "code",
   "execution_count": 5,
   "id": "5a94ba90-5c92-432a-9a7e-40ed4a617ebe",
   "metadata": {},
   "outputs": [
    {
     "data": {
      "application/vnd.jupyter.widget-view+json": {
       "model_id": "0fe999f603984ee7b62de9356d058755",
       "version_major": 2,
       "version_minor": 0
      },
      "text/plain": [
       "MetricVisualizer(layout=Layout(align_self='stretch', height='500px'))"
      ]
     },
     "metadata": {},
     "output_type": "display_data"
    },
    {
     "name": "stdout",
     "output_type": "stream",
     "text": [
      "0:\tlearn: 0.3648069\ttest: 0.3433333\tbest: 0.3433333 (0)\ttotal: 60.7ms\tremaining: 30.3s\n",
      "50:\tlearn: 0.7367668\ttest: 0.6566667\tbest: 0.6700000 (47)\ttotal: 181ms\tremaining: 1.59s\n",
      "100:\tlearn: 0.8211731\ttest: 0.7200000\tbest: 0.7233333 (98)\ttotal: 296ms\tremaining: 1.17s\n",
      "150:\tlearn: 0.8726753\ttest: 0.7300000\tbest: 0.7400000 (122)\ttotal: 410ms\tremaining: 947ms\n",
      "200:\tlearn: 0.9070100\ttest: 0.7366667\tbest: 0.7466667 (182)\ttotal: 523ms\tremaining: 778ms\n",
      "250:\tlearn: 0.9313305\ttest: 0.7366667\tbest: 0.7533333 (218)\ttotal: 637ms\tremaining: 632ms\n",
      "300:\tlearn: 0.9484979\ttest: 0.7533333\tbest: 0.7533333 (218)\ttotal: 753ms\tremaining: 498ms\n",
      "350:\tlearn: 0.9670959\ttest: 0.7466667\tbest: 0.7600000 (318)\ttotal: 865ms\tremaining: 367ms\n",
      "400:\tlearn: 0.9728183\ttest: 0.7466667\tbest: 0.7600000 (318)\ttotal: 980ms\tremaining: 242ms\n",
      "450:\tlearn: 0.9756795\ttest: 0.7400000\tbest: 0.7600000 (318)\ttotal: 1.1s\tremaining: 120ms\n",
      "499:\tlearn: 0.9842632\ttest: 0.7466667\tbest: 0.7600000 (318)\ttotal: 1.23s\tremaining: 0us\n",
      "\n",
      "bestTest = 0.76\n",
      "bestIteration = 318\n",
      "\n",
      "Shrink model to first 319 iterations.\n",
      "\n",
      "Classification Report:\n",
      "               precision    recall  f1-score   support\n",
      "\n",
      "       blues       0.76      0.63      0.69        30\n",
      "   classical       0.97      0.97      0.97        30\n",
      "     country       0.79      0.77      0.78        30\n",
      "       disco       0.62      0.53      0.57        30\n",
      "      hiphop       0.59      0.80      0.68        30\n",
      "        jazz       0.85      0.93      0.89        30\n",
      "       metal       0.86      0.83      0.85        30\n",
      "         pop       0.85      0.93      0.89        30\n",
      "      reggae       0.67      0.67      0.67        30\n",
      "        rock       0.67      0.53      0.59        30\n",
      "\n",
      "    accuracy                           0.76       300\n",
      "   macro avg       0.76      0.76      0.76       300\n",
      "weighted avg       0.76      0.76      0.76       300\n",
      "\n",
      "Evaluation Accuracy: 0.7600\n"
     ]
    }
   ],
   "source": [
    "model, acc = train_and_evaluate_catboost(\n",
    "    X_eval.index.to_numpy(), \n",
    "    X_train.drop(columns=[\"filename\", \"length\"]).to_numpy(), \n",
    "    X_eval.drop(columns=[\"filename\", \"length\"]).to_numpy(), \n",
    "    y_train.to_numpy(), \n",
    "    y_eval.to_numpy()\n",
    ")"
   ]
  },
  {
   "cell_type": "code",
   "execution_count": 6,
   "id": "0310d7af-e347-4531-9b6b-7d8602f4a5f1",
   "metadata": {},
   "outputs": [],
   "source": [
    "import soundfile as sf\n",
    "import librosa\n",
    "import numpy as np\n",
    "from resampy import resample"
   ]
  },
  {
   "cell_type": "code",
   "execution_count": 7,
   "id": "c87f01e0-8eaa-4e53-acdb-4c2aa06decb5",
   "metadata": {},
   "outputs": [
    {
     "data": {
      "application/vnd.jupyter.widget-view+json": {
       "model_id": "7fa1a1f1481b45a2a14bad636fc51420",
       "version_major": 2,
       "version_minor": 0
      },
      "text/plain": [
       "audio:   0%|          | 0/699 [00:00<?, ?it/s]"
      ]
     },
     "metadata": {},
     "output_type": "display_data"
    },
    {
     "data": {
      "application/vnd.jupyter.widget-view+json": {
       "model_id": "8aa44eb95606443c936ae141efc8f1d1",
       "version_major": 2,
       "version_minor": 0
      },
      "text/plain": [
       "audio:   0%|          | 0/300 [00:00<?, ?it/s]"
      ]
     },
     "metadata": {},
     "output_type": "display_data"
    }
   ],
   "source": [
    "E_train = Extractor(\n",
    "    idx=[np.array([row[0]]) for row in X_train.iterrows()],\n",
    "    x=[row[1].to_numpy() for row in X_train.iterrows()],\n",
    "    y=[np.array([row]) for row in y_train],\n",
    "    train=True\n",
    ")\n",
    "E_eval = Extractor(\n",
    "    idx=[np.array([row[0]]) for row in X_eval.iterrows()],\n",
    "    x=[row[1].to_numpy() for row in X_eval.iterrows()],\n",
    "    y=[np.array([row]) for row in y_eval],\n",
    "    train=False\n",
    ")\n",
    "\n",
    "def load_audio(x) -> [np.ndarray]:\n",
    "    file_path = f\"dataset/Data/genres_original/{x[0].split('.')[0]}/{x[0]}\"\n",
    "    y, sr = sf.read(file_path)\n",
    "    if len(y.shape) == 2:  # Convert stereo to mono\n",
    "        y = np.mean(y, dim=0)\n",
    "    y = resample(y, sr, 16000)\n",
    "    return y\n",
    "Extractor.register_extractor('audio', load_audio)\n",
    "E_train.full_extract()\n",
    "E_eval.full_extract()"
   ]
  },
  {
   "cell_type": "code",
   "execution_count": 8,
   "id": "9bbcf479-de45-4e9e-b3c4-7b15ce5a943c",
   "metadata": {},
   "outputs": [
    {
     "data": {
      "application/vnd.jupyter.widget-view+json": {
       "model_id": "4879983be3094590aa677ae4cf421ced",
       "version_major": 2,
       "version_minor": 0
      },
      "text/plain": [
       "stats:   0%|          | 0/699 [00:00<?, ?it/s]"
      ]
     },
     "metadata": {},
     "output_type": "display_data"
    },
    {
     "data": {
      "application/vnd.jupyter.widget-view+json": {
       "model_id": "e39e6bfc9ad64e438b9473f918d6dde5",
       "version_major": 2,
       "version_minor": 0
      },
      "text/plain": [
       "rms:   0%|          | 0/699 [00:00<?, ?it/s]"
      ]
     },
     "metadata": {},
     "output_type": "display_data"
    },
    {
     "data": {
      "application/vnd.jupyter.widget-view+json": {
       "model_id": "bc544e24328548dc9ed73cba39cd5829",
       "version_major": 2,
       "version_minor": 0
      },
      "text/plain": [
       "stats:   0%|          | 0/300 [00:00<?, ?it/s]"
      ]
     },
     "metadata": {},
     "output_type": "display_data"
    },
    {
     "data": {
      "application/vnd.jupyter.widget-view+json": {
       "model_id": "deab2ecb70e145c4aac0344991f6a47f",
       "version_major": 2,
       "version_minor": 0
      },
      "text/plain": [
       "rms:   0%|          | 0/300 [00:00<?, ?it/s]"
      ]
     },
     "metadata": {},
     "output_type": "display_data"
    }
   ],
   "source": [
    "Extractor.register_extractor('stats', lambda x: x[2:])\n",
    "Extractor.register_extractor('rms', lambda audio: np.array([np.sqrt(np.mean(audio**2))]))\n",
    "E_train.soft_extract()\n",
    "E_eval.soft_extract()"
   ]
  },
  {
   "cell_type": "code",
   "execution_count": 9,
   "id": "189aa8cc-5352-44c8-9225-84a3c7e35dfc",
   "metadata": {},
   "outputs": [],
   "source": [
    "from librosa.sequence import viterbi\n",
    "\n",
    "import numpy as np\n",
    "\n",
    "def viterbi_dp(emission_probs, transition_matrix, p_init=None, eps=1e-15):\n",
    "    \"\"\"\n",
    "    A custom Viterbi implementation that outputs:\n",
    "      1) The DP table (log-domain) of best-path log-probs to each state/frame\n",
    "      2) The state backpointer table\n",
    "      3) A probability distribution over states at each time,\n",
    "         obtained by exponentiating and normalizing the DP table\n",
    "      4) The best-path state sequence from backtracking\n",
    "\n",
    "    Parameters\n",
    "    ----------\n",
    "    emission_probs : np.ndarray [shape=(n_states, n_frames)]\n",
    "        Probability (linear scale) of emitting each state at each frame.\n",
    "        We will take the log of these values for the DP.\n",
    "    transition_matrix : np.ndarray [shape=(n_states, n_states)]\n",
    "        Probability (linear scale) of transitioning from state i to state j.\n",
    "    p_init : np.ndarray [shape=(n_states,)]\n",
    "        Initial state distribution (linear probabilities).\n",
    "        If None, defaults to uniform.\n",
    "    eps : float\n",
    "        Small constant to avoid log(0).\n",
    "\n",
    "    Returns\n",
    "    -------\n",
    "    dp : np.ndarray [shape=(n_states, n_frames)]\n",
    "        dp[s, t] = log-prob of the best path that ends in state s at time t\n",
    "    backpointer : np.ndarray [shape=(n_states, n_frames)]\n",
    "        backpointer[s, t] = index of the best predecessor state for s at t\n",
    "    state_probs : np.ndarray [shape=(n_states, n_frames)]\n",
    "        Probability distribution over states for each frame\n",
    "        (obtained via time-wise softmax of dp).\n",
    "    best_path : np.ndarray [shape=(n_frames,)]\n",
    "        The single best state for each frame (by Viterbi backtracking).\n",
    "    \"\"\"\n",
    "\n",
    "    n_states, n_frames = emission_probs.shape\n",
    "\n",
    "    if p_init is None:\n",
    "        p_init = np.ones(n_states) / n_states\n",
    "\n",
    "    # Convert input probabilities to log\n",
    "    log_emit = np.log(emission_probs + eps)\n",
    "    log_trans = np.log(transition_matrix + eps)\n",
    "    log_init = np.log(p_init + eps)\n",
    "\n",
    "    # Create storage\n",
    "    dp = np.zeros((n_states, n_frames), dtype=np.float64)  # log of best path so far\n",
    "    backpointer = np.zeros((n_states, n_frames), dtype=np.int32)\n",
    "\n",
    "    # Initialization: time t=0\n",
    "    dp[:, 0] = log_init + log_emit[:, 0]\n",
    "    backpointer[:, 0] = 0  # no predecessor for the first frame\n",
    "\n",
    "    # Forward pass\n",
    "    for t in range(1, n_frames):\n",
    "        for s in range(n_states):\n",
    "            # Possible log-probs if we end in state s at time t\n",
    "            candidates = dp[:, t-1] + log_trans[:, s]\n",
    "            best_prev = np.argmax(candidates)\n",
    "            dp[s, t] = candidates[best_prev] + log_emit[s, t]\n",
    "            backpointer[s, t] = best_prev\n",
    "\n",
    "    # Backtrack to find best path\n",
    "    best_path = np.zeros(n_frames, dtype=np.int32)\n",
    "    best_path[-1] = np.argmax(dp[:, -1])\n",
    "    for t in range(n_frames - 2, -1, -1):\n",
    "        best_path[t] = backpointer[best_path[t+1], t+1]\n",
    "\n",
    "    # Convert dp to a per-frame probability distribution by exponentiating\n",
    "    # and normalizing along the 'state' axis\n",
    "    state_probs = np.zeros_like(dp, dtype=np.float64)\n",
    "    for t in range(n_frames):\n",
    "        # shift by max log-prob to avoid underflow\n",
    "        row = dp[:, t]\n",
    "        row_max = np.max(row)\n",
    "        exp_row = np.exp(row - row_max)\n",
    "        state_probs[:, t] = exp_row / np.sum(exp_row)\n",
    "\n",
    "    return dp, backpointer, state_probs, best_path\n",
    "\n",
    "\n",
    "def estimate_cqt_bin_viterbi(\n",
    "    y,\n",
    "    sr=22050,\n",
    "    hop_length=512,\n",
    "    n_bins=50,\n",
    "    fmin=librosa.note_to_hz('C2'),\n",
    "    silence_threshold=0.01,  # total energy below which we strongly favor silence\n",
    "    stay_probability=0.9\n",
    "):\n",
    "    \"\"\"\n",
    "    Estimate the most likely CQT-bin sequence from an audio file, plus a\n",
    "    special silence state. Use librosa's built-in Viterbi for smoothing.\n",
    "\n",
    "    Parameters\n",
    "    ----------\n",
    "    audio_path : str\n",
    "        Path to the audio file.\n",
    "    sr : int\n",
    "        Sample rate for loading the audio.\n",
    "    hop_length : int\n",
    "        Hop length for the CQT.\n",
    "    n_bins : int\n",
    "        Number of frequency bins in the CQT.\n",
    "    fmin : float\n",
    "        Minimum frequency for the CQT.\n",
    "    silence_threshold : float\n",
    "        Frames whose total energy is below this threshold are dominated by the silence state.\n",
    "    stay_probability : float\n",
    "        Probability of staying in the same state (bin or silence). The remainder\n",
    "        is distributed across transitioning to all other states.\n",
    "\n",
    "    Returns\n",
    "    -------\n",
    "    state_sequence : np.ndarray [shape=(n_frames,)]\n",
    "        The best path of states (CQT bin indices plus one extra index for silence).\n",
    "        Indices 0..(n_bins-1) correspond to actual bins; index n_bins is silence.\n",
    "    path_log_probs : np.ndarray [shape=(n_frames,)]\n",
    "        The log-probability of the best path up to (and including) each frame.\n",
    "    emission_probs : np.ndarray [shape=(n_bins+1, n_frames)]\n",
    "        The per-frame emission probability of each bin and the silence state.\n",
    "\n",
    "    Notes\n",
    "    -----\n",
    "    - By default, `librosa.sequence.viterbi` expects probabilities in linear domain\n",
    "      (non-log). We will manually compute the log-likelihood of the best path after\n",
    "      we get the final state sequence.\n",
    "    - The silence state (index = n_bins) has no direct column in the input,\n",
    "      but we infer its emission probability by checking the total frame energy.\n",
    "    \"\"\"\n",
    "\n",
    "    ################################################################\n",
    "    # 1. Load audio and compute CQT magnitudes\n",
    "    ################################################################\n",
    "    cqt = librosa.cqt(y, sr=sr, hop_length=hop_length, n_bins=n_bins, fmin=fmin)\n",
    "    cqt_mag = np.abs(cqt)  # shape = (n_bins, n_frames)\n",
    "    n_frames = cqt_mag.shape[1]\n",
    "\n",
    "    ################################################################\n",
    "    # 2. Build emission probability matrix (n_bins + 1 states)\n",
    "    #    - last row is \"silence\"\n",
    "    ################################################################\n",
    "    n_states = n_bins + 1\n",
    "    silence_idx = n_bins\n",
    "\n",
    "    emission_probs = np.zeros((n_states, n_frames), dtype=np.float32)\n",
    "\n",
    "    for t in range(n_frames):\n",
    "        frame_energy = np.sum(cqt_mag[:, t])\n",
    "\n",
    "        if frame_energy < silence_threshold:\n",
    "            # If total energy is below threshold, strongly favor silence\n",
    "            # and place a minimal probability on actual bins\n",
    "            emission_probs[:n_bins, t] = 1e-10  # negligible\n",
    "            emission_probs[silence_idx, t] = 1.0\n",
    "        else:\n",
    "            # Distribute across the bins proportionally, plus a small portion for silence\n",
    "            emission_probs[:n_bins, t] = cqt_mag[:, t]\n",
    "\n",
    "            # Example: give silence a small probability if frame is not silent\n",
    "            # You can tune this constant or use a ratio\n",
    "            emission_probs[silence_idx, t] = 1e-6\n",
    "\n",
    "            # Normalize so sum of states = 1\n",
    "            col_sum = np.sum(emission_probs[:, t])\n",
    "            if col_sum > 0:\n",
    "                emission_probs[:, t] /= col_sum\n",
    "            else:\n",
    "                # fallback if no energy\n",
    "                emission_probs[silence_idx, t] = 1.0\n",
    "\n",
    "    ################################################################\n",
    "    # 3. Define a transition matrix for n_states = n_bins + 1\n",
    "    #    We'll have:\n",
    "    #      - High probability stay_probability to remain in the same state\n",
    "    #      - The remainder distributed equally among all other states\n",
    "    ################################################################\n",
    "    transition_matrix = np.zeros((n_states, n_states), dtype=np.float32)\n",
    "    # For each of the bin states\n",
    "    for i in range(n_bins):\n",
    "        transition_matrix[i, i] = stay_probability\n",
    "        # The fraction to distribute among other states\n",
    "        remain = (1.0 - stay_probability)\n",
    "        # We'll give an equal fraction to the other n_states - 1\n",
    "        transition_matrix[i, :] += remain / (n_states - 1)\n",
    "        # But this double-counted staying in the same state; revert it to the intended stay_probability\n",
    "        transition_matrix[i, i] = stay_probability\n",
    "\n",
    "    # For the silence state\n",
    "    transition_matrix[silence_idx, silence_idx] = stay_probability\n",
    "    remain_sil = (1.0 - stay_probability)\n",
    "    transition_matrix[silence_idx, :] += remain_sil / (n_states - 1)\n",
    "    # revert the diagonal to stay_probability\n",
    "    transition_matrix[silence_idx, silence_idx] = stay_probability\n",
    "\n",
    "    # Normalize each row (should already be ~1.0, but let's be safe)\n",
    "    for i in range(n_states):\n",
    "        row_sum = np.sum(transition_matrix[i, :])\n",
    "        if row_sum > 0:\n",
    "            transition_matrix[i, :] /= row_sum\n",
    "\n",
    "    ################################################################\n",
    "    # 4. Run Viterbi via librosa\n",
    "    ################################################################\n",
    "    # librosa.sequence.viterbi expects:\n",
    "    #    prob: shape=(n_states, n_steps) - each column is a probability distribution\n",
    "    #    transition: shape=(n_states, n_states)\n",
    "    # We can optionally specify p_init for initial distribution, e.g. uniform\n",
    "    p_init = np.ones(n_states, dtype=np.float32) / n_states\n",
    "    \n",
    "    return viterbi_dp(emission_probs, transition_matrix, p_init=p_init)[2]\n"
   ]
  },
  {
   "cell_type": "code",
   "execution_count": 10,
   "id": "fafcb966-7dc7-423a-bf6b-f961633ca6b3",
   "metadata": {},
   "outputs": [],
   "source": [
    "import librosa\n",
    "import soundfile as sf\n",
    "from resampy import resample\n",
    "from tqdm.notebook import tqdm\n",
    "\n",
    "def compute_cepstrum(audio, sr, n_fft=2048, hop_length=512):\n",
    "    \"\"\"\n",
    "    Compute the cepstrum of an audio signal.\n",
    "\n",
    "    Parameters:\n",
    "    - audio (numpy array): The audio signal.\n",
    "    - sr (int): Sampling rate of the audio signal.\n",
    "    - n_fft (int): Number of FFT components. Default is 2048.\n",
    "    - hop_length (int): Number of samples between successive frames. Default is 512.\n",
    "\n",
    "    Returns:\n",
    "    - cepstrum (numpy array): The computed cepstrum.\n",
    "    \"\"\"\n",
    "    # Compute the magnitude spectrogram\n",
    "    spectrogram = np.abs(librosa.stft(audio, n_fft=n_fft, hop_length=hop_length))\n",
    "\n",
    "    # Convert to log scale\n",
    "    log_spectrogram = np.log1p(spectrogram)\n",
    "\n",
    "    # Compute the inverse FFT of the log-spectrogram\n",
    "    cepstrum = np.fft.ifft(log_spectrogram, axis=0).real\n",
    "\n",
    "    return cepstrum\n",
    "\n",
    "\n",
    "def compute_cepstrum_over_cqt(y, sr=22050, hop_length=512, bins_per_octave=12, n_bins=84):\n",
    "    \"\"\"\n",
    "    Compute the cepstrum over the CQT of an audio signal.\n",
    "\n",
    "    Parameters:\n",
    "        audio_path (str): Path to the audio file.\n",
    "        sr (int): Sampling rate for the audio.\n",
    "        hop_length (int): Hop length for the CQT computation.\n",
    "        bins_per_octave (int): Number of bins per octave for CQT.\n",
    "        n_bins (int): Number of total bins for CQT.\n",
    "\n",
    "    Returns:\n",
    "        cqt_cepstrum (np.ndarray): Cepstrum computed from the CQT.\n",
    "    \"\"\"\n",
    "    # Compute the CQT of the signal\n",
    "    cqt = librosa.cqt(y, sr=sr, hop_length=hop_length, bins_per_octave=bins_per_octave, n_bins=n_bins)\n",
    "\n",
    "    # Compute the magnitude spectrum of the CQT\n",
    "    magnitude = np.abs(cqt)\n",
    "\n",
    "    # Compute the log of the magnitude\n",
    "    log_magnitude = np.log1p(magnitude)  # log1p for numerical stability\n",
    "\n",
    "    # Compute the cepstrum by applying IFFT to the log-magnitude spectrum\n",
    "    cqt_cepstrum = np.fft.irfft(log_magnitude, axis=0)\n",
    "\n",
    "    return cqt_cepstrum\n",
    "\n",
    "sr = 16000\n",
    "hop_length = 512\n",
    "n_mfcc = 13\n",
    "n_mels = 128\n",
    "n_bins = 84\n",
    "bins_per_octave = 12\n",
    "fmin = librosa.note_to_hz(\"C1\")\n",
    "\n",
    "\n",
    "def mel(audio):\n",
    "    # Calculate MelSpectrogram\n",
    "    mel_spectrogram = librosa.feature.melspectrogram(y=audio, sr=sr, n_mels=n_mels)\n",
    "    mel_spectrogram = librosa.power_to_db(mel_spectrogram, ref=np.max)  # Convert to decibel scale\n",
    "    return mel_spectrogram\n",
    "\n",
    "Extractor.register_extractor('mel', mel)\n",
    "# Extractor.register_extractor('cepstrum', lambda audio: compute_cepstrum(audio, sr=sr))\n",
    "# Extractor.register_extractor('chroma_cqt', lambda audio: librosa.feature.chroma_cqt(y=audio, sr=sr))\n",
    "# Extractor.register_extractor('ccqt', lambda audio: compute_cepstrum_over_cqt(y=audio, sr=sr))\n",
    "# Extractor.register_extractor('cqr_viterbi', lambda audio: estimate_cqt_bin_viterbi(y=audio, sr=sr))\n",
    "Extractor.register_extractor('cqt', lambda audio: np.abs(librosa.cqt(audio, sr=sr, hop_length=hop_length, fmin=fmin, bins_per_octave=bins_per_octave, n_bins=n_bins)))\n",
    "# Extractor.register_extractor('stft', lambda audio: librosa.stft(audio, hop_length=hop_length))\n",
    "Extractor.register_extractor('mfcc', lambda audio: librosa.feature.mfcc(y=audio, sr=sr, n_mfcc=n_mfcc))\n"
   ]
  },
  {
   "cell_type": "code",
   "execution_count": 11,
   "id": "925aff54-a495-4557-8975-e573bf48f98b",
   "metadata": {},
   "outputs": [
    {
     "data": {
      "application/vnd.jupyter.widget-view+json": {
       "model_id": "97226eea9f4044508ac867c5dfb6fcb7",
       "version_major": 2,
       "version_minor": 0
      },
      "text/plain": [
       "mel:   0%|          | 0/699 [00:00<?, ?it/s]"
      ]
     },
     "metadata": {},
     "output_type": "display_data"
    },
    {
     "data": {
      "application/vnd.jupyter.widget-view+json": {
       "model_id": "17d5120c7ab047b7851c725e7657f651",
       "version_major": 2,
       "version_minor": 0
      },
      "text/plain": [
       "cqt:   0%|          | 0/699 [00:00<?, ?it/s]"
      ]
     },
     "metadata": {},
     "output_type": "display_data"
    },
    {
     "data": {
      "application/vnd.jupyter.widget-view+json": {
       "model_id": "4eaa55ed63a847c98fa9ea77ef237238",
       "version_major": 2,
       "version_minor": 0
      },
      "text/plain": [
       "mfcc:   0%|          | 0/699 [00:00<?, ?it/s]"
      ]
     },
     "metadata": {},
     "output_type": "display_data"
    },
    {
     "data": {
      "application/vnd.jupyter.widget-view+json": {
       "model_id": "fb16d44bdeb44e019c2c8517972e2620",
       "version_major": 2,
       "version_minor": 0
      },
      "text/plain": [
       "mel:   0%|          | 0/300 [00:00<?, ?it/s]"
      ]
     },
     "metadata": {},
     "output_type": "display_data"
    },
    {
     "data": {
      "application/vnd.jupyter.widget-view+json": {
       "model_id": "f63ea6fe27544f47bac8ca0450717a08",
       "version_major": 2,
       "version_minor": 0
      },
      "text/plain": [
       "cqt:   0%|          | 0/300 [00:00<?, ?it/s]"
      ]
     },
     "metadata": {},
     "output_type": "display_data"
    },
    {
     "data": {
      "application/vnd.jupyter.widget-view+json": {
       "model_id": "0cc7d764fc634f6899732da9e5816138",
       "version_major": 2,
       "version_minor": 0
      },
      "text/plain": [
       "mfcc:   0%|          | 0/300 [00:00<?, ?it/s]"
      ]
     },
     "metadata": {},
     "output_type": "display_data"
    }
   ],
   "source": [
    "E_train.soft_extract()\n",
    "E_eval.soft_extract()"
   ]
  },
  {
   "cell_type": "code",
   "execution_count": 12,
   "id": "e2014469-6b29-480a-a919-03057c27e6cb",
   "metadata": {},
   "outputs": [],
   "source": [
    "import matplotlib.pyplot as plt"
   ]
  },
  {
   "cell_type": "code",
   "execution_count": 13,
   "id": "f3d88988-ce55-4fc3-b181-2cfaeeaf274b",
   "metadata": {},
   "outputs": [],
   "source": [
    "hop_length=512\n",
    "Extractor.register_extractor('bpm_beat', lambda audio: librosa.beat.beat_track(y=audio, sr=sr, hop_length=hop_length))\n",
    "Extractor.register_extractor('bpm', lambda bpm_beat: bpm_beat[0])\n",
    "Extractor.register_extractor('beat', lambda bpm_beat: bpm_beat[1])"
   ]
  },
  {
   "cell_type": "code",
   "execution_count": 14,
   "id": "15027598-f607-4097-9312-a0ae8e42f768",
   "metadata": {},
   "outputs": [
    {
     "data": {
      "application/vnd.jupyter.widget-view+json": {
       "model_id": "89c3dfa447b946c4a1f242b19ecb4a5f",
       "version_major": 2,
       "version_minor": 0
      },
      "text/plain": [
       "bpm_beat:   0%|          | 0/699 [00:00<?, ?it/s]"
      ]
     },
     "metadata": {},
     "output_type": "display_data"
    },
    {
     "data": {
      "application/vnd.jupyter.widget-view+json": {
       "model_id": "8ff7dd91728748e791e14b9d42216724",
       "version_major": 2,
       "version_minor": 0
      },
      "text/plain": [
       "bpm:   0%|          | 0/699 [00:00<?, ?it/s]"
      ]
     },
     "metadata": {},
     "output_type": "display_data"
    },
    {
     "data": {
      "application/vnd.jupyter.widget-view+json": {
       "model_id": "1179eabc9c6045b58d288df543510623",
       "version_major": 2,
       "version_minor": 0
      },
      "text/plain": [
       "beat:   0%|          | 0/699 [00:00<?, ?it/s]"
      ]
     },
     "metadata": {},
     "output_type": "display_data"
    },
    {
     "data": {
      "application/vnd.jupyter.widget-view+json": {
       "model_id": "9bc32a833a0c47f5a6cd3a219bf27936",
       "version_major": 2,
       "version_minor": 0
      },
      "text/plain": [
       "bpm_beat:   0%|          | 0/300 [00:00<?, ?it/s]"
      ]
     },
     "metadata": {},
     "output_type": "display_data"
    },
    {
     "data": {
      "application/vnd.jupyter.widget-view+json": {
       "model_id": "1edb33a9e2764c1782b69627f5aa0744",
       "version_major": 2,
       "version_minor": 0
      },
      "text/plain": [
       "bpm:   0%|          | 0/300 [00:00<?, ?it/s]"
      ]
     },
     "metadata": {},
     "output_type": "display_data"
    },
    {
     "data": {
      "application/vnd.jupyter.widget-view+json": {
       "model_id": "709cd76555a146f284f4860484476243",
       "version_major": 2,
       "version_minor": 0
      },
      "text/plain": [
       "beat:   0%|          | 0/300 [00:00<?, ?it/s]"
      ]
     },
     "metadata": {},
     "output_type": "display_data"
    }
   ],
   "source": [
    "E_train.soft_extract()\n",
    "E_eval.soft_extract()"
   ]
  },
  {
   "cell_type": "code",
   "execution_count": 15,
   "id": "1476f645-8857-45c2-9600-a472f649171a",
   "metadata": {},
   "outputs": [],
   "source": [
    "Extractor.register_extractor('cqt_hpss', lambda cqt: librosa.decompose.hpss(cqt))\n",
    "Extractor.register_extractor('harmonic', lambda cqt_hpss: cqt_hpss[0])\n",
    "Extractor.register_extractor('percussive', lambda cqt_hpss: cqt_hpss[1])"
   ]
  },
  {
   "cell_type": "code",
   "execution_count": 16,
   "id": "3ff04c83-d4e3-4c8b-a755-e2204fcfd015",
   "metadata": {},
   "outputs": [
    {
     "data": {
      "application/vnd.jupyter.widget-view+json": {
       "model_id": "87e94fefe6654961a21697ec0c887874",
       "version_major": 2,
       "version_minor": 0
      },
      "text/plain": [
       "cqt_hpss:   0%|          | 0/699 [00:00<?, ?it/s]"
      ]
     },
     "metadata": {},
     "output_type": "display_data"
    },
    {
     "data": {
      "application/vnd.jupyter.widget-view+json": {
       "model_id": "c334d19ebc8c4b489e8477c9e77b1275",
       "version_major": 2,
       "version_minor": 0
      },
      "text/plain": [
       "harmonic:   0%|          | 0/699 [00:00<?, ?it/s]"
      ]
     },
     "metadata": {},
     "output_type": "display_data"
    },
    {
     "data": {
      "application/vnd.jupyter.widget-view+json": {
       "model_id": "fade0dfd2e46439f959460b650612433",
       "version_major": 2,
       "version_minor": 0
      },
      "text/plain": [
       "percussive:   0%|          | 0/699 [00:00<?, ?it/s]"
      ]
     },
     "metadata": {},
     "output_type": "display_data"
    },
    {
     "data": {
      "application/vnd.jupyter.widget-view+json": {
       "model_id": "e0768d17d5fc483db4e3758b839f5509",
       "version_major": 2,
       "version_minor": 0
      },
      "text/plain": [
       "cqt_hpss:   0%|          | 0/300 [00:00<?, ?it/s]"
      ]
     },
     "metadata": {},
     "output_type": "display_data"
    },
    {
     "data": {
      "application/vnd.jupyter.widget-view+json": {
       "model_id": "3ce9fc4ec91e43cd85d283f560144af3",
       "version_major": 2,
       "version_minor": 0
      },
      "text/plain": [
       "harmonic:   0%|          | 0/300 [00:00<?, ?it/s]"
      ]
     },
     "metadata": {},
     "output_type": "display_data"
    },
    {
     "data": {
      "application/vnd.jupyter.widget-view+json": {
       "model_id": "17d3196faa4d466ca8f9baa99fd38e10",
       "version_major": 2,
       "version_minor": 0
      },
      "text/plain": [
       "percussive:   0%|          | 0/300 [00:00<?, ?it/s]"
      ]
     },
     "metadata": {},
     "output_type": "display_data"
    }
   ],
   "source": [
    "E_train.soft_extract()\n",
    "E_eval.soft_extract()"
   ]
  },
  {
   "cell_type": "code",
   "execution_count": 17,
   "id": "9c6a1c71-753e-4ed1-8d2d-5695c663b607",
   "metadata": {},
   "outputs": [
    {
     "data": {
      "text/plain": [
       "(0.0, 30.0)"
      ]
     },
     "execution_count": 17,
     "metadata": {},
     "output_type": "execute_result"
    },
    {
     "data": {
      "image/png": "[encoded data removed]",
      "text/plain": [
       "<Figure size 640x480 with 1 Axes>"
      ]
     },
     "metadata": {},
     "output_type": "display_data"
    }
   ],
   "source": [
    "plt.pcolor(E_train.features['percussive'][0])\n",
    "plt.vlines(E_train.features['beat'][0], 10, 30)\n",
    "plt.xlim(0, 200)\n",
    "plt.ylim(0, 30)"
   ]
  },
  {
   "cell_type": "markdown",
   "id": "ed7d1d16-45ff-475d-80ec-6fcb7264da1e",
   "metadata": {},
   "source": [
    "ChatGPT query\n",
    "\n",
    "Write a python function with a following signature\n",
    "\n",
    "```\n",
    "rnd = np.random.default_rng(42)\n",
    "def crop_by_beats(beat, harmony_specs, percussion_specs, frames_per_beat = 4, number_of_beats=16, number_of_samples=8)\n",
    "    pass\n",
    "```\n",
    "\n",
    "beats is the integer array of frames at which there was a beat\n",
    "upsample beats , for two neighboring values insert frames_per_beat-1 values between them uniformly cropped to the nearest frame\n",
    "\n",
    "Next number_of_samples times sample starting position in the upsampled beats array and take number_of_beats * frames_per_beat consequent beats. Position must be sampled aligned to number_of_beats * frames_per_beat.\n",
    "\n",
    "harmony_specs is a list of several spectrograms with harmonic parts of melody.\n",
    "for each of harmony spec calculate the mean along time axis (axis = 1) between the consequent beats of the sample including the frames at which there was a beat\n",
    "\n",
    "percussion_specs is a list of several spectrograms with percussion parts of melody. For each of percussion spec calculate the downsampled spectrogram as with harmony specs but shift the spectrogram so that the first sample was centered at the beat. The resulting length must be the same\n",
    "\n",
    "return list of tuples containing downsampled spectrograms"
   ]
  },
  {
   "cell_type": "code",
   "execution_count": 18,
   "id": "c6db06bb-4ad3-4406-86d5-a924add6b614",
   "metadata": {},
   "outputs": [],
   "source": [
    "rnd = np.random.default_rng(42)\n",
    "\n",
    "def crop_by_beats(\n",
    "    beat,\n",
    "    harmony_specs,\n",
    "    percussion_specs,\n",
    "    frames_per_beat=4,\n",
    "    number_of_beats=4,\n",
    "    number_of_samples=8\n",
    "):\n",
    "    \"\"\"\n",
    "    Upsample the array of integer beat positions and then randomly extract \n",
    "    (number_of_samples) chunks of length (number_of_beats * frames_per_beat).\n",
    "    \n",
    "    For each chunk, compute the downsampled spectrogram:\n",
    "      - For harmonic specs: take the mean along the time axis (axis=1) \n",
    "        between consecutive upsampled-beat boundaries.\n",
    "      - For percussion specs: take the mean along the time axis over intervals \n",
    "        shifted so that each is centered at the corresponding upsampled beat.\n",
    "    \n",
    "    Parameters\n",
    "    ----------\n",
    "    beat : 1D array-like of int\n",
    "        Array of frame indices at which a beat occurs. Must be strictly increasing.\n",
    "    harmony_specs : list of np.ndarray\n",
    "        Each element is a spectrogram for a harmonic component with shape \n",
    "        (freq_bins, time_frames).\n",
    "    percussion_specs : list of np.ndarray\n",
    "        Each element is a spectrogram for a percussion component with shape \n",
    "        (freq_bins, time_frames).\n",
    "    frames_per_beat : int\n",
    "        Number of subdivisions per original beat when upsampling.\n",
    "    number_of_beats : int\n",
    "        How many beats (in terms of upsampled subdivisions) to include in each chunk.\n",
    "    number_of_samples : int\n",
    "        How many random chunks to extract.\n",
    "    \n",
    "    Returns\n",
    "    -------\n",
    "    list of tuples\n",
    "        A list (of length `number_of_samples`). Each element is:\n",
    "        \n",
    "            (harmony_downsampled_list, percussion_downsampled_list)\n",
    "        \n",
    "        where `harmony_downsampled_list` and `percussion_downsampled_list` are each \n",
    "        lists of spectrograms (in the same order as `harmony_specs` and \n",
    "        `percussion_specs`). Each downsampled spectrogram has shape:\n",
    "        \n",
    "            (freq_bins, number_of_beats * frames_per_beat)\n",
    "    \"\"\"\n",
    "    \n",
    "    # 1) Upsample 'beat' by inserting (frames_per_beat - 1) points \n",
    "    #    uniformly between each pair of consecutive beats.\n",
    "    up_beats = []\n",
    "    beat = np.array(beat, dtype=int)\n",
    "    for i in range(len(beat) - 1):\n",
    "        start = beat[i]\n",
    "        end = beat[i + 1]\n",
    "        diff = end - start\n",
    "        \n",
    "        # Insert frames_per_beat subdivisions between start and end, \n",
    "        # snapping to the nearest integer frame.\n",
    "        for k in range(frames_per_beat):\n",
    "            val = start + round(k * diff / frames_per_beat)\n",
    "            # Avoid duplicates if rounding yields same as last appended\n",
    "            if not up_beats or val != up_beats[-1]:\n",
    "                up_beats.append(val)\n",
    "    \n",
    "    up_beats = np.array(up_beats, dtype=int)\n",
    "    \n",
    "    # 2) We need (number_of_beats * frames_per_beat + 1) upsampled-beat \n",
    "    #    positions for each chunk (the +1 is because we need the right boundary).\n",
    "    needed_length = number_of_beats * frames_per_beat + 1\n",
    "    total_upsampled = len(up_beats)\n",
    "    \n",
    "    # If we cannot extract even one chunk, return empty\n",
    "    max_start = total_upsampled - needed_length\n",
    "    if max_start < 0:\n",
    "        return []\n",
    "    \n",
    "    # Possible start indices must be multiples of (number_of_beats * frames_per_beat)\n",
    "    # so that each chunk is \"aligned\".\n",
    "    stride = number_of_beats * frames_per_beat\n",
    "    possible_starts = np.arange(0, max_start + 1, stride)\n",
    "    \n",
    "    # Randomly choose 'number_of_samples' start indices from these possibilities\n",
    "    chosen_starts = rnd.choice(possible_starts, size=number_of_samples, replace=True)\n",
    "    \n",
    "    results = []\n",
    "    for start_idx in chosen_starts:\n",
    "        # Boundaries for this sample\n",
    "        boundary_points = up_beats[start_idx : start_idx + needed_length]\n",
    "        # === 3) Downsample each harmony spec ===\n",
    "        harmony_downsampled = []\n",
    "        harmony_sampled = []\n",
    "        for spec in harmony_specs:\n",
    "            # spec has shape (freq_bins, time_frames)\n",
    "            freq_bins = spec.shape[0]\n",
    "            \n",
    "            # We'll get (number_of_beats * frames_per_beat) intervals\n",
    "            ds_harm = np.zeros((freq_bins, number_of_beats * frames_per_beat),\n",
    "                               dtype=spec.dtype)\n",
    "            for j in range(number_of_beats * frames_per_beat):\n",
    "                left = boundary_points[j]\n",
    "                right = boundary_points[j + 1]\n",
    "                # Take the average along axis=1 (time axis)\n",
    "                ds_harm[:, j] = spec[:, left:right].mean(axis=1)\n",
    "\n",
    "            harmony_downsampled.append(ds_harm)\n",
    "            harmony_sampled.append(spec[:,boundary_points[0]:boundary_points[-1]])\n",
    "        \n",
    "        # === 4) Downsample each percussion spec with centering ===\n",
    "        percussion_downsampled = []\n",
    "        percussion_sampled = []\n",
    "        for spec in percussion_specs:\n",
    "            \n",
    "            freq_bins = spec.shape[0]\n",
    "            ds_perc = np.zeros((freq_bins, number_of_beats * frames_per_beat),\n",
    "                               dtype=spec.dtype)\n",
    "\n",
    "            first_left = None\n",
    "            old_right = None\n",
    "            for j in range(number_of_beats * frames_per_beat):\n",
    "                dist = boundary_points[j + 1] - boundary_points[j]\n",
    "                right = boundary_points[j + 1] - dist // 2\n",
    "                if old_right is None:\n",
    "                    left = boundary_points[j] - dist // 2\n",
    "                    if left < 0:\n",
    "                        left = 0\n",
    "                    first_left = left\n",
    "                else:\n",
    "                    left = old_right\n",
    "                old_right = right\n",
    "\n",
    "                # Average over the time axis in [left, right)\n",
    "                chunk = spec[:, left:right]\n",
    "                ds_perc[:, j] = chunk.mean(axis=1)\n",
    "\n",
    "            percussion_downsampled.append(ds_perc)\n",
    "            percussion_sampled.append(spec[:,first_left:old_right])\n",
    "        \n",
    "        # One result entry = (list_of_downsampled_harmony_specs, list_of_downsampled_percussion_specs)\n",
    "        results.append((harmony_downsampled, percussion_downsampled, harmony_sampled, percussion_sampled))\n",
    "    return results"
   ]
  },
  {
   "cell_type": "code",
   "execution_count": 19,
   "id": "2f127a9d-846b-463b-a674-7295da842e3a",
   "metadata": {},
   "outputs": [],
   "source": [
    "Extractor.register_extractor('sample', \n",
    "                             lambda beat, cqt, harmonic, mfcc, percussive: \n",
    "                             crop_by_beats(\n",
    "                                 beat=beat, \n",
    "                                 harmony_specs=[cqt, harmonic, mfcc], \n",
    "                                 percussion_specs=[percussive]\n",
    "                             ), shuffle=True, map_labels=[\n",
    "                                 ('idx', 's_idx'), \n",
    "                                 ('y', 's_y'), \n",
    "                                 ('stats', 's_stats'), \n",
    "                                 ('bpm', 's_bpm'),\n",
    "                                 ('rms', 's_rms')\n",
    "                             ])\n",
    "Extractor.register_extractor('ds_cqt', lambda sample: sample[0][0])\n",
    "Extractor.register_extractor('ds_harmonic', lambda sample: sample[0][1])\n",
    "Extractor.register_extractor('ds_mfcc', lambda sample: sample[0][2])\n",
    "Extractor.register_extractor('ds_percussive', lambda sample: sample[1][0])\n",
    "Extractor.register_extractor('s_cqt', lambda sample: sample[2][0])\n",
    "Extractor.register_extractor('s_harmonic', lambda sample: sample[2][1])\n",
    "Extractor.register_extractor('s_mfcc', lambda sample: sample[2][2])\n",
    "Extractor.register_extractor('s_percussive', lambda sample: sample[3][0])"
   ]
  },
  {
   "cell_type": "code",
   "execution_count": 20,
   "id": "08d2c32d-712c-4928-9df0-0a93b73120c5",
   "metadata": {},
   "outputs": [
    {
     "data": {
      "application/vnd.jupyter.widget-view+json": {
       "model_id": "276645067d3b49c7a5266d6d41cbf9bb",
       "version_major": 2,
       "version_minor": 0
      },
      "text/plain": [
       "sample:   0%|          | 0/699 [00:00<?, ?it/s]"
      ]
     },
     "metadata": {},
     "output_type": "display_data"
    },
    {
     "data": {
      "application/vnd.jupyter.widget-view+json": {
       "model_id": "4f80e273e1b14676ac6ff5a8e9bfc5c8",
       "version_major": 2,
       "version_minor": 0
      },
      "text/plain": [
       "ds_cqt:   0%|          | 0/5592 [00:00<?, ?it/s]"
      ]
     },
     "metadata": {},
     "output_type": "display_data"
    },
    {
     "data": {
      "application/vnd.jupyter.widget-view+json": {
       "model_id": "a51bc0af7bfe437e9f0f1e06aad40544",
       "version_major": 2,
       "version_minor": 0
      },
      "text/plain": [
       "ds_harmonic:   0%|          | 0/5592 [00:00<?, ?it/s]"
      ]
     },
     "metadata": {},
     "output_type": "display_data"
    },
    {
     "data": {
      "application/vnd.jupyter.widget-view+json": {
       "model_id": "f160908c555e4f12bc3346146ee1b5d9",
       "version_major": 2,
       "version_minor": 0
      },
      "text/plain": [
       "ds_mfcc:   0%|          | 0/5592 [00:00<?, ?it/s]"
      ]
     },
     "metadata": {},
     "output_type": "display_data"
    },
    {
     "data": {
      "application/vnd.jupyter.widget-view+json": {
       "model_id": "09c5fa95a7f34faba9c319f09e85b9a9",
       "version_major": 2,
       "version_minor": 0
      },
      "text/plain": [
       "ds_percussive:   0%|          | 0/5592 [00:00<?, ?it/s]"
      ]
     },
     "metadata": {},
     "output_type": "display_data"
    },
    {
     "data": {
      "application/vnd.jupyter.widget-view+json": {
       "model_id": "fb715e31bc554cd9980570a88181b4b9",
       "version_major": 2,
       "version_minor": 0
      },
      "text/plain": [
       "s_cqt:   0%|          | 0/5592 [00:00<?, ?it/s]"
      ]
     },
     "metadata": {},
     "output_type": "display_data"
    },
    {
     "data": {
      "application/vnd.jupyter.widget-view+json": {
       "model_id": "4167ff9c41d94c9f8cfae5f8efff0df3",
       "version_major": 2,
       "version_minor": 0
      },
      "text/plain": [
       "s_harmonic:   0%|          | 0/5592 [00:00<?, ?it/s]"
      ]
     },
     "metadata": {},
     "output_type": "display_data"
    },
    {
     "data": {
      "application/vnd.jupyter.widget-view+json": {
       "model_id": "98362749fd0e4df9987fe788ea37ab3a",
       "version_major": 2,
       "version_minor": 0
      },
      "text/plain": [
       "s_mfcc:   0%|          | 0/5592 [00:00<?, ?it/s]"
      ]
     },
     "metadata": {},
     "output_type": "display_data"
    },
    {
     "data": {
      "application/vnd.jupyter.widget-view+json": {
       "model_id": "6c41cf0d5eb54137a9e75733f8c01601",
       "version_major": 2,
       "version_minor": 0
      },
      "text/plain": [
       "s_percussive:   0%|          | 0/5592 [00:00<?, ?it/s]"
      ]
     },
     "metadata": {},
     "output_type": "display_data"
    },
    {
     "data": {
      "application/vnd.jupyter.widget-view+json": {
       "model_id": "102d1c58065b4fe1ac8f281ff4f0e947",
       "version_major": 2,
       "version_minor": 0
      },
      "text/plain": [
       "sample:   0%|          | 0/300 [00:00<?, ?it/s]"
      ]
     },
     "metadata": {},
     "output_type": "display_data"
    },
    {
     "data": {
      "application/vnd.jupyter.widget-view+json": {
       "model_id": "bc17a7066a4b43449de3e0f2860b465f",
       "version_major": 2,
       "version_minor": 0
      },
      "text/plain": [
       "ds_cqt:   0%|          | 0/2400 [00:00<?, ?it/s]"
      ]
     },
     "metadata": {},
     "output_type": "display_data"
    },
    {
     "data": {
      "application/vnd.jupyter.widget-view+json": {
       "model_id": "1918a19a38db4660b0258c79fbe4ecb5",
       "version_major": 2,
       "version_minor": 0
      },
      "text/plain": [
       "ds_harmonic:   0%|          | 0/2400 [00:00<?, ?it/s]"
      ]
     },
     "metadata": {},
     "output_type": "display_data"
    },
    {
     "data": {
      "application/vnd.jupyter.widget-view+json": {
       "model_id": "eccaa09b654f498f90641bf406489f01",
       "version_major": 2,
       "version_minor": 0
      },
      "text/plain": [
       "ds_mfcc:   0%|          | 0/2400 [00:00<?, ?it/s]"
      ]
     },
     "metadata": {},
     "output_type": "display_data"
    },
    {
     "data": {
      "application/vnd.jupyter.widget-view+json": {
       "model_id": "8b7e8e96c62d4c75a9cad7f8a091bb01",
       "version_major": 2,
       "version_minor": 0
      },
      "text/plain": [
       "ds_percussive:   0%|          | 0/2400 [00:00<?, ?it/s]"
      ]
     },
     "metadata": {},
     "output_type": "display_data"
    },
    {
     "data": {
      "application/vnd.jupyter.widget-view+json": {
       "model_id": "ca1764b9330c49b1b15cdec52f28b995",
       "version_major": 2,
       "version_minor": 0
      },
      "text/plain": [
       "s_cqt:   0%|          | 0/2400 [00:00<?, ?it/s]"
      ]
     },
     "metadata": {},
     "output_type": "display_data"
    },
    {
     "data": {
      "application/vnd.jupyter.widget-view+json": {
       "model_id": "b1c2f1fe3ae74a9a8e32f648cd6774c9",
       "version_major": 2,
       "version_minor": 0
      },
      "text/plain": [
       "s_harmonic:   0%|          | 0/2400 [00:00<?, ?it/s]"
      ]
     },
     "metadata": {},
     "output_type": "display_data"
    },
    {
     "data": {
      "application/vnd.jupyter.widget-view+json": {
       "model_id": "773dec237b654187a77727be40e44727",
       "version_major": 2,
       "version_minor": 0
      },
      "text/plain": [
       "s_mfcc:   0%|          | 0/2400 [00:00<?, ?it/s]"
      ]
     },
     "metadata": {},
     "output_type": "display_data"
    },
    {
     "data": {
      "application/vnd.jupyter.widget-view+json": {
       "model_id": "2127f9ff61404b04830414755792c44b",
       "version_major": 2,
       "version_minor": 0
      },
      "text/plain": [
       "s_percussive:   0%|          | 0/2400 [00:00<?, ?it/s]"
      ]
     },
     "metadata": {},
     "output_type": "display_data"
    }
   ],
   "source": [
    "E_train.soft_extract()\n",
    "E_eval.soft_extract()"
   ]
  },
  {
   "cell_type": "code",
   "execution_count": 21,
   "id": "1026d150-35ad-4cd4-b44a-f3e75a8c03cb",
   "metadata": {},
   "outputs": [],
   "source": [
    "Extractor.register_extractor('cqt_per_freq_stats', \n",
    "                             lambda s_cqt: np.hstack([s_cqt.mean(axis=1), s_cqt.var(axis=1)]))\n",
    "Extractor.register_extractor('harmonic_per_freq_stats', \n",
    "                             lambda s_harmonic: np.hstack([s_harmonic.mean(axis=1), s_harmonic.var(axis=1)]))\n",
    "Extractor.register_extractor('percussive_per_freq_stats', \n",
    "                             lambda s_percussive: np.hstack([s_percussive.mean(axis=1), s_percussive.var(axis=1)]))\n",
    "Extractor.register_extractor('percussive_beat_frames', \n",
    "                             lambda ds_percussive: ds_percussive.mean(axis=0))"
   ]
  },
  {
   "cell_type": "code",
   "execution_count": 22,
   "id": "b471db37-be83-4d88-9feb-2fb4655e3cc0",
   "metadata": {},
   "outputs": [
    {
     "data": {
      "application/vnd.jupyter.widget-view+json": {
       "model_id": "89b0dcb09b0a47729842b6c3ca01622b",
       "version_major": 2,
       "version_minor": 0
      },
      "text/plain": [
       "cqt_per_freq_stats:   0%|          | 0/5592 [00:00<?, ?it/s]"
      ]
     },
     "metadata": {},
     "output_type": "display_data"
    },
    {
     "data": {
      "application/vnd.jupyter.widget-view+json": {
       "model_id": "6ff57c95ef104d1caa7bf4a3ef6bf0df",
       "version_major": 2,
       "version_minor": 0
      },
      "text/plain": [
       "harmonic_per_freq_stats:   0%|          | 0/5592 [00:00<?, ?it/s]"
      ]
     },
     "metadata": {},
     "output_type": "display_data"
    },
    {
     "data": {
      "application/vnd.jupyter.widget-view+json": {
       "model_id": "4c650fa7f5814dd1b7182ed3f609b3af",
       "version_major": 2,
       "version_minor": 0
      },
      "text/plain": [
       "percussive_per_freq_stats:   0%|          | 0/5592 [00:00<?, ?it/s]"
      ]
     },
     "metadata": {},
     "output_type": "display_data"
    },
    {
     "data": {
      "application/vnd.jupyter.widget-view+json": {
       "model_id": "4ffdcab0e04d47bf8363f46afd5c0564",
       "version_major": 2,
       "version_minor": 0
      },
      "text/plain": [
       "percussive_beat_frames:   0%|          | 0/5592 [00:00<?, ?it/s]"
      ]
     },
     "metadata": {},
     "output_type": "display_data"
    },
    {
     "data": {
      "application/vnd.jupyter.widget-view+json": {
       "model_id": "c332b72f9b134cd282b6f9cba88fcc1e",
       "version_major": 2,
       "version_minor": 0
      },
      "text/plain": [
       "cqt_per_freq_stats:   0%|          | 0/2400 [00:00<?, ?it/s]"
      ]
     },
     "metadata": {},
     "output_type": "display_data"
    },
    {
     "data": {
      "application/vnd.jupyter.widget-view+json": {
       "model_id": "a82e3bfad42141149d0e911dff93750c",
       "version_major": 2,
       "version_minor": 0
      },
      "text/plain": [
       "harmonic_per_freq_stats:   0%|          | 0/2400 [00:00<?, ?it/s]"
      ]
     },
     "metadata": {},
     "output_type": "display_data"
    },
    {
     "data": {
      "application/vnd.jupyter.widget-view+json": {
       "model_id": "9a8ffe75dc46436499df0c8bcecf4aaf",
       "version_major": 2,
       "version_minor": 0
      },
      "text/plain": [
       "percussive_per_freq_stats:   0%|          | 0/2400 [00:00<?, ?it/s]"
      ]
     },
     "metadata": {},
     "output_type": "display_data"
    },
    {
     "data": {
      "application/vnd.jupyter.widget-view+json": {
       "model_id": "c34aaeb8a62243aa8ad8c34705cfc15c",
       "version_major": 2,
       "version_minor": 0
      },
      "text/plain": [
       "percussive_beat_frames:   0%|          | 0/2400 [00:00<?, ?it/s]"
      ]
     },
     "metadata": {},
     "output_type": "display_data"
    }
   ],
   "source": [
    "E_train.soft_extract()\n",
    "E_eval.soft_extract()"
   ]
  },
  {
   "cell_type": "code",
   "execution_count": 23,
   "id": "644ef256-d4d3-4790-ba47-cfe7e1d61b9d",
   "metadata": {},
   "outputs": [
    {
     "data": {
      "application/vnd.jupyter.widget-view+json": {
       "model_id": "22374fac587b4f4abd180a2d2d7e7546",
       "version_major": 2,
       "version_minor": 0
      },
      "text/plain": [
       "MetricVisualizer(layout=Layout(align_self='stretch', height='500px'))"
      ]
     },
     "metadata": {},
     "output_type": "display_data"
    },
    {
     "name": "stdout",
     "output_type": "stream",
     "text": [
      "0:\tlearn: 0.2948856\ttest: 0.3000000\tbest: 0.3000000 (0)\ttotal: 116ms\tremaining: 57.7s\n",
      "50:\tlearn: 0.6022890\ttest: 0.5291667\tbest: 0.5291667 (50)\ttotal: 1.53s\tremaining: 13.5s\n",
      "100:\tlearn: 0.6945637\ttest: 0.5795833\tbest: 0.5795833 (100)\ttotal: 2.89s\tremaining: 11.4s\n",
      "150:\tlearn: 0.7594778\ttest: 0.6012500\tbest: 0.6025000 (145)\ttotal: 4.15s\tremaining: 9.59s\n",
      "200:\tlearn: 0.8006080\ttest: 0.6187500\tbest: 0.6187500 (200)\ttotal: 5.53s\tremaining: 8.22s\n",
      "250:\tlearn: 0.8306509\ttest: 0.6354167\tbest: 0.6383333 (236)\ttotal: 6.79s\tremaining: 6.73s\n",
      "300:\tlearn: 0.8512160\ttest: 0.6466667\tbest: 0.6470833 (298)\ttotal: 8.05s\tremaining: 5.32s\n",
      "350:\tlearn: 0.8683834\ttest: 0.6470833\tbest: 0.6500000 (329)\ttotal: 9.31s\tremaining: 3.95s\n",
      "400:\tlearn: 0.8875179\ttest: 0.6541667\tbest: 0.6541667 (377)\ttotal: 10.7s\tremaining: 2.65s\n",
      "450:\tlearn: 0.8989628\ttest: 0.6650000\tbest: 0.6650000 (447)\ttotal: 12s\tremaining: 1.31s\n",
      "499:\tlearn: 0.9116595\ttest: 0.6695833\tbest: 0.6704167 (492)\ttotal: 13.3s\tremaining: 0us\n",
      "\n",
      "bestTest = 0.6704166667\n",
      "bestIteration = 492\n",
      "\n",
      "Shrink model to first 493 iterations.\n",
      "\n",
      "Classification Report:\n",
      "               precision    recall  f1-score   support\n",
      "\n",
      "       blues       0.87      0.67      0.75        30\n",
      "   classical       0.83      0.97      0.89        30\n",
      "     country       0.71      0.80      0.75        30\n",
      "       disco       0.82      0.60      0.69        30\n",
      "      hiphop       0.69      0.73      0.71        30\n",
      "        jazz       0.80      0.80      0.80        30\n",
      "       metal       0.71      0.73      0.72        30\n",
      "         pop       0.64      0.70      0.67        30\n",
      "      reggae       0.66      0.77      0.71        30\n",
      "        rock       0.60      0.50      0.55        30\n",
      "\n",
      "    accuracy                           0.73       300\n",
      "   macro avg       0.73      0.73      0.72       300\n",
      "weighted avg       0.73      0.73      0.72       300\n",
      "\n",
      "Evaluation Accuracy: 0.7267\n"
     ]
    }
   ],
   "source": [
    "features = ['cqt_per_freq_stats', 'harmonic_per_freq_stats', 'percussive_per_freq_stats', 'percussive_beat_frames']\n",
    "model, acc = train_and_evaluate_catboost(\n",
    "    idx_eval=E_eval.get_features(['s_idx'])[:,0],\n",
    "    X_train=E_train.get_features(features),\n",
    "    X_eval=E_eval.get_features(features),\n",
    "    y_train=E_train.get_features(['s_y'])[:,0], \n",
    "    y_eval=E_eval.get_features(['s_y'])[:,0]\n",
    ")"
   ]
  },
  {
   "cell_type": "code",
   "execution_count": 24,
   "id": "14c48a78-b01c-4aa6-835e-a98ab7cff752",
   "metadata": {},
   "outputs": [
    {
     "data": {
      "text/html": [
       "<div>\n",
       "<style scoped>\n",
       "    .dataframe tbody tr th:only-of-type {\n",
       "        vertical-align: middle;\n",
       "    }\n",
       "\n",
       "    .dataframe tbody tr th {\n",
       "        vertical-align: top;\n",
       "    }\n",
       "\n",
       "    .dataframe thead th {\n",
       "        text-align: right;\n",
       "    }\n",
       "</style>\n",
       "<table border=\"1\" class=\"dataframe\">\n",
       "  <thead>\n",
       "    <tr style=\"text-align: right;\">\n",
       "      <th></th>\n",
       "      <th>importance</th>\n",
       "    </tr>\n",
       "  </thead>\n",
       "  <tbody>\n",
       "    <tr>\n",
       "      <th>percussive_per_freq_stats_100</th>\n",
       "      <td>2.564481</td>\n",
       "    </tr>\n",
       "    <tr>\n",
       "      <th>percussive_per_freq_stats_13</th>\n",
       "      <td>1.620503</td>\n",
       "    </tr>\n",
       "    <tr>\n",
       "      <th>percussive_per_freq_stats_7</th>\n",
       "      <td>1.431737</td>\n",
       "    </tr>\n",
       "    <tr>\n",
       "      <th>percussive_per_freq_stats_105</th>\n",
       "      <td>1.380192</td>\n",
       "    </tr>\n",
       "    <tr>\n",
       "      <th>percussive_per_freq_stats_99</th>\n",
       "      <td>1.227396</td>\n",
       "    </tr>\n",
       "    <tr>\n",
       "      <th>percussive_per_freq_stats_111</th>\n",
       "      <td>1.148929</td>\n",
       "    </tr>\n",
       "    <tr>\n",
       "      <th>harmonic_per_freq_stats_27</th>\n",
       "      <td>1.085616</td>\n",
       "    </tr>\n",
       "    <tr>\n",
       "      <th>percussive_per_freq_stats_112</th>\n",
       "      <td>1.035897</td>\n",
       "    </tr>\n",
       "    <tr>\n",
       "      <th>harmonic_per_freq_stats_76</th>\n",
       "      <td>1.029314</td>\n",
       "    </tr>\n",
       "    <tr>\n",
       "      <th>percussive_per_freq_stats_107</th>\n",
       "      <td>1.015384</td>\n",
       "    </tr>\n",
       "    <tr>\n",
       "      <th>percussive_beat_frames_0</th>\n",
       "      <td>1.005005</td>\n",
       "    </tr>\n",
       "    <tr>\n",
       "      <th>percussive_beat_frames_12</th>\n",
       "      <td>0.947880</td>\n",
       "    </tr>\n",
       "    <tr>\n",
       "      <th>harmonic_per_freq_stats_75</th>\n",
       "      <td>0.929650</td>\n",
       "    </tr>\n",
       "    <tr>\n",
       "      <th>harmonic_per_freq_stats_80</th>\n",
       "      <td>0.927854</td>\n",
       "    </tr>\n",
       "    <tr>\n",
       "      <th>harmonic_per_freq_stats_90</th>\n",
       "      <td>0.884297</td>\n",
       "    </tr>\n",
       "  </tbody>\n",
       "</table>\n",
       "</div>"
      ],
      "text/plain": [
       "                               importance\n",
       "percussive_per_freq_stats_100    2.564481\n",
       "percussive_per_freq_stats_13     1.620503\n",
       "percussive_per_freq_stats_7      1.431737\n",
       "percussive_per_freq_stats_105    1.380192\n",
       "percussive_per_freq_stats_99     1.227396\n",
       "percussive_per_freq_stats_111    1.148929\n",
       "harmonic_per_freq_stats_27       1.085616\n",
       "percussive_per_freq_stats_112    1.035897\n",
       "harmonic_per_freq_stats_76       1.029314\n",
       "percussive_per_freq_stats_107    1.015384\n",
       "percussive_beat_frames_0         1.005005\n",
       "percussive_beat_frames_12        0.947880\n",
       "harmonic_per_freq_stats_75       0.929650\n",
       "harmonic_per_freq_stats_80       0.927854\n",
       "harmonic_per_freq_stats_90       0.884297"
      ]
     },
     "execution_count": 24,
     "metadata": {},
     "output_type": "execute_result"
    }
   ],
   "source": [
    "pd.DataFrame(\n",
    "    data=model.feature_importances_, \n",
    "    index=E_train.get_feature_names_vector(features), \n",
    "    columns=['importance']\n",
    ").sort_values(by='importance', ascending=False).head(15)"
   ]
  },
  {
   "cell_type": "code",
   "execution_count": 25,
   "id": "02bb29bb-9873-4ce1-a9ee-0fd7c07d9bf5",
   "metadata": {},
   "outputs": [
    {
     "data": {
      "image/png": "[encoded data removed]",
      "text/plain": [
       "<Figure size 1000x700 with 9 Axes>"
      ]
     },
     "metadata": {},
     "output_type": "display_data"
    }
   ],
   "source": [
    "# It looks like the one of the most important features are high frequencies of drums, which is the last thing I expected. Lets check pictures:\n",
    "s_y = E_train.get_features(['s_y'])[:, 0]\n",
    "jazz_idx = np.where(s_y == 'jazz')[0][:3]\n",
    "rock_idx = np.where(s_y == 'rock')[0][:3]\n",
    "hip_hop_idx = np.where(s_y == 'hiphop')[0][:3]\n",
    "\n",
    "plt.figure().set_size_inches(10, 7)\n",
    "for pos, idx in enumerate(np.hstack([jazz_idx, rock_idx, hip_hop_idx])):\n",
    "    plt.subplot(3, 3, pos + 1)\n",
    "    plt.plot(E_train.features['percussive_per_freq_stats'][idx])"
   ]
  },
  {
   "cell_type": "code",
   "execution_count": 26,
   "id": "cc85719d-ff24-45e1-b0d1-9b12f1970add",
   "metadata": {},
   "outputs": [
    {
     "data": {
      "application/vnd.jupyter.widget-view+json": {
       "model_id": "e991aef1cd5149f99fec2ac4d75d2421",
       "version_major": 2,
       "version_minor": 0
      },
      "text/plain": [
       "MetricVisualizer(layout=Layout(align_self='stretch', height='500px'))"
      ]
     },
     "metadata": {},
     "output_type": "display_data"
    },
    {
     "name": "stdout",
     "output_type": "stream",
     "text": [
      "0:\tlearn: 0.3206366\ttest: 0.3150000\tbest: 0.3150000 (0)\ttotal: 93.3ms\tremaining: 46.5s\n",
      "50:\tlearn: 0.6251788\ttest: 0.5395833\tbest: 0.5395833 (50)\ttotal: 1.46s\tremaining: 12.9s\n",
      "100:\tlearn: 0.7192418\ttest: 0.5887500\tbest: 0.5887500 (100)\ttotal: 2.91s\tremaining: 11.5s\n",
      "150:\tlearn: 0.7787911\ttest: 0.6129167\tbest: 0.6141667 (143)\ttotal: 4.62s\tremaining: 10.7s\n",
      "200:\tlearn: 0.8217096\ttest: 0.6308333\tbest: 0.6308333 (200)\ttotal: 6.14s\tremaining: 9.14s\n",
      "250:\tlearn: 0.8447783\ttest: 0.6441667\tbest: 0.6441667 (248)\ttotal: 7.48s\tremaining: 7.42s\n",
      "300:\tlearn: 0.8708870\ttest: 0.6537500\tbest: 0.6625000 (293)\ttotal: 8.96s\tremaining: 5.92s\n",
      "350:\tlearn: 0.8885908\ttest: 0.6670833\tbest: 0.6679167 (349)\ttotal: 10.5s\tremaining: 4.47s\n",
      "400:\tlearn: 0.8982475\ttest: 0.6729167\tbest: 0.6758333 (395)\ttotal: 11.9s\tremaining: 2.93s\n",
      "450:\tlearn: 0.9111230\ttest: 0.6720833\tbest: 0.6758333 (395)\ttotal: 13.3s\tremaining: 1.44s\n",
      "499:\tlearn: 0.9209585\ttest: 0.6800000\tbest: 0.6812500 (481)\ttotal: 14.7s\tremaining: 0us\n",
      "\n",
      "bestTest = 0.68125\n",
      "bestIteration = 481\n",
      "\n",
      "Shrink model to first 482 iterations.\n",
      "\n",
      "Classification Report:\n",
      "               precision    recall  f1-score   support\n",
      "\n",
      "       blues       0.83      0.67      0.74        30\n",
      "   classical       0.83      0.97      0.89        30\n",
      "     country       0.82      0.77      0.79        30\n",
      "       disco       0.76      0.63      0.69        30\n",
      "      hiphop       0.71      0.73      0.72        30\n",
      "        jazz       0.81      0.83      0.82        30\n",
      "       metal       0.71      0.73      0.72        30\n",
      "         pop       0.61      0.73      0.67        30\n",
      "      reggae       0.71      0.80      0.75        30\n",
      "        rock       0.56      0.47      0.51        30\n",
      "\n",
      "    accuracy                           0.73       300\n",
      "   macro avg       0.73      0.73      0.73       300\n",
      "weighted avg       0.73      0.73      0.73       300\n",
      "\n",
      "Evaluation Accuracy: 0.7333\n"
     ]
    }
   ],
   "source": [
    "# Lets add BPM and RMS\n",
    "\n",
    "features = ['s_rms', 's_bpm', 'cqt_per_freq_stats', 'harmonic_per_freq_stats', 'percussive_per_freq_stats', 'percussive_beat_frames']\n",
    "model, acc = train_and_evaluate_catboost(\n",
    "    idx_eval=E_eval.get_features(['s_idx'])[:,0],\n",
    "    X_train=E_train.get_features(features),\n",
    "    X_eval=E_eval.get_features(features),\n",
    "    y_train=E_train.get_features(['s_y'])[:,0], \n",
    "    y_eval=E_eval.get_features(['s_y'])[:,0]\n",
    ")"
   ]
  },
  {
   "cell_type": "code",
   "execution_count": 27,
   "id": "374ecf68-70ea-43ce-b820-bff26fad26bb",
   "metadata": {},
   "outputs": [
    {
     "data": {
      "text/html": [
       "<div>\n",
       "<style scoped>\n",
       "    .dataframe tbody tr th:only-of-type {\n",
       "        vertical-align: middle;\n",
       "    }\n",
       "\n",
       "    .dataframe tbody tr th {\n",
       "        vertical-align: top;\n",
       "    }\n",
       "\n",
       "    .dataframe thead th {\n",
       "        text-align: right;\n",
       "    }\n",
       "</style>\n",
       "<table border=\"1\" class=\"dataframe\">\n",
       "  <thead>\n",
       "    <tr style=\"text-align: right;\">\n",
       "      <th></th>\n",
       "      <th>importance</th>\n",
       "    </tr>\n",
       "  </thead>\n",
       "  <tbody>\n",
       "    <tr>\n",
       "      <th>s_rms_0</th>\n",
       "      <td>4.230305</td>\n",
       "    </tr>\n",
       "    <tr>\n",
       "      <th>s_bpm_0</th>\n",
       "      <td>4.185371</td>\n",
       "    </tr>\n",
       "    <tr>\n",
       "      <th>percussive_per_freq_stats_99</th>\n",
       "      <td>2.076061</td>\n",
       "    </tr>\n",
       "    <tr>\n",
       "      <th>cqt_per_freq_stats_92</th>\n",
       "      <td>1.985844</td>\n",
       "    </tr>\n",
       "    <tr>\n",
       "      <th>percussive_per_freq_stats_17</th>\n",
       "      <td>1.548966</td>\n",
       "    </tr>\n",
       "    <tr>\n",
       "      <th>percussive_per_freq_stats_106</th>\n",
       "      <td>1.418831</td>\n",
       "    </tr>\n",
       "    <tr>\n",
       "      <th>percussive_per_freq_stats_111</th>\n",
       "      <td>1.362312</td>\n",
       "    </tr>\n",
       "    <tr>\n",
       "      <th>percussive_per_freq_stats_97</th>\n",
       "      <td>1.253861</td>\n",
       "    </tr>\n",
       "    <tr>\n",
       "      <th>harmonic_per_freq_stats_83</th>\n",
       "      <td>1.237103</td>\n",
       "    </tr>\n",
       "    <tr>\n",
       "      <th>cqt_per_freq_stats_90</th>\n",
       "      <td>1.183914</td>\n",
       "    </tr>\n",
       "    <tr>\n",
       "      <th>harmonic_per_freq_stats_79</th>\n",
       "      <td>1.131092</td>\n",
       "    </tr>\n",
       "    <tr>\n",
       "      <th>harmonic_per_freq_stats_27</th>\n",
       "      <td>1.128572</td>\n",
       "    </tr>\n",
       "    <tr>\n",
       "      <th>percussive_per_freq_stats_103</th>\n",
       "      <td>1.102286</td>\n",
       "    </tr>\n",
       "    <tr>\n",
       "      <th>percussive_beat_frames_0</th>\n",
       "      <td>1.089128</td>\n",
       "    </tr>\n",
       "    <tr>\n",
       "      <th>harmonic_per_freq_stats_74</th>\n",
       "      <td>1.081355</td>\n",
       "    </tr>\n",
       "  </tbody>\n",
       "</table>\n",
       "</div>"
      ],
      "text/plain": [
       "                               importance\n",
       "s_rms_0                          4.230305\n",
       "s_bpm_0                          4.185371\n",
       "percussive_per_freq_stats_99     2.076061\n",
       "cqt_per_freq_stats_92            1.985844\n",
       "percussive_per_freq_stats_17     1.548966\n",
       "percussive_per_freq_stats_106    1.418831\n",
       "percussive_per_freq_stats_111    1.362312\n",
       "percussive_per_freq_stats_97     1.253861\n",
       "harmonic_per_freq_stats_83       1.237103\n",
       "cqt_per_freq_stats_90            1.183914\n",
       "harmonic_per_freq_stats_79       1.131092\n",
       "harmonic_per_freq_stats_27       1.128572\n",
       "percussive_per_freq_stats_103    1.102286\n",
       "percussive_beat_frames_0         1.089128\n",
       "harmonic_per_freq_stats_74       1.081355"
      ]
     },
     "execution_count": 27,
     "metadata": {},
     "output_type": "execute_result"
    }
   ],
   "source": [
    "pd.DataFrame(\n",
    "    data=model.feature_importances_, \n",
    "    index=E_train.get_feature_names_vector(features), \n",
    "    columns=['importance']\n",
    ").sort_values(by='importance', ascending=False).head(15)"
   ]
  },
  {
   "cell_type": "markdown",
   "id": "0dd9e048-c0f4-4fbe-ae9c-89e46ff3101b",
   "metadata": {},
   "source": [
    "Common to all splits features look more important to catboost (as they contain data about whole sample).\n",
    "But we will calculate majority over samples, and using common features sploils the whole bagging idea.\n",
    "Luckily it is possible to specify feature weights in catboost"
   ]
  },
  {
   "cell_type": "code",
   "execution_count": 28,
   "id": "8b70a37b-9b88-4c0a-b8fa-45dcd8fad0dd",
   "metadata": {},
   "outputs": [],
   "source": [
    "# ChatGPT query:\n",
    "#\n",
    "# I have an array with feature names and I want to generate weights for the features. Some of the feature names look like <name>_<index>. \n",
    "# I want to make a function receiving a dict with prefixes and corresponding feature weights. \n",
    "# It should return the np.array of the same shape as feature_names, containing weights. \n",
    "# If the feature name starts with prefix from the dict then the weight has to be taken from the dict, otherwise it has to be 1. \n",
    "# Here is the signature:\n",
    "# \n",
    "# def assign_feature_weights(feature_names: np.ndarray, weights: dict[str, int]) -> np.ndarray:\n",
    "#     pass\n",
    "\n",
    "import numpy as np\n",
    "\n",
    "def assign_feature_weights(feature_names: np.ndarray, weights: dict[str, float]) -> np.ndarray:\n",
    "    \"\"\"\n",
    "    Assign weights to features based on given prefixes.\n",
    "    \n",
    "    Parameters\n",
    "    ----------\n",
    "    feature_names : np.ndarray\n",
    "        Array of feature names.\n",
    "    weights : dict[str, float]\n",
    "        Dictionary mapping a prefix (string) to a weight (float).\n",
    "        \n",
    "    Returns\n",
    "    -------\n",
    "    np.ndarray\n",
    "        An array of the same shape as `feature_names` containing the assigned weights. \n",
    "        If a feature name starts with any prefix in `weights`, the corresponding weight \n",
    "        is used. Otherwise, the weight is 1.0.\n",
    "    \"\"\"\n",
    "    result_weights = np.ones_like(feature_names, dtype=float)  # default is 1.0\n",
    "    \n",
    "    for i, fname in enumerate(feature_names):\n",
    "        for prefix, w in weights.items():\n",
    "            if fname.startswith(prefix):\n",
    "                result_weights[i] = w\n",
    "                break  # Stop at the first matching prefix\n",
    "\n",
    "    return result_weights\n"
   ]
  },
  {
   "cell_type": "code",
   "execution_count": 29,
   "id": "3dd1ba4c-e78e-4231-9491-aeb1a19842f5",
   "metadata": {},
   "outputs": [
    {
     "data": {
      "application/vnd.jupyter.widget-view+json": {
       "model_id": "60acbfd0e0de42358dbf9b86a2f236bb",
       "version_major": 2,
       "version_minor": 0
      },
      "text/plain": [
       "MetricVisualizer(layout=Layout(align_self='stretch', height='500px'))"
      ]
     },
     "metadata": {},
     "output_type": "display_data"
    },
    {
     "name": "stdout",
     "output_type": "stream",
     "text": [
      "0:\tlearn: 0.3206366\ttest: 0.3150000\tbest: 0.3150000 (0)\ttotal: 64.2ms\tremaining: 32.1s\n",
      "50:\tlearn: 0.6264306\ttest: 0.5291667\tbest: 0.5291667 (50)\ttotal: 1.56s\tremaining: 13.8s\n",
      "100:\tlearn: 0.7131617\ttest: 0.5929167\tbest: 0.5929167 (99)\ttotal: 3.06s\tremaining: 12.1s\n",
      "150:\tlearn: 0.7702074\ttest: 0.6270833\tbest: 0.6279167 (143)\ttotal: 4.6s\tremaining: 10.6s\n",
      "200:\tlearn: 0.8165236\ttest: 0.6412500\tbest: 0.6412500 (200)\ttotal: 5.99s\tremaining: 8.9s\n",
      "250:\tlearn: 0.8437053\ttest: 0.6479167\tbest: 0.6512500 (249)\ttotal: 7.35s\tremaining: 7.29s\n",
      "300:\tlearn: 0.8657010\ttest: 0.6666667\tbest: 0.6666667 (300)\ttotal: 8.8s\tremaining: 5.82s\n",
      "350:\tlearn: 0.8794707\ttest: 0.6658333\tbest: 0.6691667 (311)\ttotal: 10.2s\tremaining: 4.33s\n",
      "400:\tlearn: 0.8952074\ttest: 0.6733333\tbest: 0.6750000 (399)\ttotal: 11.6s\tremaining: 2.87s\n",
      "450:\tlearn: 0.9071888\ttest: 0.6741667\tbest: 0.6770833 (427)\ttotal: 13.1s\tremaining: 1.42s\n",
      "499:\tlearn: 0.9129113\ttest: 0.6770833\tbest: 0.6808333 (490)\ttotal: 14.4s\tremaining: 0us\n",
      "\n",
      "bestTest = 0.6808333333\n",
      "bestIteration = 490\n",
      "\n",
      "Shrink model to first 491 iterations.\n",
      "\n",
      "Classification Report:\n",
      "               precision    recall  f1-score   support\n",
      "\n",
      "       blues       0.77      0.67      0.71        30\n",
      "   classical       0.85      0.97      0.91        30\n",
      "     country       0.71      0.73      0.72        30\n",
      "       disco       0.87      0.67      0.75        30\n",
      "      hiphop       0.71      0.67      0.69        30\n",
      "        jazz       0.74      0.83      0.78        30\n",
      "       metal       0.77      0.77      0.77        30\n",
      "         pop       0.62      0.70      0.66        30\n",
      "      reggae       0.66      0.77      0.71        30\n",
      "        rock       0.68      0.57      0.62        30\n",
      "\n",
      "    accuracy                           0.73       300\n",
      "   macro avg       0.74      0.73      0.73       300\n",
      "weighted avg       0.74      0.73      0.73       300\n",
      "\n",
      "Evaluation Accuracy: 0.7333\n"
     ]
    }
   ],
   "source": [
    "features = ['s_rms', 's_bpm', 'cqt_per_freq_stats', 'harmonic_per_freq_stats', 'percussive_per_freq_stats', 'percussive_beat_frames']\n",
    "weights = assign_feature_weights(E_train.get_feature_names_vector(features), dict(s_rms=0.7, s_bpm=0.7))\n",
    "model, acc = train_and_evaluate_catboost(\n",
    "    idx_eval=E_eval.get_features(['s_idx'])[:,0],\n",
    "    X_train=E_train.get_features(features),\n",
    "    X_eval=E_eval.get_features(features),\n",
    "    y_train=E_train.get_features(['s_y'])[:,0], \n",
    "    y_eval=E_eval.get_features(['s_y'])[:,0],\n",
    "    feature_weights=weights\n",
    ")"
   ]
  },
  {
   "cell_type": "code",
   "execution_count": 30,
   "id": "eb53fe63-17ff-40d4-af4d-52feba3fc602",
   "metadata": {},
   "outputs": [
    {
     "data": {
      "text/html": [
       "<div>\n",
       "<style scoped>\n",
       "    .dataframe tbody tr th:only-of-type {\n",
       "        vertical-align: middle;\n",
       "    }\n",
       "\n",
       "    .dataframe tbody tr th {\n",
       "        vertical-align: top;\n",
       "    }\n",
       "\n",
       "    .dataframe thead th {\n",
       "        text-align: right;\n",
       "    }\n",
       "</style>\n",
       "<table border=\"1\" class=\"dataframe\">\n",
       "  <thead>\n",
       "    <tr style=\"text-align: right;\">\n",
       "      <th></th>\n",
       "      <th>importance</th>\n",
       "    </tr>\n",
       "  </thead>\n",
       "  <tbody>\n",
       "    <tr>\n",
       "      <th>percussive_per_freq_stats_99</th>\n",
       "      <td>2.464929</td>\n",
       "    </tr>\n",
       "    <tr>\n",
       "      <th>cqt_per_freq_stats_92</th>\n",
       "      <td>1.930682</td>\n",
       "    </tr>\n",
       "    <tr>\n",
       "      <th>percussive_per_freq_stats_106</th>\n",
       "      <td>1.794833</td>\n",
       "    </tr>\n",
       "    <tr>\n",
       "      <th>s_bpm_0</th>\n",
       "      <td>1.708981</td>\n",
       "    </tr>\n",
       "    <tr>\n",
       "      <th>percussive_per_freq_stats_111</th>\n",
       "      <td>1.686279</td>\n",
       "    </tr>\n",
       "    <tr>\n",
       "      <th>percussive_per_freq_stats_17</th>\n",
       "      <td>1.673735</td>\n",
       "    </tr>\n",
       "    <tr>\n",
       "      <th>harmonic_per_freq_stats_83</th>\n",
       "      <td>1.611030</td>\n",
       "    </tr>\n",
       "    <tr>\n",
       "      <th>harmonic_per_freq_stats_79</th>\n",
       "      <td>1.180045</td>\n",
       "    </tr>\n",
       "    <tr>\n",
       "      <th>cqt_per_freq_stats_90</th>\n",
       "      <td>1.053917</td>\n",
       "    </tr>\n",
       "    <tr>\n",
       "      <th>harmonic_per_freq_stats_27</th>\n",
       "      <td>1.046490</td>\n",
       "    </tr>\n",
       "    <tr>\n",
       "      <th>percussive_beat_frames_0</th>\n",
       "      <td>1.014958</td>\n",
       "    </tr>\n",
       "    <tr>\n",
       "      <th>percussive_beat_frames_8</th>\n",
       "      <td>0.987434</td>\n",
       "    </tr>\n",
       "    <tr>\n",
       "      <th>percussive_beat_frames_4</th>\n",
       "      <td>0.943597</td>\n",
       "    </tr>\n",
       "    <tr>\n",
       "      <th>percussive_per_freq_stats_103</th>\n",
       "      <td>0.899128</td>\n",
       "    </tr>\n",
       "    <tr>\n",
       "      <th>harmonic_per_freq_stats_74</th>\n",
       "      <td>0.889753</td>\n",
       "    </tr>\n",
       "  </tbody>\n",
       "</table>\n",
       "</div>"
      ],
      "text/plain": [
       "                               importance\n",
       "percussive_per_freq_stats_99     2.464929\n",
       "cqt_per_freq_stats_92            1.930682\n",
       "percussive_per_freq_stats_106    1.794833\n",
       "s_bpm_0                          1.708981\n",
       "percussive_per_freq_stats_111    1.686279\n",
       "percussive_per_freq_stats_17     1.673735\n",
       "harmonic_per_freq_stats_83       1.611030\n",
       "harmonic_per_freq_stats_79       1.180045\n",
       "cqt_per_freq_stats_90            1.053917\n",
       "harmonic_per_freq_stats_27       1.046490\n",
       "percussive_beat_frames_0         1.014958\n",
       "percussive_beat_frames_8         0.987434\n",
       "percussive_beat_frames_4         0.943597\n",
       "percussive_per_freq_stats_103    0.899128\n",
       "harmonic_per_freq_stats_74       0.889753"
      ]
     },
     "execution_count": 30,
     "metadata": {},
     "output_type": "execute_result"
    }
   ],
   "source": [
    "pd.DataFrame(\n",
    "    data=model.feature_importances_, \n",
    "    index=E_train.get_feature_names_vector(features), \n",
    "    columns=['importance']\n",
    ").sort_values(by='importance', ascending=False).head(15)"
   ]
  },
  {
   "cell_type": "code",
   "execution_count": 31,
   "id": "c60b9aa2-c15d-4cfb-b7e3-c2145412a24f",
   "metadata": {},
   "outputs": [
    {
     "data": {
      "application/vnd.jupyter.widget-view+json": {
       "model_id": "5fcee731ccae453c89607a549ce2ece9",
       "version_major": 2,
       "version_minor": 0
      },
      "text/plain": [
       "MetricVisualizer(layout=Layout(align_self='stretch', height='500px'))"
      ]
     },
     "metadata": {},
     "output_type": "display_data"
    },
    {
     "name": "stdout",
     "output_type": "stream",
     "text": [
      "0:\tlearn: 0.2777182\ttest: 0.2950000\tbest: 0.2950000 (0)\ttotal: 74.9ms\tremaining: 37.4s\n",
      "50:\tlearn: 0.7494635\ttest: 0.6520833\tbest: 0.6520833 (50)\ttotal: 1.6s\tremaining: 14.1s\n",
      "100:\tlearn: 0.8460300\ttest: 0.7154167\tbest: 0.7154167 (100)\ttotal: 3.25s\tremaining: 12.8s\n",
      "150:\tlearn: 0.9086195\ttest: 0.7525000\tbest: 0.7525000 (150)\ttotal: 4.89s\tremaining: 11.3s\n",
      "200:\tlearn: 0.9424177\ttest: 0.7708333\tbest: 0.7725000 (183)\ttotal: 6.52s\tremaining: 9.71s\n",
      "250:\tlearn: 0.9579757\ttest: 0.7766667\tbest: 0.7795833 (246)\ttotal: 7.97s\tremaining: 7.91s\n",
      "300:\tlearn: 0.9719242\ttest: 0.7745833\tbest: 0.7800000 (261)\ttotal: 9.41s\tremaining: 6.22s\n",
      "350:\tlearn: 0.9787196\ttest: 0.7779167\tbest: 0.7833333 (333)\ttotal: 10.9s\tremaining: 4.61s\n",
      "400:\tlearn: 0.9831903\ttest: 0.7804167\tbest: 0.7833333 (333)\ttotal: 12.3s\tremaining: 3.03s\n",
      "450:\tlearn: 0.9876609\ttest: 0.7841667\tbest: 0.7850000 (441)\ttotal: 13.7s\tremaining: 1.49s\n",
      "499:\tlearn: 0.9917740\ttest: 0.7908333\tbest: 0.7929167 (490)\ttotal: 15.1s\tremaining: 0us\n",
      "\n",
      "bestTest = 0.7929166667\n",
      "bestIteration = 490\n",
      "\n",
      "Shrink model to first 491 iterations.\n",
      "\n",
      "Classification Report:\n",
      "               precision    recall  f1-score   support\n",
      "\n",
      "       blues       0.89      0.80      0.84        30\n",
      "   classical       0.91      1.00      0.95        30\n",
      "     country       0.84      0.90      0.87        30\n",
      "       disco       0.80      0.67      0.73        30\n",
      "      hiphop       0.74      0.87      0.80        30\n",
      "        jazz       0.90      0.87      0.88        30\n",
      "       metal       0.92      0.80      0.86        30\n",
      "         pop       0.79      0.90      0.84        30\n",
      "      reggae       0.67      0.73      0.70        30\n",
      "        rock       0.69      0.60      0.64        30\n",
      "\n",
      "    accuracy                           0.81       300\n",
      "   macro avg       0.82      0.81      0.81       300\n",
      "weighted avg       0.82      0.81      0.81       300\n",
      "\n",
      "Evaluation Accuracy: 0.8133\n"
     ]
    }
   ],
   "source": [
    "# Lets add other stats\n",
    "\n",
    "features = ['s_stats', 's_bpm', 'cqt_per_freq_stats', 'harmonic_per_freq_stats', 'percussive_per_freq_stats', 'percussive_beat_frames']\n",
    "weights = assign_feature_weights(E_train.get_feature_names_vector(features), dict(s_bpm=0.7, s_stats=0.68))\n",
    "\n",
    "model, acc = train_and_evaluate_catboost(\n",
    "    idx_eval=E_eval.get_features(['s_idx'])[:,0],\n",
    "    X_train=E_train.get_features(features),\n",
    "    X_eval=E_eval.get_features(features),\n",
    "    y_train=E_train.get_features(['s_y'])[:,0], \n",
    "    y_eval=E_eval.get_features(['s_y'])[:,0],\n",
    "    feature_weights=weights\n",
    ")"
   ]
  },
  {
   "cell_type": "code",
   "execution_count": 32,
   "id": "2f53a051-970e-424c-a72c-704fb015f3d3",
   "metadata": {},
   "outputs": [
    {
     "data": {
      "text/html": [
       "<div>\n",
       "<style scoped>\n",
       "    .dataframe tbody tr th:only-of-type {\n",
       "        vertical-align: middle;\n",
       "    }\n",
       "\n",
       "    .dataframe tbody tr th {\n",
       "        vertical-align: top;\n",
       "    }\n",
       "\n",
       "    .dataframe thead th {\n",
       "        text-align: right;\n",
       "    }\n",
       "</style>\n",
       "<table border=\"1\" class=\"dataframe\">\n",
       "  <thead>\n",
       "    <tr style=\"text-align: right;\">\n",
       "      <th></th>\n",
       "      <th>importance</th>\n",
       "      <th>stat_name</th>\n",
       "    </tr>\n",
       "  </thead>\n",
       "  <tbody>\n",
       "    <tr>\n",
       "      <th>s_stats_23</th>\n",
       "      <td>4.652605</td>\n",
       "      <td>mfcc4_mean</td>\n",
       "    </tr>\n",
       "    <tr>\n",
       "      <th>s_stats_26</th>\n",
       "      <td>4.469790</td>\n",
       "      <td>mfcc5_var</td>\n",
       "    </tr>\n",
       "    <tr>\n",
       "      <th>s_stats_0</th>\n",
       "      <td>2.956316</td>\n",
       "      <td>chroma_stft_mean</td>\n",
       "    </tr>\n",
       "    <tr>\n",
       "      <th>s_stats_12</th>\n",
       "      <td>2.438819</td>\n",
       "      <td>harmony_mean</td>\n",
       "    </tr>\n",
       "    <tr>\n",
       "      <th>s_stats_5</th>\n",
       "      <td>2.156590</td>\n",
       "      <td>spectral_centroid_var</td>\n",
       "    </tr>\n",
       "    <tr>\n",
       "      <th>s_stats_33</th>\n",
       "      <td>2.083765</td>\n",
       "      <td>mfcc9_mean</td>\n",
       "    </tr>\n",
       "    <tr>\n",
       "      <th>s_stats_1</th>\n",
       "      <td>1.690109</td>\n",
       "      <td>chroma_stft_var</td>\n",
       "    </tr>\n",
       "    <tr>\n",
       "      <th>s_stats_9</th>\n",
       "      <td>1.636079</td>\n",
       "      <td>rolloff_var</td>\n",
       "    </tr>\n",
       "    <tr>\n",
       "      <th>s_stats_49</th>\n",
       "      <td>1.592774</td>\n",
       "      <td>mfcc17_mean</td>\n",
       "    </tr>\n",
       "    <tr>\n",
       "      <th>s_stats_36</th>\n",
       "      <td>1.581852</td>\n",
       "      <td>mfcc10_var</td>\n",
       "    </tr>\n",
       "    <tr>\n",
       "      <th>s_stats_24</th>\n",
       "      <td>1.510282</td>\n",
       "      <td>mfcc4_var</td>\n",
       "    </tr>\n",
       "    <tr>\n",
       "      <th>percussive_per_freq_stats_111</th>\n",
       "      <td>1.457509</td>\n",
       "      <td>None</td>\n",
       "    </tr>\n",
       "    <tr>\n",
       "      <th>s_stats_27</th>\n",
       "      <td>1.431875</td>\n",
       "      <td>mfcc6_mean</td>\n",
       "    </tr>\n",
       "    <tr>\n",
       "      <th>s_stats_14</th>\n",
       "      <td>1.419318</td>\n",
       "      <td>perceptr_mean</td>\n",
       "    </tr>\n",
       "    <tr>\n",
       "      <th>percussive_per_freq_stats_96</th>\n",
       "      <td>1.300741</td>\n",
       "      <td>None</td>\n",
       "    </tr>\n",
       "  </tbody>\n",
       "</table>\n",
       "</div>"
      ],
      "text/plain": [
       "                               importance              stat_name\n",
       "s_stats_23                       4.652605             mfcc4_mean\n",
       "s_stats_26                       4.469790              mfcc5_var\n",
       "s_stats_0                        2.956316       chroma_stft_mean\n",
       "s_stats_12                       2.438819           harmony_mean\n",
       "s_stats_5                        2.156590  spectral_centroid_var\n",
       "s_stats_33                       2.083765             mfcc9_mean\n",
       "s_stats_1                        1.690109        chroma_stft_var\n",
       "s_stats_9                        1.636079            rolloff_var\n",
       "s_stats_49                       1.592774            mfcc17_mean\n",
       "s_stats_36                       1.581852             mfcc10_var\n",
       "s_stats_24                       1.510282              mfcc4_var\n",
       "percussive_per_freq_stats_111    1.457509                   None\n",
       "s_stats_27                       1.431875             mfcc6_mean\n",
       "s_stats_14                       1.419318          perceptr_mean\n",
       "percussive_per_freq_stats_96     1.300741                   None"
      ]
     },
     "execution_count": 32,
     "metadata": {},
     "output_type": "execute_result"
    }
   ],
   "source": [
    "imp = pd.DataFrame(\n",
    "    data=model.feature_importances_, \n",
    "    index=E_train.get_feature_names_vector(features), \n",
    "    columns=['importance']\n",
    ").sort_values(by='importance', ascending=False).head(15)\n",
    "imp['stat_name'] = pd.Series(imp.index, index=imp.index).apply(lambda x: int(x[8:]) if x.startswith('s_stats') else None)\n",
    "imp['stat_name'] = imp['stat_name'].apply(lambda x: X_train.columns[int(x) + 2] if not np.isnan(x) else None)\n",
    "imp"
   ]
  },
  {
   "cell_type": "markdown",
   "id": "24b6005d-aadc-4705-94ed-8657e2dee407",
   "metadata": {},
   "source": [
    "TODO: translate to English\n",
    "1. Высокий вес у mfcc - это преобразование Фурье посчитанное поверх mel спектрограммы.\n",
    "Эта операция выполняет 2 цели, понижает размерность, и позволяет оценить фундаментальную частоту\n",
    "2. Высокий вес у статистик над хроматическими фичами (то есть какая нота встречается чаще)\n",
    "3. Высокий вес у статистик спектрального центроида\n",
    "\n",
    "Вывод: Надо добавить эти фичи, только посчитанные на кусочке"
   ]
  },
  {
   "cell_type": "code",
   "execution_count": 33,
   "id": "8be23710-0367-438e-a199-22149260ab70",
   "metadata": {},
   "outputs": [],
   "source": [
    "Extractor.register_extractor('mfcc_quef_stats', \n",
    "                             lambda s_mfcc: np.hstack([s_mfcc.mean(axis=1), s_mfcc.var(axis=1)]))\n",
    "\n",
    "# Usually STFT is used for spectral centroid, but I will use CQT, it may turn out to be even more precise.\n",
    "cqt_frequencies = librosa.cqt_frequencies(n_bins=n_bins, fmin=fmin, bins_per_octave=bins_per_octave)\n",
    "Extractor.register_extractor('cqt_spectral_centroid', \n",
    "                             lambda s_cqt: np.sum(cqt_frequencies.reshape(-1, 1) * librosa.util.normalize(s_cqt, norm=1, axis=-2), axis=0))\n",
    "\n",
    "Extractor.register_extractor('cqt_spectral_centroid_stats', \n",
    "                             lambda cqt_spectral_centroid: np.array([cqt_spectral_centroid.mean(), cqt_spectral_centroid.var()]))\n",
    "\n",
    "chroma_map = librosa.filters.cq_to_chroma(cqt_frequencies.shape[0], bins_per_octave=bins_per_octave, n_chroma=bins_per_octave, fmin=fmin)\n",
    "Extractor.register_extractor('cqt_chroma', \n",
    "                             lambda s_cqt: np.dot(chroma_map, s_cqt))\n",
    "Extractor.register_extractor('cqt_chroma_stats', \n",
    "                             lambda cqt_chroma: np.hstack([cqt_chroma.mean(axis=1), cqt_chroma.var(axis=1)]))\n",
    "\n",
    "Extractor.register_extractor('harmonic_chroma', \n",
    "                             lambda s_harmonic: np.dot(chroma_map, s_harmonic))\n",
    "Extractor.register_extractor('harmonic_chroma_stats', \n",
    "                             lambda harmonic_chroma: np.hstack([harmonic_chroma.mean(axis=1), harmonic_chroma.var(axis=1)]))\n"
   ]
  },
  {
   "cell_type": "code",
   "execution_count": 34,
   "id": "ac2e5d55-a379-4c94-96a3-823d16ffc06e",
   "metadata": {},
   "outputs": [
    {
     "data": {
      "application/vnd.jupyter.widget-view+json": {
       "model_id": "78e860e528af47ceb7fbc49a54bfe0a4",
       "version_major": 2,
       "version_minor": 0
      },
      "text/plain": [
       "mfcc_quef_stats:   0%|          | 0/5592 [00:00<?, ?it/s]"
      ]
     },
     "metadata": {},
     "output_type": "display_data"
    },
    {
     "data": {
      "application/vnd.jupyter.widget-view+json": {
       "model_id": "e11a5df01a0f4b30998b8fd6d3422c9a",
       "version_major": 2,
       "version_minor": 0
      },
      "text/plain": [
       "cqt_spectral_centroid:   0%|          | 0/5592 [00:00<?, ?it/s]"
      ]
     },
     "metadata": {},
     "output_type": "display_data"
    },
    {
     "data": {
      "application/vnd.jupyter.widget-view+json": {
       "model_id": "f54e6cbe1abd4723ad2d7434515844ad",
       "version_major": 2,
       "version_minor": 0
      },
      "text/plain": [
       "cqt_spectral_centroid_stats:   0%|          | 0/5592 [00:00<?, ?it/s]"
      ]
     },
     "metadata": {},
     "output_type": "display_data"
    },
    {
     "data": {
      "application/vnd.jupyter.widget-view+json": {
       "model_id": "43a29d174c5f44ef886e8032a91479a1",
       "version_major": 2,
       "version_minor": 0
      },
      "text/plain": [
       "cqt_chroma:   0%|          | 0/5592 [00:00<?, ?it/s]"
      ]
     },
     "metadata": {},
     "output_type": "display_data"
    },
    {
     "data": {
      "application/vnd.jupyter.widget-view+json": {
       "model_id": "286e03e00a764e8fba3b9961d0f4240b",
       "version_major": 2,
       "version_minor": 0
      },
      "text/plain": [
       "cqt_chroma_stats:   0%|          | 0/5592 [00:00<?, ?it/s]"
      ]
     },
     "metadata": {},
     "output_type": "display_data"
    },
    {
     "data": {
      "application/vnd.jupyter.widget-view+json": {
       "model_id": "62ee3af271f14a32b7331650fbed39c6",
       "version_major": 2,
       "version_minor": 0
      },
      "text/plain": [
       "harmonic_chroma:   0%|          | 0/5592 [00:00<?, ?it/s]"
      ]
     },
     "metadata": {},
     "output_type": "display_data"
    },
    {
     "data": {
      "application/vnd.jupyter.widget-view+json": {
       "model_id": "a6ec3da156614bf3b5718b03a021f549",
       "version_major": 2,
       "version_minor": 0
      },
      "text/plain": [
       "harmonic_chroma_stats:   0%|          | 0/5592 [00:00<?, ?it/s]"
      ]
     },
     "metadata": {},
     "output_type": "display_data"
    },
    {
     "data": {
      "application/vnd.jupyter.widget-view+json": {
       "model_id": "4164418c7ab9439588864749b4e9750b",
       "version_major": 2,
       "version_minor": 0
      },
      "text/plain": [
       "mfcc_quef_stats:   0%|          | 0/2400 [00:00<?, ?it/s]"
      ]
     },
     "metadata": {},
     "output_type": "display_data"
    },
    {
     "data": {
      "application/vnd.jupyter.widget-view+json": {
       "model_id": "c8f0b01a4ddf4802968e3f74ad5ffb54",
       "version_major": 2,
       "version_minor": 0
      },
      "text/plain": [
       "cqt_spectral_centroid:   0%|          | 0/2400 [00:00<?, ?it/s]"
      ]
     },
     "metadata": {},
     "output_type": "display_data"
    },
    {
     "data": {
      "application/vnd.jupyter.widget-view+json": {
       "model_id": "ca619800caea41c89c52b8a9e2970b57",
       "version_major": 2,
       "version_minor": 0
      },
      "text/plain": [
       "cqt_spectral_centroid_stats:   0%|          | 0/2400 [00:00<?, ?it/s]"
      ]
     },
     "metadata": {},
     "output_type": "display_data"
    },
    {
     "data": {
      "application/vnd.jupyter.widget-view+json": {
       "model_id": "6610d401f2d94f9399ca1afe4fc95719",
       "version_major": 2,
       "version_minor": 0
      },
      "text/plain": [
       "cqt_chroma:   0%|          | 0/2400 [00:00<?, ?it/s]"
      ]
     },
     "metadata": {},
     "output_type": "display_data"
    },
    {
     "data": {
      "application/vnd.jupyter.widget-view+json": {
       "model_id": "e55626ccc93c4ca3af4c9d4e17089223",
       "version_major": 2,
       "version_minor": 0
      },
      "text/plain": [
       "cqt_chroma_stats:   0%|          | 0/2400 [00:00<?, ?it/s]"
      ]
     },
     "metadata": {},
     "output_type": "display_data"
    },
    {
     "data": {
      "application/vnd.jupyter.widget-view+json": {
       "model_id": "76d98aa96f774c0ba1a6661b52c4e3a6",
       "version_major": 2,
       "version_minor": 0
      },
      "text/plain": [
       "harmonic_chroma:   0%|          | 0/2400 [00:00<?, ?it/s]"
      ]
     },
     "metadata": {},
     "output_type": "display_data"
    },
    {
     "data": {
      "application/vnd.jupyter.widget-view+json": {
       "model_id": "e88fba60ebb14cf08c9fcad755cf0555",
       "version_major": 2,
       "version_minor": 0
      },
      "text/plain": [
       "harmonic_chroma_stats:   0%|          | 0/2400 [00:00<?, ?it/s]"
      ]
     },
     "metadata": {},
     "output_type": "display_data"
    }
   ],
   "source": [
    "E_train.soft_extract()\n",
    "E_eval.soft_extract()"
   ]
  },
  {
   "cell_type": "code",
   "execution_count": 35,
   "id": "47f7c917-9ae9-4ac3-b8c7-d1f6487d996b",
   "metadata": {},
   "outputs": [
    {
     "data": {
      "application/vnd.jupyter.widget-view+json": {
       "model_id": "55792a53379840a9a0124afd01664dee",
       "version_major": 2,
       "version_minor": 0
      },
      "text/plain": [
       "MetricVisualizer(layout=Layout(align_self='stretch', height='500px'))"
      ]
     },
     "metadata": {},
     "output_type": "display_data"
    },
    {
     "name": "stdout",
     "output_type": "stream",
     "text": [
      "0:\tlearn: 0.2832618\ttest: 0.2991667\tbest: 0.2991667 (0)\ttotal: 75.9ms\tremaining: 37.9s\n",
      "50:\tlearn: 0.6276824\ttest: 0.5516667\tbest: 0.5516667 (50)\ttotal: 1.81s\tremaining: 16s\n",
      "100:\tlearn: 0.7237124\ttest: 0.5941667\tbest: 0.5958333 (97)\ttotal: 3.52s\tremaining: 13.9s\n",
      "150:\tlearn: 0.7893419\ttest: 0.6412500\tbest: 0.6425000 (148)\ttotal: 5.12s\tremaining: 11.8s\n",
      "200:\tlearn: 0.8297568\ttest: 0.6641667\tbest: 0.6654167 (192)\ttotal: 6.74s\tremaining: 10s\n",
      "250:\tlearn: 0.8608727\ttest: 0.6829167\tbest: 0.6829167 (250)\ttotal: 8.21s\tremaining: 8.14s\n",
      "300:\tlearn: 0.8828684\ttest: 0.6841667\tbest: 0.6862500 (296)\ttotal: 9.81s\tremaining: 6.48s\n",
      "350:\tlearn: 0.8961016\ttest: 0.6904167\tbest: 0.6941667 (316)\ttotal: 11.4s\tremaining: 4.86s\n",
      "400:\tlearn: 0.9089771\ttest: 0.6929167\tbest: 0.6950000 (369)\ttotal: 13s\tremaining: 3.22s\n",
      "450:\tlearn: 0.9209585\ttest: 0.6945833\tbest: 0.6970833 (443)\ttotal: 14.5s\tremaining: 1.58s\n",
      "499:\tlearn: 0.9297210\ttest: 0.6975000\tbest: 0.7004167 (490)\ttotal: 16s\tremaining: 0us\n",
      "\n",
      "bestTest = 0.7004166667\n",
      "bestIteration = 490\n",
      "\n",
      "Shrink model to first 491 iterations.\n",
      "\n",
      "Classification Report:\n",
      "               precision    recall  f1-score   support\n",
      "\n",
      "       blues       0.92      0.77      0.84        30\n",
      "   classical       0.88      1.00      0.94        30\n",
      "     country       0.75      0.80      0.77        30\n",
      "       disco       0.86      0.63      0.73        30\n",
      "      hiphop       0.67      0.67      0.67        30\n",
      "        jazz       0.74      0.87      0.80        30\n",
      "       metal       0.80      0.80      0.80        30\n",
      "         pop       0.67      0.73      0.70        30\n",
      "      reggae       0.64      0.77      0.70        30\n",
      "        rock       0.61      0.47      0.53        30\n",
      "\n",
      "    accuracy                           0.75       300\n",
      "   macro avg       0.75      0.75      0.75       300\n",
      "weighted avg       0.75      0.75      0.75       300\n",
      "\n",
      "Evaluation Accuracy: 0.7500\n"
     ]
    }
   ],
   "source": [
    "# Lets add MFCC, chromatic features and centroid\n",
    "\n",
    "features = ['s_rms', 's_bpm', 'cqt_per_freq_stats', 'harmonic_per_freq_stats', 'percussive_per_freq_stats', 'percussive_beat_frames',\n",
    "           'cqt_spectral_centroid_stats', 'cqt_chroma_stats', 'harmonic_chroma_stats', 'mfcc_quef_stats']\n",
    "weights = assign_feature_weights(E_train.get_feature_names_vector(features), dict(s_rms=0.5, s_bpm=0.7, mfcc_quef=0.8))\n",
    "model, acc = train_and_evaluate_catboost(\n",
    "    idx_eval=E_eval.get_features(['s_idx'])[:,0],\n",
    "    X_train=E_train.get_features(features),\n",
    "    X_eval=E_eval.get_features(features),\n",
    "    y_train=E_train.get_features(['s_y'])[:,0], \n",
    "    y_eval=E_eval.get_features(['s_y'])[:,0],\n",
    "    feature_weights=weights\n",
    ")"
   ]
  },
  {
   "cell_type": "code",
   "execution_count": 36,
   "id": "a4c336fe-0b48-4e22-85e1-ba2eccda159d",
   "metadata": {},
   "outputs": [
    {
     "data": {
      "text/html": [
       "<div>\n",
       "<style scoped>\n",
       "    .dataframe tbody tr th:only-of-type {\n",
       "        vertical-align: middle;\n",
       "    }\n",
       "\n",
       "    .dataframe tbody tr th {\n",
       "        vertical-align: top;\n",
       "    }\n",
       "\n",
       "    .dataframe thead th {\n",
       "        text-align: right;\n",
       "    }\n",
       "</style>\n",
       "<table border=\"1\" class=\"dataframe\">\n",
       "  <thead>\n",
       "    <tr style=\"text-align: right;\">\n",
       "      <th></th>\n",
       "      <th>importance</th>\n",
       "    </tr>\n",
       "  </thead>\n",
       "  <tbody>\n",
       "    <tr>\n",
       "      <th>percussive_per_freq_stats_111</th>\n",
       "      <td>1.606271</td>\n",
       "    </tr>\n",
       "    <tr>\n",
       "      <th>cqt_spectral_centroid_stats_1</th>\n",
       "      <td>1.415336</td>\n",
       "    </tr>\n",
       "    <tr>\n",
       "      <th>s_bpm_0</th>\n",
       "      <td>1.408323</td>\n",
       "    </tr>\n",
       "    <tr>\n",
       "      <th>mfcc_quef_stats_17</th>\n",
       "      <td>1.372605</td>\n",
       "    </tr>\n",
       "    <tr>\n",
       "      <th>percussive_per_freq_stats_16</th>\n",
       "      <td>1.331305</td>\n",
       "    </tr>\n",
       "    <tr>\n",
       "      <th>mfcc_quef_stats_18</th>\n",
       "      <td>1.204908</td>\n",
       "    </tr>\n",
       "    <tr>\n",
       "      <th>mfcc_quef_stats_3</th>\n",
       "      <td>1.199661</td>\n",
       "    </tr>\n",
       "    <tr>\n",
       "      <th>mfcc_quef_stats_15</th>\n",
       "      <td>1.111819</td>\n",
       "    </tr>\n",
       "    <tr>\n",
       "      <th>mfcc_quef_stats_16</th>\n",
       "      <td>1.082643</td>\n",
       "    </tr>\n",
       "    <tr>\n",
       "      <th>percussive_per_freq_stats_96</th>\n",
       "      <td>1.043127</td>\n",
       "    </tr>\n",
       "    <tr>\n",
       "      <th>harmonic_per_freq_stats_83</th>\n",
       "      <td>1.032677</td>\n",
       "    </tr>\n",
       "    <tr>\n",
       "      <th>percussive_per_freq_stats_21</th>\n",
       "      <td>1.020655</td>\n",
       "    </tr>\n",
       "    <tr>\n",
       "      <th>percussive_per_freq_stats_92</th>\n",
       "      <td>0.946877</td>\n",
       "    </tr>\n",
       "    <tr>\n",
       "      <th>percussive_per_freq_stats_97</th>\n",
       "      <td>0.900902</td>\n",
       "    </tr>\n",
       "    <tr>\n",
       "      <th>percussive_per_freq_stats_95</th>\n",
       "      <td>0.899420</td>\n",
       "    </tr>\n",
       "  </tbody>\n",
       "</table>\n",
       "</div>"
      ],
      "text/plain": [
       "                               importance\n",
       "percussive_per_freq_stats_111    1.606271\n",
       "cqt_spectral_centroid_stats_1    1.415336\n",
       "s_bpm_0                          1.408323\n",
       "mfcc_quef_stats_17               1.372605\n",
       "percussive_per_freq_stats_16     1.331305\n",
       "mfcc_quef_stats_18               1.204908\n",
       "mfcc_quef_stats_3                1.199661\n",
       "mfcc_quef_stats_15               1.111819\n",
       "mfcc_quef_stats_16               1.082643\n",
       "percussive_per_freq_stats_96     1.043127\n",
       "harmonic_per_freq_stats_83       1.032677\n",
       "percussive_per_freq_stats_21     1.020655\n",
       "percussive_per_freq_stats_92     0.946877\n",
       "percussive_per_freq_stats_97     0.900902\n",
       "percussive_per_freq_stats_95     0.899420"
      ]
     },
     "execution_count": 36,
     "metadata": {},
     "output_type": "execute_result"
    }
   ],
   "source": [
    "pd.DataFrame(\n",
    "    data=model.feature_importances_, \n",
    "    index=E_train.get_feature_names_vector(features), \n",
    "    columns=['importance']\n",
    ").sort_values(by='importance', ascending=False).head(15)"
   ]
  },
  {
   "cell_type": "code",
   "execution_count": 37,
   "id": "b541891a-5769-4d7a-8d19-e35bbf86d8e1",
   "metadata": {},
   "outputs": [
    {
     "data": {
      "text/html": [
       "<div>\n",
       "<style scoped>\n",
       "    .dataframe tbody tr th:only-of-type {\n",
       "        vertical-align: middle;\n",
       "    }\n",
       "\n",
       "    .dataframe tbody tr th {\n",
       "        vertical-align: top;\n",
       "    }\n",
       "\n",
       "    .dataframe thead tr th {\n",
       "        text-align: left;\n",
       "    }\n",
       "\n",
       "    .dataframe thead tr:last-of-type th {\n",
       "        text-align: right;\n",
       "    }\n",
       "</style>\n",
       "<table border=\"1\" class=\"dataframe\">\n",
       "  <thead>\n",
       "    <tr>\n",
       "      <th></th>\n",
       "      <th colspan=\"2\" halign=\"left\">importance</th>\n",
       "    </tr>\n",
       "    <tr>\n",
       "      <th></th>\n",
       "      <th>max</th>\n",
       "      <th>mean</th>\n",
       "    </tr>\n",
       "    <tr>\n",
       "      <th>cropped_feature_name</th>\n",
       "      <th></th>\n",
       "      <th></th>\n",
       "    </tr>\n",
       "  </thead>\n",
       "  <tbody>\n",
       "    <tr>\n",
       "      <th>percussive_per_freq_stats</th>\n",
       "      <td>1.606271</td>\n",
       "      <td>0.177994</td>\n",
       "    </tr>\n",
       "    <tr>\n",
       "      <th>cqt_spectral_centroid_stats</th>\n",
       "      <td>1.415336</td>\n",
       "      <td>0.898776</td>\n",
       "    </tr>\n",
       "    <tr>\n",
       "      <th>s_bpm</th>\n",
       "      <td>1.408323</td>\n",
       "      <td>1.408323</td>\n",
       "    </tr>\n",
       "    <tr>\n",
       "      <th>mfcc_quef_stats</th>\n",
       "      <td>1.372605</td>\n",
       "      <td>0.464576</td>\n",
       "    </tr>\n",
       "    <tr>\n",
       "      <th>harmonic_per_freq_stats</th>\n",
       "      <td>1.032677</td>\n",
       "      <td>0.176651</td>\n",
       "    </tr>\n",
       "    <tr>\n",
       "      <th>percussive_beat_frames</th>\n",
       "      <td>0.878368</td>\n",
       "      <td>0.288431</td>\n",
       "    </tr>\n",
       "    <tr>\n",
       "      <th>cqt_per_freq_stats</th>\n",
       "      <td>0.637291</td>\n",
       "      <td>0.103591</td>\n",
       "    </tr>\n",
       "    <tr>\n",
       "      <th>harmonic_chroma_stats</th>\n",
       "      <td>0.308306</td>\n",
       "      <td>0.079228</td>\n",
       "    </tr>\n",
       "    <tr>\n",
       "      <th>cqt_chroma_stats</th>\n",
       "      <td>0.231201</td>\n",
       "      <td>0.050636</td>\n",
       "    </tr>\n",
       "    <tr>\n",
       "      <th>s_rms</th>\n",
       "      <td>0.000000</td>\n",
       "      <td>0.000000</td>\n",
       "    </tr>\n",
       "  </tbody>\n",
       "</table>\n",
       "</div>"
      ],
      "text/plain": [
       "                            importance          \n",
       "                                   max      mean\n",
       "cropped_feature_name                            \n",
       "percussive_per_freq_stats     1.606271  0.177994\n",
       "cqt_spectral_centroid_stats   1.415336  0.898776\n",
       "s_bpm                         1.408323  1.408323\n",
       "mfcc_quef_stats               1.372605  0.464576\n",
       "harmonic_per_freq_stats       1.032677  0.176651\n",
       "percussive_beat_frames        0.878368  0.288431\n",
       "cqt_per_freq_stats            0.637291  0.103591\n",
       "harmonic_chroma_stats         0.308306  0.079228\n",
       "cqt_chroma_stats              0.231201  0.050636\n",
       "s_rms                         0.000000  0.000000"
      ]
     },
     "execution_count": 37,
     "metadata": {},
     "output_type": "execute_result"
    }
   ],
   "source": [
    "# Lets leave out only features that turn out important. Boosting is not robust to autocorrelation. \n",
    "# There is of course a penalty in CatBoost, but still it makes sense.\n",
    "imp = pd.DataFrame(data=np.stack([E_train.get_feature_names_vector(features)]).T, columns=['feature_name'])\n",
    "imp['importance'] = model.feature_importances_\n",
    "imp['cropped_feature_name'] = imp['feature_name'].apply(lambda x: '_'.join(x.split('_')[:-1]))\n",
    "imp[['cropped_feature_name', 'importance']].groupby('cropped_feature_name').agg(['max', 'mean']).sort_values(('importance', 'max'), ascending=False)"
   ]
  },
  {
   "cell_type": "code",
   "execution_count": 38,
   "id": "99dbf575-63ee-4f51-971f-c283c0d9201f",
   "metadata": {},
   "outputs": [
    {
     "data": {
      "application/vnd.jupyter.widget-view+json": {
       "model_id": "33527d1f463e4571a7f2e3471b209633",
       "version_major": 2,
       "version_minor": 0
      },
      "text/plain": [
       "MetricVisualizer(layout=Layout(align_self='stretch', height='500px'))"
      ]
     },
     "metadata": {},
     "output_type": "display_data"
    },
    {
     "name": "stdout",
     "output_type": "stream",
     "text": [
      "0:\tlearn: 0.3002504\ttest: 0.2920833\tbest: 0.2920833 (0)\ttotal: 121ms\tremaining: 1m\n",
      "50:\tlearn: 0.6448498\ttest: 0.5562500\tbest: 0.5637500 (45)\ttotal: 1.15s\tremaining: 10.1s\n",
      "100:\tlearn: 0.7373033\ttest: 0.6154167\tbest: 0.6179167 (98)\ttotal: 2.17s\tremaining: 8.59s\n",
      "150:\tlearn: 0.7904149\ttest: 0.6387500\tbest: 0.6387500 (150)\ttotal: 3.15s\tremaining: 7.28s\n",
      "200:\tlearn: 0.8260014\ttest: 0.6670833\tbest: 0.6670833 (200)\ttotal: 4.1s\tremaining: 6.09s\n",
      "250:\tlearn: 0.8524678\ttest: 0.6704167\tbest: 0.6750000 (231)\ttotal: 5.07s\tremaining: 5.03s\n",
      "300:\tlearn: 0.8746423\ttest: 0.6841667\tbest: 0.6841667 (300)\ttotal: 6.04s\tremaining: 4s\n",
      "350:\tlearn: 0.8875179\ttest: 0.6920833\tbest: 0.6975000 (344)\ttotal: 7.04s\tremaining: 2.99s\n",
      "400:\tlearn: 0.9043276\ttest: 0.7004167\tbest: 0.7004167 (400)\ttotal: 8.16s\tremaining: 2.01s\n",
      "450:\tlearn: 0.9197067\ttest: 0.7020833\tbest: 0.7062500 (419)\ttotal: 9.23s\tremaining: 1s\n",
      "499:\tlearn: 0.9290057\ttest: 0.7050000\tbest: 0.7062500 (419)\ttotal: 10.3s\tremaining: 0us\n",
      "\n",
      "bestTest = 0.70625\n",
      "bestIteration = 419\n",
      "\n",
      "Shrink model to first 420 iterations.\n",
      "\n",
      "Classification Report:\n",
      "               precision    recall  f1-score   support\n",
      "\n",
      "       blues       0.92      0.77      0.84        30\n",
      "   classical       0.88      0.97      0.92        30\n",
      "     country       0.82      0.90      0.86        30\n",
      "       disco       0.82      0.60      0.69        30\n",
      "      hiphop       0.75      0.70      0.72        30\n",
      "        jazz       0.84      0.87      0.85        30\n",
      "       metal       0.84      0.87      0.85        30\n",
      "         pop       0.58      0.70      0.64        30\n",
      "      reggae       0.68      0.83      0.75        30\n",
      "        rock       0.67      0.53      0.59        30\n",
      "\n",
      "    accuracy                           0.77       300\n",
      "   macro avg       0.78      0.77      0.77       300\n",
      "weighted avg       0.78      0.77      0.77       300\n",
      "\n",
      "Evaluation Accuracy: 0.7733\n"
     ]
    }
   ],
   "source": [
    "features = ['s_bpm', 'harmonic_per_freq_stats', 'percussive_per_freq_stats',\n",
    "           'cqt_spectral_centroid_stats', 'mfcc_quef_stats', 'percussive_beat_frames']\n",
    "weights = assign_feature_weights(E_train.get_feature_names_vector(features), dict(s_rms=0.5, s_bpm=0.7, mfcc_quef=0.8))\n",
    "model, acc = train_and_evaluate_catboost(\n",
    "    idx_eval=E_eval.get_features(['s_idx'])[:,0],\n",
    "    X_train=E_train.get_features(features),\n",
    "    X_eval=E_eval.get_features(features),\n",
    "    y_train=E_train.get_features(['s_y'])[:,0], \n",
    "    y_eval=E_eval.get_features(['s_y'])[:,0],\n",
    "    feature_weights=weights\n",
    ")"
   ]
  },
  {
   "cell_type": "markdown",
   "id": "e43e8dfb-8de7-406c-b151-22e367a8ccd6",
   "metadata": {},
   "source": [
    "Lets try normalizing spectrograms. That way we will consider loundness and distribution separately"
   ]
  },
  {
   "cell_type": "code",
   "execution_count": 39,
   "id": "1b8ea039-832f-4765-a490-a1a8406aba85",
   "metadata": {},
   "outputs": [],
   "source": [
    "Extractor.register_extractor('s_cqt_n', lambda s_cqt: librosa.util.normalize(s_cqt, norm=1))\n",
    "Extractor.register_extractor('s_cqt_stats', lambda s_cqt: np.array([np.mean(s_cqt), np.var(s_cqt)]))\n",
    "Extractor.register_extractor('s_harmonic_n', lambda s_harmonic: librosa.util.normalize(s_harmonic, norm=1))\n",
    "Extractor.register_extractor('s_harmonic_stats', lambda s_harmonic: np.array([np.mean(s_harmonic), np.var(s_harmonic)]))\n",
    "Extractor.register_extractor('s_percussive_n', lambda s_percussive: librosa.util.normalize(s_percussive, norm=1))\n",
    "Extractor.register_extractor('s_percussive_stats', lambda s_percussive: np.array([np.mean(s_percussive), np.var(s_percussive)]))\n",
    "Extractor.register_extractor('ds_percussive_n', lambda ds_percussive: librosa.util.normalize(ds_percussive, norm=1))\n",
    "\n",
    "Extractor.register_extractor('cqt_n_freq_stats', \n",
    "                             lambda s_cqt_n: np.hstack([s_cqt_n.mean(axis=1), s_cqt_n.var(axis=1)]))\n",
    "Extractor.register_extractor('harmonic_n_freq_stats', \n",
    "                             lambda s_harmonic_n: np.hstack([s_harmonic_n.mean(axis=1), s_harmonic_n.var(axis=1)]))\n",
    "Extractor.register_extractor('percussive_n_freq_stats', \n",
    "                             lambda s_percussive_n: np.hstack([s_percussive_n.mean(axis=1), s_percussive_n.var(axis=1)]))\n",
    "Extractor.register_extractor('percussive_n_beat_frames', \n",
    "                             lambda ds_percussive_n: ds_percussive_n.mean(axis=0))"
   ]
  },
  {
   "cell_type": "code",
   "execution_count": 40,
   "id": "715e49fd-4c49-4639-9895-47e138d167c0",
   "metadata": {},
   "outputs": [
    {
     "data": {
      "application/vnd.jupyter.widget-view+json": {
       "model_id": "eb34faa028bb43eeb054c33b8e8e4b49",
       "version_major": 2,
       "version_minor": 0
      },
      "text/plain": [
       "s_cqt_n:   0%|          | 0/5592 [00:00<?, ?it/s]"
      ]
     },
     "metadata": {},
     "output_type": "display_data"
    },
    {
     "data": {
      "application/vnd.jupyter.widget-view+json": {
       "model_id": "3bb692d518ed4ed3ab96e3f22c6fa4a7",
       "version_major": 2,
       "version_minor": 0
      },
      "text/plain": [
       "s_cqt_stats:   0%|          | 0/5592 [00:00<?, ?it/s]"
      ]
     },
     "metadata": {},
     "output_type": "display_data"
    },
    {
     "data": {
      "application/vnd.jupyter.widget-view+json": {
       "model_id": "0332441813044d64b181d341885b1af0",
       "version_major": 2,
       "version_minor": 0
      },
      "text/plain": [
       "s_harmonic_n:   0%|          | 0/5592 [00:00<?, ?it/s]"
      ]
     },
     "metadata": {},
     "output_type": "display_data"
    },
    {
     "data": {
      "application/vnd.jupyter.widget-view+json": {
       "model_id": "26f887181f794b4a945f702d81b8ffdb",
       "version_major": 2,
       "version_minor": 0
      },
      "text/plain": [
       "s_harmonic_stats:   0%|          | 0/5592 [00:00<?, ?it/s]"
      ]
     },
     "metadata": {},
     "output_type": "display_data"
    },
    {
     "data": {
      "application/vnd.jupyter.widget-view+json": {
       "model_id": "aecb1a999caf4412b66801d716897dc0",
       "version_major": 2,
       "version_minor": 0
      },
      "text/plain": [
       "s_percussive_n:   0%|          | 0/5592 [00:00<?, ?it/s]"
      ]
     },
     "metadata": {},
     "output_type": "display_data"
    },
    {
     "data": {
      "application/vnd.jupyter.widget-view+json": {
       "model_id": "a496ccce00254440abb3f00a77917270",
       "version_major": 2,
       "version_minor": 0
      },
      "text/plain": [
       "s_percussive_stats:   0%|          | 0/5592 [00:00<?, ?it/s]"
      ]
     },
     "metadata": {},
     "output_type": "display_data"
    },
    {
     "data": {
      "application/vnd.jupyter.widget-view+json": {
       "model_id": "c0d702f9dce646dfb104d5be00633a8e",
       "version_major": 2,
       "version_minor": 0
      },
      "text/plain": [
       "ds_percussive_n:   0%|          | 0/5592 [00:00<?, ?it/s]"
      ]
     },
     "metadata": {},
     "output_type": "display_data"
    },
    {
     "data": {
      "application/vnd.jupyter.widget-view+json": {
       "model_id": "d3f121b8469f47298dca6cd692f06b58",
       "version_major": 2,
       "version_minor": 0
      },
      "text/plain": [
       "cqt_n_freq_stats:   0%|          | 0/5592 [00:00<?, ?it/s]"
      ]
     },
     "metadata": {},
     "output_type": "display_data"
    },
    {
     "data": {
      "application/vnd.jupyter.widget-view+json": {
       "model_id": "f9fd8b6dd4b347f3bb7b41190fb6ce99",
       "version_major": 2,
       "version_minor": 0
      },
      "text/plain": [
       "harmonic_n_freq_stats:   0%|          | 0/5592 [00:00<?, ?it/s]"
      ]
     },
     "metadata": {},
     "output_type": "display_data"
    },
    {
     "data": {
      "application/vnd.jupyter.widget-view+json": {
       "model_id": "67496524526c4d4d8e265a456e2fbf22",
       "version_major": 2,
       "version_minor": 0
      },
      "text/plain": [
       "percussive_n_freq_stats:   0%|          | 0/5592 [00:00<?, ?it/s]"
      ]
     },
     "metadata": {},
     "output_type": "display_data"
    },
    {
     "data": {
      "application/vnd.jupyter.widget-view+json": {
       "model_id": "268f972d0ed34c2ab0d8b343437dd626",
       "version_major": 2,
       "version_minor": 0
      },
      "text/plain": [
       "percussive_n_beat_frames:   0%|          | 0/5592 [00:00<?, ?it/s]"
      ]
     },
     "metadata": {},
     "output_type": "display_data"
    },
    {
     "data": {
      "application/vnd.jupyter.widget-view+json": {
       "model_id": "a6043be5f0d74d6a89fdefc39f519616",
       "version_major": 2,
       "version_minor": 0
      },
      "text/plain": [
       "s_cqt_n:   0%|          | 0/2400 [00:00<?, ?it/s]"
      ]
     },
     "metadata": {},
     "output_type": "display_data"
    },
    {
     "data": {
      "application/vnd.jupyter.widget-view+json": {
       "model_id": "184849dcd4964d9b9dad6ecf9ab097fe",
       "version_major": 2,
       "version_minor": 0
      },
      "text/plain": [
       "s_cqt_stats:   0%|          | 0/2400 [00:00<?, ?it/s]"
      ]
     },
     "metadata": {},
     "output_type": "display_data"
    },
    {
     "data": {
      "application/vnd.jupyter.widget-view+json": {
       "model_id": "7c18d9fad68c49c6a90e2fafb901a909",
       "version_major": 2,
       "version_minor": 0
      },
      "text/plain": [
       "s_harmonic_n:   0%|          | 0/2400 [00:00<?, ?it/s]"
      ]
     },
     "metadata": {},
     "output_type": "display_data"
    },
    {
     "data": {
      "application/vnd.jupyter.widget-view+json": {
       "model_id": "a5b12a84d1934115b50bfcddb64e3d4e",
       "version_major": 2,
       "version_minor": 0
      },
      "text/plain": [
       "s_harmonic_stats:   0%|          | 0/2400 [00:00<?, ?it/s]"
      ]
     },
     "metadata": {},
     "output_type": "display_data"
    },
    {
     "data": {
      "application/vnd.jupyter.widget-view+json": {
       "model_id": "9becf2b4d1364b38904cd4a42c185ebd",
       "version_major": 2,
       "version_minor": 0
      },
      "text/plain": [
       "s_percussive_n:   0%|          | 0/2400 [00:00<?, ?it/s]"
      ]
     },
     "metadata": {},
     "output_type": "display_data"
    },
    {
     "data": {
      "application/vnd.jupyter.widget-view+json": {
       "model_id": "27e8b02b1d424b02823df990ac97ae23",
       "version_major": 2,
       "version_minor": 0
      },
      "text/plain": [
       "s_percussive_stats:   0%|          | 0/2400 [00:00<?, ?it/s]"
      ]
     },
     "metadata": {},
     "output_type": "display_data"
    },
    {
     "data": {
      "application/vnd.jupyter.widget-view+json": {
       "model_id": "b8feedbc23cd445380d9aa8ee527f9dd",
       "version_major": 2,
       "version_minor": 0
      },
      "text/plain": [
       "ds_percussive_n:   0%|          | 0/2400 [00:00<?, ?it/s]"
      ]
     },
     "metadata": {},
     "output_type": "display_data"
    },
    {
     "data": {
      "application/vnd.jupyter.widget-view+json": {
       "model_id": "43c55d111ae74d158f29b300613e5568",
       "version_major": 2,
       "version_minor": 0
      },
      "text/plain": [
       "cqt_n_freq_stats:   0%|          | 0/2400 [00:00<?, ?it/s]"
      ]
     },
     "metadata": {},
     "output_type": "display_data"
    },
    {
     "data": {
      "application/vnd.jupyter.widget-view+json": {
       "model_id": "6563e53929944ca69e93b19d81cd0616",
       "version_major": 2,
       "version_minor": 0
      },
      "text/plain": [
       "harmonic_n_freq_stats:   0%|          | 0/2400 [00:00<?, ?it/s]"
      ]
     },
     "metadata": {},
     "output_type": "display_data"
    },
    {
     "data": {
      "application/vnd.jupyter.widget-view+json": {
       "model_id": "63f93888c6a3404d85fb45b690641a5b",
       "version_major": 2,
       "version_minor": 0
      },
      "text/plain": [
       "percussive_n_freq_stats:   0%|          | 0/2400 [00:00<?, ?it/s]"
      ]
     },
     "metadata": {},
     "output_type": "display_data"
    },
    {
     "data": {
      "application/vnd.jupyter.widget-view+json": {
       "model_id": "3209feefb52b46f99b002188247abaf3",
       "version_major": 2,
       "version_minor": 0
      },
      "text/plain": [
       "percussive_n_beat_frames:   0%|          | 0/2400 [00:00<?, ?it/s]"
      ]
     },
     "metadata": {},
     "output_type": "display_data"
    }
   ],
   "source": [
    "E_train.soft_extract()\n",
    "E_eval.soft_extract()"
   ]
  },
  {
   "cell_type": "code",
   "execution_count": 41,
   "id": "87b77ce4-7743-4728-acd6-1ba573e8739d",
   "metadata": {},
   "outputs": [
    {
     "data": {
      "application/vnd.jupyter.widget-view+json": {
       "model_id": "039e9ce2508b40efb0d1ebb397eb7f71",
       "version_major": 2,
       "version_minor": 0
      },
      "text/plain": [
       "MetricVisualizer(layout=Layout(align_self='stretch', height='500px'))"
      ]
     },
     "metadata": {},
     "output_type": "display_data"
    },
    {
     "name": "stdout",
     "output_type": "stream",
     "text": [
      "0:\tlearn: 0.2587625\ttest: 0.2379167\tbest: 0.2379167 (0)\ttotal: 116ms\tremaining: 58.1s\n",
      "50:\tlearn: 0.6443133\ttest: 0.5566667\tbest: 0.5566667 (50)\ttotal: 1.76s\tremaining: 15.5s\n",
      "100:\tlearn: 0.7233548\ttest: 0.5954167\tbest: 0.5991667 (92)\ttotal: 3.37s\tremaining: 13.3s\n",
      "150:\tlearn: 0.7778970\ttest: 0.6179167\tbest: 0.6179167 (150)\ttotal: 5.02s\tremaining: 11.6s\n",
      "200:\tlearn: 0.8133047\ttest: 0.6458333\tbest: 0.6458333 (200)\ttotal: 6.46s\tremaining: 9.61s\n",
      "250:\tlearn: 0.8478183\ttest: 0.6595833\tbest: 0.6595833 (249)\ttotal: 7.83s\tremaining: 7.77s\n",
      "300:\tlearn: 0.8682046\ttest: 0.6591667\tbest: 0.6670833 (275)\ttotal: 9.15s\tremaining: 6.05s\n",
      "350:\tlearn: 0.8835837\ttest: 0.6650000\tbest: 0.6683333 (345)\ttotal: 10.5s\tremaining: 4.46s\n",
      "400:\tlearn: 0.8968169\ttest: 0.6650000\tbest: 0.6691667 (356)\ttotal: 11.8s\tremaining: 2.92s\n",
      "450:\tlearn: 0.9100501\ttest: 0.6762500\tbest: 0.6762500 (450)\ttotal: 13.2s\tremaining: 1.43s\n",
      "499:\tlearn: 0.9216738\ttest: 0.6766667\tbest: 0.6795833 (456)\ttotal: 14.4s\tremaining: 0us\n",
      "\n",
      "bestTest = 0.6795833333\n",
      "bestIteration = 456\n",
      "\n",
      "Shrink model to first 457 iterations.\n",
      "\n",
      "Classification Report:\n",
      "               precision    recall  f1-score   support\n",
      "\n",
      "       blues       0.87      0.67      0.75        30\n",
      "   classical       0.91      1.00      0.95        30\n",
      "     country       0.68      0.83      0.75        30\n",
      "       disco       0.72      0.60      0.65        30\n",
      "      hiphop       0.75      0.70      0.72        30\n",
      "        jazz       0.93      0.93      0.93        30\n",
      "       metal       0.74      0.83      0.78        30\n",
      "         pop       0.70      0.70      0.70        30\n",
      "      reggae       0.69      0.73      0.71        30\n",
      "        rock       0.57      0.53      0.55        30\n",
      "\n",
      "    accuracy                           0.75       300\n",
      "   macro avg       0.76      0.75      0.75       300\n",
      "weighted avg       0.76      0.75      0.75       300\n",
      "\n",
      "Evaluation Accuracy: 0.7533\n"
     ]
    }
   ],
   "source": [
    "features = ['s_bpm', 'cqt_n_freq_stats', 's_cqt_stats', 'harmonic_n_freq_stats', 's_harmonic_stats', 'percussive_n_freq_stats', 's_percussive_stats',\n",
    "           'cqt_spectral_centroid_stats', 'mfcc_quef_stats', 'percussive_n_beat_frames']\n",
    "weights = assign_feature_weights(E_train.get_feature_names_vector(features), dict(s_cqt_stats=0.7, s_harmonic_stats=0.6, s_percussive_stats=0.6, s_rms=0.4, s_bpm=0.7, mfcc_quef=0.8))\n",
    "model, acc = train_and_evaluate_catboost(\n",
    "    idx_eval=E_eval.get_features(['s_idx'])[:,0],\n",
    "    X_train=E_train.get_features(features),\n",
    "    X_eval=E_eval.get_features(features),\n",
    "    y_train=E_train.get_features(['s_y'])[:,0], \n",
    "    y_eval=E_eval.get_features(['s_y'])[:,0],\n",
    "    feature_weights=weights\n",
    ")"
   ]
  },
  {
   "cell_type": "code",
   "execution_count": 42,
   "id": "e1ed93d8-a894-482c-b88c-f33586502445",
   "metadata": {},
   "outputs": [
    {
     "data": {
      "text/html": [
       "<div>\n",
       "<style scoped>\n",
       "    .dataframe tbody tr th:only-of-type {\n",
       "        vertical-align: middle;\n",
       "    }\n",
       "\n",
       "    .dataframe tbody tr th {\n",
       "        vertical-align: top;\n",
       "    }\n",
       "\n",
       "    .dataframe thead th {\n",
       "        text-align: right;\n",
       "    }\n",
       "</style>\n",
       "<table border=\"1\" class=\"dataframe\">\n",
       "  <thead>\n",
       "    <tr style=\"text-align: right;\">\n",
       "      <th></th>\n",
       "      <th>importance</th>\n",
       "    </tr>\n",
       "  </thead>\n",
       "  <tbody>\n",
       "    <tr>\n",
       "      <th>s_percussive_stats_1</th>\n",
       "      <td>3.622309</td>\n",
       "    </tr>\n",
       "    <tr>\n",
       "      <th>mfcc_quef_stats_0</th>\n",
       "      <td>3.247587</td>\n",
       "    </tr>\n",
       "    <tr>\n",
       "      <th>s_cqt_stats_1</th>\n",
       "      <td>2.416829</td>\n",
       "    </tr>\n",
       "    <tr>\n",
       "      <th>harmonic_n_freq_stats_83</th>\n",
       "      <td>2.358456</td>\n",
       "    </tr>\n",
       "    <tr>\n",
       "      <th>s_bpm_0</th>\n",
       "      <td>2.247743</td>\n",
       "    </tr>\n",
       "    <tr>\n",
       "      <th>mfcc_quef_stats_18</th>\n",
       "      <td>2.103800</td>\n",
       "    </tr>\n",
       "    <tr>\n",
       "      <th>mfcc_quef_stats_17</th>\n",
       "      <td>1.753997</td>\n",
       "    </tr>\n",
       "    <tr>\n",
       "      <th>s_cqt_stats_0</th>\n",
       "      <td>1.612409</td>\n",
       "    </tr>\n",
       "    <tr>\n",
       "      <th>mfcc_quef_stats_3</th>\n",
       "      <td>1.561486</td>\n",
       "    </tr>\n",
       "    <tr>\n",
       "      <th>cqt_spectral_centroid_stats_1</th>\n",
       "      <td>1.558299</td>\n",
       "    </tr>\n",
       "    <tr>\n",
       "      <th>harmonic_n_freq_stats_7</th>\n",
       "      <td>1.467752</td>\n",
       "    </tr>\n",
       "    <tr>\n",
       "      <th>mfcc_quef_stats_16</th>\n",
       "      <td>1.459080</td>\n",
       "    </tr>\n",
       "    <tr>\n",
       "      <th>cqt_n_freq_stats_93</th>\n",
       "      <td>1.244493</td>\n",
       "    </tr>\n",
       "    <tr>\n",
       "      <th>percussive_n_freq_stats_103</th>\n",
       "      <td>1.195690</td>\n",
       "    </tr>\n",
       "    <tr>\n",
       "      <th>percussive_n_freq_stats_88</th>\n",
       "      <td>1.127209</td>\n",
       "    </tr>\n",
       "  </tbody>\n",
       "</table>\n",
       "</div>"
      ],
      "text/plain": [
       "                               importance\n",
       "s_percussive_stats_1             3.622309\n",
       "mfcc_quef_stats_0                3.247587\n",
       "s_cqt_stats_1                    2.416829\n",
       "harmonic_n_freq_stats_83         2.358456\n",
       "s_bpm_0                          2.247743\n",
       "mfcc_quef_stats_18               2.103800\n",
       "mfcc_quef_stats_17               1.753997\n",
       "s_cqt_stats_0                    1.612409\n",
       "mfcc_quef_stats_3                1.561486\n",
       "cqt_spectral_centroid_stats_1    1.558299\n",
       "harmonic_n_freq_stats_7          1.467752\n",
       "mfcc_quef_stats_16               1.459080\n",
       "cqt_n_freq_stats_93              1.244493\n",
       "percussive_n_freq_stats_103      1.195690\n",
       "percussive_n_freq_stats_88       1.127209"
      ]
     },
     "execution_count": 42,
     "metadata": {},
     "output_type": "execute_result"
    }
   ],
   "source": [
    "pd.DataFrame(\n",
    "    data=model.feature_importances_, \n",
    "    index=E_train.get_feature_names_vector(features), \n",
    "    columns=['importance']\n",
    ").sort_values(by='importance', ascending=False).head(15)"
   ]
  },
  {
   "cell_type": "code",
   "execution_count": 43,
   "id": "f953eaba-289c-4134-8787-c43a533f96dd",
   "metadata": {},
   "outputs": [
    {
     "data": {
      "application/vnd.jupyter.widget-view+json": {
       "model_id": "821fed46305446e194b540a7948fbee6",
       "version_major": 2,
       "version_minor": 0
      },
      "text/plain": [
       "MetricVisualizer(layout=Layout(align_self='stretch', height='500px'))"
      ]
     },
     "metadata": {},
     "output_type": "display_data"
    },
    {
     "name": "stdout",
     "output_type": "stream",
     "text": [
      "0:\tlearn: 0.2888054\ttest: 0.2795833\tbest: 0.2795833 (0)\ttotal: 85.2ms\tremaining: 42.5s\n",
      "50:\tlearn: 0.7315808\ttest: 0.6283333\tbest: 0.6295833 (49)\ttotal: 1.66s\tremaining: 14.6s\n",
      "100:\tlearn: 0.8369099\ttest: 0.7112500\tbest: 0.7112500 (100)\ttotal: 3.26s\tremaining: 12.9s\n",
      "150:\tlearn: 0.8891273\ttest: 0.7420833\tbest: 0.7420833 (149)\ttotal: 4.93s\tremaining: 11.4s\n",
      "200:\tlearn: 0.9197067\ttest: 0.7570833\tbest: 0.7608333 (192)\ttotal: 6.41s\tremaining: 9.53s\n",
      "250:\tlearn: 0.9433119\ttest: 0.7687500\tbest: 0.7700000 (244)\ttotal: 7.89s\tremaining: 7.82s\n",
      "300:\tlearn: 0.9590486\ttest: 0.7750000\tbest: 0.7775000 (278)\ttotal: 9.36s\tremaining: 6.19s\n",
      "350:\tlearn: 0.9699571\ttest: 0.7754167\tbest: 0.7787500 (317)\ttotal: 10.9s\tremaining: 4.64s\n",
      "400:\tlearn: 0.9763948\ttest: 0.7845833\tbest: 0.7845833 (399)\ttotal: 12.5s\tremaining: 3.08s\n",
      "450:\tlearn: 0.9806867\ttest: 0.7879167\tbest: 0.7887500 (427)\ttotal: 14s\tremaining: 1.52s\n",
      "499:\tlearn: 0.9856938\ttest: 0.7858333\tbest: 0.7887500 (427)\ttotal: 15.7s\tremaining: 0us\n",
      "\n",
      "bestTest = 0.78875\n",
      "bestIteration = 427\n",
      "\n",
      "Shrink model to first 428 iterations.\n",
      "\n",
      "Classification Report:\n",
      "               precision    recall  f1-score   support\n",
      "\n",
      "       blues       0.93      0.83      0.88        30\n",
      "   classical       0.94      1.00      0.97        30\n",
      "     country       0.82      0.93      0.88        30\n",
      "       disco       0.79      0.63      0.70        30\n",
      "      hiphop       0.73      0.90      0.81        30\n",
      "        jazz       0.82      0.90      0.86        30\n",
      "       metal       0.96      0.80      0.87        30\n",
      "         pop       0.79      0.90      0.84        30\n",
      "      reggae       0.75      0.70      0.72        30\n",
      "        rock       0.65      0.57      0.61        30\n",
      "\n",
      "    accuracy                           0.82       300\n",
      "   macro avg       0.82      0.82      0.81       300\n",
      "weighted avg       0.82      0.82      0.81       300\n",
      "\n",
      "Evaluation Accuracy: 0.8167\n"
     ]
    }
   ],
   "source": [
    "features = ['s_stats', 's_bpm', 'cqt_per_freq_stats', 'harmonic_per_freq_stats', 'percussive_per_freq_stats',\n",
    "           'cqt_spectral_centroid_stats', 'mfcc_quef_stats', 'percussive_beat_frames']\n",
    "weights = assign_feature_weights(E_train.get_feature_names_vector(features), dict(s_stats=0.6, s_rms=0.5, s_bpm=0.7, mfcc_quef=0.8))\n",
    "model, acc = train_and_evaluate_catboost(\n",
    "    idx_eval=E_eval.get_features(['s_idx'])[:,0],\n",
    "    X_train=E_train.get_features(features),\n",
    "    X_eval=E_eval.get_features(features),\n",
    "    y_train=E_train.get_features(['s_y'])[:,0], \n",
    "    y_eval=E_eval.get_features(['s_y'])[:,0],\n",
    "    feature_weights=weights\n",
    ")"
   ]
  },
  {
   "cell_type": "code",
   "execution_count": 44,
   "id": "5743316b-866d-4ff5-ba81-d2cf5c6760b7",
   "metadata": {},
   "outputs": [
    {
     "data": {
      "text/html": [
       "<div>\n",
       "<style scoped>\n",
       "    .dataframe tbody tr th:only-of-type {\n",
       "        vertical-align: middle;\n",
       "    }\n",
       "\n",
       "    .dataframe tbody tr th {\n",
       "        vertical-align: top;\n",
       "    }\n",
       "\n",
       "    .dataframe thead th {\n",
       "        text-align: right;\n",
       "    }\n",
       "</style>\n",
       "<table border=\"1\" class=\"dataframe\">\n",
       "  <thead>\n",
       "    <tr style=\"text-align: right;\">\n",
       "      <th></th>\n",
       "      <th>importance</th>\n",
       "      <th>stat_name</th>\n",
       "    </tr>\n",
       "  </thead>\n",
       "  <tbody>\n",
       "    <tr>\n",
       "      <th>s_stats_26</th>\n",
       "      <td>3.987028</td>\n",
       "      <td>mfcc5_var</td>\n",
       "    </tr>\n",
       "    <tr>\n",
       "      <th>s_stats_23</th>\n",
       "      <td>3.011799</td>\n",
       "      <td>mfcc4_mean</td>\n",
       "    </tr>\n",
       "    <tr>\n",
       "      <th>cqt_per_freq_stats_92</th>\n",
       "      <td>2.830735</td>\n",
       "      <td>None</td>\n",
       "    </tr>\n",
       "    <tr>\n",
       "      <th>s_stats_0</th>\n",
       "      <td>2.760507</td>\n",
       "      <td>chroma_stft_mean</td>\n",
       "    </tr>\n",
       "    <tr>\n",
       "      <th>s_stats_27</th>\n",
       "      <td>2.348419</td>\n",
       "      <td>mfcc6_mean</td>\n",
       "    </tr>\n",
       "    <tr>\n",
       "      <th>s_stats_5</th>\n",
       "      <td>2.319081</td>\n",
       "      <td>spectral_centroid_var</td>\n",
       "    </tr>\n",
       "    <tr>\n",
       "      <th>s_stats_49</th>\n",
       "      <td>2.257560</td>\n",
       "      <td>mfcc17_mean</td>\n",
       "    </tr>\n",
       "    <tr>\n",
       "      <th>s_stats_12</th>\n",
       "      <td>1.937921</td>\n",
       "      <td>harmony_mean</td>\n",
       "    </tr>\n",
       "    <tr>\n",
       "      <th>percussive_per_freq_stats_103</th>\n",
       "      <td>1.802494</td>\n",
       "      <td>None</td>\n",
       "    </tr>\n",
       "    <tr>\n",
       "      <th>s_stats_33</th>\n",
       "      <td>1.349599</td>\n",
       "      <td>mfcc9_mean</td>\n",
       "    </tr>\n",
       "    <tr>\n",
       "      <th>s_bpm_0</th>\n",
       "      <td>1.236877</td>\n",
       "      <td>None</td>\n",
       "    </tr>\n",
       "    <tr>\n",
       "      <th>percussive_per_freq_stats_111</th>\n",
       "      <td>1.181563</td>\n",
       "      <td>None</td>\n",
       "    </tr>\n",
       "    <tr>\n",
       "      <th>s_stats_6</th>\n",
       "      <td>1.169448</td>\n",
       "      <td>spectral_bandwidth_mean</td>\n",
       "    </tr>\n",
       "    <tr>\n",
       "      <th>s_stats_36</th>\n",
       "      <td>1.161742</td>\n",
       "      <td>mfcc10_var</td>\n",
       "    </tr>\n",
       "    <tr>\n",
       "      <th>percussive_per_freq_stats_100</th>\n",
       "      <td>1.160310</td>\n",
       "      <td>None</td>\n",
       "    </tr>\n",
       "  </tbody>\n",
       "</table>\n",
       "</div>"
      ],
      "text/plain": [
       "                               importance                stat_name\n",
       "s_stats_26                       3.987028                mfcc5_var\n",
       "s_stats_23                       3.011799               mfcc4_mean\n",
       "cqt_per_freq_stats_92            2.830735                     None\n",
       "s_stats_0                        2.760507         chroma_stft_mean\n",
       "s_stats_27                       2.348419               mfcc6_mean\n",
       "s_stats_5                        2.319081    spectral_centroid_var\n",
       "s_stats_49                       2.257560              mfcc17_mean\n",
       "s_stats_12                       1.937921             harmony_mean\n",
       "percussive_per_freq_stats_103    1.802494                     None\n",
       "s_stats_33                       1.349599               mfcc9_mean\n",
       "s_bpm_0                          1.236877                     None\n",
       "percussive_per_freq_stats_111    1.181563                     None\n",
       "s_stats_6                        1.169448  spectral_bandwidth_mean\n",
       "s_stats_36                       1.161742               mfcc10_var\n",
       "percussive_per_freq_stats_100    1.160310                     None"
      ]
     },
     "execution_count": 44,
     "metadata": {},
     "output_type": "execute_result"
    }
   ],
   "source": [
    "imp = pd.DataFrame(\n",
    "    data=model.feature_importances_, \n",
    "    index=E_train.get_feature_names_vector(features), \n",
    "    columns=['importance']\n",
    ").sort_values(by='importance', ascending=False).head(15)\n",
    "imp['stat_name'] = pd.Series(imp.index, index=imp.index).apply(lambda x: int(x[8:]) if x.startswith('s_stats') else None)\n",
    "imp['stat_name'] = imp['stat_name'].apply(lambda x: X_train.columns[int(x) + 2] if not np.isnan(x) else None)\n",
    "imp"
   ]
  },
  {
   "cell_type": "code",
   "execution_count": 45,
   "id": "b3076e7b-0da0-44c5-99d5-77d5ce1e208f",
   "metadata": {},
   "outputs": [],
   "source": [
    "Extractor.register_extractor('cqt_chroma_1d_stats', lambda cqt_chroma: np.array([np.mean(cqt_chroma), np.var(cqt_chroma)]))\n",
    "Extractor.register_extractor('harmonic_chroma_1d_stats', lambda harmonic_chroma: np.array([np.mean(harmonic_chroma), np.var(harmonic_chroma)]))"
   ]
  },
  {
   "cell_type": "code",
   "execution_count": 46,
   "id": "30f28fd6-5054-48b1-894f-9e442fee36f2",
   "metadata": {},
   "outputs": [
    {
     "data": {
      "application/vnd.jupyter.widget-view+json": {
       "model_id": "e875ea854d9648f0b8deb0f65efd00a9",
       "version_major": 2,
       "version_minor": 0
      },
      "text/plain": [
       "cqt_chroma_1d_stats:   0%|          | 0/5592 [00:00<?, ?it/s]"
      ]
     },
     "metadata": {},
     "output_type": "display_data"
    },
    {
     "data": {
      "application/vnd.jupyter.widget-view+json": {
       "model_id": "cc850c11f2ac4752bf43b2e6cec1a8e6",
       "version_major": 2,
       "version_minor": 0
      },
      "text/plain": [
       "harmonic_chroma_1d_stats:   0%|          | 0/5592 [00:00<?, ?it/s]"
      ]
     },
     "metadata": {},
     "output_type": "display_data"
    },
    {
     "data": {
      "application/vnd.jupyter.widget-view+json": {
       "model_id": "a8d17da3c8c5404fb31d3dc04956463d",
       "version_major": 2,
       "version_minor": 0
      },
      "text/plain": [
       "cqt_chroma_1d_stats:   0%|          | 0/2400 [00:00<?, ?it/s]"
      ]
     },
     "metadata": {},
     "output_type": "display_data"
    },
    {
     "data": {
      "application/vnd.jupyter.widget-view+json": {
       "model_id": "c42529cb10004611b5480eb2c55163b5",
       "version_major": 2,
       "version_minor": 0
      },
      "text/plain": [
       "harmonic_chroma_1d_stats:   0%|          | 0/2400 [00:00<?, ?it/s]"
      ]
     },
     "metadata": {},
     "output_type": "display_data"
    }
   ],
   "source": [
    "E_train.soft_extract()\n",
    "E_eval.soft_extract()"
   ]
  },
  {
   "cell_type": "code",
   "execution_count": 48,
   "id": "fff9fa80-8425-4478-b015-2a8a6d2285b5",
   "metadata": {},
   "outputs": [
    {
     "data": {
      "application/vnd.jupyter.widget-view+json": {
       "model_id": "8df8cf497feb4036bc98461bb663169a",
       "version_major": 2,
       "version_minor": 0
      },
      "text/plain": [
       "MetricVisualizer(layout=Layout(align_self='stretch', height='500px'))"
      ]
     },
     "metadata": {},
     "output_type": "display_data"
    },
    {
     "name": "stdout",
     "output_type": "stream",
     "text": [
      "0:\tlearn: 0.2979256\ttest: 0.3029167\tbest: 0.3029167 (0)\ttotal: 86.9ms\tremaining: 43.4s\n",
      "50:\tlearn: 0.6287554\ttest: 0.5566667\tbest: 0.5591667 (47)\ttotal: 1.6s\tremaining: 14.1s\n",
      "100:\tlearn: 0.7226395\ttest: 0.5958333\tbest: 0.5958333 (100)\ttotal: 2.96s\tremaining: 11.7s\n",
      "150:\tlearn: 0.7846924\ttest: 0.6316667\tbest: 0.6316667 (150)\ttotal: 4.31s\tremaining: 9.96s\n",
      "200:\tlearn: 0.8279685\ttest: 0.6529167\tbest: 0.6550000 (196)\ttotal: 5.69s\tremaining: 8.46s\n",
      "250:\tlearn: 0.8528255\ttest: 0.6700000\tbest: 0.6729167 (247)\ttotal: 7.26s\tremaining: 7.2s\n",
      "300:\tlearn: 0.8694564\ttest: 0.6766667\tbest: 0.6766667 (300)\ttotal: 8.66s\tremaining: 5.72s\n",
      "350:\tlearn: 0.8891273\ttest: 0.6812500\tbest: 0.6812500 (314)\ttotal: 10s\tremaining: 4.25s\n",
      "400:\tlearn: 0.8980687\ttest: 0.6908333\tbest: 0.6925000 (386)\ttotal: 11.4s\tremaining: 2.82s\n",
      "450:\tlearn: 0.9105866\ttest: 0.6833333\tbest: 0.6925000 (386)\ttotal: 12.9s\tremaining: 1.4s\n",
      "499:\tlearn: 0.9245351\ttest: 0.6862500\tbest: 0.6925000 (386)\ttotal: 14.4s\tremaining: 0us\n",
      "\n",
      "bestTest = 0.6925\n",
      "bestIteration = 386\n",
      "\n",
      "Shrink model to first 387 iterations.\n",
      "\n",
      "Classification Report:\n",
      "               precision    recall  f1-score   support\n",
      "\n",
      "       blues       0.88      0.70      0.78        30\n",
      "   classical       0.91      0.97      0.94        30\n",
      "     country       0.69      0.83      0.76        30\n",
      "       disco       0.83      0.63      0.72        30\n",
      "      hiphop       0.70      0.70      0.70        30\n",
      "        jazz       0.81      0.87      0.84        30\n",
      "       metal       0.85      0.77      0.81        30\n",
      "         pop       0.60      0.70      0.65        30\n",
      "      reggae       0.72      0.77      0.74        30\n",
      "        rock       0.55      0.53      0.54        30\n",
      "\n",
      "    accuracy                           0.75       300\n",
      "   macro avg       0.75      0.75      0.75       300\n",
      "weighted avg       0.75      0.75      0.75       300\n",
      "\n",
      "Evaluation Accuracy: 0.7467\n"
     ]
    }
   ],
   "source": [
    "features = ['s_bpm', 'cqt_per_freq_stats', 'harmonic_per_freq_stats', 'percussive_per_freq_stats',\n",
    "           'cqt_spectral_centroid_stats', 'mfcc_quef_stats', 'percussive_beat_frames', 'cqt_chroma_1d_stats', 'harmonic_chroma_1d_stats']\n",
    "weights = assign_feature_weights(E_train.get_feature_names_vector(features), dict(s_rms=0.5, s_bpm=0.7, mfcc_quef=0.8))\n",
    "model, acc = train_and_evaluate_catboost(\n",
    "    idx_eval=E_eval.get_features(['s_idx'])[:,0],\n",
    "    X_train=E_train.get_features(features),\n",
    "    X_eval=E_eval.get_features(features),\n",
    "    y_train=E_train.get_features(['s_y'])[:,0], \n",
    "    y_eval=E_eval.get_features(['s_y'])[:,0],\n",
    "    feature_weights=weights\n",
    ")"
   ]
  },
  {
   "cell_type": "code",
   "execution_count": 49,
   "id": "265c43f3-b03d-46e4-ba5d-8f898e823f1d",
   "metadata": {},
   "outputs": [
    {
     "data": {
      "text/html": [
       "<div>\n",
       "<style scoped>\n",
       "    .dataframe tbody tr th:only-of-type {\n",
       "        vertical-align: middle;\n",
       "    }\n",
       "\n",
       "    .dataframe tbody tr th {\n",
       "        vertical-align: top;\n",
       "    }\n",
       "\n",
       "    .dataframe thead th {\n",
       "        text-align: right;\n",
       "    }\n",
       "</style>\n",
       "<table border=\"1\" class=\"dataframe\">\n",
       "  <thead>\n",
       "    <tr style=\"text-align: right;\">\n",
       "      <th></th>\n",
       "      <th>importance</th>\n",
       "    </tr>\n",
       "  </thead>\n",
       "  <tbody>\n",
       "    <tr>\n",
       "      <th>percussive_per_freq_stats_90</th>\n",
       "      <td>2.163735</td>\n",
       "    </tr>\n",
       "    <tr>\n",
       "      <th>percussive_per_freq_stats_100</th>\n",
       "      <td>2.024634</td>\n",
       "    </tr>\n",
       "    <tr>\n",
       "      <th>percussive_per_freq_stats_111</th>\n",
       "      <td>1.921634</td>\n",
       "    </tr>\n",
       "    <tr>\n",
       "      <th>percussive_per_freq_stats_97</th>\n",
       "      <td>1.631323</td>\n",
       "    </tr>\n",
       "    <tr>\n",
       "      <th>harmonic_chroma_1d_stats_1</th>\n",
       "      <td>1.546851</td>\n",
       "    </tr>\n",
       "    <tr>\n",
       "      <th>percussive_per_freq_stats_96</th>\n",
       "      <td>1.495992</td>\n",
       "    </tr>\n",
       "    <tr>\n",
       "      <th>percussive_per_freq_stats_104</th>\n",
       "      <td>1.493473</td>\n",
       "    </tr>\n",
       "    <tr>\n",
       "      <th>s_bpm_0</th>\n",
       "      <td>1.382369</td>\n",
       "    </tr>\n",
       "    <tr>\n",
       "      <th>mfcc_quef_stats_16</th>\n",
       "      <td>1.374480</td>\n",
       "    </tr>\n",
       "    <tr>\n",
       "      <th>mfcc_quef_stats_3</th>\n",
       "      <td>1.330870</td>\n",
       "    </tr>\n",
       "    <tr>\n",
       "      <th>cqt_spectral_centroid_stats_1</th>\n",
       "      <td>1.247425</td>\n",
       "    </tr>\n",
       "    <tr>\n",
       "      <th>cqt_per_freq_stats_92</th>\n",
       "      <td>1.218076</td>\n",
       "    </tr>\n",
       "    <tr>\n",
       "      <th>mfcc_quef_stats_15</th>\n",
       "      <td>1.181741</td>\n",
       "    </tr>\n",
       "    <tr>\n",
       "      <th>mfcc_quef_stats_17</th>\n",
       "      <td>1.099407</td>\n",
       "    </tr>\n",
       "    <tr>\n",
       "      <th>percussive_per_freq_stats_14</th>\n",
       "      <td>1.094665</td>\n",
       "    </tr>\n",
       "  </tbody>\n",
       "</table>\n",
       "</div>"
      ],
      "text/plain": [
       "                               importance\n",
       "percussive_per_freq_stats_90     2.163735\n",
       "percussive_per_freq_stats_100    2.024634\n",
       "percussive_per_freq_stats_111    1.921634\n",
       "percussive_per_freq_stats_97     1.631323\n",
       "harmonic_chroma_1d_stats_1       1.546851\n",
       "percussive_per_freq_stats_96     1.495992\n",
       "percussive_per_freq_stats_104    1.493473\n",
       "s_bpm_0                          1.382369\n",
       "mfcc_quef_stats_16               1.374480\n",
       "mfcc_quef_stats_3                1.330870\n",
       "cqt_spectral_centroid_stats_1    1.247425\n",
       "cqt_per_freq_stats_92            1.218076\n",
       "mfcc_quef_stats_15               1.181741\n",
       "mfcc_quef_stats_17               1.099407\n",
       "percussive_per_freq_stats_14     1.094665"
      ]
     },
     "execution_count": 49,
     "metadata": {},
     "output_type": "execute_result"
    }
   ],
   "source": [
    "pd.DataFrame(\n",
    "    data=model.feature_importances_, \n",
    "    index=E_train.get_feature_names_vector(features), \n",
    "    columns=['importance']\n",
    ").sort_values(by='importance', ascending=False).head(15)"
   ]
  },
  {
   "cell_type": "code",
   "execution_count": 50,
   "id": "d833f410-a7dc-4920-9b40-aedfb4bf87a7",
   "metadata": {},
   "outputs": [],
   "source": [
    "roll_percent = 0.85\n",
    "Extractor.register_extractor('cqt_rollof', \n",
    "                             lambda s_cqt: librosa.feature.spectral.spectral_rolloff(S=s_cqt, freq=cqt_frequencies, roll_percent=roll_percent))\n",
    "\n",
    "Extractor.register_extractor('cqt_rollof_stats', \n",
    "                             lambda cqt_rollof: np.array([cqt_rollof.mean(), cqt_rollof.var()]))\n",
    "\n",
    "Extractor.register_extractor('cqt_bandwidth', \n",
    "                             lambda s_cqt: librosa.feature.spectral.spectral_bandwidth(S=s_cqt, freq=cqt_frequencies))\n",
    "\n",
    "Extractor.register_extractor('cqt_bandwidth_stats', \n",
    "                             lambda cqt_bandwidth: np.array([cqt_bandwidth.mean(), cqt_bandwidth.var()]))\n",
    "\n"
   ]
  },
  {
   "cell_type": "code",
   "execution_count": 51,
   "id": "b490ed89-526a-404d-b847-5bd4ea29e637",
   "metadata": {},
   "outputs": [
    {
     "data": {
      "application/vnd.jupyter.widget-view+json": {
       "model_id": "7d6ff35f229c4d1991d6e822bdd6e717",
       "version_major": 2,
       "version_minor": 0
      },
      "text/plain": [
       "cqt_rollof:   0%|          | 0/5592 [00:00<?, ?it/s]"
      ]
     },
     "metadata": {},
     "output_type": "display_data"
    },
    {
     "data": {
      "application/vnd.jupyter.widget-view+json": {
       "model_id": "3cc36731a06d44dbb046d3d9b279a1d2",
       "version_major": 2,
       "version_minor": 0
      },
      "text/plain": [
       "cqt_rollof_stats:   0%|          | 0/5592 [00:00<?, ?it/s]"
      ]
     },
     "metadata": {},
     "output_type": "display_data"
    },
    {
     "data": {
      "application/vnd.jupyter.widget-view+json": {
       "model_id": "fa013fefb1444d7288920d32a937522d",
       "version_major": 2,
       "version_minor": 0
      },
      "text/plain": [
       "cqt_bandwidth:   0%|          | 0/5592 [00:00<?, ?it/s]"
      ]
     },
     "metadata": {},
     "output_type": "display_data"
    },
    {
     "data": {
      "application/vnd.jupyter.widget-view+json": {
       "model_id": "70dccacaf9a549969c998ddcc3968365",
       "version_major": 2,
       "version_minor": 0
      },
      "text/plain": [
       "cqt_bandwidth_stats:   0%|          | 0/5592 [00:00<?, ?it/s]"
      ]
     },
     "metadata": {},
     "output_type": "display_data"
    },
    {
     "data": {
      "application/vnd.jupyter.widget-view+json": {
       "model_id": "e6c3b959c106443f86370f2d4a5aaf27",
       "version_major": 2,
       "version_minor": 0
      },
      "text/plain": [
       "cqt_rollof:   0%|          | 0/2400 [00:00<?, ?it/s]"
      ]
     },
     "metadata": {},
     "output_type": "display_data"
    },
    {
     "data": {
      "application/vnd.jupyter.widget-view+json": {
       "model_id": "16a29caed5a04265b8ea8ff8046f29d4",
       "version_major": 2,
       "version_minor": 0
      },
      "text/plain": [
       "cqt_rollof_stats:   0%|          | 0/2400 [00:00<?, ?it/s]"
      ]
     },
     "metadata": {},
     "output_type": "display_data"
    },
    {
     "data": {
      "application/vnd.jupyter.widget-view+json": {
       "model_id": "8882ff32106542babca4b55fde54ac1c",
       "version_major": 2,
       "version_minor": 0
      },
      "text/plain": [
       "cqt_bandwidth:   0%|          | 0/2400 [00:00<?, ?it/s]"
      ]
     },
     "metadata": {},
     "output_type": "display_data"
    },
    {
     "data": {
      "application/vnd.jupyter.widget-view+json": {
       "model_id": "4236fb6ac11d415192be96f7a3f3fdae",
       "version_major": 2,
       "version_minor": 0
      },
      "text/plain": [
       "cqt_bandwidth_stats:   0%|          | 0/2400 [00:00<?, ?it/s]"
      ]
     },
     "metadata": {},
     "output_type": "display_data"
    }
   ],
   "source": [
    "E_train.soft_extract()\n",
    "E_eval.soft_extract()"
   ]
  },
  {
   "cell_type": "code",
   "execution_count": 52,
   "id": "125cfdf5-9a51-4201-a882-6c8a836796ac",
   "metadata": {},
   "outputs": [
    {
     "data": {
      "application/vnd.jupyter.widget-view+json": {
       "model_id": "8b05fcb939ea4c9bab38cb1700d70955",
       "version_major": 2,
       "version_minor": 0
      },
      "text/plain": [
       "MetricVisualizer(layout=Layout(align_self='stretch', height='500px'))"
      ]
     },
     "metadata": {},
     "output_type": "display_data"
    },
    {
     "name": "stdout",
     "output_type": "stream",
     "text": [
      "0:\tlearn: 0.2948856\ttest: 0.2916667\tbest: 0.2916667 (0)\ttotal: 71ms\tremaining: 35.4s\n",
      "50:\tlearn: 0.6412732\ttest: 0.5470833\tbest: 0.5491667 (49)\ttotal: 1.56s\tremaining: 13.8s\n",
      "100:\tlearn: 0.7355150\ttest: 0.6333333\tbest: 0.6333333 (100)\ttotal: 3.02s\tremaining: 11.9s\n",
      "150:\tlearn: 0.7939914\ttest: 0.6529167\tbest: 0.6537500 (140)\ttotal: 4.37s\tremaining: 10.1s\n",
      "200:\tlearn: 0.8304721\ttest: 0.6712500\tbest: 0.6737500 (198)\ttotal: 5.74s\tremaining: 8.53s\n",
      "250:\tlearn: 0.8555079\ttest: 0.6800000\tbest: 0.6825000 (247)\ttotal: 7.12s\tremaining: 7.06s\n",
      "300:\tlearn: 0.8782189\ttest: 0.6900000\tbest: 0.6925000 (297)\ttotal: 8.54s\tremaining: 5.64s\n",
      "350:\tlearn: 0.8952074\ttest: 0.6945833\tbest: 0.6979167 (342)\ttotal: 9.87s\tremaining: 4.19s\n",
      "400:\tlearn: 0.9028970\ttest: 0.6962500\tbest: 0.6979167 (342)\ttotal: 11.2s\tremaining: 2.77s\n",
      "450:\tlearn: 0.9161302\ttest: 0.6995833\tbest: 0.7020833 (446)\ttotal: 12.6s\tremaining: 1.37s\n",
      "499:\tlearn: 0.9257868\ttest: 0.7054167\tbest: 0.7054167 (494)\ttotal: 13.9s\tremaining: 0us\n",
      "\n",
      "bestTest = 0.7054166667\n",
      "bestIteration = 494\n",
      "\n",
      "Shrink model to first 495 iterations.\n",
      "\n",
      "Classification Report:\n",
      "               precision    recall  f1-score   support\n",
      "\n",
      "       blues       0.87      0.67      0.75        30\n",
      "   classical       0.91      1.00      0.95        30\n",
      "     country       0.76      0.93      0.84        30\n",
      "       disco       0.80      0.67      0.73        30\n",
      "      hiphop       0.59      0.67      0.62        30\n",
      "        jazz       0.84      0.87      0.85        30\n",
      "       metal       0.77      0.80      0.79        30\n",
      "         pop       0.66      0.70      0.68        30\n",
      "      reggae       0.69      0.73      0.71        30\n",
      "        rock       0.68      0.50      0.58        30\n",
      "\n",
      "    accuracy                           0.75       300\n",
      "   macro avg       0.76      0.75      0.75       300\n",
      "weighted avg       0.76      0.75      0.75       300\n",
      "\n",
      "Evaluation Accuracy: 0.7533\n"
     ]
    }
   ],
   "source": [
    "features = ['s_bpm', 'cqt_per_freq_stats', 'harmonic_per_freq_stats', 'percussive_per_freq_stats',\n",
    "           'cqt_spectral_centroid_stats', 'mfcc_quef_stats', 'percussive_beat_frames']\n",
    "weights = assign_feature_weights(E_train.get_feature_names_vector(features), dict(s_rms=0.5, s_bpm=0.7, mfcc_quef=0.8))\n",
    "model, acc = train_and_evaluate_catboost(\n",
    "    idx_eval=E_eval.get_features(['s_idx'])[:,0],\n",
    "    X_train=E_train.get_features(features),\n",
    "    X_eval=E_eval.get_features(features),\n",
    "    y_train=E_train.get_features(['s_y'])[:,0], \n",
    "    y_eval=E_eval.get_features(['s_y'])[:,0],\n",
    "    feature_weights=weights\n",
    ")"
   ]
  },
  {
   "cell_type": "code",
   "execution_count": 53,
   "id": "fb556cea-be41-4826-a131-af28c1707e30",
   "metadata": {},
   "outputs": [
    {
     "data": {
      "text/html": [
       "<div>\n",
       "<style scoped>\n",
       "    .dataframe tbody tr th:only-of-type {\n",
       "        vertical-align: middle;\n",
       "    }\n",
       "\n",
       "    .dataframe tbody tr th {\n",
       "        vertical-align: top;\n",
       "    }\n",
       "\n",
       "    .dataframe thead th {\n",
       "        text-align: right;\n",
       "    }\n",
       "</style>\n",
       "<table border=\"1\" class=\"dataframe\">\n",
       "  <thead>\n",
       "    <tr style=\"text-align: right;\">\n",
       "      <th></th>\n",
       "      <th>importance</th>\n",
       "    </tr>\n",
       "  </thead>\n",
       "  <tbody>\n",
       "    <tr>\n",
       "      <th>percussive_per_freq_stats_98</th>\n",
       "      <td>1.683429</td>\n",
       "    </tr>\n",
       "    <tr>\n",
       "      <th>percussive_per_freq_stats_113</th>\n",
       "      <td>1.587868</td>\n",
       "    </tr>\n",
       "    <tr>\n",
       "      <th>mfcc_quef_stats_3</th>\n",
       "      <td>1.586469</td>\n",
       "    </tr>\n",
       "    <tr>\n",
       "      <th>mfcc_quef_stats_17</th>\n",
       "      <td>1.485321</td>\n",
       "    </tr>\n",
       "    <tr>\n",
       "      <th>cqt_per_freq_stats_94</th>\n",
       "      <td>1.375286</td>\n",
       "    </tr>\n",
       "    <tr>\n",
       "      <th>percussive_per_freq_stats_102</th>\n",
       "      <td>1.332278</td>\n",
       "    </tr>\n",
       "    <tr>\n",
       "      <th>s_bpm_0</th>\n",
       "      <td>1.191832</td>\n",
       "    </tr>\n",
       "    <tr>\n",
       "      <th>cqt_spectral_centroid_stats_1</th>\n",
       "      <td>1.160879</td>\n",
       "    </tr>\n",
       "    <tr>\n",
       "      <th>harmonic_per_freq_stats_83</th>\n",
       "      <td>1.100160</td>\n",
       "    </tr>\n",
       "    <tr>\n",
       "      <th>percussive_per_freq_stats_105</th>\n",
       "      <td>1.059791</td>\n",
       "    </tr>\n",
       "    <tr>\n",
       "      <th>mfcc_quef_stats_16</th>\n",
       "      <td>1.046747</td>\n",
       "    </tr>\n",
       "    <tr>\n",
       "      <th>harmonic_per_freq_stats_80</th>\n",
       "      <td>1.036255</td>\n",
       "    </tr>\n",
       "    <tr>\n",
       "      <th>percussive_per_freq_stats_96</th>\n",
       "      <td>1.027046</td>\n",
       "    </tr>\n",
       "    <tr>\n",
       "      <th>harmonic_per_freq_stats_27</th>\n",
       "      <td>1.021683</td>\n",
       "    </tr>\n",
       "    <tr>\n",
       "      <th>percussive_per_freq_stats_88</th>\n",
       "      <td>0.978139</td>\n",
       "    </tr>\n",
       "  </tbody>\n",
       "</table>\n",
       "</div>"
      ],
      "text/plain": [
       "                               importance\n",
       "percussive_per_freq_stats_98     1.683429\n",
       "percussive_per_freq_stats_113    1.587868\n",
       "mfcc_quef_stats_3                1.586469\n",
       "mfcc_quef_stats_17               1.485321\n",
       "cqt_per_freq_stats_94            1.375286\n",
       "percussive_per_freq_stats_102    1.332278\n",
       "s_bpm_0                          1.191832\n",
       "cqt_spectral_centroid_stats_1    1.160879\n",
       "harmonic_per_freq_stats_83       1.100160\n",
       "percussive_per_freq_stats_105    1.059791\n",
       "mfcc_quef_stats_16               1.046747\n",
       "harmonic_per_freq_stats_80       1.036255\n",
       "percussive_per_freq_stats_96     1.027046\n",
       "harmonic_per_freq_stats_27       1.021683\n",
       "percussive_per_freq_stats_88     0.978139"
      ]
     },
     "execution_count": 53,
     "metadata": {},
     "output_type": "execute_result"
    }
   ],
   "source": [
    "pd.DataFrame(\n",
    "    data=model.feature_importances_, \n",
    "    index=E_train.get_feature_names_vector(features), \n",
    "    columns=['importance']\n",
    ").sort_values(by='importance', ascending=False).head(15)"
   ]
  },
  {
   "cell_type": "markdown",
   "id": "a9f4925b-a9a8-417e-8f43-0843ef2f8ee9",
   "metadata": {},
   "source": [
    "TODO: Write some reasoning for SVD"
   ]
  },
  {
   "cell_type": "code",
   "execution_count": 111,
   "id": "291b20c8-ddfc-4965-bad1-b9d200eb7573",
   "metadata": {},
   "outputs": [],
   "source": [
    "from sklearn.decomposition import TruncatedSVD, PCA\n",
    "\n",
    "n_tsvd_components = 10\n",
    "n_svd_iter=20\n",
    "\n",
    "Extractor.register_extractor('harmonic_per_freq_mean', lambda harmonic_per_freq_stats: harmonic_per_freq_stats[:n_bins])\n",
    "Extractor.register_extractor('harmonic_per_freq_var', lambda harmonic_per_freq_stats: harmonic_per_freq_stats[n_bins:])\n",
    "Extractor.register_sklearn_extractor('harmonic_per_freq_mean_svd', \n",
    "                                     ['harmonic_per_freq_mean'], \n",
    "                                     TruncatedSVD(n_components=n_tsvd_components, n_iter=n_svd_iter, random_state=42))\n",
    "Extractor.register_sklearn_extractor('harmonic_per_freq_var_svd', \n",
    "                                     ['harmonic_per_freq_var'], \n",
    "                                     TruncatedSVD(n_components=n_tsvd_components, n_iter=n_svd_iter, random_state=42))\n",
    "\n",
    "Extractor.register_extractor('percussive_per_freq_mean', lambda percussive_per_freq_stats: percussive_per_freq_stats[:n_bins])\n",
    "Extractor.register_extractor('percussive_per_freq_var', lambda percussive_per_freq_stats: percussive_per_freq_stats[n_bins:])\n",
    "Extractor.register_sklearn_extractor('percussive_per_freq_mean_svd', \n",
    "                                     ['percussive_per_freq_mean'], \n",
    "                                     TruncatedSVD(n_components=n_tsvd_components, n_iter=n_svd_iter, random_state=42))\n",
    "Extractor.register_sklearn_extractor('percussive_per_freq_var_svd', \n",
    "                                     ['percussive_per_freq_var'], \n",
    "                                     TruncatedSVD(n_components=n_tsvd_components, n_iter=n_svd_iter, random_state=42))\n",
    "\n",
    "Extractor.register_sklearn_extractor('percussive_beat_frames_svd', \n",
    "                                     ['percussive_beat_frames'], \n",
    "                                     TruncatedSVD(n_components=n_tsvd_components, n_iter=n_svd_iter, random_state=42))"
   ]
  },
  {
   "cell_type": "code",
   "execution_count": 113,
   "id": "83f80347-032d-4a0c-9876-b72fb484922e",
   "metadata": {},
   "outputs": [
    {
     "data": {
      "text/plain": [
       "<matplotlib.collections.PolyQuadMesh at 0x158697b30>"
      ]
     },
     "execution_count": 113,
     "metadata": {},
     "output_type": "execute_result"
    },
    {
     "data": {
      "image/png": "[encoded data removed]",
      "text/plain": [
       "<Figure size 640x480 with 1 Axes>"
      ]
     },
     "metadata": {},
     "output_type": "display_data"
    }
   ],
   "source": [
    "plt.pcolor(Extractor._stateful_extractors['percussive_beat_frames_svd'][0].components_)"
   ]
  },
  {
   "cell_type": "code",
   "execution_count": 110,
   "id": "8d73bb6d-f19f-47fe-ac0e-31e9f18d9bed",
   "metadata": {},
   "outputs": [],
   "source": [
    "for feat in ['harmonic_per_freq_mean_svd', 'harmonic_per_freq_var_svd', 'percussive_per_freq_mean_svd', 'percussive_per_freq_var_svd', 'percussive_beat_frames_svd']:\n",
    "    del E_train.features[feat]\n",
    "    del E_eval.features[feat]"
   ]
  },
  {
   "cell_type": "code",
   "execution_count": 112,
   "id": "3cd54fc2-2797-4111-a2e8-49f97004d0a2",
   "metadata": {},
   "outputs": [],
   "source": [
    "E_train.soft_extract()\n",
    "E_eval.soft_extract()"
   ]
  },
  {
   "cell_type": "code",
   "execution_count": 122,
   "id": "b0050fb2-a283-4b3f-8bb3-8e0d9a8e283d",
   "metadata": {},
   "outputs": [
    {
     "data": {
      "application/vnd.jupyter.widget-view+json": {
       "model_id": "4bd4d9675c57469fbe99ff029970a769",
       "version_major": 2,
       "version_minor": 0
      },
      "text/plain": [
       "MetricVisualizer(layout=Layout(align_self='stretch', height='500px'))"
      ]
     },
     "metadata": {},
     "output_type": "display_data"
    },
    {
     "name": "stdout",
     "output_type": "stream",
     "text": [
      "0:\tlearn: 0.3002504\ttest: 0.2920833\tbest: 0.2920833 (0)\ttotal: 62.9ms\tremaining: 31.4s\n",
      "50:\tlearn: 0.6448498\ttest: 0.5562500\tbest: 0.5637500 (45)\ttotal: 1.15s\tremaining: 10.1s\n",
      "100:\tlearn: 0.7373033\ttest: 0.6154167\tbest: 0.6179167 (98)\ttotal: 2.13s\tremaining: 8.4s\n",
      "150:\tlearn: 0.7904149\ttest: 0.6387500\tbest: 0.6387500 (150)\ttotal: 3.14s\tremaining: 7.25s\n",
      "200:\tlearn: 0.8260014\ttest: 0.6670833\tbest: 0.6670833 (200)\ttotal: 4.32s\tremaining: 6.42s\n",
      "250:\tlearn: 0.8524678\ttest: 0.6704167\tbest: 0.6750000 (231)\ttotal: 5.45s\tremaining: 5.4s\n",
      "300:\tlearn: 0.8746423\ttest: 0.6841667\tbest: 0.6841667 (300)\ttotal: 6.46s\tremaining: 4.27s\n",
      "350:\tlearn: 0.8875179\ttest: 0.6920833\tbest: 0.6975000 (344)\ttotal: 7.42s\tremaining: 3.15s\n",
      "400:\tlearn: 0.9043276\ttest: 0.7004167\tbest: 0.7004167 (400)\ttotal: 8.39s\tremaining: 2.07s\n",
      "450:\tlearn: 0.9197067\ttest: 0.7020833\tbest: 0.7062500 (419)\ttotal: 9.35s\tremaining: 1.02s\n",
      "499:\tlearn: 0.9290057\ttest: 0.7050000\tbest: 0.7062500 (419)\ttotal: 10.4s\tremaining: 0us\n",
      "\n",
      "bestTest = 0.70625\n",
      "bestIteration = 419\n",
      "\n",
      "Shrink model to first 420 iterations.\n",
      "\n",
      "Classification Report:\n",
      "               precision    recall  f1-score   support\n",
      "\n",
      "       blues       0.92      0.77      0.84        30\n",
      "   classical       0.88      0.97      0.92        30\n",
      "     country       0.82      0.90      0.86        30\n",
      "       disco       0.82      0.60      0.69        30\n",
      "      hiphop       0.75      0.70      0.72        30\n",
      "        jazz       0.84      0.87      0.85        30\n",
      "       metal       0.84      0.87      0.85        30\n",
      "         pop       0.58      0.70      0.64        30\n",
      "      reggae       0.68      0.83      0.75        30\n",
      "        rock       0.67      0.53      0.59        30\n",
      "\n",
      "    accuracy                           0.77       300\n",
      "   macro avg       0.78      0.77      0.77       300\n",
      "weighted avg       0.78      0.77      0.77       300\n",
      "\n",
      "Evaluation Accuracy: 0.7733\n"
     ]
    }
   ],
   "source": [
    "features = ['s_bpm', 'harmonic_per_freq_stats', 'percussive_per_freq_stats',\n",
    "           'cqt_spectral_centroid_stats', 'mfcc_quef_stats', 'percussive_beat_frames',]\n",
    "           # 'percussive_beat_frames_svd']\n",
    "weights = assign_feature_weights(E_train.get_feature_names_vector(features), dict(s_rms=0.5, s_bpm=0.7, mfcc_quef=0.8))\n",
    "model, acc = train_and_evaluate_catboost(\n",
    "    idx_eval=E_eval.get_features(['s_idx'])[:,0],\n",
    "    X_train=E_train.get_features(features),\n",
    "    X_eval=E_eval.get_features(features),\n",
    "    y_train=E_train.get_features(['s_y'])[:,0], \n",
    "    y_eval=E_eval.get_features(['s_y'])[:,0],\n",
    "    feature_weights=weights\n",
    ")"
   ]
  },
  {
   "cell_type": "code",
   "execution_count": 70,
   "id": "535665a8-c9f4-4bf3-be92-eb9c31cb0eaf",
   "metadata": {},
   "outputs": [
    {
     "data": {
      "text/html": [
       "<div>\n",
       "<style scoped>\n",
       "    .dataframe tbody tr th:only-of-type {\n",
       "        vertical-align: middle;\n",
       "    }\n",
       "\n",
       "    .dataframe tbody tr th {\n",
       "        vertical-align: top;\n",
       "    }\n",
       "\n",
       "    .dataframe thead th {\n",
       "        text-align: right;\n",
       "    }\n",
       "</style>\n",
       "<table border=\"1\" class=\"dataframe\">\n",
       "  <thead>\n",
       "    <tr style=\"text-align: right;\">\n",
       "      <th></th>\n",
       "      <th>importance</th>\n",
       "    </tr>\n",
       "  </thead>\n",
       "  <tbody>\n",
       "    <tr>\n",
       "      <th>harmonic_per_freq_var_svd_0</th>\n",
       "      <td>2.906287</td>\n",
       "    </tr>\n",
       "    <tr>\n",
       "      <th>percussive_beat_frames_svd_1</th>\n",
       "      <td>2.632563</td>\n",
       "    </tr>\n",
       "    <tr>\n",
       "      <th>percussive_per_freq_var_svd_0</th>\n",
       "      <td>2.473094</td>\n",
       "    </tr>\n",
       "    <tr>\n",
       "      <th>percussive_per_freq_stats_14</th>\n",
       "      <td>2.404642</td>\n",
       "    </tr>\n",
       "    <tr>\n",
       "      <th>percussive_per_freq_stats_100</th>\n",
       "      <td>1.548014</td>\n",
       "    </tr>\n",
       "    <tr>\n",
       "      <th>percussive_per_freq_stats_103</th>\n",
       "      <td>1.488912</td>\n",
       "    </tr>\n",
       "    <tr>\n",
       "      <th>mfcc_quef_stats_15</th>\n",
       "      <td>1.484657</td>\n",
       "    </tr>\n",
       "    <tr>\n",
       "      <th>s_bpm_0</th>\n",
       "      <td>1.319112</td>\n",
       "    </tr>\n",
       "    <tr>\n",
       "      <th>harmonic_per_freq_stats_83</th>\n",
       "      <td>1.311456</td>\n",
       "    </tr>\n",
       "    <tr>\n",
       "      <th>mfcc_quef_stats_18</th>\n",
       "      <td>1.304437</td>\n",
       "    </tr>\n",
       "    <tr>\n",
       "      <th>mfcc_quef_stats_3</th>\n",
       "      <td>1.228753</td>\n",
       "    </tr>\n",
       "    <tr>\n",
       "      <th>cqt_spectral_centroid_stats_1</th>\n",
       "      <td>1.209606</td>\n",
       "    </tr>\n",
       "    <tr>\n",
       "      <th>mfcc_quef_stats_16</th>\n",
       "      <td>1.199791</td>\n",
       "    </tr>\n",
       "    <tr>\n",
       "      <th>percussive_per_freq_var_svd_2</th>\n",
       "      <td>1.185580</td>\n",
       "    </tr>\n",
       "    <tr>\n",
       "      <th>harmonic_per_freq_stats_27</th>\n",
       "      <td>1.162159</td>\n",
       "    </tr>\n",
       "  </tbody>\n",
       "</table>\n",
       "</div>"
      ],
      "text/plain": [
       "                               importance\n",
       "harmonic_per_freq_var_svd_0      2.906287\n",
       "percussive_beat_frames_svd_1     2.632563\n",
       "percussive_per_freq_var_svd_0    2.473094\n",
       "percussive_per_freq_stats_14     2.404642\n",
       "percussive_per_freq_stats_100    1.548014\n",
       "percussive_per_freq_stats_103    1.488912\n",
       "mfcc_quef_stats_15               1.484657\n",
       "s_bpm_0                          1.319112\n",
       "harmonic_per_freq_stats_83       1.311456\n",
       "mfcc_quef_stats_18               1.304437\n",
       "mfcc_quef_stats_3                1.228753\n",
       "cqt_spectral_centroid_stats_1    1.209606\n",
       "mfcc_quef_stats_16               1.199791\n",
       "percussive_per_freq_var_svd_2    1.185580\n",
       "harmonic_per_freq_stats_27       1.162159"
      ]
     },
     "execution_count": 70,
     "metadata": {},
     "output_type": "execute_result"
    }
   ],
   "source": [
    "pd.DataFrame(\n",
    "    data=model.feature_importances_, \n",
    "    index=E_train.get_feature_names_vector(features), \n",
    "    columns=['importance']\n",
    ").sort_values(by='importance', ascending=False).head(15)"
   ]
  },
  {
   "cell_type": "code",
   "execution_count": 78,
   "id": "9efa22b9-0f6e-491f-abb5-0fd29922e738",
   "metadata": {},
   "outputs": [
    {
     "data": {
      "text/plain": [
       "[<matplotlib.lines.Line2D at 0x53a1565a0>]"
      ]
     },
     "execution_count": 78,
     "metadata": {},
     "output_type": "execute_result"
    },
    {
     "data": {
      "image/png": "[encoded data removed]",
      "text/plain": [
       "<Figure size 640x480 with 1 Axes>"
      ]
     },
     "metadata": {},
     "output_type": "display_data"
    }
   ],
   "source": [
    "plt.plot(E_eval.features['percussive_beat_frames_svd'][0])"
   ]
  },
  {
   "cell_type": "code",
   "execution_count": 82,
   "id": "a098a082-3519-4127-9b8d-355604a3ece0",
   "metadata": {},
   "outputs": [
    {
     "data": {
      "text/plain": [
       "<matplotlib.collections.PolyQuadMesh at 0x4cea6cb00>"
      ]
     },
     "execution_count": 82,
     "metadata": {},
     "output_type": "execute_result"
    },
    {
     "data": {
      "image/png": "[encoded data removed]",
      "text/plain": [
       "<Figure size 640x480 with 1 Axes>"
      ]
     },
     "metadata": {},
     "output_type": "display_data"
    }
   ],
   "source": [
    "plt.pcolor(Extractor._stateful_extractors['percussive_beat_frames_svd'][0].components_)"
   ]
  },
  {
   "cell_type": "code",
   "execution_count": null,
   "id": "aa33435a-a8a4-4c26-96ac-8caf23b10437",
   "metadata": {},
   "outputs": [],
   "source": []
  }
 ],
 "metadata": {
  "kernelspec": {
   "display_name": "Python 3 (ipykernel)",
   "language": "python",
   "name": "python3"
  },
  "language_info": {
   "codemirror_mode": {
    "name": "ipython",
    "version": 3
   },
   "file_extension": ".py",
   "mimetype": "text/x-python",
   "name": "python",
   "nbconvert_exporter": "python",
   "pygments_lexer": "ipython3",
   "version": "3.12.8"
  }
 },
 "nbformat": 4,
 "nbformat_minor": 5
}
