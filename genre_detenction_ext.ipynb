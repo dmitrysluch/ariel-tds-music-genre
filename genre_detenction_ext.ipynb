{
 "cells": [
  {
   "cell_type": "code",
   "execution_count": 3,
   "id": "4ec4f216-efdb-4e99-aec2-b26667fa71ba",
   "metadata": {},
   "outputs": [],
   "source": [
    "import pandas as pd\n",
    "import numpy as np\n",
    "from model import *\n",
    "import extractor\n",
    "class Extractor(extractor.AudioDataExtractionPipeline):\n",
    "    pass"
   ]
  },
  {
   "cell_type": "code",
   "execution_count": 4,
   "id": "5512d565-1366-47d5-8b87-efda54317286",
   "metadata": {},
   "outputs": [
    {
     "data": {
      "text/html": [
       "<div>\n",
       "<style scoped>\n",
       "    .dataframe tbody tr th:only-of-type {\n",
       "        vertical-align: middle;\n",
       "    }\n",
       "\n",
       "    .dataframe tbody tr th {\n",
       "        vertical-align: top;\n",
       "    }\n",
       "\n",
       "    .dataframe thead th {\n",
       "        text-align: right;\n",
       "    }\n",
       "</style>\n",
       "<table border=\"1\" class=\"dataframe\">\n",
       "  <thead>\n",
       "    <tr style=\"text-align: right;\">\n",
       "      <th></th>\n",
       "      <th>filename</th>\n",
       "      <th>length</th>\n",
       "      <th>chroma_stft_mean</th>\n",
       "      <th>chroma_stft_var</th>\n",
       "      <th>rms_mean</th>\n",
       "      <th>rms_var</th>\n",
       "      <th>spectral_centroid_mean</th>\n",
       "      <th>spectral_centroid_var</th>\n",
       "      <th>spectral_bandwidth_mean</th>\n",
       "      <th>spectral_bandwidth_var</th>\n",
       "      <th>...</th>\n",
       "      <th>mfcc16_var</th>\n",
       "      <th>mfcc17_mean</th>\n",
       "      <th>mfcc17_var</th>\n",
       "      <th>mfcc18_mean</th>\n",
       "      <th>mfcc18_var</th>\n",
       "      <th>mfcc19_mean</th>\n",
       "      <th>mfcc19_var</th>\n",
       "      <th>mfcc20_mean</th>\n",
       "      <th>mfcc20_var</th>\n",
       "      <th>label</th>\n",
       "    </tr>\n",
       "  </thead>\n",
       "  <tbody>\n",
       "    <tr>\n",
       "      <th>0</th>\n",
       "      <td>blues.00000.wav</td>\n",
       "      <td>661794</td>\n",
       "      <td>0.350088</td>\n",
       "      <td>0.088757</td>\n",
       "      <td>0.130228</td>\n",
       "      <td>0.002827</td>\n",
       "      <td>1784.165850</td>\n",
       "      <td>129774.064525</td>\n",
       "      <td>2002.449060</td>\n",
       "      <td>85882.761315</td>\n",
       "      <td>...</td>\n",
       "      <td>52.420910</td>\n",
       "      <td>-1.690215</td>\n",
       "      <td>36.524071</td>\n",
       "      <td>-0.408979</td>\n",
       "      <td>41.597103</td>\n",
       "      <td>-2.303523</td>\n",
       "      <td>55.062923</td>\n",
       "      <td>1.221291</td>\n",
       "      <td>46.936035</td>\n",
       "      <td>blues</td>\n",
       "    </tr>\n",
       "    <tr>\n",
       "      <th>1</th>\n",
       "      <td>blues.00001.wav</td>\n",
       "      <td>661794</td>\n",
       "      <td>0.340914</td>\n",
       "      <td>0.094980</td>\n",
       "      <td>0.095948</td>\n",
       "      <td>0.002373</td>\n",
       "      <td>1530.176679</td>\n",
       "      <td>375850.073649</td>\n",
       "      <td>2039.036516</td>\n",
       "      <td>213843.755497</td>\n",
       "      <td>...</td>\n",
       "      <td>55.356403</td>\n",
       "      <td>-0.731125</td>\n",
       "      <td>60.314529</td>\n",
       "      <td>0.295073</td>\n",
       "      <td>48.120598</td>\n",
       "      <td>-0.283518</td>\n",
       "      <td>51.106190</td>\n",
       "      <td>0.531217</td>\n",
       "      <td>45.786282</td>\n",
       "      <td>blues</td>\n",
       "    </tr>\n",
       "    <tr>\n",
       "      <th>2</th>\n",
       "      <td>blues.00002.wav</td>\n",
       "      <td>661794</td>\n",
       "      <td>0.363637</td>\n",
       "      <td>0.085275</td>\n",
       "      <td>0.175570</td>\n",
       "      <td>0.002746</td>\n",
       "      <td>1552.811865</td>\n",
       "      <td>156467.643368</td>\n",
       "      <td>1747.702312</td>\n",
       "      <td>76254.192257</td>\n",
       "      <td>...</td>\n",
       "      <td>40.598766</td>\n",
       "      <td>-7.729093</td>\n",
       "      <td>47.639427</td>\n",
       "      <td>-1.816407</td>\n",
       "      <td>52.382141</td>\n",
       "      <td>-3.439720</td>\n",
       "      <td>46.639660</td>\n",
       "      <td>-2.231258</td>\n",
       "      <td>30.573025</td>\n",
       "      <td>blues</td>\n",
       "    </tr>\n",
       "    <tr>\n",
       "      <th>3</th>\n",
       "      <td>blues.00003.wav</td>\n",
       "      <td>661794</td>\n",
       "      <td>0.404785</td>\n",
       "      <td>0.093999</td>\n",
       "      <td>0.141093</td>\n",
       "      <td>0.006346</td>\n",
       "      <td>1070.106615</td>\n",
       "      <td>184355.942417</td>\n",
       "      <td>1596.412872</td>\n",
       "      <td>166441.494769</td>\n",
       "      <td>...</td>\n",
       "      <td>44.427753</td>\n",
       "      <td>-3.319597</td>\n",
       "      <td>50.206673</td>\n",
       "      <td>0.636965</td>\n",
       "      <td>37.319130</td>\n",
       "      <td>-0.619121</td>\n",
       "      <td>37.259739</td>\n",
       "      <td>-3.407448</td>\n",
       "      <td>31.949339</td>\n",
       "      <td>blues</td>\n",
       "    </tr>\n",
       "    <tr>\n",
       "      <th>4</th>\n",
       "      <td>blues.00004.wav</td>\n",
       "      <td>661794</td>\n",
       "      <td>0.308526</td>\n",
       "      <td>0.087841</td>\n",
       "      <td>0.091529</td>\n",
       "      <td>0.002303</td>\n",
       "      <td>1835.004266</td>\n",
       "      <td>343399.939274</td>\n",
       "      <td>1748.172116</td>\n",
       "      <td>88445.209036</td>\n",
       "      <td>...</td>\n",
       "      <td>86.099236</td>\n",
       "      <td>-5.454034</td>\n",
       "      <td>75.269707</td>\n",
       "      <td>-0.916874</td>\n",
       "      <td>53.613918</td>\n",
       "      <td>-4.404827</td>\n",
       "      <td>62.910812</td>\n",
       "      <td>-11.703234</td>\n",
       "      <td>55.195160</td>\n",
       "      <td>blues</td>\n",
       "    </tr>\n",
       "    <tr>\n",
       "      <th>...</th>\n",
       "      <td>...</td>\n",
       "      <td>...</td>\n",
       "      <td>...</td>\n",
       "      <td>...</td>\n",
       "      <td>...</td>\n",
       "      <td>...</td>\n",
       "      <td>...</td>\n",
       "      <td>...</td>\n",
       "      <td>...</td>\n",
       "      <td>...</td>\n",
       "      <td>...</td>\n",
       "      <td>...</td>\n",
       "      <td>...</td>\n",
       "      <td>...</td>\n",
       "      <td>...</td>\n",
       "      <td>...</td>\n",
       "      <td>...</td>\n",
       "      <td>...</td>\n",
       "      <td>...</td>\n",
       "      <td>...</td>\n",
       "      <td>...</td>\n",
       "    </tr>\n",
       "    <tr>\n",
       "      <th>995</th>\n",
       "      <td>rock.00095.wav</td>\n",
       "      <td>661794</td>\n",
       "      <td>0.352063</td>\n",
       "      <td>0.080487</td>\n",
       "      <td>0.079486</td>\n",
       "      <td>0.000345</td>\n",
       "      <td>2008.149458</td>\n",
       "      <td>282174.689224</td>\n",
       "      <td>2106.541053</td>\n",
       "      <td>88609.749506</td>\n",
       "      <td>...</td>\n",
       "      <td>45.050526</td>\n",
       "      <td>-13.289984</td>\n",
       "      <td>41.754955</td>\n",
       "      <td>2.484145</td>\n",
       "      <td>36.778877</td>\n",
       "      <td>-6.713265</td>\n",
       "      <td>54.866825</td>\n",
       "      <td>-1.193787</td>\n",
       "      <td>49.950665</td>\n",
       "      <td>rock</td>\n",
       "    </tr>\n",
       "    <tr>\n",
       "      <th>996</th>\n",
       "      <td>rock.00096.wav</td>\n",
       "      <td>661794</td>\n",
       "      <td>0.398687</td>\n",
       "      <td>0.075086</td>\n",
       "      <td>0.076458</td>\n",
       "      <td>0.000588</td>\n",
       "      <td>2006.843354</td>\n",
       "      <td>182114.709510</td>\n",
       "      <td>2068.942009</td>\n",
       "      <td>82426.016726</td>\n",
       "      <td>...</td>\n",
       "      <td>33.851742</td>\n",
       "      <td>-10.848309</td>\n",
       "      <td>39.395096</td>\n",
       "      <td>1.881229</td>\n",
       "      <td>32.010040</td>\n",
       "      <td>-7.461491</td>\n",
       "      <td>39.196327</td>\n",
       "      <td>-2.795338</td>\n",
       "      <td>31.773624</td>\n",
       "      <td>rock</td>\n",
       "    </tr>\n",
       "    <tr>\n",
       "      <th>997</th>\n",
       "      <td>rock.00097.wav</td>\n",
       "      <td>661794</td>\n",
       "      <td>0.432142</td>\n",
       "      <td>0.075268</td>\n",
       "      <td>0.081651</td>\n",
       "      <td>0.000322</td>\n",
       "      <td>2077.526598</td>\n",
       "      <td>231657.968040</td>\n",
       "      <td>1927.293153</td>\n",
       "      <td>74717.124394</td>\n",
       "      <td>...</td>\n",
       "      <td>33.597008</td>\n",
       "      <td>-12.845291</td>\n",
       "      <td>36.367264</td>\n",
       "      <td>3.440978</td>\n",
       "      <td>36.001110</td>\n",
       "      <td>-12.588070</td>\n",
       "      <td>42.502201</td>\n",
       "      <td>-2.106337</td>\n",
       "      <td>29.865515</td>\n",
       "      <td>rock</td>\n",
       "    </tr>\n",
       "    <tr>\n",
       "      <th>998</th>\n",
       "      <td>rock.00098.wav</td>\n",
       "      <td>661794</td>\n",
       "      <td>0.362485</td>\n",
       "      <td>0.091506</td>\n",
       "      <td>0.083860</td>\n",
       "      <td>0.001211</td>\n",
       "      <td>1398.699344</td>\n",
       "      <td>240318.731073</td>\n",
       "      <td>1818.450280</td>\n",
       "      <td>109090.207161</td>\n",
       "      <td>...</td>\n",
       "      <td>46.324894</td>\n",
       "      <td>-4.416050</td>\n",
       "      <td>43.583942</td>\n",
       "      <td>1.556207</td>\n",
       "      <td>34.331261</td>\n",
       "      <td>-5.041897</td>\n",
       "      <td>47.227180</td>\n",
       "      <td>-3.590644</td>\n",
       "      <td>41.299088</td>\n",
       "      <td>rock</td>\n",
       "    </tr>\n",
       "    <tr>\n",
       "      <th>999</th>\n",
       "      <td>rock.00099.wav</td>\n",
       "      <td>661794</td>\n",
       "      <td>0.358401</td>\n",
       "      <td>0.085884</td>\n",
       "      <td>0.054454</td>\n",
       "      <td>0.000336</td>\n",
       "      <td>1609.795082</td>\n",
       "      <td>422203.216152</td>\n",
       "      <td>1797.213044</td>\n",
       "      <td>120115.632927</td>\n",
       "      <td>...</td>\n",
       "      <td>59.167755</td>\n",
       "      <td>-7.069775</td>\n",
       "      <td>73.760391</td>\n",
       "      <td>0.028346</td>\n",
       "      <td>76.504326</td>\n",
       "      <td>-2.025783</td>\n",
       "      <td>72.189316</td>\n",
       "      <td>1.155239</td>\n",
       "      <td>49.662510</td>\n",
       "      <td>rock</td>\n",
       "    </tr>\n",
       "  </tbody>\n",
       "</table>\n",
       "<p>1000 rows × 60 columns</p>\n",
       "</div>"
      ],
      "text/plain": [
       "            filename  length  chroma_stft_mean  chroma_stft_var  rms_mean  \\\n",
       "0    blues.00000.wav  661794          0.350088         0.088757  0.130228   \n",
       "1    blues.00001.wav  661794          0.340914         0.094980  0.095948   \n",
       "2    blues.00002.wav  661794          0.363637         0.085275  0.175570   \n",
       "3    blues.00003.wav  661794          0.404785         0.093999  0.141093   \n",
       "4    blues.00004.wav  661794          0.308526         0.087841  0.091529   \n",
       "..               ...     ...               ...              ...       ...   \n",
       "995   rock.00095.wav  661794          0.352063         0.080487  0.079486   \n",
       "996   rock.00096.wav  661794          0.398687         0.075086  0.076458   \n",
       "997   rock.00097.wav  661794          0.432142         0.075268  0.081651   \n",
       "998   rock.00098.wav  661794          0.362485         0.091506  0.083860   \n",
       "999   rock.00099.wav  661794          0.358401         0.085884  0.054454   \n",
       "\n",
       "      rms_var  spectral_centroid_mean  spectral_centroid_var  \\\n",
       "0    0.002827             1784.165850          129774.064525   \n",
       "1    0.002373             1530.176679          375850.073649   \n",
       "2    0.002746             1552.811865          156467.643368   \n",
       "3    0.006346             1070.106615          184355.942417   \n",
       "4    0.002303             1835.004266          343399.939274   \n",
       "..        ...                     ...                    ...   \n",
       "995  0.000345             2008.149458          282174.689224   \n",
       "996  0.000588             2006.843354          182114.709510   \n",
       "997  0.000322             2077.526598          231657.968040   \n",
       "998  0.001211             1398.699344          240318.731073   \n",
       "999  0.000336             1609.795082          422203.216152   \n",
       "\n",
       "     spectral_bandwidth_mean  spectral_bandwidth_var  ...  mfcc16_var  \\\n",
       "0                2002.449060            85882.761315  ...   52.420910   \n",
       "1                2039.036516           213843.755497  ...   55.356403   \n",
       "2                1747.702312            76254.192257  ...   40.598766   \n",
       "3                1596.412872           166441.494769  ...   44.427753   \n",
       "4                1748.172116            88445.209036  ...   86.099236   \n",
       "..                       ...                     ...  ...         ...   \n",
       "995              2106.541053            88609.749506  ...   45.050526   \n",
       "996              2068.942009            82426.016726  ...   33.851742   \n",
       "997              1927.293153            74717.124394  ...   33.597008   \n",
       "998              1818.450280           109090.207161  ...   46.324894   \n",
       "999              1797.213044           120115.632927  ...   59.167755   \n",
       "\n",
       "     mfcc17_mean  mfcc17_var  mfcc18_mean  mfcc18_var  mfcc19_mean  \\\n",
       "0      -1.690215   36.524071    -0.408979   41.597103    -2.303523   \n",
       "1      -0.731125   60.314529     0.295073   48.120598    -0.283518   \n",
       "2      -7.729093   47.639427    -1.816407   52.382141    -3.439720   \n",
       "3      -3.319597   50.206673     0.636965   37.319130    -0.619121   \n",
       "4      -5.454034   75.269707    -0.916874   53.613918    -4.404827   \n",
       "..           ...         ...          ...         ...          ...   \n",
       "995   -13.289984   41.754955     2.484145   36.778877    -6.713265   \n",
       "996   -10.848309   39.395096     1.881229   32.010040    -7.461491   \n",
       "997   -12.845291   36.367264     3.440978   36.001110   -12.588070   \n",
       "998    -4.416050   43.583942     1.556207   34.331261    -5.041897   \n",
       "999    -7.069775   73.760391     0.028346   76.504326    -2.025783   \n",
       "\n",
       "     mfcc19_var  mfcc20_mean  mfcc20_var  label  \n",
       "0     55.062923     1.221291   46.936035  blues  \n",
       "1     51.106190     0.531217   45.786282  blues  \n",
       "2     46.639660    -2.231258   30.573025  blues  \n",
       "3     37.259739    -3.407448   31.949339  blues  \n",
       "4     62.910812   -11.703234   55.195160  blues  \n",
       "..          ...          ...         ...    ...  \n",
       "995   54.866825    -1.193787   49.950665   rock  \n",
       "996   39.196327    -2.795338   31.773624   rock  \n",
       "997   42.502201    -2.106337   29.865515   rock  \n",
       "998   47.227180    -3.590644   41.299088   rock  \n",
       "999   72.189316     1.155239   49.662510   rock  \n",
       "\n",
       "[1000 rows x 60 columns]"
      ]
     },
     "execution_count": 4,
     "metadata": {},
     "output_type": "execute_result"
    }
   ],
   "source": [
    "import pandas as pd\n",
    "df = pd.read_csv(\"dataset/Data/features_30_sec.csv\")\n",
    "df"
   ]
  },
  {
   "cell_type": "code",
   "execution_count": 5,
   "id": "dbdeecea-5a6e-488b-89e2-4c9e4d7e472b",
   "metadata": {},
   "outputs": [],
   "source": [
    "from sklearn.model_selection import train_test_split\n",
    "\n",
    "# Define features and target\n",
    "X = df.drop(columns=['label'])  # Features: e.g., 'track' and 'statistics'\n",
    "y = df['label']  # Target: 'label'\n",
    "\n",
    "# Split the dataset while preserving class proportions\n",
    "X_train, X_eval, y_train, y_eval = train_test_split(\n",
    "    X, y, \n",
    "    test_size=0.3,  # 30% for testing\n",
    "    stratify=y,     # Preserve class proportions\n",
    "    random_state=42 # For reproducibility\n",
    ")"
   ]
  },
  {
   "cell_type": "code",
   "execution_count": 6,
   "id": "b3f52c4c-0f71-42f5-b0a3-20853d19f15c",
   "metadata": {},
   "outputs": [],
   "source": [
    "# Drop corrupted sample \n",
    "idx = X_train.index[X_train[\"filename\"] == \"jazz.00054.wav\"]\n",
    "X_train = X_train.drop(index=idx)\n",
    "y_train = y_train.drop(index=idx)"
   ]
  },
  {
   "cell_type": "code",
   "execution_count": 7,
   "id": "5a94ba90-5c92-432a-9a7e-40ed4a617ebe",
   "metadata": {},
   "outputs": [
    {
     "data": {
      "application/vnd.jupyter.widget-view+json": {
       "model_id": "91b1d46eed9042c8aa94efbaf01a21e4",
       "version_major": 2,
       "version_minor": 0
      },
      "text/plain": [
       "MetricVisualizer(layout=Layout(align_self='stretch', height='500px'))"
      ]
     },
     "metadata": {},
     "output_type": "display_data"
    },
    {
     "name": "stdout",
     "output_type": "stream",
     "text": [
      "0:\tlearn: 0.3648069\ttest: 0.3433333\tbest: 0.3433333 (0)\ttotal: 61.1ms\tremaining: 30.5s\n",
      "50:\tlearn: 0.7367668\ttest: 0.6566667\tbest: 0.6700000 (47)\ttotal: 194ms\tremaining: 1.71s\n",
      "100:\tlearn: 0.8211731\ttest: 0.7200000\tbest: 0.7233333 (98)\ttotal: 321ms\tremaining: 1.27s\n",
      "150:\tlearn: 0.8726753\ttest: 0.7300000\tbest: 0.7400000 (122)\ttotal: 450ms\tremaining: 1.04s\n",
      "200:\tlearn: 0.9070100\ttest: 0.7366667\tbest: 0.7466667 (182)\ttotal: 566ms\tremaining: 842ms\n",
      "250:\tlearn: 0.9313305\ttest: 0.7366667\tbest: 0.7533333 (218)\ttotal: 681ms\tremaining: 675ms\n",
      "300:\tlearn: 0.9484979\ttest: 0.7533333\tbest: 0.7533333 (218)\ttotal: 795ms\tremaining: 525ms\n",
      "350:\tlearn: 0.9670959\ttest: 0.7466667\tbest: 0.7600000 (318)\ttotal: 909ms\tremaining: 386ms\n",
      "400:\tlearn: 0.9728183\ttest: 0.7466667\tbest: 0.7600000 (318)\ttotal: 1.04s\tremaining: 257ms\n",
      "450:\tlearn: 0.9756795\ttest: 0.7400000\tbest: 0.7600000 (318)\ttotal: 1.16s\tremaining: 126ms\n",
      "499:\tlearn: 0.9842632\ttest: 0.7466667\tbest: 0.7600000 (318)\ttotal: 1.35s\tremaining: 0us\n",
      "\n",
      "bestTest = 0.76\n",
      "bestIteration = 318\n",
      "\n",
      "Shrink model to first 319 iterations.\n",
      "\n",
      "Classification Report:\n",
      "               precision    recall  f1-score   support\n",
      "\n",
      "       blues       0.76      0.63      0.69        30\n",
      "   classical       0.97      0.97      0.97        30\n",
      "     country       0.79      0.77      0.78        30\n",
      "       disco       0.62      0.53      0.57        30\n",
      "      hiphop       0.59      0.80      0.68        30\n",
      "        jazz       0.85      0.93      0.89        30\n",
      "       metal       0.86      0.83      0.85        30\n",
      "         pop       0.85      0.93      0.89        30\n",
      "      reggae       0.67      0.67      0.67        30\n",
      "        rock       0.67      0.53      0.59        30\n",
      "\n",
      "    accuracy                           0.76       300\n",
      "   macro avg       0.76      0.76      0.76       300\n",
      "weighted avg       0.76      0.76      0.76       300\n",
      "\n",
      "Evaluation Accuracy: 0.7600\n"
     ]
    }
   ],
   "source": [
    "model, acc = train_and_evaluate_catboost(\n",
    "    X_eval.index.to_numpy(), \n",
    "    X_train.drop(columns=[\"filename\", \"length\"]).to_numpy(), \n",
    "    X_eval.drop(columns=[\"filename\", \"length\"]).to_numpy(), \n",
    "    y_train.to_numpy(), \n",
    "    y_eval.to_numpy()\n",
    ")"
   ]
  },
  {
   "cell_type": "code",
   "execution_count": 8,
   "id": "0310d7af-e347-4531-9b6b-7d8602f4a5f1",
   "metadata": {},
   "outputs": [],
   "source": [
    "import soundfile as sf\n",
    "import librosa\n",
    "import numpy as np\n",
    "from resampy import resample"
   ]
  },
  {
   "cell_type": "code",
   "execution_count": 9,
   "id": "c87f01e0-8eaa-4e53-acdb-4c2aa06decb5",
   "metadata": {},
   "outputs": [
    {
     "data": {
      "application/vnd.jupyter.widget-view+json": {
       "model_id": "36c05741f4344977ac320b26ff0adc1b",
       "version_major": 2,
       "version_minor": 0
      },
      "text/plain": [
       "audio:   0%|          | 0/699 [00:00<?, ?it/s]"
      ]
     },
     "metadata": {},
     "output_type": "display_data"
    },
    {
     "data": {
      "application/vnd.jupyter.widget-view+json": {
       "model_id": "d8f2cf0a25e042ab9f879faea3cd150a",
       "version_major": 2,
       "version_minor": 0
      },
      "text/plain": [
       "audio:   0%|          | 0/300 [00:00<?, ?it/s]"
      ]
     },
     "metadata": {},
     "output_type": "display_data"
    }
   ],
   "source": [
    "E_train = Extractor(\n",
    "    idx=[np.array([row[0]]) for row in X_train.iterrows()],\n",
    "    x=[row[1].to_numpy() for row in X_train.iterrows()],\n",
    "    y=[np.array([row]) for row in y_train],\n",
    "    train=True\n",
    ")\n",
    "E_eval = Extractor(\n",
    "    idx=[np.array([row[0]]) for row in X_eval.iterrows()],\n",
    "    x=[row[1].to_numpy() for row in X_eval.iterrows()],\n",
    "    y=[np.array([row]) for row in y_eval],\n",
    "    train=False\n",
    ")\n",
    "\n",
    "def load_audio(x) -> [np.ndarray]:\n",
    "    file_path = f\"dataset/Data/genres_original/{x[0].split('.')[0]}/{x[0]}\"\n",
    "    y, sr = sf.read(file_path)\n",
    "    if len(y.shape) == 2:  # Convert stereo to mono\n",
    "        y = np.mean(y, dim=0)\n",
    "    y = resample(y, sr, 16000)\n",
    "    return y\n",
    "Extractor.register_extractor('audio', load_audio)\n",
    "E_train.full_extract()\n",
    "E_eval.full_extract()"
   ]
  },
  {
   "cell_type": "code",
   "execution_count": 10,
   "id": "9bbcf479-de45-4e9e-b3c4-7b15ce5a943c",
   "metadata": {},
   "outputs": [
    {
     "data": {
      "application/vnd.jupyter.widget-view+json": {
       "model_id": "f76deef16dc14cb7a88b4a8f75bfb3f5",
       "version_major": 2,
       "version_minor": 0
      },
      "text/plain": [
       "stats:   0%|          | 0/699 [00:00<?, ?it/s]"
      ]
     },
     "metadata": {},
     "output_type": "display_data"
    },
    {
     "data": {
      "application/vnd.jupyter.widget-view+json": {
       "model_id": "c63945efd0314b6b9d52d3a39aa6341f",
       "version_major": 2,
       "version_minor": 0
      },
      "text/plain": [
       "rms:   0%|          | 0/699 [00:00<?, ?it/s]"
      ]
     },
     "metadata": {},
     "output_type": "display_data"
    },
    {
     "data": {
      "application/vnd.jupyter.widget-view+json": {
       "model_id": "98651dfcfcba44fa9eacbdc4da4eed6b",
       "version_major": 2,
       "version_minor": 0
      },
      "text/plain": [
       "stats:   0%|          | 0/300 [00:00<?, ?it/s]"
      ]
     },
     "metadata": {},
     "output_type": "display_data"
    },
    {
     "data": {
      "application/vnd.jupyter.widget-view+json": {
       "model_id": "3a6a920d0c6d4dfebf335ffe20e14260",
       "version_major": 2,
       "version_minor": 0
      },
      "text/plain": [
       "rms:   0%|          | 0/300 [00:00<?, ?it/s]"
      ]
     },
     "metadata": {},
     "output_type": "display_data"
    }
   ],
   "source": [
    "Extractor.register_extractor('stats', lambda x: x[2:])\n",
    "Extractor.register_extractor('rms', lambda audio: np.array([np.sqrt(np.mean(audio**2))]))\n",
    "E_train.soft_extract()\n",
    "E_eval.soft_extract()"
   ]
  },
  {
   "cell_type": "code",
   "execution_count": 11,
   "id": "fafcb966-7dc7-423a-bf6b-f961633ca6b3",
   "metadata": {},
   "outputs": [],
   "source": [
    "import librosa\n",
    "import soundfile as sf\n",
    "from resampy import resample\n",
    "from tqdm.notebook import tqdm\n",
    "\n",
    "sr = 16000\n",
    "hop_length = 512\n",
    "n_mfcc = 13\n",
    "n_mels = 128\n",
    "n_bins = 84\n",
    "bins_per_octave = 12\n",
    "fmin = librosa.note_to_hz(\"C1\")\n",
    "\n",
    "\n",
    "def mel(audio):\n",
    "    # Calculate MelSpectrogram\n",
    "    mel_spectrogram = librosa.feature.melspectrogram(y=audio, sr=sr, n_mels=n_mels)\n",
    "    mel_spectrogram = librosa.power_to_db(mel_spectrogram, ref=np.max)  # Convert to decibel scale\n",
    "    return mel_spectrogram\n",
    "\n",
    "Extractor.register_extractor('mel', mel)\n",
    "Extractor.register_extractor('cqt', lambda audio: np.abs(librosa.cqt(audio, sr=sr, hop_length=hop_length, fmin=fmin, bins_per_octave=bins_per_octave, n_bins=n_bins)))\n",
    "# Extractor.register_extractor('stft', lambda audio: librosa.stft(audio, hop_length=hop_length))\n",
    "Extractor.register_extractor('mfcc', lambda audio: librosa.feature.mfcc(y=audio, sr=sr, n_mfcc=n_mfcc))\n"
   ]
  },
  {
   "cell_type": "code",
   "execution_count": 12,
   "id": "925aff54-a495-4557-8975-e573bf48f98b",
   "metadata": {},
   "outputs": [
    {
     "data": {
      "application/vnd.jupyter.widget-view+json": {
       "model_id": "e825b31553c04411b1bf2dff66505fa2",
       "version_major": 2,
       "version_minor": 0
      },
      "text/plain": [
       "mel:   0%|          | 0/699 [00:00<?, ?it/s]"
      ]
     },
     "metadata": {},
     "output_type": "display_data"
    },
    {
     "data": {
      "application/vnd.jupyter.widget-view+json": {
       "model_id": "fe9426fd7c1b4dc0905fd0bfd256da1e",
       "version_major": 2,
       "version_minor": 0
      },
      "text/plain": [
       "cqt:   0%|          | 0/699 [00:00<?, ?it/s]"
      ]
     },
     "metadata": {},
     "output_type": "display_data"
    },
    {
     "data": {
      "application/vnd.jupyter.widget-view+json": {
       "model_id": "e4ca85894522460cb88fc5f8021fe523",
       "version_major": 2,
       "version_minor": 0
      },
      "text/plain": [
       "mfcc:   0%|          | 0/699 [00:00<?, ?it/s]"
      ]
     },
     "metadata": {},
     "output_type": "display_data"
    },
    {
     "data": {
      "application/vnd.jupyter.widget-view+json": {
       "model_id": "54a48f546e5b4650bf9fb413b5931990",
       "version_major": 2,
       "version_minor": 0
      },
      "text/plain": [
       "mel:   0%|          | 0/300 [00:00<?, ?it/s]"
      ]
     },
     "metadata": {},
     "output_type": "display_data"
    },
    {
     "data": {
      "application/vnd.jupyter.widget-view+json": {
       "model_id": "b86e990c9b3a49b4a8c14302b23fa227",
       "version_major": 2,
       "version_minor": 0
      },
      "text/plain": [
       "cqt:   0%|          | 0/300 [00:00<?, ?it/s]"
      ]
     },
     "metadata": {},
     "output_type": "display_data"
    },
    {
     "data": {
      "application/vnd.jupyter.widget-view+json": {
       "model_id": "f13c5de7864b4a0181bb2bb1677fe42d",
       "version_major": 2,
       "version_minor": 0
      },
      "text/plain": [
       "mfcc:   0%|          | 0/300 [00:00<?, ?it/s]"
      ]
     },
     "metadata": {},
     "output_type": "display_data"
    }
   ],
   "source": [
    "E_train.soft_extract()\n",
    "E_eval.soft_extract()"
   ]
  },
  {
   "cell_type": "code",
   "execution_count": 13,
   "id": "e2014469-6b29-480a-a919-03057c27e6cb",
   "metadata": {},
   "outputs": [],
   "source": [
    "import matplotlib.pyplot as plt"
   ]
  },
  {
   "cell_type": "code",
   "execution_count": 14,
   "id": "f3d88988-ce55-4fc3-b181-2cfaeeaf274b",
   "metadata": {},
   "outputs": [],
   "source": [
    "hop_length=512\n",
    "Extractor.register_extractor('bpm_beat', lambda audio: librosa.beat.beat_track(y=audio, sr=sr, hop_length=hop_length))\n",
    "Extractor.register_extractor('bpm', lambda bpm_beat: bpm_beat[0])\n",
    "Extractor.register_extractor('beat', lambda bpm_beat: bpm_beat[1])"
   ]
  },
  {
   "cell_type": "code",
   "execution_count": 15,
   "id": "15027598-f607-4097-9312-a0ae8e42f768",
   "metadata": {},
   "outputs": [
    {
     "data": {
      "application/vnd.jupyter.widget-view+json": {
       "model_id": "da9b8bcc88734d319ee0047b541c34eb",
       "version_major": 2,
       "version_minor": 0
      },
      "text/plain": [
       "bpm_beat:   0%|          | 0/699 [00:00<?, ?it/s]"
      ]
     },
     "metadata": {},
     "output_type": "display_data"
    },
    {
     "data": {
      "application/vnd.jupyter.widget-view+json": {
       "model_id": "4600f598fa534b79bdc9b2e9fee7dd05",
       "version_major": 2,
       "version_minor": 0
      },
      "text/plain": [
       "bpm:   0%|          | 0/699 [00:00<?, ?it/s]"
      ]
     },
     "metadata": {},
     "output_type": "display_data"
    },
    {
     "data": {
      "application/vnd.jupyter.widget-view+json": {
       "model_id": "326e3870dbe1498db1eeb18ad8be71a4",
       "version_major": 2,
       "version_minor": 0
      },
      "text/plain": [
       "beat:   0%|          | 0/699 [00:00<?, ?it/s]"
      ]
     },
     "metadata": {},
     "output_type": "display_data"
    },
    {
     "data": {
      "application/vnd.jupyter.widget-view+json": {
       "model_id": "9ea141a15cf74b01a4f7b73aa4b55c1b",
       "version_major": 2,
       "version_minor": 0
      },
      "text/plain": [
       "bpm_beat:   0%|          | 0/300 [00:00<?, ?it/s]"
      ]
     },
     "metadata": {},
     "output_type": "display_data"
    },
    {
     "data": {
      "application/vnd.jupyter.widget-view+json": {
       "model_id": "bd9bcab205634c55b0a9a1729523e526",
       "version_major": 2,
       "version_minor": 0
      },
      "text/plain": [
       "bpm:   0%|          | 0/300 [00:00<?, ?it/s]"
      ]
     },
     "metadata": {},
     "output_type": "display_data"
    },
    {
     "data": {
      "application/vnd.jupyter.widget-view+json": {
       "model_id": "c8890bc148224103ab5840608720ae92",
       "version_major": 2,
       "version_minor": 0
      },
      "text/plain": [
       "beat:   0%|          | 0/300 [00:00<?, ?it/s]"
      ]
     },
     "metadata": {},
     "output_type": "display_data"
    }
   ],
   "source": [
    "E_train.soft_extract()\n",
    "E_eval.soft_extract()"
   ]
  },
  {
   "cell_type": "code",
   "execution_count": 16,
   "id": "1476f645-8857-45c2-9600-a472f649171a",
   "metadata": {},
   "outputs": [],
   "source": [
    "Extractor.register_extractor('cqt_hpss', lambda cqt: librosa.decompose.hpss(cqt))\n",
    "Extractor.register_extractor('harmonic', lambda cqt_hpss: cqt_hpss[0])\n",
    "Extractor.register_extractor('percussive', lambda cqt_hpss: cqt_hpss[1])"
   ]
  },
  {
   "cell_type": "code",
   "execution_count": 17,
   "id": "3ff04c83-d4e3-4c8b-a755-e2204fcfd015",
   "metadata": {},
   "outputs": [
    {
     "data": {
      "application/vnd.jupyter.widget-view+json": {
       "model_id": "34457c1594184b26b7049e4f945afc30",
       "version_major": 2,
       "version_minor": 0
      },
      "text/plain": [
       "cqt_hpss:   0%|          | 0/699 [00:00<?, ?it/s]"
      ]
     },
     "metadata": {},
     "output_type": "display_data"
    },
    {
     "data": {
      "application/vnd.jupyter.widget-view+json": {
       "model_id": "c2e26ed1bae9417e85da12e1c84e1696",
       "version_major": 2,
       "version_minor": 0
      },
      "text/plain": [
       "harmonic:   0%|          | 0/699 [00:00<?, ?it/s]"
      ]
     },
     "metadata": {},
     "output_type": "display_data"
    },
    {
     "data": {
      "application/vnd.jupyter.widget-view+json": {
       "model_id": "54aa9b24919c46ad9659462154c3283f",
       "version_major": 2,
       "version_minor": 0
      },
      "text/plain": [
       "percussive:   0%|          | 0/699 [00:00<?, ?it/s]"
      ]
     },
     "metadata": {},
     "output_type": "display_data"
    },
    {
     "data": {
      "application/vnd.jupyter.widget-view+json": {
       "model_id": "15dce6b3db924cabb5f4674cb17130a7",
       "version_major": 2,
       "version_minor": 0
      },
      "text/plain": [
       "cqt_hpss:   0%|          | 0/300 [00:00<?, ?it/s]"
      ]
     },
     "metadata": {},
     "output_type": "display_data"
    },
    {
     "data": {
      "application/vnd.jupyter.widget-view+json": {
       "model_id": "426493efdeaa426da615129120cdfbf0",
       "version_major": 2,
       "version_minor": 0
      },
      "text/plain": [
       "harmonic:   0%|          | 0/300 [00:00<?, ?it/s]"
      ]
     },
     "metadata": {},
     "output_type": "display_data"
    },
    {
     "data": {
      "application/vnd.jupyter.widget-view+json": {
       "model_id": "839c2c4df25347adb40a0b06cf8fa772",
       "version_major": 2,
       "version_minor": 0
      },
      "text/plain": [
       "percussive:   0%|          | 0/300 [00:00<?, ?it/s]"
      ]
     },
     "metadata": {},
     "output_type": "display_data"
    }
   ],
   "source": [
    "E_train.soft_extract()\n",
    "E_eval.soft_extract()"
   ]
  },
  {
   "cell_type": "code",
   "execution_count": 18,
   "id": "9c6a1c71-753e-4ed1-8d2d-5695c663b607",
   "metadata": {},
   "outputs": [
    {
     "data": {
      "text/plain": [
       "(0.0, 30.0)"
      ]
     },
     "execution_count": 18,
     "metadata": {},
     "output_type": "execute_result"
    },
    {
     "data": {
      "image/png": "[encoded data removed]",
      "text/plain": [
       "<Figure size 640x480 with 1 Axes>"
      ]
     },
     "metadata": {},
     "output_type": "display_data"
    }
   ],
   "source": [
    "plt.pcolor(E_train.features['percussive'][0])\n",
    "plt.vlines(E_train.features['beat'][0], 10, 30)\n",
    "plt.xlim(0, 200)\n",
    "plt.ylim(0, 30)"
   ]
  },
  {
   "cell_type": "code",
   "execution_count": 19,
   "id": "25e49140-a2e1-4036-8ded-258b54d5fe6f",
   "metadata": {},
   "outputs": [],
   "source": [
    "Extractor.register_extractor('cqt_per_freq_mean', lambda cqt: cqt.mean(axis=1))\n",
    "Extractor.register_extractor('cqt_per_freq_var', lambda cqt: cqt.var(axis=1))\n",
    "Extractor.register_extractor('harmonic_per_freq_mean', lambda harmonic: harmonic.mean(axis=1))\n",
    "Extractor.register_extractor('harmonic_per_freq_var', lambda harmonic: harmonic.var(axis=1))\n",
    "Extractor.register_extractor('percussive_per_freq_mean', lambda percussive: percussive.mean(axis=1))\n",
    "Extractor.register_extractor('percussive_per_freq_var', lambda percussive: percussive.var(axis=1))"
   ]
  },
  {
   "cell_type": "code",
   "execution_count": 20,
   "id": "9f567244-757f-4a77-ba01-8a2b9006e470",
   "metadata": {},
   "outputs": [
    {
     "data": {
      "application/vnd.jupyter.widget-view+json": {
       "model_id": "bd5a4acdc61e4dffa2292c75584760e8",
       "version_major": 2,
       "version_minor": 0
      },
      "text/plain": [
       "cqt_per_freq_mean:   0%|          | 0/699 [00:00<?, ?it/s]"
      ]
     },
     "metadata": {},
     "output_type": "display_data"
    },
    {
     "data": {
      "application/vnd.jupyter.widget-view+json": {
       "model_id": "88963628685d4deba9983757614f72c8",
       "version_major": 2,
       "version_minor": 0
      },
      "text/plain": [
       "cqt_per_freq_var:   0%|          | 0/699 [00:00<?, ?it/s]"
      ]
     },
     "metadata": {},
     "output_type": "display_data"
    },
    {
     "data": {
      "application/vnd.jupyter.widget-view+json": {
       "model_id": "a9f86ca1503641bb8c231b8a268b3677",
       "version_major": 2,
       "version_minor": 0
      },
      "text/plain": [
       "harmonic_per_freq_mean:   0%|          | 0/699 [00:00<?, ?it/s]"
      ]
     },
     "metadata": {},
     "output_type": "display_data"
    },
    {
     "data": {
      "application/vnd.jupyter.widget-view+json": {
       "model_id": "174533d082754896acc4cd600a092cbb",
       "version_major": 2,
       "version_minor": 0
      },
      "text/plain": [
       "harmonic_per_freq_var:   0%|          | 0/699 [00:00<?, ?it/s]"
      ]
     },
     "metadata": {},
     "output_type": "display_data"
    },
    {
     "data": {
      "application/vnd.jupyter.widget-view+json": {
       "model_id": "5bdea46cfc34419cb0ce2cc36a029310",
       "version_major": 2,
       "version_minor": 0
      },
      "text/plain": [
       "percussive_per_freq_mean:   0%|          | 0/699 [00:00<?, ?it/s]"
      ]
     },
     "metadata": {},
     "output_type": "display_data"
    },
    {
     "data": {
      "application/vnd.jupyter.widget-view+json": {
       "model_id": "7a804e83f9d445ed85bcdb7f54b4214e",
       "version_major": 2,
       "version_minor": 0
      },
      "text/plain": [
       "percussive_per_freq_var:   0%|          | 0/699 [00:00<?, ?it/s]"
      ]
     },
     "metadata": {},
     "output_type": "display_data"
    },
    {
     "data": {
      "application/vnd.jupyter.widget-view+json": {
       "model_id": "060971ba68184630964ab27ce7b10383",
       "version_major": 2,
       "version_minor": 0
      },
      "text/plain": [
       "cqt_per_freq_mean:   0%|          | 0/300 [00:00<?, ?it/s]"
      ]
     },
     "metadata": {},
     "output_type": "display_data"
    },
    {
     "data": {
      "application/vnd.jupyter.widget-view+json": {
       "model_id": "7be00278cd07423fadd0cac4500a4741",
       "version_major": 2,
       "version_minor": 0
      },
      "text/plain": [
       "cqt_per_freq_var:   0%|          | 0/300 [00:00<?, ?it/s]"
      ]
     },
     "metadata": {},
     "output_type": "display_data"
    },
    {
     "data": {
      "application/vnd.jupyter.widget-view+json": {
       "model_id": "aeee83a4813a4954a2f3fae0755e8859",
       "version_major": 2,
       "version_minor": 0
      },
      "text/plain": [
       "harmonic_per_freq_mean:   0%|          | 0/300 [00:00<?, ?it/s]"
      ]
     },
     "metadata": {},
     "output_type": "display_data"
    },
    {
     "data": {
      "application/vnd.jupyter.widget-view+json": {
       "model_id": "85e27b448ae046f59994bb9c0aacc096",
       "version_major": 2,
       "version_minor": 0
      },
      "text/plain": [
       "harmonic_per_freq_var:   0%|          | 0/300 [00:00<?, ?it/s]"
      ]
     },
     "metadata": {},
     "output_type": "display_data"
    },
    {
     "data": {
      "application/vnd.jupyter.widget-view+json": {
       "model_id": "427f358e3b82416f9846c5b29de91fa8",
       "version_major": 2,
       "version_minor": 0
      },
      "text/plain": [
       "percussive_per_freq_mean:   0%|          | 0/300 [00:00<?, ?it/s]"
      ]
     },
     "metadata": {},
     "output_type": "display_data"
    },
    {
     "data": {
      "application/vnd.jupyter.widget-view+json": {
       "model_id": "168e0496ef9f4c7ca7b999fc5872fb43",
       "version_major": 2,
       "version_minor": 0
      },
      "text/plain": [
       "percussive_per_freq_var:   0%|          | 0/300 [00:00<?, ?it/s]"
      ]
     },
     "metadata": {},
     "output_type": "display_data"
    }
   ],
   "source": [
    "E_train.soft_extract()\n",
    "E_eval.soft_extract()"
   ]
  },
  {
   "cell_type": "code",
   "execution_count": 21,
   "id": "1ee29554-008c-4aed-9263-8fd83b86a477",
   "metadata": {},
   "outputs": [
    {
     "data": {
      "application/vnd.jupyter.widget-view+json": {
       "model_id": "df6ad074a23d4b10a805243879e8b166",
       "version_major": 2,
       "version_minor": 0
      },
      "text/plain": [
       "MetricVisualizer(layout=Layout(align_self='stretch', height='500px'))"
      ]
     },
     "metadata": {},
     "output_type": "display_data"
    },
    {
     "name": "stdout",
     "output_type": "stream",
     "text": [
      "0:\tlearn: 0.2660944\ttest: 0.3000000\tbest: 0.3000000 (0)\ttotal: 62.1ms\tremaining: 31s\n",
      "50:\tlearn: 0.6838340\ttest: 0.5666667\tbest: 0.5700000 (47)\ttotal: 1.04s\tremaining: 9.19s\n",
      "100:\tlearn: 0.7711016\ttest: 0.6166667\tbest: 0.6200000 (78)\ttotal: 2.04s\tremaining: 8.07s\n",
      "150:\tlearn: 0.8183119\ttest: 0.6500000\tbest: 0.6500000 (150)\ttotal: 2.98s\tremaining: 6.88s\n",
      "200:\tlearn: 0.8555079\ttest: 0.6600000\tbest: 0.6666667 (196)\ttotal: 3.91s\tremaining: 5.82s\n",
      "250:\tlearn: 0.8955651\ttest: 0.6800000\tbest: 0.6833333 (243)\ttotal: 4.88s\tremaining: 4.84s\n",
      "300:\tlearn: 0.9113019\ttest: 0.6800000\tbest: 0.6933333 (299)\ttotal: 6.1s\tremaining: 4.03s\n",
      "350:\tlearn: 0.9284692\ttest: 0.6933333\tbest: 0.6933333 (299)\ttotal: 7.02s\tremaining: 2.98s\n",
      "400:\tlearn: 0.9384835\ttest: 0.7000000\tbest: 0.7066667 (383)\ttotal: 7.96s\tremaining: 1.97s\n",
      "450:\tlearn: 0.9527897\ttest: 0.7033333\tbest: 0.7066667 (383)\ttotal: 8.89s\tremaining: 966ms\n",
      "499:\tlearn: 0.9656652\ttest: 0.7100000\tbest: 0.7100000 (459)\ttotal: 9.88s\tremaining: 0us\n",
      "\n",
      "bestTest = 0.71\n",
      "bestIteration = 459\n",
      "\n",
      "Shrink model to first 460 iterations.\n",
      "\n",
      "Classification Report:\n",
      "               precision    recall  f1-score   support\n",
      "\n",
      "       blues       0.71      0.57      0.63        30\n",
      "   classical       0.91      0.97      0.94        30\n",
      "     country       0.63      0.57      0.60        30\n",
      "       disco       0.76      0.63      0.69        30\n",
      "      hiphop       0.61      0.83      0.70        30\n",
      "        jazz       0.69      0.83      0.76        30\n",
      "       metal       0.80      0.80      0.80        30\n",
      "         pop       0.69      0.73      0.71        30\n",
      "      reggae       0.71      0.67      0.69        30\n",
      "        rock       0.60      0.50      0.55        30\n",
      "\n",
      "    accuracy                           0.71       300\n",
      "   macro avg       0.71      0.71      0.71       300\n",
      "weighted avg       0.71      0.71      0.71       300\n",
      "\n",
      "Evaluation Accuracy: 0.7100\n"
     ]
    }
   ],
   "source": [
    "features = ['cqt_per_freq_mean', 'cqt_per_freq_var', 'harmonic_per_freq_mean', 'harmonic_per_freq_var', 'percussive_per_freq_mean', 'percussive_per_freq_var']\n",
    "\n",
    "model, acc = train_and_evaluate_catboost(\n",
    "    idx_eval=E_eval.get_features(['idx'])[:,0],\n",
    "    X_train=E_train.get_features(features),\n",
    "    X_eval=E_eval.get_features(features),\n",
    "    y_train=E_train.get_features(['y'])[:,0], \n",
    "    y_eval=E_eval.get_features(['y'])[:,0],\n",
    ")"
   ]
  },
  {
   "cell_type": "code",
   "execution_count": 22,
   "id": "2146ffde-9fa4-439c-8caa-da70d5bcb00b",
   "metadata": {},
   "outputs": [],
   "source": [
    "Extractor.register_extractor('mfcc_quef_mean', lambda mfcc: mfcc.mean(axis=1))\n",
    "Extractor.register_extractor('mfcc_quef_var', lambda mfcc: mfcc.var(axis=1))\n",
    "\n",
    "# Usually STFT is used for spectral centroid, but I will use CQT, it may turn out to be even more precise.\n",
    "cqt_frequencies = librosa.cqt_frequencies(n_bins=n_bins, fmin=fmin, bins_per_octave=bins_per_octave)\n",
    "# Extractor.register_extractor('cqt_spectral_centroid', \n",
    "#                              lambda cqt: np.sum(cqt_frequencies.reshape(-1, 1) * librosa.util.normalize(cqt, norm=1, axis=0), axis=0))\n",
    "Extractor.register_extractor('cqt_spectral_centroid', \n",
    "                             lambda audio: librosa.feature.spectral_centroid(y=audio, sr=sr))\n",
    "\n",
    "Extractor.register_extractor('cqt_spectral_centroid_mean', lambda cqt_spectral_centroid: cqt_spectral_centroid.mean())\n",
    "Extractor.register_extractor('cqt_spectral_centroid_var', lambda cqt_spectral_centroid: cqt_spectral_centroid.var())\n",
    "\n",
    "cqt_frequencies = librosa.cqt_frequencies(n_bins=n_bins, fmin=fmin, bins_per_octave=bins_per_octave)\n",
    "chroma_map = librosa.filters.cq_to_chroma(cqt_frequencies.shape[0], bins_per_octave=bins_per_octave, n_chroma=bins_per_octave, fmin=fmin)\n",
    "Extractor.register_extractor('cqt_chroma', \n",
    "                             lambda cqt: np.dot(chroma_map, cqt))\n",
    "Extractor.register_extractor('cqt_chroma_freq_mean', lambda cqt_chroma: cqt_chroma.mean(axis=1))\n",
    "Extractor.register_extractor('cqt_chroma_freq_var', lambda cqt_chroma: cqt_chroma.var(axis=1))\n",
    "Extractor.register_extractor('cqt_chroma_mean', lambda cqt_chroma: cqt_chroma.mean())\n",
    "Extractor.register_extractor('cqt_chroma_var', lambda cqt_chroma: cqt_chroma.var())\n",
    "\n",
    "Extractor.register_extractor('harmonic_chroma', \n",
    "                             lambda harmonic: np.dot(chroma_map, harmonic))\n",
    "Extractor.register_extractor('harmonic_chroma_freq_mean', lambda harmonic_chroma: harmonic_chroma.mean(axis=1))\n",
    "Extractor.register_extractor('harmonic_chroma_freq_var', lambda harmonic_chroma: harmonic_chroma.var(axis=1))\n",
    "Extractor.register_extractor('harmonic_chroma_mean', lambda harmonic_chroma: harmonic_chroma.mean())\n",
    "Extractor.register_extractor('harmonic_chroma_var', lambda harmonic_chroma: harmonic_chroma.var())\n",
    "\n",
    "roll_percent = 0.85\n",
    "# Extractor.register_extractor('cqt_rolloff', \n",
    "#                              lambda cqt: librosa.feature.spectral.spectral_rolloff(S=cqt, freq=cqt_frequencies, roll_percent=roll_percent))\n",
    "Extractor.register_extractor('cqt_rolloff', \n",
    "                             lambda audio: librosa.feature.spectral.spectral_rolloff(y=audio, sr=sr, roll_percent=roll_percent))\n",
    "\n",
    "Extractor.register_extractor('cqt_rolloff_mean', lambda cqt_rolloff: cqt_rolloff.mean())\n",
    "Extractor.register_extractor('cqt_rolloff_var', lambda cqt_rolloff: cqt_rolloff.var())\n",
    "\n",
    "# Extractor.register_extractor('cqt_bandwidth', \n",
    "#                              lambda cqt: librosa.feature.spectral.spectral_bandwidth(S=cqt, freq=cqt_frequencies))\n",
    "Extractor.register_extractor('cqt_bandwidth', \n",
    "                             lambda audio: librosa.feature.spectral.spectral_bandwidth(y=audio, sr=sr))\n",
    "\n",
    "Extractor.register_extractor('cqt_bandwidth_mean', lambda cqt_bandwidth: cqt_bandwidth.mean())\n",
    "Extractor.register_extractor('cqt_bandwidth_var', lambda cqt_bandwidth: cqt_bandwidth.var())\n",
    "\n",
    "Extractor.register_extractor('zero_crossing_rate', \n",
    "                             lambda audio: librosa.feature.zero_crossing_rate(y=audio))\n",
    "\n",
    "Extractor.register_extractor('zero_crossing_rate_mean', lambda zero_crossing_rate: zero_crossing_rate.mean())\n",
    "Extractor.register_extractor('zero_crossing_rate_var', lambda zero_crossing_rate: zero_crossing_rate.var())\n",
    "\n",
    "\n",
    "Extractor.register_extractor('percept', lambda cqt: librosa.perceptual_weighting(cqt**2, cqt_frequencies, ref=np.max))\n",
    "Extractor.register_extractor('percept_freq_mean', lambda percept: percept.mean(axis=1))\n",
    "Extractor.register_extractor('percept_freq_var', lambda percept: percept.var(axis=1))\n",
    "Extractor.register_extractor('percept_mean', lambda percept: percept.mean())\n",
    "Extractor.register_extractor('percept_var', lambda percept: percept.var())"
   ]
  },
  {
   "cell_type": "code",
   "execution_count": 23,
   "id": "5edcc359-2d58-42ce-8b19-f17ed29a822d",
   "metadata": {},
   "outputs": [
    {
     "data": {
      "application/vnd.jupyter.widget-view+json": {
       "model_id": "915ecea42834471e85ce481527cbc541",
       "version_major": 2,
       "version_minor": 0
      },
      "text/plain": [
       "mfcc_quef_mean:   0%|          | 0/699 [00:00<?, ?it/s]"
      ]
     },
     "metadata": {},
     "output_type": "display_data"
    },
    {
     "data": {
      "application/vnd.jupyter.widget-view+json": {
       "model_id": "1ec116f157a94bb68470d40080b52861",
       "version_major": 2,
       "version_minor": 0
      },
      "text/plain": [
       "mfcc_quef_var:   0%|          | 0/699 [00:00<?, ?it/s]"
      ]
     },
     "metadata": {},
     "output_type": "display_data"
    },
    {
     "data": {
      "application/vnd.jupyter.widget-view+json": {
       "model_id": "bfc88abe9d09456eb0e75177fec99280",
       "version_major": 2,
       "version_minor": 0
      },
      "text/plain": [
       "cqt_spectral_centroid:   0%|          | 0/699 [00:00<?, ?it/s]"
      ]
     },
     "metadata": {},
     "output_type": "display_data"
    },
    {
     "data": {
      "application/vnd.jupyter.widget-view+json": {
       "model_id": "084da5c6e35b4144adad9e89bef8795b",
       "version_major": 2,
       "version_minor": 0
      },
      "text/plain": [
       "cqt_spectral_centroid_mean:   0%|          | 0/699 [00:00<?, ?it/s]"
      ]
     },
     "metadata": {},
     "output_type": "display_data"
    },
    {
     "data": {
      "application/vnd.jupyter.widget-view+json": {
       "model_id": "456a6b5b50b448719dade0b62ea2483f",
       "version_major": 2,
       "version_minor": 0
      },
      "text/plain": [
       "cqt_spectral_centroid_var:   0%|          | 0/699 [00:00<?, ?it/s]"
      ]
     },
     "metadata": {},
     "output_type": "display_data"
    },
    {
     "data": {
      "application/vnd.jupyter.widget-view+json": {
       "model_id": "5337631ebb6a4ef29ef682cca9c9fbc6",
       "version_major": 2,
       "version_minor": 0
      },
      "text/plain": [
       "cqt_chroma:   0%|          | 0/699 [00:00<?, ?it/s]"
      ]
     },
     "metadata": {},
     "output_type": "display_data"
    },
    {
     "data": {
      "application/vnd.jupyter.widget-view+json": {
       "model_id": "5a69fc469d0941f7848639b5bba00916",
       "version_major": 2,
       "version_minor": 0
      },
      "text/plain": [
       "cqt_chroma_freq_mean:   0%|          | 0/699 [00:00<?, ?it/s]"
      ]
     },
     "metadata": {},
     "output_type": "display_data"
    },
    {
     "data": {
      "application/vnd.jupyter.widget-view+json": {
       "model_id": "d6b14002ed96409589b0eb1334e15041",
       "version_major": 2,
       "version_minor": 0
      },
      "text/plain": [
       "cqt_chroma_freq_var:   0%|          | 0/699 [00:00<?, ?it/s]"
      ]
     },
     "metadata": {},
     "output_type": "display_data"
    },
    {
     "data": {
      "application/vnd.jupyter.widget-view+json": {
       "model_id": "d69fe878dc9d407ca892be490646b4ea",
       "version_major": 2,
       "version_minor": 0
      },
      "text/plain": [
       "cqt_chroma_mean:   0%|          | 0/699 [00:00<?, ?it/s]"
      ]
     },
     "metadata": {},
     "output_type": "display_data"
    },
    {
     "data": {
      "application/vnd.jupyter.widget-view+json": {
       "model_id": "176888fdba8b4a6e8fb85ae0a263b080",
       "version_major": 2,
       "version_minor": 0
      },
      "text/plain": [
       "cqt_chroma_var:   0%|          | 0/699 [00:00<?, ?it/s]"
      ]
     },
     "metadata": {},
     "output_type": "display_data"
    },
    {
     "data": {
      "application/vnd.jupyter.widget-view+json": {
       "model_id": "58a4afe7e2974f1aad9970dcdb76d0d5",
       "version_major": 2,
       "version_minor": 0
      },
      "text/plain": [
       "harmonic_chroma:   0%|          | 0/699 [00:00<?, ?it/s]"
      ]
     },
     "metadata": {},
     "output_type": "display_data"
    },
    {
     "data": {
      "application/vnd.jupyter.widget-view+json": {
       "model_id": "9f5a10e97198400bae23f0c1105dbbc3",
       "version_major": 2,
       "version_minor": 0
      },
      "text/plain": [
       "harmonic_chroma_freq_mean:   0%|          | 0/699 [00:00<?, ?it/s]"
      ]
     },
     "metadata": {},
     "output_type": "display_data"
    },
    {
     "data": {
      "application/vnd.jupyter.widget-view+json": {
       "model_id": "2a5b1083c09744f68469722e114ca2c0",
       "version_major": 2,
       "version_minor": 0
      },
      "text/plain": [
       "harmonic_chroma_freq_var:   0%|          | 0/699 [00:00<?, ?it/s]"
      ]
     },
     "metadata": {},
     "output_type": "display_data"
    },
    {
     "data": {
      "application/vnd.jupyter.widget-view+json": {
       "model_id": "9ccb09c8214c44df9baab5c26d225d83",
       "version_major": 2,
       "version_minor": 0
      },
      "text/plain": [
       "harmonic_chroma_mean:   0%|          | 0/699 [00:00<?, ?it/s]"
      ]
     },
     "metadata": {},
     "output_type": "display_data"
    },
    {
     "data": {
      "application/vnd.jupyter.widget-view+json": {
       "model_id": "0f26deb6d70a48aca33e9435c03afd1f",
       "version_major": 2,
       "version_minor": 0
      },
      "text/plain": [
       "harmonic_chroma_var:   0%|          | 0/699 [00:00<?, ?it/s]"
      ]
     },
     "metadata": {},
     "output_type": "display_data"
    },
    {
     "data": {
      "application/vnd.jupyter.widget-view+json": {
       "model_id": "d079a5c3317c49a8adbaed2b21cf2f5e",
       "version_major": 2,
       "version_minor": 0
      },
      "text/plain": [
       "cqt_rolloff:   0%|          | 0/699 [00:00<?, ?it/s]"
      ]
     },
     "metadata": {},
     "output_type": "display_data"
    },
    {
     "data": {
      "application/vnd.jupyter.widget-view+json": {
       "model_id": "371c581ec55543d0a2cc7b339400da85",
       "version_major": 2,
       "version_minor": 0
      },
      "text/plain": [
       "cqt_rolloff_mean:   0%|          | 0/699 [00:00<?, ?it/s]"
      ]
     },
     "metadata": {},
     "output_type": "display_data"
    },
    {
     "data": {
      "application/vnd.jupyter.widget-view+json": {
       "model_id": "c82bc300f39d48f8ba63f6b01176b002",
       "version_major": 2,
       "version_minor": 0
      },
      "text/plain": [
       "cqt_rolloff_var:   0%|          | 0/699 [00:00<?, ?it/s]"
      ]
     },
     "metadata": {},
     "output_type": "display_data"
    },
    {
     "data": {
      "application/vnd.jupyter.widget-view+json": {
       "model_id": "dac51d9a6eaf41c484ed7a5fae6630f5",
       "version_major": 2,
       "version_minor": 0
      },
      "text/plain": [
       "cqt_bandwidth:   0%|          | 0/699 [00:00<?, ?it/s]"
      ]
     },
     "metadata": {},
     "output_type": "display_data"
    },
    {
     "data": {
      "application/vnd.jupyter.widget-view+json": {
       "model_id": "ec748e72791446b9a771b05a27cafbf0",
       "version_major": 2,
       "version_minor": 0
      },
      "text/plain": [
       "cqt_bandwidth_mean:   0%|          | 0/699 [00:00<?, ?it/s]"
      ]
     },
     "metadata": {},
     "output_type": "display_data"
    },
    {
     "data": {
      "application/vnd.jupyter.widget-view+json": {
       "model_id": "86912ff8d19343489ac02c7565e5e803",
       "version_major": 2,
       "version_minor": 0
      },
      "text/plain": [
       "cqt_bandwidth_var:   0%|          | 0/699 [00:00<?, ?it/s]"
      ]
     },
     "metadata": {},
     "output_type": "display_data"
    },
    {
     "data": {
      "application/vnd.jupyter.widget-view+json": {
       "model_id": "c50f5c1bbb8d448389af68881af6dbe2",
       "version_major": 2,
       "version_minor": 0
      },
      "text/plain": [
       "zero_crossing_rate:   0%|          | 0/699 [00:00<?, ?it/s]"
      ]
     },
     "metadata": {},
     "output_type": "display_data"
    },
    {
     "data": {
      "application/vnd.jupyter.widget-view+json": {
       "model_id": "73882f4d9744427483d99194d7d34f46",
       "version_major": 2,
       "version_minor": 0
      },
      "text/plain": [
       "zero_crossing_rate_mean:   0%|          | 0/699 [00:00<?, ?it/s]"
      ]
     },
     "metadata": {},
     "output_type": "display_data"
    },
    {
     "data": {
      "application/vnd.jupyter.widget-view+json": {
       "model_id": "1f6bed5737cc43c39877f030f36ceb44",
       "version_major": 2,
       "version_minor": 0
      },
      "text/plain": [
       "zero_crossing_rate_var:   0%|          | 0/699 [00:00<?, ?it/s]"
      ]
     },
     "metadata": {},
     "output_type": "display_data"
    },
    {
     "data": {
      "application/vnd.jupyter.widget-view+json": {
       "model_id": "1e2972b092a7477b9052963e445cc618",
       "version_major": 2,
       "version_minor": 0
      },
      "text/plain": [
       "percept:   0%|          | 0/699 [00:00<?, ?it/s]"
      ]
     },
     "metadata": {},
     "output_type": "display_data"
    },
    {
     "data": {
      "application/vnd.jupyter.widget-view+json": {
       "model_id": "bb6581fc7eba402ea9c51c7a22ffe15a",
       "version_major": 2,
       "version_minor": 0
      },
      "text/plain": [
       "percept_freq_mean:   0%|          | 0/699 [00:00<?, ?it/s]"
      ]
     },
     "metadata": {},
     "output_type": "display_data"
    },
    {
     "data": {
      "application/vnd.jupyter.widget-view+json": {
       "model_id": "43877592dbeb445cb22d2f9bc8dc0580",
       "version_major": 2,
       "version_minor": 0
      },
      "text/plain": [
       "percept_freq_var:   0%|          | 0/699 [00:00<?, ?it/s]"
      ]
     },
     "metadata": {},
     "output_type": "display_data"
    },
    {
     "data": {
      "application/vnd.jupyter.widget-view+json": {
       "model_id": "1c602172d3e64020a42d2376c8d1185b",
       "version_major": 2,
       "version_minor": 0
      },
      "text/plain": [
       "percept_mean:   0%|          | 0/699 [00:00<?, ?it/s]"
      ]
     },
     "metadata": {},
     "output_type": "display_data"
    },
    {
     "data": {
      "application/vnd.jupyter.widget-view+json": {
       "model_id": "46b68d1440514595812610920d649074",
       "version_major": 2,
       "version_minor": 0
      },
      "text/plain": [
       "percept_var:   0%|          | 0/699 [00:00<?, ?it/s]"
      ]
     },
     "metadata": {},
     "output_type": "display_data"
    },
    {
     "data": {
      "application/vnd.jupyter.widget-view+json": {
       "model_id": "c4ec646965a54f0c9204a23820d699b5",
       "version_major": 2,
       "version_minor": 0
      },
      "text/plain": [
       "mfcc_quef_mean:   0%|          | 0/300 [00:00<?, ?it/s]"
      ]
     },
     "metadata": {},
     "output_type": "display_data"
    },
    {
     "data": {
      "application/vnd.jupyter.widget-view+json": {
       "model_id": "544d4cf032aa4c4c8d421fa9e0fc25ce",
       "version_major": 2,
       "version_minor": 0
      },
      "text/plain": [
       "mfcc_quef_var:   0%|          | 0/300 [00:00<?, ?it/s]"
      ]
     },
     "metadata": {},
     "output_type": "display_data"
    },
    {
     "data": {
      "application/vnd.jupyter.widget-view+json": {
       "model_id": "054aa74ae324425a8479aa14dfaa40db",
       "version_major": 2,
       "version_minor": 0
      },
      "text/plain": [
       "cqt_spectral_centroid:   0%|          | 0/300 [00:00<?, ?it/s]"
      ]
     },
     "metadata": {},
     "output_type": "display_data"
    },
    {
     "data": {
      "application/vnd.jupyter.widget-view+json": {
       "model_id": "76109d921d3c440784ff05aa5a23aca2",
       "version_major": 2,
       "version_minor": 0
      },
      "text/plain": [
       "cqt_spectral_centroid_mean:   0%|          | 0/300 [00:00<?, ?it/s]"
      ]
     },
     "metadata": {},
     "output_type": "display_data"
    },
    {
     "data": {
      "application/vnd.jupyter.widget-view+json": {
       "model_id": "d8bf5f51d0d64ba0b67afef582a2741f",
       "version_major": 2,
       "version_minor": 0
      },
      "text/plain": [
       "cqt_spectral_centroid_var:   0%|          | 0/300 [00:00<?, ?it/s]"
      ]
     },
     "metadata": {},
     "output_type": "display_data"
    },
    {
     "data": {
      "application/vnd.jupyter.widget-view+json": {
       "model_id": "0e0cda928d264c4e9f4a07070fe3bcb1",
       "version_major": 2,
       "version_minor": 0
      },
      "text/plain": [
       "cqt_chroma:   0%|          | 0/300 [00:00<?, ?it/s]"
      ]
     },
     "metadata": {},
     "output_type": "display_data"
    },
    {
     "data": {
      "application/vnd.jupyter.widget-view+json": {
       "model_id": "2fa2fb39d45d4ebcb6ab8e012247fe59",
       "version_major": 2,
       "version_minor": 0
      },
      "text/plain": [
       "cqt_chroma_freq_mean:   0%|          | 0/300 [00:00<?, ?it/s]"
      ]
     },
     "metadata": {},
     "output_type": "display_data"
    },
    {
     "data": {
      "application/vnd.jupyter.widget-view+json": {
       "model_id": "da642d33c2bf47d48b931fe9132ef0be",
       "version_major": 2,
       "version_minor": 0
      },
      "text/plain": [
       "cqt_chroma_freq_var:   0%|          | 0/300 [00:00<?, ?it/s]"
      ]
     },
     "metadata": {},
     "output_type": "display_data"
    },
    {
     "data": {
      "application/vnd.jupyter.widget-view+json": {
       "model_id": "27f6dfc94b92404c893b84dd99e707ba",
       "version_major": 2,
       "version_minor": 0
      },
      "text/plain": [
       "cqt_chroma_mean:   0%|          | 0/300 [00:00<?, ?it/s]"
      ]
     },
     "metadata": {},
     "output_type": "display_data"
    },
    {
     "data": {
      "application/vnd.jupyter.widget-view+json": {
       "model_id": "75c6686b17bc4503a6ff7e01b5de5730",
       "version_major": 2,
       "version_minor": 0
      },
      "text/plain": [
       "cqt_chroma_var:   0%|          | 0/300 [00:00<?, ?it/s]"
      ]
     },
     "metadata": {},
     "output_type": "display_data"
    },
    {
     "data": {
      "application/vnd.jupyter.widget-view+json": {
       "model_id": "015b5d85fb1248b8900a4d977f3d0d52",
       "version_major": 2,
       "version_minor": 0
      },
      "text/plain": [
       "harmonic_chroma:   0%|          | 0/300 [00:00<?, ?it/s]"
      ]
     },
     "metadata": {},
     "output_type": "display_data"
    },
    {
     "data": {
      "application/vnd.jupyter.widget-view+json": {
       "model_id": "c98c6d6105174dafaa27ae1cc132133f",
       "version_major": 2,
       "version_minor": 0
      },
      "text/plain": [
       "harmonic_chroma_freq_mean:   0%|          | 0/300 [00:00<?, ?it/s]"
      ]
     },
     "metadata": {},
     "output_type": "display_data"
    },
    {
     "data": {
      "application/vnd.jupyter.widget-view+json": {
       "model_id": "a973edad495e45f2a3ae560fa4d78e8f",
       "version_major": 2,
       "version_minor": 0
      },
      "text/plain": [
       "harmonic_chroma_freq_var:   0%|          | 0/300 [00:00<?, ?it/s]"
      ]
     },
     "metadata": {},
     "output_type": "display_data"
    },
    {
     "data": {
      "application/vnd.jupyter.widget-view+json": {
       "model_id": "4fdae66f5fd547c8b64e34d5897be7e8",
       "version_major": 2,
       "version_minor": 0
      },
      "text/plain": [
       "harmonic_chroma_mean:   0%|          | 0/300 [00:00<?, ?it/s]"
      ]
     },
     "metadata": {},
     "output_type": "display_data"
    },
    {
     "data": {
      "application/vnd.jupyter.widget-view+json": {
       "model_id": "085d750e88f24fa5b4a8fe076cbf1521",
       "version_major": 2,
       "version_minor": 0
      },
      "text/plain": [
       "harmonic_chroma_var:   0%|          | 0/300 [00:00<?, ?it/s]"
      ]
     },
     "metadata": {},
     "output_type": "display_data"
    },
    {
     "data": {
      "application/vnd.jupyter.widget-view+json": {
       "model_id": "b21cd3d6047240ffbc9191aeddbf6048",
       "version_major": 2,
       "version_minor": 0
      },
      "text/plain": [
       "cqt_rolloff:   0%|          | 0/300 [00:00<?, ?it/s]"
      ]
     },
     "metadata": {},
     "output_type": "display_data"
    },
    {
     "data": {
      "application/vnd.jupyter.widget-view+json": {
       "model_id": "c6827c2a486c4b5ba16360fa8a8a28f2",
       "version_major": 2,
       "version_minor": 0
      },
      "text/plain": [
       "cqt_rolloff_mean:   0%|          | 0/300 [00:00<?, ?it/s]"
      ]
     },
     "metadata": {},
     "output_type": "display_data"
    },
    {
     "data": {
      "application/vnd.jupyter.widget-view+json": {
       "model_id": "3b8917b8829e42e9aa3e340ec6b8811a",
       "version_major": 2,
       "version_minor": 0
      },
      "text/plain": [
       "cqt_rolloff_var:   0%|          | 0/300 [00:00<?, ?it/s]"
      ]
     },
     "metadata": {},
     "output_type": "display_data"
    },
    {
     "data": {
      "application/vnd.jupyter.widget-view+json": {
       "model_id": "05f5bdc35b3b43c59197062e21b257c1",
       "version_major": 2,
       "version_minor": 0
      },
      "text/plain": [
       "cqt_bandwidth:   0%|          | 0/300 [00:00<?, ?it/s]"
      ]
     },
     "metadata": {},
     "output_type": "display_data"
    },
    {
     "data": {
      "application/vnd.jupyter.widget-view+json": {
       "model_id": "f7ec265a357a494580646d8769737e2b",
       "version_major": 2,
       "version_minor": 0
      },
      "text/plain": [
       "cqt_bandwidth_mean:   0%|          | 0/300 [00:00<?, ?it/s]"
      ]
     },
     "metadata": {},
     "output_type": "display_data"
    },
    {
     "data": {
      "application/vnd.jupyter.widget-view+json": {
       "model_id": "a564c7937b1f4e13a9aec91aa5b3b4be",
       "version_major": 2,
       "version_minor": 0
      },
      "text/plain": [
       "cqt_bandwidth_var:   0%|          | 0/300 [00:00<?, ?it/s]"
      ]
     },
     "metadata": {},
     "output_type": "display_data"
    },
    {
     "data": {
      "application/vnd.jupyter.widget-view+json": {
       "model_id": "8c5a0dd117d84a47ad440a73a31e9e90",
       "version_major": 2,
       "version_minor": 0
      },
      "text/plain": [
       "zero_crossing_rate:   0%|          | 0/300 [00:00<?, ?it/s]"
      ]
     },
     "metadata": {},
     "output_type": "display_data"
    },
    {
     "data": {
      "application/vnd.jupyter.widget-view+json": {
       "model_id": "6d4907c22d2540e29ebd4f1d5d7a38c8",
       "version_major": 2,
       "version_minor": 0
      },
      "text/plain": [
       "zero_crossing_rate_mean:   0%|          | 0/300 [00:00<?, ?it/s]"
      ]
     },
     "metadata": {},
     "output_type": "display_data"
    },
    {
     "data": {
      "application/vnd.jupyter.widget-view+json": {
       "model_id": "ce5c53bbd8df478f90fb760df41fd1d4",
       "version_major": 2,
       "version_minor": 0
      },
      "text/plain": [
       "zero_crossing_rate_var:   0%|          | 0/300 [00:00<?, ?it/s]"
      ]
     },
     "metadata": {},
     "output_type": "display_data"
    },
    {
     "data": {
      "application/vnd.jupyter.widget-view+json": {
       "model_id": "f60829afa498496cb4612874cc42020c",
       "version_major": 2,
       "version_minor": 0
      },
      "text/plain": [
       "percept:   0%|          | 0/300 [00:00<?, ?it/s]"
      ]
     },
     "metadata": {},
     "output_type": "display_data"
    },
    {
     "data": {
      "application/vnd.jupyter.widget-view+json": {
       "model_id": "ecc5522724194b62a61875858c7311f0",
       "version_major": 2,
       "version_minor": 0
      },
      "text/plain": [
       "percept_freq_mean:   0%|          | 0/300 [00:00<?, ?it/s]"
      ]
     },
     "metadata": {},
     "output_type": "display_data"
    },
    {
     "data": {
      "application/vnd.jupyter.widget-view+json": {
       "model_id": "11d4c4f2f15d484ebfafaf336c8a65d2",
       "version_major": 2,
       "version_minor": 0
      },
      "text/plain": [
       "percept_freq_var:   0%|          | 0/300 [00:00<?, ?it/s]"
      ]
     },
     "metadata": {},
     "output_type": "display_data"
    },
    {
     "data": {
      "application/vnd.jupyter.widget-view+json": {
       "model_id": "bbc9c84975184a33aa2008627d6ece34",
       "version_major": 2,
       "version_minor": 0
      },
      "text/plain": [
       "percept_mean:   0%|          | 0/300 [00:00<?, ?it/s]"
      ]
     },
     "metadata": {},
     "output_type": "display_data"
    },
    {
     "data": {
      "application/vnd.jupyter.widget-view+json": {
       "model_id": "8290f97b84d2400885d30beb15a9d6d1",
       "version_major": 2,
       "version_minor": 0
      },
      "text/plain": [
       "percept_var:   0%|          | 0/300 [00:00<?, ?it/s]"
      ]
     },
     "metadata": {},
     "output_type": "display_data"
    }
   ],
   "source": [
    "E_train.soft_extract()\n",
    "E_eval.soft_extract()"
   ]
  },
  {
   "cell_type": "code",
   "execution_count": 24,
   "id": "e87cadeb-77e2-4202-b87d-e0c825ed47ed",
   "metadata": {},
   "outputs": [
    {
     "data": {
      "application/vnd.jupyter.widget-view+json": {
       "model_id": "9bd9f3ea9fd04393837c201854d0b82c",
       "version_major": 2,
       "version_minor": 0
      },
      "text/plain": [
       "MetricVisualizer(layout=Layout(align_self='stretch', height='500px'))"
      ]
     },
     "metadata": {},
     "output_type": "display_data"
    },
    {
     "name": "stdout",
     "output_type": "stream",
     "text": [
      "0:\tlearn: 0.2732475\ttest: 0.2966667\tbest: 0.2966667 (0)\ttotal: 114ms\tremaining: 57s\n",
      "50:\tlearn: 0.7038627\ttest: 0.6200000\tbest: 0.6300000 (47)\ttotal: 1.61s\tremaining: 14.2s\n",
      "100:\tlearn: 0.8211731\ttest: 0.6666667\tbest: 0.6700000 (97)\ttotal: 3.04s\tremaining: 12s\n",
      "150:\tlearn: 0.8640916\ttest: 0.7133333\tbest: 0.7133333 (150)\ttotal: 4.37s\tremaining: 10.1s\n",
      "200:\tlearn: 0.9012876\ttest: 0.7266667\tbest: 0.7400000 (188)\ttotal: 5.76s\tremaining: 8.58s\n",
      "250:\tlearn: 0.9227468\ttest: 0.7333333\tbest: 0.7400000 (188)\ttotal: 7.16s\tremaining: 7.1s\n",
      "300:\tlearn: 0.9356223\ttest: 0.7433333\tbest: 0.7433333 (267)\ttotal: 8.53s\tremaining: 5.64s\n",
      "350:\tlearn: 0.9456366\ttest: 0.7433333\tbest: 0.7500000 (345)\ttotal: 9.86s\tremaining: 4.18s\n",
      "400:\tlearn: 0.9527897\ttest: 0.7433333\tbest: 0.7566667 (372)\ttotal: 11.2s\tremaining: 2.76s\n",
      "450:\tlearn: 0.9628040\ttest: 0.7466667\tbest: 0.7566667 (372)\ttotal: 12.6s\tremaining: 1.37s\n",
      "499:\tlearn: 0.9799714\ttest: 0.7500000\tbest: 0.7600000 (475)\ttotal: 13.9s\tremaining: 0us\n",
      "\n",
      "bestTest = 0.76\n",
      "bestIteration = 475\n",
      "\n",
      "Shrink model to first 476 iterations.\n",
      "\n",
      "Classification Report:\n",
      "               precision    recall  f1-score   support\n",
      "\n",
      "       blues       0.82      0.60      0.69        30\n",
      "   classical       0.88      0.93      0.90        30\n",
      "     country       0.73      0.73      0.73        30\n",
      "       disco       0.77      0.67      0.71        30\n",
      "      hiphop       0.72      0.87      0.79        30\n",
      "        jazz       0.87      0.90      0.89        30\n",
      "       metal       0.81      0.83      0.82        30\n",
      "         pop       0.76      0.83      0.79        30\n",
      "      reggae       0.66      0.77      0.71        30\n",
      "        rock       0.58      0.47      0.52        30\n",
      "\n",
      "    accuracy                           0.76       300\n",
      "   macro avg       0.76      0.76      0.76       300\n",
      "weighted avg       0.76      0.76      0.76       300\n",
      "\n",
      "Evaluation Accuracy: 0.7600\n"
     ]
    }
   ],
   "source": [
    "features = ['rms', 'bpm',\n",
    "    'cqt_per_freq_mean', 'cqt_per_freq_var', \n",
    "    'harmonic_per_freq_mean', 'harmonic_per_freq_var', \n",
    "    'percussive_per_freq_mean', 'percussive_per_freq_var',\n",
    "    'mfcc_quef_mean', 'mfcc_quef_var', \n",
    "    'cqt_spectral_centroid_mean', 'cqt_spectral_centroid_var', \n",
    "    'cqt_chroma_mean', 'cqt_chroma_var', \n",
    "    'harmonic_chroma_freq_mean', 'harmonic_chroma_freq_var', \n",
    "    'cqt_rolloff_mean', 'cqt_rolloff_var', \n",
    "    'cqt_bandwidth_mean', 'cqt_bandwidth_var',\n",
    "    'percept_freq_mean', 'percept_freq_var']\n",
    "\n",
    "model, acc = train_and_evaluate_catboost(\n",
    "    idx_eval=E_eval.get_features(['idx'])[:,0],\n",
    "    X_train=E_train.get_features(features),\n",
    "    X_eval=E_eval.get_features(features),\n",
    "    y_train=E_train.get_features(['y'])[:,0], \n",
    "    y_eval=E_eval.get_features(['y'])[:,0],\n",
    ")"
   ]
  },
  {
   "cell_type": "code",
   "execution_count": 25,
   "id": "4e397281-5ba3-4bbc-801c-4a2cbfac4d27",
   "metadata": {},
   "outputs": [
    {
     "data": {
      "text/html": [
       "<div>\n",
       "<style scoped>\n",
       "    .dataframe tbody tr th:only-of-type {\n",
       "        vertical-align: middle;\n",
       "    }\n",
       "\n",
       "    .dataframe tbody tr th {\n",
       "        vertical-align: top;\n",
       "    }\n",
       "\n",
       "    .dataframe thead th {\n",
       "        text-align: right;\n",
       "    }\n",
       "</style>\n",
       "<table border=\"1\" class=\"dataframe\">\n",
       "  <thead>\n",
       "    <tr style=\"text-align: right;\">\n",
       "      <th></th>\n",
       "      <th>importance</th>\n",
       "    </tr>\n",
       "  </thead>\n",
       "  <tbody>\n",
       "    <tr>\n",
       "      <th>mfcc_quef_mean_3</th>\n",
       "      <td>2.359190</td>\n",
       "    </tr>\n",
       "    <tr>\n",
       "      <th>mfcc_quef_var_8</th>\n",
       "      <td>2.358319</td>\n",
       "    </tr>\n",
       "    <tr>\n",
       "      <th>mfcc_quef_var_3</th>\n",
       "      <td>2.214395</td>\n",
       "    </tr>\n",
       "    <tr>\n",
       "      <th>percussive_per_freq_var_19</th>\n",
       "      <td>1.399441</td>\n",
       "    </tr>\n",
       "    <tr>\n",
       "      <th>percussive_per_freq_mean_15</th>\n",
       "      <td>1.380568</td>\n",
       "    </tr>\n",
       "    <tr>\n",
       "      <th>percept_freq_var_1</th>\n",
       "      <td>1.320246</td>\n",
       "    </tr>\n",
       "    <tr>\n",
       "      <th>percussive_per_freq_mean_18</th>\n",
       "      <td>1.249470</td>\n",
       "    </tr>\n",
       "    <tr>\n",
       "      <th>mfcc_quef_var_2</th>\n",
       "      <td>1.248530</td>\n",
       "    </tr>\n",
       "    <tr>\n",
       "      <th>percept_freq_mean_8</th>\n",
       "      <td>1.225092</td>\n",
       "    </tr>\n",
       "    <tr>\n",
       "      <th>percussive_per_freq_var_29</th>\n",
       "      <td>1.154247</td>\n",
       "    </tr>\n",
       "    <tr>\n",
       "      <th>percussive_per_freq_mean_20</th>\n",
       "      <td>1.110014</td>\n",
       "    </tr>\n",
       "    <tr>\n",
       "      <th>percept_freq_var_0</th>\n",
       "      <td>1.025510</td>\n",
       "    </tr>\n",
       "    <tr>\n",
       "      <th>mfcc_quef_var_4</th>\n",
       "      <td>1.007279</td>\n",
       "    </tr>\n",
       "    <tr>\n",
       "      <th>percept_freq_mean_35</th>\n",
       "      <td>0.992137</td>\n",
       "    </tr>\n",
       "    <tr>\n",
       "      <th>percussive_per_freq_var_37</th>\n",
       "      <td>0.971263</td>\n",
       "    </tr>\n",
       "  </tbody>\n",
       "</table>\n",
       "</div>"
      ],
      "text/plain": [
       "                             importance\n",
       "mfcc_quef_mean_3               2.359190\n",
       "mfcc_quef_var_8                2.358319\n",
       "mfcc_quef_var_3                2.214395\n",
       "percussive_per_freq_var_19     1.399441\n",
       "percussive_per_freq_mean_15    1.380568\n",
       "percept_freq_var_1             1.320246\n",
       "percussive_per_freq_mean_18    1.249470\n",
       "mfcc_quef_var_2                1.248530\n",
       "percept_freq_mean_8            1.225092\n",
       "percussive_per_freq_var_29     1.154247\n",
       "percussive_per_freq_mean_20    1.110014\n",
       "percept_freq_var_0             1.025510\n",
       "mfcc_quef_var_4                1.007279\n",
       "percept_freq_mean_35           0.992137\n",
       "percussive_per_freq_var_37     0.971263"
      ]
     },
     "execution_count": 25,
     "metadata": {},
     "output_type": "execute_result"
    }
   ],
   "source": [
    "pd.DataFrame(\n",
    "    data=model.feature_importances_, \n",
    "    index=E_train.get_feature_names_vector(features), \n",
    "    columns=['importance']\n",
    ").sort_values(by='importance', ascending=False).head(15)"
   ]
  },
  {
   "cell_type": "code",
   "execution_count": 26,
   "id": "7f195210-2e93-470c-b746-0a027873e5fd",
   "metadata": {},
   "outputs": [
    {
     "data": {
      "application/vnd.jupyter.widget-view+json": {
       "model_id": "ef18187044c1480199af19bd236414a4",
       "version_major": 2,
       "version_minor": 0
      },
      "text/plain": [
       "MetricVisualizer(layout=Layout(align_self='stretch', height='500px'))"
      ]
     },
     "metadata": {},
     "output_type": "display_data"
    },
    {
     "name": "stdout",
     "output_type": "stream",
     "text": [
      "0:\tlearn: 0.3018598\ttest: 0.2800000\tbest: 0.2800000 (0)\ttotal: 69.8ms\tremaining: 34.9s\n",
      "50:\tlearn: 0.7467811\ttest: 0.6733333\tbest: 0.6800000 (49)\ttotal: 1.64s\tremaining: 14.4s\n",
      "100:\tlearn: 0.8426323\ttest: 0.7233333\tbest: 0.7266667 (78)\ttotal: 3.13s\tremaining: 12.4s\n",
      "150:\tlearn: 0.8955651\ttest: 0.7666667\tbest: 0.7733333 (139)\ttotal: 4.64s\tremaining: 10.7s\n",
      "200:\tlearn: 0.9213162\ttest: 0.8000000\tbest: 0.8000000 (200)\ttotal: 6.13s\tremaining: 9.13s\n",
      "250:\tlearn: 0.9413448\ttest: 0.7966667\tbest: 0.8033333 (242)\ttotal: 7.61s\tremaining: 7.54s\n",
      "300:\tlearn: 0.9585122\ttest: 0.7933333\tbest: 0.8033333 (242)\ttotal: 9.07s\tremaining: 6s\n",
      "350:\tlearn: 0.9728183\ttest: 0.7933333\tbest: 0.8033333 (242)\ttotal: 10.6s\tremaining: 4.5s\n",
      "400:\tlearn: 0.9785408\ttest: 0.7966667\tbest: 0.8033333 (242)\ttotal: 12.2s\tremaining: 3s\n",
      "450:\tlearn: 0.9828326\ttest: 0.8033333\tbest: 0.8033333 (242)\ttotal: 13.6s\tremaining: 1.48s\n",
      "499:\tlearn: 0.9899857\ttest: 0.8066667\tbest: 0.8100000 (463)\ttotal: 15.1s\tremaining: 0us\n",
      "\n",
      "bestTest = 0.81\n",
      "bestIteration = 463\n",
      "\n",
      "Shrink model to first 464 iterations.\n",
      "\n",
      "Classification Report:\n",
      "               precision    recall  f1-score   support\n",
      "\n",
      "       blues       0.96      0.73      0.83        30\n",
      "   classical       0.88      0.93      0.90        30\n",
      "     country       0.81      0.83      0.82        30\n",
      "       disco       0.77      0.67      0.71        30\n",
      "      hiphop       0.68      0.93      0.79        30\n",
      "        jazz       0.87      0.87      0.87        30\n",
      "       metal       0.89      0.83      0.86        30\n",
      "         pop       0.87      0.90      0.89        30\n",
      "      reggae       0.73      0.73      0.73        30\n",
      "        rock       0.71      0.67      0.69        30\n",
      "\n",
      "    accuracy                           0.81       300\n",
      "   macro avg       0.82      0.81      0.81       300\n",
      "weighted avg       0.82      0.81      0.81       300\n",
      "\n",
      "Evaluation Accuracy: 0.8100\n"
     ]
    }
   ],
   "source": [
    "features = ['stats',\n",
    "    'cqt_per_freq_mean', 'cqt_per_freq_var', \n",
    "    'harmonic_per_freq_mean', 'harmonic_per_freq_var', \n",
    "    'percussive_per_freq_mean', 'percussive_per_freq_var',\n",
    "    'mfcc_quef_mean', 'mfcc_quef_var', \n",
    "    'cqt_spectral_centroid_mean', 'cqt_spectral_centroid_var', \n",
    "    'cqt_chroma_freq_mean', 'cqt_chroma_freq_var', \n",
    "    'harmonic_chroma_freq_mean', 'harmonic_chroma_freq_var',\n",
    "    'cqt_rolloff_mean', 'cqt_rolloff_var', \n",
    "    'cqt_bandwidth_mean', 'cqt_bandwidth_var',\n",
    "    'percept_freq_mean', 'percept_freq_var']\n",
    "\n",
    "model, acc = train_and_evaluate_catboost(\n",
    "    idx_eval=E_eval.get_features(['idx'])[:,0],\n",
    "    X_train=E_train.get_features(features),\n",
    "    X_eval=E_eval.get_features(features),\n",
    "    y_train=E_train.get_features(['y'])[:,0], \n",
    "    y_eval=E_eval.get_features(['y'])[:,0],\n",
    ")"
   ]
  },
  {
   "cell_type": "code",
   "execution_count": 27,
   "id": "4ee373f7-93f5-4eee-87b5-628f52acee95",
   "metadata": {},
   "outputs": [
    {
     "data": {
      "text/html": [
       "<div>\n",
       "<style scoped>\n",
       "    .dataframe tbody tr th:only-of-type {\n",
       "        vertical-align: middle;\n",
       "    }\n",
       "\n",
       "    .dataframe tbody tr th {\n",
       "        vertical-align: top;\n",
       "    }\n",
       "\n",
       "    .dataframe thead th {\n",
       "        text-align: right;\n",
       "    }\n",
       "</style>\n",
       "<table border=\"1\" class=\"dataframe\">\n",
       "  <thead>\n",
       "    <tr style=\"text-align: right;\">\n",
       "      <th></th>\n",
       "      <th>importance</th>\n",
       "      <th>stat_name</th>\n",
       "    </tr>\n",
       "  </thead>\n",
       "  <tbody>\n",
       "    <tr>\n",
       "      <th>stats_0</th>\n",
       "      <td>2.523169</td>\n",
       "      <td>chroma_stft_mean</td>\n",
       "    </tr>\n",
       "    <tr>\n",
       "      <th>stats_6</th>\n",
       "      <td>1.797094</td>\n",
       "      <td>spectral_bandwidth_mean</td>\n",
       "    </tr>\n",
       "    <tr>\n",
       "      <th>stats_23</th>\n",
       "      <td>1.583620</td>\n",
       "      <td>mfcc4_mean</td>\n",
       "    </tr>\n",
       "    <tr>\n",
       "      <th>stats_33</th>\n",
       "      <td>1.515491</td>\n",
       "      <td>mfcc9_mean</td>\n",
       "    </tr>\n",
       "    <tr>\n",
       "      <th>percussive_per_freq_mean_22</th>\n",
       "      <td>1.454783</td>\n",
       "      <td>None</td>\n",
       "    </tr>\n",
       "    <tr>\n",
       "      <th>stats_39</th>\n",
       "      <td>1.381583</td>\n",
       "      <td>mfcc12_mean</td>\n",
       "    </tr>\n",
       "    <tr>\n",
       "      <th>mfcc_quef_var_4</th>\n",
       "      <td>1.311128</td>\n",
       "      <td>None</td>\n",
       "    </tr>\n",
       "    <tr>\n",
       "      <th>stats_9</th>\n",
       "      <td>1.279369</td>\n",
       "      <td>rolloff_var</td>\n",
       "    </tr>\n",
       "    <tr>\n",
       "      <th>percussive_per_freq_var_21</th>\n",
       "      <td>1.255095</td>\n",
       "      <td>None</td>\n",
       "    </tr>\n",
       "    <tr>\n",
       "      <th>percept_freq_mean_75</th>\n",
       "      <td>1.246075</td>\n",
       "      <td>None</td>\n",
       "    </tr>\n",
       "    <tr>\n",
       "      <th>percept_freq_var_27</th>\n",
       "      <td>1.209876</td>\n",
       "      <td>None</td>\n",
       "    </tr>\n",
       "    <tr>\n",
       "      <th>mfcc_quef_var_8</th>\n",
       "      <td>1.138965</td>\n",
       "      <td>None</td>\n",
       "    </tr>\n",
       "    <tr>\n",
       "      <th>mfcc_quef_mean_3</th>\n",
       "      <td>1.103165</td>\n",
       "      <td>None</td>\n",
       "    </tr>\n",
       "    <tr>\n",
       "      <th>stats_27</th>\n",
       "      <td>1.101513</td>\n",
       "      <td>mfcc6_mean</td>\n",
       "    </tr>\n",
       "    <tr>\n",
       "      <th>stats_12</th>\n",
       "      <td>1.092918</td>\n",
       "      <td>harmony_mean</td>\n",
       "    </tr>\n",
       "  </tbody>\n",
       "</table>\n",
       "</div>"
      ],
      "text/plain": [
       "                             importance                stat_name\n",
       "stats_0                        2.523169         chroma_stft_mean\n",
       "stats_6                        1.797094  spectral_bandwidth_mean\n",
       "stats_23                       1.583620               mfcc4_mean\n",
       "stats_33                       1.515491               mfcc9_mean\n",
       "percussive_per_freq_mean_22    1.454783                     None\n",
       "stats_39                       1.381583              mfcc12_mean\n",
       "mfcc_quef_var_4                1.311128                     None\n",
       "stats_9                        1.279369              rolloff_var\n",
       "percussive_per_freq_var_21     1.255095                     None\n",
       "percept_freq_mean_75           1.246075                     None\n",
       "percept_freq_var_27            1.209876                     None\n",
       "mfcc_quef_var_8                1.138965                     None\n",
       "mfcc_quef_mean_3               1.103165                     None\n",
       "stats_27                       1.101513               mfcc6_mean\n",
       "stats_12                       1.092918             harmony_mean"
      ]
     },
     "execution_count": 27,
     "metadata": {},
     "output_type": "execute_result"
    }
   ],
   "source": [
    "imp = pd.DataFrame(\n",
    "    data=model.feature_importances_, \n",
    "    index=E_train.get_feature_names_vector(features), \n",
    "    columns=['importance']\n",
    ").sort_values(by='importance', ascending=False).head(15)\n",
    "imp['stat_name'] = pd.Series(imp.index, index=imp.index).apply(lambda x: int(x[6:]) if x.startswith('stats_') else None)\n",
    "imp['stat_name'] = imp['stat_name'].apply(lambda x: X_train.columns[int(x) + 2] if not np.isnan(x) else None)\n",
    "imp"
   ]
  },
  {
   "cell_type": "code",
   "execution_count": 34,
   "id": "1aba1f2a-c193-4b7c-8452-23f2831490ed",
   "metadata": {},
   "outputs": [],
   "source": [
    "from sklearn.decomposition import TruncatedSVD, PCA\n",
    "\n",
    "n_tsvd_components = 15\n",
    "n_svd_iter=20\n",
    "\n",
    "features = ['stats',\n",
    "    'cqt_per_freq_mean', 'cqt_per_freq_var', \n",
    "    'harmonic_per_freq_mean', 'harmonic_per_freq_var', \n",
    "    'percussive_per_freq_mean', 'percussive_per_freq_var',\n",
    "    'mfcc_quef_mean', 'mfcc_quef_var', \n",
    "    'cqt_spectral_centroid_mean', 'cqt_spectral_centroid_var', \n",
    "    'cqt_chroma_freq_mean', 'cqt_chroma_freq_var', \n",
    "    'harmonic_chroma_freq_mean', 'harmonic_chroma_freq_var',\n",
    "    'cqt_rolloff_mean', 'cqt_rolloff_var', \n",
    "    'cqt_bandwidth_mean', 'cqt_bandwidth_var',\n",
    "    'percept_freq_mean', 'percept_freq_var']\n",
    "\n",
    "Extractor.register_sklearn_extractor('cqt_per_freq_mean_svd', \n",
    "                                     ['cqt_per_freq_mean'], \n",
    "                                     TruncatedSVD(n_components=n_tsvd_components, n_iter=n_svd_iter, random_state=42))\n",
    "Extractor.register_sklearn_extractor('cqt_per_freq_var_svd', \n",
    "                                     ['cqt_per_freq_var'], \n",
    "                                     TruncatedSVD(n_components=n_tsvd_components, n_iter=n_svd_iter, random_state=42))\n",
    "Extractor.register_sklearn_extractor('harmonic_per_freq_mean_svd', \n",
    "                                     ['harmonic_per_freq_mean'], \n",
    "                                     TruncatedSVD(n_components=n_tsvd_components, n_iter=n_svd_iter, random_state=42))\n",
    "Extractor.register_sklearn_extractor('harmonic_per_freq_var_svd', \n",
    "                                     ['harmonic_per_freq_var'], \n",
    "                                     TruncatedSVD(n_components=n_tsvd_components, n_iter=n_svd_iter, random_state=42))\n",
    "Extractor.register_sklearn_extractor('percussive_per_freq_mean_svd', \n",
    "                                     ['percussive_per_freq_mean'], \n",
    "                                     TruncatedSVD(n_components=n_tsvd_components, n_iter=n_svd_iter, random_state=42))\n",
    "Extractor.register_sklearn_extractor('percussive_per_freq_var_svd', \n",
    "                                     ['percussive_per_freq_var'], \n",
    "                                     TruncatedSVD(n_components=n_tsvd_components, n_iter=n_svd_iter, random_state=42))\n",
    "Extractor.register_sklearn_extractor('percept_freq_mean_svd', \n",
    "                                     ['percept_freq_mean'], \n",
    "                                     TruncatedSVD(n_components=n_tsvd_components, n_iter=n_svd_iter, random_state=42))\n",
    "Extractor.register_sklearn_extractor('percept_freq_var_svd', \n",
    "                                     ['percept_freq_var'], \n",
    "                                     TruncatedSVD(n_components=n_tsvd_components, n_iter=n_svd_iter, random_state=42))"
   ]
  },
  {
   "cell_type": "code",
   "execution_count": 33,
   "id": "c1b01dd3-cf21-4095-b297-29184fe0da70",
   "metadata": {},
   "outputs": [],
   "source": [
    "for feat in list(E_train.features.keys()):\n",
    "    if feat.endswith('svd'):\n",
    "        del E_train.features[feat]\n",
    "        del E_eval.features[feat]"
   ]
  },
  {
   "cell_type": "code",
   "execution_count": 35,
   "id": "9e254f81-a701-4c2b-8124-863d107be50e",
   "metadata": {},
   "outputs": [],
   "source": [
    "E_train.soft_extract()\n",
    "E_eval.soft_extract()"
   ]
  },
  {
   "cell_type": "code",
   "execution_count": 38,
   "id": "f4687b96-35bb-4a31-8adc-898f602059de",
   "metadata": {},
   "outputs": [
    {
     "data": {
      "application/vnd.jupyter.widget-view+json": {
       "model_id": "1840bc2e40484d1c99c84b0fbe38ba0f",
       "version_major": 2,
       "version_minor": 0
      },
      "text/plain": [
       "MetricVisualizer(layout=Layout(align_self='stretch', height='500px'))"
      ]
     },
     "metadata": {},
     "output_type": "display_data"
    },
    {
     "name": "stdout",
     "output_type": "stream",
     "text": [
      "0:\tlearn: 0.3047210\ttest: 0.2966667\tbest: 0.2966667 (0)\ttotal: 19.9ms\tremaining: 9.95s\n",
      "50:\tlearn: 0.7424893\ttest: 0.6400000\tbest: 0.6400000 (50)\ttotal: 524ms\tremaining: 4.61s\n",
      "100:\tlearn: 0.8483548\ttest: 0.7100000\tbest: 0.7133333 (99)\ttotal: 962ms\tremaining: 3.8s\n",
      "150:\tlearn: 0.8998569\ttest: 0.7333333\tbest: 0.7333333 (142)\ttotal: 1.35s\tremaining: 3.13s\n",
      "200:\tlearn: 0.9298999\ttest: 0.7466667\tbest: 0.7500000 (175)\ttotal: 1.72s\tremaining: 2.56s\n",
      "250:\tlearn: 0.9484979\ttest: 0.7600000\tbest: 0.7600000 (238)\ttotal: 2.13s\tremaining: 2.12s\n",
      "300:\tlearn: 0.9570815\ttest: 0.7666667\tbest: 0.7666667 (297)\ttotal: 2.52s\tremaining: 1.66s\n",
      "350:\tlearn: 0.9670959\ttest: 0.7733333\tbest: 0.7766667 (332)\ttotal: 2.9s\tremaining: 1.23s\n",
      "400:\tlearn: 0.9728183\ttest: 0.7633333\tbest: 0.7766667 (332)\ttotal: 3.27s\tremaining: 807ms\n",
      "450:\tlearn: 0.9828326\ttest: 0.7733333\tbest: 0.7766667 (332)\ttotal: 3.73s\tremaining: 406ms\n",
      "499:\tlearn: 0.9885551\ttest: 0.7700000\tbest: 0.7766667 (332)\ttotal: 4.24s\tremaining: 0us\n",
      "\n",
      "bestTest = 0.7766666667\n",
      "bestIteration = 332\n",
      "\n",
      "Shrink model to first 333 iterations.\n",
      "\n",
      "Classification Report:\n",
      "               precision    recall  f1-score   support\n",
      "\n",
      "       blues       0.90      0.63      0.75        30\n",
      "   classical       0.93      0.90      0.92        30\n",
      "     country       0.85      0.77      0.81        30\n",
      "       disco       0.84      0.70      0.76        30\n",
      "      hiphop       0.68      0.87      0.76        30\n",
      "        jazz       0.79      0.90      0.84        30\n",
      "       metal       0.86      0.80      0.83        30\n",
      "         pop       0.77      0.80      0.79        30\n",
      "      reggae       0.71      0.80      0.75        30\n",
      "        rock       0.55      0.60      0.57        30\n",
      "\n",
      "    accuracy                           0.78       300\n",
      "   macro avg       0.79      0.78      0.78       300\n",
      "weighted avg       0.79      0.78      0.78       300\n",
      "\n",
      "Evaluation Accuracy: 0.7767\n"
     ]
    }
   ],
   "source": [
    "features = ['rms', 'bpm',\n",
    "    'cqt_per_freq_mean_svd', 'cqt_per_freq_var_svd', \n",
    "    'harmonic_per_freq_mean_svd', 'harmonic_per_freq_var_svd', \n",
    "    'percussive_per_freq_mean_svd', 'percussive_per_freq_var_svd',\n",
    "    'mfcc_quef_mean', 'mfcc_quef_var', \n",
    "    'cqt_spectral_centroid_mean', 'cqt_spectral_centroid_var', \n",
    "    'cqt_chroma_mean', 'cqt_chroma_var', \n",
    "    'harmonic_chroma_freq_mean', 'harmonic_chroma_freq_var', \n",
    "    'cqt_rolloff_mean', 'cqt_rolloff_var', \n",
    "    'cqt_bandwidth_mean', 'cqt_bandwidth_var',\n",
    "    'percept_freq_mean_svd', 'percept_freq_var_svd']\n",
    "\n",
    "model, acc = train_and_evaluate_catboost(\n",
    "    idx_eval=E_eval.get_features(['idx'])[:,0],\n",
    "    X_train=E_train.get_features(features),\n",
    "    X_eval=E_eval.get_features(features),\n",
    "    y_train=E_train.get_features(['y'])[:,0], \n",
    "    y_eval=E_eval.get_features(['y'])[:,0],\n",
    ")"
   ]
  },
  {
   "cell_type": "code",
   "execution_count": 42,
   "id": "d85937d9-df36-40df-b030-a353f3932913",
   "metadata": {},
   "outputs": [
    {
     "data": {
      "text/html": [
       "<div>\n",
       "<style scoped>\n",
       "    .dataframe tbody tr th:only-of-type {\n",
       "        vertical-align: middle;\n",
       "    }\n",
       "\n",
       "    .dataframe tbody tr th {\n",
       "        vertical-align: top;\n",
       "    }\n",
       "\n",
       "    .dataframe thead th {\n",
       "        text-align: right;\n",
       "    }\n",
       "</style>\n",
       "<table border=\"1\" class=\"dataframe\">\n",
       "  <thead>\n",
       "    <tr style=\"text-align: right;\">\n",
       "      <th></th>\n",
       "      <th>importance</th>\n",
       "    </tr>\n",
       "  </thead>\n",
       "  <tbody>\n",
       "    <tr>\n",
       "      <th>percussive_per_freq_mean_svd_0</th>\n",
       "      <td>4.205752</td>\n",
       "    </tr>\n",
       "    <tr>\n",
       "      <th>mfcc_quef_mean_3</th>\n",
       "      <td>3.267344</td>\n",
       "    </tr>\n",
       "    <tr>\n",
       "      <th>percept_freq_var_svd_1</th>\n",
       "      <td>3.180768</td>\n",
       "    </tr>\n",
       "    <tr>\n",
       "      <th>percept_freq_mean_svd_0</th>\n",
       "      <td>2.635458</td>\n",
       "    </tr>\n",
       "    <tr>\n",
       "      <th>percept_freq_var_svd_3</th>\n",
       "      <td>2.591597</td>\n",
       "    </tr>\n",
       "    <tr>\n",
       "      <th>mfcc_quef_var_8</th>\n",
       "      <td>2.577771</td>\n",
       "    </tr>\n",
       "    <tr>\n",
       "      <th>mfcc_quef_var_4</th>\n",
       "      <td>2.278346</td>\n",
       "    </tr>\n",
       "    <tr>\n",
       "      <th>percussive_per_freq_var_svd_2</th>\n",
       "      <td>2.050827</td>\n",
       "    </tr>\n",
       "    <tr>\n",
       "      <th>percept_freq_mean_svd_1</th>\n",
       "      <td>1.956709</td>\n",
       "    </tr>\n",
       "    <tr>\n",
       "      <th>cqt_per_freq_mean_svd_2</th>\n",
       "      <td>1.855102</td>\n",
       "    </tr>\n",
       "    <tr>\n",
       "      <th>mfcc_quef_var_5</th>\n",
       "      <td>1.792074</td>\n",
       "    </tr>\n",
       "    <tr>\n",
       "      <th>cqt_spectral_centroid_mean_</th>\n",
       "      <td>1.759670</td>\n",
       "    </tr>\n",
       "    <tr>\n",
       "      <th>cqt_per_freq_mean_svd_0</th>\n",
       "      <td>1.749184</td>\n",
       "    </tr>\n",
       "    <tr>\n",
       "      <th>cqt_spectral_centroid_var_</th>\n",
       "      <td>1.720792</td>\n",
       "    </tr>\n",
       "    <tr>\n",
       "      <th>mfcc_quef_var_3</th>\n",
       "      <td>1.683460</td>\n",
       "    </tr>\n",
       "  </tbody>\n",
       "</table>\n",
       "</div>"
      ],
      "text/plain": [
       "                                importance\n",
       "percussive_per_freq_mean_svd_0    4.205752\n",
       "mfcc_quef_mean_3                  3.267344\n",
       "percept_freq_var_svd_1            3.180768\n",
       "percept_freq_mean_svd_0           2.635458\n",
       "percept_freq_var_svd_3            2.591597\n",
       "mfcc_quef_var_8                   2.577771\n",
       "mfcc_quef_var_4                   2.278346\n",
       "percussive_per_freq_var_svd_2     2.050827\n",
       "percept_freq_mean_svd_1           1.956709\n",
       "cqt_per_freq_mean_svd_2           1.855102\n",
       "mfcc_quef_var_5                   1.792074\n",
       "cqt_spectral_centroid_mean_       1.759670\n",
       "cqt_per_freq_mean_svd_0           1.749184\n",
       "cqt_spectral_centroid_var_        1.720792\n",
       "mfcc_quef_var_3                   1.683460"
      ]
     },
     "execution_count": 42,
     "metadata": {},
     "output_type": "execute_result"
    }
   ],
   "source": [
    "pd.DataFrame(\n",
    "    data=model.feature_importances_, \n",
    "    index=E_train.get_feature_names_vector(features), \n",
    "    columns=['importance']\n",
    ").sort_values(by='importance', ascending=False).head(15)"
   ]
  },
  {
   "cell_type": "code",
   "execution_count": 165,
   "id": "8f267351-9575-4353-ac54-9a3a2a6ecfcd",
   "metadata": {},
   "outputs": [],
   "source": [
    "fmax=300\n",
    "Extractor.register_extractor('pyin', lambda audio: librosa.pyin(y=audio, sr=sr, fmin=fmin, fmax=fmax))\n",
    "Extractor.register_extractor('f0', lambda pyin: pyin[0])\n",
    "Extractor.register_extractor('f0_mean', lambda f0: np.mean(f0))\n",
    "Extractor.register_extractor('f0_var', lambda f0: np.var(f0))\n",
    "Extractor.register_extractor('voiced', lambda pyin: pyin[1])\n",
    "Extractor.register_extractor('voiced_f0', lambda f0, voiced: f0[voiced])\n",
    "Extractor.register_extractor('voiced_f0_mean', lambda f0: np.mean(f0))\n",
    "Extractor.register_extractor('voiced_f0_var', lambda f0: np.var(f0))\n",
    "Extractor.register_extractor('voiced_percent', lambda voiced: np.mean(voiced))"
   ]
  },
  {
   "cell_type": "code",
   "execution_count": 170,
   "id": "5a9e4dea-bdb7-493a-b0dc-74137736bdad",
   "metadata": {},
   "outputs": [
    {
     "data": {
      "application/vnd.jupyter.widget-view+json": {
       "model_id": "0281b7caa1814a968ca63a37c9770ef4",
       "version_major": 2,
       "version_minor": 0
      },
      "text/plain": [
       "overtones:   0%|          | 0/699 [00:00<?, ?it/s]"
      ]
     },
     "metadata": {},
     "output_type": "display_data"
    },
    {
     "data": {
      "application/vnd.jupyter.widget-view+json": {
       "model_id": "659e04947bad47b3a1c71fc313bf3359",
       "version_major": 2,
       "version_minor": 0
      },
      "text/plain": [
       "overtones_freq_mean:   0%|          | 0/699 [00:00<?, ?it/s]"
      ]
     },
     "metadata": {},
     "output_type": "display_data"
    },
    {
     "ename": "AttributeError",
     "evalue": "'int' object has no attribute 'dtype'",
     "output_type": "error",
     "traceback": [
      "\u001b[0;31m---------------------------------------------------------------------------\u001b[0m",
      "\u001b[0;31mAttributeError\u001b[0m                            Traceback (most recent call last)",
      "Cell \u001b[0;32mIn[170], line 1\u001b[0m\n\u001b[0;32m----> 1\u001b[0m \u001b[43mE_train\u001b[49m\u001b[38;5;241;43m.\u001b[39;49m\u001b[43msoft_extract\u001b[49m\u001b[43m(\u001b[49m\u001b[43m)\u001b[49m\n\u001b[1;32m      2\u001b[0m E_eval\u001b[38;5;241m.\u001b[39msoft_extract()\n",
      "File \u001b[0;32m~/Documents/Ariel/TDS/genre_by_track/extractor.py:243\u001b[0m, in \u001b[0;36mAudioDataExtractionPipeline.soft_extract\u001b[0;34m(self)\u001b[0m\n\u001b[1;32m    241\u001b[0m \u001b[38;5;66;03m# If there's a stateless extractor for feat\u001b[39;00m\n\u001b[1;32m    242\u001b[0m \u001b[38;5;28;01mif\u001b[39;00m feat \u001b[38;5;129;01min\u001b[39;00m \u001b[38;5;28mself\u001b[39m\u001b[38;5;241m.\u001b[39m_stateless_extractors:\n\u001b[0;32m--> 243\u001b[0m     \u001b[38;5;28;43mself\u001b[39;49m\u001b[38;5;241;43m.\u001b[39;49m\u001b[43m_compute_stateless_feature\u001b[49m\u001b[43m(\u001b[49m\u001b[43mfeat\u001b[49m\u001b[43m)\u001b[49m\n\u001b[1;32m    244\u001b[0m \u001b[38;5;66;03m# If there's a stateful extractor for feat\u001b[39;00m\n\u001b[1;32m    245\u001b[0m \u001b[38;5;28;01melif\u001b[39;00m feat \u001b[38;5;129;01min\u001b[39;00m \u001b[38;5;28mself\u001b[39m\u001b[38;5;241m.\u001b[39m_stateful_extractors:\n",
      "File \u001b[0;32m~/Documents/Ariel/TDS/genre_by_track/extractor.py:284\u001b[0m, in \u001b[0;36mAudioDataExtractionPipeline._compute_stateless_feature\u001b[0;34m(self, feat_name)\u001b[0m\n\u001b[1;32m    281\u001b[0m \u001b[38;5;28;01mfor\u001b[39;00m d \u001b[38;5;129;01min\u001b[39;00m deps:\n\u001b[1;32m    282\u001b[0m     kw[d] \u001b[38;5;241m=\u001b[39m \u001b[38;5;28mself\u001b[39m\u001b[38;5;241m.\u001b[39mfeatures[d][i]\n\u001b[0;32m--> 284\u001b[0m result \u001b[38;5;241m=\u001b[39m \u001b[43mextractor\u001b[49m\u001b[43m(\u001b[49m\u001b[38;5;241;43m*\u001b[39;49m\u001b[38;5;241;43m*\u001b[39;49m\u001b[43mkw\u001b[49m\u001b[43m)\u001b[49m\n\u001b[1;32m    285\u001b[0m \u001b[38;5;66;03m# result can be a single np.array or a list of np.array\u001b[39;00m\n\u001b[1;32m    286\u001b[0m \u001b[38;5;28;01mif\u001b[39;00m \u001b[38;5;28misinstance\u001b[39m(result, \u001b[38;5;28mlist\u001b[39m):\n",
      "Cell \u001b[0;32mIn[144], line 3\u001b[0m, in \u001b[0;36m<lambda>\u001b[0;34m(overtones)\u001b[0m\n\u001b[1;32m      1\u001b[0m Extractor\u001b[38;5;241m.\u001b[39mregister_extractor(\u001b[38;5;124m'\u001b[39m\u001b[38;5;124movertones\u001b[39m\u001b[38;5;124m'\u001b[39m, \u001b[38;5;28;01mlambda\u001b[39;00m cqt, f0, voiced: \n\u001b[1;32m      2\u001b[0m                              shift_cqt_by_f0(cqt, f0, voiced, cqt_frequencies))\n\u001b[0;32m----> 3\u001b[0m Extractor\u001b[38;5;241m.\u001b[39mregister_extractor(\u001b[38;5;124m'\u001b[39m\u001b[38;5;124movertones_freq_mean\u001b[39m\u001b[38;5;124m'\u001b[39m, \u001b[38;5;28;01mlambda\u001b[39;00m overtones: \u001b[43mnp\u001b[49m\u001b[38;5;241;43m.\u001b[39;49m\u001b[43mnanmean\u001b[49m\u001b[43m(\u001b[49m\u001b[43movertones\u001b[49m\u001b[43m,\u001b[49m\u001b[43m \u001b[49m\u001b[43maxis\u001b[49m\u001b[38;5;241;43m=\u001b[39;49m\u001b[38;5;241;43m1\u001b[39;49m\u001b[43m,\u001b[49m\u001b[43m \u001b[49m\u001b[43mout\u001b[49m\u001b[38;5;241;43m=\u001b[39;49m\u001b[38;5;241;43m0\u001b[39;49m\u001b[43m)\u001b[49m)\n\u001b[1;32m      4\u001b[0m Extractor\u001b[38;5;241m.\u001b[39mregister_extractor(\u001b[38;5;124m'\u001b[39m\u001b[38;5;124movertones_freq_var\u001b[39m\u001b[38;5;124m'\u001b[39m, \u001b[38;5;28;01mlambda\u001b[39;00m overtones: np\u001b[38;5;241m.\u001b[39mnanvar(overtones, axis\u001b[38;5;241m=\u001b[39m\u001b[38;5;241m1\u001b[39m, out\u001b[38;5;241m=\u001b[39m\u001b[38;5;241m0\u001b[39m))\n\u001b[1;32m      5\u001b[0m Extractor\u001b[38;5;241m.\u001b[39mregister_sklearn_extractor(\u001b[38;5;124m'\u001b[39m\u001b[38;5;124movertones_freq_mean_svd\u001b[39m\u001b[38;5;124m'\u001b[39m, \n\u001b[1;32m      6\u001b[0m                                      [\u001b[38;5;124m'\u001b[39m\u001b[38;5;124movertones_freq_mean\u001b[39m\u001b[38;5;124m'\u001b[39m], \n\u001b[1;32m      7\u001b[0m                                      TruncatedSVD(n_components\u001b[38;5;241m=\u001b[39mn_tsvd_components, n_iter\u001b[38;5;241m=\u001b[39mn_svd_iter, random_state\u001b[38;5;241m=\u001b[39m\u001b[38;5;241m42\u001b[39m))\n",
      "File \u001b[0;32m~/Documents/Ariel/TDS/genre_by_track/venv/lib/python3.12/site-packages/numpy/lib/nanfunctions.py:1041\u001b[0m, in \u001b[0;36mnanmean\u001b[0;34m(a, axis, dtype, out, keepdims, where)\u001b[0m\n\u001b[1;32m   1039\u001b[0m \u001b[38;5;28;01mif\u001b[39;00m dtype \u001b[38;5;129;01mis\u001b[39;00m \u001b[38;5;129;01mnot\u001b[39;00m \u001b[38;5;28;01mNone\u001b[39;00m \u001b[38;5;129;01mand\u001b[39;00m \u001b[38;5;129;01mnot\u001b[39;00m \u001b[38;5;28missubclass\u001b[39m(dtype\u001b[38;5;241m.\u001b[39mtype, np\u001b[38;5;241m.\u001b[39minexact):\n\u001b[1;32m   1040\u001b[0m     \u001b[38;5;28;01mraise\u001b[39;00m \u001b[38;5;167;01mTypeError\u001b[39;00m(\u001b[38;5;124m\"\u001b[39m\u001b[38;5;124mIf a is inexact, then dtype must be inexact\u001b[39m\u001b[38;5;124m\"\u001b[39m)\n\u001b[0;32m-> 1041\u001b[0m \u001b[38;5;28;01mif\u001b[39;00m out \u001b[38;5;129;01mis\u001b[39;00m \u001b[38;5;129;01mnot\u001b[39;00m \u001b[38;5;28;01mNone\u001b[39;00m \u001b[38;5;129;01mand\u001b[39;00m \u001b[38;5;129;01mnot\u001b[39;00m \u001b[38;5;28missubclass\u001b[39m(\u001b[43mout\u001b[49m\u001b[38;5;241;43m.\u001b[39;49m\u001b[43mdtype\u001b[49m\u001b[38;5;241m.\u001b[39mtype, np\u001b[38;5;241m.\u001b[39minexact):\n\u001b[1;32m   1042\u001b[0m     \u001b[38;5;28;01mraise\u001b[39;00m \u001b[38;5;167;01mTypeError\u001b[39;00m(\u001b[38;5;124m\"\u001b[39m\u001b[38;5;124mIf a is inexact, then out must be inexact\u001b[39m\u001b[38;5;124m\"\u001b[39m)\n\u001b[1;32m   1044\u001b[0m cnt \u001b[38;5;241m=\u001b[39m np\u001b[38;5;241m.\u001b[39msum(\u001b[38;5;241m~\u001b[39mmask, axis\u001b[38;5;241m=\u001b[39maxis, dtype\u001b[38;5;241m=\u001b[39mnp\u001b[38;5;241m.\u001b[39mintp, keepdims\u001b[38;5;241m=\u001b[39mkeepdims,\n\u001b[1;32m   1045\u001b[0m              where\u001b[38;5;241m=\u001b[39mwhere)\n",
      "\u001b[0;31mAttributeError\u001b[0m: 'int' object has no attribute 'dtype'"
     ]
    }
   ],
   "source": [
    "E_train.soft_extract()\n",
    "E_eval.soft_extract()"
   ]
  },
  {
   "cell_type": "code",
   "execution_count": 164,
   "id": "ce1679bd-d54d-41ce-91a1-787f58b398cf",
   "metadata": {},
   "outputs": [
    {
     "data": {
      "application/vnd.jupyter.widget-view+json": {
       "model_id": "b4504b4c9e5c4109925cad7068ebd33b",
       "version_major": 2,
       "version_minor": 0
      },
      "text/plain": [
       "MetricVisualizer(layout=Layout(align_self='stretch', height='500px'))"
      ]
     },
     "metadata": {},
     "output_type": "display_data"
    },
    {
     "name": "stdout",
     "output_type": "stream",
     "text": [
      "0:\tlearn: 0.2288984\ttest: 0.2133333\tbest: 0.2133333 (0)\ttotal: 35.8ms\tremaining: 17.9s\n",
      "50:\tlearn: 0.7639485\ttest: 0.6800000\tbest: 0.6933333 (43)\ttotal: 457ms\tremaining: 4.02s\n",
      "100:\tlearn: 0.8540773\ttest: 0.7333333\tbest: 0.7366667 (94)\ttotal: 861ms\tremaining: 3.4s\n",
      "150:\tlearn: 0.8912732\ttest: 0.7666667\tbest: 0.7666667 (149)\ttotal: 1.29s\tremaining: 2.99s\n",
      "200:\tlearn: 0.9227468\ttest: 0.7766667\tbest: 0.7800000 (186)\ttotal: 1.69s\tremaining: 2.51s\n",
      "250:\tlearn: 0.9399142\ttest: 0.7666667\tbest: 0.7800000 (186)\ttotal: 2.09s\tremaining: 2.07s\n",
      "300:\tlearn: 0.9599428\ttest: 0.7800000\tbest: 0.7800000 (186)\ttotal: 2.48s\tremaining: 1.64s\n",
      "350:\tlearn: 0.9742489\ttest: 0.7800000\tbest: 0.7833333 (341)\ttotal: 2.86s\tremaining: 1.21s\n",
      "400:\tlearn: 0.9799714\ttest: 0.7800000\tbest: 0.7833333 (341)\ttotal: 3.21s\tremaining: 794ms\n",
      "450:\tlearn: 0.9856938\ttest: 0.7833333\tbest: 0.7833333 (341)\ttotal: 3.6s\tremaining: 391ms\n",
      "499:\tlearn: 0.9856938\ttest: 0.7866667\tbest: 0.7900000 (465)\ttotal: 3.96s\tremaining: 0us\n",
      "\n",
      "bestTest = 0.79\n",
      "bestIteration = 465\n",
      "\n",
      "Shrink model to first 466 iterations.\n",
      "\n",
      "Classification Report:\n",
      "               precision    recall  f1-score   support\n",
      "\n",
      "       blues       0.81      0.73      0.77        30\n",
      "   classical       0.88      0.93      0.90        30\n",
      "     country       0.83      0.80      0.81        30\n",
      "       disco       0.71      0.67      0.69        30\n",
      "      hiphop       0.81      0.97      0.88        30\n",
      "        jazz       0.83      0.83      0.83        30\n",
      "       metal       0.81      0.83      0.82        30\n",
      "         pop       0.84      0.87      0.85        30\n",
      "      reggae       0.83      0.80      0.81        30\n",
      "        rock       0.52      0.47      0.49        30\n",
      "\n",
      "    accuracy                           0.79       300\n",
      "   macro avg       0.79      0.79      0.79       300\n",
      "weighted avg       0.79      0.79      0.79       300\n",
      "\n",
      "Evaluation Accuracy: 0.7900\n"
     ]
    }
   ],
   "source": [
    "features = ['rms', 'bpm',\n",
    "    'cqt_per_freq_mean_svd', 'cqt_per_freq_var_svd', \n",
    "    'harmonic_per_freq_mean_svd', 'harmonic_per_freq_var_svd', \n",
    "    'percussive_per_freq_mean_svd', 'percussive_per_freq_var_svd',\n",
    "    'mfcc_quef_mean', 'mfcc_quef_var', \n",
    "    'cqt_spectral_centroid_mean', 'cqt_spectral_centroid_var', \n",
    "    'cqt_chroma_mean', 'cqt_chroma_var', \n",
    "    'harmonic_chroma_freq_mean', 'harmonic_chroma_freq_var', \n",
    "    'cqt_rolloff_mean', 'cqt_rolloff_var', \n",
    "    'cqt_bandwidth_mean', 'cqt_bandwidth_var',\n",
    "    'percept_freq_mean_svd', 'percept_freq_var_svd',\n",
    "    'voiced_f0_mean', 'f0_var']\n",
    "\n",
    "model, acc = train_and_evaluate_catboost(\n",
    "    idx_eval=E_eval.get_features(['idx'])[:,0],\n",
    "    X_train=E_train.get_features(features),\n",
    "    X_eval=E_eval.get_features(features),\n",
    "    y_train=E_train.get_features(['y'])[:,0], \n",
    "    y_eval=E_eval.get_features(['y'])[:,0],\n",
    ")"
   ]
  },
  {
   "cell_type": "code",
   "execution_count": null,
   "id": "fcd802f2-b2ab-4289-8eb6-cd03ce1a42af",
   "metadata": {},
   "outputs": [],
   "source": []
  },
  {
   "cell_type": "markdown",
   "id": "4aed6724-b35c-4224-9f49-d3e3906c85c9",
   "metadata": {},
   "source": [
    "**ChatGPT query**\n",
    "Please write a small snippet of code. It should shift CQT spectrogram down based on F0 and crop to 40 frequency bins. F0 is given in Hz, CQT frequencies are in separate array cqt_frequencies"
   ]
  },
  {
   "cell_type": "code",
   "execution_count": 117,
   "id": "94b1d468-5681-446c-971a-eaef15ade5bb",
   "metadata": {},
   "outputs": [],
   "source": [
    "def shift_cqt_by_f0(S: np.ndarray, F0: np.ndarray, voiced: np.ndarray, cqt_frequencies: np.ndarray) -> np.ndarray:\n",
    "    \"\"\"\n",
    "    Shift CQT spectrogram down based on F0 and crop to 40 frequency bins.\n",
    "    \n",
    "    Parameters\n",
    "    ----------\n",
    "    S : np.ndarray\n",
    "        CQT spectrogram, shape (n_freq, n_frames).\n",
    "    F0 : float\n",
    "        Fundamental frequency in Hz.\n",
    "    cqt_frequencies : np.ndarray\n",
    "        Array of center frequencies for the CQT bins, sorted ascending.\n",
    "        \n",
    "    Returns\n",
    "    -------\n",
    "    S_cropped : np.ndarray\n",
    "        Shifted and cropped CQT spectrogram, shape (40, n_frames).\n",
    "    \"\"\"\n",
    "    # 1. Find which bin is closest to F0\n",
    "    F0[~voiced] = 0\n",
    "    offsets = np.argmin(np.abs(cqt_frequencies.reshape(-1, 1) - F0.reshape(1, -1)), axis=0)\n",
    "\n",
    "    # 2. Shift the spectrogram so that this bin appears near the top\n",
    "    #    Negative offset rolls elements upward (towards index 0).\n",
    "    S = np.array([np.roll(frame, -offset) for frame, offset in zip(S.T, offsets)]).T\n",
    "    return S[:40, voiced]"
   ]
  },
  {
   "cell_type": "code",
   "execution_count": 118,
   "id": "26d31aa5-6ce7-4f9c-899b-d89701e9b14c",
   "metadata": {},
   "outputs": [
    {
     "data": {
      "text/plain": [
       "<matplotlib.collections.PolyQuadMesh at 0x53260bf50>"
      ]
     },
     "execution_count": 118,
     "metadata": {},
     "output_type": "execute_result"
    },
    {
     "data": {
      "image/png": "[encoded data removed]",
      "text/plain": [
       "<Figure size 640x480 with 2 Axes>"
      ]
     },
     "metadata": {},
     "output_type": "display_data"
    }
   ],
   "source": [
    "plt.subplot(2, 1, 1)\n",
    "plt.pcolor(E_train.features['cqt'][0])\n",
    "chifted_cqt = shift_cqt_by_f0(E_train.features['cqt'][0], \n",
    "                              E_train.features['f0'][0], \n",
    "                              E_train.features['voiced'][0], \n",
    "                              cqt_frequencies)\n",
    "plt.subplot(2, 1, 2)\n",
    "plt.pcolor(chifted_cqt)"
   ]
  },
  {
   "cell_type": "code",
   "execution_count": 190,
   "id": "e998cab3-fb71-4e44-9412-7e39a4b6d541",
   "metadata": {},
   "outputs": [],
   "source": [
    "Extractor.register_extractor('overtones', lambda cqt, f0, voiced: \n",
    "                             shift_cqt_by_f0(cqt, f0, voiced, cqt_frequencies))\n",
    "Extractor.register_extractor('overtones_freq_mean', lambda overtones: \n",
    "                             np.mean(overtones, axis=1) if overtones.shape[1] > 0 else np.zeros(overtones.shape[0]))\n",
    "Extractor.register_extractor('overtones_freq_var', lambda overtones: \n",
    "                             np.var(overtones, axis=1) if overtones.shape[1] > 0 else np.zeros(overtones.shape[0]))\n",
    "Extractor.register_sklearn_extractor('overtones_freq_mean_svd', \n",
    "                                     ['overtones_freq_mean'], \n",
    "                                     TruncatedSVD(n_components=n_tsvd_components, n_iter=n_svd_iter, random_state=42))\n",
    "Extractor.register_sklearn_extractor('overtones_freq_var_svd', \n",
    "                                     ['overtones_freq_var'], \n",
    "                                     TruncatedSVD(n_components=n_tsvd_components, n_iter=n_svd_iter, random_state=42))"
   ]
  },
  {
   "cell_type": "code",
   "execution_count": 191,
   "id": "c5fb4a70-3f6c-4fb7-b18d-9c7d41ddfe89",
   "metadata": {},
   "outputs": [
    {
     "data": {
      "application/vnd.jupyter.widget-view+json": {
       "model_id": "e26647b7e63c40afa87d7005d09190f4",
       "version_major": 2,
       "version_minor": 0
      },
      "text/plain": [
       "overtones:   0%|          | 0/699 [00:00<?, ?it/s]"
      ]
     },
     "metadata": {},
     "output_type": "display_data"
    },
    {
     "data": {
      "application/vnd.jupyter.widget-view+json": {
       "model_id": "337bb4d9924f439e8113dc5eca53591e",
       "version_major": 2,
       "version_minor": 0
      },
      "text/plain": [
       "overtones_freq_mean:   0%|          | 0/699 [00:00<?, ?it/s]"
      ]
     },
     "metadata": {},
     "output_type": "display_data"
    },
    {
     "data": {
      "application/vnd.jupyter.widget-view+json": {
       "model_id": "59b36f953e7f47688f79795719ef6db6",
       "version_major": 2,
       "version_minor": 0
      },
      "text/plain": [
       "overtones_freq_var:   0%|          | 0/699 [00:00<?, ?it/s]"
      ]
     },
     "metadata": {},
     "output_type": "display_data"
    },
    {
     "data": {
      "application/vnd.jupyter.widget-view+json": {
       "model_id": "7ab6f505b8cd4c40a950cfdbd085c8a8",
       "version_major": 2,
       "version_minor": 0
      },
      "text/plain": [
       "overtones:   0%|          | 0/300 [00:00<?, ?it/s]"
      ]
     },
     "metadata": {},
     "output_type": "display_data"
    },
    {
     "data": {
      "application/vnd.jupyter.widget-view+json": {
       "model_id": "5672dfa2c5644f91bceccc9179df3f87",
       "version_major": 2,
       "version_minor": 0
      },
      "text/plain": [
       "overtones_freq_mean:   0%|          | 0/300 [00:00<?, ?it/s]"
      ]
     },
     "metadata": {},
     "output_type": "display_data"
    },
    {
     "data": {
      "application/vnd.jupyter.widget-view+json": {
       "model_id": "784b3b7be84d4be5b1042c04c58cce12",
       "version_major": 2,
       "version_minor": 0
      },
      "text/plain": [
       "overtones_freq_var:   0%|          | 0/300 [00:00<?, ?it/s]"
      ]
     },
     "metadata": {},
     "output_type": "display_data"
    }
   ],
   "source": [
    "E_train.soft_extract()\n",
    "E_eval.soft_extract()"
   ]
  },
  {
   "cell_type": "code",
   "execution_count": 194,
   "id": "91632cae-1530-413e-a095-b622a14afafd",
   "metadata": {},
   "outputs": [
    {
     "data": {
      "application/vnd.jupyter.widget-view+json": {
       "model_id": "addf31fd4ee846dba0317dc5eff28bff",
       "version_major": 2,
       "version_minor": 0
      },
      "text/plain": [
       "MetricVisualizer(layout=Layout(align_self='stretch', height='500px'))"
      ]
     },
     "metadata": {},
     "output_type": "display_data"
    },
    {
     "name": "stdout",
     "output_type": "stream",
     "text": [
      "0:\tlearn: 0.2861230\ttest: 0.2700000\tbest: 0.2700000 (0)\ttotal: 46ms\tremaining: 22.9s\n",
      "50:\tlearn: 0.7567954\ttest: 0.6466667\tbest: 0.6466667 (47)\ttotal: 534ms\tremaining: 4.7s\n",
      "100:\tlearn: 0.8512160\ttest: 0.6833333\tbest: 0.6900000 (94)\ttotal: 990ms\tremaining: 3.91s\n",
      "150:\tlearn: 0.8998569\ttest: 0.7133333\tbest: 0.7166667 (144)\ttotal: 1.52s\tremaining: 3.5s\n",
      "200:\tlearn: 0.9256080\ttest: 0.7400000\tbest: 0.7433333 (198)\ttotal: 1.96s\tremaining: 2.91s\n",
      "250:\tlearn: 0.9427754\ttest: 0.7433333\tbest: 0.7500000 (205)\ttotal: 2.39s\tremaining: 2.37s\n",
      "300:\tlearn: 0.9599428\ttest: 0.7466667\tbest: 0.7533333 (293)\ttotal: 2.81s\tremaining: 1.86s\n",
      "350:\tlearn: 0.9713877\ttest: 0.7600000\tbest: 0.7633333 (317)\ttotal: 3.22s\tremaining: 1.37s\n",
      "400:\tlearn: 0.9771102\ttest: 0.7833333\tbest: 0.7833333 (380)\ttotal: 3.73s\tremaining: 922ms\n",
      "450:\tlearn: 0.9899857\ttest: 0.7800000\tbest: 0.7833333 (380)\ttotal: 4.25s\tremaining: 462ms\n",
      "499:\tlearn: 0.9914163\ttest: 0.7800000\tbest: 0.7866667 (459)\ttotal: 4.68s\tremaining: 0us\n",
      "\n",
      "bestTest = 0.7866666667\n",
      "bestIteration = 459\n",
      "\n",
      "Shrink model to first 460 iterations.\n",
      "\n",
      "Classification Report:\n",
      "               precision    recall  f1-score   support\n",
      "\n",
      "       blues       0.86      0.80      0.83        30\n",
      "   classical       0.94      0.97      0.95        30\n",
      "     country       0.75      0.80      0.77        30\n",
      "       disco       0.85      0.73      0.79        30\n",
      "      hiphop       0.72      0.87      0.79        30\n",
      "        jazz       0.90      0.87      0.88        30\n",
      "       metal       0.82      0.77      0.79        30\n",
      "         pop       0.73      0.80      0.76        30\n",
      "      reggae       0.77      0.77      0.77        30\n",
      "        rock       0.56      0.50      0.53        30\n",
      "\n",
      "    accuracy                           0.79       300\n",
      "   macro avg       0.79      0.79      0.79       300\n",
      "weighted avg       0.79      0.79      0.79       300\n",
      "\n",
      "Evaluation Accuracy: 0.7867\n"
     ]
    }
   ],
   "source": [
    "features = ['rms', 'bpm',\n",
    "    'cqt_per_freq_mean_svd', 'cqt_per_freq_var_svd', \n",
    "    'harmonic_per_freq_mean_svd', 'harmonic_per_freq_var_svd', \n",
    "    'percussive_per_freq_mean_svd', 'percussive_per_freq_var_svd',\n",
    "    'mfcc_quef_mean', 'mfcc_quef_var', \n",
    "    'cqt_spectral_centroid_mean', 'cqt_spectral_centroid_var', \n",
    "    'cqt_chroma_mean', 'cqt_chroma_var', \n",
    "    'harmonic_chroma_freq_mean', 'harmonic_chroma_freq_var', \n",
    "    'cqt_rolloff_mean', 'cqt_rolloff_var', \n",
    "    'cqt_bandwidth_mean', 'cqt_bandwidth_var',\n",
    "    'percept_freq_mean_svd', 'percept_freq_var_svd',\n",
    "    'voiced_f0_mean', 'f0_var',\n",
    "    'overtones_freq_mean_svd', 'overtones_freq_var_svd']\n",
    "\n",
    "model, acc = train_and_evaluate_catboost(\n",
    "    idx_eval=E_eval.get_features(['idx'])[:,0],\n",
    "    X_train=E_train.get_features(features),\n",
    "    X_eval=E_eval.get_features(features),\n",
    "    y_train=E_train.get_features(['y'])[:,0], \n",
    "    y_eval=E_eval.get_features(['y'])[:,0],\n",
    ")"
   ]
  },
  {
   "cell_type": "code",
   "execution_count": 240,
   "id": "7e6aeaa8-da1b-4870-9ce3-3524ab01c2dd",
   "metadata": {},
   "outputs": [
    {
     "data": {
      "application/vnd.jupyter.widget-view+json": {
       "model_id": "3c2a15a4a5984024b388d051cd82a75a",
       "version_major": 2,
       "version_minor": 0
      },
      "text/plain": [
       "MetricVisualizer(layout=Layout(align_self='stretch', height='500px'))"
      ]
     },
     "metadata": {},
     "output_type": "display_data"
    },
    {
     "name": "stdout",
     "output_type": "stream",
     "text": [
      "0:\tlearn: 0.2703863\ttest: 0.2766667\tbest: 0.2766667 (0)\ttotal: 52ms\tremaining: 25.9s\n",
      "50:\tlearn: 0.7939914\ttest: 0.6700000\tbest: 0.6833333 (48)\ttotal: 661ms\tremaining: 5.82s\n",
      "100:\tlearn: 0.8655222\ttest: 0.7466667\tbest: 0.7500000 (94)\ttotal: 1.24s\tremaining: 4.9s\n",
      "150:\tlearn: 0.9184549\ttest: 0.7900000\tbest: 0.7900000 (148)\ttotal: 1.89s\tremaining: 4.38s\n",
      "200:\tlearn: 0.9470672\ttest: 0.8000000\tbest: 0.8100000 (186)\ttotal: 2.42s\tremaining: 3.6s\n",
      "250:\tlearn: 0.9656652\ttest: 0.8200000\tbest: 0.8266667 (224)\ttotal: 2.94s\tremaining: 2.92s\n",
      "300:\tlearn: 0.9771102\ttest: 0.8300000\tbest: 0.8300000 (299)\ttotal: 3.48s\tremaining: 2.3s\n",
      "350:\tlearn: 0.9842632\ttest: 0.8266667\tbest: 0.8300000 (299)\ttotal: 4s\tremaining: 1.7s\n",
      "400:\tlearn: 0.9914163\ttest: 0.8166667\tbest: 0.8300000 (299)\ttotal: 4.52s\tremaining: 1.12s\n",
      "450:\tlearn: 0.9942775\ttest: 0.8266667\tbest: 0.8333333 (431)\ttotal: 5.04s\tremaining: 548ms\n",
      "499:\tlearn: 0.9957082\ttest: 0.8200000\tbest: 0.8333333 (431)\ttotal: 5.55s\tremaining: 0us\n",
      "\n",
      "bestTest = 0.8333333333\n",
      "bestIteration = 431\n",
      "\n",
      "Shrink model to first 432 iterations.\n",
      "\n",
      "Classification Report:\n",
      "               precision    recall  f1-score   support\n",
      "\n",
      "       blues       1.00      0.73      0.85        30\n",
      "   classical       0.94      0.97      0.95        30\n",
      "     country       0.89      0.83      0.86        30\n",
      "       disco       0.74      0.77      0.75        30\n",
      "      hiphop       0.75      0.90      0.82        30\n",
      "        jazz       0.90      0.93      0.92        30\n",
      "       metal       0.93      0.87      0.90        30\n",
      "         pop       0.82      0.93      0.88        30\n",
      "      reggae       0.82      0.77      0.79        30\n",
      "        rock       0.61      0.63      0.62        30\n",
      "\n",
      "    accuracy                           0.83       300\n",
      "   macro avg       0.84      0.83      0.83       300\n",
      "weighted avg       0.84      0.83      0.83       300\n",
      "\n",
      "Evaluation Accuracy: 0.8333\n"
     ]
    }
   ],
   "source": [
    "features = ['stats', 'rms', 'bpm',\n",
    "    'cqt_per_freq_mean_svd', 'cqt_per_freq_var_svd', \n",
    "    'harmonic_per_freq_mean_svd', 'harmonic_per_freq_var_svd', \n",
    "    'percussive_per_freq_mean_svd', 'percussive_per_freq_var_svd',\n",
    "    'mfcc_quef_mean', 'mfcc_quef_var', \n",
    "    'cqt_spectral_centroid_mean', 'cqt_spectral_centroid_var', \n",
    "    'cqt_chroma_mean', 'cqt_chroma_var', \n",
    "    'harmonic_chroma_freq_mean', 'harmonic_chroma_freq_var', \n",
    "    'cqt_rolloff_mean', 'cqt_rolloff_var', \n",
    "    'cqt_bandwidth_mean', 'cqt_bandwidth_var',\n",
    "    'percept_freq_mean_svd', 'percept_freq_var_svd',\n",
    "    'voiced_f0_mean', 'f0_var',\n",
    "    'overtones_freq_mean_svd', 'overtones_freq_var_svd']\n",
    "\n",
    "model, acc = train_and_evaluate_catboost(\n",
    "    idx_eval=E_eval.get_features(['idx'])[:,0],\n",
    "    X_train=E_train.get_features(features),\n",
    "    X_eval=E_eval.get_features(features),\n",
    "    y_train=E_train.get_features(['y'])[:,0], \n",
    "    y_eval=E_eval.get_features(['y'])[:,0],\n",
    ")"
   ]
  },
  {
   "cell_type": "markdown",
   "id": "ed7d1d16-45ff-475d-80ec-6fcb7264da1e",
   "metadata": {},
   "source": [
    "ChatGPT query\n",
    "\n",
    "Write a python function with a following signature\n",
    "\n",
    "```\n",
    "rnd = np.random.default_rng(42)\n",
    "def crop_by_beats(beat, harmony_specs, percussion_specs, frames_per_beat = 4, number_of_beats=16, number_of_samples=8)\n",
    "    pass\n",
    "```\n",
    "\n",
    "beats is the integer array of frames at which there was a beat\n",
    "upsample beats , for two neighboring values insert frames_per_beat-1 values between them uniformly cropped to the nearest frame\n",
    "\n",
    "Next number_of_samples times sample starting position in the upsampled beats array and take number_of_beats * frames_per_beat consequent beats. Position must be sampled aligned to number_of_beats * frames_per_beat.\n",
    "\n",
    "harmony_specs is a list of several spectrograms with harmonic parts of melody.\n",
    "for each of harmony spec calculate the mean along time axis (axis = 1) between the consequent beats of the sample including the frames at which there was a beat\n",
    "\n",
    "percussion_specs is a list of several spectrograms with percussion parts of melody. For each of percussion spec calculate the downsampled spectrogram as with harmony specs but shift the spectrogram so that the first sample was centered at the beat. The resulting length must be the same\n",
    "\n",
    "return list of tuples containing downsampled spectrograms"
   ]
  },
  {
   "cell_type": "code",
   "execution_count": 405,
   "id": "c6db06bb-4ad3-4406-86d5-a924add6b614",
   "metadata": {},
   "outputs": [],
   "source": [
    "rnd = np.random.default_rng(42)\n",
    "\n",
    "def crop_by_beats(\n",
    "    beat,\n",
    "    harmony_specs,\n",
    "    percussion_specs,\n",
    "    frames_per_beat=4,\n",
    "    number_of_beats=8,\n",
    "    number_of_samples=8\n",
    "):\n",
    "    \"\"\"\n",
    "    Upsample the array of integer beat positions and then randomly extract \n",
    "    (number_of_samples) chunks of length (number_of_beats * frames_per_beat).\n",
    "    \n",
    "    For each chunk, compute the downsampled spectrogram:\n",
    "      - For harmonic specs: take the mean along the time axis (axis=1) \n",
    "        between consecutive upsampled-beat boundaries.\n",
    "      - For percussion specs: take the mean along the time axis over intervals \n",
    "        shifted so that each is centered at the corresponding upsampled beat.\n",
    "    \n",
    "    Parameters\n",
    "    ----------\n",
    "    beat : 1D array-like of int\n",
    "        Array of frame indices at which a beat occurs. Must be strictly increasing.\n",
    "    harmony_specs : list of np.ndarray\n",
    "        Each element is a spectrogram for a harmonic component with shape \n",
    "        (freq_bins, time_frames).\n",
    "    percussion_specs : list of np.ndarray\n",
    "        Each element is a spectrogram for a percussion component with shape \n",
    "        (freq_bins, time_frames).\n",
    "    frames_per_beat : int\n",
    "        Number of subdivisions per original beat when upsampling.\n",
    "    number_of_beats : int\n",
    "        How many beats (in terms of upsampled subdivisions) to include in each chunk.\n",
    "    number_of_samples : int\n",
    "        How many random chunks to extract.\n",
    "    \n",
    "    Returns\n",
    "    -------\n",
    "    list of tuples\n",
    "        A list (of length `number_of_samples`). Each element is:\n",
    "        \n",
    "            (harmony_downsampled_list, percussion_downsampled_list)\n",
    "        \n",
    "        where `harmony_downsampled_list` and `percussion_downsampled_list` are each \n",
    "        lists of spectrograms (in the same order as `harmony_specs` and \n",
    "        `percussion_specs`). Each downsampled spectrogram has shape:\n",
    "        \n",
    "            (freq_bins, number_of_beats * frames_per_beat)\n",
    "    \"\"\"\n",
    "    \n",
    "    # 1) Upsample 'beat' by inserting (frames_per_beat - 1) points \n",
    "    #    uniformly between each pair of consecutive beats.\n",
    "    up_beats = []\n",
    "    beat = np.array(beat, dtype=int)\n",
    "    for i in range(len(beat) - 1):\n",
    "        start = beat[i]\n",
    "        end = beat[i + 1]\n",
    "        diff = end - start\n",
    "        \n",
    "        # Insert frames_per_beat subdivisions between start and end, \n",
    "        # snapping to the nearest integer frame.\n",
    "        for k in range(frames_per_beat):\n",
    "            val = start + round(k * diff / frames_per_beat)\n",
    "            # Avoid duplicates if rounding yields same as last appended\n",
    "            if not up_beats or val != up_beats[-1]:\n",
    "                up_beats.append(val)\n",
    "    \n",
    "    up_beats = np.array(up_beats, dtype=int)\n",
    "    \n",
    "    # 2) We need (number_of_beats * frames_per_beat + 1) upsampled-beat \n",
    "    #    positions for each chunk (the +1 is because we need the right boundary).\n",
    "    needed_length = number_of_beats * frames_per_beat + 1\n",
    "    total_upsampled = len(up_beats)\n",
    "    \n",
    "    # If we cannot extract even one chunk, return empty\n",
    "    max_start = total_upsampled - needed_length\n",
    "    if max_start < 0:\n",
    "        return []\n",
    "    \n",
    "    # Possible start indices must be multiples of (4 * frames_per_beat)\n",
    "    # so that each chunk is \"aligned\".\n",
    "    stride = number_of_beats * frames_per_beat\n",
    "    possible_starts = np.arange(0, max_start + 1, stride)\n",
    "    \n",
    "    # Randomly choose 'number_of_samples' start indices from these possibilities\n",
    "    chosen_starts = rnd.choice(possible_starts, size=number_of_samples, replace=True)\n",
    "    \n",
    "    results = []\n",
    "    for start_idx in chosen_starts:\n",
    "        # Boundaries for this sample\n",
    "        boundary_points = up_beats[start_idx : start_idx + needed_length]\n",
    "        # === 3) Downsample each harmony spec ===\n",
    "        harmony_downsampled = []\n",
    "        for spec in harmony_specs:\n",
    "            # spec has shape (freq_bins, time_frames)\n",
    "            freq_bins = spec.shape[0]\n",
    "            \n",
    "            # We'll get (number_of_beats * frames_per_beat) intervals\n",
    "            ds_harm = np.zeros((freq_bins, number_of_beats * frames_per_beat),\n",
    "                               dtype=spec.dtype)\n",
    "            for j in range(number_of_beats * frames_per_beat):\n",
    "                left = boundary_points[j]\n",
    "                right = boundary_points[j + 1]\n",
    "                # Take the average along axis=1 (time axis)\n",
    "                ds_harm[:, j] = spec[:, left:right].mean(axis=1)\n",
    "\n",
    "            harmony_downsampled.append(ds_harm)\n",
    "        \n",
    "        # === 4) Downsample each percussion spec with centering ===\n",
    "        percussion_downsampled = []\n",
    "        percussion_sampled = []\n",
    "        for spec in percussion_specs:\n",
    "            \n",
    "            freq_bins = spec.shape[0]\n",
    "            ds_perc = np.zeros((freq_bins, number_of_beats * frames_per_beat),\n",
    "                               dtype=spec.dtype)\n",
    "\n",
    "            old_right = None\n",
    "            for j in range(number_of_beats * frames_per_beat):\n",
    "                dist = boundary_points[j + 1] - boundary_points[j]\n",
    "                right = boundary_points[j + 1] - dist // 2\n",
    "                if old_right is None:\n",
    "                    left = boundary_points[j] - dist // 2\n",
    "                    if left < 0:\n",
    "                        left = 0\n",
    "                else:\n",
    "                    left = old_right\n",
    "                old_right = right\n",
    "\n",
    "                # Average over the time axis in [left, right)\n",
    "                chunk = spec[:, left:right]\n",
    "                ds_perc[:, j] = chunk.mean(axis=1)\n",
    "\n",
    "            percussion_downsampled.append(ds_perc)\n",
    "        \n",
    "        # One result entry = (list_of_downsampled_harmony_specs, list_of_downsampled_percussion_specs)\n",
    "        results.append((harmony_downsampled, percussion_downsampled))\n",
    "    return results"
   ]
  },
  {
   "cell_type": "code",
   "execution_count": 419,
   "id": "2f127a9d-846b-463b-a674-7295da842e3a",
   "metadata": {},
   "outputs": [],
   "source": [
    "Extractor.register_extractor('sample', \n",
    "                             lambda beat, cqt, harmonic, mfcc, cqt_chroma, harmonic_chroma, percussive: \n",
    "                             crop_by_beats(\n",
    "                                 beat=beat, \n",
    "                                 harmony_specs=[cqt, harmonic, mfcc, cqt_chroma, harmonic_chroma], \n",
    "                                 percussion_specs=[percussive]\n",
    "                             ), shuffle=True, map_labels=[\n",
    "                                 ('idx', 's_idx'), \n",
    "                                 ('y', 's_y'), \n",
    "                             ])\n",
    "Extractor.register_extractor('s_cqt', lambda sample: sample[0][0])\n",
    "Extractor.register_extractor('s_harmonic', lambda sample: sample[0][1])\n",
    "Extractor.register_extractor('s_mfcc', lambda sample: sample[0][2])\n",
    "Extractor.register_extractor('s_cqt_chroma', lambda sample: sample[0][3])\n",
    "Extractor.register_extractor('s_harmonic_chroma', lambda sample: sample[0][4])\n",
    "Extractor.register_extractor('s_percussive', lambda sample: sample[1][0])"
   ]
  },
  {
   "cell_type": "code",
   "execution_count": 418,
   "id": "d88da106-7875-44f2-ba85-08e25f89d9d9",
   "metadata": {},
   "outputs": [
    {
     "ename": "KeyError",
     "evalue": "'sample'",
     "output_type": "error",
     "traceback": [
      "\u001b[0;31m---------------------------------------------------------------------------\u001b[0m",
      "\u001b[0;31mKeyError\u001b[0m                                  Traceback (most recent call last)",
      "Cell \u001b[0;32mIn[418], line 5\u001b[0m\n\u001b[1;32m      3\u001b[0m         \u001b[38;5;28;01mdel\u001b[39;00m E_train\u001b[38;5;241m.\u001b[39mfeatures[f]\n\u001b[1;32m      4\u001b[0m         \u001b[38;5;28;01mdel\u001b[39;00m E_eval\u001b[38;5;241m.\u001b[39mfeatures[f]\n\u001b[0;32m----> 5\u001b[0m \u001b[38;5;28;01mdel\u001b[39;00m \u001b[43mE_train\u001b[49m\u001b[38;5;241;43m.\u001b[39;49m\u001b[43mfeatures\u001b[49m\u001b[43m[\u001b[49m\u001b[38;5;124;43m'\u001b[39;49m\u001b[38;5;124;43msample\u001b[39;49m\u001b[38;5;124;43m'\u001b[39;49m\u001b[43m]\u001b[49m\n\u001b[1;32m      6\u001b[0m \u001b[38;5;28;01mdel\u001b[39;00m E_eval\u001b[38;5;241m.\u001b[39mfeatures[\u001b[38;5;124m'\u001b[39m\u001b[38;5;124msample\u001b[39m\u001b[38;5;124m'\u001b[39m]\n",
      "\u001b[0;31mKeyError\u001b[0m: 'sample'"
     ]
    }
   ],
   "source": [
    "for f in list(E_eval.features.keys()):\n",
    "    if f.startswith('s_'):\n",
    "        del E_train.features[f]\n",
    "        del E_eval.features[f]\n",
    "del E_train.features['sample']\n",
    "del E_eval.features['sample']"
   ]
  },
  {
   "cell_type": "code",
   "execution_count": 420,
   "id": "08d2c32d-712c-4928-9df0-0a93b73120c5",
   "metadata": {},
   "outputs": [
    {
     "data": {
      "application/vnd.jupyter.widget-view+json": {
       "model_id": "2fae3bb0428041668310f90f8414b764",
       "version_major": 2,
       "version_minor": 0
      },
      "text/plain": [
       "sample:   0%|          | 0/699 [00:00<?, ?it/s]"
      ]
     },
     "metadata": {},
     "output_type": "display_data"
    },
    {
     "data": {
      "application/vnd.jupyter.widget-view+json": {
       "model_id": "d0d37e61e8b546bfac1d1ce26e28c86c",
       "version_major": 2,
       "version_minor": 0
      },
      "text/plain": [
       "s_cqt:   0%|          | 0/5592 [00:00<?, ?it/s]"
      ]
     },
     "metadata": {},
     "output_type": "display_data"
    },
    {
     "data": {
      "application/vnd.jupyter.widget-view+json": {
       "model_id": "345c2c65d90b40fcbd3b00e2d6545d87",
       "version_major": 2,
       "version_minor": 0
      },
      "text/plain": [
       "s_harmonic:   0%|          | 0/5592 [00:00<?, ?it/s]"
      ]
     },
     "metadata": {},
     "output_type": "display_data"
    },
    {
     "data": {
      "application/vnd.jupyter.widget-view+json": {
       "model_id": "3eb79e8f8b9d4b869afc82037a1f5328",
       "version_major": 2,
       "version_minor": 0
      },
      "text/plain": [
       "s_mfcc:   0%|          | 0/5592 [00:00<?, ?it/s]"
      ]
     },
     "metadata": {},
     "output_type": "display_data"
    },
    {
     "data": {
      "application/vnd.jupyter.widget-view+json": {
       "model_id": "46d9620c293446339517a5b3db706534",
       "version_major": 2,
       "version_minor": 0
      },
      "text/plain": [
       "s_overtones:   0%|          | 0/5592 [00:00<?, ?it/s]"
      ]
     },
     "metadata": {},
     "output_type": "display_data"
    },
    {
     "data": {
      "application/vnd.jupyter.widget-view+json": {
       "model_id": "5da1736ae5824fff80e7b8b2bd21cb14",
       "version_major": 2,
       "version_minor": 0
      },
      "text/plain": [
       "s_cqt_chroma:   0%|          | 0/5592 [00:00<?, ?it/s]"
      ]
     },
     "metadata": {},
     "output_type": "display_data"
    },
    {
     "data": {
      "application/vnd.jupyter.widget-view+json": {
       "model_id": "49dd7c7bdc524177883b5238c4b8e357",
       "version_major": 2,
       "version_minor": 0
      },
      "text/plain": [
       "s_harmonic_chroma:   0%|          | 0/5592 [00:00<?, ?it/s]"
      ]
     },
     "metadata": {},
     "output_type": "display_data"
    },
    {
     "data": {
      "application/vnd.jupyter.widget-view+json": {
       "model_id": "8e8d6886e15247988d9f85f9215cb876",
       "version_major": 2,
       "version_minor": 0
      },
      "text/plain": [
       "s_percussive:   0%|          | 0/5592 [00:00<?, ?it/s]"
      ]
     },
     "metadata": {},
     "output_type": "display_data"
    },
    {
     "data": {
      "application/vnd.jupyter.widget-view+json": {
       "model_id": "10dd62575edc47588fa09f34889ee1a3",
       "version_major": 2,
       "version_minor": 0
      },
      "text/plain": [
       "s_percussive_beat_frames:   0%|          | 0/5592 [00:00<?, ?it/s]"
      ]
     },
     "metadata": {},
     "output_type": "display_data"
    },
    {
     "data": {
      "application/vnd.jupyter.widget-view+json": {
       "model_id": "40154b0a524d4285bd3223b5b7b2bbcb",
       "version_major": 2,
       "version_minor": 0
      },
      "text/plain": [
       "sample:   0%|          | 0/300 [00:00<?, ?it/s]"
      ]
     },
     "metadata": {},
     "output_type": "display_data"
    },
    {
     "data": {
      "application/vnd.jupyter.widget-view+json": {
       "model_id": "f7855055e45945b68b121a9d0252dd15",
       "version_major": 2,
       "version_minor": 0
      },
      "text/plain": [
       "s_cqt:   0%|          | 0/2400 [00:00<?, ?it/s]"
      ]
     },
     "metadata": {},
     "output_type": "display_data"
    },
    {
     "data": {
      "application/vnd.jupyter.widget-view+json": {
       "model_id": "388d43cedb4e48eaa36fb8e84a958e33",
       "version_major": 2,
       "version_minor": 0
      },
      "text/plain": [
       "s_harmonic:   0%|          | 0/2400 [00:00<?, ?it/s]"
      ]
     },
     "metadata": {},
     "output_type": "display_data"
    },
    {
     "data": {
      "application/vnd.jupyter.widget-view+json": {
       "model_id": "7c41d76f094d4b549c6a97507ab4b681",
       "version_major": 2,
       "version_minor": 0
      },
      "text/plain": [
       "s_mfcc:   0%|          | 0/2400 [00:00<?, ?it/s]"
      ]
     },
     "metadata": {},
     "output_type": "display_data"
    },
    {
     "data": {
      "application/vnd.jupyter.widget-view+json": {
       "model_id": "68271c59cb474c8198873a3464417389",
       "version_major": 2,
       "version_minor": 0
      },
      "text/plain": [
       "s_overtones:   0%|          | 0/2400 [00:00<?, ?it/s]"
      ]
     },
     "metadata": {},
     "output_type": "display_data"
    },
    {
     "data": {
      "application/vnd.jupyter.widget-view+json": {
       "model_id": "7b39884b37234fed8bd38468e0e87caf",
       "version_major": 2,
       "version_minor": 0
      },
      "text/plain": [
       "s_cqt_chroma:   0%|          | 0/2400 [00:00<?, ?it/s]"
      ]
     },
     "metadata": {},
     "output_type": "display_data"
    },
    {
     "data": {
      "application/vnd.jupyter.widget-view+json": {
       "model_id": "72abae99f77f4d1094b7f3c22e62a867",
       "version_major": 2,
       "version_minor": 0
      },
      "text/plain": [
       "s_harmonic_chroma:   0%|          | 0/2400 [00:00<?, ?it/s]"
      ]
     },
     "metadata": {},
     "output_type": "display_data"
    },
    {
     "data": {
      "application/vnd.jupyter.widget-view+json": {
       "model_id": "884c5a129d7343e38def0cf9d829eb6c",
       "version_major": 2,
       "version_minor": 0
      },
      "text/plain": [
       "s_percussive:   0%|          | 0/2400 [00:00<?, ?it/s]"
      ]
     },
     "metadata": {},
     "output_type": "display_data"
    },
    {
     "data": {
      "application/vnd.jupyter.widget-view+json": {
       "model_id": "c22fe23c6031427da32bb6c36d988a69",
       "version_major": 2,
       "version_minor": 0
      },
      "text/plain": [
       "s_percussive_beat_frames:   0%|          | 0/2400 [00:00<?, ?it/s]"
      ]
     },
     "metadata": {},
     "output_type": "display_data"
    }
   ],
   "source": [
    "E_train.soft_extract()\n",
    "E_eval.soft_extract()"
   ]
  },
  {
   "cell_type": "code",
   "execution_count": 421,
   "id": "1026d150-35ad-4cd4-b44a-f3e75a8c03cb",
   "metadata": {},
   "outputs": [],
   "source": [
    "Extractor.register_extractor('s_percussive_beat_frames', \n",
    "                             lambda s_percussive: s_percussive.mean(axis=0))"
   ]
  },
  {
   "cell_type": "code",
   "execution_count": 422,
   "id": "b471db37-be83-4d88-9feb-2fb4655e3cc0",
   "metadata": {},
   "outputs": [],
   "source": [
    "E_train.soft_extract()\n",
    "E_eval.soft_extract()"
   ]
  },
  {
   "cell_type": "code",
   "execution_count": 423,
   "id": "84043e0c-cf40-4563-873b-1df91750a582",
   "metadata": {},
   "outputs": [
    {
     "data": {
      "text/plain": [
       "[<matplotlib.lines.Line2D at 0x56f6cd850>]"
      ]
     },
     "execution_count": 423,
     "metadata": {},
     "output_type": "execute_result"
    },
    {
     "data": {
      "image/png": "[encoded data removed]",
      "text/plain": [
       "<Figure size 640x480 with 4 Axes>"
      ]
     },
     "metadata": {},
     "output_type": "display_data"
    }
   ],
   "source": [
    "plt.subplot(2, 2, 1)\n",
    "plt.plot(E_train.features['s_percussive_beat_frames'][0])\n",
    "plt.subplot(2, 2, 2)\n",
    "plt.plot(E_train.features['s_percussive_beat_frames'][1])\n",
    "plt.subplot(2, 2, 3)\n",
    "plt.plot(E_train.features['s_percussive_beat_frames'][2])\n",
    "plt.subplot(2, 2, 4)\n",
    "plt.plot(E_train.features['s_percussive_beat_frames'][3])"
   ]
  },
  {
   "cell_type": "code",
   "execution_count": 424,
   "id": "5ad9bda3-d368-4c21-969b-452eb39b92e9",
   "metadata": {},
   "outputs": [],
   "source": [
    "from sklearn.cluster import KMeans\n",
    "\n",
    "class KMeansAdapter(KMeans):\n",
    "    def transform(self, *args, **kwargs):\n",
    "        return self.predict(*args, **kwargs).reshape(-1, 1)\n",
    "    def fit_transform(self, *args, **kwargs):\n",
    "        return self.fit_predict(*args, **kwargs).reshape(-1, 1)\n",
    "n_clusters=4\n",
    "Extractor.register_sklearn_extractor('s_percussive_beat_frames_kmeans', ['s_percussive_beat_frames'], KMeansAdapter(n_clusters=n_clusters))"
   ]
  },
  {
   "cell_type": "code",
   "execution_count": 425,
   "id": "169c8bca-b1e1-47ac-abca-8ad2db9f2ee7",
   "metadata": {},
   "outputs": [],
   "source": [
    "del E_train.features['s_percussive_beat_frames_kmeans']\n",
    "del E_eval.features['s_percussive_beat_frames_kmeans']"
   ]
  },
  {
   "cell_type": "code",
   "execution_count": 426,
   "id": "aa33435a-a8a4-4c26-96ac-8caf23b10437",
   "metadata": {},
   "outputs": [],
   "source": [
    "E_train.soft_extract()\n",
    "E_eval.soft_extract()"
   ]
  },
  {
   "cell_type": "code",
   "execution_count": 429,
   "id": "52339667-cf98-4d70-a29a-6adcadcd5ece",
   "metadata": {},
   "outputs": [
    {
     "data": {
      "image/png": "[encoded data removed]",
      "text/plain": [
       "<Figure size 640x480 with 4 Axes>"
      ]
     },
     "metadata": {},
     "output_type": "display_data"
    }
   ],
   "source": [
    "import matplotlib.ticker as ticker\n",
    "centers = Extractor._stateful_extractors['s_percussive_beat_frames_kmeans'][0].cluster_centers_\n",
    "h = (len(centers) + 2) // 2\n",
    "for i, c in enumerate(centers):\n",
    "    ax = plt.subplot(h, 2, i + 1)\n",
    "    ax.xaxis.set_major_locator(ticker.MultipleLocator(base=4))\n",
    "    plt.plot(c)\n",
    "    plt.grid(axis='x', which='both')"
   ]
  },
  {
   "cell_type": "code",
   "execution_count": 457,
   "id": "f8009bfb-b3a4-4c92-9249-f264389b89b3",
   "metadata": {},
   "outputs": [],
   "source": [
    "def aggregate(E, feature_names, idx, to_idx):\n",
    "    return pd.DataFrame(data=E.get_features(\n",
    "        [idx] + feature_names\n",
    "    ), columns=[\"idx\"] + feature_names) \\\n",
    "    .groupby(\"idx\").agg(lambda x: str(pd.Series.mode(x)[0])) \\\n",
    "    .loc[E.get_features([to_idx])[:,0]].to_numpy()\n",
    "E_train.features['percussive_beat_frames_kmeans'] = aggregate(E_train, [\"s_percussive_beat_frames_kmeans\"], \"s_idx\", \"idx\")\n",
    "E_eval.features['percussive_beat_frames_kmeans'] = aggregate(E_eval, [\"s_percussive_beat_frames_kmeans\"], \"s_idx\", \"idx\")"
   ]
  },
  {
   "cell_type": "code",
   "execution_count": 458,
   "id": "6888403b-08b7-4699-958b-30fe374384a7",
   "metadata": {},
   "outputs": [],
   "source": [
    "import importlib\n",
    "train_and_evaluate_catboost = importlib.reload(importlib.import_module('model')).train_and_evaluate_catboost"
   ]
  },
  {
   "cell_type": "code",
   "execution_count": 459,
   "id": "80203d1a-5d9e-4121-8b48-f5518a782dc9",
   "metadata": {},
   "outputs": [],
   "source": [
    "# ChatGPT query:\n",
    "#\n",
    "# I have an array with feature names and I want to generate weights for the features. Some of the feature names look like <name>_<index>. \n",
    "# I want to make a function receiving a dict with prefixes and corresponding feature weights. \n",
    "# It should return the np.array of the same shape as feature_names, containing weights. \n",
    "# If the feature name starts with prefix from the dict then the weight has to be taken from the dict, otherwise it has to be 1. \n",
    "# Here is the signature:\n",
    "# \n",
    "# def assign_feature_weights(feature_names: np.ndarray, weights: dict[str, int]) -> np.ndarray:\n",
    "#     pass\n",
    "\n",
    "import numpy as np\n",
    "\n",
    "def assign_feature_weights(feature_names: np.ndarray, weights: dict[str, float]) -> np.ndarray:\n",
    "    \"\"\"\n",
    "    Assign weights to features based on given prefixes.\n",
    "    \n",
    "    Parameters\n",
    "    ----------\n",
    "    feature_names : np.ndarray\n",
    "        Array of feature names.\n",
    "    weights : dict[str, float]\n",
    "        Dictionary mapping a prefix (string) to a weight (float).\n",
    "        \n",
    "    Returns\n",
    "    -------\n",
    "    np.ndarray\n",
    "        An array of the same shape as `feature_names` containing the assigned weights. \n",
    "        If a feature name starts with any prefix in `weights`, the corresponding weight \n",
    "        is used. Otherwise, the weight is 1.0.\n",
    "    \"\"\"\n",
    "    result_weights = np.ones_like(feature_names, dtype=float)  # default is 1.0\n",
    "    \n",
    "    for i, fname in enumerate(feature_names):\n",
    "        for prefix, w in weights.items():\n",
    "            if fname.startswith(prefix):\n",
    "                result_weights[i] = w\n",
    "                break  # Stop at the first matching prefix\n",
    "\n",
    "    return result_weights"
   ]
  },
  {
   "cell_type": "code",
   "execution_count": 460,
   "id": "297370d9-a3b5-46cf-b8c4-8d19afd3f36c",
   "metadata": {},
   "outputs": [
    {
     "data": {
      "application/vnd.jupyter.widget-view+json": {
       "model_id": "d8344ace8e7a4ba88bb84762df7b7f57",
       "version_major": 2,
       "version_minor": 0
      },
      "text/plain": [
       "MetricVisualizer(layout=Layout(align_self='stretch', height='500px'))"
      ]
     },
     "metadata": {},
     "output_type": "display_data"
    },
    {
     "name": "stdout",
     "output_type": "stream",
     "text": [
      "0:\tlearn: 0.3161660\ttest: 0.3233333\tbest: 0.3233333 (0)\ttotal: 27.2ms\tremaining: 13.6s\n",
      "50:\tlearn: 0.7467811\ttest: 0.6366667\tbest: 0.6366667 (50)\ttotal: 517ms\tremaining: 4.55s\n",
      "100:\tlearn: 0.8340486\ttest: 0.7033333\tbest: 0.7033333 (97)\ttotal: 951ms\tremaining: 3.75s\n",
      "150:\tlearn: 0.8812589\ttest: 0.7233333\tbest: 0.7300000 (133)\ttotal: 1.42s\tremaining: 3.28s\n",
      "200:\tlearn: 0.9198856\ttest: 0.7266667\tbest: 0.7300000 (133)\ttotal: 1.92s\tremaining: 2.86s\n",
      "250:\tlearn: 0.9470672\ttest: 0.7433333\tbest: 0.7466667 (238)\ttotal: 2.45s\tremaining: 2.43s\n",
      "300:\tlearn: 0.9556509\ttest: 0.7533333\tbest: 0.7566667 (283)\ttotal: 2.88s\tremaining: 1.9s\n",
      "350:\tlearn: 0.9670959\ttest: 0.7500000\tbest: 0.7566667 (283)\ttotal: 3.31s\tremaining: 1.4s\n",
      "400:\tlearn: 0.9785408\ttest: 0.7500000\tbest: 0.7633333 (363)\ttotal: 3.73s\tremaining: 922ms\n",
      "450:\tlearn: 0.9814020\ttest: 0.7700000\tbest: 0.7733333 (447)\ttotal: 4.15s\tremaining: 451ms\n",
      "499:\tlearn: 0.9885551\ttest: 0.7700000\tbest: 0.7766667 (479)\ttotal: 4.57s\tremaining: 0us\n",
      "\n",
      "bestTest = 0.7766666667\n",
      "bestIteration = 479\n",
      "\n",
      "Shrink model to first 480 iterations.\n",
      "\n",
      "Classification Report:\n",
      "               precision    recall  f1-score   support\n",
      "\n",
      "       blues       0.83      0.67      0.74        30\n",
      "   classical       0.90      0.90      0.90        30\n",
      "     country       0.71      0.83      0.77        30\n",
      "       disco       0.69      0.73      0.71        30\n",
      "      hiphop       0.76      0.87      0.81        30\n",
      "        jazz       0.87      0.87      0.87        30\n",
      "       metal       0.86      0.83      0.85        30\n",
      "         pop       0.79      0.77      0.78        30\n",
      "      reggae       0.77      0.80      0.79        30\n",
      "        rock       0.58      0.50      0.54        30\n",
      "\n",
      "    accuracy                           0.78       300\n",
      "   macro avg       0.78      0.78      0.77       300\n",
      "weighted avg       0.78      0.78      0.77       300\n",
      "\n",
      "Evaluation Accuracy: 0.7767\n"
     ]
    }
   ],
   "source": [
    "features = ['rms', 'bpm',\n",
    "    'cqt_per_freq_mean_svd', 'cqt_per_freq_var_svd', \n",
    "    'harmonic_per_freq_mean_svd', 'harmonic_per_freq_var_svd', \n",
    "    'percussive_per_freq_mean_svd', 'percussive_per_freq_var_svd',\n",
    "    'mfcc_quef_mean', 'mfcc_quef_var', \n",
    "    'cqt_spectral_centroid_mean', 'cqt_spectral_centroid_var', \n",
    "    'cqt_chroma_mean', 'cqt_chroma_var', \n",
    "    'harmonic_chroma_freq_mean', 'harmonic_chroma_freq_var', \n",
    "    'cqt_rolloff_mean', 'cqt_rolloff_var', \n",
    "    'cqt_bandwidth_mean', 'cqt_bandwidth_var',\n",
    "    'percept_freq_mean_svd', 'percept_freq_var_svd',\n",
    "    'voiced_f0_mean', 'f0_var',\n",
    "    'overtones_freq_mean_svd', 'overtones_freq_var_svd',\n",
    "    'percussive_beat_frames_kmeans'\n",
    "    ]\n",
    "\n",
    "weights = assign_feature_weights(E_eval.get_feature_names_vector(features), \n",
    "                                 dict(percussive_beat_frames_kmeans=2))\n",
    "model, acc = train_and_evaluate_catboost(\n",
    "    idx_eval=E_eval.get_features(['idx'])[:,0],\n",
    "    X_train=E_train.get_features(features),\n",
    "    X_eval=E_eval.get_features(features),\n",
    "    y_train=E_train.get_features(['y'])[:,0], \n",
    "    y_eval=E_eval.get_features(['y'])[:,0],\n",
    "    cat_features=[212],\n",
    ")"
   ]
  },
  {
   "cell_type": "code",
   "execution_count": 394,
   "id": "bdcf8273-5a86-474b-9cf0-b31f897f05c2",
   "metadata": {},
   "outputs": [
    {
     "data": {
      "text/html": [
       "<div>\n",
       "<style scoped>\n",
       "    .dataframe tbody tr th:only-of-type {\n",
       "        vertical-align: middle;\n",
       "    }\n",
       "\n",
       "    .dataframe tbody tr th {\n",
       "        vertical-align: top;\n",
       "    }\n",
       "\n",
       "    .dataframe thead th {\n",
       "        text-align: right;\n",
       "    }\n",
       "</style>\n",
       "<table border=\"1\" class=\"dataframe\">\n",
       "  <thead>\n",
       "    <tr style=\"text-align: right;\">\n",
       "      <th></th>\n",
       "      <th>importance</th>\n",
       "    </tr>\n",
       "  </thead>\n",
       "  <tbody>\n",
       "    <tr>\n",
       "      <th>mfcc_quef_mean_3</th>\n",
       "      <td>3.631867</td>\n",
       "    </tr>\n",
       "    <tr>\n",
       "      <th>cqt_per_freq_var_svd_0</th>\n",
       "      <td>3.358340</td>\n",
       "    </tr>\n",
       "    <tr>\n",
       "      <th>mfcc_quef_var_3</th>\n",
       "      <td>3.186415</td>\n",
       "    </tr>\n",
       "    <tr>\n",
       "      <th>cqt_spectral_centroid_mean_</th>\n",
       "      <td>3.137787</td>\n",
       "    </tr>\n",
       "    <tr>\n",
       "      <th>percept_freq_mean_svd_0</th>\n",
       "      <td>2.654684</td>\n",
       "    </tr>\n",
       "    <tr>\n",
       "      <th>mfcc_quef_mean_0</th>\n",
       "      <td>2.643984</td>\n",
       "    </tr>\n",
       "    <tr>\n",
       "      <th>mfcc_quef_var_9</th>\n",
       "      <td>2.609529</td>\n",
       "    </tr>\n",
       "    <tr>\n",
       "      <th>percept_freq_var_svd_1</th>\n",
       "      <td>2.329414</td>\n",
       "    </tr>\n",
       "    <tr>\n",
       "      <th>percussive_beat_frames_kmeans_0</th>\n",
       "      <td>2.285010</td>\n",
       "    </tr>\n",
       "    <tr>\n",
       "      <th>mfcc_quef_var_4</th>\n",
       "      <td>2.269075</td>\n",
       "    </tr>\n",
       "    <tr>\n",
       "      <th>percept_freq_var_svd_3</th>\n",
       "      <td>2.017078</td>\n",
       "    </tr>\n",
       "    <tr>\n",
       "      <th>percussive_per_freq_var_svd_1</th>\n",
       "      <td>2.016476</td>\n",
       "    </tr>\n",
       "    <tr>\n",
       "      <th>percussive_per_freq_var_svd_0</th>\n",
       "      <td>1.926037</td>\n",
       "    </tr>\n",
       "    <tr>\n",
       "      <th>percussive_per_freq_mean_svd_2</th>\n",
       "      <td>1.879499</td>\n",
       "    </tr>\n",
       "    <tr>\n",
       "      <th>mfcc_quef_var_8</th>\n",
       "      <td>1.845014</td>\n",
       "    </tr>\n",
       "  </tbody>\n",
       "</table>\n",
       "</div>"
      ],
      "text/plain": [
       "                                 importance\n",
       "mfcc_quef_mean_3                   3.631867\n",
       "cqt_per_freq_var_svd_0             3.358340\n",
       "mfcc_quef_var_3                    3.186415\n",
       "cqt_spectral_centroid_mean_        3.137787\n",
       "percept_freq_mean_svd_0            2.654684\n",
       "mfcc_quef_mean_0                   2.643984\n",
       "mfcc_quef_var_9                    2.609529\n",
       "percept_freq_var_svd_1             2.329414\n",
       "percussive_beat_frames_kmeans_0    2.285010\n",
       "mfcc_quef_var_4                    2.269075\n",
       "percept_freq_var_svd_3             2.017078\n",
       "percussive_per_freq_var_svd_1      2.016476\n",
       "percussive_per_freq_var_svd_0      1.926037\n",
       "percussive_per_freq_mean_svd_2     1.879499\n",
       "mfcc_quef_var_8                    1.845014"
      ]
     },
     "execution_count": 394,
     "metadata": {},
     "output_type": "execute_result"
    }
   ],
   "source": [
    "pd.DataFrame(\n",
    "    data=model.feature_importances_, \n",
    "    index=E_train.get_feature_names_vector(features), \n",
    "    columns=['importance']\n",
    ").sort_values(by='importance', ascending=False).head(15)"
   ]
  },
  {
   "cell_type": "code",
   "execution_count": null,
   "id": "23ce8429-8504-4bbf-8264-b6b3e3e6497a",
   "metadata": {},
   "outputs": [],
   "source": []
  }
 ],
 "metadata": {
  "kernelspec": {
   "display_name": "Python 3 (ipykernel)",
   "language": "python",
   "name": "python3"
  },
  "language_info": {
   "codemirror_mode": {
    "name": "ipython",
    "version": 3
   },
   "file_extension": ".py",
   "mimetype": "text/x-python",
   "name": "python",
   "nbconvert_exporter": "python",
   "pygments_lexer": "ipython3",
   "version": "3.12.8"
  }
 },
 "nbformat": 4,
 "nbformat_minor": 5
}
