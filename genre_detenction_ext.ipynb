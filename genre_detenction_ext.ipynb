{
 "cells": [
  {
   "cell_type": "code",
   "execution_count": 1,
   "id": "4ec4f216-efdb-4e99-aec2-b26667fa71ba",
   "metadata": {},
   "outputs": [],
   "source": [
    "import pandas as pd\n",
    "import numpy as np\n",
    "from model import *\n",
    "import extractor\n",
    "class Extractor(extractor.AudioDataExtractionPipeline):\n",
    "    pass"
   ]
  },
  {
   "cell_type": "code",
   "execution_count": 2,
   "id": "5512d565-1366-47d5-8b87-efda54317286",
   "metadata": {},
   "outputs": [
    {
     "data": {
      "text/html": [
       "<div>\n",
       "<style scoped>\n",
       "    .dataframe tbody tr th:only-of-type {\n",
       "        vertical-align: middle;\n",
       "    }\n",
       "\n",
       "    .dataframe tbody tr th {\n",
       "        vertical-align: top;\n",
       "    }\n",
       "\n",
       "    .dataframe thead th {\n",
       "        text-align: right;\n",
       "    }\n",
       "</style>\n",
       "<table border=\"1\" class=\"dataframe\">\n",
       "  <thead>\n",
       "    <tr style=\"text-align: right;\">\n",
       "      <th></th>\n",
       "      <th>filename</th>\n",
       "      <th>length</th>\n",
       "      <th>chroma_stft_mean</th>\n",
       "      <th>chroma_stft_var</th>\n",
       "      <th>rms_mean</th>\n",
       "      <th>rms_var</th>\n",
       "      <th>spectral_centroid_mean</th>\n",
       "      <th>spectral_centroid_var</th>\n",
       "      <th>spectral_bandwidth_mean</th>\n",
       "      <th>spectral_bandwidth_var</th>\n",
       "      <th>...</th>\n",
       "      <th>mfcc16_var</th>\n",
       "      <th>mfcc17_mean</th>\n",
       "      <th>mfcc17_var</th>\n",
       "      <th>mfcc18_mean</th>\n",
       "      <th>mfcc18_var</th>\n",
       "      <th>mfcc19_mean</th>\n",
       "      <th>mfcc19_var</th>\n",
       "      <th>mfcc20_mean</th>\n",
       "      <th>mfcc20_var</th>\n",
       "      <th>label</th>\n",
       "    </tr>\n",
       "  </thead>\n",
       "  <tbody>\n",
       "    <tr>\n",
       "      <th>0</th>\n",
       "      <td>blues.00000.wav</td>\n",
       "      <td>661794</td>\n",
       "      <td>0.350088</td>\n",
       "      <td>0.088757</td>\n",
       "      <td>0.130228</td>\n",
       "      <td>0.002827</td>\n",
       "      <td>1784.165850</td>\n",
       "      <td>129774.064525</td>\n",
       "      <td>2002.449060</td>\n",
       "      <td>85882.761315</td>\n",
       "      <td>...</td>\n",
       "      <td>52.420910</td>\n",
       "      <td>-1.690215</td>\n",
       "      <td>36.524071</td>\n",
       "      <td>-0.408979</td>\n",
       "      <td>41.597103</td>\n",
       "      <td>-2.303523</td>\n",
       "      <td>55.062923</td>\n",
       "      <td>1.221291</td>\n",
       "      <td>46.936035</td>\n",
       "      <td>blues</td>\n",
       "    </tr>\n",
       "    <tr>\n",
       "      <th>1</th>\n",
       "      <td>blues.00001.wav</td>\n",
       "      <td>661794</td>\n",
       "      <td>0.340914</td>\n",
       "      <td>0.094980</td>\n",
       "      <td>0.095948</td>\n",
       "      <td>0.002373</td>\n",
       "      <td>1530.176679</td>\n",
       "      <td>375850.073649</td>\n",
       "      <td>2039.036516</td>\n",
       "      <td>213843.755497</td>\n",
       "      <td>...</td>\n",
       "      <td>55.356403</td>\n",
       "      <td>-0.731125</td>\n",
       "      <td>60.314529</td>\n",
       "      <td>0.295073</td>\n",
       "      <td>48.120598</td>\n",
       "      <td>-0.283518</td>\n",
       "      <td>51.106190</td>\n",
       "      <td>0.531217</td>\n",
       "      <td>45.786282</td>\n",
       "      <td>blues</td>\n",
       "    </tr>\n",
       "    <tr>\n",
       "      <th>2</th>\n",
       "      <td>blues.00002.wav</td>\n",
       "      <td>661794</td>\n",
       "      <td>0.363637</td>\n",
       "      <td>0.085275</td>\n",
       "      <td>0.175570</td>\n",
       "      <td>0.002746</td>\n",
       "      <td>1552.811865</td>\n",
       "      <td>156467.643368</td>\n",
       "      <td>1747.702312</td>\n",
       "      <td>76254.192257</td>\n",
       "      <td>...</td>\n",
       "      <td>40.598766</td>\n",
       "      <td>-7.729093</td>\n",
       "      <td>47.639427</td>\n",
       "      <td>-1.816407</td>\n",
       "      <td>52.382141</td>\n",
       "      <td>-3.439720</td>\n",
       "      <td>46.639660</td>\n",
       "      <td>-2.231258</td>\n",
       "      <td>30.573025</td>\n",
       "      <td>blues</td>\n",
       "    </tr>\n",
       "    <tr>\n",
       "      <th>3</th>\n",
       "      <td>blues.00003.wav</td>\n",
       "      <td>661794</td>\n",
       "      <td>0.404785</td>\n",
       "      <td>0.093999</td>\n",
       "      <td>0.141093</td>\n",
       "      <td>0.006346</td>\n",
       "      <td>1070.106615</td>\n",
       "      <td>184355.942417</td>\n",
       "      <td>1596.412872</td>\n",
       "      <td>166441.494769</td>\n",
       "      <td>...</td>\n",
       "      <td>44.427753</td>\n",
       "      <td>-3.319597</td>\n",
       "      <td>50.206673</td>\n",
       "      <td>0.636965</td>\n",
       "      <td>37.319130</td>\n",
       "      <td>-0.619121</td>\n",
       "      <td>37.259739</td>\n",
       "      <td>-3.407448</td>\n",
       "      <td>31.949339</td>\n",
       "      <td>blues</td>\n",
       "    </tr>\n",
       "    <tr>\n",
       "      <th>4</th>\n",
       "      <td>blues.00004.wav</td>\n",
       "      <td>661794</td>\n",
       "      <td>0.308526</td>\n",
       "      <td>0.087841</td>\n",
       "      <td>0.091529</td>\n",
       "      <td>0.002303</td>\n",
       "      <td>1835.004266</td>\n",
       "      <td>343399.939274</td>\n",
       "      <td>1748.172116</td>\n",
       "      <td>88445.209036</td>\n",
       "      <td>...</td>\n",
       "      <td>86.099236</td>\n",
       "      <td>-5.454034</td>\n",
       "      <td>75.269707</td>\n",
       "      <td>-0.916874</td>\n",
       "      <td>53.613918</td>\n",
       "      <td>-4.404827</td>\n",
       "      <td>62.910812</td>\n",
       "      <td>-11.703234</td>\n",
       "      <td>55.195160</td>\n",
       "      <td>blues</td>\n",
       "    </tr>\n",
       "    <tr>\n",
       "      <th>...</th>\n",
       "      <td>...</td>\n",
       "      <td>...</td>\n",
       "      <td>...</td>\n",
       "      <td>...</td>\n",
       "      <td>...</td>\n",
       "      <td>...</td>\n",
       "      <td>...</td>\n",
       "      <td>...</td>\n",
       "      <td>...</td>\n",
       "      <td>...</td>\n",
       "      <td>...</td>\n",
       "      <td>...</td>\n",
       "      <td>...</td>\n",
       "      <td>...</td>\n",
       "      <td>...</td>\n",
       "      <td>...</td>\n",
       "      <td>...</td>\n",
       "      <td>...</td>\n",
       "      <td>...</td>\n",
       "      <td>...</td>\n",
       "      <td>...</td>\n",
       "    </tr>\n",
       "    <tr>\n",
       "      <th>995</th>\n",
       "      <td>rock.00095.wav</td>\n",
       "      <td>661794</td>\n",
       "      <td>0.352063</td>\n",
       "      <td>0.080487</td>\n",
       "      <td>0.079486</td>\n",
       "      <td>0.000345</td>\n",
       "      <td>2008.149458</td>\n",
       "      <td>282174.689224</td>\n",
       "      <td>2106.541053</td>\n",
       "      <td>88609.749506</td>\n",
       "      <td>...</td>\n",
       "      <td>45.050526</td>\n",
       "      <td>-13.289984</td>\n",
       "      <td>41.754955</td>\n",
       "      <td>2.484145</td>\n",
       "      <td>36.778877</td>\n",
       "      <td>-6.713265</td>\n",
       "      <td>54.866825</td>\n",
       "      <td>-1.193787</td>\n",
       "      <td>49.950665</td>\n",
       "      <td>rock</td>\n",
       "    </tr>\n",
       "    <tr>\n",
       "      <th>996</th>\n",
       "      <td>rock.00096.wav</td>\n",
       "      <td>661794</td>\n",
       "      <td>0.398687</td>\n",
       "      <td>0.075086</td>\n",
       "      <td>0.076458</td>\n",
       "      <td>0.000588</td>\n",
       "      <td>2006.843354</td>\n",
       "      <td>182114.709510</td>\n",
       "      <td>2068.942009</td>\n",
       "      <td>82426.016726</td>\n",
       "      <td>...</td>\n",
       "      <td>33.851742</td>\n",
       "      <td>-10.848309</td>\n",
       "      <td>39.395096</td>\n",
       "      <td>1.881229</td>\n",
       "      <td>32.010040</td>\n",
       "      <td>-7.461491</td>\n",
       "      <td>39.196327</td>\n",
       "      <td>-2.795338</td>\n",
       "      <td>31.773624</td>\n",
       "      <td>rock</td>\n",
       "    </tr>\n",
       "    <tr>\n",
       "      <th>997</th>\n",
       "      <td>rock.00097.wav</td>\n",
       "      <td>661794</td>\n",
       "      <td>0.432142</td>\n",
       "      <td>0.075268</td>\n",
       "      <td>0.081651</td>\n",
       "      <td>0.000322</td>\n",
       "      <td>2077.526598</td>\n",
       "      <td>231657.968040</td>\n",
       "      <td>1927.293153</td>\n",
       "      <td>74717.124394</td>\n",
       "      <td>...</td>\n",
       "      <td>33.597008</td>\n",
       "      <td>-12.845291</td>\n",
       "      <td>36.367264</td>\n",
       "      <td>3.440978</td>\n",
       "      <td>36.001110</td>\n",
       "      <td>-12.588070</td>\n",
       "      <td>42.502201</td>\n",
       "      <td>-2.106337</td>\n",
       "      <td>29.865515</td>\n",
       "      <td>rock</td>\n",
       "    </tr>\n",
       "    <tr>\n",
       "      <th>998</th>\n",
       "      <td>rock.00098.wav</td>\n",
       "      <td>661794</td>\n",
       "      <td>0.362485</td>\n",
       "      <td>0.091506</td>\n",
       "      <td>0.083860</td>\n",
       "      <td>0.001211</td>\n",
       "      <td>1398.699344</td>\n",
       "      <td>240318.731073</td>\n",
       "      <td>1818.450280</td>\n",
       "      <td>109090.207161</td>\n",
       "      <td>...</td>\n",
       "      <td>46.324894</td>\n",
       "      <td>-4.416050</td>\n",
       "      <td>43.583942</td>\n",
       "      <td>1.556207</td>\n",
       "      <td>34.331261</td>\n",
       "      <td>-5.041897</td>\n",
       "      <td>47.227180</td>\n",
       "      <td>-3.590644</td>\n",
       "      <td>41.299088</td>\n",
       "      <td>rock</td>\n",
       "    </tr>\n",
       "    <tr>\n",
       "      <th>999</th>\n",
       "      <td>rock.00099.wav</td>\n",
       "      <td>661794</td>\n",
       "      <td>0.358401</td>\n",
       "      <td>0.085884</td>\n",
       "      <td>0.054454</td>\n",
       "      <td>0.000336</td>\n",
       "      <td>1609.795082</td>\n",
       "      <td>422203.216152</td>\n",
       "      <td>1797.213044</td>\n",
       "      <td>120115.632927</td>\n",
       "      <td>...</td>\n",
       "      <td>59.167755</td>\n",
       "      <td>-7.069775</td>\n",
       "      <td>73.760391</td>\n",
       "      <td>0.028346</td>\n",
       "      <td>76.504326</td>\n",
       "      <td>-2.025783</td>\n",
       "      <td>72.189316</td>\n",
       "      <td>1.155239</td>\n",
       "      <td>49.662510</td>\n",
       "      <td>rock</td>\n",
       "    </tr>\n",
       "  </tbody>\n",
       "</table>\n",
       "<p>1000 rows × 60 columns</p>\n",
       "</div>"
      ],
      "text/plain": [
       "            filename  length  chroma_stft_mean  chroma_stft_var  rms_mean  \\\n",
       "0    blues.00000.wav  661794          0.350088         0.088757  0.130228   \n",
       "1    blues.00001.wav  661794          0.340914         0.094980  0.095948   \n",
       "2    blues.00002.wav  661794          0.363637         0.085275  0.175570   \n",
       "3    blues.00003.wav  661794          0.404785         0.093999  0.141093   \n",
       "4    blues.00004.wav  661794          0.308526         0.087841  0.091529   \n",
       "..               ...     ...               ...              ...       ...   \n",
       "995   rock.00095.wav  661794          0.352063         0.080487  0.079486   \n",
       "996   rock.00096.wav  661794          0.398687         0.075086  0.076458   \n",
       "997   rock.00097.wav  661794          0.432142         0.075268  0.081651   \n",
       "998   rock.00098.wav  661794          0.362485         0.091506  0.083860   \n",
       "999   rock.00099.wav  661794          0.358401         0.085884  0.054454   \n",
       "\n",
       "      rms_var  spectral_centroid_mean  spectral_centroid_var  \\\n",
       "0    0.002827             1784.165850          129774.064525   \n",
       "1    0.002373             1530.176679          375850.073649   \n",
       "2    0.002746             1552.811865          156467.643368   \n",
       "3    0.006346             1070.106615          184355.942417   \n",
       "4    0.002303             1835.004266          343399.939274   \n",
       "..        ...                     ...                    ...   \n",
       "995  0.000345             2008.149458          282174.689224   \n",
       "996  0.000588             2006.843354          182114.709510   \n",
       "997  0.000322             2077.526598          231657.968040   \n",
       "998  0.001211             1398.699344          240318.731073   \n",
       "999  0.000336             1609.795082          422203.216152   \n",
       "\n",
       "     spectral_bandwidth_mean  spectral_bandwidth_var  ...  mfcc16_var  \\\n",
       "0                2002.449060            85882.761315  ...   52.420910   \n",
       "1                2039.036516           213843.755497  ...   55.356403   \n",
       "2                1747.702312            76254.192257  ...   40.598766   \n",
       "3                1596.412872           166441.494769  ...   44.427753   \n",
       "4                1748.172116            88445.209036  ...   86.099236   \n",
       "..                       ...                     ...  ...         ...   \n",
       "995              2106.541053            88609.749506  ...   45.050526   \n",
       "996              2068.942009            82426.016726  ...   33.851742   \n",
       "997              1927.293153            74717.124394  ...   33.597008   \n",
       "998              1818.450280           109090.207161  ...   46.324894   \n",
       "999              1797.213044           120115.632927  ...   59.167755   \n",
       "\n",
       "     mfcc17_mean  mfcc17_var  mfcc18_mean  mfcc18_var  mfcc19_mean  \\\n",
       "0      -1.690215   36.524071    -0.408979   41.597103    -2.303523   \n",
       "1      -0.731125   60.314529     0.295073   48.120598    -0.283518   \n",
       "2      -7.729093   47.639427    -1.816407   52.382141    -3.439720   \n",
       "3      -3.319597   50.206673     0.636965   37.319130    -0.619121   \n",
       "4      -5.454034   75.269707    -0.916874   53.613918    -4.404827   \n",
       "..           ...         ...          ...         ...          ...   \n",
       "995   -13.289984   41.754955     2.484145   36.778877    -6.713265   \n",
       "996   -10.848309   39.395096     1.881229   32.010040    -7.461491   \n",
       "997   -12.845291   36.367264     3.440978   36.001110   -12.588070   \n",
       "998    -4.416050   43.583942     1.556207   34.331261    -5.041897   \n",
       "999    -7.069775   73.760391     0.028346   76.504326    -2.025783   \n",
       "\n",
       "     mfcc19_var  mfcc20_mean  mfcc20_var  label  \n",
       "0     55.062923     1.221291   46.936035  blues  \n",
       "1     51.106190     0.531217   45.786282  blues  \n",
       "2     46.639660    -2.231258   30.573025  blues  \n",
       "3     37.259739    -3.407448   31.949339  blues  \n",
       "4     62.910812   -11.703234   55.195160  blues  \n",
       "..          ...          ...         ...    ...  \n",
       "995   54.866825    -1.193787   49.950665   rock  \n",
       "996   39.196327    -2.795338   31.773624   rock  \n",
       "997   42.502201    -2.106337   29.865515   rock  \n",
       "998   47.227180    -3.590644   41.299088   rock  \n",
       "999   72.189316     1.155239   49.662510   rock  \n",
       "\n",
       "[1000 rows x 60 columns]"
      ]
     },
     "execution_count": 2,
     "metadata": {},
     "output_type": "execute_result"
    }
   ],
   "source": [
    "import pandas as pd\n",
    "df = pd.read_csv(\"dataset/Data/features_30_sec.csv\")\n",
    "df"
   ]
  },
  {
   "cell_type": "code",
   "execution_count": 3,
   "id": "dbdeecea-5a6e-488b-89e2-4c9e4d7e472b",
   "metadata": {},
   "outputs": [],
   "source": [
    "from sklearn.model_selection import train_test_split\n",
    "\n",
    "# Define features and target\n",
    "X = df.drop(columns=['label'])  # Features: e.g., 'track' and 'statistics'\n",
    "y = df['label']  # Target: 'label'\n",
    "\n",
    "# Split the dataset while preserving class proportions\n",
    "X_train, X_eval, y_train, y_eval = train_test_split(\n",
    "    X, y, \n",
    "    test_size=0.3,  # 30% for testing\n",
    "    stratify=y,     # Preserve class proportions\n",
    "    random_state=42 # For reproducibility\n",
    ")"
   ]
  },
  {
   "cell_type": "code",
   "execution_count": 4,
   "id": "b3f52c4c-0f71-42f5-b0a3-20853d19f15c",
   "metadata": {},
   "outputs": [],
   "source": [
    "# Drop corrupted sample \n",
    "idx = X_train.index[X_train[\"filename\"] == \"jazz.00054.wav\"]\n",
    "X_train = X_train.drop(index=idx)\n",
    "y_train = y_train.drop(index=idx)"
   ]
  },
  {
   "cell_type": "code",
   "execution_count": 5,
   "id": "5a94ba90-5c92-432a-9a7e-40ed4a617ebe",
   "metadata": {},
   "outputs": [
    {
     "data": {
      "application/vnd.jupyter.widget-view+json": {
       "model_id": "8c48d2612f4246319c76d1048f624669",
       "version_major": 2,
       "version_minor": 0
      },
      "text/plain": [
       "MetricVisualizer(layout=Layout(align_self='stretch', height='500px'))"
      ]
     },
     "metadata": {},
     "output_type": "display_data"
    },
    {
     "name": "stdout",
     "output_type": "stream",
     "text": [
      "0:\tlearn: 0.3648069\ttest: 0.3433333\tbest: 0.3433333 (0)\ttotal: 61.9ms\tremaining: 30.9s\n",
      "50:\tlearn: 0.7367668\ttest: 0.6566667\tbest: 0.6700000 (47)\ttotal: 199ms\tremaining: 1.75s\n",
      "100:\tlearn: 0.8211731\ttest: 0.7200000\tbest: 0.7233333 (98)\ttotal: 339ms\tremaining: 1.34s\n",
      "150:\tlearn: 0.8726753\ttest: 0.7300000\tbest: 0.7400000 (122)\ttotal: 475ms\tremaining: 1.1s\n",
      "200:\tlearn: 0.9070100\ttest: 0.7366667\tbest: 0.7466667 (182)\ttotal: 612ms\tremaining: 911ms\n",
      "250:\tlearn: 0.9313305\ttest: 0.7366667\tbest: 0.7533333 (218)\ttotal: 752ms\tremaining: 746ms\n",
      "300:\tlearn: 0.9484979\ttest: 0.7533333\tbest: 0.7533333 (218)\ttotal: 896ms\tremaining: 592ms\n",
      "350:\tlearn: 0.9670959\ttest: 0.7466667\tbest: 0.7600000 (318)\ttotal: 1.05s\tremaining: 444ms\n",
      "400:\tlearn: 0.9728183\ttest: 0.7466667\tbest: 0.7600000 (318)\ttotal: 1.2s\tremaining: 296ms\n",
      "450:\tlearn: 0.9756795\ttest: 0.7400000\tbest: 0.7600000 (318)\ttotal: 1.37s\tremaining: 149ms\n",
      "499:\tlearn: 0.9842632\ttest: 0.7466667\tbest: 0.7600000 (318)\ttotal: 1.51s\tremaining: 0us\n",
      "\n",
      "bestTest = 0.76\n",
      "bestIteration = 318\n",
      "\n",
      "Shrink model to first 319 iterations.\n",
      "\n",
      "Classification Report:\n",
      "               precision    recall  f1-score   support\n",
      "\n",
      "       blues       0.76      0.63      0.69        30\n",
      "   classical       0.97      0.97      0.97        30\n",
      "     country       0.79      0.77      0.78        30\n",
      "       disco       0.62      0.53      0.57        30\n",
      "      hiphop       0.59      0.80      0.68        30\n",
      "        jazz       0.85      0.93      0.89        30\n",
      "       metal       0.86      0.83      0.85        30\n",
      "         pop       0.85      0.93      0.89        30\n",
      "      reggae       0.67      0.67      0.67        30\n",
      "        rock       0.67      0.53      0.59        30\n",
      "\n",
      "    accuracy                           0.76       300\n",
      "   macro avg       0.76      0.76      0.76       300\n",
      "weighted avg       0.76      0.76      0.76       300\n",
      "\n",
      "Evaluation Accuracy: 0.7600\n"
     ]
    }
   ],
   "source": [
    "model, acc = train_and_evaluate_catboost(\n",
    "    X_eval.index.to_numpy(), \n",
    "    X_train.drop(columns=[\"filename\", \"length\"]).to_numpy(), \n",
    "    X_eval.drop(columns=[\"filename\", \"length\"]).to_numpy(), \n",
    "    y_train.to_numpy(), \n",
    "    y_eval.to_numpy()\n",
    ")"
   ]
  },
  {
   "cell_type": "code",
   "execution_count": 6,
   "id": "0310d7af-e347-4531-9b6b-7d8602f4a5f1",
   "metadata": {},
   "outputs": [],
   "source": [
    "import soundfile as sf\n",
    "import librosa\n",
    "import numpy as np\n",
    "from resampy import resample"
   ]
  },
  {
   "cell_type": "code",
   "execution_count": 7,
   "id": "c87f01e0-8eaa-4e53-acdb-4c2aa06decb5",
   "metadata": {},
   "outputs": [
    {
     "data": {
      "application/vnd.jupyter.widget-view+json": {
       "model_id": "f511b9e6a5e040e08b7f997a9477b31a",
       "version_major": 2,
       "version_minor": 0
      },
      "text/plain": [
       "audio:   0%|          | 0/699 [00:00<?, ?it/s]"
      ]
     },
     "metadata": {},
     "output_type": "display_data"
    },
    {
     "data": {
      "application/vnd.jupyter.widget-view+json": {
       "model_id": "e2aa171b033e4f69a54194a3bff97870",
       "version_major": 2,
       "version_minor": 0
      },
      "text/plain": [
       "audio:   0%|          | 0/300 [00:00<?, ?it/s]"
      ]
     },
     "metadata": {},
     "output_type": "display_data"
    }
   ],
   "source": [
    "E_train = Extractor(\n",
    "    idx=[np.array([row[0]]) for row in X_train.iterrows()],\n",
    "    x=[row[1].to_numpy() for row in X_train.iterrows()],\n",
    "    y=[np.array([row]) for row in y_train],\n",
    "    train=True\n",
    ")\n",
    "E_eval = Extractor(\n",
    "    idx=[np.array([row[0]]) for row in X_eval.iterrows()],\n",
    "    x=[row[1].to_numpy() for row in X_eval.iterrows()],\n",
    "    y=[np.array([row]) for row in y_eval],\n",
    "    train=False\n",
    ")\n",
    "\n",
    "def load_audio(x) -> [np.ndarray]:\n",
    "    file_path = f\"dataset/Data/genres_original/{x[0].split('.')[0]}/{x[0]}\"\n",
    "    y, sr = sf.read(file_path)\n",
    "    if len(y.shape) == 2:  # Convert stereo to mono\n",
    "        y = np.mean(y, dim=0)\n",
    "    if sr != 22050:\n",
    "        y = resample(y, sr, 22050)\n",
    "    return y\n",
    "Extractor.register_extractor('audio', load_audio)\n",
    "E_train.full_extract()\n",
    "E_eval.full_extract()"
   ]
  },
  {
   "cell_type": "code",
   "execution_count": 8,
   "id": "9bbcf479-de45-4e9e-b3c4-7b15ce5a943c",
   "metadata": {},
   "outputs": [
    {
     "data": {
      "application/vnd.jupyter.widget-view+json": {
       "model_id": "bd018a81792b41949706305d4214d171",
       "version_major": 2,
       "version_minor": 0
      },
      "text/plain": [
       "stats:   0%|          | 0/699 [00:00<?, ?it/s]"
      ]
     },
     "metadata": {},
     "output_type": "display_data"
    },
    {
     "data": {
      "application/vnd.jupyter.widget-view+json": {
       "model_id": "ac69fd0c6a194d33b799eb7918b5eb42",
       "version_major": 2,
       "version_minor": 0
      },
      "text/plain": [
       "rms:   0%|          | 0/699 [00:00<?, ?it/s]"
      ]
     },
     "metadata": {},
     "output_type": "display_data"
    },
    {
     "data": {
      "application/vnd.jupyter.widget-view+json": {
       "model_id": "460be6d7b903468aa259ee4220438912",
       "version_major": 2,
       "version_minor": 0
      },
      "text/plain": [
       "stats:   0%|          | 0/300 [00:00<?, ?it/s]"
      ]
     },
     "metadata": {},
     "output_type": "display_data"
    },
    {
     "data": {
      "application/vnd.jupyter.widget-view+json": {
       "model_id": "aa071a2b099444e3b34c0c4a41056b55",
       "version_major": 2,
       "version_minor": 0
      },
      "text/plain": [
       "rms:   0%|          | 0/300 [00:00<?, ?it/s]"
      ]
     },
     "metadata": {},
     "output_type": "display_data"
    }
   ],
   "source": [
    "Extractor.register_extractor('stats', lambda x: x[2:])\n",
    "Extractor.register_extractor('rms', lambda audio: np.array([np.sqrt(np.mean(audio**2))]))\n",
    "E_train.soft_extract()\n",
    "E_eval.soft_extract()"
   ]
  },
  {
   "cell_type": "code",
   "execution_count": 9,
   "id": "fafcb966-7dc7-423a-bf6b-f961633ca6b3",
   "metadata": {},
   "outputs": [],
   "source": [
    "import librosa\n",
    "import soundfile as sf\n",
    "from resampy import resample\n",
    "from tqdm.notebook import tqdm\n",
    "\n",
    "sr = 22050\n",
    "hop_length = 512\n",
    "n_mfcc = 20\n",
    "n_mels = 128\n",
    "n_bins = 84\n",
    "bins_per_octave = 12\n",
    "fmin = librosa.note_to_hz(\"C1\")\n",
    "\n",
    "\n",
    "def mel(audio):\n",
    "    # Calculate MelSpectrogram\n",
    "    mel_spectrogram = librosa.feature.melspectrogram(y=audio, sr=sr, n_mels=n_mels)\n",
    "    mel_spectrogram = librosa.power_to_db(mel_spectrogram, ref=np.max)  # Convert to decibel scale\n",
    "    return mel_spectrogram\n",
    "\n",
    "Extractor.register_extractor('mel', mel)\n",
    "Extractor.register_extractor('cqt', lambda audio: np.abs(librosa.cqt(audio, sr=sr, hop_length=hop_length, fmin=fmin, bins_per_octave=bins_per_octave, n_bins=n_bins)))\n",
    "Extractor.register_extractor('stft', lambda audio: librosa.stft(audio, hop_length=hop_length))\n",
    "Extractor.register_extractor('mfcc', lambda audio: librosa.feature.mfcc(y=audio, sr=sr, n_mfcc=n_mfcc))\n"
   ]
  },
  {
   "cell_type": "code",
   "execution_count": 10,
   "id": "925aff54-a495-4557-8975-e573bf48f98b",
   "metadata": {},
   "outputs": [
    {
     "data": {
      "application/vnd.jupyter.widget-view+json": {
       "model_id": "0f1ce3022a7d4abea14eeaac8a3e8a8a",
       "version_major": 2,
       "version_minor": 0
      },
      "text/plain": [
       "mel:   0%|          | 0/699 [00:00<?, ?it/s]"
      ]
     },
     "metadata": {},
     "output_type": "display_data"
    },
    {
     "data": {
      "application/vnd.jupyter.widget-view+json": {
       "model_id": "6139e14734044a13919af9f41892a79c",
       "version_major": 2,
       "version_minor": 0
      },
      "text/plain": [
       "cqt:   0%|          | 0/699 [00:00<?, ?it/s]"
      ]
     },
     "metadata": {},
     "output_type": "display_data"
    },
    {
     "data": {
      "application/vnd.jupyter.widget-view+json": {
       "model_id": "f552f6319c71481e9036c0e1098b4254",
       "version_major": 2,
       "version_minor": 0
      },
      "text/plain": [
       "stft:   0%|          | 0/699 [00:00<?, ?it/s]"
      ]
     },
     "metadata": {},
     "output_type": "display_data"
    },
    {
     "data": {
      "application/vnd.jupyter.widget-view+json": {
       "model_id": "82178c6dd3d4474fb38dadbc55febfd2",
       "version_major": 2,
       "version_minor": 0
      },
      "text/plain": [
       "mfcc:   0%|          | 0/699 [00:00<?, ?it/s]"
      ]
     },
     "metadata": {},
     "output_type": "display_data"
    },
    {
     "data": {
      "application/vnd.jupyter.widget-view+json": {
       "model_id": "5a4b63450ee44d42a31a38ec0a436534",
       "version_major": 2,
       "version_minor": 0
      },
      "text/plain": [
       "mel:   0%|          | 0/300 [00:00<?, ?it/s]"
      ]
     },
     "metadata": {},
     "output_type": "display_data"
    },
    {
     "data": {
      "application/vnd.jupyter.widget-view+json": {
       "model_id": "08c74d32027d4689a088b906b5401260",
       "version_major": 2,
       "version_minor": 0
      },
      "text/plain": [
       "cqt:   0%|          | 0/300 [00:00<?, ?it/s]"
      ]
     },
     "metadata": {},
     "output_type": "display_data"
    },
    {
     "data": {
      "application/vnd.jupyter.widget-view+json": {
       "model_id": "56204a56fcce47759139209cd58671b0",
       "version_major": 2,
       "version_minor": 0
      },
      "text/plain": [
       "stft:   0%|          | 0/300 [00:00<?, ?it/s]"
      ]
     },
     "metadata": {},
     "output_type": "display_data"
    },
    {
     "data": {
      "application/vnd.jupyter.widget-view+json": {
       "model_id": "f80788feb24a43aa9a80f1b9b7a54250",
       "version_major": 2,
       "version_minor": 0
      },
      "text/plain": [
       "mfcc:   0%|          | 0/300 [00:00<?, ?it/s]"
      ]
     },
     "metadata": {},
     "output_type": "display_data"
    }
   ],
   "source": [
    "E_train.soft_extract()\n",
    "E_eval.soft_extract()"
   ]
  },
  {
   "cell_type": "code",
   "execution_count": 11,
   "id": "e2014469-6b29-480a-a919-03057c27e6cb",
   "metadata": {},
   "outputs": [],
   "source": [
    "import matplotlib.pyplot as plt"
   ]
  },
  {
   "cell_type": "code",
   "execution_count": 12,
   "id": "f3d88988-ce55-4fc3-b181-2cfaeeaf274b",
   "metadata": {},
   "outputs": [],
   "source": [
    "hop_length=512\n",
    "Extractor.register_extractor('bpm_beat', lambda audio: librosa.beat.beat_track(y=audio, sr=sr, hop_length=hop_length))\n",
    "Extractor.register_extractor('bpm', lambda bpm_beat: bpm_beat[0])\n",
    "Extractor.register_extractor('beat', lambda bpm_beat: bpm_beat[1])"
   ]
  },
  {
   "cell_type": "code",
   "execution_count": 13,
   "id": "15027598-f607-4097-9312-a0ae8e42f768",
   "metadata": {},
   "outputs": [
    {
     "data": {
      "application/vnd.jupyter.widget-view+json": {
       "model_id": "51f54b25762b444b8a51fb8c5a009a51",
       "version_major": 2,
       "version_minor": 0
      },
      "text/plain": [
       "bpm_beat:   0%|          | 0/699 [00:00<?, ?it/s]"
      ]
     },
     "metadata": {},
     "output_type": "display_data"
    },
    {
     "data": {
      "application/vnd.jupyter.widget-view+json": {
       "model_id": "5f818005b86240db93c6e12af2ace6a4",
       "version_major": 2,
       "version_minor": 0
      },
      "text/plain": [
       "bpm:   0%|          | 0/699 [00:00<?, ?it/s]"
      ]
     },
     "metadata": {},
     "output_type": "display_data"
    },
    {
     "data": {
      "application/vnd.jupyter.widget-view+json": {
       "model_id": "164f8f18a9d84570b7b46c34459674d7",
       "version_major": 2,
       "version_minor": 0
      },
      "text/plain": [
       "beat:   0%|          | 0/699 [00:00<?, ?it/s]"
      ]
     },
     "metadata": {},
     "output_type": "display_data"
    },
    {
     "data": {
      "application/vnd.jupyter.widget-view+json": {
       "model_id": "ae20ee643f724e4188b87db771d1475e",
       "version_major": 2,
       "version_minor": 0
      },
      "text/plain": [
       "bpm_beat:   0%|          | 0/300 [00:00<?, ?it/s]"
      ]
     },
     "metadata": {},
     "output_type": "display_data"
    },
    {
     "data": {
      "application/vnd.jupyter.widget-view+json": {
       "model_id": "fb5e02463202422ab1dd6639f051a509",
       "version_major": 2,
       "version_minor": 0
      },
      "text/plain": [
       "bpm:   0%|          | 0/300 [00:00<?, ?it/s]"
      ]
     },
     "metadata": {},
     "output_type": "display_data"
    },
    {
     "data": {
      "application/vnd.jupyter.widget-view+json": {
       "model_id": "2ce0a7d0c872402ebc4b328337772a63",
       "version_major": 2,
       "version_minor": 0
      },
      "text/plain": [
       "beat:   0%|          | 0/300 [00:00<?, ?it/s]"
      ]
     },
     "metadata": {},
     "output_type": "display_data"
    }
   ],
   "source": [
    "E_train.soft_extract()\n",
    "E_eval.soft_extract()"
   ]
  },
  {
   "cell_type": "code",
   "execution_count": 14,
   "id": "1476f645-8857-45c2-9600-a472f649171a",
   "metadata": {},
   "outputs": [],
   "source": [
    "Extractor.register_extractor('cqt_hpss', lambda cqt: librosa.decompose.hpss(cqt))\n",
    "Extractor.register_extractor('harmonic', lambda cqt_hpss: cqt_hpss[0])\n",
    "Extractor.register_extractor('percussive', lambda cqt_hpss: cqt_hpss[1])"
   ]
  },
  {
   "cell_type": "code",
   "execution_count": 15,
   "id": "3ff04c83-d4e3-4c8b-a755-e2204fcfd015",
   "metadata": {},
   "outputs": [
    {
     "data": {
      "application/vnd.jupyter.widget-view+json": {
       "model_id": "3892a9509a01467bab7da49aa64441d3",
       "version_major": 2,
       "version_minor": 0
      },
      "text/plain": [
       "cqt_hpss:   0%|          | 0/699 [00:00<?, ?it/s]"
      ]
     },
     "metadata": {},
     "output_type": "display_data"
    },
    {
     "data": {
      "application/vnd.jupyter.widget-view+json": {
       "model_id": "0abd8dd6c70b41f2bcdb476d86141d28",
       "version_major": 2,
       "version_minor": 0
      },
      "text/plain": [
       "harmonic:   0%|          | 0/699 [00:00<?, ?it/s]"
      ]
     },
     "metadata": {},
     "output_type": "display_data"
    },
    {
     "data": {
      "application/vnd.jupyter.widget-view+json": {
       "model_id": "78b45c5c67fe4eb9999256a647a67cd6",
       "version_major": 2,
       "version_minor": 0
      },
      "text/plain": [
       "percussive:   0%|          | 0/699 [00:00<?, ?it/s]"
      ]
     },
     "metadata": {},
     "output_type": "display_data"
    },
    {
     "data": {
      "application/vnd.jupyter.widget-view+json": {
       "model_id": "5de1401774eb4e67a7c6876bba80e2b6",
       "version_major": 2,
       "version_minor": 0
      },
      "text/plain": [
       "cqt_hpss:   0%|          | 0/300 [00:00<?, ?it/s]"
      ]
     },
     "metadata": {},
     "output_type": "display_data"
    },
    {
     "data": {
      "application/vnd.jupyter.widget-view+json": {
       "model_id": "a22ae4c8cdc442049a08a96cfa2e7cd3",
       "version_major": 2,
       "version_minor": 0
      },
      "text/plain": [
       "harmonic:   0%|          | 0/300 [00:00<?, ?it/s]"
      ]
     },
     "metadata": {},
     "output_type": "display_data"
    },
    {
     "data": {
      "application/vnd.jupyter.widget-view+json": {
       "model_id": "e894c15ca2474d4d89238400cbe79ffc",
       "version_major": 2,
       "version_minor": 0
      },
      "text/plain": [
       "percussive:   0%|          | 0/300 [00:00<?, ?it/s]"
      ]
     },
     "metadata": {},
     "output_type": "display_data"
    }
   ],
   "source": [
    "E_train.soft_extract()\n",
    "E_eval.soft_extract()"
   ]
  },
  {
   "cell_type": "code",
   "execution_count": 16,
   "id": "9c6a1c71-753e-4ed1-8d2d-5695c663b607",
   "metadata": {},
   "outputs": [
    {
     "data": {
      "text/plain": [
       "(0.0, 30.0)"
      ]
     },
     "execution_count": 16,
     "metadata": {},
     "output_type": "execute_result"
    },
    {
     "data": {
      "image/png": "[encoded data removed]",
      "text/plain": [
       "<Figure size 640x480 with 1 Axes>"
      ]
     },
     "metadata": {},
     "output_type": "display_data"
    }
   ],
   "source": [
    "plt.pcolor(E_train.features['percussive'][0])\n",
    "plt.vlines(E_train.features['beat'][0], 10, 30)\n",
    "plt.xlim(0, 200)\n",
    "plt.ylim(0, 30)"
   ]
  },
  {
   "cell_type": "code",
   "execution_count": 17,
   "id": "25e49140-a2e1-4036-8ded-258b54d5fe6f",
   "metadata": {},
   "outputs": [],
   "source": [
    "Extractor.register_extractor('cqt_per_freq_mean', lambda cqt: cqt.mean(axis=1))\n",
    "Extractor.register_extractor('cqt_per_freq_var', lambda cqt: cqt.var(axis=1))\n",
    "Extractor.register_extractor('harmonic_per_freq_mean', lambda harmonic: harmonic.mean(axis=1))\n",
    "Extractor.register_extractor('harmonic_per_freq_var', lambda harmonic: harmonic.var(axis=1))\n",
    "Extractor.register_extractor('percussive_per_freq_mean', lambda percussive: percussive.mean(axis=1))\n",
    "Extractor.register_extractor('percussive_per_freq_var', lambda percussive: percussive.var(axis=1))"
   ]
  },
  {
   "cell_type": "code",
   "execution_count": 18,
   "id": "9f567244-757f-4a77-ba01-8a2b9006e470",
   "metadata": {},
   "outputs": [
    {
     "data": {
      "application/vnd.jupyter.widget-view+json": {
       "model_id": "9fd36590def742f2a1d7cac732758a2a",
       "version_major": 2,
       "version_minor": 0
      },
      "text/plain": [
       "cqt_per_freq_mean:   0%|          | 0/699 [00:00<?, ?it/s]"
      ]
     },
     "metadata": {},
     "output_type": "display_data"
    },
    {
     "data": {
      "application/vnd.jupyter.widget-view+json": {
       "model_id": "a430c324a6a74107a096a9b54965977c",
       "version_major": 2,
       "version_minor": 0
      },
      "text/plain": [
       "cqt_per_freq_var:   0%|          | 0/699 [00:00<?, ?it/s]"
      ]
     },
     "metadata": {},
     "output_type": "display_data"
    },
    {
     "data": {
      "application/vnd.jupyter.widget-view+json": {
       "model_id": "4cf724cd48e543baa811f8474c309d9c",
       "version_major": 2,
       "version_minor": 0
      },
      "text/plain": [
       "harmonic_per_freq_mean:   0%|          | 0/699 [00:00<?, ?it/s]"
      ]
     },
     "metadata": {},
     "output_type": "display_data"
    },
    {
     "data": {
      "application/vnd.jupyter.widget-view+json": {
       "model_id": "44ad5da48ed548bea7685b0a46a7fb5b",
       "version_major": 2,
       "version_minor": 0
      },
      "text/plain": [
       "harmonic_per_freq_var:   0%|          | 0/699 [00:00<?, ?it/s]"
      ]
     },
     "metadata": {},
     "output_type": "display_data"
    },
    {
     "data": {
      "application/vnd.jupyter.widget-view+json": {
       "model_id": "eda9bf27dd1a45829f335f7f8dc6004d",
       "version_major": 2,
       "version_minor": 0
      },
      "text/plain": [
       "percussive_per_freq_mean:   0%|          | 0/699 [00:00<?, ?it/s]"
      ]
     },
     "metadata": {},
     "output_type": "display_data"
    },
    {
     "data": {
      "application/vnd.jupyter.widget-view+json": {
       "model_id": "e9fc11b061034b1c8b40b2dc77e929e6",
       "version_major": 2,
       "version_minor": 0
      },
      "text/plain": [
       "percussive_per_freq_var:   0%|          | 0/699 [00:00<?, ?it/s]"
      ]
     },
     "metadata": {},
     "output_type": "display_data"
    },
    {
     "data": {
      "application/vnd.jupyter.widget-view+json": {
       "model_id": "4be73eed8e7b4b728eb0dbd45b160502",
       "version_major": 2,
       "version_minor": 0
      },
      "text/plain": [
       "cqt_per_freq_mean:   0%|          | 0/300 [00:00<?, ?it/s]"
      ]
     },
     "metadata": {},
     "output_type": "display_data"
    },
    {
     "data": {
      "application/vnd.jupyter.widget-view+json": {
       "model_id": "dfc8956b51ae4bfea25f4785a98b1ab0",
       "version_major": 2,
       "version_minor": 0
      },
      "text/plain": [
       "cqt_per_freq_var:   0%|          | 0/300 [00:00<?, ?it/s]"
      ]
     },
     "metadata": {},
     "output_type": "display_data"
    },
    {
     "data": {
      "application/vnd.jupyter.widget-view+json": {
       "model_id": "8edeb0d62a0d4c42b2db9502c359ffbc",
       "version_major": 2,
       "version_minor": 0
      },
      "text/plain": [
       "harmonic_per_freq_mean:   0%|          | 0/300 [00:00<?, ?it/s]"
      ]
     },
     "metadata": {},
     "output_type": "display_data"
    },
    {
     "data": {
      "application/vnd.jupyter.widget-view+json": {
       "model_id": "28f720d0b05640059857b6df15a03370",
       "version_major": 2,
       "version_minor": 0
      },
      "text/plain": [
       "harmonic_per_freq_var:   0%|          | 0/300 [00:00<?, ?it/s]"
      ]
     },
     "metadata": {},
     "output_type": "display_data"
    },
    {
     "data": {
      "application/vnd.jupyter.widget-view+json": {
       "model_id": "78ee54ac757149e1b09cebc119e5bc6c",
       "version_major": 2,
       "version_minor": 0
      },
      "text/plain": [
       "percussive_per_freq_mean:   0%|          | 0/300 [00:00<?, ?it/s]"
      ]
     },
     "metadata": {},
     "output_type": "display_data"
    },
    {
     "data": {
      "application/vnd.jupyter.widget-view+json": {
       "model_id": "e6318a6b4d8f43d3b09bdc91a6c35897",
       "version_major": 2,
       "version_minor": 0
      },
      "text/plain": [
       "percussive_per_freq_var:   0%|          | 0/300 [00:00<?, ?it/s]"
      ]
     },
     "metadata": {},
     "output_type": "display_data"
    }
   ],
   "source": [
    "E_train.soft_extract()\n",
    "E_eval.soft_extract()"
   ]
  },
  {
   "cell_type": "code",
   "execution_count": 19,
   "id": "1ee29554-008c-4aed-9263-8fd83b86a477",
   "metadata": {},
   "outputs": [
    {
     "data": {
      "application/vnd.jupyter.widget-view+json": {
       "model_id": "d40d7d0865e648a8bd7250e6af835e1d",
       "version_major": 2,
       "version_minor": 0
      },
      "text/plain": [
       "MetricVisualizer(layout=Layout(align_self='stretch', height='500px'))"
      ]
     },
     "metadata": {},
     "output_type": "display_data"
    },
    {
     "name": "stdout",
     "output_type": "stream",
     "text": [
      "0:\tlearn: 0.2689557\ttest: 0.3000000\tbest: 0.3000000 (0)\ttotal: 62.6ms\tremaining: 31.2s\n",
      "50:\tlearn: 0.6909871\ttest: 0.5766667\tbest: 0.5800000 (46)\ttotal: 1.44s\tremaining: 12.7s\n",
      "100:\tlearn: 0.7825465\ttest: 0.6166667\tbest: 0.6200000 (98)\ttotal: 2.69s\tremaining: 10.6s\n",
      "150:\tlearn: 0.8340486\ttest: 0.6266667\tbest: 0.6266667 (134)\ttotal: 4.08s\tremaining: 9.44s\n",
      "200:\tlearn: 0.8726753\ttest: 0.6500000\tbest: 0.6566667 (184)\ttotal: 5.42s\tremaining: 8.06s\n",
      "250:\tlearn: 0.9098712\ttest: 0.6600000\tbest: 0.6600000 (233)\ttotal: 6.77s\tremaining: 6.72s\n",
      "300:\tlearn: 0.9256080\ttest: 0.6600000\tbest: 0.6700000 (289)\ttotal: 8.13s\tremaining: 5.37s\n",
      "350:\tlearn: 0.9341917\ttest: 0.6766667\tbest: 0.6833333 (338)\ttotal: 9.34s\tremaining: 3.96s\n",
      "400:\tlearn: 0.9470672\ttest: 0.6833333\tbest: 0.6900000 (389)\ttotal: 10.7s\tremaining: 2.64s\n",
      "450:\tlearn: 0.9670959\ttest: 0.6933333\tbest: 0.6933333 (436)\ttotal: 12.3s\tremaining: 1.33s\n",
      "499:\tlearn: 0.9742489\ttest: 0.6933333\tbest: 0.6933333 (436)\ttotal: 14.4s\tremaining: 0us\n",
      "\n",
      "bestTest = 0.6933333333\n",
      "bestIteration = 436\n",
      "\n",
      "Shrink model to first 437 iterations.\n",
      "\n",
      "Classification Report:\n",
      "               precision    recall  f1-score   support\n",
      "\n",
      "       blues       0.75      0.60      0.67        30\n",
      "   classical       0.88      0.97      0.92        30\n",
      "     country       0.65      0.57      0.61        30\n",
      "       disco       0.78      0.60      0.68        30\n",
      "      hiphop       0.55      0.73      0.63        30\n",
      "        jazz       0.72      0.77      0.74        30\n",
      "       metal       0.86      0.80      0.83        30\n",
      "         pop       0.59      0.63      0.61        30\n",
      "      reggae       0.71      0.73      0.72        30\n",
      "        rock       0.52      0.53      0.52        30\n",
      "\n",
      "    accuracy                           0.69       300\n",
      "   macro avg       0.70      0.69      0.69       300\n",
      "weighted avg       0.70      0.69      0.69       300\n",
      "\n",
      "Evaluation Accuracy: 0.6933\n"
     ]
    }
   ],
   "source": [
    "features = ['cqt_per_freq_mean', 'cqt_per_freq_var', 'harmonic_per_freq_mean', 'harmonic_per_freq_var', 'percussive_per_freq_mean', 'percussive_per_freq_var']\n",
    "\n",
    "model, acc = train_and_evaluate_catboost(\n",
    "    idx_eval=E_eval.get_features(['idx'])[:,0],\n",
    "    X_train=E_train.get_features(features),\n",
    "    X_eval=E_eval.get_features(features),\n",
    "    y_train=E_train.get_features(['y'])[:,0], \n",
    "    y_eval=E_eval.get_features(['y'])[:,0],\n",
    ")"
   ]
  },
  {
   "cell_type": "code",
   "execution_count": 20,
   "id": "2146ffde-9fa4-439c-8caa-da70d5bcb00b",
   "metadata": {},
   "outputs": [],
   "source": [
    "Extractor.register_extractor('mfcc_quef_mean', lambda mfcc: mfcc.mean(axis=1))\n",
    "Extractor.register_extractor('mfcc_quef_var', lambda mfcc: mfcc.var(axis=1))\n",
    "\n",
    "# Usually STFT is used for spectral centroid, but I will use CQT, it may turn out to be even more precise.\n",
    "cqt_frequencies = librosa.cqt_frequencies(n_bins=n_bins, fmin=fmin, bins_per_octave=bins_per_octave)\n",
    "# Extractor.register_extractor('cqt_spectral_centroid', \n",
    "#                              lambda cqt: np.sum(cqt_frequencies.reshape(-1, 1) * librosa.util.normalize(cqt, norm=1, axis=0), axis=0))\n",
    "Extractor.register_extractor('cqt_spectral_centroid', \n",
    "                             lambda audio: librosa.feature.spectral_centroid(y=audio, sr=sr))\n",
    "\n",
    "Extractor.register_extractor('cqt_spectral_centroid_mean', lambda cqt_spectral_centroid: cqt_spectral_centroid.mean())\n",
    "Extractor.register_extractor('cqt_spectral_centroid_var', lambda cqt_spectral_centroid: cqt_spectral_centroid.var())\n",
    "\n",
    "cqt_frequencies = librosa.cqt_frequencies(n_bins=n_bins, fmin=fmin, bins_per_octave=bins_per_octave)\n",
    "chroma_map = librosa.filters.cq_to_chroma(cqt_frequencies.shape[0], bins_per_octave=bins_per_octave, n_chroma=bins_per_octave, fmin=fmin)\n",
    "Extractor.register_extractor('cqt_chroma', \n",
    "                             lambda cqt: np.dot(chroma_map, cqt))\n",
    "Extractor.register_extractor('cqt_chroma_freq_mean', lambda cqt_chroma: cqt_chroma.mean(axis=1))\n",
    "Extractor.register_extractor('cqt_chroma_freq_var', lambda cqt_chroma: cqt_chroma.var(axis=1))\n",
    "Extractor.register_extractor('cqt_chroma_mean', lambda cqt_chroma: cqt_chroma.mean())\n",
    "Extractor.register_extractor('cqt_chroma_var', lambda cqt_chroma: cqt_chroma.var())\n",
    "\n",
    "Extractor.register_extractor('harmonic_chroma', \n",
    "                             lambda harmonic: np.dot(chroma_map, harmonic))\n",
    "Extractor.register_extractor('harmonic_chroma_freq_mean', lambda harmonic_chroma: harmonic_chroma.mean(axis=1))\n",
    "Extractor.register_extractor('harmonic_chroma_freq_var', lambda harmonic_chroma: harmonic_chroma.var(axis=1))\n",
    "Extractor.register_extractor('harmonic_chroma_mean', lambda harmonic_chroma: harmonic_chroma.mean())\n",
    "Extractor.register_extractor('harmonic_chroma_var', lambda harmonic_chroma: harmonic_chroma.var())\n",
    "\n",
    "roll_percent = 0.85\n",
    "# Extractor.register_extractor('cqt_rolloff', \n",
    "#                              lambda cqt: librosa.feature.spectral.spectral_rolloff(S=cqt, freq=cqt_frequencies, roll_percent=roll_percent))\n",
    "Extractor.register_extractor('cqt_rolloff', \n",
    "                             lambda audio: librosa.feature.spectral.spectral_rolloff(y=audio, sr=sr, roll_percent=roll_percent))\n",
    "\n",
    "Extractor.register_extractor('cqt_rolloff_mean', lambda cqt_rolloff: cqt_rolloff.mean())\n",
    "Extractor.register_extractor('cqt_rolloff_var', lambda cqt_rolloff: cqt_rolloff.var())\n",
    "\n",
    "# Extractor.register_extractor('cqt_bandwidth', \n",
    "#                              lambda cqt: librosa.feature.spectral.spectral_bandwidth(S=cqt, freq=cqt_frequencies))\n",
    "Extractor.register_extractor('cqt_bandwidth', \n",
    "                             lambda audio: librosa.feature.spectral.spectral_bandwidth(y=audio, sr=sr))\n",
    "\n",
    "Extractor.register_extractor('cqt_bandwidth_mean', lambda cqt_bandwidth: cqt_bandwidth.mean())\n",
    "Extractor.register_extractor('cqt_bandwidth_var', lambda cqt_bandwidth: cqt_bandwidth.var())\n",
    "\n",
    "Extractor.register_extractor('zero_crossing_rate', \n",
    "                             lambda audio: librosa.feature.zero_crossing_rate(y=audio))\n",
    "\n",
    "Extractor.register_extractor('zero_crossing_rate_mean', lambda zero_crossing_rate: zero_crossing_rate.mean())\n",
    "Extractor.register_extractor('zero_crossing_rate_var', lambda zero_crossing_rate: zero_crossing_rate.var())\n",
    "\n",
    "\n",
    "Extractor.register_extractor('percept', lambda cqt: librosa.perceptual_weighting(cqt**2, cqt_frequencies, ref=np.max))\n",
    "Extractor.register_extractor('percept_freq_mean', lambda percept: percept.mean(axis=1))\n",
    "Extractor.register_extractor('percept_freq_var', lambda percept: percept.var(axis=1))\n",
    "Extractor.register_extractor('percept_mean', lambda percept: percept.mean())\n",
    "Extractor.register_extractor('percept_var', lambda percept: percept.var())\n",
    "\n",
    "Extractor.register_extractor('stft_chroma', lambda audio: librosa.feature.chroma_stft(y=audio, sr=sr))\n",
    "Extractor.register_extractor('stft_chroma_freq_mean', lambda stft_chroma: np.mean(stft_chroma, axis=1))\n",
    "Extractor.register_extractor('stft_chroma_freq_var', lambda stft_chroma: np.var(stft_chroma, axis=1))\n",
    "Extractor.register_extractor('stft_chroma_mean', lambda stft_chroma: np.mean(stft_chroma))\n",
    "Extractor.register_extractor('stft_chroma_var', lambda stft_chroma: np.var(stft_chroma))"
   ]
  },
  {
   "cell_type": "code",
   "execution_count": 21,
   "id": "5edcc359-2d58-42ce-8b19-f17ed29a822d",
   "metadata": {},
   "outputs": [
    {
     "data": {
      "application/vnd.jupyter.widget-view+json": {
       "model_id": "4e655c6152f54057881cb177ed981f58",
       "version_major": 2,
       "version_minor": 0
      },
      "text/plain": [
       "mfcc_quef_mean:   0%|          | 0/699 [00:00<?, ?it/s]"
      ]
     },
     "metadata": {},
     "output_type": "display_data"
    },
    {
     "data": {
      "application/vnd.jupyter.widget-view+json": {
       "model_id": "3c4f0b3a7a194fd4aabe10b1f695c30c",
       "version_major": 2,
       "version_minor": 0
      },
      "text/plain": [
       "mfcc_quef_var:   0%|          | 0/699 [00:00<?, ?it/s]"
      ]
     },
     "metadata": {},
     "output_type": "display_data"
    },
    {
     "data": {
      "application/vnd.jupyter.widget-view+json": {
       "model_id": "256d245c606443f1abaf8c5a2c50a5b0",
       "version_major": 2,
       "version_minor": 0
      },
      "text/plain": [
       "cqt_spectral_centroid:   0%|          | 0/699 [00:00<?, ?it/s]"
      ]
     },
     "metadata": {},
     "output_type": "display_data"
    },
    {
     "data": {
      "application/vnd.jupyter.widget-view+json": {
       "model_id": "fadbc27255c547898dc703050aea7471",
       "version_major": 2,
       "version_minor": 0
      },
      "text/plain": [
       "cqt_spectral_centroid_mean:   0%|          | 0/699 [00:00<?, ?it/s]"
      ]
     },
     "metadata": {},
     "output_type": "display_data"
    },
    {
     "data": {
      "application/vnd.jupyter.widget-view+json": {
       "model_id": "b478570a47824f919e7e5d1f21b570bc",
       "version_major": 2,
       "version_minor": 0
      },
      "text/plain": [
       "cqt_spectral_centroid_var:   0%|          | 0/699 [00:00<?, ?it/s]"
      ]
     },
     "metadata": {},
     "output_type": "display_data"
    },
    {
     "data": {
      "application/vnd.jupyter.widget-view+json": {
       "model_id": "31c08dbc89cc4c3b8d26b39c62f42c5e",
       "version_major": 2,
       "version_minor": 0
      },
      "text/plain": [
       "cqt_chroma:   0%|          | 0/699 [00:00<?, ?it/s]"
      ]
     },
     "metadata": {},
     "output_type": "display_data"
    },
    {
     "data": {
      "application/vnd.jupyter.widget-view+json": {
       "model_id": "c55acb8d8aba49339edb8b2a762f429b",
       "version_major": 2,
       "version_minor": 0
      },
      "text/plain": [
       "cqt_chroma_freq_mean:   0%|          | 0/699 [00:00<?, ?it/s]"
      ]
     },
     "metadata": {},
     "output_type": "display_data"
    },
    {
     "data": {
      "application/vnd.jupyter.widget-view+json": {
       "model_id": "582c1aa72c5c4efe9e96646dcf4eb1fe",
       "version_major": 2,
       "version_minor": 0
      },
      "text/plain": [
       "cqt_chroma_freq_var:   0%|          | 0/699 [00:00<?, ?it/s]"
      ]
     },
     "metadata": {},
     "output_type": "display_data"
    },
    {
     "data": {
      "application/vnd.jupyter.widget-view+json": {
       "model_id": "a3f5249a317a41d08c2fb40446c2644c",
       "version_major": 2,
       "version_minor": 0
      },
      "text/plain": [
       "cqt_chroma_mean:   0%|          | 0/699 [00:00<?, ?it/s]"
      ]
     },
     "metadata": {},
     "output_type": "display_data"
    },
    {
     "data": {
      "application/vnd.jupyter.widget-view+json": {
       "model_id": "fb0ef65ebcfe419581505aea295be651",
       "version_major": 2,
       "version_minor": 0
      },
      "text/plain": [
       "cqt_chroma_var:   0%|          | 0/699 [00:00<?, ?it/s]"
      ]
     },
     "metadata": {},
     "output_type": "display_data"
    },
    {
     "data": {
      "application/vnd.jupyter.widget-view+json": {
       "model_id": "bf675322d2034f4f9049b5c3d17cf90e",
       "version_major": 2,
       "version_minor": 0
      },
      "text/plain": [
       "harmonic_chroma:   0%|          | 0/699 [00:00<?, ?it/s]"
      ]
     },
     "metadata": {},
     "output_type": "display_data"
    },
    {
     "data": {
      "application/vnd.jupyter.widget-view+json": {
       "model_id": "3bf4bcc03cd942d584a257601918377a",
       "version_major": 2,
       "version_minor": 0
      },
      "text/plain": [
       "harmonic_chroma_freq_mean:   0%|          | 0/699 [00:00<?, ?it/s]"
      ]
     },
     "metadata": {},
     "output_type": "display_data"
    },
    {
     "data": {
      "application/vnd.jupyter.widget-view+json": {
       "model_id": "832d975eb07f4ee3baceabcabcbed0c6",
       "version_major": 2,
       "version_minor": 0
      },
      "text/plain": [
       "harmonic_chroma_freq_var:   0%|          | 0/699 [00:00<?, ?it/s]"
      ]
     },
     "metadata": {},
     "output_type": "display_data"
    },
    {
     "data": {
      "application/vnd.jupyter.widget-view+json": {
       "model_id": "41442bf7cff44b79a4fd60c90a3cffe5",
       "version_major": 2,
       "version_minor": 0
      },
      "text/plain": [
       "harmonic_chroma_mean:   0%|          | 0/699 [00:00<?, ?it/s]"
      ]
     },
     "metadata": {},
     "output_type": "display_data"
    },
    {
     "data": {
      "application/vnd.jupyter.widget-view+json": {
       "model_id": "059a4559e2234ccabbc440541e580073",
       "version_major": 2,
       "version_minor": 0
      },
      "text/plain": [
       "harmonic_chroma_var:   0%|          | 0/699 [00:00<?, ?it/s]"
      ]
     },
     "metadata": {},
     "output_type": "display_data"
    },
    {
     "data": {
      "application/vnd.jupyter.widget-view+json": {
       "model_id": "6016ce2200aa4ddcb7ebac3bf47f0e73",
       "version_major": 2,
       "version_minor": 0
      },
      "text/plain": [
       "cqt_rolloff:   0%|          | 0/699 [00:00<?, ?it/s]"
      ]
     },
     "metadata": {},
     "output_type": "display_data"
    },
    {
     "data": {
      "application/vnd.jupyter.widget-view+json": {
       "model_id": "ced8608bbb8a4a14a8074e558a968c23",
       "version_major": 2,
       "version_minor": 0
      },
      "text/plain": [
       "cqt_rolloff_mean:   0%|          | 0/699 [00:00<?, ?it/s]"
      ]
     },
     "metadata": {},
     "output_type": "display_data"
    },
    {
     "data": {
      "application/vnd.jupyter.widget-view+json": {
       "model_id": "1acf426253124f85bc09509646e28aca",
       "version_major": 2,
       "version_minor": 0
      },
      "text/plain": [
       "cqt_rolloff_var:   0%|          | 0/699 [00:00<?, ?it/s]"
      ]
     },
     "metadata": {},
     "output_type": "display_data"
    },
    {
     "data": {
      "application/vnd.jupyter.widget-view+json": {
       "model_id": "79548a7b5c4341d2b3ea9f4d4bf658fd",
       "version_major": 2,
       "version_minor": 0
      },
      "text/plain": [
       "cqt_bandwidth:   0%|          | 0/699 [00:00<?, ?it/s]"
      ]
     },
     "metadata": {},
     "output_type": "display_data"
    },
    {
     "data": {
      "application/vnd.jupyter.widget-view+json": {
       "model_id": "8b6a64f11aa64606b9b90c0b389b240d",
       "version_major": 2,
       "version_minor": 0
      },
      "text/plain": [
       "cqt_bandwidth_mean:   0%|          | 0/699 [00:00<?, ?it/s]"
      ]
     },
     "metadata": {},
     "output_type": "display_data"
    },
    {
     "data": {
      "application/vnd.jupyter.widget-view+json": {
       "model_id": "9a8d038cb77947a0bfe80221228f5ccc",
       "version_major": 2,
       "version_minor": 0
      },
      "text/plain": [
       "cqt_bandwidth_var:   0%|          | 0/699 [00:00<?, ?it/s]"
      ]
     },
     "metadata": {},
     "output_type": "display_data"
    },
    {
     "data": {
      "application/vnd.jupyter.widget-view+json": {
       "model_id": "1d9665090ca847569d407ca86a8ec175",
       "version_major": 2,
       "version_minor": 0
      },
      "text/plain": [
       "zero_crossing_rate:   0%|          | 0/699 [00:00<?, ?it/s]"
      ]
     },
     "metadata": {},
     "output_type": "display_data"
    },
    {
     "data": {
      "application/vnd.jupyter.widget-view+json": {
       "model_id": "82f1a2638c8549948a31dd74cbee7fd9",
       "version_major": 2,
       "version_minor": 0
      },
      "text/plain": [
       "zero_crossing_rate_mean:   0%|          | 0/699 [00:00<?, ?it/s]"
      ]
     },
     "metadata": {},
     "output_type": "display_data"
    },
    {
     "data": {
      "application/vnd.jupyter.widget-view+json": {
       "model_id": "f6f43cb1b2294728b63d4560a497706c",
       "version_major": 2,
       "version_minor": 0
      },
      "text/plain": [
       "zero_crossing_rate_var:   0%|          | 0/699 [00:00<?, ?it/s]"
      ]
     },
     "metadata": {},
     "output_type": "display_data"
    },
    {
     "data": {
      "application/vnd.jupyter.widget-view+json": {
       "model_id": "8a56af1ec98f4dc8b489778a8094e1fa",
       "version_major": 2,
       "version_minor": 0
      },
      "text/plain": [
       "percept:   0%|          | 0/699 [00:00<?, ?it/s]"
      ]
     },
     "metadata": {},
     "output_type": "display_data"
    },
    {
     "data": {
      "application/vnd.jupyter.widget-view+json": {
       "model_id": "8acd5eec201f428cac51cb4e1488f5f4",
       "version_major": 2,
       "version_minor": 0
      },
      "text/plain": [
       "percept_freq_mean:   0%|          | 0/699 [00:00<?, ?it/s]"
      ]
     },
     "metadata": {},
     "output_type": "display_data"
    },
    {
     "data": {
      "application/vnd.jupyter.widget-view+json": {
       "model_id": "d3756cbbc4014029946aaa41ad0d4a6b",
       "version_major": 2,
       "version_minor": 0
      },
      "text/plain": [
       "percept_freq_var:   0%|          | 0/699 [00:00<?, ?it/s]"
      ]
     },
     "metadata": {},
     "output_type": "display_data"
    },
    {
     "data": {
      "application/vnd.jupyter.widget-view+json": {
       "model_id": "96e243fe464f4d73b639ef5b8d081019",
       "version_major": 2,
       "version_minor": 0
      },
      "text/plain": [
       "percept_mean:   0%|          | 0/699 [00:00<?, ?it/s]"
      ]
     },
     "metadata": {},
     "output_type": "display_data"
    },
    {
     "data": {
      "application/vnd.jupyter.widget-view+json": {
       "model_id": "7ea26a00564a4d579c0076142c56d954",
       "version_major": 2,
       "version_minor": 0
      },
      "text/plain": [
       "percept_var:   0%|          | 0/699 [00:00<?, ?it/s]"
      ]
     },
     "metadata": {},
     "output_type": "display_data"
    },
    {
     "data": {
      "application/vnd.jupyter.widget-view+json": {
       "model_id": "f44186fac3fb43078de1c40bcb16e101",
       "version_major": 2,
       "version_minor": 0
      },
      "text/plain": [
       "stft_chroma:   0%|          | 0/699 [00:00<?, ?it/s]"
      ]
     },
     "metadata": {},
     "output_type": "display_data"
    },
    {
     "data": {
      "application/vnd.jupyter.widget-view+json": {
       "model_id": "d7d9081fb3f74e19a369a4f60ec257b2",
       "version_major": 2,
       "version_minor": 0
      },
      "text/plain": [
       "stft_chroma_freq_mean:   0%|          | 0/699 [00:00<?, ?it/s]"
      ]
     },
     "metadata": {},
     "output_type": "display_data"
    },
    {
     "data": {
      "application/vnd.jupyter.widget-view+json": {
       "model_id": "68be6ced04e641ff8a07895bb84c26a8",
       "version_major": 2,
       "version_minor": 0
      },
      "text/plain": [
       "stft_chroma_freq_var:   0%|          | 0/699 [00:00<?, ?it/s]"
      ]
     },
     "metadata": {},
     "output_type": "display_data"
    },
    {
     "data": {
      "application/vnd.jupyter.widget-view+json": {
       "model_id": "1e117649bf734a60a29304797967fdd5",
       "version_major": 2,
       "version_minor": 0
      },
      "text/plain": [
       "stft_chroma_mean:   0%|          | 0/699 [00:00<?, ?it/s]"
      ]
     },
     "metadata": {},
     "output_type": "display_data"
    },
    {
     "data": {
      "application/vnd.jupyter.widget-view+json": {
       "model_id": "044b195eba98472784947cd81063ded9",
       "version_major": 2,
       "version_minor": 0
      },
      "text/plain": [
       "stft_chroma_var:   0%|          | 0/699 [00:00<?, ?it/s]"
      ]
     },
     "metadata": {},
     "output_type": "display_data"
    },
    {
     "data": {
      "application/vnd.jupyter.widget-view+json": {
       "model_id": "cc9c27569e7e4c1990c4898857afd3c9",
       "version_major": 2,
       "version_minor": 0
      },
      "text/plain": [
       "mfcc_quef_mean:   0%|          | 0/300 [00:00<?, ?it/s]"
      ]
     },
     "metadata": {},
     "output_type": "display_data"
    },
    {
     "data": {
      "application/vnd.jupyter.widget-view+json": {
       "model_id": "49cdec6c08324c21a7f92b0104602746",
       "version_major": 2,
       "version_minor": 0
      },
      "text/plain": [
       "mfcc_quef_var:   0%|          | 0/300 [00:00<?, ?it/s]"
      ]
     },
     "metadata": {},
     "output_type": "display_data"
    },
    {
     "data": {
      "application/vnd.jupyter.widget-view+json": {
       "model_id": "7fe0665ba2d8474b849683b86c748d95",
       "version_major": 2,
       "version_minor": 0
      },
      "text/plain": [
       "cqt_spectral_centroid:   0%|          | 0/300 [00:00<?, ?it/s]"
      ]
     },
     "metadata": {},
     "output_type": "display_data"
    },
    {
     "data": {
      "application/vnd.jupyter.widget-view+json": {
       "model_id": "07d3b8a9dbfe403da6eb77e8e6e38174",
       "version_major": 2,
       "version_minor": 0
      },
      "text/plain": [
       "cqt_spectral_centroid_mean:   0%|          | 0/300 [00:00<?, ?it/s]"
      ]
     },
     "metadata": {},
     "output_type": "display_data"
    },
    {
     "data": {
      "application/vnd.jupyter.widget-view+json": {
       "model_id": "9f00be04f94a4e0eaff2e557128a5bad",
       "version_major": 2,
       "version_minor": 0
      },
      "text/plain": [
       "cqt_spectral_centroid_var:   0%|          | 0/300 [00:00<?, ?it/s]"
      ]
     },
     "metadata": {},
     "output_type": "display_data"
    },
    {
     "data": {
      "application/vnd.jupyter.widget-view+json": {
       "model_id": "bafe65169e8843c8ad0f970c6fc17db5",
       "version_major": 2,
       "version_minor": 0
      },
      "text/plain": [
       "cqt_chroma:   0%|          | 0/300 [00:00<?, ?it/s]"
      ]
     },
     "metadata": {},
     "output_type": "display_data"
    },
    {
     "data": {
      "application/vnd.jupyter.widget-view+json": {
       "model_id": "32186f5528224eafac234a507888e1ec",
       "version_major": 2,
       "version_minor": 0
      },
      "text/plain": [
       "cqt_chroma_freq_mean:   0%|          | 0/300 [00:00<?, ?it/s]"
      ]
     },
     "metadata": {},
     "output_type": "display_data"
    },
    {
     "data": {
      "application/vnd.jupyter.widget-view+json": {
       "model_id": "6384e01d2ad34db9a3f5b3105f2a3a20",
       "version_major": 2,
       "version_minor": 0
      },
      "text/plain": [
       "cqt_chroma_freq_var:   0%|          | 0/300 [00:00<?, ?it/s]"
      ]
     },
     "metadata": {},
     "output_type": "display_data"
    },
    {
     "data": {
      "application/vnd.jupyter.widget-view+json": {
       "model_id": "f53e56abd1aa4508a538b0cbc4f4eee3",
       "version_major": 2,
       "version_minor": 0
      },
      "text/plain": [
       "cqt_chroma_mean:   0%|          | 0/300 [00:00<?, ?it/s]"
      ]
     },
     "metadata": {},
     "output_type": "display_data"
    },
    {
     "data": {
      "application/vnd.jupyter.widget-view+json": {
       "model_id": "eb5c1e9d78c74c1c829d132a5c8b2fae",
       "version_major": 2,
       "version_minor": 0
      },
      "text/plain": [
       "cqt_chroma_var:   0%|          | 0/300 [00:00<?, ?it/s]"
      ]
     },
     "metadata": {},
     "output_type": "display_data"
    },
    {
     "data": {
      "application/vnd.jupyter.widget-view+json": {
       "model_id": "bab47de761fb4eed9d7a8e58fa5d92f7",
       "version_major": 2,
       "version_minor": 0
      },
      "text/plain": [
       "harmonic_chroma:   0%|          | 0/300 [00:00<?, ?it/s]"
      ]
     },
     "metadata": {},
     "output_type": "display_data"
    },
    {
     "data": {
      "application/vnd.jupyter.widget-view+json": {
       "model_id": "0ae06e79726d402eb99e92e541853609",
       "version_major": 2,
       "version_minor": 0
      },
      "text/plain": [
       "harmonic_chroma_freq_mean:   0%|          | 0/300 [00:00<?, ?it/s]"
      ]
     },
     "metadata": {},
     "output_type": "display_data"
    },
    {
     "data": {
      "application/vnd.jupyter.widget-view+json": {
       "model_id": "2d918103fbd64ff295d9b03f1a6506b8",
       "version_major": 2,
       "version_minor": 0
      },
      "text/plain": [
       "harmonic_chroma_freq_var:   0%|          | 0/300 [00:00<?, ?it/s]"
      ]
     },
     "metadata": {},
     "output_type": "display_data"
    },
    {
     "data": {
      "application/vnd.jupyter.widget-view+json": {
       "model_id": "a1abc99c59394bd2b10bf6e687cb2a4e",
       "version_major": 2,
       "version_minor": 0
      },
      "text/plain": [
       "harmonic_chroma_mean:   0%|          | 0/300 [00:00<?, ?it/s]"
      ]
     },
     "metadata": {},
     "output_type": "display_data"
    },
    {
     "data": {
      "application/vnd.jupyter.widget-view+json": {
       "model_id": "1ce7dd810d924097927c7aed329051bc",
       "version_major": 2,
       "version_minor": 0
      },
      "text/plain": [
       "harmonic_chroma_var:   0%|          | 0/300 [00:00<?, ?it/s]"
      ]
     },
     "metadata": {},
     "output_type": "display_data"
    },
    {
     "data": {
      "application/vnd.jupyter.widget-view+json": {
       "model_id": "e76e9a01ca4641eaa95be1c086550649",
       "version_major": 2,
       "version_minor": 0
      },
      "text/plain": [
       "cqt_rolloff:   0%|          | 0/300 [00:00<?, ?it/s]"
      ]
     },
     "metadata": {},
     "output_type": "display_data"
    },
    {
     "data": {
      "application/vnd.jupyter.widget-view+json": {
       "model_id": "b9d8c442fe97456cb9f0929cddfcc0c2",
       "version_major": 2,
       "version_minor": 0
      },
      "text/plain": [
       "cqt_rolloff_mean:   0%|          | 0/300 [00:00<?, ?it/s]"
      ]
     },
     "metadata": {},
     "output_type": "display_data"
    },
    {
     "data": {
      "application/vnd.jupyter.widget-view+json": {
       "model_id": "ac7ce3aa0f4543a0999860597d1db3d9",
       "version_major": 2,
       "version_minor": 0
      },
      "text/plain": [
       "cqt_rolloff_var:   0%|          | 0/300 [00:00<?, ?it/s]"
      ]
     },
     "metadata": {},
     "output_type": "display_data"
    },
    {
     "data": {
      "application/vnd.jupyter.widget-view+json": {
       "model_id": "e8f97abcf4084014bae1715c330374ac",
       "version_major": 2,
       "version_minor": 0
      },
      "text/plain": [
       "cqt_bandwidth:   0%|          | 0/300 [00:00<?, ?it/s]"
      ]
     },
     "metadata": {},
     "output_type": "display_data"
    },
    {
     "data": {
      "application/vnd.jupyter.widget-view+json": {
       "model_id": "8d19f05aee8b4a7e8984a03cb1562662",
       "version_major": 2,
       "version_minor": 0
      },
      "text/plain": [
       "cqt_bandwidth_mean:   0%|          | 0/300 [00:00<?, ?it/s]"
      ]
     },
     "metadata": {},
     "output_type": "display_data"
    },
    {
     "data": {
      "application/vnd.jupyter.widget-view+json": {
       "model_id": "7fe56eae9e8b48d896e64e87eb848ddb",
       "version_major": 2,
       "version_minor": 0
      },
      "text/plain": [
       "cqt_bandwidth_var:   0%|          | 0/300 [00:00<?, ?it/s]"
      ]
     },
     "metadata": {},
     "output_type": "display_data"
    },
    {
     "data": {
      "application/vnd.jupyter.widget-view+json": {
       "model_id": "273766ad234c4f2ca6f76472def98aac",
       "version_major": 2,
       "version_minor": 0
      },
      "text/plain": [
       "zero_crossing_rate:   0%|          | 0/300 [00:00<?, ?it/s]"
      ]
     },
     "metadata": {},
     "output_type": "display_data"
    },
    {
     "data": {
      "application/vnd.jupyter.widget-view+json": {
       "model_id": "cddd6fa2ce0348388c5439803051a784",
       "version_major": 2,
       "version_minor": 0
      },
      "text/plain": [
       "zero_crossing_rate_mean:   0%|          | 0/300 [00:00<?, ?it/s]"
      ]
     },
     "metadata": {},
     "output_type": "display_data"
    },
    {
     "data": {
      "application/vnd.jupyter.widget-view+json": {
       "model_id": "712aed541abd48c7b33231a510d679b8",
       "version_major": 2,
       "version_minor": 0
      },
      "text/plain": [
       "zero_crossing_rate_var:   0%|          | 0/300 [00:00<?, ?it/s]"
      ]
     },
     "metadata": {},
     "output_type": "display_data"
    },
    {
     "data": {
      "application/vnd.jupyter.widget-view+json": {
       "model_id": "f0dc6a5128b649bfa8121bf55b64b458",
       "version_major": 2,
       "version_minor": 0
      },
      "text/plain": [
       "percept:   0%|          | 0/300 [00:00<?, ?it/s]"
      ]
     },
     "metadata": {},
     "output_type": "display_data"
    },
    {
     "data": {
      "application/vnd.jupyter.widget-view+json": {
       "model_id": "50f949fc746145b58faa296f37beb4ad",
       "version_major": 2,
       "version_minor": 0
      },
      "text/plain": [
       "percept_freq_mean:   0%|          | 0/300 [00:00<?, ?it/s]"
      ]
     },
     "metadata": {},
     "output_type": "display_data"
    },
    {
     "data": {
      "application/vnd.jupyter.widget-view+json": {
       "model_id": "ca5e9ad4a54c46a7bd071cc6476bc670",
       "version_major": 2,
       "version_minor": 0
      },
      "text/plain": [
       "percept_freq_var:   0%|          | 0/300 [00:00<?, ?it/s]"
      ]
     },
     "metadata": {},
     "output_type": "display_data"
    },
    {
     "data": {
      "application/vnd.jupyter.widget-view+json": {
       "model_id": "c0bc3dc362c6432b95d2e1dbad363884",
       "version_major": 2,
       "version_minor": 0
      },
      "text/plain": [
       "percept_mean:   0%|          | 0/300 [00:00<?, ?it/s]"
      ]
     },
     "metadata": {},
     "output_type": "display_data"
    },
    {
     "data": {
      "application/vnd.jupyter.widget-view+json": {
       "model_id": "b2d1ecfea278415ba6a5d6c10ee54783",
       "version_major": 2,
       "version_minor": 0
      },
      "text/plain": [
       "percept_var:   0%|          | 0/300 [00:00<?, ?it/s]"
      ]
     },
     "metadata": {},
     "output_type": "display_data"
    },
    {
     "data": {
      "application/vnd.jupyter.widget-view+json": {
       "model_id": "01e49158ec534be2a9bcb7616d9cb09f",
       "version_major": 2,
       "version_minor": 0
      },
      "text/plain": [
       "stft_chroma:   0%|          | 0/300 [00:00<?, ?it/s]"
      ]
     },
     "metadata": {},
     "output_type": "display_data"
    },
    {
     "data": {
      "application/vnd.jupyter.widget-view+json": {
       "model_id": "f96a8bda042248e1b45c9af4ba844caa",
       "version_major": 2,
       "version_minor": 0
      },
      "text/plain": [
       "stft_chroma_freq_mean:   0%|          | 0/300 [00:00<?, ?it/s]"
      ]
     },
     "metadata": {},
     "output_type": "display_data"
    },
    {
     "data": {
      "application/vnd.jupyter.widget-view+json": {
       "model_id": "4226cf0b95714163af28008f23030a13",
       "version_major": 2,
       "version_minor": 0
      },
      "text/plain": [
       "stft_chroma_freq_var:   0%|          | 0/300 [00:00<?, ?it/s]"
      ]
     },
     "metadata": {},
     "output_type": "display_data"
    },
    {
     "data": {
      "application/vnd.jupyter.widget-view+json": {
       "model_id": "d9e697968572431d927b678996e286be",
       "version_major": 2,
       "version_minor": 0
      },
      "text/plain": [
       "stft_chroma_mean:   0%|          | 0/300 [00:00<?, ?it/s]"
      ]
     },
     "metadata": {},
     "output_type": "display_data"
    },
    {
     "data": {
      "application/vnd.jupyter.widget-view+json": {
       "model_id": "b7a8f4eda6774df991d8d845042b462c",
       "version_major": 2,
       "version_minor": 0
      },
      "text/plain": [
       "stft_chroma_var:   0%|          | 0/300 [00:00<?, ?it/s]"
      ]
     },
     "metadata": {},
     "output_type": "display_data"
    }
   ],
   "source": [
    "E_train.soft_extract()\n",
    "E_eval.soft_extract()"
   ]
  },
  {
   "cell_type": "code",
   "execution_count": 22,
   "id": "e87cadeb-77e2-4202-b87d-e0c825ed47ed",
   "metadata": {},
   "outputs": [
    {
     "data": {
      "application/vnd.jupyter.widget-view+json": {
       "model_id": "cf95029c62a74287a9019692b50352ea",
       "version_major": 2,
       "version_minor": 0
      },
      "text/plain": [
       "MetricVisualizer(layout=Layout(align_self='stretch', height='500px'))"
      ]
     },
     "metadata": {},
     "output_type": "display_data"
    },
    {
     "name": "stdout",
     "output_type": "stream",
     "text": [
      "0:\tlearn: 0.3090129\ttest: 0.2866667\tbest: 0.2866667 (0)\ttotal: 86.5ms\tremaining: 43.2s\n",
      "50:\tlearn: 0.7567954\ttest: 0.6366667\tbest: 0.6400000 (44)\ttotal: 1.89s\tremaining: 16.6s\n",
      "100:\tlearn: 0.8569385\ttest: 0.7033333\tbest: 0.7033333 (100)\ttotal: 4.13s\tremaining: 16.3s\n",
      "150:\tlearn: 0.9027182\ttest: 0.7666667\tbest: 0.7700000 (147)\ttotal: 6.4s\tremaining: 14.8s\n",
      "200:\tlearn: 0.9213162\ttest: 0.7833333\tbest: 0.7900000 (199)\ttotal: 8.51s\tremaining: 12.7s\n",
      "250:\tlearn: 0.9470672\ttest: 0.7933333\tbest: 0.7966667 (242)\ttotal: 11.7s\tremaining: 11.6s\n",
      "300:\tlearn: 0.9613734\ttest: 0.7966667\tbest: 0.8000000 (278)\ttotal: 14.2s\tremaining: 9.39s\n",
      "350:\tlearn: 0.9771102\ttest: 0.7966667\tbest: 0.8033333 (305)\ttotal: 16.3s\tremaining: 6.93s\n",
      "400:\tlearn: 0.9828326\ttest: 0.7933333\tbest: 0.8033333 (305)\ttotal: 18.3s\tremaining: 4.52s\n",
      "450:\tlearn: 0.9899857\ttest: 0.8033333\tbest: 0.8033333 (305)\ttotal: 20.3s\tremaining: 2.21s\n",
      "499:\tlearn: 0.9899857\ttest: 0.8033333\tbest: 0.8033333 (305)\ttotal: 22.3s\tremaining: 0us\n",
      "\n",
      "bestTest = 0.8033333333\n",
      "bestIteration = 305\n",
      "\n",
      "Shrink model to first 306 iterations.\n",
      "\n",
      "Classification Report:\n",
      "               precision    recall  f1-score   support\n",
      "\n",
      "       blues       0.91      0.70      0.79        30\n",
      "   classical       0.93      0.93      0.93        30\n",
      "     country       0.78      0.83      0.81        30\n",
      "       disco       0.69      0.67      0.68        30\n",
      "      hiphop       0.73      0.90      0.81        30\n",
      "        jazz       0.90      0.93      0.92        30\n",
      "       metal       0.89      0.83      0.86        30\n",
      "         pop       0.85      0.93      0.89        30\n",
      "      reggae       0.68      0.70      0.69        30\n",
      "        rock       0.69      0.60      0.64        30\n",
      "\n",
      "    accuracy                           0.80       300\n",
      "   macro avg       0.81      0.80      0.80       300\n",
      "weighted avg       0.81      0.80      0.80       300\n",
      "\n",
      "Evaluation Accuracy: 0.8033\n"
     ]
    }
   ],
   "source": [
    "features = ['rms', 'bpm',\n",
    "    'cqt_per_freq_mean', 'cqt_per_freq_var', \n",
    "    'harmonic_per_freq_mean', 'harmonic_per_freq_var', \n",
    "    'percussive_per_freq_mean', 'percussive_per_freq_var',\n",
    "    'mfcc_quef_mean', 'mfcc_quef_var', \n",
    "    'cqt_spectral_centroid_mean', 'cqt_spectral_centroid_var', \n",
    "    'cqt_chroma_mean', 'cqt_chroma_var', \n",
    "    'harmonic_chroma_freq_mean', 'harmonic_chroma_freq_var', \n",
    "    'cqt_rolloff_mean', 'cqt_rolloff_var', \n",
    "    'cqt_bandwidth_mean', 'cqt_bandwidth_var',\n",
    "    'percept_freq_mean', 'percept_freq_var']\n",
    "\n",
    "model, acc = train_and_evaluate_catboost(\n",
    "    idx_eval=E_eval.get_features(['idx'])[:,0],\n",
    "    X_train=E_train.get_features(features),\n",
    "    X_eval=E_eval.get_features(features),\n",
    "    y_train=E_train.get_features(['y'])[:,0], \n",
    "    y_eval=E_eval.get_features(['y'])[:,0],\n",
    ")"
   ]
  },
  {
   "cell_type": "code",
   "execution_count": 23,
   "id": "d0472ce3-aff0-4a0e-84b1-89365d13a4de",
   "metadata": {},
   "outputs": [
    {
     "data": {
      "text/plain": [
       "array([0.0822843387722969, 0.0005872626788914, 820747.0265085669,\n",
       "       233608.9716791749, 4557786.792724258, 0.002870199788994,\n",
       "       0.0076809953898191, 0.0022881836630403, 2639.203369140625,\n",
       "       806.0450439453125, 390.7770080566406, 174.09884643554688,\n",
       "       140.94650268554688, 135.46693420410156, 82.72268676757812,\n",
       "       93.32589721679688, 154.70872497558594, 57.87311553955078,\n",
       "       58.9493408203125, 49.25608444213867, 52.379791259765625,\n",
       "       32.16400909423828, 30.382570266723633, 42.99678039550781,\n",
       "       41.6737060546875, 41.339603424072266, 29.171966552734375,\n",
       "       29.804676055908203], dtype=object)"
      ]
     },
     "execution_count": 23,
     "metadata": {},
     "output_type": "execute_result"
    }
   ],
   "source": [
    "E_train.features['stats'][1][[i for i, x in enumerate(df.columns[2:-1]) if x.startswith('') and x.endswith('var')]]"
   ]
  },
  {
   "cell_type": "code",
   "execution_count": 28,
   "id": "238ae962-0329-4bae-b438-fff4c6244ede",
   "metadata": {},
   "outputs": [],
   "source": [
    "# n_fft=2048\n",
    "# stft_frequencies = librosa.fft_frequencies(n_fft=n_fft, sr=sr)\n",
    "# Extractor.register_extractor('stft_percept',\n",
    "#     lambda stft: librosa.perceptual_weighting(\n",
    "#         np.abs(E_train.features['stft'][0]) ** 2, stft_frequencies, ref=np.max))\n",
    "# Extractor.register_extractor('stft_percept_freq_mean', lambda stft_percept: stft_percept.mean(axis=1))\n",
    "# Extractor.register_extractor('stft_percept_freq_var', lambda stft_percept: stft_percept.var(axis=1))\n",
    "# Extractor.register_extractor('stft_percept_mean', lambda stft_percept: stft_percept.mean())\n",
    "# Extractor.register_extractor('stft_percept_var', lambda stft_percept: stft_percept.var())"
   ]
  },
  {
   "cell_type": "code",
   "execution_count": 38,
   "id": "293fb3d2-1dbc-409e-b61d-516fe4ead640",
   "metadata": {},
   "outputs": [
    {
     "data": {
      "text/plain": [
       "2567480.2832822837"
      ]
     },
     "execution_count": 38,
     "metadata": {},
     "output_type": "execute_result"
    }
   ],
   "source": [
    "E_train.features['cqt_rolloff_var'][0]"
   ]
  },
  {
   "cell_type": "code",
   "execution_count": 39,
   "id": "337d0320-f300-4f2a-a544-74c17cf21989",
   "metadata": {},
   "outputs": [
    {
     "data": {
      "text/plain": [
       "2567123.173955848"
      ]
     },
     "execution_count": 39,
     "metadata": {},
     "output_type": "execute_result"
    }
   ],
   "source": [
    "E_train.features['stats'][0][9]"
   ]
  },
  {
   "cell_type": "code",
   "execution_count": null,
   "id": "4e397281-5ba3-4bbc-801c-4a2cbfac4d27",
   "metadata": {},
   "outputs": [],
   "source": [
    "pd.DataFrame(\n",
    "    data=model.feature_importances_, \n",
    "    index=E_train.get_feature_names_vector(features), \n",
    "    columns=['importance']\n",
    ").sort_values(by='importance', ascending=False).head(15)"
   ]
  },
  {
   "cell_type": "code",
   "execution_count": 44,
   "id": "8dbd1a71-5a4d-4fe7-adf0-fd63890ca9b8",
   "metadata": {},
   "outputs": [],
   "source": [
    "Extractor.register_extractor('harmonic_mean', lambda harmonic: np.mean(harmonic))\n",
    "Extractor.register_extractor('harmonic_var', lambda harmonic: np.var(harmonic))"
   ]
  },
  {
   "cell_type": "code",
   "execution_count": 45,
   "id": "179a4df4-b717-40c9-b0ac-cb979cb83ade",
   "metadata": {},
   "outputs": [
    {
     "data": {
      "application/vnd.jupyter.widget-view+json": {
       "model_id": "5750202741d64a7481c40e248ae5adfa",
       "version_major": 2,
       "version_minor": 0
      },
      "text/plain": [
       "harmonic_mean:   0%|          | 0/699 [00:00<?, ?it/s]"
      ]
     },
     "metadata": {},
     "output_type": "display_data"
    },
    {
     "data": {
      "application/vnd.jupyter.widget-view+json": {
       "model_id": "233ab5e324e94ce9a55872e8145cc433",
       "version_major": 2,
       "version_minor": 0
      },
      "text/plain": [
       "harmonic_var:   0%|          | 0/699 [00:00<?, ?it/s]"
      ]
     },
     "metadata": {},
     "output_type": "display_data"
    },
    {
     "data": {
      "application/vnd.jupyter.widget-view+json": {
       "model_id": "57ce88cd796b4a4eb7d29112706f1b8b",
       "version_major": 2,
       "version_minor": 0
      },
      "text/plain": [
       "harmonic_mean:   0%|          | 0/300 [00:00<?, ?it/s]"
      ]
     },
     "metadata": {},
     "output_type": "display_data"
    },
    {
     "data": {
      "application/vnd.jupyter.widget-view+json": {
       "model_id": "e6b1406d6e2f4db783ec18d82c451af3",
       "version_major": 2,
       "version_minor": 0
      },
      "text/plain": [
       "harmonic_var:   0%|          | 0/300 [00:00<?, ?it/s]"
      ]
     },
     "metadata": {},
     "output_type": "display_data"
    }
   ],
   "source": [
    "E_train.soft_extract()\n",
    "E_eval.soft_extract()"
   ]
  },
  {
   "cell_type": "code",
   "execution_count": 55,
   "id": "1595e6a4-6480-4ca9-9a77-2321802b92f9",
   "metadata": {},
   "outputs": [
    {
     "data": {
      "text/plain": [
       "0.17255667953954584"
      ]
     },
     "execution_count": 55,
     "metadata": {},
     "output_type": "execute_result"
    }
   ],
   "source": [
    "E_train.features['harmonic_mean'][0]"
   ]
  },
  {
   "cell_type": "code",
   "execution_count": 53,
   "id": "ffbfc044-88b2-434b-934d-1fd5af00a42a",
   "metadata": {},
   "outputs": [
    {
     "data": {
      "text/plain": [
       "-0.0026526814326643"
      ]
     },
     "execution_count": 53,
     "metadata": {},
     "output_type": "execute_result"
    }
   ],
   "source": [
    "E_train.features['stats'][0][[i for i, x in enumerate(df.columns[2:-1]) if x == \"harmony_mean\"][0]]"
   ]
  },
  {
   "cell_type": "code",
   "execution_count": 58,
   "id": "0b433781-b18e-4ee5-bb52-4fa1039befeb",
   "metadata": {},
   "outputs": [
    {
     "data": {
      "application/vnd.jupyter.widget-view+json": {
       "model_id": "594abb74e1474458a92f8d14070ddb52",
       "version_major": 2,
       "version_minor": 0
      },
      "text/plain": [
       "MetricVisualizer(layout=Layout(align_self='stretch', height='500px'))"
      ]
     },
     "metadata": {},
     "output_type": "display_data"
    },
    {
     "name": "stdout",
     "output_type": "stream",
     "text": [
      "0:\tlearn: 0.3218884\ttest: 0.3433333\tbest: 0.3433333 (0)\ttotal: 99.4ms\tremaining: 49.6s\n",
      "50:\tlearn: 0.7610873\ttest: 0.6700000\tbest: 0.6700000 (50)\ttotal: 1.92s\tremaining: 16.9s\n",
      "100:\tlearn: 0.8469242\ttest: 0.7233333\tbest: 0.7300000 (96)\ttotal: 3.52s\tremaining: 13.9s\n",
      "150:\tlearn: 0.9012876\ttest: 0.7666667\tbest: 0.7666667 (150)\ttotal: 5.13s\tremaining: 11.9s\n",
      "200:\tlearn: 0.9213162\ttest: 0.7966667\tbest: 0.7966667 (200)\ttotal: 6.63s\tremaining: 9.86s\n",
      "250:\tlearn: 0.9484979\ttest: 0.8066667\tbest: 0.8066667 (209)\ttotal: 8.1s\tremaining: 8.03s\n",
      "300:\tlearn: 0.9570815\ttest: 0.8233333\tbest: 0.8266667 (294)\ttotal: 9.86s\tremaining: 6.52s\n",
      "350:\tlearn: 0.9685265\ttest: 0.8266667\tbest: 0.8333333 (343)\ttotal: 11.4s\tremaining: 4.85s\n",
      "400:\tlearn: 0.9799714\ttest: 0.8366667\tbest: 0.8433333 (378)\ttotal: 12.9s\tremaining: 3.18s\n",
      "450:\tlearn: 0.9856938\ttest: 0.8333333\tbest: 0.8433333 (378)\ttotal: 14.3s\tremaining: 1.55s\n",
      "499:\tlearn: 0.9914163\ttest: 0.8433333\tbest: 0.8500000 (479)\ttotal: 15.7s\tremaining: 0us\n",
      "\n",
      "bestTest = 0.85\n",
      "bestIteration = 479\n",
      "\n",
      "Shrink model to first 480 iterations.\n",
      "\n",
      "Classification Report:\n",
      "               precision    recall  f1-score   support\n",
      "\n",
      "       blues       0.96      0.80      0.87        30\n",
      "   classical       0.90      0.93      0.92        30\n",
      "     country       0.87      0.87      0.87        30\n",
      "       disco       0.76      0.73      0.75        30\n",
      "      hiphop       0.76      0.93      0.84        30\n",
      "        jazz       0.88      1.00      0.94        30\n",
      "       metal       0.93      0.83      0.88        30\n",
      "         pop       0.94      0.97      0.95        30\n",
      "      reggae       0.74      0.77      0.75        30\n",
      "        rock       0.80      0.67      0.73        30\n",
      "\n",
      "    accuracy                           0.85       300\n",
      "   macro avg       0.85      0.85      0.85       300\n",
      "weighted avg       0.85      0.85      0.85       300\n",
      "\n",
      "Evaluation Accuracy: 0.8500\n"
     ]
    }
   ],
   "source": [
    "features = ['bpm',\n",
    "    'cqt_per_freq_mean', 'cqt_per_freq_var', \n",
    "    'harmonic_per_freq_mean', 'harmonic_per_freq_var', \n",
    "    'percussive_per_freq_mean', 'percussive_per_freq_var',\n",
    "    'mfcc_quef_mean', 'mfcc_quef_var', \n",
    "    'cqt_spectral_centroid_mean', 'cqt_spectral_centroid_var', \n",
    "    'cqt_chroma_mean', 'cqt_chroma_var', \n",
    "    'harmonic_chroma_freq_mean', 'harmonic_chroma_freq_var', \n",
    "    'cqt_rolloff_mean', 'cqt_rolloff_var', \n",
    "    'cqt_bandwidth_mean', 'cqt_bandwidth_var',\n",
    "    'percept_freq_mean', 'percept_freq_var',\n",
    "    'stft_chroma_mean', 'stft_chroma_var',\n",
    "    'harmonic_mean']\n",
    "\n",
    "model, acc = train_and_evaluate_catboost(\n",
    "    idx_eval=E_eval.get_features(['idx'])[:,0],\n",
    "    X_train=E_train.get_features(features),\n",
    "    X_eval=E_eval.get_features(features),\n",
    "    y_train=E_train.get_features(['y'])[:,0], \n",
    "    y_eval=E_eval.get_features(['y'])[:,0],\n",
    ")"
   ]
  },
  {
   "cell_type": "code",
   "execution_count": 32,
   "id": "7f195210-2e93-470c-b746-0a027873e5fd",
   "metadata": {},
   "outputs": [
    {
     "data": {
      "application/vnd.jupyter.widget-view+json": {
       "model_id": "2672a450ce6e4856beff0cea7e8d4e80",
       "version_major": 2,
       "version_minor": 0
      },
      "text/plain": [
       "MetricVisualizer(layout=Layout(align_self='stretch', height='500px'))"
      ]
     },
     "metadata": {},
     "output_type": "display_data"
    },
    {
     "name": "stdout",
     "output_type": "stream",
     "text": [
      "0:\tlearn: 0.2947067\ttest: 0.2700000\tbest: 0.2700000 (0)\ttotal: 120ms\tremaining: 59.8s\n",
      "50:\tlearn: 0.7596567\ttest: 0.6633333\tbest: 0.6633333 (49)\ttotal: 2.52s\tremaining: 22.2s\n",
      "100:\tlearn: 0.8526466\ttest: 0.7333333\tbest: 0.7500000 (88)\ttotal: 4.45s\tremaining: 17.6s\n",
      "150:\tlearn: 0.8969957\ttest: 0.7533333\tbest: 0.7633333 (131)\ttotal: 6.11s\tremaining: 14.1s\n",
      "200:\tlearn: 0.9270386\ttest: 0.7700000\tbest: 0.7766667 (193)\ttotal: 7.67s\tremaining: 11.4s\n",
      "250:\tlearn: 0.9470672\ttest: 0.7933333\tbest: 0.8000000 (243)\ttotal: 9.32s\tremaining: 9.24s\n",
      "300:\tlearn: 0.9613734\ttest: 0.8000000\tbest: 0.8000000 (243)\ttotal: 11.3s\tremaining: 7.46s\n",
      "350:\tlearn: 0.9713877\ttest: 0.7966667\tbest: 0.8100000 (311)\ttotal: 12.9s\tremaining: 5.47s\n",
      "400:\tlearn: 0.9799714\ttest: 0.8033333\tbest: 0.8100000 (311)\ttotal: 14.4s\tremaining: 3.56s\n",
      "450:\tlearn: 0.9885551\ttest: 0.8033333\tbest: 0.8100000 (311)\ttotal: 15.9s\tremaining: 1.73s\n",
      "499:\tlearn: 0.9957082\ttest: 0.8266667\tbest: 0.8266667 (487)\ttotal: 17.7s\tremaining: 0us\n",
      "\n",
      "bestTest = 0.8266666667\n",
      "bestIteration = 487\n",
      "\n",
      "Shrink model to first 488 iterations.\n",
      "\n",
      "Classification Report:\n",
      "               precision    recall  f1-score   support\n",
      "\n",
      "       blues       0.95      0.67      0.78        30\n",
      "   classical       0.90      0.93      0.92        30\n",
      "     country       0.84      0.87      0.85        30\n",
      "       disco       0.78      0.70      0.74        30\n",
      "      hiphop       0.70      0.93      0.80        30\n",
      "        jazz       0.91      1.00      0.95        30\n",
      "       metal       0.93      0.83      0.88        30\n",
      "         pop       0.90      0.93      0.92        30\n",
      "      reggae       0.68      0.70      0.69        30\n",
      "        rock       0.75      0.70      0.72        30\n",
      "\n",
      "    accuracy                           0.83       300\n",
      "   macro avg       0.83      0.83      0.83       300\n",
      "weighted avg       0.83      0.83      0.83       300\n",
      "\n",
      "Evaluation Accuracy: 0.8267\n"
     ]
    }
   ],
   "source": [
    "features = ['stats',\n",
    "    'cqt_per_freq_mean', 'cqt_per_freq_var', \n",
    "    'harmonic_per_freq_mean', 'harmonic_per_freq_var', \n",
    "    'percussive_per_freq_mean', 'percussive_per_freq_var',\n",
    "    'mfcc_quef_mean', 'mfcc_quef_var', \n",
    "    'cqt_spectral_centroid_mean', 'cqt_spectral_centroid_var', \n",
    "    'cqt_chroma_freq_mean', 'cqt_chroma_freq_var', \n",
    "    'harmonic_chroma_freq_mean', 'harmonic_chroma_freq_var',\n",
    "    'cqt_rolloff_mean', 'cqt_rolloff_var', \n",
    "    'cqt_bandwidth_mean', 'cqt_bandwidth_var',\n",
    "    'percept_freq_mean', 'percept_freq_var',\n",
    "    'stft_chroma_mean', 'stft_chroma_var',]\n",
    "\n",
    "model, acc = train_and_evaluate_catboost(\n",
    "    idx_eval=E_eval.get_features(['idx'])[:,0],\n",
    "    X_train=E_train.get_features(features),\n",
    "    X_eval=E_eval.get_features(features),\n",
    "    y_train=E_train.get_features(['y'])[:,0], \n",
    "    y_eval=E_eval.get_features(['y'])[:,0],\n",
    ")"
   ]
  },
  {
   "cell_type": "code",
   "execution_count": 41,
   "id": "4ee373f7-93f5-4eee-87b5-628f52acee95",
   "metadata": {},
   "outputs": [
    {
     "data": {
      "text/html": [
       "<div>\n",
       "<style scoped>\n",
       "    .dataframe tbody tr th:only-of-type {\n",
       "        vertical-align: middle;\n",
       "    }\n",
       "\n",
       "    .dataframe tbody tr th {\n",
       "        vertical-align: top;\n",
       "    }\n",
       "\n",
       "    .dataframe thead th {\n",
       "        text-align: right;\n",
       "    }\n",
       "</style>\n",
       "<table border=\"1\" class=\"dataframe\">\n",
       "  <thead>\n",
       "    <tr style=\"text-align: right;\">\n",
       "      <th></th>\n",
       "      <th>importance</th>\n",
       "      <th>stat_name</th>\n",
       "    </tr>\n",
       "  </thead>\n",
       "  <tbody>\n",
       "    <tr>\n",
       "      <th>stats_0</th>\n",
       "      <td>1.892772</td>\n",
       "      <td>chroma_stft_mean</td>\n",
       "    </tr>\n",
       "    <tr>\n",
       "      <th>stats_23</th>\n",
       "      <td>1.789892</td>\n",
       "      <td>mfcc4_mean</td>\n",
       "    </tr>\n",
       "    <tr>\n",
       "      <th>stats_27</th>\n",
       "      <td>1.561345</td>\n",
       "      <td>mfcc6_mean</td>\n",
       "    </tr>\n",
       "    <tr>\n",
       "      <th>stats_12</th>\n",
       "      <td>1.373727</td>\n",
       "      <td>harmony_mean</td>\n",
       "    </tr>\n",
       "    <tr>\n",
       "      <th>stats_26</th>\n",
       "      <td>1.304339</td>\n",
       "      <td>mfcc5_var</td>\n",
       "    </tr>\n",
       "    <tr>\n",
       "      <th>stats_22</th>\n",
       "      <td>1.294437</td>\n",
       "      <td>mfcc3_var</td>\n",
       "    </tr>\n",
       "    <tr>\n",
       "      <th>stats_14</th>\n",
       "      <td>1.101045</td>\n",
       "      <td>perceptr_mean</td>\n",
       "    </tr>\n",
       "    <tr>\n",
       "      <th>stats_4</th>\n",
       "      <td>0.993699</td>\n",
       "      <td>spectral_centroid_mean</td>\n",
       "    </tr>\n",
       "    <tr>\n",
       "      <th>stats_9</th>\n",
       "      <td>0.877946</td>\n",
       "      <td>rolloff_var</td>\n",
       "    </tr>\n",
       "    <tr>\n",
       "      <th>stats_39</th>\n",
       "      <td>0.766209</td>\n",
       "      <td>mfcc12_mean</td>\n",
       "    </tr>\n",
       "    <tr>\n",
       "      <th>stats_16</th>\n",
       "      <td>0.679949</td>\n",
       "      <td>tempo</td>\n",
       "    </tr>\n",
       "    <tr>\n",
       "      <th>stats_41</th>\n",
       "      <td>0.602443</td>\n",
       "      <td>mfcc13_mean</td>\n",
       "    </tr>\n",
       "    <tr>\n",
       "      <th>stats_29</th>\n",
       "      <td>0.572739</td>\n",
       "      <td>mfcc7_mean</td>\n",
       "    </tr>\n",
       "    <tr>\n",
       "      <th>stats_5</th>\n",
       "      <td>0.563911</td>\n",
       "      <td>spectral_centroid_var</td>\n",
       "    </tr>\n",
       "    <tr>\n",
       "      <th>stats_24</th>\n",
       "      <td>0.505416</td>\n",
       "      <td>mfcc4_var</td>\n",
       "    </tr>\n",
       "    <tr>\n",
       "      <th>stats_3</th>\n",
       "      <td>0.477576</td>\n",
       "      <td>rms_var</td>\n",
       "    </tr>\n",
       "    <tr>\n",
       "      <th>stats_11</th>\n",
       "      <td>0.473163</td>\n",
       "      <td>zero_crossing_rate_var</td>\n",
       "    </tr>\n",
       "    <tr>\n",
       "      <th>stats_33</th>\n",
       "      <td>0.418785</td>\n",
       "      <td>mfcc9_mean</td>\n",
       "    </tr>\n",
       "    <tr>\n",
       "      <th>stats_21</th>\n",
       "      <td>0.386874</td>\n",
       "      <td>mfcc3_mean</td>\n",
       "    </tr>\n",
       "    <tr>\n",
       "      <th>stats_49</th>\n",
       "      <td>0.381332</td>\n",
       "      <td>mfcc17_mean</td>\n",
       "    </tr>\n",
       "    <tr>\n",
       "      <th>stats_28</th>\n",
       "      <td>0.380224</td>\n",
       "      <td>mfcc6_var</td>\n",
       "    </tr>\n",
       "    <tr>\n",
       "      <th>stats_8</th>\n",
       "      <td>0.330353</td>\n",
       "      <td>rolloff_mean</td>\n",
       "    </tr>\n",
       "    <tr>\n",
       "      <th>stats_30</th>\n",
       "      <td>0.310004</td>\n",
       "      <td>mfcc7_var</td>\n",
       "    </tr>\n",
       "    <tr>\n",
       "      <th>stats_6</th>\n",
       "      <td>0.299037</td>\n",
       "      <td>spectral_bandwidth_mean</td>\n",
       "    </tr>\n",
       "    <tr>\n",
       "      <th>stats_36</th>\n",
       "      <td>0.292186</td>\n",
       "      <td>mfcc10_var</td>\n",
       "    </tr>\n",
       "    <tr>\n",
       "      <th>stats_31</th>\n",
       "      <td>0.283233</td>\n",
       "      <td>mfcc8_mean</td>\n",
       "    </tr>\n",
       "    <tr>\n",
       "      <th>stats_25</th>\n",
       "      <td>0.266307</td>\n",
       "      <td>mfcc5_mean</td>\n",
       "    </tr>\n",
       "    <tr>\n",
       "      <th>stats_32</th>\n",
       "      <td>0.245106</td>\n",
       "      <td>mfcc8_var</td>\n",
       "    </tr>\n",
       "    <tr>\n",
       "      <th>stats_47</th>\n",
       "      <td>0.243497</td>\n",
       "      <td>mfcc16_mean</td>\n",
       "    </tr>\n",
       "    <tr>\n",
       "      <th>stats_34</th>\n",
       "      <td>0.192385</td>\n",
       "      <td>mfcc9_var</td>\n",
       "    </tr>\n",
       "    <tr>\n",
       "      <th>stats_1</th>\n",
       "      <td>0.190788</td>\n",
       "      <td>chroma_stft_var</td>\n",
       "    </tr>\n",
       "    <tr>\n",
       "      <th>stats_55</th>\n",
       "      <td>0.147567</td>\n",
       "      <td>mfcc20_mean</td>\n",
       "    </tr>\n",
       "    <tr>\n",
       "      <th>stats_48</th>\n",
       "      <td>0.124555</td>\n",
       "      <td>mfcc16_var</td>\n",
       "    </tr>\n",
       "    <tr>\n",
       "      <th>stats_38</th>\n",
       "      <td>0.122112</td>\n",
       "      <td>mfcc11_var</td>\n",
       "    </tr>\n",
       "    <tr>\n",
       "      <th>stats_54</th>\n",
       "      <td>0.119720</td>\n",
       "      <td>mfcc19_var</td>\n",
       "    </tr>\n",
       "    <tr>\n",
       "      <th>stats_42</th>\n",
       "      <td>0.115221</td>\n",
       "      <td>mfcc13_var</td>\n",
       "    </tr>\n",
       "    <tr>\n",
       "      <th>stats_19</th>\n",
       "      <td>0.108598</td>\n",
       "      <td>mfcc2_mean</td>\n",
       "    </tr>\n",
       "    <tr>\n",
       "      <th>stats_52</th>\n",
       "      <td>0.108166</td>\n",
       "      <td>mfcc18_var</td>\n",
       "    </tr>\n",
       "    <tr>\n",
       "      <th>stats_18</th>\n",
       "      <td>0.104295</td>\n",
       "      <td>mfcc1_var</td>\n",
       "    </tr>\n",
       "    <tr>\n",
       "      <th>stats_37</th>\n",
       "      <td>0.100292</td>\n",
       "      <td>mfcc11_mean</td>\n",
       "    </tr>\n",
       "    <tr>\n",
       "      <th>stats_45</th>\n",
       "      <td>0.050618</td>\n",
       "      <td>mfcc15_mean</td>\n",
       "    </tr>\n",
       "    <tr>\n",
       "      <th>stats_43</th>\n",
       "      <td>0.047131</td>\n",
       "      <td>mfcc14_mean</td>\n",
       "    </tr>\n",
       "    <tr>\n",
       "      <th>stats_40</th>\n",
       "      <td>0.045972</td>\n",
       "      <td>mfcc12_var</td>\n",
       "    </tr>\n",
       "    <tr>\n",
       "      <th>stats_56</th>\n",
       "      <td>0.014806</td>\n",
       "      <td>mfcc20_var</td>\n",
       "    </tr>\n",
       "    <tr>\n",
       "      <th>stats_51</th>\n",
       "      <td>0.012289</td>\n",
       "      <td>mfcc18_mean</td>\n",
       "    </tr>\n",
       "    <tr>\n",
       "      <th>stats_44</th>\n",
       "      <td>0.009054</td>\n",
       "      <td>mfcc14_var</td>\n",
       "    </tr>\n",
       "    <tr>\n",
       "      <th>stats_10</th>\n",
       "      <td>0.004797</td>\n",
       "      <td>zero_crossing_rate_mean</td>\n",
       "    </tr>\n",
       "    <tr>\n",
       "      <th>stats_35</th>\n",
       "      <td>0.002393</td>\n",
       "      <td>mfcc10_mean</td>\n",
       "    </tr>\n",
       "    <tr>\n",
       "      <th>stats_20</th>\n",
       "      <td>0.002151</td>\n",
       "      <td>mfcc2_var</td>\n",
       "    </tr>\n",
       "    <tr>\n",
       "      <th>stats_50</th>\n",
       "      <td>0.001625</td>\n",
       "      <td>mfcc17_var</td>\n",
       "    </tr>\n",
       "    <tr>\n",
       "      <th>stats_46</th>\n",
       "      <td>0.001199</td>\n",
       "      <td>mfcc15_var</td>\n",
       "    </tr>\n",
       "    <tr>\n",
       "      <th>stats_53</th>\n",
       "      <td>0.000000</td>\n",
       "      <td>mfcc19_mean</td>\n",
       "    </tr>\n",
       "    <tr>\n",
       "      <th>stats_15</th>\n",
       "      <td>0.000000</td>\n",
       "      <td>perceptr_var</td>\n",
       "    </tr>\n",
       "    <tr>\n",
       "      <th>stats_13</th>\n",
       "      <td>0.000000</td>\n",
       "      <td>harmony_var</td>\n",
       "    </tr>\n",
       "    <tr>\n",
       "      <th>stats_2</th>\n",
       "      <td>0.000000</td>\n",
       "      <td>rms_mean</td>\n",
       "    </tr>\n",
       "    <tr>\n",
       "      <th>stats_17</th>\n",
       "      <td>0.000000</td>\n",
       "      <td>mfcc1_mean</td>\n",
       "    </tr>\n",
       "    <tr>\n",
       "      <th>stats_7</th>\n",
       "      <td>0.000000</td>\n",
       "      <td>spectral_bandwidth_var</td>\n",
       "    </tr>\n",
       "  </tbody>\n",
       "</table>\n",
       "</div>"
      ],
      "text/plain": [
       "          importance                stat_name\n",
       "stats_0     1.892772         chroma_stft_mean\n",
       "stats_23    1.789892               mfcc4_mean\n",
       "stats_27    1.561345               mfcc6_mean\n",
       "stats_12    1.373727             harmony_mean\n",
       "stats_26    1.304339                mfcc5_var\n",
       "stats_22    1.294437                mfcc3_var\n",
       "stats_14    1.101045            perceptr_mean\n",
       "stats_4     0.993699   spectral_centroid_mean\n",
       "stats_9     0.877946              rolloff_var\n",
       "stats_39    0.766209              mfcc12_mean\n",
       "stats_16    0.679949                    tempo\n",
       "stats_41    0.602443              mfcc13_mean\n",
       "stats_29    0.572739               mfcc7_mean\n",
       "stats_5     0.563911    spectral_centroid_var\n",
       "stats_24    0.505416                mfcc4_var\n",
       "stats_3     0.477576                  rms_var\n",
       "stats_11    0.473163   zero_crossing_rate_var\n",
       "stats_33    0.418785               mfcc9_mean\n",
       "stats_21    0.386874               mfcc3_mean\n",
       "stats_49    0.381332              mfcc17_mean\n",
       "stats_28    0.380224                mfcc6_var\n",
       "stats_8     0.330353             rolloff_mean\n",
       "stats_30    0.310004                mfcc7_var\n",
       "stats_6     0.299037  spectral_bandwidth_mean\n",
       "stats_36    0.292186               mfcc10_var\n",
       "stats_31    0.283233               mfcc8_mean\n",
       "stats_25    0.266307               mfcc5_mean\n",
       "stats_32    0.245106                mfcc8_var\n",
       "stats_47    0.243497              mfcc16_mean\n",
       "stats_34    0.192385                mfcc9_var\n",
       "stats_1     0.190788          chroma_stft_var\n",
       "stats_55    0.147567              mfcc20_mean\n",
       "stats_48    0.124555               mfcc16_var\n",
       "stats_38    0.122112               mfcc11_var\n",
       "stats_54    0.119720               mfcc19_var\n",
       "stats_42    0.115221               mfcc13_var\n",
       "stats_19    0.108598               mfcc2_mean\n",
       "stats_52    0.108166               mfcc18_var\n",
       "stats_18    0.104295                mfcc1_var\n",
       "stats_37    0.100292              mfcc11_mean\n",
       "stats_45    0.050618              mfcc15_mean\n",
       "stats_43    0.047131              mfcc14_mean\n",
       "stats_40    0.045972               mfcc12_var\n",
       "stats_56    0.014806               mfcc20_var\n",
       "stats_51    0.012289              mfcc18_mean\n",
       "stats_44    0.009054               mfcc14_var\n",
       "stats_10    0.004797  zero_crossing_rate_mean\n",
       "stats_35    0.002393              mfcc10_mean\n",
       "stats_20    0.002151                mfcc2_var\n",
       "stats_50    0.001625               mfcc17_var\n",
       "stats_46    0.001199               mfcc15_var\n",
       "stats_53    0.000000              mfcc19_mean\n",
       "stats_15    0.000000             perceptr_var\n",
       "stats_13    0.000000              harmony_var\n",
       "stats_2     0.000000                 rms_mean\n",
       "stats_17    0.000000               mfcc1_mean\n",
       "stats_7     0.000000   spectral_bandwidth_var"
      ]
     },
     "execution_count": 41,
     "metadata": {},
     "output_type": "execute_result"
    }
   ],
   "source": [
    "imp = pd.DataFrame(\n",
    "    data=model.feature_importances_, \n",
    "    index=E_train.get_feature_names_vector(features), \n",
    "    columns=['importance']\n",
    ").sort_values(by='importance', ascending=False)\n",
    "imp['stat_name'] = pd.Series(imp.index, index=imp.index).apply(lambda x: int(x[6:]) if x.startswith('stats_') else None).astype('float')\n",
    "imp = imp.loc[~imp['stat_name'].isna()]\n",
    "imp['stat_name'] = imp['stat_name'].apply(lambda x: X_train.columns[int(x) + 2] if not np.isnan(x) else None)\n",
    "imp"
   ]
  },
  {
   "cell_type": "code",
   "execution_count": 26,
   "id": "1aba1f2a-c193-4b7c-8452-23f2831490ed",
   "metadata": {},
   "outputs": [],
   "source": [
    "from sklearn.decomposition import TruncatedSVD, PCA\n",
    "\n",
    "n_tsvd_components = 15\n",
    "n_svd_iter=20\n",
    "\n",
    "features = ['stats',\n",
    "    'cqt_per_freq_mean', 'cqt_per_freq_var', \n",
    "    'harmonic_per_freq_mean', 'harmonic_per_freq_var', \n",
    "    'percussive_per_freq_mean', 'percussive_per_freq_var',\n",
    "    'mfcc_quef_mean', 'mfcc_quef_var', \n",
    "    'cqt_spectral_centroid_mean', 'cqt_spectral_centroid_var', \n",
    "    'cqt_chroma_freq_mean', 'cqt_chroma_freq_var', \n",
    "    'harmonic_chroma_freq_mean', 'harmonic_chroma_freq_var',\n",
    "    'cqt_rolloff_mean', 'cqt_rolloff_var', \n",
    "    'cqt_bandwidth_mean', 'cqt_bandwidth_var',\n",
    "    'percept_freq_mean', 'percept_freq_var']\n",
    "\n",
    "Extractor.register_sklearn_extractor('cqt_per_freq_mean_svd', \n",
    "                                     ['cqt_per_freq_mean'], \n",
    "                                     TruncatedSVD(n_components=n_tsvd_components, n_iter=n_svd_iter, random_state=42))\n",
    "Extractor.register_sklearn_extractor('cqt_per_freq_var_svd', \n",
    "                                     ['cqt_per_freq_var'], \n",
    "                                     TruncatedSVD(n_components=n_tsvd_components, n_iter=n_svd_iter, random_state=42))\n",
    "Extractor.register_sklearn_extractor('harmonic_per_freq_mean_svd', \n",
    "                                     ['harmonic_per_freq_mean'], \n",
    "                                     TruncatedSVD(n_components=n_tsvd_components, n_iter=n_svd_iter, random_state=42))\n",
    "Extractor.register_sklearn_extractor('harmonic_per_freq_var_svd', \n",
    "                                     ['harmonic_per_freq_var'], \n",
    "                                     TruncatedSVD(n_components=n_tsvd_components, n_iter=n_svd_iter, random_state=42))\n",
    "Extractor.register_sklearn_extractor('percussive_per_freq_mean_svd', \n",
    "                                     ['percussive_per_freq_mean'], \n",
    "                                     TruncatedSVD(n_components=n_tsvd_components, n_iter=n_svd_iter, random_state=42))\n",
    "Extractor.register_sklearn_extractor('percussive_per_freq_var_svd', \n",
    "                                     ['percussive_per_freq_var'], \n",
    "                                     TruncatedSVD(n_components=n_tsvd_components, n_iter=n_svd_iter, random_state=42))\n",
    "Extractor.register_sklearn_extractor('percept_freq_mean_svd', \n",
    "                                     ['percept_freq_mean'], \n",
    "                                     TruncatedSVD(n_components=n_tsvd_components, n_iter=n_svd_iter, random_state=42))\n",
    "Extractor.register_sklearn_extractor('percept_freq_var_svd', \n",
    "                                     ['percept_freq_var'], \n",
    "                                     TruncatedSVD(n_components=n_tsvd_components, n_iter=n_svd_iter, random_state=42))"
   ]
  },
  {
   "cell_type": "code",
   "execution_count": 27,
   "id": "c1b01dd3-cf21-4095-b297-29184fe0da70",
   "metadata": {},
   "outputs": [],
   "source": [
    "for feat in list(E_train.features.keys()):\n",
    "    if feat.endswith('svd'):\n",
    "        del E_train.features[feat]\n",
    "        del E_eval.features[feat]"
   ]
  },
  {
   "cell_type": "code",
   "execution_count": 28,
   "id": "9e254f81-a701-4c2b-8124-863d107be50e",
   "metadata": {},
   "outputs": [],
   "source": [
    "E_train.soft_extract()\n",
    "E_eval.soft_extract()"
   ]
  },
  {
   "cell_type": "code",
   "execution_count": 29,
   "id": "f4687b96-35bb-4a31-8adc-898f602059de",
   "metadata": {},
   "outputs": [
    {
     "data": {
      "application/vnd.jupyter.widget-view+json": {
       "model_id": "5604a4272bf64b5b9ef650cc23886e82",
       "version_major": 2,
       "version_minor": 0
      },
      "text/plain": [
       "MetricVisualizer(layout=Layout(align_self='stretch', height='500px'))"
      ]
     },
     "metadata": {},
     "output_type": "display_data"
    },
    {
     "name": "stdout",
     "output_type": "stream",
     "text": [
      "0:\tlearn: 0.3047210\ttest: 0.3133333\tbest: 0.3133333 (0)\ttotal: 17.6ms\tremaining: 8.8s\n",
      "50:\tlearn: 0.7596567\ttest: 0.6533333\tbest: 0.6566667 (49)\ttotal: 442ms\tremaining: 3.89s\n",
      "100:\tlearn: 0.8440629\ttest: 0.7033333\tbest: 0.7133333 (99)\ttotal: 832ms\tremaining: 3.29s\n",
      "150:\tlearn: 0.9155937\ttest: 0.7200000\tbest: 0.7300000 (134)\ttotal: 1.32s\tremaining: 3.04s\n",
      "200:\tlearn: 0.9442060\ttest: 0.7466667\tbest: 0.7466667 (189)\ttotal: 1.87s\tremaining: 2.78s\n",
      "250:\tlearn: 0.9613734\ttest: 0.7366667\tbest: 0.7566667 (239)\ttotal: 2.42s\tremaining: 2.4s\n",
      "300:\tlearn: 0.9728183\ttest: 0.7466667\tbest: 0.7566667 (239)\ttotal: 2.81s\tremaining: 1.86s\n",
      "350:\tlearn: 0.9785408\ttest: 0.7600000\tbest: 0.7666667 (328)\ttotal: 3.32s\tremaining: 1.41s\n",
      "400:\tlearn: 0.9856938\ttest: 0.7566667\tbest: 0.7666667 (328)\ttotal: 3.68s\tremaining: 909ms\n",
      "450:\tlearn: 0.9942775\ttest: 0.7666667\tbest: 0.7733333 (445)\ttotal: 4.13s\tremaining: 448ms\n",
      "499:\tlearn: 0.9957082\ttest: 0.7766667\tbest: 0.7766667 (499)\ttotal: 4.52s\tremaining: 0us\n",
      "\n",
      "bestTest = 0.7766666667\n",
      "bestIteration = 499\n",
      "\n",
      "\n",
      "Classification Report:\n",
      "               precision    recall  f1-score   support\n",
      "\n",
      "       blues       0.86      0.63      0.73        30\n",
      "   classical       0.93      0.93      0.93        30\n",
      "     country       0.79      0.77      0.78        30\n",
      "       disco       0.73      0.73      0.73        30\n",
      "      hiphop       0.68      0.83      0.75        30\n",
      "        jazz       0.82      0.90      0.86        30\n",
      "       metal       0.88      0.73      0.80        30\n",
      "         pop       0.79      0.90      0.84        30\n",
      "      reggae       0.74      0.77      0.75        30\n",
      "        rock       0.59      0.57      0.58        30\n",
      "\n",
      "    accuracy                           0.78       300\n",
      "   macro avg       0.78      0.78      0.78       300\n",
      "weighted avg       0.78      0.78      0.78       300\n",
      "\n",
      "Evaluation Accuracy: 0.7767\n"
     ]
    }
   ],
   "source": [
    "features = ['rms', 'bpm',\n",
    "    'cqt_per_freq_mean_svd', 'cqt_per_freq_var_svd', \n",
    "    'harmonic_per_freq_mean_svd', 'harmonic_per_freq_var_svd', \n",
    "    'percussive_per_freq_mean_svd', 'percussive_per_freq_var_svd',\n",
    "    'mfcc_quef_mean', 'mfcc_quef_var', \n",
    "    'cqt_spectral_centroid_mean', 'cqt_spectral_centroid_var', \n",
    "    'cqt_chroma_mean', 'cqt_chroma_var', \n",
    "    'harmonic_chroma_freq_mean', 'harmonic_chroma_freq_var', \n",
    "    'cqt_rolloff_mean', 'cqt_rolloff_var', \n",
    "    'cqt_bandwidth_mean', 'cqt_bandwidth_var',\n",
    "    'percept_freq_mean_svd', 'percept_freq_var_svd']\n",
    "\n",
    "model, acc = train_and_evaluate_catboost(\n",
    "    idx_eval=E_eval.get_features(['idx'])[:,0],\n",
    "    X_train=E_train.get_features(features),\n",
    "    X_eval=E_eval.get_features(features),\n",
    "    y_train=E_train.get_features(['y'])[:,0], \n",
    "    y_eval=E_eval.get_features(['y'])[:,0],\n",
    ")"
   ]
  },
  {
   "cell_type": "code",
   "execution_count": 30,
   "id": "d85937d9-df36-40df-b030-a353f3932913",
   "metadata": {},
   "outputs": [
    {
     "data": {
      "text/html": [
       "<div>\n",
       "<style scoped>\n",
       "    .dataframe tbody tr th:only-of-type {\n",
       "        vertical-align: middle;\n",
       "    }\n",
       "\n",
       "    .dataframe tbody tr th {\n",
       "        vertical-align: top;\n",
       "    }\n",
       "\n",
       "    .dataframe thead th {\n",
       "        text-align: right;\n",
       "    }\n",
       "</style>\n",
       "<table border=\"1\" class=\"dataframe\">\n",
       "  <thead>\n",
       "    <tr style=\"text-align: right;\">\n",
       "      <th></th>\n",
       "      <th>importance</th>\n",
       "    </tr>\n",
       "  </thead>\n",
       "  <tbody>\n",
       "    <tr>\n",
       "      <th>percussive_per_freq_mean_svd_0</th>\n",
       "      <td>4.074139</td>\n",
       "    </tr>\n",
       "    <tr>\n",
       "      <th>cqt_spectral_centroid_var_</th>\n",
       "      <td>3.443698</td>\n",
       "    </tr>\n",
       "    <tr>\n",
       "      <th>mfcc_quef_mean_3</th>\n",
       "      <td>3.420290</td>\n",
       "    </tr>\n",
       "    <tr>\n",
       "      <th>mfcc_quef_var_4</th>\n",
       "      <td>3.167425</td>\n",
       "    </tr>\n",
       "    <tr>\n",
       "      <th>percept_freq_var_svd_1</th>\n",
       "      <td>3.039344</td>\n",
       "    </tr>\n",
       "    <tr>\n",
       "      <th>mfcc_quef_mean_5</th>\n",
       "      <td>2.665233</td>\n",
       "    </tr>\n",
       "    <tr>\n",
       "      <th>cqt_spectral_centroid_mean_</th>\n",
       "      <td>2.303028</td>\n",
       "    </tr>\n",
       "    <tr>\n",
       "      <th>percept_freq_var_svd_3</th>\n",
       "      <td>2.215747</td>\n",
       "    </tr>\n",
       "    <tr>\n",
       "      <th>percept_freq_mean_svd_1</th>\n",
       "      <td>1.831371</td>\n",
       "    </tr>\n",
       "    <tr>\n",
       "      <th>cqt_per_freq_mean_svd_0</th>\n",
       "      <td>1.830931</td>\n",
       "    </tr>\n",
       "    <tr>\n",
       "      <th>percept_freq_var_svd_0</th>\n",
       "      <td>1.749767</td>\n",
       "    </tr>\n",
       "    <tr>\n",
       "      <th>percept_freq_var_svd_2</th>\n",
       "      <td>1.706813</td>\n",
       "    </tr>\n",
       "    <tr>\n",
       "      <th>mfcc_quef_var_10</th>\n",
       "      <td>1.697975</td>\n",
       "    </tr>\n",
       "    <tr>\n",
       "      <th>mfcc_quef_mean_8</th>\n",
       "      <td>1.684112</td>\n",
       "    </tr>\n",
       "    <tr>\n",
       "      <th>percussive_per_freq_var_svd_2</th>\n",
       "      <td>1.670148</td>\n",
       "    </tr>\n",
       "  </tbody>\n",
       "</table>\n",
       "</div>"
      ],
      "text/plain": [
       "                                importance\n",
       "percussive_per_freq_mean_svd_0    4.074139\n",
       "cqt_spectral_centroid_var_        3.443698\n",
       "mfcc_quef_mean_3                  3.420290\n",
       "mfcc_quef_var_4                   3.167425\n",
       "percept_freq_var_svd_1            3.039344\n",
       "mfcc_quef_mean_5                  2.665233\n",
       "cqt_spectral_centroid_mean_       2.303028\n",
       "percept_freq_var_svd_3            2.215747\n",
       "percept_freq_mean_svd_1           1.831371\n",
       "cqt_per_freq_mean_svd_0           1.830931\n",
       "percept_freq_var_svd_0            1.749767\n",
       "percept_freq_var_svd_2            1.706813\n",
       "mfcc_quef_var_10                  1.697975\n",
       "mfcc_quef_mean_8                  1.684112\n",
       "percussive_per_freq_var_svd_2     1.670148"
      ]
     },
     "execution_count": 30,
     "metadata": {},
     "output_type": "execute_result"
    }
   ],
   "source": [
    "pd.DataFrame(\n",
    "    data=model.feature_importances_, \n",
    "    index=E_train.get_feature_names_vector(features), \n",
    "    columns=['importance']\n",
    ").sort_values(by='importance', ascending=False).head(15)"
   ]
  },
  {
   "cell_type": "code",
   "execution_count": 59,
   "id": "8f267351-9575-4353-ac54-9a3a2a6ecfcd",
   "metadata": {},
   "outputs": [],
   "source": [
    "fmax=300\n",
    "Extractor.register_extractor('pyin', lambda audio: librosa.pyin(y=audio, sr=sr, fmin=fmin, fmax=fmax))\n",
    "Extractor.register_extractor('f0', lambda pyin: pyin[0])\n",
    "Extractor.register_extractor('f0_mean', lambda f0: np.mean(f0))\n",
    "Extractor.register_extractor('f0_var', lambda f0: np.var(f0))\n",
    "Extractor.register_extractor('voiced', lambda pyin: pyin[1])\n",
    "Extractor.register_extractor('voiced_f0', lambda f0, voiced: f0[voiced])\n",
    "Extractor.register_extractor('voiced_f0_mean', lambda f0: np.mean(f0))\n",
    "Extractor.register_extractor('voiced_f0_var', lambda f0: np.var(f0))\n",
    "Extractor.register_extractor('voiced_percent', lambda voiced: np.mean(voiced))"
   ]
  },
  {
   "cell_type": "code",
   "execution_count": 60,
   "id": "5a9e4dea-bdb7-493a-b0dc-74137736bdad",
   "metadata": {},
   "outputs": [
    {
     "data": {
      "application/vnd.jupyter.widget-view+json": {
       "model_id": "9d293812099243c3b63601a784e05f8d",
       "version_major": 2,
       "version_minor": 0
      },
      "text/plain": [
       "pyin:   0%|          | 0/699 [00:00<?, ?it/s]"
      ]
     },
     "metadata": {},
     "output_type": "display_data"
    },
    {
     "data": {
      "application/vnd.jupyter.widget-view+json": {
       "model_id": "7d661427036d403bb8b4d8df066c9fb6",
       "version_major": 2,
       "version_minor": 0
      },
      "text/plain": [
       "f0:   0%|          | 0/699 [00:00<?, ?it/s]"
      ]
     },
     "metadata": {},
     "output_type": "display_data"
    },
    {
     "data": {
      "application/vnd.jupyter.widget-view+json": {
       "model_id": "ffd8b08958114ada900d6b6648422a5c",
       "version_major": 2,
       "version_minor": 0
      },
      "text/plain": [
       "f0_mean:   0%|          | 0/699 [00:00<?, ?it/s]"
      ]
     },
     "metadata": {},
     "output_type": "display_data"
    },
    {
     "data": {
      "application/vnd.jupyter.widget-view+json": {
       "model_id": "3c8f39dc227a4864ac7744755868a9e6",
       "version_major": 2,
       "version_minor": 0
      },
      "text/plain": [
       "f0_var:   0%|          | 0/699 [00:00<?, ?it/s]"
      ]
     },
     "metadata": {},
     "output_type": "display_data"
    },
    {
     "data": {
      "application/vnd.jupyter.widget-view+json": {
       "model_id": "b245f0e6302042259310cd97590e7f52",
       "version_major": 2,
       "version_minor": 0
      },
      "text/plain": [
       "voiced:   0%|          | 0/699 [00:00<?, ?it/s]"
      ]
     },
     "metadata": {},
     "output_type": "display_data"
    },
    {
     "data": {
      "application/vnd.jupyter.widget-view+json": {
       "model_id": "586a025674344f30bc33f408683b6a96",
       "version_major": 2,
       "version_minor": 0
      },
      "text/plain": [
       "voiced_f0:   0%|          | 0/699 [00:00<?, ?it/s]"
      ]
     },
     "metadata": {},
     "output_type": "display_data"
    },
    {
     "data": {
      "application/vnd.jupyter.widget-view+json": {
       "model_id": "f01f946b52ce455e881e2b582675a25c",
       "version_major": 2,
       "version_minor": 0
      },
      "text/plain": [
       "voiced_f0_mean:   0%|          | 0/699 [00:00<?, ?it/s]"
      ]
     },
     "metadata": {},
     "output_type": "display_data"
    },
    {
     "data": {
      "application/vnd.jupyter.widget-view+json": {
       "model_id": "4e9e590dd6244b0bac338e108d2fdcf2",
       "version_major": 2,
       "version_minor": 0
      },
      "text/plain": [
       "voiced_f0_var:   0%|          | 0/699 [00:00<?, ?it/s]"
      ]
     },
     "metadata": {},
     "output_type": "display_data"
    },
    {
     "data": {
      "application/vnd.jupyter.widget-view+json": {
       "model_id": "4025478901824e9783193a2fc92f443c",
       "version_major": 2,
       "version_minor": 0
      },
      "text/plain": [
       "voiced_percent:   0%|          | 0/699 [00:00<?, ?it/s]"
      ]
     },
     "metadata": {},
     "output_type": "display_data"
    },
    {
     "data": {
      "application/vnd.jupyter.widget-view+json": {
       "model_id": "ff6d0de529674e389f226167e7c6f387",
       "version_major": 2,
       "version_minor": 0
      },
      "text/plain": [
       "pyin:   0%|          | 0/300 [00:00<?, ?it/s]"
      ]
     },
     "metadata": {},
     "output_type": "display_data"
    },
    {
     "data": {
      "application/vnd.jupyter.widget-view+json": {
       "model_id": "0557c372a7ef4ed0b96739b927c5475c",
       "version_major": 2,
       "version_minor": 0
      },
      "text/plain": [
       "f0:   0%|          | 0/300 [00:00<?, ?it/s]"
      ]
     },
     "metadata": {},
     "output_type": "display_data"
    },
    {
     "data": {
      "application/vnd.jupyter.widget-view+json": {
       "model_id": "7d081a07331945ab8416698edd09e836",
       "version_major": 2,
       "version_minor": 0
      },
      "text/plain": [
       "f0_mean:   0%|          | 0/300 [00:00<?, ?it/s]"
      ]
     },
     "metadata": {},
     "output_type": "display_data"
    },
    {
     "data": {
      "application/vnd.jupyter.widget-view+json": {
       "model_id": "6ce2fbd9346a45ddb21a52281d546217",
       "version_major": 2,
       "version_minor": 0
      },
      "text/plain": [
       "f0_var:   0%|          | 0/300 [00:00<?, ?it/s]"
      ]
     },
     "metadata": {},
     "output_type": "display_data"
    },
    {
     "data": {
      "application/vnd.jupyter.widget-view+json": {
       "model_id": "162d3101ad8446f59f96cc76e48c3279",
       "version_major": 2,
       "version_minor": 0
      },
      "text/plain": [
       "voiced:   0%|          | 0/300 [00:00<?, ?it/s]"
      ]
     },
     "metadata": {},
     "output_type": "display_data"
    },
    {
     "data": {
      "application/vnd.jupyter.widget-view+json": {
       "model_id": "8dfe1322d3db4385be24d6b711ce8380",
       "version_major": 2,
       "version_minor": 0
      },
      "text/plain": [
       "voiced_f0:   0%|          | 0/300 [00:00<?, ?it/s]"
      ]
     },
     "metadata": {},
     "output_type": "display_data"
    },
    {
     "data": {
      "application/vnd.jupyter.widget-view+json": {
       "model_id": "dcd25318c3314d31a368b0c81cd84507",
       "version_major": 2,
       "version_minor": 0
      },
      "text/plain": [
       "voiced_f0_mean:   0%|          | 0/300 [00:00<?, ?it/s]"
      ]
     },
     "metadata": {},
     "output_type": "display_data"
    },
    {
     "data": {
      "application/vnd.jupyter.widget-view+json": {
       "model_id": "f2122858aaab40068f1ea6115ff8ff09",
       "version_major": 2,
       "version_minor": 0
      },
      "text/plain": [
       "voiced_f0_var:   0%|          | 0/300 [00:00<?, ?it/s]"
      ]
     },
     "metadata": {},
     "output_type": "display_data"
    },
    {
     "data": {
      "application/vnd.jupyter.widget-view+json": {
       "model_id": "69e1633f76c240a7ac98df44b679a125",
       "version_major": 2,
       "version_minor": 0
      },
      "text/plain": [
       "voiced_percent:   0%|          | 0/300 [00:00<?, ?it/s]"
      ]
     },
     "metadata": {},
     "output_type": "display_data"
    }
   ],
   "source": [
    "E_train.soft_extract()\n",
    "E_eval.soft_extract()"
   ]
  },
  {
   "cell_type": "code",
   "execution_count": 65,
   "id": "ce1679bd-d54d-41ce-91a1-787f58b398cf",
   "metadata": {},
   "outputs": [
    {
     "data": {
      "application/vnd.jupyter.widget-view+json": {
       "model_id": "8bfebf104d9b42e48cf917f83af5e1f1",
       "version_major": 2,
       "version_minor": 0
      },
      "text/plain": [
       "MetricVisualizer(layout=Layout(align_self='stretch', height='500px'))"
      ]
     },
     "metadata": {},
     "output_type": "display_data"
    },
    {
     "name": "stdout",
     "output_type": "stream",
     "text": [
      "0:\tlearn: 0.3218884\ttest: 0.3433333\tbest: 0.3433333 (0)\ttotal: 98.5ms\tremaining: 49.2s\n",
      "50:\tlearn: 0.7610873\ttest: 0.6700000\tbest: 0.6700000 (50)\ttotal: 1.81s\tremaining: 16s\n",
      "100:\tlearn: 0.8469242\ttest: 0.7233333\tbest: 0.7300000 (96)\ttotal: 3.37s\tremaining: 13.3s\n",
      "150:\tlearn: 0.9012876\ttest: 0.7666667\tbest: 0.7666667 (150)\ttotal: 5.27s\tremaining: 12.2s\n",
      "200:\tlearn: 0.9213162\ttest: 0.7966667\tbest: 0.7966667 (200)\ttotal: 6.82s\tremaining: 10.1s\n",
      "250:\tlearn: 0.9484979\ttest: 0.8066667\tbest: 0.8066667 (209)\ttotal: 8.58s\tremaining: 8.51s\n",
      "300:\tlearn: 0.9570815\ttest: 0.8233333\tbest: 0.8266667 (294)\ttotal: 10.1s\tremaining: 6.68s\n",
      "350:\tlearn: 0.9685265\ttest: 0.8266667\tbest: 0.8333333 (343)\ttotal: 11.7s\tremaining: 4.97s\n",
      "400:\tlearn: 0.9799714\ttest: 0.8366667\tbest: 0.8433333 (378)\ttotal: 13.5s\tremaining: 3.32s\n",
      "450:\tlearn: 0.9856938\ttest: 0.8333333\tbest: 0.8433333 (378)\ttotal: 14.9s\tremaining: 1.62s\n",
      "499:\tlearn: 0.9914163\ttest: 0.8433333\tbest: 0.8500000 (479)\ttotal: 16.4s\tremaining: 0us\n",
      "\n",
      "bestTest = 0.85\n",
      "bestIteration = 479\n",
      "\n",
      "Shrink model to first 480 iterations.\n",
      "\n",
      "Classification Report:\n",
      "               precision    recall  f1-score   support\n",
      "\n",
      "       blues       0.96      0.80      0.87        30\n",
      "   classical       0.90      0.93      0.92        30\n",
      "     country       0.87      0.87      0.87        30\n",
      "       disco       0.76      0.73      0.75        30\n",
      "      hiphop       0.76      0.93      0.84        30\n",
      "        jazz       0.88      1.00      0.94        30\n",
      "       metal       0.93      0.83      0.88        30\n",
      "         pop       0.94      0.97      0.95        30\n",
      "      reggae       0.74      0.77      0.75        30\n",
      "        rock       0.80      0.67      0.73        30\n",
      "\n",
      "    accuracy                           0.85       300\n",
      "   macro avg       0.85      0.85      0.85       300\n",
      "weighted avg       0.85      0.85      0.85       300\n",
      "\n",
      "Evaluation Accuracy: 0.8500\n"
     ]
    }
   ],
   "source": [
    "features = ['bpm',\n",
    "    'cqt_per_freq_mean', 'cqt_per_freq_var', \n",
    "    'harmonic_per_freq_mean', 'harmonic_per_freq_var', \n",
    "    'percussive_per_freq_mean', 'percussive_per_freq_var',\n",
    "    'mfcc_quef_mean', 'mfcc_quef_var', \n",
    "    'cqt_spectral_centroid_mean', 'cqt_spectral_centroid_var', \n",
    "    'cqt_chroma_mean', 'cqt_chroma_var', \n",
    "    'harmonic_chroma_freq_mean', 'harmonic_chroma_freq_var', \n",
    "    'cqt_rolloff_mean', 'cqt_rolloff_var', \n",
    "    'cqt_bandwidth_mean', 'cqt_bandwidth_var',\n",
    "    'percept_freq_mean', 'percept_freq_var',\n",
    "    'stft_chroma_mean', 'stft_chroma_var',\n",
    "    'harmonic_mean',\n",
    "    ]\n",
    "\n",
    "model, acc = train_and_evaluate_catboost(\n",
    "    idx_eval=E_eval.get_features(['idx'])[:,0],\n",
    "    X_train=E_train.get_features(features),\n",
    "    X_eval=E_eval.get_features(features),\n",
    "    y_train=E_train.get_features(['y'])[:,0], \n",
    "    y_eval=E_eval.get_features(['y'])[:,0],\n",
    ")"
   ]
  },
  {
   "cell_type": "code",
   "execution_count": null,
   "id": "fcd802f2-b2ab-4289-8eb6-cd03ce1a42af",
   "metadata": {},
   "outputs": [],
   "source": []
  },
  {
   "cell_type": "markdown",
   "id": "4aed6724-b35c-4224-9f49-d3e3906c85c9",
   "metadata": {},
   "source": [
    "**ChatGPT query**\n",
    "Please write a small snippet of code. It should shift CQT spectrogram down based on F0 and crop to 40 frequency bins. F0 is given in Hz, CQT frequencies are in separate array cqt_frequencies"
   ]
  },
  {
   "cell_type": "code",
   "execution_count": 66,
   "id": "94b1d468-5681-446c-971a-eaef15ade5bb",
   "metadata": {},
   "outputs": [],
   "source": [
    "def shift_cqt_by_f0(S: np.ndarray, F0: np.ndarray, voiced: np.ndarray, cqt_frequencies: np.ndarray) -> np.ndarray:\n",
    "    \"\"\"\n",
    "    Shift CQT spectrogram down based on F0 and crop to 40 frequency bins.\n",
    "    \n",
    "    Parameters\n",
    "    ----------\n",
    "    S : np.ndarray\n",
    "        CQT spectrogram, shape (n_freq, n_frames).\n",
    "    F0 : float\n",
    "        Fundamental frequency in Hz.\n",
    "    cqt_frequencies : np.ndarray\n",
    "        Array of center frequencies for the CQT bins, sorted ascending.\n",
    "        \n",
    "    Returns\n",
    "    -------\n",
    "    S_cropped : np.ndarray\n",
    "        Shifted and cropped CQT spectrogram, shape (40, n_frames).\n",
    "    \"\"\"\n",
    "    # 1. Find which bin is closest to F0\n",
    "    F0[~voiced] = 0\n",
    "    offsets = np.argmin(np.abs(cqt_frequencies.reshape(-1, 1) - F0.reshape(1, -1)), axis=0)\n",
    "\n",
    "    # 2. Shift the spectrogram so that this bin appears near the top\n",
    "    #    Negative offset rolls elements upward (towards index 0).\n",
    "    S = np.array([np.roll(frame, -offset) for frame, offset in zip(S.T, offsets)]).T\n",
    "    return S[:40, voiced]"
   ]
  },
  {
   "cell_type": "code",
   "execution_count": 68,
   "id": "26d31aa5-6ce7-4f9c-899b-d89701e9b14c",
   "metadata": {},
   "outputs": [
    {
     "data": {
      "text/plain": [
       "<matplotlib.collections.PolyQuadMesh at 0x9d3814050>"
      ]
     },
     "execution_count": 68,
     "metadata": {},
     "output_type": "execute_result"
    },
    {
     "data": {
      "image/png": "[encoded data removed]",
      "text/plain": [
       "<Figure size 640x480 with 2 Axes>"
      ]
     },
     "metadata": {},
     "output_type": "display_data"
    }
   ],
   "source": [
    "plt.subplot(2, 1, 1)\n",
    "plt.pcolor(E_train.features['cqt'][0])\n",
    "chifted_cqt = shift_cqt_by_f0(E_train.features['cqt'][0], \n",
    "                              E_train.features['f0'][0], \n",
    "                              E_train.features['voiced'][0], \n",
    "                              cqt_frequencies)\n",
    "plt.subplot(2, 1, 2)\n",
    "plt.pcolor(chifted_cqt)"
   ]
  },
  {
   "cell_type": "code",
   "execution_count": 70,
   "id": "e998cab3-fb71-4e44-9412-7e39a4b6d541",
   "metadata": {},
   "outputs": [],
   "source": [
    "Extractor.register_extractor('overtones', lambda cqt, f0, voiced: \n",
    "                             shift_cqt_by_f0(cqt, f0, voiced, cqt_frequencies))\n",
    "Extractor.register_extractor('overtones_freq_mean', lambda overtones: \n",
    "                             np.mean(overtones, axis=1) if overtones.shape[1] > 0 else np.zeros(overtones.shape[0]))\n",
    "Extractor.register_extractor('overtones_freq_var', lambda overtones: \n",
    "                             np.var(overtones, axis=1) if overtones.shape[1] > 0 else np.zeros(overtones.shape[0]))\n",
    "# Extractor.register_sklearn_extractor('overtones_freq_mean_svd', \n",
    "#                                      ['overtones_freq_mean'], \n",
    "#                                      TruncatedSVD(n_components=n_tsvd_components, n_iter=n_svd_iter, random_state=42))\n",
    "# Extractor.register_sklearn_extractor('overtones_freq_var_svd', \n",
    "#                                      ['overtones_freq_var'], \n",
    "#                                      TruncatedSVD(n_components=n_tsvd_components, n_iter=n_svd_iter, random_state=42))"
   ]
  },
  {
   "cell_type": "code",
   "execution_count": 71,
   "id": "c5fb4a70-3f6c-4fb7-b18d-9c7d41ddfe89",
   "metadata": {},
   "outputs": [
    {
     "data": {
      "application/vnd.jupyter.widget-view+json": {
       "model_id": "5c427119475745698e698b0340bf2ece",
       "version_major": 2,
       "version_minor": 0
      },
      "text/plain": [
       "overtones:   0%|          | 0/699 [00:00<?, ?it/s]"
      ]
     },
     "metadata": {},
     "output_type": "display_data"
    },
    {
     "data": {
      "application/vnd.jupyter.widget-view+json": {
       "model_id": "ccfcaa7a616b4627a9bb46ce6ab7cb5a",
       "version_major": 2,
       "version_minor": 0
      },
      "text/plain": [
       "overtones_freq_mean:   0%|          | 0/699 [00:00<?, ?it/s]"
      ]
     },
     "metadata": {},
     "output_type": "display_data"
    },
    {
     "data": {
      "application/vnd.jupyter.widget-view+json": {
       "model_id": "f586496d4af347d2b74b60247148e908",
       "version_major": 2,
       "version_minor": 0
      },
      "text/plain": [
       "overtones_freq_var:   0%|          | 0/699 [00:00<?, ?it/s]"
      ]
     },
     "metadata": {},
     "output_type": "display_data"
    },
    {
     "data": {
      "application/vnd.jupyter.widget-view+json": {
       "model_id": "cba83f943bdd44dcb6c7b5a49ca91a0b",
       "version_major": 2,
       "version_minor": 0
      },
      "text/plain": [
       "overtones:   0%|          | 0/300 [00:00<?, ?it/s]"
      ]
     },
     "metadata": {},
     "output_type": "display_data"
    },
    {
     "data": {
      "application/vnd.jupyter.widget-view+json": {
       "model_id": "3e2e680e947e400a850353c9e4dc5d17",
       "version_major": 2,
       "version_minor": 0
      },
      "text/plain": [
       "overtones_freq_mean:   0%|          | 0/300 [00:00<?, ?it/s]"
      ]
     },
     "metadata": {},
     "output_type": "display_data"
    },
    {
     "data": {
      "application/vnd.jupyter.widget-view+json": {
       "model_id": "422da086b27443448632cff797f644f2",
       "version_major": 2,
       "version_minor": 0
      },
      "text/plain": [
       "overtones_freq_var:   0%|          | 0/300 [00:00<?, ?it/s]"
      ]
     },
     "metadata": {},
     "output_type": "display_data"
    }
   ],
   "source": [
    "E_train.soft_extract()\n",
    "E_eval.soft_extract()"
   ]
  },
  {
   "cell_type": "code",
   "execution_count": 85,
   "id": "91632cae-1530-413e-a095-b622a14afafd",
   "metadata": {},
   "outputs": [
    {
     "data": {
      "application/vnd.jupyter.widget-view+json": {
       "model_id": "ddf743a46be54872ad62be73df6e3904",
       "version_major": 2,
       "version_minor": 0
      },
      "text/plain": [
       "MetricVisualizer(layout=Layout(align_self='stretch', height='500px'))"
      ]
     },
     "metadata": {},
     "output_type": "display_data"
    },
    {
     "name": "stdout",
     "output_type": "stream",
     "text": [
      "0:\tlearn: 0.3218884\ttest: 0.3433333\tbest: 0.3433333 (0)\ttotal: 85.5ms\tremaining: 42.6s\n",
      "50:\tlearn: 0.7596567\ttest: 0.6733333\tbest: 0.6800000 (40)\ttotal: 2s\tremaining: 17.6s\n",
      "100:\tlearn: 0.8569385\ttest: 0.7266667\tbest: 0.7266667 (100)\ttotal: 3.48s\tremaining: 13.8s\n",
      "150:\tlearn: 0.8955651\ttest: 0.7600000\tbest: 0.7666667 (146)\ttotal: 4.99s\tremaining: 11.5s\n",
      "200:\tlearn: 0.9184549\ttest: 0.7666667\tbest: 0.7666667 (146)\ttotal: 6.38s\tremaining: 9.49s\n",
      "250:\tlearn: 0.9399142\ttest: 0.7900000\tbest: 0.7933333 (249)\ttotal: 7.79s\tremaining: 7.72s\n",
      "300:\tlearn: 0.9527897\ttest: 0.7933333\tbest: 0.8000000 (282)\ttotal: 9.69s\tremaining: 6.41s\n",
      "350:\tlearn: 0.9628040\ttest: 0.8100000\tbest: 0.8100000 (347)\ttotal: 11.2s\tremaining: 4.76s\n",
      "400:\tlearn: 0.9814020\ttest: 0.8033333\tbest: 0.8133333 (382)\ttotal: 12.6s\tremaining: 3.12s\n",
      "450:\tlearn: 0.9842632\ttest: 0.8166667\tbest: 0.8166667 (447)\ttotal: 14.1s\tremaining: 1.53s\n",
      "499:\tlearn: 0.9871245\ttest: 0.8133333\tbest: 0.8200000 (452)\ttotal: 16.2s\tremaining: 0us\n",
      "\n",
      "bestTest = 0.82\n",
      "bestIteration = 452\n",
      "\n",
      "Shrink model to first 453 iterations.\n",
      "\n",
      "Classification Report:\n",
      "               precision    recall  f1-score   support\n",
      "\n",
      "       blues       0.96      0.77      0.85        30\n",
      "   classical       0.91      0.97      0.94        30\n",
      "     country       0.83      0.83      0.83        30\n",
      "       disco       0.69      0.67      0.68        30\n",
      "      hiphop       0.72      0.93      0.81        30\n",
      "        jazz       0.94      0.97      0.95        30\n",
      "       metal       0.86      0.83      0.85        30\n",
      "         pop       0.88      0.97      0.92        30\n",
      "      reggae       0.78      0.70      0.74        30\n",
      "        rock       0.65      0.57      0.61        30\n",
      "\n",
      "    accuracy                           0.82       300\n",
      "   macro avg       0.82      0.82      0.82       300\n",
      "weighted avg       0.82      0.82      0.82       300\n",
      "\n",
      "Evaluation Accuracy: 0.8200\n"
     ]
    }
   ],
   "source": [
    "features = ['bpm',\n",
    "    'cqt_per_freq_mean', 'cqt_per_freq_var', \n",
    "    'harmonic_per_freq_mean', 'harmonic_per_freq_var', \n",
    "    'percussive_per_freq_mean', 'percussive_per_freq_var',\n",
    "    'mfcc_quef_mean', 'mfcc_quef_var', \n",
    "    'cqt_spectral_centroid_mean', 'cqt_spectral_centroid_var', \n",
    "    'cqt_chroma_mean', 'cqt_chroma_var', \n",
    "    'harmonic_chroma_freq_mean', 'harmonic_chroma_freq_var', \n",
    "    'cqt_rolloff_mean', 'cqt_rolloff_var', \n",
    "    'cqt_bandwidth_mean', 'cqt_bandwidth_var',\n",
    "    'percept_freq_mean', 'percept_freq_var',\n",
    "    'stft_chroma_mean', 'stft_chroma_var',\n",
    "    'harmonic_mean',\n",
    "    ]\n",
    "\n",
    "model, acc = train_and_evaluate_catboost(\n",
    "    idx_eval=E_eval.get_features(['idx'])[:,0],\n",
    "    X_train=E_train.get_features(features),\n",
    "    X_eval=E_eval.get_features(features),\n",
    "    y_train=E_train.get_features(['y'])[:,0], \n",
    "    y_eval=E_eval.get_features(['y'])[:,0],\n",
    ")"
   ]
  },
  {
   "cell_type": "code",
   "execution_count": 80,
   "id": "83d5d7ba-e786-4096-96f8-0ccf5351eeab",
   "metadata": {},
   "outputs": [
    {
     "data": {
      "text/html": [
       "<div>\n",
       "<style scoped>\n",
       "    .dataframe tbody tr th:only-of-type {\n",
       "        vertical-align: middle;\n",
       "    }\n",
       "\n",
       "    .dataframe tbody tr th {\n",
       "        vertical-align: top;\n",
       "    }\n",
       "\n",
       "    .dataframe thead th {\n",
       "        text-align: right;\n",
       "    }\n",
       "</style>\n",
       "<table border=\"1\" class=\"dataframe\">\n",
       "  <thead>\n",
       "    <tr style=\"text-align: right;\">\n",
       "      <th></th>\n",
       "      <th>importance</th>\n",
       "    </tr>\n",
       "  </thead>\n",
       "  <tbody>\n",
       "    <tr>\n",
       "      <th>percussive_per_freq_mean_6</th>\n",
       "      <td>0.0</td>\n",
       "    </tr>\n",
       "    <tr>\n",
       "      <th>harmonic_per_freq_var_36</th>\n",
       "      <td>0.0</td>\n",
       "    </tr>\n",
       "    <tr>\n",
       "      <th>percept_freq_var_49</th>\n",
       "      <td>0.0</td>\n",
       "    </tr>\n",
       "    <tr>\n",
       "      <th>mfcc_quef_var_12</th>\n",
       "      <td>0.0</td>\n",
       "    </tr>\n",
       "    <tr>\n",
       "      <th>harmonic_per_freq_var_32</th>\n",
       "      <td>0.0</td>\n",
       "    </tr>\n",
       "    <tr>\n",
       "      <th>harmonic_per_freq_var_31</th>\n",
       "      <td>0.0</td>\n",
       "    </tr>\n",
       "    <tr>\n",
       "      <th>harmonic_per_freq_var_29</th>\n",
       "      <td>0.0</td>\n",
       "    </tr>\n",
       "    <tr>\n",
       "      <th>harmonic_per_freq_var_28</th>\n",
       "      <td>0.0</td>\n",
       "    </tr>\n",
       "    <tr>\n",
       "      <th>harmonic_per_freq_var_22</th>\n",
       "      <td>0.0</td>\n",
       "    </tr>\n",
       "    <tr>\n",
       "      <th>mfcc_quef_mean_1</th>\n",
       "      <td>0.0</td>\n",
       "    </tr>\n",
       "    <tr>\n",
       "      <th>percept_freq_var_44</th>\n",
       "      <td>0.0</td>\n",
       "    </tr>\n",
       "    <tr>\n",
       "      <th>cqt_chroma_var_</th>\n",
       "      <td>0.0</td>\n",
       "    </tr>\n",
       "    <tr>\n",
       "      <th>harmonic_chroma_freq_mean_0</th>\n",
       "      <td>0.0</td>\n",
       "    </tr>\n",
       "    <tr>\n",
       "      <th>harmonic_chroma_freq_mean_1</th>\n",
       "      <td>0.0</td>\n",
       "    </tr>\n",
       "    <tr>\n",
       "      <th>harmonic_chroma_freq_mean_5</th>\n",
       "      <td>0.0</td>\n",
       "    </tr>\n",
       "  </tbody>\n",
       "</table>\n",
       "</div>"
      ],
      "text/plain": [
       "                             importance\n",
       "percussive_per_freq_mean_6          0.0\n",
       "harmonic_per_freq_var_36            0.0\n",
       "percept_freq_var_49                 0.0\n",
       "mfcc_quef_var_12                    0.0\n",
       "harmonic_per_freq_var_32            0.0\n",
       "harmonic_per_freq_var_31            0.0\n",
       "harmonic_per_freq_var_29            0.0\n",
       "harmonic_per_freq_var_28            0.0\n",
       "harmonic_per_freq_var_22            0.0\n",
       "mfcc_quef_mean_1                    0.0\n",
       "percept_freq_var_44                 0.0\n",
       "cqt_chroma_var_                     0.0\n",
       "harmonic_chroma_freq_mean_0         0.0\n",
       "harmonic_chroma_freq_mean_1         0.0\n",
       "harmonic_chroma_freq_mean_5         0.0"
      ]
     },
     "execution_count": 80,
     "metadata": {},
     "output_type": "execute_result"
    }
   ],
   "source": [
    "pd.DataFrame(\n",
    "    data=model.feature_importances_, \n",
    "    index=E_train.get_feature_names_vector(features), \n",
    "    columns=['importance']\n",
    ").sort_values(by='importance', ascending=True).head(15)"
   ]
  },
  {
   "cell_type": "code",
   "execution_count": 39,
   "id": "7e6aeaa8-da1b-4870-9ce3-3524ab01c2dd",
   "metadata": {},
   "outputs": [
    {
     "data": {
      "application/vnd.jupyter.widget-view+json": {
       "model_id": "2d2939e44c994ed5b8ac00441404a02a",
       "version_major": 2,
       "version_minor": 0
      },
      "text/plain": [
       "MetricVisualizer(layout=Layout(align_self='stretch', height='500px'))"
      ]
     },
     "metadata": {},
     "output_type": "display_data"
    },
    {
     "name": "stdout",
     "output_type": "stream",
     "text": [
      "0:\tlearn: 0.2918455\ttest: 0.2833333\tbest: 0.2833333 (0)\ttotal: 23.9ms\tremaining: 11.9s\n",
      "50:\tlearn: 0.7911302\ttest: 0.6866667\tbest: 0.6866667 (50)\ttotal: 710ms\tremaining: 6.25s\n",
      "100:\tlearn: 0.8769671\ttest: 0.7300000\tbest: 0.7400000 (81)\ttotal: 1.51s\tremaining: 5.98s\n",
      "150:\tlearn: 0.9198856\ttest: 0.7566667\tbest: 0.7566667 (150)\ttotal: 2.32s\tremaining: 5.37s\n",
      "200:\tlearn: 0.9513591\ttest: 0.7900000\tbest: 0.7900000 (200)\ttotal: 2.88s\tremaining: 4.29s\n",
      "250:\tlearn: 0.9656652\ttest: 0.7900000\tbest: 0.7933333 (228)\ttotal: 3.44s\tremaining: 3.41s\n",
      "300:\tlearn: 0.9742489\ttest: 0.7933333\tbest: 0.8000000 (262)\ttotal: 3.99s\tremaining: 2.64s\n",
      "350:\tlearn: 0.9842632\ttest: 0.7800000\tbest: 0.8000000 (262)\ttotal: 4.53s\tremaining: 1.92s\n",
      "400:\tlearn: 0.9899857\ttest: 0.7966667\tbest: 0.8000000 (262)\ttotal: 5.05s\tremaining: 1.25s\n",
      "450:\tlearn: 0.9942775\ttest: 0.7966667\tbest: 0.8000000 (262)\ttotal: 5.6s\tremaining: 609ms\n",
      "499:\tlearn: 0.9942775\ttest: 0.8100000\tbest: 0.8166667 (492)\ttotal: 6.12s\tremaining: 0us\n",
      "\n",
      "bestTest = 0.8166666667\n",
      "bestIteration = 492\n",
      "\n",
      "Shrink model to first 493 iterations.\n",
      "\n",
      "Classification Report:\n",
      "               precision    recall  f1-score   support\n",
      "\n",
      "       blues       0.93      0.83      0.88        30\n",
      "   classical       0.91      1.00      0.95        30\n",
      "     country       0.81      0.83      0.82        30\n",
      "       disco       0.80      0.67      0.73        30\n",
      "      hiphop       0.70      0.87      0.78        30\n",
      "        jazz       0.93      0.90      0.92        30\n",
      "       metal       0.96      0.77      0.85        30\n",
      "         pop       0.78      0.83      0.81        30\n",
      "      reggae       0.74      0.83      0.78        30\n",
      "        rock       0.68      0.63      0.66        30\n",
      "\n",
      "    accuracy                           0.82       300\n",
      "   macro avg       0.82      0.82      0.82       300\n",
      "weighted avg       0.82      0.82      0.82       300\n",
      "\n",
      "Evaluation Accuracy: 0.8167\n"
     ]
    }
   ],
   "source": [
    "features = ['stats', 'rms', 'bpm',\n",
    "    'cqt_per_freq_mean_svd', 'cqt_per_freq_var_svd', \n",
    "    'harmonic_per_freq_mean_svd', 'harmonic_per_freq_var_svd', \n",
    "    'percussive_per_freq_mean_svd', 'percussive_per_freq_var_svd',\n",
    "    'mfcc_quef_mean', 'mfcc_quef_var', \n",
    "    'cqt_spectral_centroid_mean', 'cqt_spectral_centroid_var', \n",
    "    'cqt_chroma_mean', 'cqt_chroma_var', \n",
    "    'harmonic_chroma_freq_mean', 'harmonic_chroma_freq_var', \n",
    "    'cqt_rolloff_mean', 'cqt_rolloff_var', \n",
    "    'cqt_bandwidth_mean', 'cqt_bandwidth_var',\n",
    "    'percept_freq_mean_svd', 'percept_freq_var_svd',\n",
    "    'voiced_f0_mean', 'f0_var',\n",
    "    'overtones_freq_mean_svd', 'overtones_freq_var_svd']\n",
    "\n",
    "model, acc = train_and_evaluate_catboost(\n",
    "    idx_eval=E_eval.get_features(['idx'])[:,0],\n",
    "    X_train=E_train.get_features(features),\n",
    "    X_eval=E_eval.get_features(features),\n",
    "    y_train=E_train.get_features(['y'])[:,0], \n",
    "    y_eval=E_eval.get_features(['y'])[:,0],\n",
    ")"
   ]
  },
  {
   "cell_type": "markdown",
   "id": "ed7d1d16-45ff-475d-80ec-6fcb7264da1e",
   "metadata": {},
   "source": [
    "ChatGPT query\n",
    "\n",
    "Write a python function with a following signature\n",
    "\n",
    "```\n",
    "rnd = np.random.default_rng(42)\n",
    "def crop_by_beats(beat, harmony_specs, percussion_specs, frames_per_beat = 4, number_of_beats=16, number_of_samples=8)\n",
    "    pass\n",
    "```\n",
    "\n",
    "beats is the integer array of frames at which there was a beat\n",
    "upsample beats , for two neighboring values insert frames_per_beat-1 values between them uniformly cropped to the nearest frame\n",
    "\n",
    "Next number_of_samples times sample starting position in the upsampled beats array and take number_of_beats * frames_per_beat consequent beats. Position must be sampled aligned to number_of_beats * frames_per_beat.\n",
    "\n",
    "harmony_specs is a list of several spectrograms with harmonic parts of melody.\n",
    "for each of harmony spec calculate the mean along time axis (axis = 1) between the consequent beats of the sample including the frames at which there was a beat\n",
    "\n",
    "percussion_specs is a list of several spectrograms with percussion parts of melody. For each of percussion spec calculate the downsampled spectrogram as with harmony specs but shift the spectrogram so that the first sample was centered at the beat. The resulting length must be the same\n",
    "\n",
    "return list of tuples containing downsampled spectrograms"
   ]
  },
  {
   "cell_type": "code",
   "execution_count": 40,
   "id": "c6db06bb-4ad3-4406-86d5-a924add6b614",
   "metadata": {},
   "outputs": [],
   "source": [
    "rnd = np.random.default_rng(42)\n",
    "\n",
    "def crop_by_beats(\n",
    "    beat,\n",
    "    harmony_specs,\n",
    "    percussion_specs,\n",
    "    frames_per_beat=4,\n",
    "    number_of_beats=8,\n",
    "    number_of_samples=8\n",
    "):\n",
    "    \"\"\"\n",
    "    Upsample the array of integer beat positions and then randomly extract \n",
    "    (number_of_samples) chunks of length (number_of_beats * frames_per_beat).\n",
    "    \n",
    "    For each chunk, compute the downsampled spectrogram:\n",
    "      - For harmonic specs: take the mean along the time axis (axis=1) \n",
    "        between consecutive upsampled-beat boundaries.\n",
    "      - For percussion specs: take the mean along the time axis over intervals \n",
    "        shifted so that each is centered at the corresponding upsampled beat.\n",
    "    \n",
    "    Parameters\n",
    "    ----------\n",
    "    beat : 1D array-like of int\n",
    "        Array of frame indices at which a beat occurs. Must be strictly increasing.\n",
    "    harmony_specs : list of np.ndarray\n",
    "        Each element is a spectrogram for a harmonic component with shape \n",
    "        (freq_bins, time_frames).\n",
    "    percussion_specs : list of np.ndarray\n",
    "        Each element is a spectrogram for a percussion component with shape \n",
    "        (freq_bins, time_frames).\n",
    "    frames_per_beat : int\n",
    "        Number of subdivisions per original beat when upsampling.\n",
    "    number_of_beats : int\n",
    "        How many beats (in terms of upsampled subdivisions) to include in each chunk.\n",
    "    number_of_samples : int\n",
    "        How many random chunks to extract.\n",
    "    \n",
    "    Returns\n",
    "    -------\n",
    "    list of tuples\n",
    "        A list (of length `number_of_samples`). Each element is:\n",
    "        \n",
    "            (harmony_downsampled_list, percussion_downsampled_list)\n",
    "        \n",
    "        where `harmony_downsampled_list` and `percussion_downsampled_list` are each \n",
    "        lists of spectrograms (in the same order as `harmony_specs` and \n",
    "        `percussion_specs`). Each downsampled spectrogram has shape:\n",
    "        \n",
    "            (freq_bins, number_of_beats * frames_per_beat)\n",
    "    \"\"\"\n",
    "    \n",
    "    # 1) Upsample 'beat' by inserting (frames_per_beat - 1) points \n",
    "    #    uniformly between each pair of consecutive beats.\n",
    "    up_beats = []\n",
    "    beat = np.array(beat, dtype=int)\n",
    "    for i in range(len(beat) - 1):\n",
    "        start = beat[i]\n",
    "        end = beat[i + 1]\n",
    "        diff = end - start\n",
    "        \n",
    "        # Insert frames_per_beat subdivisions between start and end, \n",
    "        # snapping to the nearest integer frame.\n",
    "        for k in range(frames_per_beat):\n",
    "            val = start + round(k * diff / frames_per_beat)\n",
    "            # Avoid duplicates if rounding yields same as last appended\n",
    "            if not up_beats or val != up_beats[-1]:\n",
    "                up_beats.append(val)\n",
    "    \n",
    "    up_beats = np.array(up_beats, dtype=int)\n",
    "    \n",
    "    # 2) We need (number_of_beats * frames_per_beat + 1) upsampled-beat \n",
    "    #    positions for each chunk (the +1 is because we need the right boundary).\n",
    "    needed_length = number_of_beats * frames_per_beat + 1\n",
    "    total_upsampled = len(up_beats)\n",
    "    \n",
    "    # If we cannot extract even one chunk, return empty\n",
    "    max_start = total_upsampled - needed_length\n",
    "    if max_start < 0:\n",
    "        return []\n",
    "    \n",
    "    # Possible start indices must be multiples of (4 * frames_per_beat)\n",
    "    # so that each chunk is \"aligned\".\n",
    "    stride = number_of_beats * frames_per_beat\n",
    "    possible_starts = np.arange(0, max_start + 1, stride)\n",
    "    \n",
    "    # Randomly choose 'number_of_samples' start indices from these possibilities\n",
    "    chosen_starts = rnd.choice(possible_starts, size=number_of_samples, replace=True)\n",
    "    \n",
    "    results = []\n",
    "    for start_idx in chosen_starts:\n",
    "        # Boundaries for this sample\n",
    "        boundary_points = up_beats[start_idx : start_idx + needed_length]\n",
    "        # === 3) Downsample each harmony spec ===\n",
    "        harmony_downsampled = []\n",
    "        for spec in harmony_specs:\n",
    "            # spec has shape (freq_bins, time_frames)\n",
    "            freq_bins = spec.shape[0]\n",
    "            \n",
    "            # We'll get (number_of_beats * frames_per_beat) intervals\n",
    "            ds_harm = np.zeros((freq_bins, number_of_beats * frames_per_beat),\n",
    "                               dtype=spec.dtype)\n",
    "            for j in range(number_of_beats * frames_per_beat):\n",
    "                left = boundary_points[j]\n",
    "                right = boundary_points[j + 1]\n",
    "                # Take the average along axis=1 (time axis)\n",
    "                ds_harm[:, j] = spec[:, left:right].mean(axis=1)\n",
    "\n",
    "            harmony_downsampled.append(ds_harm)\n",
    "        \n",
    "        # === 4) Downsample each percussion spec with centering ===\n",
    "        percussion_downsampled = []\n",
    "        percussion_sampled = []\n",
    "        for spec in percussion_specs:\n",
    "            \n",
    "            freq_bins = spec.shape[0]\n",
    "            ds_perc = np.zeros((freq_bins, number_of_beats * frames_per_beat),\n",
    "                               dtype=spec.dtype)\n",
    "\n",
    "            old_right = None\n",
    "            for j in range(number_of_beats * frames_per_beat):\n",
    "                dist = boundary_points[j + 1] - boundary_points[j]\n",
    "                right = boundary_points[j + 1] - dist // 2\n",
    "                if old_right is None:\n",
    "                    left = boundary_points[j] - dist // 2\n",
    "                    if left < 0:\n",
    "                        left = 0\n",
    "                else:\n",
    "                    left = old_right\n",
    "                old_right = right\n",
    "\n",
    "                # Average over the time axis in [left, right)\n",
    "                chunk = spec[:, left:right]\n",
    "                ds_perc[:, j] = chunk.mean(axis=1)\n",
    "\n",
    "            percussion_downsampled.append(ds_perc)\n",
    "        \n",
    "        # One result entry = (list_of_downsampled_harmony_specs, list_of_downsampled_percussion_specs)\n",
    "        results.append((harmony_downsampled, percussion_downsampled))\n",
    "    return results"
   ]
  },
  {
   "cell_type": "code",
   "execution_count": 41,
   "id": "2f127a9d-846b-463b-a674-7295da842e3a",
   "metadata": {},
   "outputs": [],
   "source": [
    "Extractor.register_extractor('sample', \n",
    "                             lambda beat, cqt, harmonic, mfcc, cqt_chroma, harmonic_chroma, percussive: \n",
    "                             crop_by_beats(\n",
    "                                 beat=beat, \n",
    "                                 harmony_specs=[cqt, harmonic, mfcc, cqt_chroma, harmonic_chroma], \n",
    "                                 percussion_specs=[percussive]\n",
    "                             ), shuffle=True, map_labels=[\n",
    "                                 ('idx', 's_idx'), \n",
    "                                 ('y', 's_y'), \n",
    "                             ])\n",
    "Extractor.register_extractor('s_cqt', lambda sample: sample[0][0])\n",
    "Extractor.register_extractor('s_harmonic', lambda sample: sample[0][1])\n",
    "Extractor.register_extractor('s_mfcc', lambda sample: sample[0][2])\n",
    "Extractor.register_extractor('s_cqt_chroma', lambda sample: sample[0][3])\n",
    "Extractor.register_extractor('s_harmonic_chroma', lambda sample: sample[0][4])\n",
    "Extractor.register_extractor('s_percussive', lambda sample: sample[1][0])"
   ]
  },
  {
   "cell_type": "code",
   "execution_count": 42,
   "id": "d2a78a9e-20c2-4df6-af7b-5191bc804124",
   "metadata": {},
   "outputs": [
    {
     "ename": "KeyError",
     "evalue": "'sample'",
     "output_type": "error",
     "traceback": [
      "\u001b[0;31m---------------------------------------------------------------------------\u001b[0m",
      "\u001b[0;31mKeyError\u001b[0m                                  Traceback (most recent call last)",
      "Cell \u001b[0;32mIn[42], line 1\u001b[0m\n\u001b[0;32m----> 1\u001b[0m \u001b[38;5;28;01mdel\u001b[39;00m \u001b[43mE_train\u001b[49m\u001b[38;5;241;43m.\u001b[39;49m\u001b[43mfeatures\u001b[49m\u001b[43m[\u001b[49m\u001b[38;5;124;43m'\u001b[39;49m\u001b[38;5;124;43msample\u001b[39;49m\u001b[38;5;124;43m'\u001b[39;49m\u001b[43m]\u001b[49m\n\u001b[1;32m      2\u001b[0m \u001b[38;5;28;01mdel\u001b[39;00m E_eval\u001b[38;5;241m.\u001b[39mfeatures[\u001b[38;5;124m'\u001b[39m\u001b[38;5;124msample\u001b[39m\u001b[38;5;124m'\u001b[39m]\n\u001b[1;32m      3\u001b[0m \u001b[38;5;28;01mfor\u001b[39;00m f \u001b[38;5;129;01min\u001b[39;00m \u001b[38;5;28mlist\u001b[39m(E_train\u001b[38;5;241m.\u001b[39mfeatures\u001b[38;5;241m.\u001b[39mkeys()):\n",
      "\u001b[0;31mKeyError\u001b[0m: 'sample'"
     ]
    }
   ],
   "source": [
    "del E_train.features['sample']\n",
    "del E_eval.features['sample']\n",
    "for f in list(E_train.features.keys()):\n",
    "    if f.startswith('s_'):\n",
    "        del E_train.features[f]\n",
    "        del E_eval.features[f]"
   ]
  },
  {
   "cell_type": "code",
   "execution_count": null,
   "id": "08d2c32d-712c-4928-9df0-0a93b73120c5",
   "metadata": {},
   "outputs": [],
   "source": [
    "E_train.soft_extract()\n",
    "E_eval.soft_extract()"
   ]
  },
  {
   "cell_type": "code",
   "execution_count": null,
   "id": "1026d150-35ad-4cd4-b44a-f3e75a8c03cb",
   "metadata": {},
   "outputs": [],
   "source": [
    "Extractor.register_extractor('s_percussive_beat_frames', \n",
    "                             lambda s_percussive: s_percussive.mean(axis=0))"
   ]
  },
  {
   "cell_type": "code",
   "execution_count": null,
   "id": "b471db37-be83-4d88-9feb-2fb4655e3cc0",
   "metadata": {},
   "outputs": [],
   "source": [
    "E_train.soft_extract()\n",
    "E_eval.soft_extract()"
   ]
  },
  {
   "cell_type": "code",
   "execution_count": null,
   "id": "84043e0c-cf40-4563-873b-1df91750a582",
   "metadata": {},
   "outputs": [],
   "source": [
    "plt.subplot(2, 2, 1)\n",
    "plt.plot(E_train.features['s_percussive_beat_frames'][0])\n",
    "plt.subplot(2, 2, 2)\n",
    "plt.plot(E_train.features['s_percussive_beat_frames'][1])\n",
    "plt.subplot(2, 2, 3)\n",
    "plt.plot(E_train.features['s_percussive_beat_frames'][2])\n",
    "plt.subplot(2, 2, 4)\n",
    "plt.plot(E_train.features['s_percussive_beat_frames'][3])"
   ]
  },
  {
   "cell_type": "code",
   "execution_count": null,
   "id": "5ad9bda3-d368-4c21-969b-452eb39b92e9",
   "metadata": {},
   "outputs": [],
   "source": [
    "from sklearn.cluster import KMeans\n",
    "\n",
    "class KMeansAdapter(KMeans):\n",
    "    def transform(self, *args, **kwargs):\n",
    "        return self.predict(*args, **kwargs).reshape(-1, 1)\n",
    "    def fit_transform(self, *args, **kwargs):\n",
    "        return self.fit_predict(*args, **kwargs).reshape(-1, 1)\n",
    "n_clusters=8\n",
    "Extractor.register_sklearn_extractor('s_percussive_beat_frames_kmeans', ['s_percussive_beat_frames'], KMeansAdapter(n_clusters=n_clusters))"
   ]
  },
  {
   "cell_type": "code",
   "execution_count": null,
   "id": "91ef5889-6de5-4b0f-94c9-e6d8ee20ea74",
   "metadata": {},
   "outputs": [],
   "source": [
    "E_train.train"
   ]
  },
  {
   "cell_type": "code",
   "execution_count": null,
   "id": "aa33435a-a8a4-4c26-96ac-8caf23b10437",
   "metadata": {},
   "outputs": [],
   "source": [
    "del E_train.features['s_percussive_beat_frames_kmeans']\n",
    "del E_eval.features['s_percussive_beat_frames_kmeans']\n",
    "E_train.soft_extract()\n",
    "E_eval.soft_extract()"
   ]
  },
  {
   "cell_type": "code",
   "execution_count": null,
   "id": "52339667-cf98-4d70-a29a-6adcadcd5ece",
   "metadata": {},
   "outputs": [],
   "source": [
    "import matplotlib.ticker as ticker\n",
    "centers = Extractor._stateful_extractors['s_percussive_beat_frames_kmeans'][0].cluster_centers_\n",
    "h = (len(centers) + 2) // 2\n",
    "for i, c in enumerate(centers):\n",
    "    ax = plt.subplot(h, 2, i + 1)\n",
    "    ax.xaxis.set_major_locator(ticker.MultipleLocator(base=4))\n",
    "    plt.plot(c)\n",
    "    plt.grid(axis='x', which='both')"
   ]
  },
  {
   "cell_type": "code",
   "execution_count": null,
   "id": "bc9e5161-9b7b-4c10-aa58-41413f9affa6",
   "metadata": {},
   "outputs": [],
   "source": [
    "Extractor.register_sklearn_extractor('s_percussive_beat_frames_svd', ['s_percussive_beat_frames'], \n",
    "                                     TruncatedSVD(\n",
    "                                         n_components=n_tsvd_components, \n",
    "                                         n_iter=n_svd_iter, \n",
    "                                         random_state=42\n",
    "                                     ))"
   ]
  },
  {
   "cell_type": "code",
   "execution_count": null,
   "id": "3745e742-70d1-4ea5-bbd1-331e9ce97a7d",
   "metadata": {},
   "outputs": [],
   "source": [
    "E_train.soft_extract()\n",
    "E_eval.soft_extract()"
   ]
  },
  {
   "cell_type": "code",
   "execution_count": null,
   "id": "e0b15de5-8541-4bec-b09b-ab30506559b5",
   "metadata": {},
   "outputs": [],
   "source": [
    "def sum_beats(E, feature_names, idx, to_idx):\n",
    "    return [np.array(list(x[1])) for x in pd.DataFrame(data=E.get_features(\n",
    "        [idx] + feature_names\n",
    "    ), columns=[\"idx\"] + list(E.get_feature_names_vector(feature_names))) \\\n",
    "    .groupby(\"idx\").agg(\"sum\") \\\n",
    "    .loc[E.get_features([to_idx])[:,0]].iterrows()]\n",
    "E_train.features['percussive_beat_frames_svd'] = sum_beats(E_train, [\"s_percussive_beat_frames_svd\"], \"s_idx\", \"idx\")\n",
    "E_eval.features['percussive_beat_frames_svd'] = sum_beats(E_eval, [\"s_percussive_beat_frames_svd\"], \"s_idx\", \"idx\")"
   ]
  },
  {
   "cell_type": "code",
   "execution_count": null,
   "id": "c48be66f-7d17-464a-8946-c3d49669408a",
   "metadata": {},
   "outputs": [],
   "source": [
    "plt.plot(E_train.features['percussive_beat_frames_svd'][10])"
   ]
  },
  {
   "cell_type": "code",
   "execution_count": null,
   "id": "be6902c0-d157-4458-81d4-8e40a342fd2d",
   "metadata": {},
   "outputs": [],
   "source": []
  },
  {
   "cell_type": "code",
   "execution_count": null,
   "id": "f8009bfb-b3a4-4c92-9249-f264389b89b3",
   "metadata": {},
   "outputs": [],
   "source": [
    "def ohe(s):\n",
    "    v = [0] * n_clusters\n",
    "    for i in s:\n",
    "        v[i] += 1\n",
    "    return v\n",
    "\n",
    "def aggregate(E, feature_names, idx, to_idx):\n",
    "    return [np.array(x) for x in pd.DataFrame(data=E.get_features(\n",
    "        [idx] + feature_names\n",
    "    ), columns=[\"idx\"] + feature_names) \\\n",
    "    .groupby(\"idx\").agg(ohe) \\\n",
    "    .loc[E.get_features([to_idx])[:,0]]['s_percussive_beat_frames_kmeans']]\n",
    "E_train.features['percussive_beat_frames_kmeans'] = aggregate(E_train, [\"s_percussive_beat_frames_kmeans\"], \"s_idx\", \"idx\")\n",
    "E_eval.features['percussive_beat_frames_kmeans'] = aggregate(E_eval, [\"s_percussive_beat_frames_kmeans\"], \"s_idx\", \"idx\")"
   ]
  },
  {
   "cell_type": "code",
   "execution_count": null,
   "id": "6888403b-08b7-4699-958b-30fe374384a7",
   "metadata": {},
   "outputs": [],
   "source": [
    "import importlib\n",
    "train_and_evaluate_catboost = importlib.reload(importlib.import_module('model')).train_and_evaluate_catboost"
   ]
  },
  {
   "cell_type": "code",
   "execution_count": null,
   "id": "80203d1a-5d9e-4121-8b48-f5518a782dc9",
   "metadata": {},
   "outputs": [],
   "source": [
    "# ChatGPT query:\n",
    "#\n",
    "# I have an array with feature names and I want to generate weights for the features. Some of the feature names look like <name>_<index>. \n",
    "# I want to make a function receiving a dict with prefixes and corresponding feature weights. \n",
    "# It should return the np.array of the same shape as feature_names, containing weights. \n",
    "# If the feature name starts with prefix from the dict then the weight has to be taken from the dict, otherwise it has to be 1. \n",
    "# Here is the signature:\n",
    "# \n",
    "# def assign_feature_weights(feature_names: np.ndarray, weights: dict[str, int]) -> np.ndarray:\n",
    "#     pass\n",
    "\n",
    "import numpy as np\n",
    "\n",
    "def assign_feature_weights(feature_names: np.ndarray, weights: dict[str, float]) -> np.ndarray:\n",
    "    \"\"\"\n",
    "    Assign weights to features based on given prefixes.\n",
    "    \n",
    "    Parameters\n",
    "    ----------\n",
    "    feature_names : np.ndarray\n",
    "        Array of feature names.\n",
    "    weights : dict[str, float]\n",
    "        Dictionary mapping a prefix (string) to a weight (float).\n",
    "        \n",
    "    Returns\n",
    "    -------\n",
    "    np.ndarray\n",
    "        An array of the same shape as `feature_names` containing the assigned weights. \n",
    "        If a feature name starts with any prefix in `weights`, the corresponding weight \n",
    "        is used. Otherwise, the weight is 1.0.\n",
    "    \"\"\"\n",
    "    result_weights = np.ones_like(feature_names, dtype=float)  # default is 1.0\n",
    "    \n",
    "    for i, fname in enumerate(feature_names):\n",
    "        for prefix, w in weights.items():\n",
    "            if fname.startswith(prefix):\n",
    "                result_weights[i] = w\n",
    "                break  # Stop at the first matching prefix\n",
    "\n",
    "    return result_weights"
   ]
  },
  {
   "cell_type": "code",
   "execution_count": null,
   "id": "297370d9-a3b5-46cf-b8c4-8d19afd3f36c",
   "metadata": {},
   "outputs": [],
   "source": [
    "features = ['stats', 'rms', 'bpm',\n",
    "    'cqt_per_freq_mean_svd', 'cqt_per_freq_var_svd', \n",
    "    'harmonic_per_freq_mean_svd', 'harmonic_per_freq_var_svd', \n",
    "    'percussive_per_freq_mean_svd', 'percussive_per_freq_var_svd',\n",
    "    'mfcc_quef_mean', 'mfcc_quef_var', \n",
    "    'cqt_spectral_centroid_mean', 'cqt_spectral_centroid_var', \n",
    "    'cqt_chroma_mean', 'cqt_chroma_var', \n",
    "    'harmonic_chroma_freq_mean', 'harmonic_chroma_freq_var', \n",
    "    'cqt_rolloff_mean', 'cqt_rolloff_var', \n",
    "    'cqt_bandwidth_mean', 'cqt_bandwidth_var',\n",
    "    'percept_freq_mean_svd', 'percept_freq_var_svd',\n",
    "    'voiced_f0_mean', 'f0_var',\n",
    "    'overtones_freq_mean_svd', 'overtones_freq_var_svd',\n",
    "    ]\n",
    "\n",
    "weights = assign_feature_weights(E_eval.get_feature_names_vector(features), \n",
    "                                 dict(percussive_beat_frames_kmeans=1))\n",
    "model, acc = train_and_evaluate_catboost(\n",
    "    idx_eval=E_eval.get_features(['idx'])[:,0],\n",
    "    X_train=E_train.get_features(features),\n",
    "    X_eval=E_eval.get_features(features),\n",
    "    y_train=E_train.get_features(['y'])[:,0], \n",
    "    y_eval=E_eval.get_features(['y'])[:,0],\n",
    ")"
   ]
  },
  {
   "cell_type": "code",
   "execution_count": null,
   "id": "bdcf8273-5a86-474b-9cf0-b31f897f05c2",
   "metadata": {},
   "outputs": [],
   "source": [
    "imp = pd.DataFrame(\n",
    "    data=model.feature_importances_, \n",
    "    index=E_train.get_feature_names_vector(features), \n",
    "    columns=['importance']\n",
    ").sort_values(by='importance', ascending=False).head(15)\n",
    "imp['stat_name'] = pd.Series(imp.index, index=imp.index).apply(lambda x: int(x[6:]) if x.startswith('stats_') else None)\n",
    "imp['stat_name'] = imp['stat_name'].apply(lambda x: X_train.columns[int(x) + 2] if not np.isnan(x) else None)\n",
    "imp"
   ]
  }
 ],
 "metadata": {
  "kernelspec": {
   "display_name": "Python 3 (ipykernel)",
   "language": "python",
   "name": "python3"
  },
  "language_info": {
   "codemirror_mode": {
    "name": "ipython",
    "version": 3
   },
   "file_extension": ".py",
   "mimetype": "text/x-python",
   "name": "python",
   "nbconvert_exporter": "python",
   "pygments_lexer": "ipython3",
   "version": "3.12.8"
  }
 },
 "nbformat": 4,
 "nbformat_minor": 5
}
