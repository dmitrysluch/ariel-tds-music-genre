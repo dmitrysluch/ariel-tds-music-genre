{
 "cells": [
  {
   "cell_type": "code",
   "execution_count": 1,
   "id": "4ec4f216-efdb-4e99-aec2-b26667fa71ba",
   "metadata": {},
   "outputs": [],
   "source": [
    "import pandas as pd\n",
    "import numpy as np\n",
    "from model import *\n",
    "import extractor\n",
    "class Extractor(extractor.AudioDataExtractionPipeline):\n",
    "    pass"
   ]
  },
  {
   "cell_type": "code",
   "execution_count": 2,
   "id": "5512d565-1366-47d5-8b87-efda54317286",
   "metadata": {},
   "outputs": [
    {
     "data": {
      "text/html": [
       "<div>\n",
       "<style scoped>\n",
       "    .dataframe tbody tr th:only-of-type {\n",
       "        vertical-align: middle;\n",
       "    }\n",
       "\n",
       "    .dataframe tbody tr th {\n",
       "        vertical-align: top;\n",
       "    }\n",
       "\n",
       "    .dataframe thead th {\n",
       "        text-align: right;\n",
       "    }\n",
       "</style>\n",
       "<table border=\"1\" class=\"dataframe\">\n",
       "  <thead>\n",
       "    <tr style=\"text-align: right;\">\n",
       "      <th></th>\n",
       "      <th>filename</th>\n",
       "      <th>length</th>\n",
       "      <th>chroma_stft_mean</th>\n",
       "      <th>chroma_stft_var</th>\n",
       "      <th>rms_mean</th>\n",
       "      <th>rms_var</th>\n",
       "      <th>spectral_centroid_mean</th>\n",
       "      <th>spectral_centroid_var</th>\n",
       "      <th>spectral_bandwidth_mean</th>\n",
       "      <th>spectral_bandwidth_var</th>\n",
       "      <th>...</th>\n",
       "      <th>mfcc16_var</th>\n",
       "      <th>mfcc17_mean</th>\n",
       "      <th>mfcc17_var</th>\n",
       "      <th>mfcc18_mean</th>\n",
       "      <th>mfcc18_var</th>\n",
       "      <th>mfcc19_mean</th>\n",
       "      <th>mfcc19_var</th>\n",
       "      <th>mfcc20_mean</th>\n",
       "      <th>mfcc20_var</th>\n",
       "      <th>label</th>\n",
       "    </tr>\n",
       "  </thead>\n",
       "  <tbody>\n",
       "    <tr>\n",
       "      <th>0</th>\n",
       "      <td>blues.00000.wav</td>\n",
       "      <td>661794</td>\n",
       "      <td>0.350088</td>\n",
       "      <td>0.088757</td>\n",
       "      <td>0.130228</td>\n",
       "      <td>0.002827</td>\n",
       "      <td>1784.165850</td>\n",
       "      <td>129774.064525</td>\n",
       "      <td>2002.449060</td>\n",
       "      <td>85882.761315</td>\n",
       "      <td>...</td>\n",
       "      <td>52.420910</td>\n",
       "      <td>-1.690215</td>\n",
       "      <td>36.524071</td>\n",
       "      <td>-0.408979</td>\n",
       "      <td>41.597103</td>\n",
       "      <td>-2.303523</td>\n",
       "      <td>55.062923</td>\n",
       "      <td>1.221291</td>\n",
       "      <td>46.936035</td>\n",
       "      <td>blues</td>\n",
       "    </tr>\n",
       "    <tr>\n",
       "      <th>1</th>\n",
       "      <td>blues.00001.wav</td>\n",
       "      <td>661794</td>\n",
       "      <td>0.340914</td>\n",
       "      <td>0.094980</td>\n",
       "      <td>0.095948</td>\n",
       "      <td>0.002373</td>\n",
       "      <td>1530.176679</td>\n",
       "      <td>375850.073649</td>\n",
       "      <td>2039.036516</td>\n",
       "      <td>213843.755497</td>\n",
       "      <td>...</td>\n",
       "      <td>55.356403</td>\n",
       "      <td>-0.731125</td>\n",
       "      <td>60.314529</td>\n",
       "      <td>0.295073</td>\n",
       "      <td>48.120598</td>\n",
       "      <td>-0.283518</td>\n",
       "      <td>51.106190</td>\n",
       "      <td>0.531217</td>\n",
       "      <td>45.786282</td>\n",
       "      <td>blues</td>\n",
       "    </tr>\n",
       "    <tr>\n",
       "      <th>2</th>\n",
       "      <td>blues.00002.wav</td>\n",
       "      <td>661794</td>\n",
       "      <td>0.363637</td>\n",
       "      <td>0.085275</td>\n",
       "      <td>0.175570</td>\n",
       "      <td>0.002746</td>\n",
       "      <td>1552.811865</td>\n",
       "      <td>156467.643368</td>\n",
       "      <td>1747.702312</td>\n",
       "      <td>76254.192257</td>\n",
       "      <td>...</td>\n",
       "      <td>40.598766</td>\n",
       "      <td>-7.729093</td>\n",
       "      <td>47.639427</td>\n",
       "      <td>-1.816407</td>\n",
       "      <td>52.382141</td>\n",
       "      <td>-3.439720</td>\n",
       "      <td>46.639660</td>\n",
       "      <td>-2.231258</td>\n",
       "      <td>30.573025</td>\n",
       "      <td>blues</td>\n",
       "    </tr>\n",
       "    <tr>\n",
       "      <th>3</th>\n",
       "      <td>blues.00003.wav</td>\n",
       "      <td>661794</td>\n",
       "      <td>0.404785</td>\n",
       "      <td>0.093999</td>\n",
       "      <td>0.141093</td>\n",
       "      <td>0.006346</td>\n",
       "      <td>1070.106615</td>\n",
       "      <td>184355.942417</td>\n",
       "      <td>1596.412872</td>\n",
       "      <td>166441.494769</td>\n",
       "      <td>...</td>\n",
       "      <td>44.427753</td>\n",
       "      <td>-3.319597</td>\n",
       "      <td>50.206673</td>\n",
       "      <td>0.636965</td>\n",
       "      <td>37.319130</td>\n",
       "      <td>-0.619121</td>\n",
       "      <td>37.259739</td>\n",
       "      <td>-3.407448</td>\n",
       "      <td>31.949339</td>\n",
       "      <td>blues</td>\n",
       "    </tr>\n",
       "    <tr>\n",
       "      <th>4</th>\n",
       "      <td>blues.00004.wav</td>\n",
       "      <td>661794</td>\n",
       "      <td>0.308526</td>\n",
       "      <td>0.087841</td>\n",
       "      <td>0.091529</td>\n",
       "      <td>0.002303</td>\n",
       "      <td>1835.004266</td>\n",
       "      <td>343399.939274</td>\n",
       "      <td>1748.172116</td>\n",
       "      <td>88445.209036</td>\n",
       "      <td>...</td>\n",
       "      <td>86.099236</td>\n",
       "      <td>-5.454034</td>\n",
       "      <td>75.269707</td>\n",
       "      <td>-0.916874</td>\n",
       "      <td>53.613918</td>\n",
       "      <td>-4.404827</td>\n",
       "      <td>62.910812</td>\n",
       "      <td>-11.703234</td>\n",
       "      <td>55.195160</td>\n",
       "      <td>blues</td>\n",
       "    </tr>\n",
       "    <tr>\n",
       "      <th>...</th>\n",
       "      <td>...</td>\n",
       "      <td>...</td>\n",
       "      <td>...</td>\n",
       "      <td>...</td>\n",
       "      <td>...</td>\n",
       "      <td>...</td>\n",
       "      <td>...</td>\n",
       "      <td>...</td>\n",
       "      <td>...</td>\n",
       "      <td>...</td>\n",
       "      <td>...</td>\n",
       "      <td>...</td>\n",
       "      <td>...</td>\n",
       "      <td>...</td>\n",
       "      <td>...</td>\n",
       "      <td>...</td>\n",
       "      <td>...</td>\n",
       "      <td>...</td>\n",
       "      <td>...</td>\n",
       "      <td>...</td>\n",
       "      <td>...</td>\n",
       "    </tr>\n",
       "    <tr>\n",
       "      <th>995</th>\n",
       "      <td>rock.00095.wav</td>\n",
       "      <td>661794</td>\n",
       "      <td>0.352063</td>\n",
       "      <td>0.080487</td>\n",
       "      <td>0.079486</td>\n",
       "      <td>0.000345</td>\n",
       "      <td>2008.149458</td>\n",
       "      <td>282174.689224</td>\n",
       "      <td>2106.541053</td>\n",
       "      <td>88609.749506</td>\n",
       "      <td>...</td>\n",
       "      <td>45.050526</td>\n",
       "      <td>-13.289984</td>\n",
       "      <td>41.754955</td>\n",
       "      <td>2.484145</td>\n",
       "      <td>36.778877</td>\n",
       "      <td>-6.713265</td>\n",
       "      <td>54.866825</td>\n",
       "      <td>-1.193787</td>\n",
       "      <td>49.950665</td>\n",
       "      <td>rock</td>\n",
       "    </tr>\n",
       "    <tr>\n",
       "      <th>996</th>\n",
       "      <td>rock.00096.wav</td>\n",
       "      <td>661794</td>\n",
       "      <td>0.398687</td>\n",
       "      <td>0.075086</td>\n",
       "      <td>0.076458</td>\n",
       "      <td>0.000588</td>\n",
       "      <td>2006.843354</td>\n",
       "      <td>182114.709510</td>\n",
       "      <td>2068.942009</td>\n",
       "      <td>82426.016726</td>\n",
       "      <td>...</td>\n",
       "      <td>33.851742</td>\n",
       "      <td>-10.848309</td>\n",
       "      <td>39.395096</td>\n",
       "      <td>1.881229</td>\n",
       "      <td>32.010040</td>\n",
       "      <td>-7.461491</td>\n",
       "      <td>39.196327</td>\n",
       "      <td>-2.795338</td>\n",
       "      <td>31.773624</td>\n",
       "      <td>rock</td>\n",
       "    </tr>\n",
       "    <tr>\n",
       "      <th>997</th>\n",
       "      <td>rock.00097.wav</td>\n",
       "      <td>661794</td>\n",
       "      <td>0.432142</td>\n",
       "      <td>0.075268</td>\n",
       "      <td>0.081651</td>\n",
       "      <td>0.000322</td>\n",
       "      <td>2077.526598</td>\n",
       "      <td>231657.968040</td>\n",
       "      <td>1927.293153</td>\n",
       "      <td>74717.124394</td>\n",
       "      <td>...</td>\n",
       "      <td>33.597008</td>\n",
       "      <td>-12.845291</td>\n",
       "      <td>36.367264</td>\n",
       "      <td>3.440978</td>\n",
       "      <td>36.001110</td>\n",
       "      <td>-12.588070</td>\n",
       "      <td>42.502201</td>\n",
       "      <td>-2.106337</td>\n",
       "      <td>29.865515</td>\n",
       "      <td>rock</td>\n",
       "    </tr>\n",
       "    <tr>\n",
       "      <th>998</th>\n",
       "      <td>rock.00098.wav</td>\n",
       "      <td>661794</td>\n",
       "      <td>0.362485</td>\n",
       "      <td>0.091506</td>\n",
       "      <td>0.083860</td>\n",
       "      <td>0.001211</td>\n",
       "      <td>1398.699344</td>\n",
       "      <td>240318.731073</td>\n",
       "      <td>1818.450280</td>\n",
       "      <td>109090.207161</td>\n",
       "      <td>...</td>\n",
       "      <td>46.324894</td>\n",
       "      <td>-4.416050</td>\n",
       "      <td>43.583942</td>\n",
       "      <td>1.556207</td>\n",
       "      <td>34.331261</td>\n",
       "      <td>-5.041897</td>\n",
       "      <td>47.227180</td>\n",
       "      <td>-3.590644</td>\n",
       "      <td>41.299088</td>\n",
       "      <td>rock</td>\n",
       "    </tr>\n",
       "    <tr>\n",
       "      <th>999</th>\n",
       "      <td>rock.00099.wav</td>\n",
       "      <td>661794</td>\n",
       "      <td>0.358401</td>\n",
       "      <td>0.085884</td>\n",
       "      <td>0.054454</td>\n",
       "      <td>0.000336</td>\n",
       "      <td>1609.795082</td>\n",
       "      <td>422203.216152</td>\n",
       "      <td>1797.213044</td>\n",
       "      <td>120115.632927</td>\n",
       "      <td>...</td>\n",
       "      <td>59.167755</td>\n",
       "      <td>-7.069775</td>\n",
       "      <td>73.760391</td>\n",
       "      <td>0.028346</td>\n",
       "      <td>76.504326</td>\n",
       "      <td>-2.025783</td>\n",
       "      <td>72.189316</td>\n",
       "      <td>1.155239</td>\n",
       "      <td>49.662510</td>\n",
       "      <td>rock</td>\n",
       "    </tr>\n",
       "  </tbody>\n",
       "</table>\n",
       "<p>1000 rows × 60 columns</p>\n",
       "</div>"
      ],
      "text/plain": [
       "            filename  length  chroma_stft_mean  chroma_stft_var  rms_mean  \\\n",
       "0    blues.00000.wav  661794          0.350088         0.088757  0.130228   \n",
       "1    blues.00001.wav  661794          0.340914         0.094980  0.095948   \n",
       "2    blues.00002.wav  661794          0.363637         0.085275  0.175570   \n",
       "3    blues.00003.wav  661794          0.404785         0.093999  0.141093   \n",
       "4    blues.00004.wav  661794          0.308526         0.087841  0.091529   \n",
       "..               ...     ...               ...              ...       ...   \n",
       "995   rock.00095.wav  661794          0.352063         0.080487  0.079486   \n",
       "996   rock.00096.wav  661794          0.398687         0.075086  0.076458   \n",
       "997   rock.00097.wav  661794          0.432142         0.075268  0.081651   \n",
       "998   rock.00098.wav  661794          0.362485         0.091506  0.083860   \n",
       "999   rock.00099.wav  661794          0.358401         0.085884  0.054454   \n",
       "\n",
       "      rms_var  spectral_centroid_mean  spectral_centroid_var  \\\n",
       "0    0.002827             1784.165850          129774.064525   \n",
       "1    0.002373             1530.176679          375850.073649   \n",
       "2    0.002746             1552.811865          156467.643368   \n",
       "3    0.006346             1070.106615          184355.942417   \n",
       "4    0.002303             1835.004266          343399.939274   \n",
       "..        ...                     ...                    ...   \n",
       "995  0.000345             2008.149458          282174.689224   \n",
       "996  0.000588             2006.843354          182114.709510   \n",
       "997  0.000322             2077.526598          231657.968040   \n",
       "998  0.001211             1398.699344          240318.731073   \n",
       "999  0.000336             1609.795082          422203.216152   \n",
       "\n",
       "     spectral_bandwidth_mean  spectral_bandwidth_var  ...  mfcc16_var  \\\n",
       "0                2002.449060            85882.761315  ...   52.420910   \n",
       "1                2039.036516           213843.755497  ...   55.356403   \n",
       "2                1747.702312            76254.192257  ...   40.598766   \n",
       "3                1596.412872           166441.494769  ...   44.427753   \n",
       "4                1748.172116            88445.209036  ...   86.099236   \n",
       "..                       ...                     ...  ...         ...   \n",
       "995              2106.541053            88609.749506  ...   45.050526   \n",
       "996              2068.942009            82426.016726  ...   33.851742   \n",
       "997              1927.293153            74717.124394  ...   33.597008   \n",
       "998              1818.450280           109090.207161  ...   46.324894   \n",
       "999              1797.213044           120115.632927  ...   59.167755   \n",
       "\n",
       "     mfcc17_mean  mfcc17_var  mfcc18_mean  mfcc18_var  mfcc19_mean  \\\n",
       "0      -1.690215   36.524071    -0.408979   41.597103    -2.303523   \n",
       "1      -0.731125   60.314529     0.295073   48.120598    -0.283518   \n",
       "2      -7.729093   47.639427    -1.816407   52.382141    -3.439720   \n",
       "3      -3.319597   50.206673     0.636965   37.319130    -0.619121   \n",
       "4      -5.454034   75.269707    -0.916874   53.613918    -4.404827   \n",
       "..           ...         ...          ...         ...          ...   \n",
       "995   -13.289984   41.754955     2.484145   36.778877    -6.713265   \n",
       "996   -10.848309   39.395096     1.881229   32.010040    -7.461491   \n",
       "997   -12.845291   36.367264     3.440978   36.001110   -12.588070   \n",
       "998    -4.416050   43.583942     1.556207   34.331261    -5.041897   \n",
       "999    -7.069775   73.760391     0.028346   76.504326    -2.025783   \n",
       "\n",
       "     mfcc19_var  mfcc20_mean  mfcc20_var  label  \n",
       "0     55.062923     1.221291   46.936035  blues  \n",
       "1     51.106190     0.531217   45.786282  blues  \n",
       "2     46.639660    -2.231258   30.573025  blues  \n",
       "3     37.259739    -3.407448   31.949339  blues  \n",
       "4     62.910812   -11.703234   55.195160  blues  \n",
       "..          ...          ...         ...    ...  \n",
       "995   54.866825    -1.193787   49.950665   rock  \n",
       "996   39.196327    -2.795338   31.773624   rock  \n",
       "997   42.502201    -2.106337   29.865515   rock  \n",
       "998   47.227180    -3.590644   41.299088   rock  \n",
       "999   72.189316     1.155239   49.662510   rock  \n",
       "\n",
       "[1000 rows x 60 columns]"
      ]
     },
     "execution_count": 2,
     "metadata": {},
     "output_type": "execute_result"
    }
   ],
   "source": [
    "import pandas as pd\n",
    "df = pd.read_csv(\"dataset/Data/features_30_sec.csv\")\n",
    "df"
   ]
  },
  {
   "cell_type": "code",
   "execution_count": 3,
   "id": "dbdeecea-5a6e-488b-89e2-4c9e4d7e472b",
   "metadata": {},
   "outputs": [],
   "source": [
    "from sklearn.model_selection import train_test_split\n",
    "\n",
    "# Define features and target\n",
    "X = df.drop(columns=['label'])  # Features: e.g., 'track' and 'statistics'\n",
    "y = df['label']  # Target: 'label'\n",
    "\n",
    "# Split the dataset while preserving class proportions\n",
    "X_train, X_eval, y_train, y_eval = train_test_split(\n",
    "    X, y, \n",
    "    test_size=0.3,  # 30% for testing\n",
    "    stratify=y,     # Preserve class proportions\n",
    "    random_state=42 # For reproducibility\n",
    ")"
   ]
  },
  {
   "cell_type": "code",
   "execution_count": 4,
   "id": "b3f52c4c-0f71-42f5-b0a3-20853d19f15c",
   "metadata": {},
   "outputs": [],
   "source": [
    "# Drop corrupted sample \n",
    "idx = X_train.index[X_train[\"filename\"] == \"jazz.00054.wav\"]\n",
    "X_train = X_train.drop(index=idx)\n",
    "y_train = y_train.drop(index=idx)"
   ]
  },
  {
   "cell_type": "code",
   "execution_count": 5,
   "id": "5a94ba90-5c92-432a-9a7e-40ed4a617ebe",
   "metadata": {},
   "outputs": [
    {
     "data": {
      "application/vnd.jupyter.widget-view+json": {
       "model_id": "945755051a224ca58a2fca8354d80f9e",
       "version_major": 2,
       "version_minor": 0
      },
      "text/plain": [
       "MetricVisualizer(layout=Layout(align_self='stretch', height='500px'))"
      ]
     },
     "metadata": {},
     "output_type": "display_data"
    },
    {
     "name": "stdout",
     "output_type": "stream",
     "text": [
      "0:\tlearn: 0.3648069\ttest: 0.3433333\tbest: 0.3433333 (0)\ttotal: 62ms\tremaining: 30.9s\n",
      "50:\tlearn: 0.7367668\ttest: 0.6566667\tbest: 0.6700000 (47)\ttotal: 200ms\tremaining: 1.76s\n",
      "100:\tlearn: 0.8211731\ttest: 0.7200000\tbest: 0.7233333 (98)\ttotal: 330ms\tremaining: 1.3s\n",
      "150:\tlearn: 0.8726753\ttest: 0.7300000\tbest: 0.7400000 (122)\ttotal: 447ms\tremaining: 1.03s\n",
      "200:\tlearn: 0.9070100\ttest: 0.7366667\tbest: 0.7466667 (182)\ttotal: 564ms\tremaining: 838ms\n",
      "250:\tlearn: 0.9313305\ttest: 0.7366667\tbest: 0.7533333 (218)\ttotal: 682ms\tremaining: 676ms\n",
      "300:\tlearn: 0.9484979\ttest: 0.7533333\tbest: 0.7533333 (218)\ttotal: 797ms\tremaining: 527ms\n",
      "350:\tlearn: 0.9670959\ttest: 0.7466667\tbest: 0.7600000 (318)\ttotal: 913ms\tremaining: 388ms\n",
      "400:\tlearn: 0.9728183\ttest: 0.7466667\tbest: 0.7600000 (318)\ttotal: 1.04s\tremaining: 258ms\n",
      "450:\tlearn: 0.9756795\ttest: 0.7400000\tbest: 0.7600000 (318)\ttotal: 1.16s\tremaining: 126ms\n",
      "499:\tlearn: 0.9842632\ttest: 0.7466667\tbest: 0.7600000 (318)\ttotal: 1.31s\tremaining: 0us\n",
      "\n",
      "bestTest = 0.76\n",
      "bestIteration = 318\n",
      "\n",
      "Shrink model to first 319 iterations.\n",
      "\n",
      "Classification Report:\n",
      "               precision    recall  f1-score   support\n",
      "\n",
      "       blues       0.76      0.63      0.69        30\n",
      "   classical       0.97      0.97      0.97        30\n",
      "     country       0.79      0.77      0.78        30\n",
      "       disco       0.62      0.53      0.57        30\n",
      "      hiphop       0.59      0.80      0.68        30\n",
      "        jazz       0.85      0.93      0.89        30\n",
      "       metal       0.86      0.83      0.85        30\n",
      "         pop       0.85      0.93      0.89        30\n",
      "      reggae       0.67      0.67      0.67        30\n",
      "        rock       0.67      0.53      0.59        30\n",
      "\n",
      "    accuracy                           0.76       300\n",
      "   macro avg       0.76      0.76      0.76       300\n",
      "weighted avg       0.76      0.76      0.76       300\n",
      "\n",
      "Evaluation Accuracy: 0.7600\n"
     ]
    }
   ],
   "source": [
    "model, acc = train_and_evaluate_catboost(\n",
    "    X_eval.index.to_numpy(), \n",
    "    X_train.drop(columns=[\"filename\", \"length\"]).to_numpy(), \n",
    "    X_eval.drop(columns=[\"filename\", \"length\"]).to_numpy(), \n",
    "    y_train.to_numpy(), \n",
    "    y_eval.to_numpy()\n",
    ")"
   ]
  },
  {
   "cell_type": "code",
   "execution_count": 6,
   "id": "0310d7af-e347-4531-9b6b-7d8602f4a5f1",
   "metadata": {},
   "outputs": [],
   "source": [
    "import soundfile as sf\n",
    "import librosa\n",
    "import numpy as np\n",
    "from resampy import resample"
   ]
  },
  {
   "cell_type": "code",
   "execution_count": 7,
   "id": "c87f01e0-8eaa-4e53-acdb-4c2aa06decb5",
   "metadata": {},
   "outputs": [
    {
     "data": {
      "application/vnd.jupyter.widget-view+json": {
       "model_id": "c4d638494ab846cd8a589807783b6fab",
       "version_major": 2,
       "version_minor": 0
      },
      "text/plain": [
       "audio:   0%|          | 0/699 [00:00<?, ?it/s]"
      ]
     },
     "metadata": {},
     "output_type": "display_data"
    },
    {
     "data": {
      "application/vnd.jupyter.widget-view+json": {
       "model_id": "d021aa8a5af04dc2a1e61ab9116d78ff",
       "version_major": 2,
       "version_minor": 0
      },
      "text/plain": [
       "audio:   0%|          | 0/300 [00:00<?, ?it/s]"
      ]
     },
     "metadata": {},
     "output_type": "display_data"
    }
   ],
   "source": [
    "E_train = Extractor(\n",
    "    idx=[np.array([row[0]]) for row in X_train.iterrows()],\n",
    "    x=[row[1].to_numpy() for row in X_train.iterrows()],\n",
    "    y=[np.array([row]) for row in y_train],\n",
    "    train=True\n",
    ")\n",
    "E_eval = Extractor(\n",
    "    idx=[np.array([row[0]]) for row in X_eval.iterrows()],\n",
    "    x=[row[1].to_numpy() for row in X_eval.iterrows()],\n",
    "    y=[np.array([row]) for row in y_eval],\n",
    "    train=False\n",
    ")\n",
    "\n",
    "def load_audio(x) -> [np.ndarray]:\n",
    "    file_path = f\"dataset/Data/genres_original/{x[0].split('.')[0]}/{x[0]}\"\n",
    "    y, sr = sf.read(file_path)\n",
    "    if len(y.shape) == 2:  # Convert stereo to mono\n",
    "        y = np.mean(y, dim=0)\n",
    "    y = resample(y, sr, 16000)\n",
    "    return y\n",
    "Extractor.register_extractor('audio', load_audio)\n",
    "E_train.full_extract()\n",
    "E_eval.full_extract()"
   ]
  },
  {
   "cell_type": "code",
   "execution_count": 8,
   "id": "9bbcf479-de45-4e9e-b3c4-7b15ce5a943c",
   "metadata": {},
   "outputs": [
    {
     "data": {
      "application/vnd.jupyter.widget-view+json": {
       "model_id": "85759335271a442aa2580bdeca73f08c",
       "version_major": 2,
       "version_minor": 0
      },
      "text/plain": [
       "stats:   0%|          | 0/699 [00:00<?, ?it/s]"
      ]
     },
     "metadata": {},
     "output_type": "display_data"
    },
    {
     "data": {
      "application/vnd.jupyter.widget-view+json": {
       "model_id": "dc3ab99a97ed45649e3b6a4ae0ec8943",
       "version_major": 2,
       "version_minor": 0
      },
      "text/plain": [
       "rms:   0%|          | 0/699 [00:00<?, ?it/s]"
      ]
     },
     "metadata": {},
     "output_type": "display_data"
    },
    {
     "data": {
      "application/vnd.jupyter.widget-view+json": {
       "model_id": "e456943bde07441a9d8ca67705ea5094",
       "version_major": 2,
       "version_minor": 0
      },
      "text/plain": [
       "stats:   0%|          | 0/300 [00:00<?, ?it/s]"
      ]
     },
     "metadata": {},
     "output_type": "display_data"
    },
    {
     "data": {
      "application/vnd.jupyter.widget-view+json": {
       "model_id": "dee2c71cebbf4104bf0b1bf40e3cdeaa",
       "version_major": 2,
       "version_minor": 0
      },
      "text/plain": [
       "rms:   0%|          | 0/300 [00:00<?, ?it/s]"
      ]
     },
     "metadata": {},
     "output_type": "display_data"
    }
   ],
   "source": [
    "Extractor.register_extractor('stats', lambda x: x[2:])\n",
    "Extractor.register_extractor('rms', lambda audio: np.array([np.sqrt(np.mean(audio**2))]))\n",
    "E_train.soft_extract()\n",
    "E_eval.soft_extract()"
   ]
  },
  {
   "cell_type": "code",
   "execution_count": 9,
   "id": "189aa8cc-5352-44c8-9225-84a3c7e35dfc",
   "metadata": {},
   "outputs": [],
   "source": [
    "from librosa.sequence import viterbi\n",
    "\n",
    "import numpy as np\n",
    "\n",
    "def viterbi_dp(emission_probs, transition_matrix, p_init=None, eps=1e-15):\n",
    "    \"\"\"\n",
    "    A custom Viterbi implementation that outputs:\n",
    "      1) The DP table (log-domain) of best-path log-probs to each state/frame\n",
    "      2) The state backpointer table\n",
    "      3) A probability distribution over states at each time,\n",
    "         obtained by exponentiating and normalizing the DP table\n",
    "      4) The best-path state sequence from backtracking\n",
    "\n",
    "    Parameters\n",
    "    ----------\n",
    "    emission_probs : np.ndarray [shape=(n_states, n_frames)]\n",
    "        Probability (linear scale) of emitting each state at each frame.\n",
    "        We will take the log of these values for the DP.\n",
    "    transition_matrix : np.ndarray [shape=(n_states, n_states)]\n",
    "        Probability (linear scale) of transitioning from state i to state j.\n",
    "    p_init : np.ndarray [shape=(n_states,)]\n",
    "        Initial state distribution (linear probabilities).\n",
    "        If None, defaults to uniform.\n",
    "    eps : float\n",
    "        Small constant to avoid log(0).\n",
    "\n",
    "    Returns\n",
    "    -------\n",
    "    dp : np.ndarray [shape=(n_states, n_frames)]\n",
    "        dp[s, t] = log-prob of the best path that ends in state s at time t\n",
    "    backpointer : np.ndarray [shape=(n_states, n_frames)]\n",
    "        backpointer[s, t] = index of the best predecessor state for s at t\n",
    "    state_probs : np.ndarray [shape=(n_states, n_frames)]\n",
    "        Probability distribution over states for each frame\n",
    "        (obtained via time-wise softmax of dp).\n",
    "    best_path : np.ndarray [shape=(n_frames,)]\n",
    "        The single best state for each frame (by Viterbi backtracking).\n",
    "    \"\"\"\n",
    "\n",
    "    n_states, n_frames = emission_probs.shape\n",
    "\n",
    "    if p_init is None:\n",
    "        p_init = np.ones(n_states) / n_states\n",
    "\n",
    "    # Convert input probabilities to log\n",
    "    log_emit = np.log(emission_probs + eps)\n",
    "    log_trans = np.log(transition_matrix + eps)\n",
    "    log_init = np.log(p_init + eps)\n",
    "\n",
    "    # Create storage\n",
    "    dp = np.zeros((n_states, n_frames), dtype=np.float64)  # log of best path so far\n",
    "    backpointer = np.zeros((n_states, n_frames), dtype=np.int32)\n",
    "\n",
    "    # Initialization: time t=0\n",
    "    dp[:, 0] = log_init + log_emit[:, 0]\n",
    "    backpointer[:, 0] = 0  # no predecessor for the first frame\n",
    "\n",
    "    # Forward pass\n",
    "    for t in range(1, n_frames):\n",
    "        for s in range(n_states):\n",
    "            # Possible log-probs if we end in state s at time t\n",
    "            candidates = dp[:, t-1] + log_trans[:, s]\n",
    "            best_prev = np.argmax(candidates)\n",
    "            dp[s, t] = candidates[best_prev] + log_emit[s, t]\n",
    "            backpointer[s, t] = best_prev\n",
    "\n",
    "    # Backtrack to find best path\n",
    "    best_path = np.zeros(n_frames, dtype=np.int32)\n",
    "    best_path[-1] = np.argmax(dp[:, -1])\n",
    "    for t in range(n_frames - 2, -1, -1):\n",
    "        best_path[t] = backpointer[best_path[t+1], t+1]\n",
    "\n",
    "    # Convert dp to a per-frame probability distribution by exponentiating\n",
    "    # and normalizing along the 'state' axis\n",
    "    state_probs = np.zeros_like(dp, dtype=np.float64)\n",
    "    for t in range(n_frames):\n",
    "        # shift by max log-prob to avoid underflow\n",
    "        row = dp[:, t]\n",
    "        row_max = np.max(row)\n",
    "        exp_row = np.exp(row - row_max)\n",
    "        state_probs[:, t] = exp_row / np.sum(exp_row)\n",
    "\n",
    "    return dp, backpointer, state_probs, best_path\n",
    "\n",
    "\n",
    "def estimate_cqt_bin_viterbi(\n",
    "    y,\n",
    "    sr=22050,\n",
    "    hop_length=512,\n",
    "    n_bins=50,\n",
    "    fmin=librosa.note_to_hz('C2'),\n",
    "    silence_threshold=0.01,  # total energy below which we strongly favor silence\n",
    "    stay_probability=0.9\n",
    "):\n",
    "    \"\"\"\n",
    "    Estimate the most likely CQT-bin sequence from an audio file, plus a\n",
    "    special silence state. Use librosa's built-in Viterbi for smoothing.\n",
    "\n",
    "    Parameters\n",
    "    ----------\n",
    "    audio_path : str\n",
    "        Path to the audio file.\n",
    "    sr : int\n",
    "        Sample rate for loading the audio.\n",
    "    hop_length : int\n",
    "        Hop length for the CQT.\n",
    "    n_bins : int\n",
    "        Number of frequency bins in the CQT.\n",
    "    fmin : float\n",
    "        Minimum frequency for the CQT.\n",
    "    silence_threshold : float\n",
    "        Frames whose total energy is below this threshold are dominated by the silence state.\n",
    "    stay_probability : float\n",
    "        Probability of staying in the same state (bin or silence). The remainder\n",
    "        is distributed across transitioning to all other states.\n",
    "\n",
    "    Returns\n",
    "    -------\n",
    "    state_sequence : np.ndarray [shape=(n_frames,)]\n",
    "        The best path of states (CQT bin indices plus one extra index for silence).\n",
    "        Indices 0..(n_bins-1) correspond to actual bins; index n_bins is silence.\n",
    "    path_log_probs : np.ndarray [shape=(n_frames,)]\n",
    "        The log-probability of the best path up to (and including) each frame.\n",
    "    emission_probs : np.ndarray [shape=(n_bins+1, n_frames)]\n",
    "        The per-frame emission probability of each bin and the silence state.\n",
    "\n",
    "    Notes\n",
    "    -----\n",
    "    - By default, `librosa.sequence.viterbi` expects probabilities in linear domain\n",
    "      (non-log). We will manually compute the log-likelihood of the best path after\n",
    "      we get the final state sequence.\n",
    "    - The silence state (index = n_bins) has no direct column in the input,\n",
    "      but we infer its emission probability by checking the total frame energy.\n",
    "    \"\"\"\n",
    "\n",
    "    ################################################################\n",
    "    # 1. Load audio and compute CQT magnitudes\n",
    "    ################################################################\n",
    "    cqt = librosa.cqt(y, sr=sr, hop_length=hop_length, n_bins=n_bins, fmin=fmin)\n",
    "    cqt_mag = np.abs(cqt)  # shape = (n_bins, n_frames)\n",
    "    n_frames = cqt_mag.shape[1]\n",
    "\n",
    "    ################################################################\n",
    "    # 2. Build emission probability matrix (n_bins + 1 states)\n",
    "    #    - last row is \"silence\"\n",
    "    ################################################################\n",
    "    n_states = n_bins + 1\n",
    "    silence_idx = n_bins\n",
    "\n",
    "    emission_probs = np.zeros((n_states, n_frames), dtype=np.float32)\n",
    "\n",
    "    for t in range(n_frames):\n",
    "        frame_energy = np.sum(cqt_mag[:, t])\n",
    "\n",
    "        if frame_energy < silence_threshold:\n",
    "            # If total energy is below threshold, strongly favor silence\n",
    "            # and place a minimal probability on actual bins\n",
    "            emission_probs[:n_bins, t] = 1e-10  # negligible\n",
    "            emission_probs[silence_idx, t] = 1.0\n",
    "        else:\n",
    "            # Distribute across the bins proportionally, plus a small portion for silence\n",
    "            emission_probs[:n_bins, t] = cqt_mag[:, t]\n",
    "\n",
    "            # Example: give silence a small probability if frame is not silent\n",
    "            # You can tune this constant or use a ratio\n",
    "            emission_probs[silence_idx, t] = 1e-6\n",
    "\n",
    "            # Normalize so sum of states = 1\n",
    "            col_sum = np.sum(emission_probs[:, t])\n",
    "            if col_sum > 0:\n",
    "                emission_probs[:, t] /= col_sum\n",
    "            else:\n",
    "                # fallback if no energy\n",
    "                emission_probs[silence_idx, t] = 1.0\n",
    "\n",
    "    ################################################################\n",
    "    # 3. Define a transition matrix for n_states = n_bins + 1\n",
    "    #    We'll have:\n",
    "    #      - High probability stay_probability to remain in the same state\n",
    "    #      - The remainder distributed equally among all other states\n",
    "    ################################################################\n",
    "    transition_matrix = np.zeros((n_states, n_states), dtype=np.float32)\n",
    "    # For each of the bin states\n",
    "    for i in range(n_bins):\n",
    "        transition_matrix[i, i] = stay_probability\n",
    "        # The fraction to distribute among other states\n",
    "        remain = (1.0 - stay_probability)\n",
    "        # We'll give an equal fraction to the other n_states - 1\n",
    "        transition_matrix[i, :] += remain / (n_states - 1)\n",
    "        # But this double-counted staying in the same state; revert it to the intended stay_probability\n",
    "        transition_matrix[i, i] = stay_probability\n",
    "\n",
    "    # For the silence state\n",
    "    transition_matrix[silence_idx, silence_idx] = stay_probability\n",
    "    remain_sil = (1.0 - stay_probability)\n",
    "    transition_matrix[silence_idx, :] += remain_sil / (n_states - 1)\n",
    "    # revert the diagonal to stay_probability\n",
    "    transition_matrix[silence_idx, silence_idx] = stay_probability\n",
    "\n",
    "    # Normalize each row (should already be ~1.0, but let's be safe)\n",
    "    for i in range(n_states):\n",
    "        row_sum = np.sum(transition_matrix[i, :])\n",
    "        if row_sum > 0:\n",
    "            transition_matrix[i, :] /= row_sum\n",
    "\n",
    "    ################################################################\n",
    "    # 4. Run Viterbi via librosa\n",
    "    ################################################################\n",
    "    # librosa.sequence.viterbi expects:\n",
    "    #    prob: shape=(n_states, n_steps) - each column is a probability distribution\n",
    "    #    transition: shape=(n_states, n_states)\n",
    "    # We can optionally specify p_init for initial distribution, e.g. uniform\n",
    "    p_init = np.ones(n_states, dtype=np.float32) / n_states\n",
    "    \n",
    "    return viterbi_dp(emission_probs, transition_matrix, p_init=p_init)[2]\n"
   ]
  },
  {
   "cell_type": "code",
   "execution_count": 10,
   "id": "fafcb966-7dc7-423a-bf6b-f961633ca6b3",
   "metadata": {},
   "outputs": [],
   "source": [
    "import librosa\n",
    "import soundfile as sf\n",
    "from resampy import resample\n",
    "from tqdm.notebook import tqdm\n",
    "\n",
    "def compute_cepstrum(audio, sr, n_fft=2048, hop_length=512):\n",
    "    \"\"\"\n",
    "    Compute the cepstrum of an audio signal.\n",
    "\n",
    "    Parameters:\n",
    "    - audio (numpy array): The audio signal.\n",
    "    - sr (int): Sampling rate of the audio signal.\n",
    "    - n_fft (int): Number of FFT components. Default is 2048.\n",
    "    - hop_length (int): Number of samples between successive frames. Default is 512.\n",
    "\n",
    "    Returns:\n",
    "    - cepstrum (numpy array): The computed cepstrum.\n",
    "    \"\"\"\n",
    "    # Compute the magnitude spectrogram\n",
    "    spectrogram = np.abs(librosa.stft(audio, n_fft=n_fft, hop_length=hop_length))\n",
    "\n",
    "    # Convert to log scale\n",
    "    log_spectrogram = np.log1p(spectrogram)\n",
    "\n",
    "    # Compute the inverse FFT of the log-spectrogram\n",
    "    cepstrum = np.fft.ifft(log_spectrogram, axis=0).real\n",
    "\n",
    "    return cepstrum\n",
    "\n",
    "\n",
    "def compute_cepstrum_over_cqt(y, sr=22050, hop_length=512, bins_per_octave=12, n_bins=84):\n",
    "    \"\"\"\n",
    "    Compute the cepstrum over the CQT of an audio signal.\n",
    "\n",
    "    Parameters:\n",
    "        audio_path (str): Path to the audio file.\n",
    "        sr (int): Sampling rate for the audio.\n",
    "        hop_length (int): Hop length for the CQT computation.\n",
    "        bins_per_octave (int): Number of bins per octave for CQT.\n",
    "        n_bins (int): Number of total bins for CQT.\n",
    "\n",
    "    Returns:\n",
    "        cqt_cepstrum (np.ndarray): Cepstrum computed from the CQT.\n",
    "    \"\"\"\n",
    "    # Compute the CQT of the signal\n",
    "    cqt = librosa.cqt(y, sr=sr, hop_length=hop_length, bins_per_octave=bins_per_octave, n_bins=n_bins)\n",
    "\n",
    "    # Compute the magnitude spectrum of the CQT\n",
    "    magnitude = np.abs(cqt)\n",
    "\n",
    "    # Compute the log of the magnitude\n",
    "    log_magnitude = np.log1p(magnitude)  # log1p for numerical stability\n",
    "\n",
    "    # Compute the cepstrum by applying IFFT to the log-magnitude spectrum\n",
    "    cqt_cepstrum = np.fft.irfft(log_magnitude, axis=0)\n",
    "\n",
    "    return cqt_cepstrum\n",
    "\n",
    "sr = 16000\n",
    "hop_length = 512\n",
    "n_mfcc = 13\n",
    "n_mels = 128\n",
    "n_bins = 84\n",
    "bins_per_octave = 12\n",
    "fmin = librosa.note_to_hz(\"C1\")\n",
    "\n",
    "\n",
    "def mel(audio):\n",
    "    # Calculate MelSpectrogram\n",
    "    mel_spectrogram = librosa.feature.melspectrogram(y=audio, sr=sr, n_mels=n_mels)\n",
    "    mel_spectrogram = librosa.power_to_db(mel_spectrogram, ref=np.max)  # Convert to decibel scale\n",
    "    return mel_spectrogram\n",
    "\n",
    "Extractor.register_extractor('mel', mel)\n",
    "# Extractor.register_extractor('cepstrum', lambda audio: compute_cepstrum(audio, sr=sr))\n",
    "# Extractor.register_extractor('chroma_cqt', lambda audio: librosa.feature.chroma_cqt(y=audio, sr=sr))\n",
    "# Extractor.register_extractor('ccqt', lambda audio: compute_cepstrum_over_cqt(y=audio, sr=sr))\n",
    "# Extractor.register_extractor('cqr_viterbi', lambda audio: estimate_cqt_bin_viterbi(y=audio, sr=sr))\n",
    "Extractor.register_extractor('cqt', lambda audio: np.abs(librosa.cqt(audio, sr=sr, hop_length=hop_length, fmin=fmin, bins_per_octave=bins_per_octave, n_bins=n_bins)))\n",
    "# Extractor.register_extractor('stft', lambda audio: librosa.stft(audio, hop_length=hop_length))\n",
    "Extractor.register_extractor('mfcc', lambda audio: librosa.feature.mfcc(y=audio, sr=sr, n_mfcc=n_mfcc))\n"
   ]
  },
  {
   "cell_type": "code",
   "execution_count": 11,
   "id": "925aff54-a495-4557-8975-e573bf48f98b",
   "metadata": {},
   "outputs": [
    {
     "data": {
      "application/vnd.jupyter.widget-view+json": {
       "model_id": "562753fffbb1403b974268f1ccd89fbf",
       "version_major": 2,
       "version_minor": 0
      },
      "text/plain": [
       "mel:   0%|          | 0/699 [00:00<?, ?it/s]"
      ]
     },
     "metadata": {},
     "output_type": "display_data"
    },
    {
     "data": {
      "application/vnd.jupyter.widget-view+json": {
       "model_id": "e66877686db04cb49c9200e773a54128",
       "version_major": 2,
       "version_minor": 0
      },
      "text/plain": [
       "cqt:   0%|          | 0/699 [00:00<?, ?it/s]"
      ]
     },
     "metadata": {},
     "output_type": "display_data"
    },
    {
     "data": {
      "application/vnd.jupyter.widget-view+json": {
       "model_id": "d6427b5acf0146d9a2e7120e741ff1eb",
       "version_major": 2,
       "version_minor": 0
      },
      "text/plain": [
       "mfcc:   0%|          | 0/699 [00:00<?, ?it/s]"
      ]
     },
     "metadata": {},
     "output_type": "display_data"
    },
    {
     "data": {
      "application/vnd.jupyter.widget-view+json": {
       "model_id": "0463a09169b64018a0d9747a4858f14d",
       "version_major": 2,
       "version_minor": 0
      },
      "text/plain": [
       "mel:   0%|          | 0/300 [00:00<?, ?it/s]"
      ]
     },
     "metadata": {},
     "output_type": "display_data"
    },
    {
     "data": {
      "application/vnd.jupyter.widget-view+json": {
       "model_id": "25ec221778f1431b9ef3e5d77f559b1a",
       "version_major": 2,
       "version_minor": 0
      },
      "text/plain": [
       "cqt:   0%|          | 0/300 [00:00<?, ?it/s]"
      ]
     },
     "metadata": {},
     "output_type": "display_data"
    },
    {
     "data": {
      "application/vnd.jupyter.widget-view+json": {
       "model_id": "3e560f01d6be4a489c3911d1a7920676",
       "version_major": 2,
       "version_minor": 0
      },
      "text/plain": [
       "mfcc:   0%|          | 0/300 [00:00<?, ?it/s]"
      ]
     },
     "metadata": {},
     "output_type": "display_data"
    }
   ],
   "source": [
    "E_train.soft_extract()\n",
    "E_eval.soft_extract()"
   ]
  },
  {
   "cell_type": "code",
   "execution_count": 12,
   "id": "e2014469-6b29-480a-a919-03057c27e6cb",
   "metadata": {},
   "outputs": [],
   "source": [
    "import matplotlib.pyplot as plt"
   ]
  },
  {
   "cell_type": "code",
   "execution_count": 13,
   "id": "f3d88988-ce55-4fc3-b181-2cfaeeaf274b",
   "metadata": {},
   "outputs": [],
   "source": [
    "hop_length=512\n",
    "Extractor.register_extractor('bpm_beat', lambda audio: librosa.beat.beat_track(y=audio, sr=sr, hop_length=hop_length))\n",
    "Extractor.register_extractor('bpm', lambda bpm_beat: bpm_beat[0])\n",
    "Extractor.register_extractor('beat', lambda bpm_beat: bpm_beat[1])"
   ]
  },
  {
   "cell_type": "code",
   "execution_count": 14,
   "id": "15027598-f607-4097-9312-a0ae8e42f768",
   "metadata": {},
   "outputs": [
    {
     "data": {
      "application/vnd.jupyter.widget-view+json": {
       "model_id": "bb7dfb4050394c0e817d11586f7b296b",
       "version_major": 2,
       "version_minor": 0
      },
      "text/plain": [
       "bpm_beat:   0%|          | 0/699 [00:00<?, ?it/s]"
      ]
     },
     "metadata": {},
     "output_type": "display_data"
    },
    {
     "data": {
      "application/vnd.jupyter.widget-view+json": {
       "model_id": "9b70b05ee41f4d8d8c8dfb6ab95829d9",
       "version_major": 2,
       "version_minor": 0
      },
      "text/plain": [
       "bpm:   0%|          | 0/699 [00:00<?, ?it/s]"
      ]
     },
     "metadata": {},
     "output_type": "display_data"
    },
    {
     "data": {
      "application/vnd.jupyter.widget-view+json": {
       "model_id": "f888bc188c904ad09e03b18dd769fbb1",
       "version_major": 2,
       "version_minor": 0
      },
      "text/plain": [
       "beat:   0%|          | 0/699 [00:00<?, ?it/s]"
      ]
     },
     "metadata": {},
     "output_type": "display_data"
    },
    {
     "data": {
      "application/vnd.jupyter.widget-view+json": {
       "model_id": "8138aaf36d734f26aed38e1fc8bd4f9b",
       "version_major": 2,
       "version_minor": 0
      },
      "text/plain": [
       "bpm_beat:   0%|          | 0/300 [00:00<?, ?it/s]"
      ]
     },
     "metadata": {},
     "output_type": "display_data"
    },
    {
     "data": {
      "application/vnd.jupyter.widget-view+json": {
       "model_id": "898503fc3b73402382d408c179b372fb",
       "version_major": 2,
       "version_minor": 0
      },
      "text/plain": [
       "bpm:   0%|          | 0/300 [00:00<?, ?it/s]"
      ]
     },
     "metadata": {},
     "output_type": "display_data"
    },
    {
     "data": {
      "application/vnd.jupyter.widget-view+json": {
       "model_id": "b9537361308e46faba7c2b4a3f8482a4",
       "version_major": 2,
       "version_minor": 0
      },
      "text/plain": [
       "beat:   0%|          | 0/300 [00:00<?, ?it/s]"
      ]
     },
     "metadata": {},
     "output_type": "display_data"
    }
   ],
   "source": [
    "E_train.soft_extract()\n",
    "E_eval.soft_extract()"
   ]
  },
  {
   "cell_type": "code",
   "execution_count": 15,
   "id": "1476f645-8857-45c2-9600-a472f649171a",
   "metadata": {},
   "outputs": [],
   "source": [
    "Extractor.register_extractor('cqt_hpss', lambda cqt: librosa.decompose.hpss(cqt))\n",
    "Extractor.register_extractor('harmonic', lambda cqt_hpss: cqt_hpss[0])\n",
    "Extractor.register_extractor('percussive', lambda cqt_hpss: cqt_hpss[1])"
   ]
  },
  {
   "cell_type": "code",
   "execution_count": 16,
   "id": "3ff04c83-d4e3-4c8b-a755-e2204fcfd015",
   "metadata": {},
   "outputs": [
    {
     "data": {
      "application/vnd.jupyter.widget-view+json": {
       "model_id": "cbe4ca66e7164228bbca60ce60a11aca",
       "version_major": 2,
       "version_minor": 0
      },
      "text/plain": [
       "cqt_hpss:   0%|          | 0/699 [00:00<?, ?it/s]"
      ]
     },
     "metadata": {},
     "output_type": "display_data"
    },
    {
     "data": {
      "application/vnd.jupyter.widget-view+json": {
       "model_id": "6e25b88c40014e879d77acc31b01956e",
       "version_major": 2,
       "version_minor": 0
      },
      "text/plain": [
       "harmonic:   0%|          | 0/699 [00:00<?, ?it/s]"
      ]
     },
     "metadata": {},
     "output_type": "display_data"
    },
    {
     "data": {
      "application/vnd.jupyter.widget-view+json": {
       "model_id": "54b10d095b9941f88e320c1e3a231170",
       "version_major": 2,
       "version_minor": 0
      },
      "text/plain": [
       "percussive:   0%|          | 0/699 [00:00<?, ?it/s]"
      ]
     },
     "metadata": {},
     "output_type": "display_data"
    },
    {
     "data": {
      "application/vnd.jupyter.widget-view+json": {
       "model_id": "441ef0ae7ba54868a0853ae51eccd4d0",
       "version_major": 2,
       "version_minor": 0
      },
      "text/plain": [
       "cqt_hpss:   0%|          | 0/300 [00:00<?, ?it/s]"
      ]
     },
     "metadata": {},
     "output_type": "display_data"
    },
    {
     "data": {
      "application/vnd.jupyter.widget-view+json": {
       "model_id": "e347a8061e8c4132830503b3aaae2350",
       "version_major": 2,
       "version_minor": 0
      },
      "text/plain": [
       "harmonic:   0%|          | 0/300 [00:00<?, ?it/s]"
      ]
     },
     "metadata": {},
     "output_type": "display_data"
    },
    {
     "data": {
      "application/vnd.jupyter.widget-view+json": {
       "model_id": "942694af98484fc091425754e6d68cbc",
       "version_major": 2,
       "version_minor": 0
      },
      "text/plain": [
       "percussive:   0%|          | 0/300 [00:00<?, ?it/s]"
      ]
     },
     "metadata": {},
     "output_type": "display_data"
    }
   ],
   "source": [
    "E_train.soft_extract()\n",
    "E_eval.soft_extract()"
   ]
  },
  {
   "cell_type": "code",
   "execution_count": 17,
   "id": "9c6a1c71-753e-4ed1-8d2d-5695c663b607",
   "metadata": {},
   "outputs": [
    {
     "data": {
      "text/plain": [
       "(0.0, 30.0)"
      ]
     },
     "execution_count": 17,
     "metadata": {},
     "output_type": "execute_result"
    },
    {
     "data": {
      "image/png": "[encoded data removed]",
      "text/plain": [
       "<Figure size 640x480 with 1 Axes>"
      ]
     },
     "metadata": {},
     "output_type": "display_data"
    }
   ],
   "source": [
    "plt.pcolor(E_train.features['percussive'][0])\n",
    "plt.vlines(E_train.features['beat'][0], 10, 30)\n",
    "plt.xlim(0, 200)\n",
    "plt.ylim(0, 30)"
   ]
  },
  {
   "cell_type": "markdown",
   "id": "ed7d1d16-45ff-475d-80ec-6fcb7264da1e",
   "metadata": {},
   "source": [
    "ChatGPT query\n",
    "\n",
    "Write a python function with a following signature\n",
    "\n",
    "```\n",
    "rnd = np.random.default_rng(42)\n",
    "def crop_by_beats(beat, harmony_specs, percussion_specs, frames_per_beat = 4, number_of_beats=16, number_of_samples=8)\n",
    "    pass\n",
    "```\n",
    "\n",
    "beats is the integer array of frames at which there was a beat\n",
    "upsample beats , for two neighboring values insert frames_per_beat-1 values between them uniformly cropped to the nearest frame\n",
    "\n",
    "Next number_of_samples times sample starting position in the upsampled beats array and take number_of_beats * frames_per_beat consequent beats. Position must be sampled aligned to number_of_beats * frames_per_beat.\n",
    "\n",
    "harmony_specs is a list of several spectrograms with harmonic parts of melody.\n",
    "for each of harmony spec calculate the mean along time axis (axis = 1) between the consequent beats of the sample including the frames at which there was a beat\n",
    "\n",
    "percussion_specs is a list of several spectrograms with percussion parts of melody. For each of percussion spec calculate the downsampled spectrogram as with harmony specs but shift the spectrogram so that the first sample was centered at the beat. The resulting length must be the same\n",
    "\n",
    "return list of tuples containing downsampled spectrograms"
   ]
  },
  {
   "cell_type": "code",
   "execution_count": 18,
   "id": "c6db06bb-4ad3-4406-86d5-a924add6b614",
   "metadata": {},
   "outputs": [],
   "source": [
    "rnd = np.random.default_rng(42)\n",
    "\n",
    "def crop_by_beats(\n",
    "    beat,\n",
    "    harmony_specs,\n",
    "    percussion_specs,\n",
    "    frames_per_beat=4,\n",
    "    number_of_beats=4,\n",
    "    number_of_samples=8\n",
    "):\n",
    "    \"\"\"\n",
    "    Upsample the array of integer beat positions and then randomly extract \n",
    "    (number_of_samples) chunks of length (number_of_beats * frames_per_beat).\n",
    "    \n",
    "    For each chunk, compute the downsampled spectrogram:\n",
    "      - For harmonic specs: take the mean along the time axis (axis=1) \n",
    "        between consecutive upsampled-beat boundaries.\n",
    "      - For percussion specs: take the mean along the time axis over intervals \n",
    "        shifted so that each is centered at the corresponding upsampled beat.\n",
    "    \n",
    "    Parameters\n",
    "    ----------\n",
    "    beat : 1D array-like of int\n",
    "        Array of frame indices at which a beat occurs. Must be strictly increasing.\n",
    "    harmony_specs : list of np.ndarray\n",
    "        Each element is a spectrogram for a harmonic component with shape \n",
    "        (freq_bins, time_frames).\n",
    "    percussion_specs : list of np.ndarray\n",
    "        Each element is a spectrogram for a percussion component with shape \n",
    "        (freq_bins, time_frames).\n",
    "    frames_per_beat : int\n",
    "        Number of subdivisions per original beat when upsampling.\n",
    "    number_of_beats : int\n",
    "        How many beats (in terms of upsampled subdivisions) to include in each chunk.\n",
    "    number_of_samples : int\n",
    "        How many random chunks to extract.\n",
    "    \n",
    "    Returns\n",
    "    -------\n",
    "    list of tuples\n",
    "        A list (of length `number_of_samples`). Each element is:\n",
    "        \n",
    "            (harmony_downsampled_list, percussion_downsampled_list)\n",
    "        \n",
    "        where `harmony_downsampled_list` and `percussion_downsampled_list` are each \n",
    "        lists of spectrograms (in the same order as `harmony_specs` and \n",
    "        `percussion_specs`). Each downsampled spectrogram has shape:\n",
    "        \n",
    "            (freq_bins, number_of_beats * frames_per_beat)\n",
    "    \"\"\"\n",
    "    \n",
    "    # 1) Upsample 'beat' by inserting (frames_per_beat - 1) points \n",
    "    #    uniformly between each pair of consecutive beats.\n",
    "    up_beats = []\n",
    "    beat = np.array(beat, dtype=int)\n",
    "    for i in range(len(beat) - 1):\n",
    "        start = beat[i]\n",
    "        end = beat[i + 1]\n",
    "        diff = end - start\n",
    "        \n",
    "        # Insert frames_per_beat subdivisions between start and end, \n",
    "        # snapping to the nearest integer frame.\n",
    "        for k in range(frames_per_beat):\n",
    "            val = start + round(k * diff / frames_per_beat)\n",
    "            # Avoid duplicates if rounding yields same as last appended\n",
    "            if not up_beats or val != up_beats[-1]:\n",
    "                up_beats.append(val)\n",
    "    \n",
    "    up_beats = np.array(up_beats, dtype=int)\n",
    "    \n",
    "    # 2) We need (number_of_beats * frames_per_beat + 1) upsampled-beat \n",
    "    #    positions for each chunk (the +1 is because we need the right boundary).\n",
    "    needed_length = number_of_beats * frames_per_beat + 1\n",
    "    total_upsampled = len(up_beats)\n",
    "    \n",
    "    # If we cannot extract even one chunk, return empty\n",
    "    max_start = total_upsampled - needed_length\n",
    "    if max_start < 0:\n",
    "        return []\n",
    "    \n",
    "    # Possible start indices must be multiples of (number_of_beats * frames_per_beat)\n",
    "    # so that each chunk is \"aligned\".\n",
    "    stride = number_of_beats * frames_per_beat\n",
    "    possible_starts = np.arange(0, max_start + 1, stride)\n",
    "    \n",
    "    # Randomly choose 'number_of_samples' start indices from these possibilities\n",
    "    chosen_starts = rnd.choice(possible_starts, size=number_of_samples, replace=True)\n",
    "    \n",
    "    results = []\n",
    "    for start_idx in chosen_starts:\n",
    "        # Boundaries for this sample\n",
    "        boundary_points = up_beats[start_idx : start_idx + needed_length]\n",
    "        # === 3) Downsample each harmony spec ===\n",
    "        harmony_downsampled = []\n",
    "        for spec in harmony_specs:\n",
    "            # spec has shape (freq_bins, time_frames)\n",
    "            freq_bins = spec.shape[0]\n",
    "            \n",
    "            # We'll get (number_of_beats * frames_per_beat) intervals\n",
    "            ds_harm = np.zeros((freq_bins, number_of_beats * frames_per_beat),\n",
    "                               dtype=spec.dtype)\n",
    "            for j in range(number_of_beats * frames_per_beat):\n",
    "                left = boundary_points[j]\n",
    "                right = boundary_points[j + 1]\n",
    "                # Take the average along axis=1 (time axis)\n",
    "                ds_harm[:, j] = spec[:, left:right].mean(axis=1)\n",
    "\n",
    "            harmony_downsampled.append(ds_harm)\n",
    "        \n",
    "        # === 4) Downsample each percussion spec with centering ===\n",
    "        percussion_downsampled = []\n",
    "        for spec in percussion_specs:\n",
    "            \n",
    "            freq_bins = spec.shape[0]\n",
    "            ds_perc = np.zeros((freq_bins, number_of_beats * frames_per_beat),\n",
    "                               dtype=spec.dtype)\n",
    "\n",
    "            old_right = None\n",
    "            for j in range(number_of_beats * frames_per_beat):\n",
    "                dist = boundary_points[j + 1] - boundary_points[j]\n",
    "                right = boundary_points[j + 1] - dist // 2\n",
    "                if old_right is None:\n",
    "                    left = boundary_points[j] - dist // 2\n",
    "                else:\n",
    "                    left = old_right\n",
    "                old_right = right\n",
    "                \n",
    "                # Clamp to valid range\n",
    "                if left < 0:\n",
    "                    left = 0\n",
    "                if right > spec.shape[1]:\n",
    "                    right = spec.shape[1]\n",
    "\n",
    "                # Average over the time axis in [left, right)\n",
    "                chunk = spec[:, left:right]\n",
    "                ds_perc[:, j] = chunk.mean(axis=1)\n",
    "            \n",
    "            percussion_downsampled.append(ds_perc)\n",
    "        \n",
    "        # One result entry = (list_of_downsampled_harmony_specs, list_of_downsampled_percussion_specs)\n",
    "        results.append((harmony_downsampled, percussion_downsampled))\n",
    "    print(\"\")\n",
    "    return results"
   ]
  },
  {
   "cell_type": "code",
   "execution_count": 19,
   "id": "2f127a9d-846b-463b-a674-7295da842e3a",
   "metadata": {},
   "outputs": [],
   "source": [
    "Extractor.register_extractor('sample', \n",
    "                             lambda beat, cqt, harmonic, mfcc, percussive: \n",
    "                             crop_by_beats(\n",
    "                                 beat=beat, \n",
    "                                 harmony_specs=[cqt, harmonic, mfcc], \n",
    "                                 percussion_specs=[percussive]\n",
    "                             ), shuffle=True, map_labels=[\n",
    "                                 ('idx', 's_idx'), \n",
    "                                 ('y', 's_y'), \n",
    "                                 ('stats', 's_stats'), \n",
    "                                 ('bpm', 's_bpm'),\n",
    "                                 ('rms', 's_rms')\n",
    "                             ])\n",
    "Extractor.register_extractor('s_cqt', lambda sample: sample[0][0])\n",
    "Extractor.register_extractor('s_harmonic', lambda sample: sample[0][1])\n",
    "Extractor.register_extractor('s_mfcc', lambda sample: sample[0][2])\n",
    "Extractor.register_extractor('s_percussive', lambda sample: sample[1][0])\n"
   ]
  },
  {
   "cell_type": "code",
   "execution_count": 23,
   "id": "08d2c32d-712c-4928-9df0-0a93b73120c5",
   "metadata": {},
   "outputs": [],
   "source": [
    "E_train.soft_extract()\n",
    "E_eval.soft_extract()"
   ]
  },
  {
   "cell_type": "code",
   "execution_count": 24,
   "id": "1026d150-35ad-4cd4-b44a-f3e75a8c03cb",
   "metadata": {},
   "outputs": [],
   "source": [
    "Extractor.register_extractor('cqt_freq_stats', \n",
    "                             lambda s_cqt: np.hstack([s_cqt.mean(axis=1), s_cqt.var(axis=1)]))\n",
    "Extractor.register_extractor('harmonic_freq_stats', \n",
    "                             lambda s_harmonic: np.hstack([s_harmonic.mean(axis=1), s_harmonic.var(axis=1)]))\n",
    "Extractor.register_extractor('percussive_freq_stats', \n",
    "                             lambda s_percussive: np.hstack([s_percussive.mean(axis=1), s_percussive.var(axis=1)]))\n",
    "Extractor.register_extractor('percussive_beat_frames', \n",
    "                             lambda s_percussive: s_percussive.mean(axis=0))"
   ]
  },
  {
   "cell_type": "code",
   "execution_count": 25,
   "id": "b471db37-be83-4d88-9feb-2fb4655e3cc0",
   "metadata": {},
   "outputs": [
    {
     "data": {
      "application/vnd.jupyter.widget-view+json": {
       "model_id": "2a36a359d9f34dbf9777c11043b8a191",
       "version_major": 2,
       "version_minor": 0
      },
      "text/plain": [
       "cqt_freq_stats:   0%|          | 0/5592 [00:00<?, ?it/s]"
      ]
     },
     "metadata": {},
     "output_type": "display_data"
    },
    {
     "data": {
      "application/vnd.jupyter.widget-view+json": {
       "model_id": "6597780b1b484090a876e7ea56633ce4",
       "version_major": 2,
       "version_minor": 0
      },
      "text/plain": [
       "harmonic_freq_stats:   0%|          | 0/5592 [00:00<?, ?it/s]"
      ]
     },
     "metadata": {},
     "output_type": "display_data"
    },
    {
     "data": {
      "application/vnd.jupyter.widget-view+json": {
       "model_id": "c4512bb9c29145768404f946a14d0dd4",
       "version_major": 2,
       "version_minor": 0
      },
      "text/plain": [
       "percussive_freq_stats:   0%|          | 0/5592 [00:00<?, ?it/s]"
      ]
     },
     "metadata": {},
     "output_type": "display_data"
    },
    {
     "data": {
      "application/vnd.jupyter.widget-view+json": {
       "model_id": "340fda00f8944b5187c070349a7a24c5",
       "version_major": 2,
       "version_minor": 0
      },
      "text/plain": [
       "percussive_beat_frames:   0%|          | 0/5592 [00:00<?, ?it/s]"
      ]
     },
     "metadata": {},
     "output_type": "display_data"
    },
    {
     "data": {
      "application/vnd.jupyter.widget-view+json": {
       "model_id": "6f2c22521c6f400ab784c2cc733e65e6",
       "version_major": 2,
       "version_minor": 0
      },
      "text/plain": [
       "cqt_freq_stats:   0%|          | 0/2400 [00:00<?, ?it/s]"
      ]
     },
     "metadata": {},
     "output_type": "display_data"
    },
    {
     "data": {
      "application/vnd.jupyter.widget-view+json": {
       "model_id": "b14bfc4617d2413fad72e2ab57eef101",
       "version_major": 2,
       "version_minor": 0
      },
      "text/plain": [
       "harmonic_freq_stats:   0%|          | 0/2400 [00:00<?, ?it/s]"
      ]
     },
     "metadata": {},
     "output_type": "display_data"
    },
    {
     "data": {
      "application/vnd.jupyter.widget-view+json": {
       "model_id": "d7fc1f6bd000493c8d26d5af0ff7591f",
       "version_major": 2,
       "version_minor": 0
      },
      "text/plain": [
       "percussive_freq_stats:   0%|          | 0/2400 [00:00<?, ?it/s]"
      ]
     },
     "metadata": {},
     "output_type": "display_data"
    },
    {
     "data": {
      "application/vnd.jupyter.widget-view+json": {
       "model_id": "a51ad2be901c41c8a3476c1b5de700d7",
       "version_major": 2,
       "version_minor": 0
      },
      "text/plain": [
       "percussive_beat_frames:   0%|          | 0/2400 [00:00<?, ?it/s]"
      ]
     },
     "metadata": {},
     "output_type": "display_data"
    }
   ],
   "source": [
    "E_train.soft_extract()\n",
    "E_eval.soft_extract()"
   ]
  },
  {
   "cell_type": "code",
   "execution_count": 27,
   "id": "644ef256-d4d3-4790-ba47-cfe7e1d61b9d",
   "metadata": {},
   "outputs": [
    {
     "data": {
      "application/vnd.jupyter.widget-view+json": {
       "model_id": "1faea0e9cdb34fc4bb156e59f405c972",
       "version_major": 2,
       "version_minor": 0
      },
      "text/plain": [
       "MetricVisualizer(layout=Layout(align_self='stretch', height='500px'))"
      ]
     },
     "metadata": {},
     "output_type": "display_data"
    },
    {
     "name": "stdout",
     "output_type": "stream",
     "text": [
      "0:\tlearn: 0.2945279\ttest: 0.3000000\tbest: 0.3000000 (0)\ttotal: 85.5ms\tremaining: 42.7s\n",
      "50:\tlearn: 0.6078326\ttest: 0.5262500\tbest: 0.5295833 (48)\ttotal: 1.49s\tremaining: 13.1s\n",
      "100:\tlearn: 0.7015379\ttest: 0.5775000\tbest: 0.5779167 (97)\ttotal: 2.89s\tremaining: 11.4s\n",
      "150:\tlearn: 0.7626967\ttest: 0.6070833\tbest: 0.6070833 (150)\ttotal: 4.15s\tremaining: 9.59s\n",
      "200:\tlearn: 0.7988197\ttest: 0.6233333\tbest: 0.6254167 (195)\ttotal: 5.43s\tremaining: 8.08s\n",
      "250:\tlearn: 0.8297568\ttest: 0.6408333\tbest: 0.6433333 (229)\ttotal: 6.73s\tremaining: 6.68s\n",
      "300:\tlearn: 0.8506795\ttest: 0.6462500\tbest: 0.6500000 (280)\ttotal: 7.98s\tremaining: 5.28s\n",
      "350:\tlearn: 0.8726753\ttest: 0.6604167\tbest: 0.6604167 (350)\ttotal: 9.23s\tremaining: 3.92s\n",
      "400:\tlearn: 0.8851931\ttest: 0.6575000\tbest: 0.6608333 (352)\ttotal: 10.5s\tremaining: 2.59s\n",
      "450:\tlearn: 0.8952074\ttest: 0.6658333\tbest: 0.6658333 (450)\ttotal: 11.7s\tremaining: 1.27s\n",
      "499:\tlearn: 0.9064735\ttest: 0.6712500\tbest: 0.6725000 (489)\ttotal: 13s\tremaining: 0us\n",
      "\n",
      "bestTest = 0.6725\n",
      "bestIteration = 489\n",
      "\n",
      "Shrink model to first 490 iterations.\n",
      "\n",
      "Classification Report:\n",
      "               precision    recall  f1-score   support\n",
      "\n",
      "       blues       0.81      0.57      0.67        30\n",
      "   classical       0.83      0.97      0.89        30\n",
      "     country       0.76      0.73      0.75        30\n",
      "       disco       0.80      0.67      0.73        30\n",
      "      hiphop       0.67      0.67      0.67        30\n",
      "        jazz       0.74      0.83      0.78        30\n",
      "       metal       0.74      0.77      0.75        30\n",
      "         pop       0.58      0.70      0.64        30\n",
      "      reggae       0.68      0.77      0.72        30\n",
      "        rock       0.68      0.57      0.62        30\n",
      "\n",
      "    accuracy                           0.72       300\n",
      "   macro avg       0.73      0.72      0.72       300\n",
      "weighted avg       0.73      0.72      0.72       300\n",
      "\n",
      "Evaluation Accuracy: 0.7233\n"
     ]
    }
   ],
   "source": [
    "features = ['cqt_freq_stats', 'harmonic_freq_stats', 'percussive_freq_stats', 'percussive_beat_frames']\n",
    "model, acc = train_and_evaluate_catboost(\n",
    "    idx_eval=E_eval.get_features(['s_idx'])[:,0],\n",
    "    X_train=E_train.get_features(features),\n",
    "    X_eval=E_eval.get_features(features),\n",
    "    y_train=E_train.get_features(['s_y'])[:,0], \n",
    "    y_eval=E_eval.get_features(['s_y'])[:,0]\n",
    ")"
   ]
  },
  {
   "cell_type": "code",
   "execution_count": 28,
   "id": "14c48a78-b01c-4aa6-835e-a98ab7cff752",
   "metadata": {},
   "outputs": [
    {
     "data": {
      "text/html": [
       "<div>\n",
       "<style scoped>\n",
       "    .dataframe tbody tr th:only-of-type {\n",
       "        vertical-align: middle;\n",
       "    }\n",
       "\n",
       "    .dataframe tbody tr th {\n",
       "        vertical-align: top;\n",
       "    }\n",
       "\n",
       "    .dataframe thead th {\n",
       "        text-align: right;\n",
       "    }\n",
       "</style>\n",
       "<table border=\"1\" class=\"dataframe\">\n",
       "  <thead>\n",
       "    <tr style=\"text-align: right;\">\n",
       "      <th></th>\n",
       "      <th>importance</th>\n",
       "    </tr>\n",
       "  </thead>\n",
       "  <tbody>\n",
       "    <tr>\n",
       "      <th>harmonic_freq_stats_83</th>\n",
       "      <td>1.701588</td>\n",
       "    </tr>\n",
       "    <tr>\n",
       "      <th>harmonic_freq_stats_75</th>\n",
       "      <td>1.412591</td>\n",
       "    </tr>\n",
       "    <tr>\n",
       "      <th>percussive_freq_stats_106</th>\n",
       "      <td>1.395804</td>\n",
       "    </tr>\n",
       "    <tr>\n",
       "      <th>percussive_freq_stats_99</th>\n",
       "      <td>1.380682</td>\n",
       "    </tr>\n",
       "    <tr>\n",
       "      <th>percussive_freq_stats_13</th>\n",
       "      <td>1.331298</td>\n",
       "    </tr>\n",
       "    <tr>\n",
       "      <th>percussive_freq_stats_92</th>\n",
       "      <td>1.299336</td>\n",
       "    </tr>\n",
       "    <tr>\n",
       "      <th>percussive_freq_stats_89</th>\n",
       "      <td>1.273313</td>\n",
       "    </tr>\n",
       "    <tr>\n",
       "      <th>percussive_freq_stats_102</th>\n",
       "      <td>1.272257</td>\n",
       "    </tr>\n",
       "    <tr>\n",
       "      <th>percussive_beat_frames_8</th>\n",
       "      <td>1.172925</td>\n",
       "    </tr>\n",
       "    <tr>\n",
       "      <th>cqt_freq_stats_94</th>\n",
       "      <td>1.100774</td>\n",
       "    </tr>\n",
       "    <tr>\n",
       "      <th>percussive_freq_stats_111</th>\n",
       "      <td>1.099988</td>\n",
       "    </tr>\n",
       "    <tr>\n",
       "      <th>cqt_freq_stats_98</th>\n",
       "      <td>1.076897</td>\n",
       "    </tr>\n",
       "    <tr>\n",
       "      <th>percussive_freq_stats_105</th>\n",
       "      <td>1.038542</td>\n",
       "    </tr>\n",
       "    <tr>\n",
       "      <th>percussive_freq_stats_100</th>\n",
       "      <td>1.019139</td>\n",
       "    </tr>\n",
       "    <tr>\n",
       "      <th>harmonic_freq_stats_27</th>\n",
       "      <td>0.994556</td>\n",
       "    </tr>\n",
       "  </tbody>\n",
       "</table>\n",
       "</div>"
      ],
      "text/plain": [
       "                           importance\n",
       "harmonic_freq_stats_83       1.701588\n",
       "harmonic_freq_stats_75       1.412591\n",
       "percussive_freq_stats_106    1.395804\n",
       "percussive_freq_stats_99     1.380682\n",
       "percussive_freq_stats_13     1.331298\n",
       "percussive_freq_stats_92     1.299336\n",
       "percussive_freq_stats_89     1.273313\n",
       "percussive_freq_stats_102    1.272257\n",
       "percussive_beat_frames_8     1.172925\n",
       "cqt_freq_stats_94            1.100774\n",
       "percussive_freq_stats_111    1.099988\n",
       "cqt_freq_stats_98            1.076897\n",
       "percussive_freq_stats_105    1.038542\n",
       "percussive_freq_stats_100    1.019139\n",
       "harmonic_freq_stats_27       0.994556"
      ]
     },
     "execution_count": 28,
     "metadata": {},
     "output_type": "execute_result"
    }
   ],
   "source": [
    "pd.DataFrame(\n",
    "    data=model.feature_importances_, \n",
    "    index=E_train.get_feature_names_vector(features), \n",
    "    columns=['importance']\n",
    ").sort_values(by='importance', ascending=False).head(15)"
   ]
  },
  {
   "cell_type": "code",
   "execution_count": 30,
   "id": "02bb29bb-9873-4ce1-a9ee-0fd7c07d9bf5",
   "metadata": {},
   "outputs": [
    {
     "data": {
      "image/png": "[encoded data removed]",
      "text/plain": [
       "<Figure size 1000x700 with 9 Axes>"
      ]
     },
     "metadata": {},
     "output_type": "display_data"
    }
   ],
   "source": [
    "# It looks like the one of the most important features are high frequencies of drums, which is the last thing I expected. Lets check pictures:\n",
    "s_y = E_train.get_features(['s_y'])[:, 0]\n",
    "jazz_idx = np.where(s_y == 'jazz')[0][:3]\n",
    "rock_idx = np.where(s_y == 'rock')[0][:3]\n",
    "hip_hop_idx = np.where(s_y == 'hiphop')[0][:3]\n",
    "\n",
    "plt.figure().set_size_inches(10, 7)\n",
    "for pos, idx in enumerate(np.hstack([jazz_idx, rock_idx, hip_hop_idx])):\n",
    "    plt.subplot(3, 3, pos + 1)\n",
    "    plt.plot(E_train.features['percussive_freq_stats'][idx])"
   ]
  },
  {
   "cell_type": "code",
   "execution_count": 32,
   "id": "cc85719d-ff24-45e1-b0d1-9b12f1970add",
   "metadata": {},
   "outputs": [
    {
     "data": {
      "application/vnd.jupyter.widget-view+json": {
       "model_id": "536cc4cadbbc44a9a257e269b5c4f892",
       "version_major": 2,
       "version_minor": 0
      },
      "text/plain": [
       "MetricVisualizer(layout=Layout(align_self='stretch', height='500px'))"
      ]
     },
     "metadata": {},
     "output_type": "display_data"
    },
    {
     "name": "stdout",
     "output_type": "stream",
     "text": [
      "0:\tlearn: 0.3252861\ttest: 0.3200000\tbest: 0.3200000 (0)\ttotal: 71.9ms\tremaining: 35.9s\n",
      "50:\tlearn: 0.6344778\ttest: 0.5320833\tbest: 0.5337500 (49)\ttotal: 1.45s\tremaining: 12.7s\n",
      "100:\tlearn: 0.7274678\ttest: 0.6008333\tbest: 0.6020833 (95)\ttotal: 2.81s\tremaining: 11.1s\n",
      "150:\tlearn: 0.7818312\ttest: 0.6200000\tbest: 0.6216667 (142)\ttotal: 4.13s\tremaining: 9.54s\n",
      "200:\tlearn: 0.8324392\ttest: 0.6316667\tbest: 0.6379167 (192)\ttotal: 5.48s\tremaining: 8.15s\n",
      "250:\tlearn: 0.8505007\ttest: 0.6429167\tbest: 0.6429167 (250)\ttotal: 6.76s\tremaining: 6.71s\n",
      "300:\tlearn: 0.8705293\ttest: 0.6529167\tbest: 0.6541667 (294)\ttotal: 8.03s\tremaining: 5.31s\n",
      "350:\tlearn: 0.8868026\ttest: 0.6616667\tbest: 0.6637500 (338)\ttotal: 9.33s\tremaining: 3.96s\n",
      "400:\tlearn: 0.9005722\ttest: 0.6662500\tbest: 0.6670833 (397)\ttotal: 10.9s\tremaining: 2.69s\n",
      "450:\tlearn: 0.9127325\ttest: 0.6687500\tbest: 0.6691667 (446)\ttotal: 12.1s\tremaining: 1.32s\n",
      "499:\tlearn: 0.9223891\ttest: 0.6750000\tbest: 0.6762500 (496)\ttotal: 13.4s\tremaining: 0us\n",
      "\n",
      "bestTest = 0.67625\n",
      "bestIteration = 496\n",
      "\n",
      "Shrink model to first 497 iterations.\n",
      "\n",
      "Classification Report:\n",
      "               precision    recall  f1-score   support\n",
      "\n",
      "       blues       0.83      0.50      0.62        30\n",
      "   classical       0.85      0.97      0.91        30\n",
      "     country       0.64      0.70      0.67        30\n",
      "       disco       0.80      0.67      0.73        30\n",
      "      hiphop       0.71      0.67      0.69        30\n",
      "        jazz       0.75      0.80      0.77        30\n",
      "       metal       0.73      0.80      0.76        30\n",
      "         pop       0.57      0.70      0.63        30\n",
      "      reggae       0.73      0.80      0.76        30\n",
      "        rock       0.52      0.47      0.49        30\n",
      "\n",
      "    accuracy                           0.71       300\n",
      "   macro avg       0.71      0.71      0.70       300\n",
      "weighted avg       0.71      0.71      0.70       300\n",
      "\n",
      "Evaluation Accuracy: 0.7067\n"
     ]
    }
   ],
   "source": [
    "# Lets add BPM and RMS\n",
    "\n",
    "features = ['s_rms', 's_bpm', 'cqt_freq_stats', 'harmonic_freq_stats', 'percussive_freq_stats', 'percussive_beat_frames']\n",
    "model, acc = train_and_evaluate_catboost(\n",
    "    idx_eval=E_eval.get_features(['s_idx'])[:,0],\n",
    "    X_train=E_train.get_features(features),\n",
    "    X_eval=E_eval.get_features(features),\n",
    "    y_train=E_train.get_features(['s_y'])[:,0], \n",
    "    y_eval=E_eval.get_features(['s_y'])[:,0]\n",
    ")"
   ]
  },
  {
   "cell_type": "code",
   "execution_count": 33,
   "id": "374ecf68-70ea-43ce-b820-bff26fad26bb",
   "metadata": {},
   "outputs": [
    {
     "data": {
      "text/html": [
       "<div>\n",
       "<style scoped>\n",
       "    .dataframe tbody tr th:only-of-type {\n",
       "        vertical-align: middle;\n",
       "    }\n",
       "\n",
       "    .dataframe tbody tr th {\n",
       "        vertical-align: top;\n",
       "    }\n",
       "\n",
       "    .dataframe thead th {\n",
       "        text-align: right;\n",
       "    }\n",
       "</style>\n",
       "<table border=\"1\" class=\"dataframe\">\n",
       "  <thead>\n",
       "    <tr style=\"text-align: right;\">\n",
       "      <th></th>\n",
       "      <th>importance</th>\n",
       "    </tr>\n",
       "  </thead>\n",
       "  <tbody>\n",
       "    <tr>\n",
       "      <th>s_rms_0</th>\n",
       "      <td>4.464436</td>\n",
       "    </tr>\n",
       "    <tr>\n",
       "      <th>s_bpm_0</th>\n",
       "      <td>4.042891</td>\n",
       "    </tr>\n",
       "    <tr>\n",
       "      <th>percussive_freq_stats_106</th>\n",
       "      <td>1.871748</td>\n",
       "    </tr>\n",
       "    <tr>\n",
       "      <th>percussive_freq_stats_111</th>\n",
       "      <td>1.834868</td>\n",
       "    </tr>\n",
       "    <tr>\n",
       "      <th>harmonic_freq_stats_83</th>\n",
       "      <td>1.779945</td>\n",
       "    </tr>\n",
       "    <tr>\n",
       "      <th>percussive_freq_stats_99</th>\n",
       "      <td>1.747408</td>\n",
       "    </tr>\n",
       "    <tr>\n",
       "      <th>percussive_freq_stats_17</th>\n",
       "      <td>1.746550</td>\n",
       "    </tr>\n",
       "    <tr>\n",
       "      <th>cqt_freq_stats_92</th>\n",
       "      <td>1.599634</td>\n",
       "    </tr>\n",
       "    <tr>\n",
       "      <th>percussive_freq_stats_14</th>\n",
       "      <td>1.400042</td>\n",
       "    </tr>\n",
       "    <tr>\n",
       "      <th>harmonic_freq_stats_79</th>\n",
       "      <td>1.242292</td>\n",
       "    </tr>\n",
       "    <tr>\n",
       "      <th>percussive_freq_stats_97</th>\n",
       "      <td>1.223112</td>\n",
       "    </tr>\n",
       "    <tr>\n",
       "      <th>harmonic_freq_stats_27</th>\n",
       "      <td>1.136373</td>\n",
       "    </tr>\n",
       "    <tr>\n",
       "      <th>percussive_freq_stats_104</th>\n",
       "      <td>1.042795</td>\n",
       "    </tr>\n",
       "    <tr>\n",
       "      <th>percussive_beat_frames_0</th>\n",
       "      <td>0.987690</td>\n",
       "    </tr>\n",
       "    <tr>\n",
       "      <th>percussive_freq_stats_16</th>\n",
       "      <td>0.977544</td>\n",
       "    </tr>\n",
       "  </tbody>\n",
       "</table>\n",
       "</div>"
      ],
      "text/plain": [
       "                           importance\n",
       "s_rms_0                      4.464436\n",
       "s_bpm_0                      4.042891\n",
       "percussive_freq_stats_106    1.871748\n",
       "percussive_freq_stats_111    1.834868\n",
       "harmonic_freq_stats_83       1.779945\n",
       "percussive_freq_stats_99     1.747408\n",
       "percussive_freq_stats_17     1.746550\n",
       "cqt_freq_stats_92            1.599634\n",
       "percussive_freq_stats_14     1.400042\n",
       "harmonic_freq_stats_79       1.242292\n",
       "percussive_freq_stats_97     1.223112\n",
       "harmonic_freq_stats_27       1.136373\n",
       "percussive_freq_stats_104    1.042795\n",
       "percussive_beat_frames_0     0.987690\n",
       "percussive_freq_stats_16     0.977544"
      ]
     },
     "execution_count": 33,
     "metadata": {},
     "output_type": "execute_result"
    }
   ],
   "source": [
    "pd.DataFrame(\n",
    "    data=model.feature_importances_, \n",
    "    index=E_train.get_feature_names_vector(features), \n",
    "    columns=['importance']\n",
    ").sort_values(by='importance', ascending=False).head(15)"
   ]
  },
  {
   "cell_type": "markdown",
   "id": "0dd9e048-c0f4-4fbe-ae9c-89e46ff3101b",
   "metadata": {},
   "source": [
    "Common to all splits features look more important to catboost (as they contain data about whole sample).\n",
    "But we will calculate majority over samples, and using common features sploils the whole bagging idea.\n",
    "Luckily it is possible to specify feature weights in catboost"
   ]
  },
  {
   "cell_type": "code",
   "execution_count": 41,
   "id": "8b70a37b-9b88-4c0a-b8fa-45dcd8fad0dd",
   "metadata": {},
   "outputs": [],
   "source": [
    "# ChatGPT query:\n",
    "#\n",
    "# I have an array with feature names and I want to generate weights for the features. Some of the feature names look like <name>_<index>. \n",
    "# I want to make a function receiving a dict with prefixes and corresponding feature weights. \n",
    "# It should return the np.array of the same shape as feature_names, containing weights. \n",
    "# If the feature name starts with prefix from the dict then the weight has to be taken from the dict, otherwise it has to be 1. \n",
    "# Here is the signature:\n",
    "# \n",
    "# def assign_feature_weights(feature_names: np.ndarray, weights: dict[str, int]) -> np.ndarray:\n",
    "#     pass\n",
    "\n",
    "import numpy as np\n",
    "\n",
    "def assign_feature_weights(feature_names: np.ndarray, weights: dict[str, float]) -> np.ndarray:\n",
    "    \"\"\"\n",
    "    Assign weights to features based on given prefixes.\n",
    "    \n",
    "    Parameters\n",
    "    ----------\n",
    "    feature_names : np.ndarray\n",
    "        Array of feature names.\n",
    "    weights : dict[str, float]\n",
    "        Dictionary mapping a prefix (string) to a weight (float).\n",
    "        \n",
    "    Returns\n",
    "    -------\n",
    "    np.ndarray\n",
    "        An array of the same shape as `feature_names` containing the assigned weights. \n",
    "        If a feature name starts with any prefix in `weights`, the corresponding weight \n",
    "        is used. Otherwise, the weight is 1.0.\n",
    "    \"\"\"\n",
    "    result_weights = np.ones_like(feature_names, dtype=float)  # default is 1.0\n",
    "    \n",
    "    for i, fname in enumerate(feature_names):\n",
    "        for prefix, w in weights.items():\n",
    "            if fname.startswith(prefix):\n",
    "                result_weights[i] = w\n",
    "                break  # Stop at the first matching prefix\n",
    "\n",
    "    return result_weights\n"
   ]
  },
  {
   "cell_type": "code",
   "execution_count": 65,
   "id": "3dd1ba4c-e78e-4231-9491-aeb1a19842f5",
   "metadata": {},
   "outputs": [
    {
     "data": {
      "application/vnd.jupyter.widget-view+json": {
       "model_id": "b9566b7815de4fb49a30f1fd3742b1af",
       "version_major": 2,
       "version_minor": 0
      },
      "text/plain": [
       "MetricVisualizer(layout=Layout(align_self='stretch', height='500px'))"
      ]
     },
     "metadata": {},
     "output_type": "display_data"
    },
    {
     "name": "stdout",
     "output_type": "stream",
     "text": [
      "0:\tlearn: 0.3252861\ttest: 0.3200000\tbest: 0.3200000 (0)\ttotal: 62ms\tremaining: 30.9s\n",
      "50:\tlearn: 0.6246423\ttest: 0.5325000\tbest: 0.5325000 (50)\ttotal: 1.48s\tremaining: 13.1s\n",
      "100:\tlearn: 0.7113734\ttest: 0.5958333\tbest: 0.5979167 (97)\ttotal: 2.77s\tremaining: 10.9s\n",
      "150:\tlearn: 0.7725322\ttest: 0.6120833\tbest: 0.6204167 (144)\ttotal: 4.03s\tremaining: 9.31s\n",
      "200:\tlearn: 0.8104435\ttest: 0.6341667\tbest: 0.6350000 (198)\ttotal: 5.29s\tremaining: 7.87s\n",
      "250:\tlearn: 0.8390558\ttest: 0.6475000\tbest: 0.6491667 (248)\ttotal: 6.6s\tremaining: 6.55s\n",
      "300:\tlearn: 0.8615880\ttest: 0.6591667\tbest: 0.6591667 (299)\ttotal: 7.98s\tremaining: 5.28s\n",
      "350:\tlearn: 0.8737482\ttest: 0.6641667\tbest: 0.6650000 (342)\ttotal: 9.26s\tremaining: 3.93s\n",
      "400:\tlearn: 0.8898426\ttest: 0.6716667\tbest: 0.6720833 (399)\ttotal: 10.6s\tremaining: 2.62s\n",
      "450:\tlearn: 0.8987840\ttest: 0.6762500\tbest: 0.6762500 (450)\ttotal: 11.9s\tremaining: 1.29s\n",
      "499:\tlearn: 0.9111230\ttest: 0.6783333\tbest: 0.6816667 (488)\ttotal: 13.2s\tremaining: 0us\n",
      "\n",
      "bestTest = 0.6816666667\n",
      "bestIteration = 488\n",
      "\n",
      "Shrink model to first 489 iterations.\n",
      "\n",
      "Classification Report:\n",
      "               precision    recall  f1-score   support\n",
      "\n",
      "       blues       0.85      0.57      0.68        30\n",
      "   classical       0.85      0.97      0.91        30\n",
      "     country       0.72      0.77      0.74        30\n",
      "       disco       0.83      0.67      0.74        30\n",
      "      hiphop       0.70      0.70      0.70        30\n",
      "        jazz       0.76      0.83      0.79        30\n",
      "       metal       0.77      0.80      0.79        30\n",
      "         pop       0.65      0.80      0.72        30\n",
      "      reggae       0.71      0.80      0.75        30\n",
      "        rock       0.60      0.50      0.55        30\n",
      "\n",
      "    accuracy                           0.74       300\n",
      "   macro avg       0.74      0.74      0.74       300\n",
      "weighted avg       0.74      0.74      0.74       300\n",
      "\n",
      "Evaluation Accuracy: 0.7400\n"
     ]
    }
   ],
   "source": [
    "features = ['s_rms', 's_bpm', 'cqt_freq_stats', 'harmonic_freq_stats', 'percussive_freq_stats', 'percussive_beat_frames']\n",
    "weights = assign_feature_weights(E_train.get_feature_names_vector(features), dict(s_rms=0.5, s_bpm=0.7))\n",
    "model, acc = train_and_evaluate_catboost(\n",
    "    idx_eval=E_eval.get_features(['s_idx'])[:,0],\n",
    "    X_train=E_train.get_features(features),\n",
    "    X_eval=E_eval.get_features(features),\n",
    "    y_train=E_train.get_features(['s_y'])[:,0], \n",
    "    y_eval=E_eval.get_features(['s_y'])[:,0],\n",
    "    feature_weights=weights\n",
    ")"
   ]
  },
  {
   "cell_type": "code",
   "execution_count": 62,
   "id": "eb53fe63-17ff-40d4-af4d-52feba3fc602",
   "metadata": {},
   "outputs": [
    {
     "data": {
      "text/html": [
       "<div>\n",
       "<style scoped>\n",
       "    .dataframe tbody tr th:only-of-type {\n",
       "        vertical-align: middle;\n",
       "    }\n",
       "\n",
       "    .dataframe tbody tr th {\n",
       "        vertical-align: top;\n",
       "    }\n",
       "\n",
       "    .dataframe thead th {\n",
       "        text-align: right;\n",
       "    }\n",
       "</style>\n",
       "<table border=\"1\" class=\"dataframe\">\n",
       "  <thead>\n",
       "    <tr style=\"text-align: right;\">\n",
       "      <th></th>\n",
       "      <th>importance</th>\n",
       "    </tr>\n",
       "  </thead>\n",
       "  <tbody>\n",
       "    <tr>\n",
       "      <th>percussive_freq_stats_99</th>\n",
       "      <td>2.147362</td>\n",
       "    </tr>\n",
       "    <tr>\n",
       "      <th>harmonic_freq_stats_83</th>\n",
       "      <td>1.879729</td>\n",
       "    </tr>\n",
       "    <tr>\n",
       "      <th>percussive_freq_stats_106</th>\n",
       "      <td>1.858941</td>\n",
       "    </tr>\n",
       "    <tr>\n",
       "      <th>s_bpm_0</th>\n",
       "      <td>1.838338</td>\n",
       "    </tr>\n",
       "    <tr>\n",
       "      <th>cqt_freq_stats_92</th>\n",
       "      <td>1.825316</td>\n",
       "    </tr>\n",
       "    <tr>\n",
       "      <th>percussive_freq_stats_14</th>\n",
       "      <td>1.816211</td>\n",
       "    </tr>\n",
       "    <tr>\n",
       "      <th>percussive_freq_stats_111</th>\n",
       "      <td>1.690769</td>\n",
       "    </tr>\n",
       "    <tr>\n",
       "      <th>percussive_freq_stats_17</th>\n",
       "      <td>1.586334</td>\n",
       "    </tr>\n",
       "    <tr>\n",
       "      <th>harmonic_freq_stats_27</th>\n",
       "      <td>1.387238</td>\n",
       "    </tr>\n",
       "    <tr>\n",
       "      <th>cqt_freq_stats_32</th>\n",
       "      <td>1.261905</td>\n",
       "    </tr>\n",
       "    <tr>\n",
       "      <th>percussive_freq_stats_11</th>\n",
       "      <td>1.185438</td>\n",
       "    </tr>\n",
       "    <tr>\n",
       "      <th>harmonic_freq_stats_79</th>\n",
       "      <td>1.129815</td>\n",
       "    </tr>\n",
       "    <tr>\n",
       "      <th>harmonic_freq_stats_74</th>\n",
       "      <td>1.036616</td>\n",
       "    </tr>\n",
       "    <tr>\n",
       "      <th>harmonic_freq_stats_7</th>\n",
       "      <td>1.023658</td>\n",
       "    </tr>\n",
       "    <tr>\n",
       "      <th>percussive_beat_frames_8</th>\n",
       "      <td>1.007915</td>\n",
       "    </tr>\n",
       "  </tbody>\n",
       "</table>\n",
       "</div>"
      ],
      "text/plain": [
       "                           importance\n",
       "percussive_freq_stats_99     2.147362\n",
       "harmonic_freq_stats_83       1.879729\n",
       "percussive_freq_stats_106    1.858941\n",
       "s_bpm_0                      1.838338\n",
       "cqt_freq_stats_92            1.825316\n",
       "percussive_freq_stats_14     1.816211\n",
       "percussive_freq_stats_111    1.690769\n",
       "percussive_freq_stats_17     1.586334\n",
       "harmonic_freq_stats_27       1.387238\n",
       "cqt_freq_stats_32            1.261905\n",
       "percussive_freq_stats_11     1.185438\n",
       "harmonic_freq_stats_79       1.129815\n",
       "harmonic_freq_stats_74       1.036616\n",
       "harmonic_freq_stats_7        1.023658\n",
       "percussive_beat_frames_8     1.007915"
      ]
     },
     "execution_count": 62,
     "metadata": {},
     "output_type": "execute_result"
    }
   ],
   "source": [
    "pd.DataFrame(\n",
    "    data=model.feature_importances_, \n",
    "    index=E_train.get_feature_names_vector(features), \n",
    "    columns=['importance']\n",
    ").sort_values(by='importance', ascending=False).head(15)"
   ]
  },
  {
   "cell_type": "code",
   "execution_count": 79,
   "id": "c60b9aa2-c15d-4cfb-b7e3-c2145412a24f",
   "metadata": {},
   "outputs": [
    {
     "data": {
      "application/vnd.jupyter.widget-view+json": {
       "model_id": "812709a1d0ed4a83bcb54bb84026b465",
       "version_major": 2,
       "version_minor": 0
      },
      "text/plain": [
       "MetricVisualizer(layout=Layout(align_self='stretch', height='500px'))"
      ]
     },
     "metadata": {},
     "output_type": "display_data"
    },
    {
     "name": "stdout",
     "output_type": "stream",
     "text": [
      "0:\tlearn: 0.2861230\ttest: 0.2866667\tbest: 0.2866667 (0)\ttotal: 84.2ms\tremaining: 42s\n",
      "50:\tlearn: 0.7408798\ttest: 0.6283333\tbest: 0.6283333 (50)\ttotal: 1.82s\tremaining: 16s\n",
      "100:\tlearn: 0.8369099\ttest: 0.7062500\tbest: 0.7083333 (98)\ttotal: 3.43s\tremaining: 13.5s\n",
      "150:\tlearn: 0.8962804\ttest: 0.7379167\tbest: 0.7391667 (142)\ttotal: 4.89s\tremaining: 11.3s\n",
      "200:\tlearn: 0.9329399\ttest: 0.7491667\tbest: 0.7541667 (195)\ttotal: 6.3s\tremaining: 9.37s\n",
      "250:\tlearn: 0.9459943\ttest: 0.7579167\tbest: 0.7616667 (247)\ttotal: 7.7s\tremaining: 7.63s\n",
      "300:\tlearn: 0.9628040\ttest: 0.7620833\tbest: 0.7675000 (259)\ttotal: 9.09s\tremaining: 6.01s\n",
      "350:\tlearn: 0.9738913\ttest: 0.7745833\tbest: 0.7762500 (331)\ttotal: 10.5s\tremaining: 4.45s\n",
      "400:\tlearn: 0.9830114\ttest: 0.7783333\tbest: 0.7787500 (372)\ttotal: 11.9s\tremaining: 2.93s\n",
      "450:\tlearn: 0.9874821\ttest: 0.7800000\tbest: 0.7825000 (444)\ttotal: 13.3s\tremaining: 1.44s\n",
      "499:\tlearn: 0.9908798\ttest: 0.7816667\tbest: 0.7866667 (487)\ttotal: 14.6s\tremaining: 0us\n",
      "\n",
      "bestTest = 0.7866666667\n",
      "bestIteration = 487\n",
      "\n",
      "Shrink model to first 488 iterations.\n",
      "\n",
      "Classification Report:\n",
      "               precision    recall  f1-score   support\n",
      "\n",
      "       blues       0.88      0.73      0.80        30\n",
      "   classical       0.91      0.97      0.94        30\n",
      "     country       0.80      0.93      0.86        30\n",
      "       disco       0.83      0.63      0.72        30\n",
      "      hiphop       0.70      0.87      0.78        30\n",
      "        jazz       0.90      0.87      0.88        30\n",
      "       metal       0.93      0.83      0.88        30\n",
      "         pop       0.75      0.90      0.82        30\n",
      "      reggae       0.77      0.80      0.79        30\n",
      "        rock       0.72      0.60      0.65        30\n",
      "\n",
      "    accuracy                           0.81       300\n",
      "   macro avg       0.82      0.81      0.81       300\n",
      "weighted avg       0.82      0.81      0.81       300\n",
      "\n",
      "Evaluation Accuracy: 0.8133\n"
     ]
    }
   ],
   "source": [
    "# Lets add other stats\n",
    "\n",
    "features = ['s_stats', 's_bpm', 'cqt_freq_stats', 'harmonic_freq_stats', 'percussive_freq_stats', 'percussive_beat_frames']\n",
    "weights = assign_feature_weights(E_train.get_feature_names_vector(features), dict(s_bpm=0.7, s_stats=0.65))\n",
    "\n",
    "model, acc = train_and_evaluate_catboost(\n",
    "    idx_eval=E_eval.get_features(['s_idx'])[:,0],\n",
    "    X_train=E_train.get_features(features),\n",
    "    X_eval=E_eval.get_features(features),\n",
    "    y_train=E_train.get_features(['s_y'])[:,0], \n",
    "    y_eval=E_eval.get_features(['s_y'])[:,0],\n",
    "    feature_weights=weights\n",
    ")"
   ]
  },
  {
   "cell_type": "code",
   "execution_count": 80,
   "id": "2f53a051-970e-424c-a72c-704fb015f3d3",
   "metadata": {},
   "outputs": [
    {
     "data": {
      "text/html": [
       "<div>\n",
       "<style scoped>\n",
       "    .dataframe tbody tr th:only-of-type {\n",
       "        vertical-align: middle;\n",
       "    }\n",
       "\n",
       "    .dataframe tbody tr th {\n",
       "        vertical-align: top;\n",
       "    }\n",
       "\n",
       "    .dataframe thead th {\n",
       "        text-align: right;\n",
       "    }\n",
       "</style>\n",
       "<table border=\"1\" class=\"dataframe\">\n",
       "  <thead>\n",
       "    <tr style=\"text-align: right;\">\n",
       "      <th></th>\n",
       "      <th>importance</th>\n",
       "      <th>stat_name</th>\n",
       "    </tr>\n",
       "  </thead>\n",
       "  <tbody>\n",
       "    <tr>\n",
       "      <th>s_stats_26</th>\n",
       "      <td>4.598714</td>\n",
       "      <td>mfcc5_var</td>\n",
       "    </tr>\n",
       "    <tr>\n",
       "      <th>s_stats_23</th>\n",
       "      <td>4.052141</td>\n",
       "      <td>mfcc4_mean</td>\n",
       "    </tr>\n",
       "    <tr>\n",
       "      <th>s_stats_0</th>\n",
       "      <td>3.151464</td>\n",
       "      <td>chroma_stft_mean</td>\n",
       "    </tr>\n",
       "    <tr>\n",
       "      <th>s_stats_5</th>\n",
       "      <td>3.083909</td>\n",
       "      <td>spectral_centroid_var</td>\n",
       "    </tr>\n",
       "    <tr>\n",
       "      <th>percussive_freq_stats_104</th>\n",
       "      <td>2.106430</td>\n",
       "      <td>None</td>\n",
       "    </tr>\n",
       "    <tr>\n",
       "      <th>s_stats_33</th>\n",
       "      <td>2.067107</td>\n",
       "      <td>mfcc9_mean</td>\n",
       "    </tr>\n",
       "    <tr>\n",
       "      <th>s_stats_12</th>\n",
       "      <td>1.928132</td>\n",
       "      <td>harmony_mean</td>\n",
       "    </tr>\n",
       "    <tr>\n",
       "      <th>cqt_freq_stats_93</th>\n",
       "      <td>1.797927</td>\n",
       "      <td>None</td>\n",
       "    </tr>\n",
       "    <tr>\n",
       "      <th>s_stats_9</th>\n",
       "      <td>1.781267</td>\n",
       "      <td>rolloff_var</td>\n",
       "    </tr>\n",
       "    <tr>\n",
       "      <th>percussive_freq_stats_101</th>\n",
       "      <td>1.780725</td>\n",
       "      <td>None</td>\n",
       "    </tr>\n",
       "    <tr>\n",
       "      <th>s_stats_27</th>\n",
       "      <td>1.740140</td>\n",
       "      <td>mfcc6_mean</td>\n",
       "    </tr>\n",
       "    <tr>\n",
       "      <th>percussive_freq_stats_96</th>\n",
       "      <td>1.532317</td>\n",
       "      <td>None</td>\n",
       "    </tr>\n",
       "    <tr>\n",
       "      <th>s_stats_49</th>\n",
       "      <td>1.522274</td>\n",
       "      <td>mfcc17_mean</td>\n",
       "    </tr>\n",
       "    <tr>\n",
       "      <th>s_stats_24</th>\n",
       "      <td>1.496897</td>\n",
       "      <td>mfcc4_var</td>\n",
       "    </tr>\n",
       "    <tr>\n",
       "      <th>s_stats_1</th>\n",
       "      <td>1.379564</td>\n",
       "      <td>chroma_stft_var</td>\n",
       "    </tr>\n",
       "  </tbody>\n",
       "</table>\n",
       "</div>"
      ],
      "text/plain": [
       "                           importance              stat_name\n",
       "s_stats_26                   4.598714              mfcc5_var\n",
       "s_stats_23                   4.052141             mfcc4_mean\n",
       "s_stats_0                    3.151464       chroma_stft_mean\n",
       "s_stats_5                    3.083909  spectral_centroid_var\n",
       "percussive_freq_stats_104    2.106430                   None\n",
       "s_stats_33                   2.067107             mfcc9_mean\n",
       "s_stats_12                   1.928132           harmony_mean\n",
       "cqt_freq_stats_93            1.797927                   None\n",
       "s_stats_9                    1.781267            rolloff_var\n",
       "percussive_freq_stats_101    1.780725                   None\n",
       "s_stats_27                   1.740140             mfcc6_mean\n",
       "percussive_freq_stats_96     1.532317                   None\n",
       "s_stats_49                   1.522274            mfcc17_mean\n",
       "s_stats_24                   1.496897              mfcc4_var\n",
       "s_stats_1                    1.379564        chroma_stft_var"
      ]
     },
     "execution_count": 80,
     "metadata": {},
     "output_type": "execute_result"
    }
   ],
   "source": [
    "imp = pd.DataFrame(\n",
    "    data=model.feature_importances_, \n",
    "    index=E_train.get_feature_names_vector(features), \n",
    "    columns=['importance']\n",
    ").sort_values(by='importance', ascending=False).head(15)\n",
    "imp['stat_name'] = pd.Series(imp.index, index=imp.index).apply(lambda x: int(x[8:]) if x.startswith('s_stats') else None)\n",
    "imp['stat_name'] = imp['stat_name'].apply(lambda x: X_train.columns[int(x) + 2] if not np.isnan(x) else None)\n",
    "imp"
   ]
  },
  {
   "cell_type": "markdown",
   "id": "24b6005d-aadc-4705-94ed-8657e2dee407",
   "metadata": {},
   "source": [
    "TODO: translate to English\n",
    "1. Высокий вес у mfcc - это преобразование Фурье посчитанное поверх mel спектрограммы.\n",
    "Эта операция выполняет 2 цели, понижает размерность, и позволяет оценить фундаментальную частоту\n",
    "2. Высокий вес у статистик над хроматическими фичами (то есть какая нота встречается чаще)\n",
    "3. Высокий вес у статистик спектрального центроида\n",
    "\n",
    "Вывод: Надо добавить эти фичи, только посчитанные на кусочке"
   ]
  },
  {
   "cell_type": "code",
   "execution_count": 81,
   "id": "8be23710-0367-438e-a199-22149260ab70",
   "metadata": {},
   "outputs": [],
   "source": [
    "Extractor.register_extractor('mfcc_quef_stats', \n",
    "                             lambda s_mfcc: np.hstack([s_mfcc.mean(axis=1), s_mfcc.var(axis=1)]))\n",
    "\n",
    "# Usually STFT is used for spectral centroid, but I will use CQT, it may turn out to be even more precise.\n",
    "cqt_frequencies = librosa.cqt_frequencies(n_bins=n_bins, fmin=fmin, bins_per_octave=bins_per_octave)\n",
    "Extractor.register_extractor('cqt_spectral_centroid', \n",
    "                             lambda s_cqt: np.sum(cqt_frequencies.reshape(-1, 1) * librosa.util.normalize(s_cqt, norm=1, axis=-2), axis=0))\n",
    "\n",
    "Extractor.register_extractor('cqt_spectral_centroid_stats', \n",
    "                             lambda cqt_spectral_centroid: np.array([cqt_spectral_centroid.mean(), cqt_spectral_centroid.var()]))\n",
    "\n",
    "chroma_map = librosa.filters.cq_to_chroma(cqt_frequencies.shape[0], bins_per_octave=bins_per_octave, n_chroma=bins_per_octave, fmin=fmin)\n",
    "Extractor.register_extractor('cqt_chroma', \n",
    "                             lambda s_cqt: np.dot(chroma_map, s_cqt))\n",
    "Extractor.register_extractor('cqt_chroma_stats', \n",
    "                             lambda cqt_chroma: np.hstack([cqt_chroma.mean(axis=1), cqt_chroma.var(axis=1)]))\n",
    "\n",
    "Extractor.register_extractor('harmonic_chroma', \n",
    "                             lambda s_harmonic: np.dot(chroma_map, s_harmonic))\n",
    "Extractor.register_extractor('harmonic_chroma_stats', \n",
    "                             lambda harmonic_chroma: np.hstack([harmonic_chroma.mean(axis=1), harmonic_chroma.var(axis=1)]))\n"
   ]
  },
  {
   "cell_type": "code",
   "execution_count": 82,
   "id": "ac2e5d55-a379-4c94-96a3-823d16ffc06e",
   "metadata": {},
   "outputs": [],
   "source": [
    "E_train.soft_extract()\n",
    "E_eval.soft_extract()"
   ]
  },
  {
   "cell_type": "code",
   "execution_count": 85,
   "id": "47f7c917-9ae9-4ac3-b8c7-d1f6487d996b",
   "metadata": {},
   "outputs": [
    {
     "data": {
      "application/vnd.jupyter.widget-view+json": {
       "model_id": "7efb423d624a4a6180d28b37c21fef66",
       "version_major": 2,
       "version_minor": 0
      },
      "text/plain": [
       "MetricVisualizer(layout=Layout(align_self='stretch', height='500px'))"
      ]
     },
     "metadata": {},
     "output_type": "display_data"
    },
    {
     "name": "stdout",
     "output_type": "stream",
     "text": [
      "0:\tlearn: 0.3023963\ttest: 0.3016667\tbest: 0.3016667 (0)\ttotal: 84.8ms\tremaining: 42.3s\n",
      "50:\tlearn: 0.6291130\ttest: 0.5383333\tbest: 0.5383333 (50)\ttotal: 1.75s\tremaining: 15.4s\n",
      "100:\tlearn: 0.7256795\ttest: 0.6070833\tbest: 0.6087500 (97)\ttotal: 3.31s\tremaining: 13.1s\n",
      "150:\tlearn: 0.7895207\ttest: 0.6370833\tbest: 0.6370833 (150)\ttotal: 4.83s\tremaining: 11.2s\n",
      "200:\tlearn: 0.8192060\ttest: 0.6591667\tbest: 0.6595833 (187)\ttotal: 6.36s\tremaining: 9.46s\n",
      "250:\tlearn: 0.8512160\ttest: 0.6712500\tbest: 0.6720833 (249)\ttotal: 7.94s\tremaining: 7.88s\n",
      "300:\tlearn: 0.8705293\ttest: 0.6825000\tbest: 0.6854167 (299)\ttotal: 9.44s\tremaining: 6.24s\n",
      "350:\tlearn: 0.8876967\ttest: 0.6870833\tbest: 0.6875000 (336)\ttotal: 11s\tremaining: 4.68s\n",
      "400:\tlearn: 0.8986052\ttest: 0.6850000\tbest: 0.6883333 (391)\ttotal: 12.5s\tremaining: 3.09s\n",
      "450:\tlearn: 0.9130901\ttest: 0.6895833\tbest: 0.6941667 (431)\ttotal: 14s\tremaining: 1.52s\n",
      "499:\tlearn: 0.9236409\ttest: 0.6879167\tbest: 0.6941667 (431)\ttotal: 15.4s\tremaining: 0us\n",
      "\n",
      "bestTest = 0.6941666667\n",
      "bestIteration = 431\n",
      "\n",
      "Shrink model to first 432 iterations.\n",
      "\n",
      "Classification Report:\n",
      "               precision    recall  f1-score   support\n",
      "\n",
      "       blues       0.86      0.60      0.71        30\n",
      "   classical       0.81      1.00      0.90        30\n",
      "     country       0.79      0.87      0.83        30\n",
      "       disco       0.79      0.63      0.70        30\n",
      "      hiphop       0.76      0.63      0.69        30\n",
      "        jazz       0.84      0.87      0.85        30\n",
      "       metal       0.80      0.80      0.80        30\n",
      "         pop       0.57      0.77      0.66        30\n",
      "      reggae       0.69      0.80      0.74        30\n",
      "        rock       0.62      0.50      0.56        30\n",
      "\n",
      "    accuracy                           0.75       300\n",
      "   macro avg       0.75      0.75      0.74       300\n",
      "weighted avg       0.75      0.75      0.74       300\n",
      "\n",
      "Evaluation Accuracy: 0.7467\n"
     ]
    }
   ],
   "source": [
    "# Lets add MFCC, chromatic features and centroid\n",
    "\n",
    "features = ['s_rms', 's_bpm', 'cqt_freq_stats', 'harmonic_freq_stats', 'percussive_freq_stats', 'percussive_beat_frames',\n",
    "           'cqt_spectral_centroid', 'cqt_spectral_centroid_stats', 'cqt_chroma_stats', 'harmonic_chroma_stats', 'mfcc_quef_stats']\n",
    "weights = assign_feature_weights(E_train.get_feature_names_vector(features), dict(s_rms=0.5, s_bpm=0.7, mfcc_quef=0.8))\n",
    "model, acc = train_and_evaluate_catboost(\n",
    "    idx_eval=E_eval.get_features(['s_idx'])[:,0],\n",
    "    X_train=E_train.get_features(features),\n",
    "    X_eval=E_eval.get_features(features),\n",
    "    y_train=E_train.get_features(['s_y'])[:,0], \n",
    "    y_eval=E_eval.get_features(['s_y'])[:,0],\n",
    "    feature_weights=weights\n",
    ")"
   ]
  },
  {
   "cell_type": "code",
   "execution_count": 88,
   "id": "a4c336fe-0b48-4e22-85e1-ba2eccda159d",
   "metadata": {},
   "outputs": [
    {
     "data": {
      "text/html": [
       "<div>\n",
       "<style scoped>\n",
       "    .dataframe tbody tr th:only-of-type {\n",
       "        vertical-align: middle;\n",
       "    }\n",
       "\n",
       "    .dataframe tbody tr th {\n",
       "        vertical-align: top;\n",
       "    }\n",
       "\n",
       "    .dataframe thead th {\n",
       "        text-align: right;\n",
       "    }\n",
       "</style>\n",
       "<table border=\"1\" class=\"dataframe\">\n",
       "  <thead>\n",
       "    <tr style=\"text-align: right;\">\n",
       "      <th></th>\n",
       "      <th>importance</th>\n",
       "    </tr>\n",
       "  </thead>\n",
       "  <tbody>\n",
       "    <tr>\n",
       "      <th>percussive_freq_stats_112</th>\n",
       "      <td>1.857907</td>\n",
       "    </tr>\n",
       "    <tr>\n",
       "      <th>percussive_freq_stats_20</th>\n",
       "      <td>1.744533</td>\n",
       "    </tr>\n",
       "    <tr>\n",
       "      <th>mfcc_quef_stats_17</th>\n",
       "      <td>1.599135</td>\n",
       "    </tr>\n",
       "    <tr>\n",
       "      <th>harmonic_freq_stats_83</th>\n",
       "      <td>1.501137</td>\n",
       "    </tr>\n",
       "    <tr>\n",
       "      <th>s_bpm_0</th>\n",
       "      <td>1.474766</td>\n",
       "    </tr>\n",
       "    <tr>\n",
       "      <th>mfcc_quef_stats_3</th>\n",
       "      <td>1.431291</td>\n",
       "    </tr>\n",
       "    <tr>\n",
       "      <th>percussive_freq_stats_92</th>\n",
       "      <td>1.422827</td>\n",
       "    </tr>\n",
       "    <tr>\n",
       "      <th>cqt_freq_stats_92</th>\n",
       "      <td>1.363115</td>\n",
       "    </tr>\n",
       "    <tr>\n",
       "      <th>cqt_freq_stats_8</th>\n",
       "      <td>1.254460</td>\n",
       "    </tr>\n",
       "    <tr>\n",
       "      <th>percussive_freq_stats_14</th>\n",
       "      <td>1.203224</td>\n",
       "    </tr>\n",
       "    <tr>\n",
       "      <th>mfcc_quef_stats_16</th>\n",
       "      <td>1.170939</td>\n",
       "    </tr>\n",
       "    <tr>\n",
       "      <th>cqt_spectral_centroid_13</th>\n",
       "      <td>1.133964</td>\n",
       "    </tr>\n",
       "    <tr>\n",
       "      <th>percussive_freq_stats_96</th>\n",
       "      <td>1.035340</td>\n",
       "    </tr>\n",
       "    <tr>\n",
       "      <th>percussive_freq_stats_83</th>\n",
       "      <td>1.005611</td>\n",
       "    </tr>\n",
       "    <tr>\n",
       "      <th>mfcc_quef_stats_18</th>\n",
       "      <td>0.936231</td>\n",
       "    </tr>\n",
       "  </tbody>\n",
       "</table>\n",
       "</div>"
      ],
      "text/plain": [
       "                           importance\n",
       "percussive_freq_stats_112    1.857907\n",
       "percussive_freq_stats_20     1.744533\n",
       "mfcc_quef_stats_17           1.599135\n",
       "harmonic_freq_stats_83       1.501137\n",
       "s_bpm_0                      1.474766\n",
       "mfcc_quef_stats_3            1.431291\n",
       "percussive_freq_stats_92     1.422827\n",
       "cqt_freq_stats_92            1.363115\n",
       "cqt_freq_stats_8             1.254460\n",
       "percussive_freq_stats_14     1.203224\n",
       "mfcc_quef_stats_16           1.170939\n",
       "cqt_spectral_centroid_13     1.133964\n",
       "percussive_freq_stats_96     1.035340\n",
       "percussive_freq_stats_83     1.005611\n",
       "mfcc_quef_stats_18           0.936231"
      ]
     },
     "execution_count": 88,
     "metadata": {},
     "output_type": "execute_result"
    }
   ],
   "source": [
    "pd.DataFrame(\n",
    "    data=model.feature_importances_, \n",
    "    index=E_train.get_feature_names_vector(features), \n",
    "    columns=['importance']\n",
    ").sort_values(by='importance', ascending=False).head(15)"
   ]
  },
  {
   "cell_type": "code",
   "execution_count": 112,
   "id": "b541891a-5769-4d7a-8d19-e35bbf86d8e1",
   "metadata": {},
   "outputs": [
    {
     "data": {
      "text/html": [
       "<div>\n",
       "<style scoped>\n",
       "    .dataframe tbody tr th:only-of-type {\n",
       "        vertical-align: middle;\n",
       "    }\n",
       "\n",
       "    .dataframe tbody tr th {\n",
       "        vertical-align: top;\n",
       "    }\n",
       "\n",
       "    .dataframe thead tr th {\n",
       "        text-align: left;\n",
       "    }\n",
       "\n",
       "    .dataframe thead tr:last-of-type th {\n",
       "        text-align: right;\n",
       "    }\n",
       "</style>\n",
       "<table border=\"1\" class=\"dataframe\">\n",
       "  <thead>\n",
       "    <tr>\n",
       "      <th></th>\n",
       "      <th colspan=\"2\" halign=\"left\">importance</th>\n",
       "    </tr>\n",
       "    <tr>\n",
       "      <th></th>\n",
       "      <th>max</th>\n",
       "      <th>mean</th>\n",
       "    </tr>\n",
       "    <tr>\n",
       "      <th>cropped_feature_name</th>\n",
       "      <th></th>\n",
       "      <th></th>\n",
       "    </tr>\n",
       "  </thead>\n",
       "  <tbody>\n",
       "    <tr>\n",
       "      <th>percussive_freq_stats</th>\n",
       "      <td>1.857907</td>\n",
       "      <td>0.176254</td>\n",
       "    </tr>\n",
       "    <tr>\n",
       "      <th>mfcc_quef_stats</th>\n",
       "      <td>1.599135</td>\n",
       "      <td>0.392366</td>\n",
       "    </tr>\n",
       "    <tr>\n",
       "      <th>harmonic_freq_stats</th>\n",
       "      <td>1.501137</td>\n",
       "      <td>0.176176</td>\n",
       "    </tr>\n",
       "    <tr>\n",
       "      <th>s_bpm</th>\n",
       "      <td>1.474766</td>\n",
       "      <td>1.474766</td>\n",
       "    </tr>\n",
       "    <tr>\n",
       "      <th>cqt_freq_stats</th>\n",
       "      <td>1.363115</td>\n",
       "      <td>0.108267</td>\n",
       "    </tr>\n",
       "    <tr>\n",
       "      <th>cqt_spectral_centroid</th>\n",
       "      <td>1.133964</td>\n",
       "      <td>0.184035</td>\n",
       "    </tr>\n",
       "    <tr>\n",
       "      <th>cqt_spectral_centroid_stats</th>\n",
       "      <td>0.786633</td>\n",
       "      <td>0.462719</td>\n",
       "    </tr>\n",
       "    <tr>\n",
       "      <th>percussive_beat_frames</th>\n",
       "      <td>0.723722</td>\n",
       "      <td>0.259397</td>\n",
       "    </tr>\n",
       "    <tr>\n",
       "      <th>harmonic_chroma_stats</th>\n",
       "      <td>0.286604</td>\n",
       "      <td>0.060462</td>\n",
       "    </tr>\n",
       "    <tr>\n",
       "      <th>cqt_chroma_stats</th>\n",
       "      <td>0.264755</td>\n",
       "      <td>0.060632</td>\n",
       "    </tr>\n",
       "    <tr>\n",
       "      <th>s_rms</th>\n",
       "      <td>0.000000</td>\n",
       "      <td>0.000000</td>\n",
       "    </tr>\n",
       "  </tbody>\n",
       "</table>\n",
       "</div>"
      ],
      "text/plain": [
       "                            importance          \n",
       "                                   max      mean\n",
       "cropped_feature_name                            \n",
       "percussive_freq_stats         1.857907  0.176254\n",
       "mfcc_quef_stats               1.599135  0.392366\n",
       "harmonic_freq_stats           1.501137  0.176176\n",
       "s_bpm                         1.474766  1.474766\n",
       "cqt_freq_stats                1.363115  0.108267\n",
       "cqt_spectral_centroid         1.133964  0.184035\n",
       "cqt_spectral_centroid_stats   0.786633  0.462719\n",
       "percussive_beat_frames        0.723722  0.259397\n",
       "harmonic_chroma_stats         0.286604  0.060462\n",
       "cqt_chroma_stats              0.264755  0.060632\n",
       "s_rms                         0.000000  0.000000"
      ]
     },
     "execution_count": 112,
     "metadata": {},
     "output_type": "execute_result"
    }
   ],
   "source": [
    "# Lets leave out only features that turn out important. Boosting is not robust to autocorrelation. \n",
    "# There is of course penalty in CatBoost, but still it may make sense.\n",
    "imp = pd.DataFrame(data=np.stack([E_train.get_feature_names_vector(features)]).T, columns=['feature_name'])\n",
    "imp['importance'] = model.feature_importances_\n",
    "imp['cropped_feature_name'] = imp['feature_name'].apply(lambda x: '_'.join(x.split('_')[:-1]))\n",
    "imp[['cropped_feature_name', 'importance']].groupby('cropped_feature_name').agg(['max', 'mean']).sort_values(('importance', 'max'), ascending=False)"
   ]
  },
  {
   "cell_type": "code",
   "execution_count": 120,
   "id": "99dbf575-63ee-4f51-971f-c283c0d9201f",
   "metadata": {},
   "outputs": [
    {
     "data": {
      "application/vnd.jupyter.widget-view+json": {
       "model_id": "1217eef34fa4442fbbe32616b77bfacc",
       "version_major": 2,
       "version_minor": 0
      },
      "text/plain": [
       "MetricVisualizer(layout=Layout(align_self='stretch', height='500px'))"
      ]
     },
     "metadata": {},
     "output_type": "display_data"
    },
    {
     "name": "stdout",
     "output_type": "stream",
     "text": [
      "0:\tlearn: 0.3109800\ttest: 0.3162500\tbest: 0.3162500 (0)\ttotal: 74.6ms\tremaining: 37.2s\n",
      "50:\tlearn: 0.6135551\ttest: 0.5437500\tbest: 0.5437500 (50)\ttotal: 1.57s\tremaining: 13.8s\n",
      "100:\tlearn: 0.7113734\ttest: 0.5937500\tbest: 0.5966667 (92)\ttotal: 3s\tremaining: 11.8s\n",
      "150:\tlearn: 0.7721745\ttest: 0.6295833\tbest: 0.6295833 (150)\ttotal: 4.65s\tremaining: 10.8s\n",
      "200:\tlearn: 0.8172389\ttest: 0.6520833\tbest: 0.6558333 (196)\ttotal: 6.12s\tremaining: 9.1s\n",
      "250:\tlearn: 0.8519313\ttest: 0.6650000\tbest: 0.6650000 (250)\ttotal: 7.51s\tremaining: 7.45s\n",
      "300:\tlearn: 0.8683834\ttest: 0.6750000\tbest: 0.6758333 (285)\ttotal: 8.9s\tremaining: 5.88s\n",
      "350:\tlearn: 0.8900215\ttest: 0.6812500\tbest: 0.6816667 (349)\ttotal: 10.3s\tremaining: 4.38s\n",
      "400:\tlearn: 0.9020029\ttest: 0.6795833\tbest: 0.6816667 (349)\ttotal: 11.8s\tremaining: 2.92s\n",
      "450:\tlearn: 0.9170243\ttest: 0.6862500\tbest: 0.6875000 (448)\ttotal: 13.5s\tremaining: 1.46s\n",
      "499:\tlearn: 0.9254292\ttest: 0.6950000\tbest: 0.6958333 (498)\ttotal: 15.2s\tremaining: 0us\n",
      "\n",
      "bestTest = 0.6958333333\n",
      "bestIteration = 498\n",
      "\n",
      "Shrink model to first 499 iterations.\n",
      "\n",
      "Classification Report:\n",
      "               precision    recall  f1-score   support\n",
      "\n",
      "       blues       0.82      0.60      0.69        30\n",
      "   classical       0.86      1.00      0.92        30\n",
      "     country       0.74      0.87      0.80        30\n",
      "       disco       0.80      0.67      0.73        30\n",
      "      hiphop       0.83      0.67      0.74        30\n",
      "        jazz       0.86      0.80      0.83        30\n",
      "       metal       0.90      0.87      0.88        30\n",
      "         pop       0.62      0.80      0.70        30\n",
      "      reggae       0.67      0.80      0.73        30\n",
      "        rock       0.67      0.60      0.63        30\n",
      "\n",
      "    accuracy                           0.77       300\n",
      "   macro avg       0.78      0.77      0.76       300\n",
      "weighted avg       0.78      0.77      0.76       300\n",
      "\n",
      "Evaluation Accuracy: 0.7667\n"
     ]
    }
   ],
   "source": [
    "features = ['s_bpm', 'cqt_freq_stats', 'harmonic_freq_stats', 'percussive_freq_stats',\n",
    "           'cqt_spectral_centroid', 'cqt_spectral_centroid_stats', 'mfcc_quef_stats', 'percussive_beat_frames']\n",
    "weights = assign_feature_weights(E_train.get_feature_names_vector(features), dict(s_rms=0.5, s_bpm=0.7, mfcc_quef=0.8))\n",
    "model, acc = train_and_evaluate_catboost(\n",
    "    idx_eval=E_eval.get_features(['s_idx'])[:,0],\n",
    "    X_train=E_train.get_features(features),\n",
    "    X_eval=E_eval.get_features(features),\n",
    "    y_train=E_train.get_features(['s_y'])[:,0], \n",
    "    y_eval=E_eval.get_features(['s_y'])[:,0],\n",
    "    feature_weights=weights\n",
    ")"
   ]
  },
  {
   "cell_type": "markdown",
   "id": "e43e8dfb-8de7-406c-b151-22e367a8ccd6",
   "metadata": {},
   "source": [
    "Lets try normalizing spectrograms. That way we will consider loundness and distribution seporately"
   ]
  },
  {
   "cell_type": "code",
   "execution_count": 146,
   "id": "1b8ea039-832f-4765-a490-a1a8406aba85",
   "metadata": {},
   "outputs": [],
   "source": [
    "Extractor.register_extractor('s_cqt_n', lambda s_cqt: librosa.util.normalize(s_cqt, norm=1))\n",
    "Extractor.register_extractor('s_cqt_stats', lambda s_cqt: np.array([np.mean(s_cqt), np.var(s_cqt)]))\n",
    "Extractor.register_extractor('s_harmonic_n', lambda s_harmonic: librosa.util.normalize(s_harmonic, norm=1))\n",
    "Extractor.register_extractor('s_harmonic_stats', lambda s_harmonic: np.array([np.mean(s_harmonic), np.var(s_harmonic)]))\n",
    "Extractor.register_extractor('s_percussive_n', lambda s_percussive: librosa.util.normalize(s_percussive, norm=1))\n",
    "Extractor.register_extractor('s_percussive_stats', lambda s_percussive: np.array([np.mean(s_percussive), np.var(s_percussive)]))\n",
    "\n",
    "Extractor.register_extractor('cqt_n_freq_stats', \n",
    "                             lambda s_cqt_n: np.hstack([s_cqt_n.mean(axis=1), s_cqt_n.var(axis=1)]))\n",
    "Extractor.register_extractor('harmonic_n_freq_stats', \n",
    "                             lambda s_harmonic_n: np.hstack([s_harmonic_n.mean(axis=1), s_harmonic_n.var(axis=1)]))\n",
    "Extractor.register_extractor('percussive_n_freq_stats', \n",
    "                             lambda s_percussive_n: np.hstack([s_percussive_n.mean(axis=1), s_percussive_n.var(axis=1)]))\n",
    "Extractor.register_extractor('percussive_n_beat_frames', \n",
    "                             lambda s_percussive_n: s_percussive_n.mean(axis=0))"
   ]
  },
  {
   "cell_type": "code",
   "execution_count": null,
   "id": "715e49fd-4c49-4639-9895-47e138d167c0",
   "metadata": {},
   "outputs": [],
   "source": [
    "E_train.soft_extract()\n",
    "E_eval.soft_extract()"
   ]
  },
  {
   "cell_type": "code",
   "execution_count": 148,
   "id": "87b77ce4-7743-4728-acd6-1ba573e8739d",
   "metadata": {},
   "outputs": [
    {
     "data": {
      "application/vnd.jupyter.widget-view+json": {
       "model_id": "2f25e09cd52e4356aa140f86d8166104",
       "version_major": 2,
       "version_minor": 0
      },
      "text/plain": [
       "MetricVisualizer(layout=Layout(align_self='stretch', height='500px'))"
      ]
     },
     "metadata": {},
     "output_type": "display_data"
    },
    {
     "name": "stdout",
     "output_type": "stream",
     "text": [
      "0:\tlearn: 0.2637697\ttest: 0.2458333\tbest: 0.2458333 (0)\ttotal: 77.8ms\tremaining: 38.8s\n",
      "50:\tlearn: 0.6402003\ttest: 0.5500000\tbest: 0.5500000 (50)\ttotal: 1.6s\tremaining: 14.1s\n",
      "100:\tlearn: 0.7292561\ttest: 0.5958333\tbest: 0.5958333 (100)\ttotal: 3.11s\tremaining: 12.3s\n",
      "150:\tlearn: 0.7739628\ttest: 0.6150000\tbest: 0.6158333 (144)\ttotal: 4.53s\tremaining: 10.5s\n",
      "200:\tlearn: 0.8184907\ttest: 0.6462500\tbest: 0.6462500 (200)\ttotal: 5.95s\tremaining: 8.85s\n",
      "250:\tlearn: 0.8503219\ttest: 0.6475000\tbest: 0.6495833 (245)\ttotal: 7.37s\tremaining: 7.31s\n",
      "300:\tlearn: 0.8732117\ttest: 0.6545833\tbest: 0.6550000 (299)\ttotal: 8.77s\tremaining: 5.8s\n",
      "350:\tlearn: 0.8893062\ttest: 0.6537500\tbest: 0.6591667 (318)\ttotal: 10.2s\tremaining: 4.32s\n",
      "400:\tlearn: 0.9041488\ttest: 0.6741667\tbest: 0.6754167 (399)\ttotal: 11.6s\tremaining: 2.86s\n",
      "450:\tlearn: 0.9157725\ttest: 0.6754167\tbest: 0.6754167 (399)\ttotal: 13.1s\tremaining: 1.42s\n",
      "499:\tlearn: 0.9291845\ttest: 0.6837500\tbest: 0.6837500 (499)\ttotal: 14.6s\tremaining: 0us\n",
      "\n",
      "bestTest = 0.68375\n",
      "bestIteration = 499\n",
      "\n",
      "\n",
      "Classification Report:\n",
      "               precision    recall  f1-score   support\n",
      "\n",
      "       blues       0.79      0.63      0.70        30\n",
      "   classical       0.86      1.00      0.92        30\n",
      "     country       0.69      0.80      0.74        30\n",
      "       disco       0.66      0.63      0.64        30\n",
      "      hiphop       0.71      0.73      0.72        30\n",
      "        jazz       0.96      0.83      0.89        30\n",
      "       metal       0.70      0.70      0.70        30\n",
      "         pop       0.69      0.73      0.71        30\n",
      "      reggae       0.72      0.77      0.74        30\n",
      "        rock       0.65      0.57      0.61        30\n",
      "\n",
      "    accuracy                           0.74       300\n",
      "   macro avg       0.74      0.74      0.74       300\n",
      "weighted avg       0.74      0.74      0.74       300\n",
      "\n",
      "Evaluation Accuracy: 0.7400\n"
     ]
    }
   ],
   "source": [
    "features = ['s_bpm', 'cqt_n_freq_stats', 's_cqt_stats', 'harmonic_n_freq_stats', 's_harmonic_stats', 'percussive_n_freq_stats', 's_percussive_stats',\n",
    "           'cqt_spectral_centroid', 'cqt_spectral_centroid_stats', 'mfcc_quef_stats', 'percussive_n_beat_frames']\n",
    "weights = assign_feature_weights(E_train.get_feature_names_vector(features), dict(s_cqt_stats=0.7, s_harmonic_stats=0.6, s_percussive_stats=0.6, s_rms=0.4, s_bpm=0.7, mfcc_quef=0.8))\n",
    "model, acc = train_and_evaluate_catboost(\n",
    "    idx_eval=E_eval.get_features(['s_idx'])[:,0],\n",
    "    X_train=E_train.get_features(features),\n",
    "    X_eval=E_eval.get_features(features),\n",
    "    y_train=E_train.get_features(['s_y'])[:,0], \n",
    "    y_eval=E_eval.get_features(['s_y'])[:,0],\n",
    "    feature_weights=weights\n",
    ")"
   ]
  },
  {
   "cell_type": "code",
   "execution_count": 150,
   "id": "e1ed93d8-a894-482c-b88c-f33586502445",
   "metadata": {},
   "outputs": [
    {
     "data": {
      "text/html": [
       "<div>\n",
       "<style scoped>\n",
       "    .dataframe tbody tr th:only-of-type {\n",
       "        vertical-align: middle;\n",
       "    }\n",
       "\n",
       "    .dataframe tbody tr th {\n",
       "        vertical-align: top;\n",
       "    }\n",
       "\n",
       "    .dataframe thead th {\n",
       "        text-align: right;\n",
       "    }\n",
       "</style>\n",
       "<table border=\"1\" class=\"dataframe\">\n",
       "  <thead>\n",
       "    <tr style=\"text-align: right;\">\n",
       "      <th></th>\n",
       "      <th>importance</th>\n",
       "    </tr>\n",
       "  </thead>\n",
       "  <tbody>\n",
       "    <tr>\n",
       "      <th>mfcc_quef_stats_0</th>\n",
       "      <td>3.210912</td>\n",
       "    </tr>\n",
       "    <tr>\n",
       "      <th>s_percussive_stats_1</th>\n",
       "      <td>3.179025</td>\n",
       "    </tr>\n",
       "    <tr>\n",
       "      <th>s_bpm_0</th>\n",
       "      <td>2.413652</td>\n",
       "    </tr>\n",
       "    <tr>\n",
       "      <th>s_percussive_stats_0</th>\n",
       "      <td>2.040405</td>\n",
       "    </tr>\n",
       "    <tr>\n",
       "      <th>mfcc_quef_stats_3</th>\n",
       "      <td>1.753014</td>\n",
       "    </tr>\n",
       "    <tr>\n",
       "      <th>mfcc_quef_stats_16</th>\n",
       "      <td>1.695723</td>\n",
       "    </tr>\n",
       "    <tr>\n",
       "      <th>mfcc_quef_stats_17</th>\n",
       "      <td>1.685692</td>\n",
       "    </tr>\n",
       "    <tr>\n",
       "      <th>s_cqt_stats_1</th>\n",
       "      <td>1.578931</td>\n",
       "    </tr>\n",
       "    <tr>\n",
       "      <th>percussive_n_freq_stats_104</th>\n",
       "      <td>1.445851</td>\n",
       "    </tr>\n",
       "    <tr>\n",
       "      <th>mfcc_quef_stats_18</th>\n",
       "      <td>1.437079</td>\n",
       "    </tr>\n",
       "    <tr>\n",
       "      <th>harmonic_n_freq_stats_82</th>\n",
       "      <td>1.376655</td>\n",
       "    </tr>\n",
       "    <tr>\n",
       "      <th>cqt_n_freq_stats_90</th>\n",
       "      <td>1.321042</td>\n",
       "    </tr>\n",
       "    <tr>\n",
       "      <th>percussive_n_freq_stats_100</th>\n",
       "      <td>1.232697</td>\n",
       "    </tr>\n",
       "    <tr>\n",
       "      <th>percussive_n_beat_frames_0</th>\n",
       "      <td>1.201681</td>\n",
       "    </tr>\n",
       "    <tr>\n",
       "      <th>cqt_spectral_centroid_stats_1</th>\n",
       "      <td>1.161037</td>\n",
       "    </tr>\n",
       "  </tbody>\n",
       "</table>\n",
       "</div>"
      ],
      "text/plain": [
       "                               importance\n",
       "mfcc_quef_stats_0                3.210912\n",
       "s_percussive_stats_1             3.179025\n",
       "s_bpm_0                          2.413652\n",
       "s_percussive_stats_0             2.040405\n",
       "mfcc_quef_stats_3                1.753014\n",
       "mfcc_quef_stats_16               1.695723\n",
       "mfcc_quef_stats_17               1.685692\n",
       "s_cqt_stats_1                    1.578931\n",
       "percussive_n_freq_stats_104      1.445851\n",
       "mfcc_quef_stats_18               1.437079\n",
       "harmonic_n_freq_stats_82         1.376655\n",
       "cqt_n_freq_stats_90              1.321042\n",
       "percussive_n_freq_stats_100      1.232697\n",
       "percussive_n_beat_frames_0       1.201681\n",
       "cqt_spectral_centroid_stats_1    1.161037"
      ]
     },
     "execution_count": 150,
     "metadata": {},
     "output_type": "execute_result"
    }
   ],
   "source": [
    "pd.DataFrame(\n",
    "    data=model.feature_importances_, \n",
    "    index=E_train.get_feature_names_vector(features), \n",
    "    columns=['importance']\n",
    ").sort_values(by='importance', ascending=False).head(15)"
   ]
  },
  {
   "cell_type": "code",
   "execution_count": 154,
   "id": "f953eaba-289c-4134-8787-c43a533f96dd",
   "metadata": {},
   "outputs": [
    {
     "data": {
      "application/vnd.jupyter.widget-view+json": {
       "model_id": "8c6bd8855be947f297f195de649d96a4",
       "version_major": 2,
       "version_minor": 0
      },
      "text/plain": [
       "MetricVisualizer(layout=Layout(align_self='stretch', height='500px'))"
      ]
     },
     "metadata": {},
     "output_type": "display_data"
    },
    {
     "name": "stdout",
     "output_type": "stream",
     "text": [
      "0:\tlearn: 0.3331545\ttest: 0.3545833\tbest: 0.3545833 (0)\ttotal: 74.4ms\tremaining: 37.1s\n",
      "50:\tlearn: 0.7213877\ttest: 0.6525000\tbest: 0.6525000 (50)\ttotal: 1.68s\tremaining: 14.8s\n",
      "100:\tlearn: 0.8338698\ttest: 0.7041667\tbest: 0.7062500 (98)\ttotal: 3.32s\tremaining: 13.1s\n",
      "150:\tlearn: 0.8885908\ttest: 0.7345833\tbest: 0.7345833 (150)\ttotal: 4.9s\tremaining: 11.3s\n",
      "200:\tlearn: 0.9232833\ttest: 0.7512500\tbest: 0.7529167 (184)\ttotal: 6.43s\tremaining: 9.56s\n",
      "250:\tlearn: 0.9431330\ttest: 0.7600000\tbest: 0.7645833 (245)\ttotal: 7.95s\tremaining: 7.88s\n",
      "300:\tlearn: 0.9572604\ttest: 0.7733333\tbest: 0.7741667 (295)\ttotal: 9.45s\tremaining: 6.24s\n",
      "350:\tlearn: 0.9653076\ttest: 0.7783333\tbest: 0.7804167 (333)\ttotal: 11s\tremaining: 4.65s\n",
      "400:\tlearn: 0.9726395\ttest: 0.7833333\tbest: 0.7854167 (393)\ttotal: 12.5s\tremaining: 3.07s\n",
      "450:\tlearn: 0.9778255\ttest: 0.7854167\tbest: 0.7904167 (433)\ttotal: 13.9s\tremaining: 1.51s\n",
      "499:\tlearn: 0.9828326\ttest: 0.7841667\tbest: 0.7904167 (433)\ttotal: 15.4s\tremaining: 0us\n",
      "\n",
      "bestTest = 0.7904166667\n",
      "bestIteration = 433\n",
      "\n",
      "Shrink model to first 434 iterations.\n",
      "\n",
      "Classification Report:\n",
      "               precision    recall  f1-score   support\n",
      "\n",
      "       blues       0.96      0.80      0.87        30\n",
      "   classical       0.88      1.00      0.94        30\n",
      "     country       0.82      0.93      0.88        30\n",
      "       disco       0.77      0.67      0.71        30\n",
      "      hiphop       0.71      0.80      0.75        30\n",
      "        jazz       0.89      0.83      0.86        30\n",
      "       metal       0.93      0.87      0.90        30\n",
      "         pop       0.72      0.87      0.79        30\n",
      "      reggae       0.82      0.77      0.79        30\n",
      "        rock       0.70      0.63      0.67        30\n",
      "\n",
      "    accuracy                           0.82       300\n",
      "   macro avg       0.82      0.82      0.82       300\n",
      "weighted avg       0.82      0.82      0.82       300\n",
      "\n",
      "Evaluation Accuracy: 0.8167\n"
     ]
    }
   ],
   "source": [
    "features = ['s_stats', 's_bpm', 'cqt_freq_stats', 'harmonic_freq_stats', 'percussive_freq_stats',\n",
    "           'cqt_spectral_centroid', 'cqt_spectral_centroid_stats', 'mfcc_quef_stats', 'percussive_beat_frames']\n",
    "weights = assign_feature_weights(E_train.get_feature_names_vector(features), dict(s_stats=0.6, s_rms=0.5, s_bpm=0.7, mfcc_quef=0.8))\n",
    "model, acc = train_and_evaluate_catboost(\n",
    "    idx_eval=E_eval.get_features(['s_idx'])[:,0],\n",
    "    X_train=E_train.get_features(features),\n",
    "    X_eval=E_eval.get_features(features),\n",
    "    y_train=E_train.get_features(['s_y'])[:,0], \n",
    "    y_eval=E_eval.get_features(['s_y'])[:,0],\n",
    "    feature_weights=weights\n",
    ")"
   ]
  },
  {
   "cell_type": "code",
   "execution_count": 155,
   "id": "5743316b-866d-4ff5-ba81-d2cf5c6760b7",
   "metadata": {},
   "outputs": [
    {
     "data": {
      "text/html": [
       "<div>\n",
       "<style scoped>\n",
       "    .dataframe tbody tr th:only-of-type {\n",
       "        vertical-align: middle;\n",
       "    }\n",
       "\n",
       "    .dataframe tbody tr th {\n",
       "        vertical-align: top;\n",
       "    }\n",
       "\n",
       "    .dataframe thead th {\n",
       "        text-align: right;\n",
       "    }\n",
       "</style>\n",
       "<table border=\"1\" class=\"dataframe\">\n",
       "  <thead>\n",
       "    <tr style=\"text-align: right;\">\n",
       "      <th></th>\n",
       "      <th>importance</th>\n",
       "      <th>stat_name</th>\n",
       "    </tr>\n",
       "  </thead>\n",
       "  <tbody>\n",
       "    <tr>\n",
       "      <th>s_stats_26</th>\n",
       "      <td>4.427401</td>\n",
       "      <td>mfcc5_var</td>\n",
       "    </tr>\n",
       "    <tr>\n",
       "      <th>s_stats_0</th>\n",
       "      <td>3.359007</td>\n",
       "      <td>chroma_stft_mean</td>\n",
       "    </tr>\n",
       "    <tr>\n",
       "      <th>s_stats_23</th>\n",
       "      <td>3.317367</td>\n",
       "      <td>mfcc4_mean</td>\n",
       "    </tr>\n",
       "    <tr>\n",
       "      <th>s_stats_1</th>\n",
       "      <td>2.099267</td>\n",
       "      <td>chroma_stft_var</td>\n",
       "    </tr>\n",
       "    <tr>\n",
       "      <th>s_stats_12</th>\n",
       "      <td>1.960178</td>\n",
       "      <td>harmony_mean</td>\n",
       "    </tr>\n",
       "    <tr>\n",
       "      <th>s_stats_5</th>\n",
       "      <td>1.873972</td>\n",
       "      <td>spectral_centroid_var</td>\n",
       "    </tr>\n",
       "    <tr>\n",
       "      <th>s_stats_27</th>\n",
       "      <td>1.557917</td>\n",
       "      <td>mfcc6_mean</td>\n",
       "    </tr>\n",
       "    <tr>\n",
       "      <th>s_stats_24</th>\n",
       "      <td>1.502298</td>\n",
       "      <td>mfcc4_var</td>\n",
       "    </tr>\n",
       "    <tr>\n",
       "      <th>s_stats_6</th>\n",
       "      <td>1.469098</td>\n",
       "      <td>spectral_bandwidth_mean</td>\n",
       "    </tr>\n",
       "    <tr>\n",
       "      <th>s_stats_49</th>\n",
       "      <td>1.436415</td>\n",
       "      <td>mfcc17_mean</td>\n",
       "    </tr>\n",
       "    <tr>\n",
       "      <th>cqt_freq_stats_92</th>\n",
       "      <td>1.384929</td>\n",
       "      <td>None</td>\n",
       "    </tr>\n",
       "    <tr>\n",
       "      <th>s_stats_33</th>\n",
       "      <td>1.368192</td>\n",
       "      <td>mfcc9_mean</td>\n",
       "    </tr>\n",
       "    <tr>\n",
       "      <th>percussive_freq_stats_19</th>\n",
       "      <td>1.295683</td>\n",
       "      <td>None</td>\n",
       "    </tr>\n",
       "    <tr>\n",
       "      <th>s_stats_36</th>\n",
       "      <td>1.281777</td>\n",
       "      <td>mfcc10_var</td>\n",
       "    </tr>\n",
       "    <tr>\n",
       "      <th>percussive_freq_stats_10</th>\n",
       "      <td>1.269941</td>\n",
       "      <td>None</td>\n",
       "    </tr>\n",
       "  </tbody>\n",
       "</table>\n",
       "</div>"
      ],
      "text/plain": [
       "                          importance                stat_name\n",
       "s_stats_26                  4.427401                mfcc5_var\n",
       "s_stats_0                   3.359007         chroma_stft_mean\n",
       "s_stats_23                  3.317367               mfcc4_mean\n",
       "s_stats_1                   2.099267          chroma_stft_var\n",
       "s_stats_12                  1.960178             harmony_mean\n",
       "s_stats_5                   1.873972    spectral_centroid_var\n",
       "s_stats_27                  1.557917               mfcc6_mean\n",
       "s_stats_24                  1.502298                mfcc4_var\n",
       "s_stats_6                   1.469098  spectral_bandwidth_mean\n",
       "s_stats_49                  1.436415              mfcc17_mean\n",
       "cqt_freq_stats_92           1.384929                     None\n",
       "s_stats_33                  1.368192               mfcc9_mean\n",
       "percussive_freq_stats_19    1.295683                     None\n",
       "s_stats_36                  1.281777               mfcc10_var\n",
       "percussive_freq_stats_10    1.269941                     None"
      ]
     },
     "execution_count": 155,
     "metadata": {},
     "output_type": "execute_result"
    }
   ],
   "source": [
    "imp = pd.DataFrame(\n",
    "    data=model.feature_importances_, \n",
    "    index=E_train.get_feature_names_vector(features), \n",
    "    columns=['importance']\n",
    ").sort_values(by='importance', ascending=False).head(15)\n",
    "imp['stat_name'] = pd.Series(imp.index, index=imp.index).apply(lambda x: int(x[8:]) if x.startswith('s_stats') else None)\n",
    "imp['stat_name'] = imp['stat_name'].apply(lambda x: X_train.columns[int(x) + 2] if not np.isnan(x) else None)\n",
    "imp"
   ]
  },
  {
   "cell_type": "code",
   "execution_count": 176,
   "id": "b3076e7b-0da0-44c5-99d5-77d5ce1e208f",
   "metadata": {},
   "outputs": [],
   "source": [
    "Extractor.register_extractor('cqt_chroma_1d_stats', lambda cqt_chroma: np.array([np.mean(cqt_chroma), np.var(cqt_chroma)]))\n",
    "Extractor.register_extractor('harmonic_chroma_1d_stats', lambda harmonic_chroma: np.array([np.mean(harmonic_chroma), np.var(harmonic_chroma)]))"
   ]
  },
  {
   "cell_type": "code",
   "execution_count": 188,
   "id": "30f28fd6-5054-48b1-894f-9e442fee36f2",
   "metadata": {},
   "outputs": [
    {
     "data": {
      "application/vnd.jupyter.widget-view+json": {
       "model_id": "7984b718671b485186d60c3f5b152550",
       "version_major": 2,
       "version_minor": 0
      },
      "text/plain": [
       "cqt_chroma_1d_stats:   0%|          | 0/5592 [00:00<?, ?it/s]"
      ]
     },
     "metadata": {},
     "output_type": "display_data"
    },
    {
     "data": {
      "application/vnd.jupyter.widget-view+json": {
       "model_id": "bffa136c3bab45aab47e8d24c4b6350c",
       "version_major": 2,
       "version_minor": 0
      },
      "text/plain": [
       "harmonic_chroma_1d_stats:   0%|          | 0/5592 [00:00<?, ?it/s]"
      ]
     },
     "metadata": {},
     "output_type": "display_data"
    },
    {
     "data": {
      "application/vnd.jupyter.widget-view+json": {
       "model_id": "411563801e9441a0aaeecc5a4564fea9",
       "version_major": 2,
       "version_minor": 0
      },
      "text/plain": [
       "cqt_chroma_1d_stats:   0%|          | 0/2400 [00:00<?, ?it/s]"
      ]
     },
     "metadata": {},
     "output_type": "display_data"
    },
    {
     "data": {
      "application/vnd.jupyter.widget-view+json": {
       "model_id": "f472478dd5ce440aadd0111f79e62317",
       "version_major": 2,
       "version_minor": 0
      },
      "text/plain": [
       "harmonic_chroma_1d_stats:   0%|          | 0/2400 [00:00<?, ?it/s]"
      ]
     },
     "metadata": {},
     "output_type": "display_data"
    }
   ],
   "source": [
    "E_train.soft_extract()\n",
    "E_eval.soft_extract()"
   ]
  },
  {
   "cell_type": "code",
   "execution_count": 189,
   "id": "fff9fa80-8425-4478-b015-2a8a6d2285b5",
   "metadata": {},
   "outputs": [
    {
     "data": {
      "application/vnd.jupyter.widget-view+json": {
       "model_id": "04c208bbe59a41d0bef0e3fc71f6606b",
       "version_major": 2,
       "version_minor": 0
      },
      "text/plain": [
       "MetricVisualizer(layout=Layout(align_self='stretch', height='500px'))"
      ]
     },
     "metadata": {},
     "output_type": "display_data"
    },
    {
     "name": "stdout",
     "output_type": "stream",
     "text": [
      "0:\tlearn: 0.2986409\ttest: 0.3066667\tbest: 0.3066667 (0)\ttotal: 91.3ms\tremaining: 45.6s\n",
      "50:\tlearn: 0.6199928\ttest: 0.5425000\tbest: 0.5425000 (50)\ttotal: 1.61s\tremaining: 14.2s\n",
      "100:\tlearn: 0.7190629\ttest: 0.6108333\tbest: 0.6133333 (99)\ttotal: 3.08s\tremaining: 12.1s\n",
      "150:\tlearn: 0.7823677\ttest: 0.6387500\tbest: 0.6416667 (143)\ttotal: 4.5s\tremaining: 10.4s\n",
      "200:\tlearn: 0.8186695\ttest: 0.6491667\tbest: 0.6566667 (192)\ttotal: 5.94s\tremaining: 8.84s\n",
      "250:\tlearn: 0.8442418\ttest: 0.6629167\tbest: 0.6629167 (250)\ttotal: 7.34s\tremaining: 7.28s\n",
      "300:\tlearn: 0.8683834\ttest: 0.6791667\tbest: 0.6829167 (294)\ttotal: 8.75s\tremaining: 5.78s\n",
      "350:\tlearn: 0.8851931\ttest: 0.6854167\tbest: 0.6875000 (335)\ttotal: 10.2s\tremaining: 4.31s\n",
      "400:\tlearn: 0.9000358\ttest: 0.6950000\tbest: 0.6958333 (398)\ttotal: 11.6s\tremaining: 2.87s\n",
      "450:\tlearn: 0.9145207\ttest: 0.6958333\tbest: 0.6987500 (418)\ttotal: 13s\tremaining: 1.42s\n",
      "499:\tlearn: 0.9238197\ttest: 0.7025000\tbest: 0.7041667 (494)\ttotal: 14.4s\tremaining: 0us\n",
      "\n",
      "bestTest = 0.7041666667\n",
      "bestIteration = 494\n",
      "\n",
      "Shrink model to first 495 iterations.\n",
      "\n",
      "Classification Report:\n",
      "               precision    recall  f1-score   support\n",
      "\n",
      "       blues       0.91      0.67      0.77        30\n",
      "   classical       0.86      1.00      0.92        30\n",
      "     country       0.78      0.93      0.85        30\n",
      "       disco       0.81      0.70      0.75        30\n",
      "      hiphop       0.68      0.63      0.66        30\n",
      "        jazz       0.84      0.87      0.85        30\n",
      "       metal       0.82      0.77      0.79        30\n",
      "         pop       0.68      0.70      0.69        30\n",
      "      reggae       0.62      0.83      0.71        30\n",
      "        rock       0.70      0.53      0.60        30\n",
      "\n",
      "    accuracy                           0.76       300\n",
      "   macro avg       0.77      0.76      0.76       300\n",
      "weighted avg       0.77      0.76      0.76       300\n",
      "\n",
      "Evaluation Accuracy: 0.7633\n"
     ]
    }
   ],
   "source": [
    "features = ['s_bpm', 'cqt_freq_stats', 'harmonic_freq_stats', 'percussive_freq_stats',\n",
    "           'cqt_spectral_centroid', 'cqt_spectral_centroid_stats', 'mfcc_quef_stats', 'percussive_beat_frames', 'cqt_chroma_1d_stats', 'harmonic_chroma_1d_stats']\n",
    "weights = assign_feature_weights(E_train.get_feature_names_vector(features), dict(s_rms=0.5, s_bpm=0.7, mfcc_quef=0.8))\n",
    "model, acc = train_and_evaluate_catboost(\n",
    "    idx_eval=E_eval.get_features(['s_idx'])[:,0],\n",
    "    X_train=E_train.get_features(features),\n",
    "    X_eval=E_eval.get_features(features),\n",
    "    y_train=E_train.get_features(['s_y'])[:,0], \n",
    "    y_eval=E_eval.get_features(['s_y'])[:,0],\n",
    "    feature_weights=weights\n",
    ")"
   ]
  },
  {
   "cell_type": "code",
   "execution_count": 190,
   "id": "265c43f3-b03d-46e4-ba5d-8f898e823f1d",
   "metadata": {},
   "outputs": [
    {
     "data": {
      "text/html": [
       "<div>\n",
       "<style scoped>\n",
       "    .dataframe tbody tr th:only-of-type {\n",
       "        vertical-align: middle;\n",
       "    }\n",
       "\n",
       "    .dataframe tbody tr th {\n",
       "        vertical-align: top;\n",
       "    }\n",
       "\n",
       "    .dataframe thead th {\n",
       "        text-align: right;\n",
       "    }\n",
       "</style>\n",
       "<table border=\"1\" class=\"dataframe\">\n",
       "  <thead>\n",
       "    <tr style=\"text-align: right;\">\n",
       "      <th></th>\n",
       "      <th>importance</th>\n",
       "    </tr>\n",
       "  </thead>\n",
       "  <tbody>\n",
       "    <tr>\n",
       "      <th>s_bpm_0</th>\n",
       "      <td>1.719791</td>\n",
       "    </tr>\n",
       "    <tr>\n",
       "      <th>percussive_freq_stats_19</th>\n",
       "      <td>1.510180</td>\n",
       "    </tr>\n",
       "    <tr>\n",
       "      <th>percussive_freq_stats_18</th>\n",
       "      <td>1.498337</td>\n",
       "    </tr>\n",
       "    <tr>\n",
       "      <th>mfcc_quef_stats_16</th>\n",
       "      <td>1.468099</td>\n",
       "    </tr>\n",
       "    <tr>\n",
       "      <th>percussive_freq_stats_96</th>\n",
       "      <td>1.403783</td>\n",
       "    </tr>\n",
       "    <tr>\n",
       "      <th>percussive_freq_stats_99</th>\n",
       "      <td>1.317922</td>\n",
       "    </tr>\n",
       "    <tr>\n",
       "      <th>mfcc_quef_stats_17</th>\n",
       "      <td>1.300434</td>\n",
       "    </tr>\n",
       "    <tr>\n",
       "      <th>percussive_freq_stats_13</th>\n",
       "      <td>1.288580</td>\n",
       "    </tr>\n",
       "    <tr>\n",
       "      <th>percussive_freq_stats_89</th>\n",
       "      <td>1.144034</td>\n",
       "    </tr>\n",
       "    <tr>\n",
       "      <th>percussive_freq_stats_111</th>\n",
       "      <td>1.119203</td>\n",
       "    </tr>\n",
       "    <tr>\n",
       "      <th>mfcc_quef_stats_3</th>\n",
       "      <td>1.111909</td>\n",
       "    </tr>\n",
       "    <tr>\n",
       "      <th>percussive_freq_stats_14</th>\n",
       "      <td>1.090558</td>\n",
       "    </tr>\n",
       "    <tr>\n",
       "      <th>harmonic_chroma_1d_stats_1</th>\n",
       "      <td>1.089510</td>\n",
       "    </tr>\n",
       "    <tr>\n",
       "      <th>percussive_freq_stats_25</th>\n",
       "      <td>1.052618</td>\n",
       "    </tr>\n",
       "    <tr>\n",
       "      <th>cqt_freq_stats_98</th>\n",
       "      <td>1.043796</td>\n",
       "    </tr>\n",
       "  </tbody>\n",
       "</table>\n",
       "</div>"
      ],
      "text/plain": [
       "                            importance\n",
       "s_bpm_0                       1.719791\n",
       "percussive_freq_stats_19      1.510180\n",
       "percussive_freq_stats_18      1.498337\n",
       "mfcc_quef_stats_16            1.468099\n",
       "percussive_freq_stats_96      1.403783\n",
       "percussive_freq_stats_99      1.317922\n",
       "mfcc_quef_stats_17            1.300434\n",
       "percussive_freq_stats_13      1.288580\n",
       "percussive_freq_stats_89      1.144034\n",
       "percussive_freq_stats_111     1.119203\n",
       "mfcc_quef_stats_3             1.111909\n",
       "percussive_freq_stats_14      1.090558\n",
       "harmonic_chroma_1d_stats_1    1.089510\n",
       "percussive_freq_stats_25      1.052618\n",
       "cqt_freq_stats_98             1.043796"
      ]
     },
     "execution_count": 190,
     "metadata": {},
     "output_type": "execute_result"
    }
   ],
   "source": [
    "pd.DataFrame(\n",
    "    data=model.feature_importances_, \n",
    "    index=E_train.get_feature_names_vector(features), \n",
    "    columns=['importance']\n",
    ").sort_values(by='importance', ascending=False).head(15)"
   ]
  },
  {
   "cell_type": "code",
   "execution_count": 196,
   "id": "d833f410-a7dc-4920-9b40-aedfb4bf87a7",
   "metadata": {},
   "outputs": [],
   "source": [
    "roll_percent = 0.85\n",
    "Extractor.register_extractor('cqt_rollof', \n",
    "                             lambda s_cqt: librosa.feature.spectral.spectral_rolloff(S=s_cqt, freq=cqt_frequencies, roll_percent=roll_percent))\n",
    "\n",
    "Extractor.register_extractor('cqt_rollof_stats', \n",
    "                             lambda cqt_rollof: np.array([cqt_rollof.mean(), cqt_rollof.var()]))\n",
    "\n",
    "Extractor.register_extractor('cqt_bandwidth', \n",
    "                             lambda s_cqt: librosa.feature.spectral.spectral_bandwidth(S=s_cqt, freq=cqt_frequencies))\n",
    "\n",
    "Extractor.register_extractor('cqt_bandwidth_stats', \n",
    "                             lambda cqt_bandwidth: np.array([cqt_bandwidth.mean(), cqt_bandwidth.var()]))\n",
    "\n"
   ]
  },
  {
   "cell_type": "code",
   "execution_count": 197,
   "id": "b490ed89-526a-404d-b847-5bd4ea29e637",
   "metadata": {},
   "outputs": [
    {
     "data": {
      "application/vnd.jupyter.widget-view+json": {
       "model_id": "55286bb1857d42b090130d50ba5b33cb",
       "version_major": 2,
       "version_minor": 0
      },
      "text/plain": [
       "cqt_bandwidth:   0%|          | 0/5592 [00:00<?, ?it/s]"
      ]
     },
     "metadata": {},
     "output_type": "display_data"
    },
    {
     "data": {
      "application/vnd.jupyter.widget-view+json": {
       "model_id": "7570e22da8574e73be29c63856bc194b",
       "version_major": 2,
       "version_minor": 0
      },
      "text/plain": [
       "cqt_bandwidth_stats:   0%|          | 0/5592 [00:00<?, ?it/s]"
      ]
     },
     "metadata": {},
     "output_type": "display_data"
    },
    {
     "data": {
      "application/vnd.jupyter.widget-view+json": {
       "model_id": "eceb3749b30746a3bb59bb386966763d",
       "version_major": 2,
       "version_minor": 0
      },
      "text/plain": [
       "cqt_rollof:   0%|          | 0/2400 [00:00<?, ?it/s]"
      ]
     },
     "metadata": {},
     "output_type": "display_data"
    },
    {
     "data": {
      "application/vnd.jupyter.widget-view+json": {
       "model_id": "a3b8cf1950ba43669b035fe924fca045",
       "version_major": 2,
       "version_minor": 0
      },
      "text/plain": [
       "cqt_rollof_stats:   0%|          | 0/2400 [00:00<?, ?it/s]"
      ]
     },
     "metadata": {},
     "output_type": "display_data"
    },
    {
     "data": {
      "application/vnd.jupyter.widget-view+json": {
       "model_id": "dc95f22f2b04419ca46ecbc0d60c3ae6",
       "version_major": 2,
       "version_minor": 0
      },
      "text/plain": [
       "cqt_bandwidth:   0%|          | 0/2400 [00:00<?, ?it/s]"
      ]
     },
     "metadata": {},
     "output_type": "display_data"
    },
    {
     "data": {
      "application/vnd.jupyter.widget-view+json": {
       "model_id": "f5f819810dde4cb1a53296d528dcdc1c",
       "version_major": 2,
       "version_minor": 0
      },
      "text/plain": [
       "cqt_bandwidth_stats:   0%|          | 0/2400 [00:00<?, ?it/s]"
      ]
     },
     "metadata": {},
     "output_type": "display_data"
    }
   ],
   "source": [
    "E_train.soft_extract()\n",
    "E_eval.soft_extract()"
   ]
  },
  {
   "cell_type": "markdown",
   "id": "a9f4925b-a9a8-417e-8f43-0843ef2f8ee9",
   "metadata": {},
   "source": [
    "TODO: Write some reasoning for SVD"
   ]
  },
  {
   "cell_type": "code",
   "execution_count": 205,
   "id": "125cfdf5-9a51-4201-a882-6c8a836796ac",
   "metadata": {},
   "outputs": [
    {
     "data": {
      "application/vnd.jupyter.widget-view+json": {
       "model_id": "880f1aa67ff3426bbeb4401a8e8c2200",
       "version_major": 2,
       "version_minor": 0
      },
      "text/plain": [
       "MetricVisualizer(layout=Layout(align_self='stretch', height='500px'))"
      ]
     },
     "metadata": {},
     "output_type": "display_data"
    },
    {
     "name": "stdout",
     "output_type": "stream",
     "text": [
      "0:\tlearn: 0.2827253\ttest: 0.2683333\tbest: 0.2683333 (0)\ttotal: 92.1ms\tremaining: 46s\n",
      "50:\tlearn: 0.6432403\ttest: 0.5425000\tbest: 0.5425000 (50)\ttotal: 1.74s\tremaining: 15.4s\n",
      "100:\tlearn: 0.7337268\ttest: 0.6179167\tbest: 0.6179167 (100)\ttotal: 3.14s\tremaining: 12.4s\n",
      "150:\tlearn: 0.7848712\ttest: 0.6350000\tbest: 0.6404167 (145)\ttotal: 4.62s\tremaining: 10.7s\n",
      "200:\tlearn: 0.8202790\ttest: 0.6537500\tbest: 0.6604167 (197)\ttotal: 6.07s\tremaining: 9.03s\n",
      "250:\tlearn: 0.8526466\ttest: 0.6716667\tbest: 0.6729167 (248)\ttotal: 7.5s\tremaining: 7.44s\n",
      "300:\tlearn: 0.8687411\ttest: 0.6770833\tbest: 0.6808333 (296)\ttotal: 8.88s\tremaining: 5.87s\n",
      "350:\tlearn: 0.8887697\ttest: 0.6758333\tbest: 0.6858333 (317)\ttotal: 10.3s\tremaining: 4.38s\n",
      "400:\tlearn: 0.9005722\ttest: 0.6800000\tbest: 0.6858333 (317)\ttotal: 11.7s\tremaining: 2.89s\n",
      "450:\tlearn: 0.9132690\ttest: 0.6820833\tbest: 0.6858333 (317)\ttotal: 13.1s\tremaining: 1.42s\n",
      "499:\tlearn: 0.9239986\ttest: 0.6870833\tbest: 0.6870833 (499)\ttotal: 14.5s\tremaining: 0us\n",
      "\n",
      "bestTest = 0.6870833333\n",
      "bestIteration = 499\n",
      "\n",
      "\n",
      "Classification Report:\n",
      "               precision    recall  f1-score   support\n",
      "\n",
      "       blues       0.77      0.57      0.65        30\n",
      "   classical       0.91      1.00      0.95        30\n",
      "     country       0.76      0.87      0.81        30\n",
      "       disco       0.80      0.67      0.73        30\n",
      "      hiphop       0.72      0.60      0.65        30\n",
      "        jazz       0.82      0.93      0.88        30\n",
      "       metal       0.81      0.70      0.75        30\n",
      "         pop       0.61      0.83      0.70        30\n",
      "      reggae       0.65      0.80      0.72        30\n",
      "        rock       0.61      0.47      0.53        30\n",
      "\n",
      "    accuracy                           0.74       300\n",
      "   macro avg       0.75      0.74      0.74       300\n",
      "weighted avg       0.75      0.74      0.74       300\n",
      "\n",
      "Evaluation Accuracy: 0.7433\n"
     ]
    }
   ],
   "source": [
    "features = ['s_bpm', 'cqt_freq_stats', 'harmonic_freq_stats', 'percussive_freq_stats',\n",
    "           'cqt_spectral_centroid', 'cqt_spectral_centroid_stats', 'mfcc_quef_stats', 'percussive_beat_frames']\n",
    "weights = assign_feature_weights(E_train.get_feature_names_vector(features), dict(s_rms=0.5, s_bpm=0.7, mfcc_quef=0.8))\n",
    "model, acc = train_and_evaluate_catboost(\n",
    "    idx_eval=E_eval.get_features(['s_idx'])[:,0],\n",
    "    X_train=E_train.get_features(features),\n",
    "    X_eval=E_eval.get_features(features),\n",
    "    y_train=E_train.get_features(['s_y'])[:,0], \n",
    "    y_eval=E_eval.get_features(['s_y'])[:,0],\n",
    "    feature_weights=weights\n",
    ")"
   ]
  },
  {
   "cell_type": "code",
   "execution_count": 200,
   "id": "fb556cea-be41-4826-a131-af28c1707e30",
   "metadata": {},
   "outputs": [
    {
     "data": {
      "text/html": [
       "<div>\n",
       "<style scoped>\n",
       "    .dataframe tbody tr th:only-of-type {\n",
       "        vertical-align: middle;\n",
       "    }\n",
       "\n",
       "    .dataframe tbody tr th {\n",
       "        vertical-align: top;\n",
       "    }\n",
       "\n",
       "    .dataframe thead th {\n",
       "        text-align: right;\n",
       "    }\n",
       "</style>\n",
       "<table border=\"1\" class=\"dataframe\">\n",
       "  <thead>\n",
       "    <tr style=\"text-align: right;\">\n",
       "      <th></th>\n",
       "      <th>importance</th>\n",
       "    </tr>\n",
       "  </thead>\n",
       "  <tbody>\n",
       "    <tr>\n",
       "      <th>percussive_freq_stats_18</th>\n",
       "      <td>1.891821</td>\n",
       "    </tr>\n",
       "    <tr>\n",
       "      <th>s_bpm_0</th>\n",
       "      <td>1.707344</td>\n",
       "    </tr>\n",
       "    <tr>\n",
       "      <th>cqt_bandwidth_stats_1</th>\n",
       "      <td>1.530804</td>\n",
       "    </tr>\n",
       "    <tr>\n",
       "      <th>percussive_freq_stats_100</th>\n",
       "      <td>1.484997</td>\n",
       "    </tr>\n",
       "    <tr>\n",
       "      <th>cqt_freq_stats_7</th>\n",
       "      <td>1.399317</td>\n",
       "    </tr>\n",
       "    <tr>\n",
       "      <th>mfcc_quef_stats_3</th>\n",
       "      <td>1.281096</td>\n",
       "    </tr>\n",
       "    <tr>\n",
       "      <th>percussive_freq_stats_22</th>\n",
       "      <td>1.252562</td>\n",
       "    </tr>\n",
       "    <tr>\n",
       "      <th>percussive_freq_stats_109</th>\n",
       "      <td>1.157049</td>\n",
       "    </tr>\n",
       "    <tr>\n",
       "      <th>cqt_freq_stats_93</th>\n",
       "      <td>1.135267</td>\n",
       "    </tr>\n",
       "    <tr>\n",
       "      <th>percussive_freq_stats_101</th>\n",
       "      <td>1.116467</td>\n",
       "    </tr>\n",
       "    <tr>\n",
       "      <th>percussive_freq_stats_105</th>\n",
       "      <td>1.108720</td>\n",
       "    </tr>\n",
       "    <tr>\n",
       "      <th>mfcc_quef_stats_16</th>\n",
       "      <td>1.068436</td>\n",
       "    </tr>\n",
       "    <tr>\n",
       "      <th>percussive_freq_stats_111</th>\n",
       "      <td>1.031020</td>\n",
       "    </tr>\n",
       "    <tr>\n",
       "      <th>cqt_freq_stats_92</th>\n",
       "      <td>0.967160</td>\n",
       "    </tr>\n",
       "    <tr>\n",
       "      <th>percussive_freq_stats_90</th>\n",
       "      <td>0.933977</td>\n",
       "    </tr>\n",
       "  </tbody>\n",
       "</table>\n",
       "</div>"
      ],
      "text/plain": [
       "                           importance\n",
       "percussive_freq_stats_18     1.891821\n",
       "s_bpm_0                      1.707344\n",
       "cqt_bandwidth_stats_1        1.530804\n",
       "percussive_freq_stats_100    1.484997\n",
       "cqt_freq_stats_7             1.399317\n",
       "mfcc_quef_stats_3            1.281096\n",
       "percussive_freq_stats_22     1.252562\n",
       "percussive_freq_stats_109    1.157049\n",
       "cqt_freq_stats_93            1.135267\n",
       "percussive_freq_stats_101    1.116467\n",
       "percussive_freq_stats_105    1.108720\n",
       "mfcc_quef_stats_16           1.068436\n",
       "percussive_freq_stats_111    1.031020\n",
       "cqt_freq_stats_92            0.967160\n",
       "percussive_freq_stats_90     0.933977"
      ]
     },
     "execution_count": 200,
     "metadata": {},
     "output_type": "execute_result"
    }
   ],
   "source": [
    "pd.DataFrame(\n",
    "    data=model.feature_importances_, \n",
    "    index=E_train.get_feature_names_vector(features), \n",
    "    columns=['importance']\n",
    ").sort_values(by='importance', ascending=False).head(15)"
   ]
  },
  {
   "cell_type": "code",
   "execution_count": null,
   "id": "291b20c8-ddfc-4965-bad1-b9d200eb7573",
   "metadata": {},
   "outputs": [],
   "source": []
  }
 ],
 "metadata": {
  "kernelspec": {
   "display_name": "Python 3 (ipykernel)",
   "language": "python",
   "name": "python3"
  },
  "language_info": {
   "codemirror_mode": {
    "name": "ipython",
    "version": 3
   },
   "file_extension": ".py",
   "mimetype": "text/x-python",
   "name": "python",
   "nbconvert_exporter": "python",
   "pygments_lexer": "ipython3",
   "version": "3.12.8"
  }
 },
 "nbformat": 4,
 "nbformat_minor": 5
}
