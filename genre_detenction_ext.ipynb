{
 "cells": [
  {
   "cell_type": "code",
   "execution_count": 2,
   "id": "4ec4f216-efdb-4e99-aec2-b26667fa71ba",
   "metadata": {},
   "outputs": [],
   "source": [
    "import pandas as pd\n",
    "import numpy as np\n",
    "from model import *\n",
    "import extractor\n",
    "class Extractor(extractor.AudioDataExtractionPipeline):\n",
    "    pass"
   ]
  },
  {
   "cell_type": "code",
   "execution_count": 3,
   "id": "5512d565-1366-47d5-8b87-efda54317286",
   "metadata": {},
   "outputs": [
    {
     "data": {
      "text/html": [
       "<div>\n",
       "<style scoped>\n",
       "    .dataframe tbody tr th:only-of-type {\n",
       "        vertical-align: middle;\n",
       "    }\n",
       "\n",
       "    .dataframe tbody tr th {\n",
       "        vertical-align: top;\n",
       "    }\n",
       "\n",
       "    .dataframe thead th {\n",
       "        text-align: right;\n",
       "    }\n",
       "</style>\n",
       "<table border=\"1\" class=\"dataframe\">\n",
       "  <thead>\n",
       "    <tr style=\"text-align: right;\">\n",
       "      <th></th>\n",
       "      <th>filename</th>\n",
       "      <th>length</th>\n",
       "      <th>chroma_stft_mean</th>\n",
       "      <th>chroma_stft_var</th>\n",
       "      <th>rms_mean</th>\n",
       "      <th>rms_var</th>\n",
       "      <th>spectral_centroid_mean</th>\n",
       "      <th>spectral_centroid_var</th>\n",
       "      <th>spectral_bandwidth_mean</th>\n",
       "      <th>spectral_bandwidth_var</th>\n",
       "      <th>...</th>\n",
       "      <th>mfcc16_var</th>\n",
       "      <th>mfcc17_mean</th>\n",
       "      <th>mfcc17_var</th>\n",
       "      <th>mfcc18_mean</th>\n",
       "      <th>mfcc18_var</th>\n",
       "      <th>mfcc19_mean</th>\n",
       "      <th>mfcc19_var</th>\n",
       "      <th>mfcc20_mean</th>\n",
       "      <th>mfcc20_var</th>\n",
       "      <th>label</th>\n",
       "    </tr>\n",
       "  </thead>\n",
       "  <tbody>\n",
       "    <tr>\n",
       "      <th>0</th>\n",
       "      <td>blues.00000.wav</td>\n",
       "      <td>661794</td>\n",
       "      <td>0.350088</td>\n",
       "      <td>0.088757</td>\n",
       "      <td>0.130228</td>\n",
       "      <td>0.002827</td>\n",
       "      <td>1784.165850</td>\n",
       "      <td>129774.064525</td>\n",
       "      <td>2002.449060</td>\n",
       "      <td>85882.761315</td>\n",
       "      <td>...</td>\n",
       "      <td>52.420910</td>\n",
       "      <td>-1.690215</td>\n",
       "      <td>36.524071</td>\n",
       "      <td>-0.408979</td>\n",
       "      <td>41.597103</td>\n",
       "      <td>-2.303523</td>\n",
       "      <td>55.062923</td>\n",
       "      <td>1.221291</td>\n",
       "      <td>46.936035</td>\n",
       "      <td>blues</td>\n",
       "    </tr>\n",
       "    <tr>\n",
       "      <th>1</th>\n",
       "      <td>blues.00001.wav</td>\n",
       "      <td>661794</td>\n",
       "      <td>0.340914</td>\n",
       "      <td>0.094980</td>\n",
       "      <td>0.095948</td>\n",
       "      <td>0.002373</td>\n",
       "      <td>1530.176679</td>\n",
       "      <td>375850.073649</td>\n",
       "      <td>2039.036516</td>\n",
       "      <td>213843.755497</td>\n",
       "      <td>...</td>\n",
       "      <td>55.356403</td>\n",
       "      <td>-0.731125</td>\n",
       "      <td>60.314529</td>\n",
       "      <td>0.295073</td>\n",
       "      <td>48.120598</td>\n",
       "      <td>-0.283518</td>\n",
       "      <td>51.106190</td>\n",
       "      <td>0.531217</td>\n",
       "      <td>45.786282</td>\n",
       "      <td>blues</td>\n",
       "    </tr>\n",
       "    <tr>\n",
       "      <th>2</th>\n",
       "      <td>blues.00002.wav</td>\n",
       "      <td>661794</td>\n",
       "      <td>0.363637</td>\n",
       "      <td>0.085275</td>\n",
       "      <td>0.175570</td>\n",
       "      <td>0.002746</td>\n",
       "      <td>1552.811865</td>\n",
       "      <td>156467.643368</td>\n",
       "      <td>1747.702312</td>\n",
       "      <td>76254.192257</td>\n",
       "      <td>...</td>\n",
       "      <td>40.598766</td>\n",
       "      <td>-7.729093</td>\n",
       "      <td>47.639427</td>\n",
       "      <td>-1.816407</td>\n",
       "      <td>52.382141</td>\n",
       "      <td>-3.439720</td>\n",
       "      <td>46.639660</td>\n",
       "      <td>-2.231258</td>\n",
       "      <td>30.573025</td>\n",
       "      <td>blues</td>\n",
       "    </tr>\n",
       "    <tr>\n",
       "      <th>3</th>\n",
       "      <td>blues.00003.wav</td>\n",
       "      <td>661794</td>\n",
       "      <td>0.404785</td>\n",
       "      <td>0.093999</td>\n",
       "      <td>0.141093</td>\n",
       "      <td>0.006346</td>\n",
       "      <td>1070.106615</td>\n",
       "      <td>184355.942417</td>\n",
       "      <td>1596.412872</td>\n",
       "      <td>166441.494769</td>\n",
       "      <td>...</td>\n",
       "      <td>44.427753</td>\n",
       "      <td>-3.319597</td>\n",
       "      <td>50.206673</td>\n",
       "      <td>0.636965</td>\n",
       "      <td>37.319130</td>\n",
       "      <td>-0.619121</td>\n",
       "      <td>37.259739</td>\n",
       "      <td>-3.407448</td>\n",
       "      <td>31.949339</td>\n",
       "      <td>blues</td>\n",
       "    </tr>\n",
       "    <tr>\n",
       "      <th>4</th>\n",
       "      <td>blues.00004.wav</td>\n",
       "      <td>661794</td>\n",
       "      <td>0.308526</td>\n",
       "      <td>0.087841</td>\n",
       "      <td>0.091529</td>\n",
       "      <td>0.002303</td>\n",
       "      <td>1835.004266</td>\n",
       "      <td>343399.939274</td>\n",
       "      <td>1748.172116</td>\n",
       "      <td>88445.209036</td>\n",
       "      <td>...</td>\n",
       "      <td>86.099236</td>\n",
       "      <td>-5.454034</td>\n",
       "      <td>75.269707</td>\n",
       "      <td>-0.916874</td>\n",
       "      <td>53.613918</td>\n",
       "      <td>-4.404827</td>\n",
       "      <td>62.910812</td>\n",
       "      <td>-11.703234</td>\n",
       "      <td>55.195160</td>\n",
       "      <td>blues</td>\n",
       "    </tr>\n",
       "    <tr>\n",
       "      <th>...</th>\n",
       "      <td>...</td>\n",
       "      <td>...</td>\n",
       "      <td>...</td>\n",
       "      <td>...</td>\n",
       "      <td>...</td>\n",
       "      <td>...</td>\n",
       "      <td>...</td>\n",
       "      <td>...</td>\n",
       "      <td>...</td>\n",
       "      <td>...</td>\n",
       "      <td>...</td>\n",
       "      <td>...</td>\n",
       "      <td>...</td>\n",
       "      <td>...</td>\n",
       "      <td>...</td>\n",
       "      <td>...</td>\n",
       "      <td>...</td>\n",
       "      <td>...</td>\n",
       "      <td>...</td>\n",
       "      <td>...</td>\n",
       "      <td>...</td>\n",
       "    </tr>\n",
       "    <tr>\n",
       "      <th>995</th>\n",
       "      <td>rock.00095.wav</td>\n",
       "      <td>661794</td>\n",
       "      <td>0.352063</td>\n",
       "      <td>0.080487</td>\n",
       "      <td>0.079486</td>\n",
       "      <td>0.000345</td>\n",
       "      <td>2008.149458</td>\n",
       "      <td>282174.689224</td>\n",
       "      <td>2106.541053</td>\n",
       "      <td>88609.749506</td>\n",
       "      <td>...</td>\n",
       "      <td>45.050526</td>\n",
       "      <td>-13.289984</td>\n",
       "      <td>41.754955</td>\n",
       "      <td>2.484145</td>\n",
       "      <td>36.778877</td>\n",
       "      <td>-6.713265</td>\n",
       "      <td>54.866825</td>\n",
       "      <td>-1.193787</td>\n",
       "      <td>49.950665</td>\n",
       "      <td>rock</td>\n",
       "    </tr>\n",
       "    <tr>\n",
       "      <th>996</th>\n",
       "      <td>rock.00096.wav</td>\n",
       "      <td>661794</td>\n",
       "      <td>0.398687</td>\n",
       "      <td>0.075086</td>\n",
       "      <td>0.076458</td>\n",
       "      <td>0.000588</td>\n",
       "      <td>2006.843354</td>\n",
       "      <td>182114.709510</td>\n",
       "      <td>2068.942009</td>\n",
       "      <td>82426.016726</td>\n",
       "      <td>...</td>\n",
       "      <td>33.851742</td>\n",
       "      <td>-10.848309</td>\n",
       "      <td>39.395096</td>\n",
       "      <td>1.881229</td>\n",
       "      <td>32.010040</td>\n",
       "      <td>-7.461491</td>\n",
       "      <td>39.196327</td>\n",
       "      <td>-2.795338</td>\n",
       "      <td>31.773624</td>\n",
       "      <td>rock</td>\n",
       "    </tr>\n",
       "    <tr>\n",
       "      <th>997</th>\n",
       "      <td>rock.00097.wav</td>\n",
       "      <td>661794</td>\n",
       "      <td>0.432142</td>\n",
       "      <td>0.075268</td>\n",
       "      <td>0.081651</td>\n",
       "      <td>0.000322</td>\n",
       "      <td>2077.526598</td>\n",
       "      <td>231657.968040</td>\n",
       "      <td>1927.293153</td>\n",
       "      <td>74717.124394</td>\n",
       "      <td>...</td>\n",
       "      <td>33.597008</td>\n",
       "      <td>-12.845291</td>\n",
       "      <td>36.367264</td>\n",
       "      <td>3.440978</td>\n",
       "      <td>36.001110</td>\n",
       "      <td>-12.588070</td>\n",
       "      <td>42.502201</td>\n",
       "      <td>-2.106337</td>\n",
       "      <td>29.865515</td>\n",
       "      <td>rock</td>\n",
       "    </tr>\n",
       "    <tr>\n",
       "      <th>998</th>\n",
       "      <td>rock.00098.wav</td>\n",
       "      <td>661794</td>\n",
       "      <td>0.362485</td>\n",
       "      <td>0.091506</td>\n",
       "      <td>0.083860</td>\n",
       "      <td>0.001211</td>\n",
       "      <td>1398.699344</td>\n",
       "      <td>240318.731073</td>\n",
       "      <td>1818.450280</td>\n",
       "      <td>109090.207161</td>\n",
       "      <td>...</td>\n",
       "      <td>46.324894</td>\n",
       "      <td>-4.416050</td>\n",
       "      <td>43.583942</td>\n",
       "      <td>1.556207</td>\n",
       "      <td>34.331261</td>\n",
       "      <td>-5.041897</td>\n",
       "      <td>47.227180</td>\n",
       "      <td>-3.590644</td>\n",
       "      <td>41.299088</td>\n",
       "      <td>rock</td>\n",
       "    </tr>\n",
       "    <tr>\n",
       "      <th>999</th>\n",
       "      <td>rock.00099.wav</td>\n",
       "      <td>661794</td>\n",
       "      <td>0.358401</td>\n",
       "      <td>0.085884</td>\n",
       "      <td>0.054454</td>\n",
       "      <td>0.000336</td>\n",
       "      <td>1609.795082</td>\n",
       "      <td>422203.216152</td>\n",
       "      <td>1797.213044</td>\n",
       "      <td>120115.632927</td>\n",
       "      <td>...</td>\n",
       "      <td>59.167755</td>\n",
       "      <td>-7.069775</td>\n",
       "      <td>73.760391</td>\n",
       "      <td>0.028346</td>\n",
       "      <td>76.504326</td>\n",
       "      <td>-2.025783</td>\n",
       "      <td>72.189316</td>\n",
       "      <td>1.155239</td>\n",
       "      <td>49.662510</td>\n",
       "      <td>rock</td>\n",
       "    </tr>\n",
       "  </tbody>\n",
       "</table>\n",
       "<p>1000 rows × 60 columns</p>\n",
       "</div>"
      ],
      "text/plain": [
       "            filename  length  chroma_stft_mean  chroma_stft_var  rms_mean  \\\n",
       "0    blues.00000.wav  661794          0.350088         0.088757  0.130228   \n",
       "1    blues.00001.wav  661794          0.340914         0.094980  0.095948   \n",
       "2    blues.00002.wav  661794          0.363637         0.085275  0.175570   \n",
       "3    blues.00003.wav  661794          0.404785         0.093999  0.141093   \n",
       "4    blues.00004.wav  661794          0.308526         0.087841  0.091529   \n",
       "..               ...     ...               ...              ...       ...   \n",
       "995   rock.00095.wav  661794          0.352063         0.080487  0.079486   \n",
       "996   rock.00096.wav  661794          0.398687         0.075086  0.076458   \n",
       "997   rock.00097.wav  661794          0.432142         0.075268  0.081651   \n",
       "998   rock.00098.wav  661794          0.362485         0.091506  0.083860   \n",
       "999   rock.00099.wav  661794          0.358401         0.085884  0.054454   \n",
       "\n",
       "      rms_var  spectral_centroid_mean  spectral_centroid_var  \\\n",
       "0    0.002827             1784.165850          129774.064525   \n",
       "1    0.002373             1530.176679          375850.073649   \n",
       "2    0.002746             1552.811865          156467.643368   \n",
       "3    0.006346             1070.106615          184355.942417   \n",
       "4    0.002303             1835.004266          343399.939274   \n",
       "..        ...                     ...                    ...   \n",
       "995  0.000345             2008.149458          282174.689224   \n",
       "996  0.000588             2006.843354          182114.709510   \n",
       "997  0.000322             2077.526598          231657.968040   \n",
       "998  0.001211             1398.699344          240318.731073   \n",
       "999  0.000336             1609.795082          422203.216152   \n",
       "\n",
       "     spectral_bandwidth_mean  spectral_bandwidth_var  ...  mfcc16_var  \\\n",
       "0                2002.449060            85882.761315  ...   52.420910   \n",
       "1                2039.036516           213843.755497  ...   55.356403   \n",
       "2                1747.702312            76254.192257  ...   40.598766   \n",
       "3                1596.412872           166441.494769  ...   44.427753   \n",
       "4                1748.172116            88445.209036  ...   86.099236   \n",
       "..                       ...                     ...  ...         ...   \n",
       "995              2106.541053            88609.749506  ...   45.050526   \n",
       "996              2068.942009            82426.016726  ...   33.851742   \n",
       "997              1927.293153            74717.124394  ...   33.597008   \n",
       "998              1818.450280           109090.207161  ...   46.324894   \n",
       "999              1797.213044           120115.632927  ...   59.167755   \n",
       "\n",
       "     mfcc17_mean  mfcc17_var  mfcc18_mean  mfcc18_var  mfcc19_mean  \\\n",
       "0      -1.690215   36.524071    -0.408979   41.597103    -2.303523   \n",
       "1      -0.731125   60.314529     0.295073   48.120598    -0.283518   \n",
       "2      -7.729093   47.639427    -1.816407   52.382141    -3.439720   \n",
       "3      -3.319597   50.206673     0.636965   37.319130    -0.619121   \n",
       "4      -5.454034   75.269707    -0.916874   53.613918    -4.404827   \n",
       "..           ...         ...          ...         ...          ...   \n",
       "995   -13.289984   41.754955     2.484145   36.778877    -6.713265   \n",
       "996   -10.848309   39.395096     1.881229   32.010040    -7.461491   \n",
       "997   -12.845291   36.367264     3.440978   36.001110   -12.588070   \n",
       "998    -4.416050   43.583942     1.556207   34.331261    -5.041897   \n",
       "999    -7.069775   73.760391     0.028346   76.504326    -2.025783   \n",
       "\n",
       "     mfcc19_var  mfcc20_mean  mfcc20_var  label  \n",
       "0     55.062923     1.221291   46.936035  blues  \n",
       "1     51.106190     0.531217   45.786282  blues  \n",
       "2     46.639660    -2.231258   30.573025  blues  \n",
       "3     37.259739    -3.407448   31.949339  blues  \n",
       "4     62.910812   -11.703234   55.195160  blues  \n",
       "..          ...          ...         ...    ...  \n",
       "995   54.866825    -1.193787   49.950665   rock  \n",
       "996   39.196327    -2.795338   31.773624   rock  \n",
       "997   42.502201    -2.106337   29.865515   rock  \n",
       "998   47.227180    -3.590644   41.299088   rock  \n",
       "999   72.189316     1.155239   49.662510   rock  \n",
       "\n",
       "[1000 rows x 60 columns]"
      ]
     },
     "execution_count": 3,
     "metadata": {},
     "output_type": "execute_result"
    }
   ],
   "source": [
    "import pandas as pd\n",
    "df = pd.read_csv(\"dataset/Data/features_30_sec.csv\")\n",
    "df"
   ]
  },
  {
   "cell_type": "code",
   "execution_count": 4,
   "id": "dbdeecea-5a6e-488b-89e2-4c9e4d7e472b",
   "metadata": {},
   "outputs": [],
   "source": [
    "from sklearn.model_selection import train_test_split\n",
    "\n",
    "# Define features and target\n",
    "X = df.drop(columns=['label'])  # Features: e.g., 'track' and 'statistics'\n",
    "y = df['label']  # Target: 'label'\n",
    "\n",
    "# Split the dataset while preserving class proportions\n",
    "X_train, X_eval, y_train, y_eval = train_test_split(\n",
    "    X, y, \n",
    "    test_size=0.3,  # 30% for testing\n",
    "    stratify=y,     # Preserve class proportions\n",
    "    random_state=42 # For reproducibility\n",
    ")"
   ]
  },
  {
   "cell_type": "code",
   "execution_count": 5,
   "id": "b3f52c4c-0f71-42f5-b0a3-20853d19f15c",
   "metadata": {},
   "outputs": [],
   "source": [
    "# Drop corrupted sample \n",
    "idx = X_train.index[X_train[\"filename\"] == \"jazz.00054.wav\"]\n",
    "X_train = X_train.drop(index=idx)\n",
    "y_train = y_train.drop(index=idx)"
   ]
  },
  {
   "cell_type": "code",
   "execution_count": 6,
   "id": "5a94ba90-5c92-432a-9a7e-40ed4a617ebe",
   "metadata": {},
   "outputs": [
    {
     "data": {
      "application/vnd.jupyter.widget-view+json": {
       "model_id": "dce8a6a987884ec385e261dcde017fc0",
       "version_major": 2,
       "version_minor": 0
      },
      "text/plain": [
       "MetricVisualizer(layout=Layout(align_self='stretch', height='500px'))"
      ]
     },
     "metadata": {},
     "output_type": "display_data"
    },
    {
     "name": "stdout",
     "output_type": "stream",
     "text": [
      "0:\tlearn: 0.3648069\ttest: 0.3433333\tbest: 0.3433333 (0)\ttotal: 61.8ms\tremaining: 30.8s\n",
      "50:\tlearn: 0.7367668\ttest: 0.6566667\tbest: 0.6700000 (47)\ttotal: 194ms\tremaining: 1.71s\n",
      "100:\tlearn: 0.8211731\ttest: 0.7200000\tbest: 0.7233333 (98)\ttotal: 324ms\tremaining: 1.28s\n",
      "150:\tlearn: 0.8726753\ttest: 0.7300000\tbest: 0.7400000 (122)\ttotal: 456ms\tremaining: 1.05s\n",
      "200:\tlearn: 0.9070100\ttest: 0.7366667\tbest: 0.7466667 (182)\ttotal: 584ms\tremaining: 869ms\n",
      "250:\tlearn: 0.9313305\ttest: 0.7366667\tbest: 0.7533333 (218)\ttotal: 701ms\tremaining: 696ms\n",
      "300:\tlearn: 0.9484979\ttest: 0.7533333\tbest: 0.7533333 (218)\ttotal: 819ms\tremaining: 542ms\n",
      "350:\tlearn: 0.9670959\ttest: 0.7466667\tbest: 0.7600000 (318)\ttotal: 935ms\tremaining: 397ms\n",
      "400:\tlearn: 0.9728183\ttest: 0.7466667\tbest: 0.7600000 (318)\ttotal: 1.06s\tremaining: 263ms\n",
      "450:\tlearn: 0.9756795\ttest: 0.7400000\tbest: 0.7600000 (318)\ttotal: 1.19s\tremaining: 129ms\n",
      "499:\tlearn: 0.9842632\ttest: 0.7466667\tbest: 0.7600000 (318)\ttotal: 1.35s\tremaining: 0us\n",
      "\n",
      "bestTest = 0.76\n",
      "bestIteration = 318\n",
      "\n",
      "Shrink model to first 319 iterations.\n",
      "\n",
      "Classification Report:\n",
      "               precision    recall  f1-score   support\n",
      "\n",
      "       blues       0.76      0.63      0.69        30\n",
      "   classical       0.97      0.97      0.97        30\n",
      "     country       0.79      0.77      0.78        30\n",
      "       disco       0.62      0.53      0.57        30\n",
      "      hiphop       0.59      0.80      0.68        30\n",
      "        jazz       0.85      0.93      0.89        30\n",
      "       metal       0.86      0.83      0.85        30\n",
      "         pop       0.85      0.93      0.89        30\n",
      "      reggae       0.67      0.67      0.67        30\n",
      "        rock       0.67      0.53      0.59        30\n",
      "\n",
      "    accuracy                           0.76       300\n",
      "   macro avg       0.76      0.76      0.76       300\n",
      "weighted avg       0.76      0.76      0.76       300\n",
      "\n",
      "Evaluation Accuracy: 0.7600\n"
     ]
    }
   ],
   "source": [
    "model, acc = train_and_evaluate_catboost(\n",
    "    X_eval.index.to_numpy(), \n",
    "    X_train.drop(columns=[\"filename\", \"length\"]).to_numpy(), \n",
    "    X_eval.drop(columns=[\"filename\", \"length\"]).to_numpy(), \n",
    "    y_train.to_numpy(), \n",
    "    y_eval.to_numpy()\n",
    ")"
   ]
  },
  {
   "cell_type": "code",
   "execution_count": 7,
   "id": "0310d7af-e347-4531-9b6b-7d8602f4a5f1",
   "metadata": {},
   "outputs": [],
   "source": [
    "import soundfile as sf\n",
    "import librosa\n",
    "import numpy as np\n",
    "from resampy import resample"
   ]
  },
  {
   "cell_type": "code",
   "execution_count": 8,
   "id": "c87f01e0-8eaa-4e53-acdb-4c2aa06decb5",
   "metadata": {},
   "outputs": [
    {
     "data": {
      "application/vnd.jupyter.widget-view+json": {
       "model_id": "4b4f8717bc884d7f9268a03130d627f9",
       "version_major": 2,
       "version_minor": 0
      },
      "text/plain": [
       "audio:   0%|          | 0/699 [00:00<?, ?it/s]"
      ]
     },
     "metadata": {},
     "output_type": "display_data"
    },
    {
     "data": {
      "application/vnd.jupyter.widget-view+json": {
       "model_id": "9fb91327d2294245a1414c5026ed0eb3",
       "version_major": 2,
       "version_minor": 0
      },
      "text/plain": [
       "audio:   0%|          | 0/300 [00:00<?, ?it/s]"
      ]
     },
     "metadata": {},
     "output_type": "display_data"
    }
   ],
   "source": [
    "E_train = Extractor(\n",
    "    idx=[np.array([row[0]]) for row in X_train.iterrows()],\n",
    "    x=[row[1].to_numpy() for row in X_train.iterrows()],\n",
    "    y=[np.array([row]) for row in y_train],\n",
    "    train=True\n",
    ")\n",
    "E_eval = Extractor(\n",
    "    idx=[np.array([row[0]]) for row in X_eval.iterrows()],\n",
    "    x=[row[1].to_numpy() for row in X_eval.iterrows()],\n",
    "    y=[np.array([row]) for row in y_eval],\n",
    "    train=False\n",
    ")\n",
    "\n",
    "def load_audio(x) -> [np.ndarray]:\n",
    "    file_path = f\"dataset/Data/genres_original/{x[0].split('.')[0]}/{x[0]}\"\n",
    "    y, sr = sf.read(file_path)\n",
    "    if len(y.shape) == 2:  # Convert stereo to mono\n",
    "        y = np.mean(y, dim=0)\n",
    "    y = resample(y, sr, 16000)\n",
    "    return y\n",
    "Extractor.register_extractor('audio', load_audio)\n",
    "E_train.full_extract()\n",
    "E_eval.full_extract()"
   ]
  },
  {
   "cell_type": "code",
   "execution_count": 9,
   "id": "9bbcf479-de45-4e9e-b3c4-7b15ce5a943c",
   "metadata": {},
   "outputs": [
    {
     "data": {
      "application/vnd.jupyter.widget-view+json": {
       "model_id": "4a347820e27e4a1b919286bb437f32d6",
       "version_major": 2,
       "version_minor": 0
      },
      "text/plain": [
       "stats:   0%|          | 0/699 [00:00<?, ?it/s]"
      ]
     },
     "metadata": {},
     "output_type": "display_data"
    },
    {
     "data": {
      "application/vnd.jupyter.widget-view+json": {
       "model_id": "ace85d0319a74f95bb35d9c9cedd2114",
       "version_major": 2,
       "version_minor": 0
      },
      "text/plain": [
       "rms:   0%|          | 0/699 [00:00<?, ?it/s]"
      ]
     },
     "metadata": {},
     "output_type": "display_data"
    },
    {
     "data": {
      "application/vnd.jupyter.widget-view+json": {
       "model_id": "9207e286fc4a4110bc8ccd5bb0d74f07",
       "version_major": 2,
       "version_minor": 0
      },
      "text/plain": [
       "stats:   0%|          | 0/300 [00:00<?, ?it/s]"
      ]
     },
     "metadata": {},
     "output_type": "display_data"
    },
    {
     "data": {
      "application/vnd.jupyter.widget-view+json": {
       "model_id": "b6f06edaa2844b8381826ee046d36d2e",
       "version_major": 2,
       "version_minor": 0
      },
      "text/plain": [
       "rms:   0%|          | 0/300 [00:00<?, ?it/s]"
      ]
     },
     "metadata": {},
     "output_type": "display_data"
    }
   ],
   "source": [
    "Extractor.register_extractor('stats', lambda x: x[2:])\n",
    "Extractor.register_extractor('rms', lambda audio: np.sqrt(np.mean(audio**2)))\n",
    "E_train.soft_extract()\n",
    "E_eval.soft_extract()"
   ]
  },
  {
   "cell_type": "code",
   "execution_count": 10,
   "id": "189aa8cc-5352-44c8-9225-84a3c7e35dfc",
   "metadata": {},
   "outputs": [],
   "source": [
    "from librosa.sequence import viterbi\n",
    "\n",
    "import numpy as np\n",
    "\n",
    "def viterbi_dp(emission_probs, transition_matrix, p_init=None, eps=1e-15):\n",
    "    \"\"\"\n",
    "    A custom Viterbi implementation that outputs:\n",
    "      1) The DP table (log-domain) of best-path log-probs to each state/frame\n",
    "      2) The state backpointer table\n",
    "      3) A probability distribution over states at each time,\n",
    "         obtained by exponentiating and normalizing the DP table\n",
    "      4) The best-path state sequence from backtracking\n",
    "\n",
    "    Parameters\n",
    "    ----------\n",
    "    emission_probs : np.ndarray [shape=(n_states, n_frames)]\n",
    "        Probability (linear scale) of emitting each state at each frame.\n",
    "        We will take the log of these values for the DP.\n",
    "    transition_matrix : np.ndarray [shape=(n_states, n_states)]\n",
    "        Probability (linear scale) of transitioning from state i to state j.\n",
    "    p_init : np.ndarray [shape=(n_states,)]\n",
    "        Initial state distribution (linear probabilities).\n",
    "        If None, defaults to uniform.\n",
    "    eps : float\n",
    "        Small constant to avoid log(0).\n",
    "\n",
    "    Returns\n",
    "    -------\n",
    "    dp : np.ndarray [shape=(n_states, n_frames)]\n",
    "        dp[s, t] = log-prob of the best path that ends in state s at time t\n",
    "    backpointer : np.ndarray [shape=(n_states, n_frames)]\n",
    "        backpointer[s, t] = index of the best predecessor state for s at t\n",
    "    state_probs : np.ndarray [shape=(n_states, n_frames)]\n",
    "        Probability distribution over states for each frame\n",
    "        (obtained via time-wise softmax of dp).\n",
    "    best_path : np.ndarray [shape=(n_frames,)]\n",
    "        The single best state for each frame (by Viterbi backtracking).\n",
    "    \"\"\"\n",
    "\n",
    "    n_states, n_frames = emission_probs.shape\n",
    "\n",
    "    if p_init is None:\n",
    "        p_init = np.ones(n_states) / n_states\n",
    "\n",
    "    # Convert input probabilities to log\n",
    "    log_emit = np.log(emission_probs + eps)\n",
    "    log_trans = np.log(transition_matrix + eps)\n",
    "    log_init = np.log(p_init + eps)\n",
    "\n",
    "    # Create storage\n",
    "    dp = np.zeros((n_states, n_frames), dtype=np.float64)  # log of best path so far\n",
    "    backpointer = np.zeros((n_states, n_frames), dtype=np.int32)\n",
    "\n",
    "    # Initialization: time t=0\n",
    "    dp[:, 0] = log_init + log_emit[:, 0]\n",
    "    backpointer[:, 0] = 0  # no predecessor for the first frame\n",
    "\n",
    "    # Forward pass\n",
    "    for t in range(1, n_frames):\n",
    "        for s in range(n_states):\n",
    "            # Possible log-probs if we end in state s at time t\n",
    "            candidates = dp[:, t-1] + log_trans[:, s]\n",
    "            best_prev = np.argmax(candidates)\n",
    "            dp[s, t] = candidates[best_prev] + log_emit[s, t]\n",
    "            backpointer[s, t] = best_prev\n",
    "\n",
    "    # Backtrack to find best path\n",
    "    best_path = np.zeros(n_frames, dtype=np.int32)\n",
    "    best_path[-1] = np.argmax(dp[:, -1])\n",
    "    for t in range(n_frames - 2, -1, -1):\n",
    "        best_path[t] = backpointer[best_path[t+1], t+1]\n",
    "\n",
    "    # Convert dp to a per-frame probability distribution by exponentiating\n",
    "    # and normalizing along the 'state' axis\n",
    "    state_probs = np.zeros_like(dp, dtype=np.float64)\n",
    "    for t in range(n_frames):\n",
    "        # shift by max log-prob to avoid underflow\n",
    "        row = dp[:, t]\n",
    "        row_max = np.max(row)\n",
    "        exp_row = np.exp(row - row_max)\n",
    "        state_probs[:, t] = exp_row / np.sum(exp_row)\n",
    "\n",
    "    return dp, backpointer, state_probs, best_path\n",
    "\n",
    "\n",
    "def estimate_cqt_bin_viterbi(\n",
    "    y,\n",
    "    sr=22050,\n",
    "    hop_length=512,\n",
    "    n_bins=50,\n",
    "    fmin=librosa.note_to_hz('C2'),\n",
    "    silence_threshold=0.01,  # total energy below which we strongly favor silence\n",
    "    stay_probability=0.9\n",
    "):\n",
    "    \"\"\"\n",
    "    Estimate the most likely CQT-bin sequence from an audio file, plus a\n",
    "    special silence state. Use librosa's built-in Viterbi for smoothing.\n",
    "\n",
    "    Parameters\n",
    "    ----------\n",
    "    audio_path : str\n",
    "        Path to the audio file.\n",
    "    sr : int\n",
    "        Sample rate for loading the audio.\n",
    "    hop_length : int\n",
    "        Hop length for the CQT.\n",
    "    n_bins : int\n",
    "        Number of frequency bins in the CQT.\n",
    "    fmin : float\n",
    "        Minimum frequency for the CQT.\n",
    "    silence_threshold : float\n",
    "        Frames whose total energy is below this threshold are dominated by the silence state.\n",
    "    stay_probability : float\n",
    "        Probability of staying in the same state (bin or silence). The remainder\n",
    "        is distributed across transitioning to all other states.\n",
    "\n",
    "    Returns\n",
    "    -------\n",
    "    state_sequence : np.ndarray [shape=(n_frames,)]\n",
    "        The best path of states (CQT bin indices plus one extra index for silence).\n",
    "        Indices 0..(n_bins-1) correspond to actual bins; index n_bins is silence.\n",
    "    path_log_probs : np.ndarray [shape=(n_frames,)]\n",
    "        The log-probability of the best path up to (and including) each frame.\n",
    "    emission_probs : np.ndarray [shape=(n_bins+1, n_frames)]\n",
    "        The per-frame emission probability of each bin and the silence state.\n",
    "\n",
    "    Notes\n",
    "    -----\n",
    "    - By default, `librosa.sequence.viterbi` expects probabilities in linear domain\n",
    "      (non-log). We will manually compute the log-likelihood of the best path after\n",
    "      we get the final state sequence.\n",
    "    - The silence state (index = n_bins) has no direct column in the input,\n",
    "      but we infer its emission probability by checking the total frame energy.\n",
    "    \"\"\"\n",
    "\n",
    "    ################################################################\n",
    "    # 1. Load audio and compute CQT magnitudes\n",
    "    ################################################################\n",
    "    cqt = librosa.cqt(y, sr=sr, hop_length=hop_length, n_bins=n_bins, fmin=fmin)\n",
    "    cqt_mag = np.abs(cqt)  # shape = (n_bins, n_frames)\n",
    "    n_frames = cqt_mag.shape[1]\n",
    "\n",
    "    ################################################################\n",
    "    # 2. Build emission probability matrix (n_bins + 1 states)\n",
    "    #    - last row is \"silence\"\n",
    "    ################################################################\n",
    "    n_states = n_bins + 1\n",
    "    silence_idx = n_bins\n",
    "\n",
    "    emission_probs = np.zeros((n_states, n_frames), dtype=np.float32)\n",
    "\n",
    "    for t in range(n_frames):\n",
    "        frame_energy = np.sum(cqt_mag[:, t])\n",
    "\n",
    "        if frame_energy < silence_threshold:\n",
    "            # If total energy is below threshold, strongly favor silence\n",
    "            # and place a minimal probability on actual bins\n",
    "            emission_probs[:n_bins, t] = 1e-10  # negligible\n",
    "            emission_probs[silence_idx, t] = 1.0\n",
    "        else:\n",
    "            # Distribute across the bins proportionally, plus a small portion for silence\n",
    "            emission_probs[:n_bins, t] = cqt_mag[:, t]\n",
    "\n",
    "            # Example: give silence a small probability if frame is not silent\n",
    "            # You can tune this constant or use a ratio\n",
    "            emission_probs[silence_idx, t] = 1e-6\n",
    "\n",
    "            # Normalize so sum of states = 1\n",
    "            col_sum = np.sum(emission_probs[:, t])\n",
    "            if col_sum > 0:\n",
    "                emission_probs[:, t] /= col_sum\n",
    "            else:\n",
    "                # fallback if no energy\n",
    "                emission_probs[silence_idx, t] = 1.0\n",
    "\n",
    "    ################################################################\n",
    "    # 3. Define a transition matrix for n_states = n_bins + 1\n",
    "    #    We'll have:\n",
    "    #      - High probability stay_probability to remain in the same state\n",
    "    #      - The remainder distributed equally among all other states\n",
    "    ################################################################\n",
    "    transition_matrix = np.zeros((n_states, n_states), dtype=np.float32)\n",
    "    # For each of the bin states\n",
    "    for i in range(n_bins):\n",
    "        transition_matrix[i, i] = stay_probability\n",
    "        # The fraction to distribute among other states\n",
    "        remain = (1.0 - stay_probability)\n",
    "        # We'll give an equal fraction to the other n_states - 1\n",
    "        transition_matrix[i, :] += remain / (n_states - 1)\n",
    "        # But this double-counted staying in the same state; revert it to the intended stay_probability\n",
    "        transition_matrix[i, i] = stay_probability\n",
    "\n",
    "    # For the silence state\n",
    "    transition_matrix[silence_idx, silence_idx] = stay_probability\n",
    "    remain_sil = (1.0 - stay_probability)\n",
    "    transition_matrix[silence_idx, :] += remain_sil / (n_states - 1)\n",
    "    # revert the diagonal to stay_probability\n",
    "    transition_matrix[silence_idx, silence_idx] = stay_probability\n",
    "\n",
    "    # Normalize each row (should already be ~1.0, but let's be safe)\n",
    "    for i in range(n_states):\n",
    "        row_sum = np.sum(transition_matrix[i, :])\n",
    "        if row_sum > 0:\n",
    "            transition_matrix[i, :] /= row_sum\n",
    "\n",
    "    ################################################################\n",
    "    # 4. Run Viterbi via librosa\n",
    "    ################################################################\n",
    "    # librosa.sequence.viterbi expects:\n",
    "    #    prob: shape=(n_states, n_steps) - each column is a probability distribution\n",
    "    #    transition: shape=(n_states, n_states)\n",
    "    # We can optionally specify p_init for initial distribution, e.g. uniform\n",
    "    p_init = np.ones(n_states, dtype=np.float32) / n_states\n",
    "    \n",
    "    return viterbi_dp(emission_probs, transition_matrix, p_init=p_init)[2]\n"
   ]
  },
  {
   "cell_type": "code",
   "execution_count": 11,
   "id": "fafcb966-7dc7-423a-bf6b-f961633ca6b3",
   "metadata": {},
   "outputs": [],
   "source": [
    "import librosa\n",
    "import soundfile as sf\n",
    "from resampy import resample\n",
    "from tqdm.notebook import tqdm\n",
    "\n",
    "def compute_cepstrum(audio, sr, n_fft=2048, hop_length=512):\n",
    "    \"\"\"\n",
    "    Compute the cepstrum of an audio signal.\n",
    "\n",
    "    Parameters:\n",
    "    - audio (numpy array): The audio signal.\n",
    "    - sr (int): Sampling rate of the audio signal.\n",
    "    - n_fft (int): Number of FFT components. Default is 2048.\n",
    "    - hop_length (int): Number of samples between successive frames. Default is 512.\n",
    "\n",
    "    Returns:\n",
    "    - cepstrum (numpy array): The computed cepstrum.\n",
    "    \"\"\"\n",
    "    # Compute the magnitude spectrogram\n",
    "    spectrogram = np.abs(librosa.stft(audio, n_fft=n_fft, hop_length=hop_length))\n",
    "\n",
    "    # Convert to log scale\n",
    "    log_spectrogram = np.log1p(spectrogram)\n",
    "\n",
    "    # Compute the inverse FFT of the log-spectrogram\n",
    "    cepstrum = np.fft.ifft(log_spectrogram, axis=0).real\n",
    "\n",
    "    return cepstrum\n",
    "\n",
    "\n",
    "def compute_cepstrum_over_cqt(y, sr=22050, hop_length=512, bins_per_octave=12, n_bins=84):\n",
    "    \"\"\"\n",
    "    Compute the cepstrum over the CQT of an audio signal.\n",
    "\n",
    "    Parameters:\n",
    "        audio_path (str): Path to the audio file.\n",
    "        sr (int): Sampling rate for the audio.\n",
    "        hop_length (int): Hop length for the CQT computation.\n",
    "        bins_per_octave (int): Number of bins per octave for CQT.\n",
    "        n_bins (int): Number of total bins for CQT.\n",
    "\n",
    "    Returns:\n",
    "        cqt_cepstrum (np.ndarray): Cepstrum computed from the CQT.\n",
    "    \"\"\"\n",
    "    # Compute the CQT of the signal\n",
    "    cqt = librosa.cqt(y, sr=sr, hop_length=hop_length, bins_per_octave=bins_per_octave, n_bins=n_bins)\n",
    "\n",
    "    # Compute the magnitude spectrum of the CQT\n",
    "    magnitude = np.abs(cqt)\n",
    "\n",
    "    # Compute the log of the magnitude\n",
    "    log_magnitude = np.log1p(magnitude)  # log1p for numerical stability\n",
    "\n",
    "    # Compute the cepstrum by applying IFFT to the log-magnitude spectrum\n",
    "    cqt_cepstrum = np.fft.irfft(log_magnitude, axis=0)\n",
    "\n",
    "    return cqt_cepstrum\n",
    "\n",
    "sr = 16000\n",
    "n_mfcc = 13\n",
    "n_mels = 128\n",
    "\n",
    "def mel(audio):\n",
    "    # Calculate MelSpectrogram\n",
    "    mel_spectrogram = librosa.feature.melspectrogram(y=audio, sr=sr, n_mels=n_mels)\n",
    "    mel_spectrogram = librosa.power_to_db(mel_spectrogram, ref=np.max)  # Convert to decibel scale\n",
    "    return mel_spectrogram\n",
    "\n",
    "Extractor.register_extractor('mel', mel)\n",
    "# Extractor.register_extractor('cepstrum', lambda audio: compute_cepstrum(audio, sr=sr))\n",
    "# Extractor.register_extractor('chroma_cqt', lambda audio: librosa.feature.chroma_cqt(y=audio, sr=sr))\n",
    "# Extractor.register_extractor('ccqt', lambda audio: compute_cepstrum_over_cqt(y=audio, sr=sr))\n",
    "# Extractor.register_extractor('cqr_viterbi', lambda audio: estimate_cqt_bin_viterbi(y=audio, sr=sr))\n",
    "Extractor.register_extractor('cqt', lambda audio: np.abs(librosa.cqt(audio, sr=sr, hop_length=512, bins_per_octave=12, n_bins=84)))\n",
    "# Extractor.register_extractor('stft', lambda audio: librosa.stft(audio, hop_length=512))\n",
    "# Extractor.register_extractor('mfcc', lambda audio: librosa.feature.mfcc(y=audio, sr=sr, n_mfcc=n_mfcc))\n"
   ]
  },
  {
   "cell_type": "code",
   "execution_count": 12,
   "id": "925aff54-a495-4557-8975-e573bf48f98b",
   "metadata": {},
   "outputs": [
    {
     "data": {
      "application/vnd.jupyter.widget-view+json": {
       "model_id": "14278999c40440b7af1bcb6b71b8e7bf",
       "version_major": 2,
       "version_minor": 0
      },
      "text/plain": [
       "mel:   0%|          | 0/699 [00:00<?, ?it/s]"
      ]
     },
     "metadata": {},
     "output_type": "display_data"
    },
    {
     "data": {
      "application/vnd.jupyter.widget-view+json": {
       "model_id": "bd793cb03d4d4a448a2ee86df75e5f55",
       "version_major": 2,
       "version_minor": 0
      },
      "text/plain": [
       "cqt:   0%|          | 0/699 [00:00<?, ?it/s]"
      ]
     },
     "metadata": {},
     "output_type": "display_data"
    },
    {
     "data": {
      "application/vnd.jupyter.widget-view+json": {
       "model_id": "33e455e1301b4252836b62a0fe6cdfc7",
       "version_major": 2,
       "version_minor": 0
      },
      "text/plain": [
       "mel:   0%|          | 0/300 [00:00<?, ?it/s]"
      ]
     },
     "metadata": {},
     "output_type": "display_data"
    },
    {
     "data": {
      "application/vnd.jupyter.widget-view+json": {
       "model_id": "bc83005240d747b1b0972020e047292c",
       "version_major": 2,
       "version_minor": 0
      },
      "text/plain": [
       "cqt:   0%|          | 0/300 [00:00<?, ?it/s]"
      ]
     },
     "metadata": {},
     "output_type": "display_data"
    }
   ],
   "source": [
    "E_train.soft_extract()\n",
    "E_eval.soft_extract()"
   ]
  },
  {
   "cell_type": "code",
   "execution_count": 13,
   "id": "e2014469-6b29-480a-a919-03057c27e6cb",
   "metadata": {},
   "outputs": [],
   "source": [
    "import matplotlib.pyplot as plt"
   ]
  },
  {
   "cell_type": "code",
   "execution_count": 14,
   "id": "f3d88988-ce55-4fc3-b181-2cfaeeaf274b",
   "metadata": {},
   "outputs": [],
   "source": [
    "hop_length=512\n",
    "Extractor.register_extractor('bpm_beat', lambda audio: librosa.beat.beat_track(y=audio, sr=sr, hop_length=hop_length))\n",
    "Extractor.register_extractor('bpm', lambda bpm_beat: bpm_beat[0])\n",
    "Extractor.register_extractor('beat', lambda bpm_beat: bpm_beat[1])"
   ]
  },
  {
   "cell_type": "code",
   "execution_count": 15,
   "id": "15027598-f607-4097-9312-a0ae8e42f768",
   "metadata": {},
   "outputs": [
    {
     "data": {
      "application/vnd.jupyter.widget-view+json": {
       "model_id": "24084e49b7874bc199809a705a252ed5",
       "version_major": 2,
       "version_minor": 0
      },
      "text/plain": [
       "bpm_beat:   0%|          | 0/699 [00:00<?, ?it/s]"
      ]
     },
     "metadata": {},
     "output_type": "display_data"
    },
    {
     "data": {
      "application/vnd.jupyter.widget-view+json": {
       "model_id": "b3aad7dc79e341feb17edc7737ab71b8",
       "version_major": 2,
       "version_minor": 0
      },
      "text/plain": [
       "bpm:   0%|          | 0/699 [00:00<?, ?it/s]"
      ]
     },
     "metadata": {},
     "output_type": "display_data"
    },
    {
     "data": {
      "application/vnd.jupyter.widget-view+json": {
       "model_id": "b0463998a4f140448210960222189f3b",
       "version_major": 2,
       "version_minor": 0
      },
      "text/plain": [
       "beat:   0%|          | 0/699 [00:00<?, ?it/s]"
      ]
     },
     "metadata": {},
     "output_type": "display_data"
    },
    {
     "data": {
      "application/vnd.jupyter.widget-view+json": {
       "model_id": "3e16f48e75c3469aa87973807e819574",
       "version_major": 2,
       "version_minor": 0
      },
      "text/plain": [
       "bpm_beat:   0%|          | 0/300 [00:00<?, ?it/s]"
      ]
     },
     "metadata": {},
     "output_type": "display_data"
    },
    {
     "data": {
      "application/vnd.jupyter.widget-view+json": {
       "model_id": "e7750320fab2414c953778635acccd3f",
       "version_major": 2,
       "version_minor": 0
      },
      "text/plain": [
       "bpm:   0%|          | 0/300 [00:00<?, ?it/s]"
      ]
     },
     "metadata": {},
     "output_type": "display_data"
    },
    {
     "data": {
      "application/vnd.jupyter.widget-view+json": {
       "model_id": "ea73f6e96e254c6f99f1de0b5c91dc1c",
       "version_major": 2,
       "version_minor": 0
      },
      "text/plain": [
       "beat:   0%|          | 0/300 [00:00<?, ?it/s]"
      ]
     },
     "metadata": {},
     "output_type": "display_data"
    }
   ],
   "source": [
    "E_train.soft_extract()\n",
    "E_eval.soft_extract()"
   ]
  },
  {
   "cell_type": "code",
   "execution_count": 16,
   "id": "1476f645-8857-45c2-9600-a472f649171a",
   "metadata": {},
   "outputs": [],
   "source": [
    "Extractor.register_extractor('cqt_hpss', lambda cqt: librosa.decompose.hpss(cqt))\n",
    "Extractor.register_extractor('harmonic', lambda cqt_hpss: cqt_hpss[0])\n",
    "Extractor.register_extractor('percussive', lambda cqt_hpss: cqt_hpss[1])"
   ]
  },
  {
   "cell_type": "code",
   "execution_count": 17,
   "id": "3ff04c83-d4e3-4c8b-a755-e2204fcfd015",
   "metadata": {},
   "outputs": [
    {
     "data": {
      "application/vnd.jupyter.widget-view+json": {
       "model_id": "49c51b0052e0440eb5cdb45a0b98cfd9",
       "version_major": 2,
       "version_minor": 0
      },
      "text/plain": [
       "cqt_hpss:   0%|          | 0/699 [00:00<?, ?it/s]"
      ]
     },
     "metadata": {},
     "output_type": "display_data"
    },
    {
     "data": {
      "application/vnd.jupyter.widget-view+json": {
       "model_id": "b9cb4d21a3bb4bd59639a4ad6e00c014",
       "version_major": 2,
       "version_minor": 0
      },
      "text/plain": [
       "harmonic:   0%|          | 0/699 [00:00<?, ?it/s]"
      ]
     },
     "metadata": {},
     "output_type": "display_data"
    },
    {
     "data": {
      "application/vnd.jupyter.widget-view+json": {
       "model_id": "f58474c5764f4eaabe116cf6052c198d",
       "version_major": 2,
       "version_minor": 0
      },
      "text/plain": [
       "percussive:   0%|          | 0/699 [00:00<?, ?it/s]"
      ]
     },
     "metadata": {},
     "output_type": "display_data"
    },
    {
     "data": {
      "application/vnd.jupyter.widget-view+json": {
       "model_id": "ec9868255cf94136816501292d8976ae",
       "version_major": 2,
       "version_minor": 0
      },
      "text/plain": [
       "cqt_hpss:   0%|          | 0/300 [00:00<?, ?it/s]"
      ]
     },
     "metadata": {},
     "output_type": "display_data"
    },
    {
     "data": {
      "application/vnd.jupyter.widget-view+json": {
       "model_id": "6e272bef09644d08aad3af3e50323745",
       "version_major": 2,
       "version_minor": 0
      },
      "text/plain": [
       "harmonic:   0%|          | 0/300 [00:00<?, ?it/s]"
      ]
     },
     "metadata": {},
     "output_type": "display_data"
    },
    {
     "data": {
      "application/vnd.jupyter.widget-view+json": {
       "model_id": "28d02e6526f54bda834672dc04d1f624",
       "version_major": 2,
       "version_minor": 0
      },
      "text/plain": [
       "percussive:   0%|          | 0/300 [00:00<?, ?it/s]"
      ]
     },
     "metadata": {},
     "output_type": "display_data"
    }
   ],
   "source": [
    "E_train.soft_extract()\n",
    "E_eval.soft_extract()"
   ]
  },
  {
   "cell_type": "code",
   "execution_count": 18,
   "id": "9c6a1c71-753e-4ed1-8d2d-5695c663b607",
   "metadata": {},
   "outputs": [
    {
     "data": {
      "text/plain": [
       "(0.0, 30.0)"
      ]
     },
     "execution_count": 18,
     "metadata": {},
     "output_type": "execute_result"
    },
    {
     "data": {
      "image/png": "[encoded data removed]",
      "text/plain": [
       "<Figure size 640x480 with 1 Axes>"
      ]
     },
     "metadata": {},
     "output_type": "display_data"
    }
   ],
   "source": [
    "plt.pcolor(E_train.features['percussive'][0])\n",
    "plt.vlines(E_train.features['beat'][0], 10, 30)\n",
    "plt.xlim(0, 200)\n",
    "plt.ylim(0, 30)"
   ]
  },
  {
   "cell_type": "markdown",
   "id": "ed7d1d16-45ff-475d-80ec-6fcb7264da1e",
   "metadata": {},
   "source": [
    "ChatGPT query\n",
    "\n",
    "Write a python function with a following signature\n",
    "\n",
    "```\n",
    "rnd = np.random.default_rng(42)\n",
    "def crop_by_beats(beat, harmony_specs, percussion_specs, frames_per_beat = 4, number_of_beats=16, number_of_samples=8)\n",
    "    pass\n",
    "```\n",
    "\n",
    "beats is the integer array of frames at which there was a beat\n",
    "upsample beats , for two neighboring values insert frames_per_beat-1 values between them uniformly cropped to the nearest frame\n",
    "\n",
    "Next number_of_samples times sample starting position in the upsampled beats array and take number_of_beats * frames_per_beat consequent beats. Position must be sampled aligned to number_of_beats * frames_per_beat.\n",
    "\n",
    "harmony_specs is a list of several spectrograms with harmonic parts of melody.\n",
    "for each of harmony spec calculate the mean along time axis (axis = 1) between the consequent beats of the sample including the frames at which there was a beat\n",
    "\n",
    "percussion_specs is a list of several spectrograms with percussion parts of melody. For each of percussion spec calculate the downsampled spectrogram as with harmony specs but shift the spectrogram so that the first sample was centered at the beat. The resulting length must be the same\n",
    "\n",
    "return list of tuples containing downsampled spectrograms"
   ]
  },
  {
   "cell_type": "code",
   "execution_count": 19,
   "id": "c6db06bb-4ad3-4406-86d5-a924add6b614",
   "metadata": {},
   "outputs": [],
   "source": [
    "rnd = np.random.default_rng(42)\n",
    "\n",
    "def crop_by_beats(\n",
    "    beat,\n",
    "    harmony_specs,\n",
    "    percussion_specs,\n",
    "    frames_per_beat=4,\n",
    "    number_of_beats=16,\n",
    "    number_of_samples=8\n",
    "):\n",
    "    \"\"\"\n",
    "    Upsample the array of integer beat positions and then randomly extract \n",
    "    (number_of_samples) chunks of length (number_of_beats * frames_per_beat).\n",
    "    \n",
    "    For each chunk, compute the downsampled spectrogram:\n",
    "      - For harmonic specs: take the mean along the time axis (axis=1) \n",
    "        between consecutive upsampled-beat boundaries.\n",
    "      - For percussion specs: take the mean along the time axis over intervals \n",
    "        shifted so that each is centered at the corresponding upsampled beat.\n",
    "    \n",
    "    Parameters\n",
    "    ----------\n",
    "    beat : 1D array-like of int\n",
    "        Array of frame indices at which a beat occurs. Must be strictly increasing.\n",
    "    harmony_specs : list of np.ndarray\n",
    "        Each element is a spectrogram for a harmonic component with shape \n",
    "        (freq_bins, time_frames).\n",
    "    percussion_specs : list of np.ndarray\n",
    "        Each element is a spectrogram for a percussion component with shape \n",
    "        (freq_bins, time_frames).\n",
    "    frames_per_beat : int\n",
    "        Number of subdivisions per original beat when upsampling.\n",
    "    number_of_beats : int\n",
    "        How many beats (in terms of upsampled subdivisions) to include in each chunk.\n",
    "    number_of_samples : int\n",
    "        How many random chunks to extract.\n",
    "    \n",
    "    Returns\n",
    "    -------\n",
    "    list of tuples\n",
    "        A list (of length `number_of_samples`). Each element is:\n",
    "        \n",
    "            (harmony_downsampled_list, percussion_downsampled_list)\n",
    "        \n",
    "        where `harmony_downsampled_list` and `percussion_downsampled_list` are each \n",
    "        lists of spectrograms (in the same order as `harmony_specs` and \n",
    "        `percussion_specs`). Each downsampled spectrogram has shape:\n",
    "        \n",
    "            (freq_bins, number_of_beats * frames_per_beat)\n",
    "    \"\"\"\n",
    "    \n",
    "    # 1) Upsample 'beat' by inserting (frames_per_beat - 1) points \n",
    "    #    uniformly between each pair of consecutive beats.\n",
    "    up_beats = []\n",
    "    beat = np.array(beat, dtype=int)\n",
    "    for i in range(len(beat) - 1):\n",
    "        start = beat[i]\n",
    "        end = beat[i + 1]\n",
    "        diff = end - start\n",
    "        \n",
    "        # Insert frames_per_beat subdivisions between start and end, \n",
    "        # snapping to the nearest integer frame.\n",
    "        for k in range(frames_per_beat):\n",
    "            val = start + round(k * diff / frames_per_beat)\n",
    "            # Avoid duplicates if rounding yields same as last appended\n",
    "            if not up_beats or val != up_beats[-1]:\n",
    "                up_beats.append(val)\n",
    "    \n",
    "    up_beats = np.array(up_beats, dtype=int)\n",
    "    \n",
    "    # 2) We need (number_of_beats * frames_per_beat + 1) upsampled-beat \n",
    "    #    positions for each chunk (the +1 is because we need the right boundary).\n",
    "    needed_length = number_of_beats * frames_per_beat + 1\n",
    "    total_upsampled = len(up_beats)\n",
    "    \n",
    "    # If we cannot extract even one chunk, return empty\n",
    "    max_start = total_upsampled - needed_length\n",
    "    if max_start < 0:\n",
    "        return []\n",
    "    \n",
    "    # Possible start indices must be multiples of (number_of_beats * frames_per_beat)\n",
    "    # so that each chunk is \"aligned\".\n",
    "    stride = number_of_beats * frames_per_beat\n",
    "    possible_starts = np.arange(0, max_start + 1, stride)\n",
    "    \n",
    "    # Randomly choose 'number_of_samples' start indices from these possibilities\n",
    "    chosen_starts = rnd.choice(possible_starts, size=number_of_samples, replace=True)\n",
    "    \n",
    "    results = []\n",
    "    for start_idx in chosen_starts:\n",
    "        # Boundaries for this sample\n",
    "        boundary_points = up_beats[start_idx : start_idx + needed_length]\n",
    "        # === 3) Downsample each harmony spec ===\n",
    "        harmony_downsampled = []\n",
    "        for spec in harmony_specs:\n",
    "            # spec has shape (freq_bins, time_frames)\n",
    "            freq_bins = spec.shape[0]\n",
    "            \n",
    "            # We'll get (number_of_beats * frames_per_beat) intervals\n",
    "            ds_harm = np.zeros((freq_bins, number_of_beats * frames_per_beat),\n",
    "                               dtype=spec.dtype)\n",
    "            for j in range(number_of_beats * frames_per_beat):\n",
    "                left = boundary_points[j]\n",
    "                right = boundary_points[j + 1]\n",
    "                # Take the average along axis=1 (time axis)\n",
    "                ds_harm[:, j] = spec[:, left:right].mean(axis=1)\n",
    "\n",
    "            harmony_downsampled.append(ds_harm)\n",
    "        \n",
    "        # === 4) Downsample each percussion spec with centering ===\n",
    "        percussion_downsampled = []\n",
    "        for spec in percussion_specs:\n",
    "            \n",
    "            freq_bins = spec.shape[0]\n",
    "            ds_perc = np.zeros((freq_bins, number_of_beats * frames_per_beat),\n",
    "                               dtype=spec.dtype)\n",
    "\n",
    "            old_right = None\n",
    "            for j in range(number_of_beats * frames_per_beat):\n",
    "                dist = boundary_points[j + 1] - boundary_points[j]\n",
    "                right = boundary_points[j + 1] - dist // 2\n",
    "                if old_right is None:\n",
    "                    left = boundary_points[j] - dist // 2\n",
    "                else:\n",
    "                    left = old_right\n",
    "                old_right = right\n",
    "                \n",
    "                # Clamp to valid range\n",
    "                if left < 0:\n",
    "                    left = 0\n",
    "                if right > spec.shape[1]:\n",
    "                    right = spec.shape[1]\n",
    "\n",
    "                # Average over the time axis in [left, right)\n",
    "                chunk = spec[:, left:right]\n",
    "                ds_perc[:, j] = chunk.mean(axis=1)\n",
    "            \n",
    "            percussion_downsampled.append(ds_perc)\n",
    "        \n",
    "        # One result entry = (list_of_downsampled_harmony_specs, list_of_downsampled_percussion_specs)\n",
    "        results.append((harmony_downsampled, percussion_downsampled))\n",
    "    return results"
   ]
  },
  {
   "cell_type": "code",
   "execution_count": 20,
   "id": "2f127a9d-846b-463b-a674-7295da842e3a",
   "metadata": {},
   "outputs": [],
   "source": [
    "Extractor.register_extractor('sample', \n",
    "                             lambda beat, cqt, harmonic, percussive: \n",
    "                             crop_by_beats(\n",
    "                                 beat=beat, \n",
    "                                 harmony_specs=[cqt, harmonic], \n",
    "                                 percussion_specs=[percussive]\n",
    "                             ), shuffle=True, map_labels=[\n",
    "                                 ('idx', 's_idx'), \n",
    "                                 ('y', 's_y'), \n",
    "                                 ('stats', 's_stats'), \n",
    "                                 ('bpm', 's_bpm')])\n",
    "Extractor.register_extractor('s_cqt', lambda sample: sample[0][0])\n",
    "Extractor.register_extractor('s_harmonic', lambda sample: sample[0][1])\n",
    "Extractor.register_extractor('s_percussive', lambda sample: sample[1][0])\n"
   ]
  },
  {
   "cell_type": "code",
   "execution_count": 21,
   "id": "08d2c32d-712c-4928-9df0-0a93b73120c5",
   "metadata": {},
   "outputs": [
    {
     "data": {
      "application/vnd.jupyter.widget-view+json": {
       "model_id": "1cd2022384964b9a8820a9f8d2b093d9",
       "version_major": 2,
       "version_minor": 0
      },
      "text/plain": [
       "sample:   0%|          | 0/699 [00:00<?, ?it/s]"
      ]
     },
     "metadata": {},
     "output_type": "display_data"
    },
    {
     "data": {
      "application/vnd.jupyter.widget-view+json": {
       "model_id": "ea8ff7f2d2d847a5a8fdaed7e1c118c8",
       "version_major": 2,
       "version_minor": 0
      },
      "text/plain": [
       "s_cqt:   0%|          | 0/5584 [00:00<?, ?it/s]"
      ]
     },
     "metadata": {},
     "output_type": "display_data"
    },
    {
     "data": {
      "application/vnd.jupyter.widget-view+json": {
       "model_id": "9283f9f5c7d44321afd05b8ec73eb57d",
       "version_major": 2,
       "version_minor": 0
      },
      "text/plain": [
       "s_harmonic:   0%|          | 0/5584 [00:00<?, ?it/s]"
      ]
     },
     "metadata": {},
     "output_type": "display_data"
    },
    {
     "data": {
      "application/vnd.jupyter.widget-view+json": {
       "model_id": "f8fd5100fd3247c6a563d0a447136bb6",
       "version_major": 2,
       "version_minor": 0
      },
      "text/plain": [
       "s_percussive:   0%|          | 0/5584 [00:00<?, ?it/s]"
      ]
     },
     "metadata": {},
     "output_type": "display_data"
    },
    {
     "data": {
      "application/vnd.jupyter.widget-view+json": {
       "model_id": "f9a89b9e1cbd4f7f9c116b2f881e113d",
       "version_major": 2,
       "version_minor": 0
      },
      "text/plain": [
       "sample:   0%|          | 0/300 [00:00<?, ?it/s]"
      ]
     },
     "metadata": {},
     "output_type": "display_data"
    },
    {
     "data": {
      "application/vnd.jupyter.widget-view+json": {
       "model_id": "6948702f54a74a73a77d109816afa9dd",
       "version_major": 2,
       "version_minor": 0
      },
      "text/plain": [
       "s_cqt:   0%|          | 0/2384 [00:00<?, ?it/s]"
      ]
     },
     "metadata": {},
     "output_type": "display_data"
    },
    {
     "data": {
      "application/vnd.jupyter.widget-view+json": {
       "model_id": "dd48c9deeea84697889c8736225adcbc",
       "version_major": 2,
       "version_minor": 0
      },
      "text/plain": [
       "s_harmonic:   0%|          | 0/2384 [00:00<?, ?it/s]"
      ]
     },
     "metadata": {},
     "output_type": "display_data"
    },
    {
     "data": {
      "application/vnd.jupyter.widget-view+json": {
       "model_id": "370ee9062a5149e88b6028f7eaa99ade",
       "version_major": 2,
       "version_minor": 0
      },
      "text/plain": [
       "s_percussive:   0%|          | 0/2384 [00:00<?, ?it/s]"
      ]
     },
     "metadata": {},
     "output_type": "display_data"
    }
   ],
   "source": [
    "E_train.soft_extract()\n",
    "E_eval.soft_extract()"
   ]
  },
  {
   "cell_type": "code",
   "execution_count": 22,
   "id": "1026d150-35ad-4cd4-b44a-f3e75a8c03cb",
   "metadata": {},
   "outputs": [],
   "source": [
    "Extractor.register_extractor('cqt_chromo_stats', \n",
    "                             lambda s_cqt: np.hstack([s_cqt.mean(axis=1), s_cqt.var(axis=1)]))\n",
    "Extractor.register_extractor('harmonic_chromo_stats', \n",
    "                             lambda s_harmonic: np.hstack([s_harmonic.mean(axis=1), s_harmonic.var(axis=1)]))\n",
    "Extractor.register_extractor('percussive_chromo_stats', \n",
    "                             lambda s_percussive: np.hstack([s_percussive.mean(axis=1), s_percussive.var(axis=1)]))\n",
    "Extractor.register_extractor('percussive_beat_frames', \n",
    "                             lambda s_percussive: s_percussive.mean(axis=0))"
   ]
  },
  {
   "cell_type": "code",
   "execution_count": 23,
   "id": "b471db37-be83-4d88-9feb-2fb4655e3cc0",
   "metadata": {},
   "outputs": [
    {
     "data": {
      "application/vnd.jupyter.widget-view+json": {
       "model_id": "fde4e6c7ca404be88d210e44bd65af9a",
       "version_major": 2,
       "version_minor": 0
      },
      "text/plain": [
       "cqt_chromo_stats:   0%|          | 0/5584 [00:00<?, ?it/s]"
      ]
     },
     "metadata": {},
     "output_type": "display_data"
    },
    {
     "data": {
      "application/vnd.jupyter.widget-view+json": {
       "model_id": "103d0ff423884287865d220eb5e57f6b",
       "version_major": 2,
       "version_minor": 0
      },
      "text/plain": [
       "harmonic_chromo_stats:   0%|          | 0/5584 [00:00<?, ?it/s]"
      ]
     },
     "metadata": {},
     "output_type": "display_data"
    },
    {
     "data": {
      "application/vnd.jupyter.widget-view+json": {
       "model_id": "4887853b981e4b09a126ec582a813fee",
       "version_major": 2,
       "version_minor": 0
      },
      "text/plain": [
       "percussive_chromo_stats:   0%|          | 0/5584 [00:00<?, ?it/s]"
      ]
     },
     "metadata": {},
     "output_type": "display_data"
    },
    {
     "data": {
      "application/vnd.jupyter.widget-view+json": {
       "model_id": "1507e9c3f42440b78b7ad61898d3173e",
       "version_major": 2,
       "version_minor": 0
      },
      "text/plain": [
       "percussive_beat_frames:   0%|          | 0/5584 [00:00<?, ?it/s]"
      ]
     },
     "metadata": {},
     "output_type": "display_data"
    },
    {
     "data": {
      "application/vnd.jupyter.widget-view+json": {
       "model_id": "1696838e84cb4f438d9511c30c1bead3",
       "version_major": 2,
       "version_minor": 0
      },
      "text/plain": [
       "cqt_chromo_stats:   0%|          | 0/2384 [00:00<?, ?it/s]"
      ]
     },
     "metadata": {},
     "output_type": "display_data"
    },
    {
     "data": {
      "application/vnd.jupyter.widget-view+json": {
       "model_id": "9602e9aab82f48f3afa2b052372ef7d1",
       "version_major": 2,
       "version_minor": 0
      },
      "text/plain": [
       "harmonic_chromo_stats:   0%|          | 0/2384 [00:00<?, ?it/s]"
      ]
     },
     "metadata": {},
     "output_type": "display_data"
    },
    {
     "data": {
      "application/vnd.jupyter.widget-view+json": {
       "model_id": "2b5c817317b342119cc6d41fe0ec532f",
       "version_major": 2,
       "version_minor": 0
      },
      "text/plain": [
       "percussive_chromo_stats:   0%|          | 0/2384 [00:00<?, ?it/s]"
      ]
     },
     "metadata": {},
     "output_type": "display_data"
    },
    {
     "data": {
      "application/vnd.jupyter.widget-view+json": {
       "model_id": "78c754e76b82495ca9a3dac0541b628f",
       "version_major": 2,
       "version_minor": 0
      },
      "text/plain": [
       "percussive_beat_frames:   0%|          | 0/2384 [00:00<?, ?it/s]"
      ]
     },
     "metadata": {},
     "output_type": "display_data"
    }
   ],
   "source": [
    "E_train.soft_extract()\n",
    "E_eval.soft_extract()"
   ]
  },
  {
   "cell_type": "code",
   "execution_count": 28,
   "id": "644ef256-d4d3-4790-ba47-cfe7e1d61b9d",
   "metadata": {},
   "outputs": [
    {
     "data": {
      "application/vnd.jupyter.widget-view+json": {
       "model_id": "f7468a51134847099abe18ce4594cecd",
       "version_major": 2,
       "version_minor": 0
      },
      "text/plain": [
       "MetricVisualizer(layout=Layout(align_self='stretch', height='500px'))"
      ]
     },
     "metadata": {},
     "output_type": "display_data"
    },
    {
     "name": "stdout",
     "output_type": "stream",
     "text": [
      "0:\tlearn: 0.2936963\ttest: 0.3099832\tbest: 0.3099832 (0)\ttotal: 81.8ms\tremaining: 40.8s\n",
      "50:\tlearn: 0.6928725\ttest: 0.5801174\tbest: 0.5801174 (50)\ttotal: 1.64s\tremaining: 14.5s\n",
      "100:\tlearn: 0.7981734\ttest: 0.6212248\tbest: 0.6312919 (85)\ttotal: 3.02s\tremaining: 11.9s\n",
      "150:\tlearn: 0.8635387\ttest: 0.6526846\tbest: 0.6552013 (144)\ttotal: 4.46s\tremaining: 10.3s\n",
      "200:\tlearn: 0.9007880\ttest: 0.6694631\tbest: 0.6736577 (193)\ttotal: 5.82s\tremaining: 8.66s\n",
      "250:\tlearn: 0.9319484\ttest: 0.6799497\tbest: 0.6824664 (228)\ttotal: 7.17s\tremaining: 7.12s\n",
      "300:\tlearn: 0.9555874\ttest: 0.6950503\tbest: 0.6954698 (293)\ttotal: 8.56s\tremaining: 5.66s\n",
      "350:\tlearn: 0.9720630\ttest: 0.7021812\tbest: 0.7055369 (345)\ttotal: 10.1s\tremaining: 4.28s\n",
      "400:\tlearn: 0.9794054\ttest: 0.7046980\tbest: 0.7118289 (356)\ttotal: 11.4s\tremaining: 2.82s\n",
      "450:\tlearn: 0.9837034\ttest: 0.7118289\tbest: 0.7139262 (432)\ttotal: 12.8s\tremaining: 1.39s\n",
      "499:\tlearn: 0.9869269\ttest: 0.7118289\tbest: 0.7160235 (481)\ttotal: 14.1s\tremaining: 0us\n",
      "\n",
      "bestTest = 0.7160234899\n",
      "bestIteration = 481\n",
      "\n",
      "Shrink model to first 482 iterations.\n",
      "\n",
      "Classification Report:\n",
      "               precision    recall  f1-score   support\n",
      "\n",
      "       blues       0.85      0.57      0.68        30\n",
      "   classical       0.85      0.97      0.91        30\n",
      "     country       0.66      0.70      0.68        30\n",
      "       disco       0.79      0.63      0.70        30\n",
      "      hiphop       0.73      0.80      0.76        30\n",
      "        jazz       0.79      0.87      0.83        30\n",
      "       metal       0.87      0.69      0.77        29\n",
      "         pop       0.57      0.67      0.62        30\n",
      "      reggae       0.73      0.76      0.75        29\n",
      "        rock       0.53      0.60      0.56        30\n",
      "\n",
      "    accuracy                           0.72       298\n",
      "   macro avg       0.74      0.72      0.72       298\n",
      "weighted avg       0.74      0.72      0.72       298\n",
      "\n",
      "Evaluation Accuracy: 0.7248\n"
     ]
    }
   ],
   "source": [
    "features = ['cqt_chromo_stats', 'harmonic_chromo_stats', 'percussive_chromo_stats', 'percussive_beat_frames']\n",
    "model, acc = train_and_evaluate_catboost(\n",
    "    idx_eval=E_eval.get_features(['s_idx'])[:,0],\n",
    "    X_train=E_train.get_features(features),\n",
    "    X_eval=E_eval.get_features(features),\n",
    "    y_train=E_train.get_features(['s_y'])[:,0], \n",
    "    y_eval=E_eval.get_features(['s_y'])[:,0]\n",
    ")"
   ]
  },
  {
   "cell_type": "code",
   "execution_count": 32,
   "id": "14c48a78-b01c-4aa6-835e-a98ab7cff752",
   "metadata": {},
   "outputs": [
    {
     "data": {
      "text/html": [
       "<div>\n",
       "<style scoped>\n",
       "    .dataframe tbody tr th:only-of-type {\n",
       "        vertical-align: middle;\n",
       "    }\n",
       "\n",
       "    .dataframe tbody tr th {\n",
       "        vertical-align: top;\n",
       "    }\n",
       "\n",
       "    .dataframe thead th {\n",
       "        text-align: right;\n",
       "    }\n",
       "</style>\n",
       "<table border=\"1\" class=\"dataframe\">\n",
       "  <thead>\n",
       "    <tr style=\"text-align: right;\">\n",
       "      <th></th>\n",
       "      <th>importance</th>\n",
       "    </tr>\n",
       "  </thead>\n",
       "  <tbody>\n",
       "    <tr>\n",
       "      <th>percussive_chromo_stats_103</th>\n",
       "      <td>1.710884</td>\n",
       "    </tr>\n",
       "    <tr>\n",
       "      <th>cqt_chromo_stats_92</th>\n",
       "      <td>1.696850</td>\n",
       "    </tr>\n",
       "    <tr>\n",
       "      <th>percussive_chromo_stats_101</th>\n",
       "      <td>1.496142</td>\n",
       "    </tr>\n",
       "    <tr>\n",
       "      <th>percussive_chromo_stats_92</th>\n",
       "      <td>1.476727</td>\n",
       "    </tr>\n",
       "    <tr>\n",
       "      <th>harmonic_chromo_stats_27</th>\n",
       "      <td>1.327228</td>\n",
       "    </tr>\n",
       "    <tr>\n",
       "      <th>percussive_chromo_stats_11</th>\n",
       "      <td>1.209907</td>\n",
       "    </tr>\n",
       "    <tr>\n",
       "      <th>percussive_chromo_stats_96</th>\n",
       "      <td>1.146302</td>\n",
       "    </tr>\n",
       "    <tr>\n",
       "      <th>percussive_chromo_stats_20</th>\n",
       "      <td>1.096727</td>\n",
       "    </tr>\n",
       "    <tr>\n",
       "      <th>harmonic_chromo_stats_74</th>\n",
       "      <td>1.079532</td>\n",
       "    </tr>\n",
       "    <tr>\n",
       "      <th>percussive_chromo_stats_107</th>\n",
       "      <td>1.017329</td>\n",
       "    </tr>\n",
       "    <tr>\n",
       "      <th>harmonic_chromo_stats_76</th>\n",
       "      <td>1.016026</td>\n",
       "    </tr>\n",
       "    <tr>\n",
       "      <th>percussive_beat_frames_0</th>\n",
       "      <td>0.962058</td>\n",
       "    </tr>\n",
       "    <tr>\n",
       "      <th>harmonic_chromo_stats_132</th>\n",
       "      <td>0.894790</td>\n",
       "    </tr>\n",
       "    <tr>\n",
       "      <th>percussive_chromo_stats_12</th>\n",
       "      <td>0.870093</td>\n",
       "    </tr>\n",
       "    <tr>\n",
       "      <th>percussive_chromo_stats_16</th>\n",
       "      <td>0.857048</td>\n",
       "    </tr>\n",
       "  </tbody>\n",
       "</table>\n",
       "</div>"
      ],
      "text/plain": [
       "                             importance\n",
       "percussive_chromo_stats_103    1.710884\n",
       "cqt_chromo_stats_92            1.696850\n",
       "percussive_chromo_stats_101    1.496142\n",
       "percussive_chromo_stats_92     1.476727\n",
       "harmonic_chromo_stats_27       1.327228\n",
       "percussive_chromo_stats_11     1.209907\n",
       "percussive_chromo_stats_96     1.146302\n",
       "percussive_chromo_stats_20     1.096727\n",
       "harmonic_chromo_stats_74       1.079532\n",
       "percussive_chromo_stats_107    1.017329\n",
       "harmonic_chromo_stats_76       1.016026\n",
       "percussive_beat_frames_0       0.962058\n",
       "harmonic_chromo_stats_132      0.894790\n",
       "percussive_chromo_stats_12     0.870093\n",
       "percussive_chromo_stats_16     0.857048"
      ]
     },
     "execution_count": 32,
     "metadata": {},
     "output_type": "execute_result"
    }
   ],
   "source": [
    "pd.DataFrame(\n",
    "    data=model.feature_importances_, \n",
    "    index=E_train.get_feature_names_vector(features), \n",
    "    columns=['importance']\n",
    ").sort_values(by='importance', ascending=False).head(15)"
   ]
  },
  {
   "cell_type": "code",
   "execution_count": 46,
   "id": "02bb29bb-9873-4ce1-a9ee-0fd7c07d9bf5",
   "metadata": {},
   "outputs": [
    {
     "data": {
      "image/png": "[encoded data removed]",
      "text/plain": [
       "<Figure size 1000x1000 with 9 Axes>"
      ]
     },
     "metadata": {},
     "output_type": "display_data"
    }
   ],
   "source": [
    "# It looks like the most important features are high frequencies of drums, which is the last thing I expected. Lets check pictures:\n",
    "s_y = E_train.get_features(['s_y'])[:, 0]\n",
    "jazz_idx = np.where(s_y == 'jazz')[0][:3]\n",
    "rock_idx = np.where(s_y == 'rock')[0][:3]\n",
    "hip_hop_idx = np.where(s_y == 'hiphop')[0][:3]\n",
    "\n",
    "plt.figure().set_size_inches(10, 10)\n",
    "for pos, idx in enumerate(np.hstack([jazz_idx, rock_idx, hip_hop_idx])):\n",
    "    plt.subplot(3, 3, pos + 1)\n",
    "    plt.plot(E_train.features['percussive_chromo_stats'][idx])"
   ]
  },
  {
   "cell_type": "code",
   "execution_count": null,
   "id": "cc85719d-ff24-45e1-b0d1-9b12f1970add",
   "metadata": {},
   "outputs": [],
   "source": []
  }
 ],
 "metadata": {
  "kernelspec": {
   "display_name": "Python 3 (ipykernel)",
   "language": "python",
   "name": "python3"
  },
  "language_info": {
   "codemirror_mode": {
    "name": "ipython",
    "version": 3
   },
   "file_extension": ".py",
   "mimetype": "text/x-python",
   "name": "python",
   "nbconvert_exporter": "python",
   "pygments_lexer": "ipython3",
   "version": "3.12.8"
  }
 },
 "nbformat": 4,
 "nbformat_minor": 5
}
