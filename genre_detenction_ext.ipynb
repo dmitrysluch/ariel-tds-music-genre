{
 "cells": [
  {
   "cell_type": "code",
   "execution_count": 1,
   "id": "3L9n7NAqJc45",
   "metadata": {
    "colab": {
     "base_uri": "https://localhost:8080/"
    },
    "id": "3L9n7NAqJc45",
    "outputId": "cef5dd02-f0d7-4a9b-e89a-0c38335ebf36"
   },
   "outputs": [],
   "source": [
    "# !pip install catboost librosa resampy soundfile tqdm kagglehub optuna optuna-dashboard"
   ]
  },
  {
   "cell_type": "code",
   "execution_count": 2,
   "id": "0SrqVUDGKFNb",
   "metadata": {
    "colab": {
     "base_uri": "https://localhost:8080/"
    },
    "id": "0SrqVUDGKFNb",
    "outputId": "5fdbb3df-c07b-4e24-fce0-5b8aa7bd61c7"
   },
   "outputs": [],
   "source": [
    "# import kagglehub\n",
    "\n",
    "# # Download latest version\n",
    "# path = kagglehub.dataset_download(\"andradaolteanu/gtzan-dataset-music-genre-classification\")\n",
    "\n",
    "# print(\"Path to dataset files:\", path)\n",
    "# !cp -rf {path} ./dataset"
   ]
  },
  {
   "cell_type": "code",
   "execution_count": 3,
   "id": "4ec4f216-efdb-4e99-aec2-b26667fa71ba",
   "metadata": {
    "id": "4ec4f216-efdb-4e99-aec2-b26667fa71ba"
   },
   "outputs": [],
   "source": [
    "import pandas as pd\n",
    "import numpy as np\n",
    "from model import *\n",
    "from dagxtractor import DAGXtractor, mapper, flat_mapper"
   ]
  },
  {
   "cell_type": "code",
   "execution_count": 4,
   "id": "5512d565-1366-47d5-8b87-efda54317286",
   "metadata": {
    "colab": {
     "base_uri": "https://localhost:8080/",
     "height": 444
    },
    "id": "5512d565-1366-47d5-8b87-efda54317286",
    "outputId": "5cb7cd98-a336-4843-e235-e7f2d4d38e01"
   },
   "outputs": [
    {
     "data": {
      "text/html": [
       "<div>\n",
       "<style scoped>\n",
       "    .dataframe tbody tr th:only-of-type {\n",
       "        vertical-align: middle;\n",
       "    }\n",
       "\n",
       "    .dataframe tbody tr th {\n",
       "        vertical-align: top;\n",
       "    }\n",
       "\n",
       "    .dataframe thead th {\n",
       "        text-align: right;\n",
       "    }\n",
       "</style>\n",
       "<table border=\"1\" class=\"dataframe\">\n",
       "  <thead>\n",
       "    <tr style=\"text-align: right;\">\n",
       "      <th></th>\n",
       "      <th>filename</th>\n",
       "      <th>length</th>\n",
       "      <th>chroma_stft_mean</th>\n",
       "      <th>chroma_stft_var</th>\n",
       "      <th>rms_mean</th>\n",
       "      <th>rms_var</th>\n",
       "      <th>spectral_centroid_mean</th>\n",
       "      <th>spectral_centroid_var</th>\n",
       "      <th>spectral_bandwidth_mean</th>\n",
       "      <th>spectral_bandwidth_var</th>\n",
       "      <th>...</th>\n",
       "      <th>mfcc16_var</th>\n",
       "      <th>mfcc17_mean</th>\n",
       "      <th>mfcc17_var</th>\n",
       "      <th>mfcc18_mean</th>\n",
       "      <th>mfcc18_var</th>\n",
       "      <th>mfcc19_mean</th>\n",
       "      <th>mfcc19_var</th>\n",
       "      <th>mfcc20_mean</th>\n",
       "      <th>mfcc20_var</th>\n",
       "      <th>label</th>\n",
       "    </tr>\n",
       "  </thead>\n",
       "  <tbody>\n",
       "    <tr>\n",
       "      <th>0</th>\n",
       "      <td>blues.00000.wav</td>\n",
       "      <td>661794</td>\n",
       "      <td>0.350088</td>\n",
       "      <td>0.088757</td>\n",
       "      <td>0.130228</td>\n",
       "      <td>0.002827</td>\n",
       "      <td>1784.165850</td>\n",
       "      <td>129774.064525</td>\n",
       "      <td>2002.449060</td>\n",
       "      <td>85882.761315</td>\n",
       "      <td>...</td>\n",
       "      <td>52.420910</td>\n",
       "      <td>-1.690215</td>\n",
       "      <td>36.524071</td>\n",
       "      <td>-0.408979</td>\n",
       "      <td>41.597103</td>\n",
       "      <td>-2.303523</td>\n",
       "      <td>55.062923</td>\n",
       "      <td>1.221291</td>\n",
       "      <td>46.936035</td>\n",
       "      <td>blues</td>\n",
       "    </tr>\n",
       "    <tr>\n",
       "      <th>1</th>\n",
       "      <td>blues.00001.wav</td>\n",
       "      <td>661794</td>\n",
       "      <td>0.340914</td>\n",
       "      <td>0.094980</td>\n",
       "      <td>0.095948</td>\n",
       "      <td>0.002373</td>\n",
       "      <td>1530.176679</td>\n",
       "      <td>375850.073649</td>\n",
       "      <td>2039.036516</td>\n",
       "      <td>213843.755497</td>\n",
       "      <td>...</td>\n",
       "      <td>55.356403</td>\n",
       "      <td>-0.731125</td>\n",
       "      <td>60.314529</td>\n",
       "      <td>0.295073</td>\n",
       "      <td>48.120598</td>\n",
       "      <td>-0.283518</td>\n",
       "      <td>51.106190</td>\n",
       "      <td>0.531217</td>\n",
       "      <td>45.786282</td>\n",
       "      <td>blues</td>\n",
       "    </tr>\n",
       "    <tr>\n",
       "      <th>2</th>\n",
       "      <td>blues.00002.wav</td>\n",
       "      <td>661794</td>\n",
       "      <td>0.363637</td>\n",
       "      <td>0.085275</td>\n",
       "      <td>0.175570</td>\n",
       "      <td>0.002746</td>\n",
       "      <td>1552.811865</td>\n",
       "      <td>156467.643368</td>\n",
       "      <td>1747.702312</td>\n",
       "      <td>76254.192257</td>\n",
       "      <td>...</td>\n",
       "      <td>40.598766</td>\n",
       "      <td>-7.729093</td>\n",
       "      <td>47.639427</td>\n",
       "      <td>-1.816407</td>\n",
       "      <td>52.382141</td>\n",
       "      <td>-3.439720</td>\n",
       "      <td>46.639660</td>\n",
       "      <td>-2.231258</td>\n",
       "      <td>30.573025</td>\n",
       "      <td>blues</td>\n",
       "    </tr>\n",
       "    <tr>\n",
       "      <th>3</th>\n",
       "      <td>blues.00003.wav</td>\n",
       "      <td>661794</td>\n",
       "      <td>0.404785</td>\n",
       "      <td>0.093999</td>\n",
       "      <td>0.141093</td>\n",
       "      <td>0.006346</td>\n",
       "      <td>1070.106615</td>\n",
       "      <td>184355.942417</td>\n",
       "      <td>1596.412872</td>\n",
       "      <td>166441.494769</td>\n",
       "      <td>...</td>\n",
       "      <td>44.427753</td>\n",
       "      <td>-3.319597</td>\n",
       "      <td>50.206673</td>\n",
       "      <td>0.636965</td>\n",
       "      <td>37.319130</td>\n",
       "      <td>-0.619121</td>\n",
       "      <td>37.259739</td>\n",
       "      <td>-3.407448</td>\n",
       "      <td>31.949339</td>\n",
       "      <td>blues</td>\n",
       "    </tr>\n",
       "    <tr>\n",
       "      <th>4</th>\n",
       "      <td>blues.00004.wav</td>\n",
       "      <td>661794</td>\n",
       "      <td>0.308526</td>\n",
       "      <td>0.087841</td>\n",
       "      <td>0.091529</td>\n",
       "      <td>0.002303</td>\n",
       "      <td>1835.004266</td>\n",
       "      <td>343399.939274</td>\n",
       "      <td>1748.172116</td>\n",
       "      <td>88445.209036</td>\n",
       "      <td>...</td>\n",
       "      <td>86.099236</td>\n",
       "      <td>-5.454034</td>\n",
       "      <td>75.269707</td>\n",
       "      <td>-0.916874</td>\n",
       "      <td>53.613918</td>\n",
       "      <td>-4.404827</td>\n",
       "      <td>62.910812</td>\n",
       "      <td>-11.703234</td>\n",
       "      <td>55.195160</td>\n",
       "      <td>blues</td>\n",
       "    </tr>\n",
       "    <tr>\n",
       "      <th>...</th>\n",
       "      <td>...</td>\n",
       "      <td>...</td>\n",
       "      <td>...</td>\n",
       "      <td>...</td>\n",
       "      <td>...</td>\n",
       "      <td>...</td>\n",
       "      <td>...</td>\n",
       "      <td>...</td>\n",
       "      <td>...</td>\n",
       "      <td>...</td>\n",
       "      <td>...</td>\n",
       "      <td>...</td>\n",
       "      <td>...</td>\n",
       "      <td>...</td>\n",
       "      <td>...</td>\n",
       "      <td>...</td>\n",
       "      <td>...</td>\n",
       "      <td>...</td>\n",
       "      <td>...</td>\n",
       "      <td>...</td>\n",
       "      <td>...</td>\n",
       "    </tr>\n",
       "    <tr>\n",
       "      <th>995</th>\n",
       "      <td>rock.00095.wav</td>\n",
       "      <td>661794</td>\n",
       "      <td>0.352063</td>\n",
       "      <td>0.080487</td>\n",
       "      <td>0.079486</td>\n",
       "      <td>0.000345</td>\n",
       "      <td>2008.149458</td>\n",
       "      <td>282174.689224</td>\n",
       "      <td>2106.541053</td>\n",
       "      <td>88609.749506</td>\n",
       "      <td>...</td>\n",
       "      <td>45.050526</td>\n",
       "      <td>-13.289984</td>\n",
       "      <td>41.754955</td>\n",
       "      <td>2.484145</td>\n",
       "      <td>36.778877</td>\n",
       "      <td>-6.713265</td>\n",
       "      <td>54.866825</td>\n",
       "      <td>-1.193787</td>\n",
       "      <td>49.950665</td>\n",
       "      <td>rock</td>\n",
       "    </tr>\n",
       "    <tr>\n",
       "      <th>996</th>\n",
       "      <td>rock.00096.wav</td>\n",
       "      <td>661794</td>\n",
       "      <td>0.398687</td>\n",
       "      <td>0.075086</td>\n",
       "      <td>0.076458</td>\n",
       "      <td>0.000588</td>\n",
       "      <td>2006.843354</td>\n",
       "      <td>182114.709510</td>\n",
       "      <td>2068.942009</td>\n",
       "      <td>82426.016726</td>\n",
       "      <td>...</td>\n",
       "      <td>33.851742</td>\n",
       "      <td>-10.848309</td>\n",
       "      <td>39.395096</td>\n",
       "      <td>1.881229</td>\n",
       "      <td>32.010040</td>\n",
       "      <td>-7.461491</td>\n",
       "      <td>39.196327</td>\n",
       "      <td>-2.795338</td>\n",
       "      <td>31.773624</td>\n",
       "      <td>rock</td>\n",
       "    </tr>\n",
       "    <tr>\n",
       "      <th>997</th>\n",
       "      <td>rock.00097.wav</td>\n",
       "      <td>661794</td>\n",
       "      <td>0.432142</td>\n",
       "      <td>0.075268</td>\n",
       "      <td>0.081651</td>\n",
       "      <td>0.000322</td>\n",
       "      <td>2077.526598</td>\n",
       "      <td>231657.968040</td>\n",
       "      <td>1927.293153</td>\n",
       "      <td>74717.124394</td>\n",
       "      <td>...</td>\n",
       "      <td>33.597008</td>\n",
       "      <td>-12.845291</td>\n",
       "      <td>36.367264</td>\n",
       "      <td>3.440978</td>\n",
       "      <td>36.001110</td>\n",
       "      <td>-12.588070</td>\n",
       "      <td>42.502201</td>\n",
       "      <td>-2.106337</td>\n",
       "      <td>29.865515</td>\n",
       "      <td>rock</td>\n",
       "    </tr>\n",
       "    <tr>\n",
       "      <th>998</th>\n",
       "      <td>rock.00098.wav</td>\n",
       "      <td>661794</td>\n",
       "      <td>0.362485</td>\n",
       "      <td>0.091506</td>\n",
       "      <td>0.083860</td>\n",
       "      <td>0.001211</td>\n",
       "      <td>1398.699344</td>\n",
       "      <td>240318.731073</td>\n",
       "      <td>1818.450280</td>\n",
       "      <td>109090.207161</td>\n",
       "      <td>...</td>\n",
       "      <td>46.324894</td>\n",
       "      <td>-4.416050</td>\n",
       "      <td>43.583942</td>\n",
       "      <td>1.556207</td>\n",
       "      <td>34.331261</td>\n",
       "      <td>-5.041897</td>\n",
       "      <td>47.227180</td>\n",
       "      <td>-3.590644</td>\n",
       "      <td>41.299088</td>\n",
       "      <td>rock</td>\n",
       "    </tr>\n",
       "    <tr>\n",
       "      <th>999</th>\n",
       "      <td>rock.00099.wav</td>\n",
       "      <td>661794</td>\n",
       "      <td>0.358401</td>\n",
       "      <td>0.085884</td>\n",
       "      <td>0.054454</td>\n",
       "      <td>0.000336</td>\n",
       "      <td>1609.795082</td>\n",
       "      <td>422203.216152</td>\n",
       "      <td>1797.213044</td>\n",
       "      <td>120115.632927</td>\n",
       "      <td>...</td>\n",
       "      <td>59.167755</td>\n",
       "      <td>-7.069775</td>\n",
       "      <td>73.760391</td>\n",
       "      <td>0.028346</td>\n",
       "      <td>76.504326</td>\n",
       "      <td>-2.025783</td>\n",
       "      <td>72.189316</td>\n",
       "      <td>1.155239</td>\n",
       "      <td>49.662510</td>\n",
       "      <td>rock</td>\n",
       "    </tr>\n",
       "  </tbody>\n",
       "</table>\n",
       "<p>1000 rows × 60 columns</p>\n",
       "</div>"
      ],
      "text/plain": [
       "            filename  length  chroma_stft_mean  chroma_stft_var  rms_mean  \\\n",
       "0    blues.00000.wav  661794          0.350088         0.088757  0.130228   \n",
       "1    blues.00001.wav  661794          0.340914         0.094980  0.095948   \n",
       "2    blues.00002.wav  661794          0.363637         0.085275  0.175570   \n",
       "3    blues.00003.wav  661794          0.404785         0.093999  0.141093   \n",
       "4    blues.00004.wav  661794          0.308526         0.087841  0.091529   \n",
       "..               ...     ...               ...              ...       ...   \n",
       "995   rock.00095.wav  661794          0.352063         0.080487  0.079486   \n",
       "996   rock.00096.wav  661794          0.398687         0.075086  0.076458   \n",
       "997   rock.00097.wav  661794          0.432142         0.075268  0.081651   \n",
       "998   rock.00098.wav  661794          0.362485         0.091506  0.083860   \n",
       "999   rock.00099.wav  661794          0.358401         0.085884  0.054454   \n",
       "\n",
       "      rms_var  spectral_centroid_mean  spectral_centroid_var  \\\n",
       "0    0.002827             1784.165850          129774.064525   \n",
       "1    0.002373             1530.176679          375850.073649   \n",
       "2    0.002746             1552.811865          156467.643368   \n",
       "3    0.006346             1070.106615          184355.942417   \n",
       "4    0.002303             1835.004266          343399.939274   \n",
       "..        ...                     ...                    ...   \n",
       "995  0.000345             2008.149458          282174.689224   \n",
       "996  0.000588             2006.843354          182114.709510   \n",
       "997  0.000322             2077.526598          231657.968040   \n",
       "998  0.001211             1398.699344          240318.731073   \n",
       "999  0.000336             1609.795082          422203.216152   \n",
       "\n",
       "     spectral_bandwidth_mean  spectral_bandwidth_var  ...  mfcc16_var  \\\n",
       "0                2002.449060            85882.761315  ...   52.420910   \n",
       "1                2039.036516           213843.755497  ...   55.356403   \n",
       "2                1747.702312            76254.192257  ...   40.598766   \n",
       "3                1596.412872           166441.494769  ...   44.427753   \n",
       "4                1748.172116            88445.209036  ...   86.099236   \n",
       "..                       ...                     ...  ...         ...   \n",
       "995              2106.541053            88609.749506  ...   45.050526   \n",
       "996              2068.942009            82426.016726  ...   33.851742   \n",
       "997              1927.293153            74717.124394  ...   33.597008   \n",
       "998              1818.450280           109090.207161  ...   46.324894   \n",
       "999              1797.213044           120115.632927  ...   59.167755   \n",
       "\n",
       "     mfcc17_mean  mfcc17_var  mfcc18_mean  mfcc18_var  mfcc19_mean  \\\n",
       "0      -1.690215   36.524071    -0.408979   41.597103    -2.303523   \n",
       "1      -0.731125   60.314529     0.295073   48.120598    -0.283518   \n",
       "2      -7.729093   47.639427    -1.816407   52.382141    -3.439720   \n",
       "3      -3.319597   50.206673     0.636965   37.319130    -0.619121   \n",
       "4      -5.454034   75.269707    -0.916874   53.613918    -4.404827   \n",
       "..           ...         ...          ...         ...          ...   \n",
       "995   -13.289984   41.754955     2.484145   36.778877    -6.713265   \n",
       "996   -10.848309   39.395096     1.881229   32.010040    -7.461491   \n",
       "997   -12.845291   36.367264     3.440978   36.001110   -12.588070   \n",
       "998    -4.416050   43.583942     1.556207   34.331261    -5.041897   \n",
       "999    -7.069775   73.760391     0.028346   76.504326    -2.025783   \n",
       "\n",
       "     mfcc19_var  mfcc20_mean  mfcc20_var  label  \n",
       "0     55.062923     1.221291   46.936035  blues  \n",
       "1     51.106190     0.531217   45.786282  blues  \n",
       "2     46.639660    -2.231258   30.573025  blues  \n",
       "3     37.259739    -3.407448   31.949339  blues  \n",
       "4     62.910812   -11.703234   55.195160  blues  \n",
       "..          ...          ...         ...    ...  \n",
       "995   54.866825    -1.193787   49.950665   rock  \n",
       "996   39.196327    -2.795338   31.773624   rock  \n",
       "997   42.502201    -2.106337   29.865515   rock  \n",
       "998   47.227180    -3.590644   41.299088   rock  \n",
       "999   72.189316     1.155239   49.662510   rock  \n",
       "\n",
       "[1000 rows x 60 columns]"
      ]
     },
     "execution_count": 4,
     "metadata": {},
     "output_type": "execute_result"
    }
   ],
   "source": [
    "import pandas as pd\n",
    "df = pd.read_csv(\"dataset/Data/features_30_sec.csv\")\n",
    "df"
   ]
  },
  {
   "cell_type": "code",
   "execution_count": 5,
   "id": "dbdeecea-5a6e-488b-89e2-4c9e4d7e472b",
   "metadata": {
    "id": "dbdeecea-5a6e-488b-89e2-4c9e4d7e472b"
   },
   "outputs": [],
   "source": [
    "from sklearn.model_selection import train_test_split\n",
    "\n",
    "# Define features and target\n",
    "X = df.drop(columns=['label'])  # Features: e.g., 'track' and 'statistics'\n",
    "y = df['label']  # Target: 'label'\n",
    "\n",
    "# Split the dataset while preserving class proportions\n",
    "X_train, X_eval, y_train, y_eval = train_test_split(\n",
    "    X, y,\n",
    "    test_size=0.2,  # 20% for testing\n",
    "    stratify=y,     # Preserve class proportions\n",
    "    random_state=42 # For reproducibility\n",
    ")"
   ]
  },
  {
   "cell_type": "code",
   "execution_count": 6,
   "id": "b3f52c4c-0f71-42f5-b0a3-20853d19f15c",
   "metadata": {
    "id": "b3f52c4c-0f71-42f5-b0a3-20853d19f15c"
   },
   "outputs": [],
   "source": [
    "# Drop corrupted sample\n",
    "idx = X_train.index[X_train[\"filename\"] == \"jazz.00054.wav\"]\n",
    "X_train = X_train.drop(index=idx)\n",
    "y_train = y_train.drop(index=idx)"
   ]
  },
  {
   "cell_type": "code",
   "execution_count": 7,
   "id": "5a94ba90-5c92-432a-9a7e-40ed4a617ebe",
   "metadata": {
    "colab": {
     "base_uri": "https://localhost:8080/"
    },
    "id": "5a94ba90-5c92-432a-9a7e-40ed4a617ebe",
    "outputId": "fd790ba8-5e9b-421e-88f7-8dc5ec568fbe"
   },
   "outputs": [
    {
     "name": "stdout",
     "output_type": "stream",
     "text": [
      "0:\tlearn: 0.2989045\ttotal: 63.6ms\tremaining: 31.7s\n",
      "100:\tlearn: 0.8247261\ttotal: 270ms\tremaining: 1.07s\n",
      "200:\tlearn: 0.9092332\ttotal: 476ms\tremaining: 708ms\n",
      "300:\tlearn: 0.9561815\ttotal: 694ms\tremaining: 459ms\n",
      "400:\tlearn: 0.9812207\ttotal: 900ms\tremaining: 222ms\n",
      "499:\tlearn: 0.9953052\ttotal: 1.1s\tremaining: 0us\n",
      "0:\tlearn: 0.3818466\ttotal: 4.29ms\tremaining: 2.14s\n",
      "100:\tlearn: 0.8356808\ttotal: 217ms\tremaining: 856ms\n",
      "200:\tlearn: 0.9107981\ttotal: 450ms\tremaining: 669ms\n",
      "300:\tlearn: 0.9655712\ttotal: 656ms\tremaining: 434ms\n",
      "400:\tlearn: 0.9859155\ttotal: 864ms\tremaining: 213ms\n",
      "499:\tlearn: 0.9921753\ttotal: 1.1s\tremaining: 0us\n",
      "0:\tlearn: 0.3302034\ttotal: 4.24ms\tremaining: 2.12s\n",
      "100:\tlearn: 0.8325509\ttotal: 241ms\tremaining: 951ms\n",
      "200:\tlearn: 0.9139280\ttotal: 463ms\tremaining: 689ms\n",
      "300:\tlearn: 0.9546166\ttotal: 702ms\tremaining: 464ms\n",
      "400:\tlearn: 0.9796557\ttotal: 954ms\tremaining: 235ms\n",
      "499:\tlearn: 0.9890454\ttotal: 1.17s\tremaining: 0us\n",
      "0:\tlearn: 0.3208138\ttotal: 4.48ms\tremaining: 2.24s\n",
      "100:\tlearn: 0.8435055\ttotal: 252ms\tremaining: 995ms\n",
      "200:\tlearn: 0.9170579\ttotal: 506ms\tremaining: 753ms\n",
      "300:\tlearn: 0.9608764\ttotal: 723ms\tremaining: 478ms\n",
      "400:\tlearn: 0.9827856\ttotal: 931ms\tremaining: 230ms\n",
      "499:\tlearn: 0.9921753\ttotal: 1.14s\tremaining: 0us\n",
      "0:\tlearn: 0.3828125\ttotal: 3.49ms\tremaining: 1.74s\n",
      "100:\tlearn: 0.8343750\ttotal: 208ms\tremaining: 823ms\n",
      "200:\tlearn: 0.9171875\ttotal: 411ms\tremaining: 612ms\n",
      "300:\tlearn: 0.9484375\ttotal: 614ms\tremaining: 406ms\n",
      "400:\tlearn: 0.9750000\ttotal: 816ms\tremaining: 202ms\n",
      "499:\tlearn: 0.9906250\ttotal: 1.01s\tremaining: 0us\n",
      "Mean Accuracy across 5 folds: 0.7321\n",
      "\n",
      "Classification Report (aggregated across folds):\n",
      "              precision    recall  f1-score   support\n",
      "\n",
      "       blues       0.73      0.76      0.75        80\n",
      "   classical       0.93      0.89      0.91        80\n",
      "     country       0.71      0.66      0.68        80\n",
      "       disco       0.58      0.65      0.62        80\n",
      "      hiphop       0.70      0.65      0.68        80\n",
      "        jazz       0.82      0.85      0.83        79\n",
      "       metal       0.84      0.86      0.85        80\n",
      "         pop       0.83      0.80      0.82        80\n",
      "      reggae       0.64      0.66      0.65        80\n",
      "        rock       0.55      0.54      0.54        80\n",
      "\n",
      "    accuracy                           0.73       799\n",
      "   macro avg       0.73      0.73      0.73       799\n",
      "weighted avg       0.73      0.73      0.73       799\n",
      "\n",
      "0:\tlearn: 0.3667084\ttotal: 3.46ms\tremaining: 1.73s\n",
      "100:\tlearn: 0.8072591\ttotal: 215ms\tremaining: 849ms\n",
      "200:\tlearn: 0.8811014\ttotal: 437ms\tremaining: 650ms\n",
      "300:\tlearn: 0.9299124\ttotal: 651ms\tremaining: 430ms\n",
      "400:\tlearn: 0.9612015\ttotal: 862ms\tremaining: 213ms\n",
      "499:\tlearn: 0.9787234\ttotal: 1.07s\tremaining: 0us\n"
     ]
    }
   ],
   "source": [
    "model, acc = train_and_evaluate_catboost(\n",
    "    X_train.drop(columns=[\"filename\", \"length\"]).to_numpy(),\n",
    "    y_train.to_numpy(),\n",
    ")"
   ]
  },
  {
   "cell_type": "code",
   "execution_count": 8,
   "id": "0310d7af-e347-4531-9b6b-7d8602f4a5f1",
   "metadata": {
    "id": "0310d7af-e347-4531-9b6b-7d8602f4a5f1"
   },
   "outputs": [],
   "source": [
    "import soundfile as sf\n",
    "import librosa\n",
    "import numpy as np\n",
    "import resampy"
   ]
  },
  {
   "cell_type": "code",
   "execution_count": 9,
   "id": "2382d02d-2083-411b-b427-95be5dde4b29",
   "metadata": {
    "id": "2382d02d-2083-411b-b427-95be5dde4b29"
   },
   "outputs": [],
   "source": [
    "sr = 22050\n",
    "hop_length = 512\n",
    "n_mfcc = 20\n",
    "n_mels = 128\n",
    "n_bins = 84\n",
    "bins_per_octave = 12\n",
    "fmin = librosa.note_to_hz(\"C1\")\n",
    "fmax = fmin * 2 ** 7\n",
    "n_fft=2048\n",
    "mel_proj = librosa.filters.mel(sr=sr, n_fft=n_fft, fmin=fmin, fmax=fmax)\n",
    "\n",
    "class Extractor(DAGXtractor):\n",
    "    @mapper(\"audio\")\n",
    "    def load_audio(x) -> [np.ndarray]:\n",
    "        file_path = f\"dataset/Data/genres_original/{x[0].split('.')[0]}/{x[0]}\"\n",
    "        y, sr = sf.read(file_path)\n",
    "        if len(y.shape) == 2:  # Convert stereo to mono\n",
    "            y = np.mean(y, dim=0)\n",
    "        if sr != 22050:\n",
    "            y = resample(y, sr, 22050)\n",
    "        return y[:660000].astype('float32') # Sizes of samples slightly differ\n",
    "    @mapper(\"stats\")\n",
    "    def stats(x):\n",
    "        return x[2:-1]\n",
    "    @mapper(\"labels\")\n",
    "    def labels(x):\n",
    "        return x[-1]\n",
    "    @mapper(\"rms\", batched=True)\n",
    "    def rms(audio):\n",
    "        return np.sqrt(np.mean(audio**2, axis=-1))\n",
    "    @mapper(\"complex_stft\", batched=False, uniform=True)\n",
    "    def complex_stft(audio):\n",
    "        return librosa.stft(audio, hop_length=hop_length, n_fft=n_fft)\n",
    "    @mapper(\"stft\", batched=True)\n",
    "    def stft(complex_stft):\n",
    "        return np.abs(complex_stft)\n",
    "    @mapper(\"complex_cqt\", batched=False, uniform=True)\n",
    "    def complex_cqt(audio):\n",
    "        return librosa.cqt(audio, sr=sr, hop_length=hop_length, fmin=fmin, bins_per_octave=bins_per_octave, n_bins=n_bins)\n",
    "    @mapper(\"cqt\", batched=True)\n",
    "    def cqt(complex_cqt):\n",
    "        return np.abs(complex_cqt)\n",
    "    @mapper(\"mel\", batched=False)\n",
    "    def mel(stft):\n",
    "        return librosa.power_to_db(np.einsum(\"ij,jk->ik\", mel_proj, stft**2, optimize=True))\n",
    "    @mapper(\"mfcc\", batched=True)\n",
    "    def mfcc(audio):\n",
    "        return librosa.feature.mfcc(y=audio, sr=sr, hop_length=hop_length, n_mfcc=n_mfcc)"
   ]
  },
  {
   "cell_type": "code",
   "execution_count": 10,
   "id": "0e2f0346-d7ec-4771-8efe-5a3fa3beaa0f",
   "metadata": {
    "colab": {
     "base_uri": "https://localhost:8080/"
    },
    "id": "0e2f0346-d7ec-4771-8efe-5a3fa3beaa0f",
    "outputId": "e715b65a-1373-47af-b980-28e9b6600ea2"
   },
   "outputs": [
    {
     "name": "stdout",
     "output_type": "stream",
     "text": [
      "Running extractor for features audio at 2025-02-12 23:57:58.613066\n",
      "Failed compiling function, will use plain python wrapper.\n"
     ]
    },
    {
     "data": {
      "application/vnd.jupyter.widget-view+json": {
       "model_id": "12d33f62cf9941a2a1030c413f0eb6cf",
       "version_major": 2,
       "version_minor": 0
      },
      "text/plain": [
       "  0%|          | 0/799 [00:00<?, ?it/s]"
      ]
     },
     "metadata": {},
     "output_type": "display_data"
    },
    {
     "name": "stdout",
     "output_type": "stream",
     "text": [
      "Done running extractor at 2025-02-12 23:58:01.506023 total running time 0:00:02.892957\n",
      "Running extractor for features complex_stft at 2025-02-12 23:58:01.506078\n",
      "Failed compiling function, will use plain python wrapper.\n"
     ]
    },
    {
     "data": {
      "application/vnd.jupyter.widget-view+json": {
       "model_id": "0389c29c4cb647f195b54eaf9fc36c13",
       "version_major": 2,
       "version_minor": 0
      },
      "text/plain": [
       "  0%|          | 0/799 [00:00<?, ?it/s]"
      ]
     },
     "metadata": {},
     "output_type": "display_data"
    },
    {
     "name": "stdout",
     "output_type": "stream",
     "text": [
      "Done running extractor at 2025-02-12 23:58:13.138223 total running time 0:00:11.632145\n",
      "Running extractor for features stft at 2025-02-12 23:58:13.138366\n"
     ]
    },
    {
     "data": {
      "application/vnd.jupyter.widget-view+json": {
       "model_id": "4434bb0403bb4e8cba5663fbaf3f6e31",
       "version_major": 2,
       "version_minor": 0
      },
      "text/plain": [
       "  0%|          | 0/799 [00:00<?, ?it/s]"
      ]
     },
     "metadata": {},
     "output_type": "display_data"
    },
    {
     "name": "stdout",
     "output_type": "stream",
     "text": [
      "Done running extractor at 2025-02-12 23:59:09.028830 total running time 0:00:55.890464\n",
      "Running extractor for features stats at 2025-02-12 23:59:09.029997\n",
      "Failed compiling function, will use plain python wrapper.\n"
     ]
    },
    {
     "data": {
      "application/vnd.jupyter.widget-view+json": {
       "model_id": "06abc4ff0a044782843b99053c0d7054",
       "version_major": 2,
       "version_minor": 0
      },
      "text/plain": [
       "  0%|          | 0/100 [00:00<?, ?it/s]"
      ]
     },
     "metadata": {},
     "output_type": "display_data"
    },
    {
     "name": "stdout",
     "output_type": "stream",
     "text": [
      "Done running extractor at 2025-02-12 23:59:09.091298 total running time 0:00:00.061301\n",
      "Running extractor for features mel at 2025-02-12 23:59:09.091535\n",
      "Failed compiling function, will use plain python wrapper.\n"
     ]
    },
    {
     "data": {
      "application/vnd.jupyter.widget-view+json": {
       "model_id": "a2295bdd8a7d4dcb96351cc837c46cea",
       "version_major": 2,
       "version_minor": 0
      },
      "text/plain": [
       "  0%|          | 0/799 [00:00<?, ?it/s]"
      ]
     },
     "metadata": {},
     "output_type": "display_data"
    },
    {
     "name": "stdout",
     "output_type": "stream",
     "text": [
      "Done running extractor at 2025-02-12 23:59:23.186478 total running time 0:00:14.094943\n",
      "Running extractor for features mfcc at 2025-02-12 23:59:23.186660\n"
     ]
    },
    {
     "data": {
      "application/vnd.jupyter.widget-view+json": {
       "model_id": "100b7c47f0c84614a563ea41cd602af8",
       "version_major": 2,
       "version_minor": 0
      },
      "text/plain": [
       "  0%|          | 0/799 [00:00<?, ?it/s]"
      ]
     },
     "metadata": {},
     "output_type": "display_data"
    },
    {
     "name": "stdout",
     "output_type": "stream",
     "text": [
      "Done running extractor at 2025-02-12 23:59:47.863963 total running time 0:00:24.677303\n",
      "Running extractor for features labels at 2025-02-12 23:59:47.864378\n",
      "Failed compiling function, will use plain python wrapper.\n"
     ]
    },
    {
     "data": {
      "application/vnd.jupyter.widget-view+json": {
       "model_id": "ddc14fe102f940c891082f9b98e951b5",
       "version_major": 2,
       "version_minor": 0
      },
      "text/plain": [
       "  0%|          | 0/100 [00:00<?, ?it/s]"
      ]
     },
     "metadata": {},
     "output_type": "display_data"
    },
    {
     "name": "stdout",
     "output_type": "stream",
     "text": [
      "Done running extractor at 2025-02-12 23:59:47.885123 total running time 0:00:00.020745\n",
      "Running extractor for features rms at 2025-02-12 23:59:47.885188\n"
     ]
    },
    {
     "data": {
      "application/vnd.jupyter.widget-view+json": {
       "model_id": "7a0373520f084dd683c2121cbfb3d861",
       "version_major": 2,
       "version_minor": 0
      },
      "text/plain": [
       "  0%|          | 0/799 [00:00<?, ?it/s]"
      ]
     },
     "metadata": {},
     "output_type": "display_data"
    },
    {
     "name": "stdout",
     "output_type": "stream",
     "text": [
      "Done running extractor at 2025-02-12 23:59:48.347661 total running time 0:00:00.462473\n",
      "Running extractor for features complex_cqt at 2025-02-12 23:59:48.347716\n",
      "Failed compiling function, will use plain python wrapper.\n"
     ]
    },
    {
     "data": {
      "application/vnd.jupyter.widget-view+json": {
       "model_id": "6395d6d457e643c49781eb2d1284700f",
       "version_major": 2,
       "version_minor": 0
      },
      "text/plain": [
       "  0%|          | 0/799 [00:00<?, ?it/s]"
      ]
     },
     "metadata": {},
     "output_type": "display_data"
    },
    {
     "name": "stdout",
     "output_type": "stream",
     "text": [
      "Done running extractor at 2025-02-13 00:00:06.948026 total running time 0:00:18.600310\n",
      "Running extractor for features cqt at 2025-02-13 00:00:06.948146\n"
     ]
    },
    {
     "data": {
      "application/vnd.jupyter.widget-view+json": {
       "model_id": "e4fc4c8523334111b57805e4610cc573",
       "version_major": 2,
       "version_minor": 0
      },
      "text/plain": [
       "  0%|          | 0/799 [00:00<?, ?it/s]"
      ]
     },
     "metadata": {},
     "output_type": "display_data"
    },
    {
     "name": "stdout",
     "output_type": "stream",
     "text": [
      "Done running extractor at 2025-02-13 00:00:08.823984 total running time 0:00:01.875838\n"
     ]
    }
   ],
   "source": [
    "E_train = Extractor(\n",
    "    x=np.hstack([X_train.to_numpy(), y_train.to_numpy().reshape(-1, 1)]),\n",
    ")\n",
    "E_eval = Extractor(\n",
    "    x=np.hstack([X_eval.to_numpy(), y_eval.to_numpy().reshape(-1, 1)])\n",
    ")\n",
    "E_train.full_extract()"
   ]
  },
  {
   "cell_type": "code",
   "execution_count": 11,
   "id": "f3d88988-ce55-4fc3-b181-2cfaeeaf274b",
   "metadata": {
    "id": "f3d88988-ce55-4fc3-b181-2cfaeeaf274b"
   },
   "outputs": [],
   "source": [
    "def bpm_beat(audio):\n",
    "    return librosa.beat.beat_track(y=audio, sr=sr, hop_length=hop_length)\n",
    "Extractor.register_mapper(['bpm', 'beat'], bpm_beat, uniform=False)\n",
    "# Extractor.register_mapper('bpm', lambda audio: librosa.beat.beat_track(y=audio, sr=sr, hop_length=hop_length)[0])"
   ]
  },
  {
   "cell_type": "code",
   "execution_count": 12,
   "id": "03c18183-5aca-49a8-b546-9b9e83311e4b",
   "metadata": {},
   "outputs": [
    {
     "name": "stdout",
     "output_type": "stream",
     "text": [
      "Running extractor for features bpm, beat at 2025-02-13 00:00:08.857112\n"
     ]
    },
    {
     "data": {
      "application/vnd.jupyter.widget-view+json": {
       "model_id": "aa5a7e7549b44c58ac91af871cf3d6ee",
       "version_major": 2,
       "version_minor": 0
      },
      "text/plain": [
       "  0%|          | 0/799 [00:00<?, ?it/s]"
      ]
     },
     "metadata": {},
     "output_type": "display_data"
    },
    {
     "name": "stdout",
     "output_type": "stream",
     "text": [
      "Done running extractor at 2025-02-13 00:00:46.115215 total running time 0:00:37.258103\n"
     ]
    }
   ],
   "source": [
    "E_train.soft_extract()"
   ]
  },
  {
   "cell_type": "code",
   "execution_count": 13,
   "id": "15027598-f607-4097-9312-a0ae8e42f768",
   "metadata": {
    "id": "15027598-f607-4097-9312-a0ae8e42f768"
   },
   "outputs": [],
   "source": [
    "def stft_hpss(complex_stft):\n",
    "    stft_harmonic, stft_percussive = librosa.decompose.hpss(complex_stft)\n",
    "    return np.abs(stft_harmonic), np.abs(stft_percussive)\n",
    "Extractor.register_mapper(['stft_harmonic', 'stft_percussive'], stft_hpss)"
   ]
  },
  {
   "cell_type": "code",
   "execution_count": 14,
   "id": "b6942a86-54e8-47fa-8d56-c73c2ca6d0ed",
   "metadata": {},
   "outputs": [
    {
     "name": "stdout",
     "output_type": "stream",
     "text": [
      "Running extractor for features stft_harmonic, stft_percussive at 2025-02-13 00:00:46.151040\n",
      "Failed compiling function, will use plain python wrapper, exception: can only concatenate list (not \"tuple\") to list\n"
     ]
    },
    {
     "data": {
      "application/vnd.jupyter.widget-view+json": {
       "model_id": "6799ecb8e7ec495fa4bdfd8143fb2689",
       "version_major": 2,
       "version_minor": 0
      },
      "text/plain": [
       "  0%|          | 0/799 [00:00<?, ?it/s]"
      ]
     },
     "metadata": {},
     "output_type": "display_data"
    },
    {
     "name": "stdout",
     "output_type": "stream",
     "text": [
      "Done running extractor at 2025-02-13 00:32:54.474896 total running time 0:32:08.323856\n"
     ]
    }
   ],
   "source": [
    "E_train.soft_extract()"
   ]
  },
  {
   "cell_type": "code",
   "execution_count": 15,
   "id": "KmeqUZckK-gZ",
   "metadata": {
    "id": "KmeqUZckK-gZ"
   },
   "outputs": [
    {
     "name": "stdout",
     "output_type": "stream",
     "text": [
      "Running extractor for features stft_harmonic_mean, stft_harmonic_var, stft_percussive_mean, stft_percussive_var, mel_harmonic, mel_percussive at 2025-02-13 00:32:54.562241\n",
      "Failed compiling function, will use plain python wrapper, exception: tuple index out of range\n"
     ]
    },
    {
     "data": {
      "application/vnd.jupyter.widget-view+json": {
       "model_id": "adde272ed249408a968ff43ad7141396",
       "version_major": 2,
       "version_minor": 0
      },
      "text/plain": [
       "  0%|          | 0/799 [00:00<?, ?it/s]"
      ]
     },
     "metadata": {},
     "output_type": "display_data"
    },
    {
     "name": "stdout",
     "output_type": "stream",
     "text": [
      "Done running extractor at 2025-02-13 00:33:54.920378 total running time 0:01:00.358137\n"
     ]
    }
   ],
   "source": [
    "# We do it in a single run, for optimization purposes\n",
    "def mel_hpss(stft_harmonic, stft_percussive):\n",
    "    return (\n",
    "        np.mean(stft_harmonic),\n",
    "        np.var(stft_harmonic),\n",
    "        np.mean(stft_percussive),\n",
    "        np.var(stft_percussive),\n",
    "        librosa.power_to_db(np.einsum(\"ij,jk->ik\", mel_proj, stft_harmonic**2, optimize=True)),\n",
    "        librosa.power_to_db(np.einsum(\"ij,jk->ik\", mel_proj, stft_percussive**2, optimize=True)),\n",
    "    )\n",
    "\n",
    "Extractor.register_mapper(['stft_harmonic_mean', 'stft_harmonic_var', 'stft_percussive_mean', 'stft_percussive_var', 'mel_harmonic', 'mel_percussive'], mel_hpss)\n",
    "E_train.soft_extract()"
   ]
  },
  {
   "cell_type": "code",
   "execution_count": 16,
   "id": "1476f645-8857-45c2-9600-a472f649171a",
   "metadata": {
    "colab": {
     "base_uri": "https://localhost:8080/"
    },
    "id": "1476f645-8857-45c2-9600-a472f649171a",
    "outputId": "3cbff788-4e92-4263-84af-5512613fd8a6"
   },
   "outputs": [],
   "source": [
    "Extractor.register_mapper(['cqt_harmonic', 'cqt_percussive'], lambda cqt: librosa.decompose.hpss(cqt))\n"
   ]
  },
  {
   "cell_type": "code",
   "execution_count": 17,
   "id": "204c583a-a5b2-48f4-b921-6a50c16e2d6f",
   "metadata": {},
   "outputs": [
    {
     "name": "stdout",
     "output_type": "stream",
     "text": [
      "Running extractor for features cqt_harmonic, cqt_percussive at 2025-02-13 00:33:54.957026\n",
      "Failed compiling function, will use plain python wrapper, exception: can only concatenate list (not \"tuple\") to list\n"
     ]
    },
    {
     "data": {
      "application/vnd.jupyter.widget-view+json": {
       "model_id": "0806093c04734d78beeb2093e32f5e5b",
       "version_major": 2,
       "version_minor": 0
      },
      "text/plain": [
       "  0%|          | 0/799 [00:00<?, ?it/s]"
      ]
     },
     "metadata": {},
     "output_type": "display_data"
    },
    {
     "name": "stdout",
     "output_type": "stream",
     "text": [
      "Done running extractor at 2025-02-13 00:35:01.288921 total running time 0:01:06.331895\n"
     ]
    }
   ],
   "source": [
    "E_train.soft_extract()"
   ]
  },
  {
   "cell_type": "code",
   "execution_count": 18,
   "id": "9c6a1c71-753e-4ed1-8d2d-5695c663b607",
   "metadata": {
    "id": "9c6a1c71-753e-4ed1-8d2d-5695c663b607"
   },
   "outputs": [
    {
     "data": {
      "text/plain": [
       "(0.0, 30.0)"
      ]
     },
     "execution_count": 18,
     "metadata": {},
     "output_type": "execute_result"
    },
    {
     "data": {
      "image/png": "[encoded data removed]",
      "text/plain": [
       "<Figure size 640x480 with 1 Axes>"
      ]
     },
     "metadata": {},
     "output_type": "display_data"
    }
   ],
   "source": [
    "import matplotlib.pyplot as plt\n",
    "plt.pcolor(next(iter(E_train.features['cqt_percussive']))[0])\n",
    "plt.vlines(next(iter(E_train.features['beat']))[0], 10, 30)\n",
    "plt.xlim(0, 400)\n",
    "plt.ylim(0, 30)"
   ]
  },
  {
   "cell_type": "markdown",
   "id": "adbb93dd-eb48-4dd8-b26d-d8a65a799cc5",
   "metadata": {
    "id": "adbb93dd-eb48-4dd8-b26d-d8a65a799cc5"
   },
   "source": [
    "Now lets calculate some basic statistics"
   ]
  },
  {
   "cell_type": "code",
   "execution_count": 19,
   "id": "25e49140-a2e1-4036-8ded-258b54d5fe6f",
   "metadata": {
    "id": "25e49140-a2e1-4036-8ded-258b54d5fe6f"
   },
   "outputs": [],
   "source": [
    "Extractor.register_mapper('cqt_mean', lambda cqt: cqt.mean())\n",
    "Extractor.register_mapper('cqt_var', lambda cqt: cqt.var())\n",
    "Extractor.register_mapper('cqt_freq_mean', lambda cqt: cqt.mean(axis=1))\n",
    "Extractor.register_mapper('cqt_freq_var', lambda cqt: cqt.var(axis=1))\n",
    "Extractor.register_mapper('cqt_harmonic_mean', lambda cqt_harmonic: cqt_harmonic.mean())\n",
    "Extractor.register_mapper('cqt_harmonic_var', lambda cqt_harmonic: cqt_harmonic.var())\n",
    "Extractor.register_mapper('cqt_harmonic_freq_mean', lambda cqt_harmonic: cqt_harmonic.mean(axis=1))\n",
    "Extractor.register_mapper('cqt_harmonic_freq_var', lambda cqt_harmonic: cqt_harmonic.var(axis=1))\n",
    "Extractor.register_mapper('cqt_percussive_mean', lambda cqt_percussive: cqt_percussive.mean())\n",
    "Extractor.register_mapper('cqt_percussive_var', lambda cqt_percussive: cqt_percussive.var())\n",
    "Extractor.register_mapper('cqt_percussive_freq_mean', lambda cqt_percussive: cqt_percussive.mean(axis=1))\n",
    "Extractor.register_mapper('cqt_percussive_freq_var', lambda cqt_percussive: cqt_percussive.var(axis=1))\n",
    "\n",
    "# STFT has large resolution (1024 bins per frame),\n",
    "# yet it is not aligned with how we hear, and lower then CQT for low frequencies.\n",
    "# So we will project it in MEL bins.\n",
    "Extractor.register_mapper('stft_mean', lambda stft: stft.mean(axis=1))\n",
    "Extractor.register_mapper('stft_var', lambda stft: stft.var(axis=1))\n",
    "Extractor.register_mapper('mel_freq_mean', lambda mel: mel.mean(axis=1))\n",
    "Extractor.register_mapper('mel_freq_var', lambda mel: mel.var(axis=1))\n",
    "Extractor.register_mapper('mel_harmonic_freq_mean', lambda mel_harmonic: mel_harmonic.mean(axis=1))\n",
    "Extractor.register_mapper('mel_harmonic_freq_var', lambda mel_harmonic: mel_harmonic.var(axis=1))\n",
    "Extractor.register_mapper('mel_percussive_freq_mean', lambda mel_percussive: mel_percussive.mean(axis=1))\n",
    "Extractor.register_mapper('mel_percussive_freq_var', lambda mel_percussive: mel_percussive.var(axis=1))"
   ]
  },
  {
   "cell_type": "code",
   "execution_count": 20,
   "id": "9f567244-757f-4a77-ba01-8a2b9006e470",
   "metadata": {
    "id": "9f567244-757f-4a77-ba01-8a2b9006e470"
   },
   "outputs": [
    {
     "name": "stdout",
     "output_type": "stream",
     "text": [
      "Running extractor for features mel_freq_mean at 2025-02-13 00:35:02.986491\n",
      "Failed compiling function, will use plain python wrapper.\n"
     ]
    },
    {
     "data": {
      "application/vnd.jupyter.widget-view+json": {
       "model_id": "cf2136a4efc844bfb6580ec11f63303c",
       "version_major": 2,
       "version_minor": 0
      },
      "text/plain": [
       "  0%|          | 0/799 [00:00<?, ?it/s]"
      ]
     },
     "metadata": {},
     "output_type": "display_data"
    },
    {
     "name": "stdout",
     "output_type": "stream",
     "text": [
      "Done running extractor at 2025-02-13 00:35:06.559308 total running time 0:00:03.572817\n",
      "Running extractor for features cqt_freq_var at 2025-02-13 00:35:06.559343\n",
      "Failed compiling function, will use plain python wrapper.\n"
     ]
    },
    {
     "data": {
      "application/vnd.jupyter.widget-view+json": {
       "model_id": "c7cfe71ede10494a90f7ee320c53becb",
       "version_major": 2,
       "version_minor": 0
      },
      "text/plain": [
       "  0%|          | 0/799 [00:00<?, ?it/s]"
      ]
     },
     "metadata": {},
     "output_type": "display_data"
    },
    {
     "name": "stdout",
     "output_type": "stream",
     "text": [
      "Done running extractor at 2025-02-13 00:35:06.757136 total running time 0:00:00.197793\n",
      "Running extractor for features cqt_harmonic_mean at 2025-02-13 00:35:06.757168\n",
      "Failed compiling function, will use plain python wrapper.\n"
     ]
    },
    {
     "data": {
      "application/vnd.jupyter.widget-view+json": {
       "model_id": "4c3577b36bbd4c7eb9f844117ef15306",
       "version_major": 2,
       "version_minor": 0
      },
      "text/plain": [
       "  0%|          | 0/799 [00:00<?, ?it/s]"
      ]
     },
     "metadata": {},
     "output_type": "display_data"
    },
    {
     "name": "stdout",
     "output_type": "stream",
     "text": [
      "Done running extractor at 2025-02-13 00:35:06.873645 total running time 0:00:00.116477\n",
      "Running extractor for features cqt_var at 2025-02-13 00:35:06.873677\n",
      "Failed compiling function, will use plain python wrapper.\n"
     ]
    },
    {
     "data": {
      "application/vnd.jupyter.widget-view+json": {
       "model_id": "fbe7568dce1d46fcbfab0ad000ea7fa9",
       "version_major": 2,
       "version_minor": 0
      },
      "text/plain": [
       "  0%|          | 0/799 [00:00<?, ?it/s]"
      ]
     },
     "metadata": {},
     "output_type": "display_data"
    },
    {
     "name": "stdout",
     "output_type": "stream",
     "text": [
      "Done running extractor at 2025-02-13 00:35:07.040649 total running time 0:00:00.166972\n",
      "Running extractor for features cqt_harmonic_freq_mean at 2025-02-13 00:35:07.040681\n",
      "Failed compiling function, will use plain python wrapper.\n"
     ]
    },
    {
     "data": {
      "application/vnd.jupyter.widget-view+json": {
       "model_id": "41adf7d9fa7948058c864884aaa62e1b",
       "version_major": 2,
       "version_minor": 0
      },
      "text/plain": [
       "  0%|          | 0/799 [00:00<?, ?it/s]"
      ]
     },
     "metadata": {},
     "output_type": "display_data"
    },
    {
     "name": "stdout",
     "output_type": "stream",
     "text": [
      "Done running extractor at 2025-02-13 00:35:07.186514 total running time 0:00:00.145833\n",
      "Running extractor for features mel_percussive_freq_var at 2025-02-13 00:35:07.186545\n",
      "Failed compiling function, will use plain python wrapper.\n"
     ]
    },
    {
     "data": {
      "application/vnd.jupyter.widget-view+json": {
       "model_id": "025b2bedfcde4c849a6277dcd0d62b36",
       "version_major": 2,
       "version_minor": 0
      },
      "text/plain": [
       "  0%|          | 0/799 [00:00<?, ?it/s]"
      ]
     },
     "metadata": {},
     "output_type": "display_data"
    },
    {
     "name": "stdout",
     "output_type": "stream",
     "text": [
      "Done running extractor at 2025-02-13 00:35:07.621182 total running time 0:00:00.434637\n",
      "Running extractor for features cqt_freq_mean at 2025-02-13 00:35:07.621216\n",
      "Failed compiling function, will use plain python wrapper.\n"
     ]
    },
    {
     "data": {
      "application/vnd.jupyter.widget-view+json": {
       "model_id": "c1305c6d829e4f1f8dacc4e4bb902b96",
       "version_major": 2,
       "version_minor": 0
      },
      "text/plain": [
       "  0%|          | 0/799 [00:00<?, ?it/s]"
      ]
     },
     "metadata": {},
     "output_type": "display_data"
    },
    {
     "name": "stdout",
     "output_type": "stream",
     "text": [
      "Done running extractor at 2025-02-13 00:35:07.754682 total running time 0:00:00.133466\n",
      "Running extractor for features cqt_percussive_freq_var at 2025-02-13 00:35:07.754716\n",
      "Failed compiling function, will use plain python wrapper.\n"
     ]
    },
    {
     "data": {
      "application/vnd.jupyter.widget-view+json": {
       "model_id": "98d9d1544c3b44e3bccda40f66ff0d3d",
       "version_major": 2,
       "version_minor": 0
      },
      "text/plain": [
       "  0%|          | 0/799 [00:00<?, ?it/s]"
      ]
     },
     "metadata": {},
     "output_type": "display_data"
    },
    {
     "name": "stdout",
     "output_type": "stream",
     "text": [
      "Done running extractor at 2025-02-13 00:35:07.915161 total running time 0:00:00.160445\n",
      "Running extractor for features cqt_mean at 2025-02-13 00:35:07.915218\n",
      "Failed compiling function, will use plain python wrapper.\n"
     ]
    },
    {
     "data": {
      "application/vnd.jupyter.widget-view+json": {
       "model_id": "3952904b0b5c411cbed4e147ecd1f03b",
       "version_major": 2,
       "version_minor": 0
      },
      "text/plain": [
       "  0%|          | 0/799 [00:00<?, ?it/s]"
      ]
     },
     "metadata": {},
     "output_type": "display_data"
    },
    {
     "name": "stdout",
     "output_type": "stream",
     "text": [
      "Done running extractor at 2025-02-13 00:35:08.058879 total running time 0:00:00.143661\n",
      "Running extractor for features cqt_percussive_var at 2025-02-13 00:35:08.058911\n",
      "Failed compiling function, will use plain python wrapper.\n"
     ]
    },
    {
     "data": {
      "application/vnd.jupyter.widget-view+json": {
       "model_id": "78abf6daaef14b1e9ab40b595739e719",
       "version_major": 2,
       "version_minor": 0
      },
      "text/plain": [
       "  0%|          | 0/799 [00:00<?, ?it/s]"
      ]
     },
     "metadata": {},
     "output_type": "display_data"
    },
    {
     "name": "stdout",
     "output_type": "stream",
     "text": [
      "Done running extractor at 2025-02-13 00:35:08.239342 total running time 0:00:00.180431\n",
      "Running extractor for features cqt_percussive_mean at 2025-02-13 00:35:08.239376\n",
      "Failed compiling function, will use plain python wrapper.\n"
     ]
    },
    {
     "data": {
      "application/vnd.jupyter.widget-view+json": {
       "model_id": "1025d73135734687bbc8adf1c80bc004",
       "version_major": 2,
       "version_minor": 0
      },
      "text/plain": [
       "  0%|          | 0/799 [00:00<?, ?it/s]"
      ]
     },
     "metadata": {},
     "output_type": "display_data"
    },
    {
     "name": "stdout",
     "output_type": "stream",
     "text": [
      "Done running extractor at 2025-02-13 00:35:08.401646 total running time 0:00:00.162270\n",
      "Running extractor for features cqt_percussive_freq_mean at 2025-02-13 00:35:08.401678\n",
      "Failed compiling function, will use plain python wrapper.\n"
     ]
    },
    {
     "data": {
      "application/vnd.jupyter.widget-view+json": {
       "model_id": "9c62ddc2a61e4eecb0fb95f4139e05b1",
       "version_major": 2,
       "version_minor": 0
      },
      "text/plain": [
       "  0%|          | 0/799 [00:00<?, ?it/s]"
      ]
     },
     "metadata": {},
     "output_type": "display_data"
    },
    {
     "name": "stdout",
     "output_type": "stream",
     "text": [
      "Done running extractor at 2025-02-13 00:35:08.576774 total running time 0:00:00.175096\n",
      "Running extractor for features cqt_harmonic_var at 2025-02-13 00:35:08.576808\n",
      "Failed compiling function, will use plain python wrapper.\n"
     ]
    },
    {
     "data": {
      "application/vnd.jupyter.widget-view+json": {
       "model_id": "535e727ea3da429cb9691dfffd774aef",
       "version_major": 2,
       "version_minor": 0
      },
      "text/plain": [
       "  0%|          | 0/799 [00:00<?, ?it/s]"
      ]
     },
     "metadata": {},
     "output_type": "display_data"
    },
    {
     "name": "stdout",
     "output_type": "stream",
     "text": [
      "Done running extractor at 2025-02-13 00:35:08.722072 total running time 0:00:00.145264\n",
      "Running extractor for features stft_var at 2025-02-13 00:35:08.722121\n",
      "Failed compiling function, will use plain python wrapper.\n"
     ]
    },
    {
     "data": {
      "application/vnd.jupyter.widget-view+json": {
       "model_id": "befc76e149b54c649ea23267b7485156",
       "version_major": 2,
       "version_minor": 0
      },
      "text/plain": [
       "  0%|          | 0/799 [00:00<?, ?it/s]"
      ]
     },
     "metadata": {},
     "output_type": "display_data"
    },
    {
     "name": "stdout",
     "output_type": "stream",
     "text": [
      "Done running extractor at 2025-02-13 00:35:33.005468 total running time 0:00:24.283347\n",
      "Running extractor for features mel_harmonic_freq_var at 2025-02-13 00:35:33.005565\n",
      "Failed compiling function, will use plain python wrapper.\n"
     ]
    },
    {
     "data": {
      "application/vnd.jupyter.widget-view+json": {
       "model_id": "36c65611448c4cf6af0585ff0587f4f4",
       "version_major": 2,
       "version_minor": 0
      },
      "text/plain": [
       "  0%|          | 0/799 [00:00<?, ?it/s]"
      ]
     },
     "metadata": {},
     "output_type": "display_data"
    },
    {
     "name": "stdout",
     "output_type": "stream",
     "text": [
      "Done running extractor at 2025-02-13 00:35:35.287571 total running time 0:00:02.282006\n",
      "Running extractor for features mel_harmonic_freq_mean at 2025-02-13 00:35:35.287963\n",
      "Failed compiling function, will use plain python wrapper.\n"
     ]
    },
    {
     "data": {
      "application/vnd.jupyter.widget-view+json": {
       "model_id": "0580cb6a3a1e465093013a63c94ebf24",
       "version_major": 2,
       "version_minor": 0
      },
      "text/plain": [
       "  0%|          | 0/799 [00:00<?, ?it/s]"
      ]
     },
     "metadata": {},
     "output_type": "display_data"
    },
    {
     "name": "stdout",
     "output_type": "stream",
     "text": [
      "Done running extractor at 2025-02-13 00:35:35.537638 total running time 0:00:00.249675\n",
      "Running extractor for features cqt_harmonic_freq_var at 2025-02-13 00:35:35.537687\n",
      "Failed compiling function, will use plain python wrapper.\n"
     ]
    },
    {
     "data": {
      "application/vnd.jupyter.widget-view+json": {
       "model_id": "b3acae33a59647d8bff3aec722596dc0",
       "version_major": 2,
       "version_minor": 0
      },
      "text/plain": [
       "  0%|          | 0/799 [00:00<?, ?it/s]"
      ]
     },
     "metadata": {},
     "output_type": "display_data"
    },
    {
     "name": "stdout",
     "output_type": "stream",
     "text": [
      "Done running extractor at 2025-02-13 00:35:35.824894 total running time 0:00:00.287207\n",
      "Running extractor for features mel_freq_var at 2025-02-13 00:35:35.824941\n",
      "Failed compiling function, will use plain python wrapper.\n"
     ]
    },
    {
     "data": {
      "application/vnd.jupyter.widget-view+json": {
       "model_id": "1bb3885ecbaa4bda8be51cbdf4f3608e",
       "version_major": 2,
       "version_minor": 0
      },
      "text/plain": [
       "  0%|          | 0/799 [00:00<?, ?it/s]"
      ]
     },
     "metadata": {},
     "output_type": "display_data"
    },
    {
     "name": "stdout",
     "output_type": "stream",
     "text": [
      "Done running extractor at 2025-02-13 00:35:36.056254 total running time 0:00:00.231313\n",
      "Running extractor for features mel_percussive_freq_mean at 2025-02-13 00:35:36.056289\n",
      "Failed compiling function, will use plain python wrapper.\n"
     ]
    },
    {
     "data": {
      "application/vnd.jupyter.widget-view+json": {
       "model_id": "1ce6c540fece4c57bde1cecc690fdc05",
       "version_major": 2,
       "version_minor": 0
      },
      "text/plain": [
       "  0%|          | 0/799 [00:00<?, ?it/s]"
      ]
     },
     "metadata": {},
     "output_type": "display_data"
    },
    {
     "name": "stdout",
     "output_type": "stream",
     "text": [
      "Done running extractor at 2025-02-13 00:35:36.241301 total running time 0:00:00.185012\n",
      "Running extractor for features stft_mean at 2025-02-13 00:35:36.241333\n",
      "Failed compiling function, will use plain python wrapper.\n"
     ]
    },
    {
     "data": {
      "application/vnd.jupyter.widget-view+json": {
       "model_id": "1d2b6d1eb8a544fd9cc1ec3ddda7e538",
       "version_major": 2,
       "version_minor": 0
      },
      "text/plain": [
       "  0%|          | 0/799 [00:00<?, ?it/s]"
      ]
     },
     "metadata": {},
     "output_type": "display_data"
    },
    {
     "name": "stdout",
     "output_type": "stream",
     "text": [
      "Done running extractor at 2025-02-13 00:35:37.287915 total running time 0:00:01.046582\n"
     ]
    }
   ],
   "source": [
    "E_train.soft_extract()\n",
    "# E_eval.soft_extract()"
   ]
  },
  {
   "cell_type": "code",
   "execution_count": 21,
   "id": "1ee29554-008c-4aed-9263-8fd83b86a477",
   "metadata": {
    "id": "1ee29554-008c-4aed-9263-8fd83b86a477",
    "outputId": "993889d0-35e8-4f1b-fd1e-2e0fed5f2992"
   },
   "outputs": [
    {
     "name": "stdout",
     "output_type": "stream",
     "text": [
      "0:\tlearn: 0.2895149\ttotal: 54.2ms\tremaining: 27.1s\n",
      "100:\tlearn: 0.7965571\ttotal: 1.77s\tremaining: 7s\n",
      "200:\tlearn: 0.8748044\ttotal: 3.47s\tremaining: 5.16s\n",
      "300:\tlearn: 0.9374022\ttotal: 5.13s\tremaining: 3.39s\n",
      "400:\tlearn: 0.9640063\ttotal: 6.79s\tremaining: 1.68s\n",
      "499:\tlearn: 0.9874804\ttotal: 8.43s\tremaining: 0us\n",
      "0:\tlearn: 0.3004695\ttotal: 28.4ms\tremaining: 14.2s\n",
      "100:\tlearn: 0.7918623\ttotal: 1.71s\tremaining: 6.76s\n",
      "200:\tlearn: 0.8935837\ttotal: 3.4s\tremaining: 5.05s\n",
      "300:\tlearn: 0.9264476\ttotal: 5.05s\tremaining: 3.34s\n",
      "400:\tlearn: 0.9640063\ttotal: 6.7s\tremaining: 1.65s\n",
      "499:\tlearn: 0.9859155\ttotal: 8.33s\tremaining: 0us\n",
      "0:\tlearn: 0.3004695\ttotal: 27.9ms\tremaining: 13.9s\n",
      "100:\tlearn: 0.7809077\ttotal: 1.71s\tremaining: 6.74s\n",
      "200:\tlearn: 0.8873239\ttotal: 3.37s\tremaining: 5.02s\n",
      "300:\tlearn: 0.9311424\ttotal: 5.03s\tremaining: 3.33s\n",
      "400:\tlearn: 0.9640063\ttotal: 6.69s\tremaining: 1.65s\n",
      "499:\tlearn: 0.9765258\ttotal: 8.32s\tremaining: 0us\n",
      "0:\tlearn: 0.2456964\ttotal: 27.8ms\tremaining: 13.8s\n",
      "100:\tlearn: 0.7762128\ttotal: 1.72s\tremaining: 6.78s\n",
      "200:\tlearn: 0.8857590\ttotal: 3.38s\tremaining: 5.03s\n",
      "300:\tlearn: 0.9358372\ttotal: 5.03s\tremaining: 3.32s\n",
      "400:\tlearn: 0.9608764\ttotal: 6.68s\tremaining: 1.65s\n",
      "499:\tlearn: 0.9749609\ttotal: 8.31s\tremaining: 0us\n",
      "0:\tlearn: 0.2734375\ttotal: 27.9ms\tremaining: 13.9s\n",
      "100:\tlearn: 0.8062500\ttotal: 1.72s\tremaining: 6.81s\n",
      "200:\tlearn: 0.8921875\ttotal: 3.41s\tremaining: 5.08s\n",
      "300:\tlearn: 0.9375000\ttotal: 5.06s\tremaining: 3.34s\n",
      "400:\tlearn: 0.9578125\ttotal: 6.7s\tremaining: 1.66s\n",
      "499:\tlearn: 0.9812500\ttotal: 8.33s\tremaining: 0us\n",
      "Mean Accuracy across 5 folds: 0.6545\n",
      "\n",
      "Classification Report (aggregated across folds):\n",
      "              precision    recall  f1-score   support\n",
      "\n",
      "       blues       0.71      0.59      0.64        80\n",
      "   classical       0.85      0.86      0.86        80\n",
      "     country       0.55      0.55      0.55        80\n",
      "       disco       0.67      0.65      0.66        80\n",
      "      hiphop       0.71      0.65      0.68        80\n",
      "        jazz       0.65      0.68      0.67        79\n",
      "       metal       0.67      0.80      0.73        80\n",
      "         pop       0.69      0.71      0.70        80\n",
      "      reggae       0.62      0.64      0.63        80\n",
      "        rock       0.43      0.41      0.42        80\n",
      "\n",
      "    accuracy                           0.65       799\n",
      "   macro avg       0.65      0.65      0.65       799\n",
      "weighted avg       0.65      0.65      0.65       799\n",
      "\n",
      "0:\tlearn: 0.2765957\ttotal: 27.9ms\tremaining: 13.9s\n",
      "100:\tlearn: 0.7647059\ttotal: 1.73s\tremaining: 6.84s\n",
      "200:\tlearn: 0.8610763\ttotal: 3.4s\tremaining: 5.06s\n",
      "300:\tlearn: 0.9048811\ttotal: 5.08s\tremaining: 3.36s\n",
      "400:\tlearn: 0.9299124\ttotal: 6.78s\tremaining: 1.68s\n",
      "499:\tlearn: 0.9549437\ttotal: 8.44s\tremaining: 0us\n"
     ]
    }
   ],
   "source": [
    "features = ['cqt_freq_mean', 'cqt_freq_var', 'cqt_harmonic_freq_mean', 'cqt_harmonic_freq_var', 'cqt_percussive_freq_mean', 'cqt_percussive_freq_var']\n",
    "\n",
    "model, acc = train_and_evaluate_catboost(\n",
    "    X=E_train.numpy(features),\n",
    "    y=y_train.to_numpy(),\n",
    ")"
   ]
  },
  {
   "cell_type": "code",
   "execution_count": 22,
   "id": "2146ffde-9fa4-439c-8caa-da70d5bcb00b",
   "metadata": {
    "id": "2146ffde-9fa4-439c-8caa-da70d5bcb00b"
   },
   "outputs": [],
   "source": [
    "Extractor.register_mapper('mfcc_quef_mean', lambda mfcc: mfcc.mean(axis=1))\n",
    "Extractor.register_mapper('mfcc_quef_var', lambda mfcc: mfcc.var(axis=1))\n",
    "\n",
    "# Usually STFT is used for spectral centroid, but I will use CQT, it may turn out to be even more precise.\n",
    "cqt_frequencies = librosa.cqt_frequencies(n_bins=n_bins, fmin=fmin, bins_per_octave=bins_per_octave)\n",
    "# Extractor.register_extractor('cqt_spectral_centroid',\n",
    "#                              lambda cqt: np.sum(cqt_frequencies.reshape(-1, 1) * librosa.util.normalize(cqt, norm=1, axis=0), axis=0))\n",
    "Extractor.register_mapper('spectral_centroid',\n",
    "                             lambda audio: librosa.feature.spectral_centroid(y=audio, sr=sr))\n",
    "\n",
    "Extractor.register_mapper('spectral_centroid_mean', lambda spectral_centroid: spectral_centroid.mean())\n",
    "Extractor.register_mapper('spectral_centroid_var', lambda spectral_centroid: spectral_centroid.var())\n",
    "\n",
    "cqt_frequencies = librosa.cqt_frequencies(n_bins=n_bins, fmin=fmin, bins_per_octave=bins_per_octave)\n",
    "chroma_map = librosa.filters.cq_to_chroma(cqt_frequencies.shape[0], bins_per_octave=bins_per_octave, n_chroma=bins_per_octave, fmin=fmin)\n",
    "Extractor.register_mapper('cqt_chroma',\n",
    "                             lambda cqt: librosa.feature.chroma_cqt(C=cqt, sr=sr, hop_length=hop_length, fmin=fmin))\n",
    "Extractor.register_mapper('cqt_chroma_freq_mean', lambda cqt_chroma: cqt_chroma.mean(axis=1))\n",
    "Extractor.register_mapper('cqt_chroma_freq_var', lambda cqt_chroma: cqt_chroma.var(axis=1))\n",
    "Extractor.register_mapper('cqt_chroma_mean', lambda cqt_chroma: cqt_chroma.mean())\n",
    "Extractor.register_mapper('cqt_chroma_var', lambda cqt_chroma: cqt_chroma.var())\n",
    "\n",
    "Extractor.register_mapper('cqt_harmonic_chroma',\n",
    "                             lambda cqt_harmonic: librosa.feature.chroma_cqt(C=cqt_harmonic, sr=sr, hop_length=hop_length, fmin=fmin))\n",
    "Extractor.register_mapper('cqt_harmonic_chroma_freq_mean', lambda cqt_harmonic_chroma: cqt_harmonic_chroma.mean(axis=1))\n",
    "Extractor.register_mapper('cqt_harmonic_chroma_freq_var', lambda cqt_harmonic_chroma: cqt_harmonic_chroma.var(axis=1))\n",
    "Extractor.register_mapper('cqt_harmonic_chroma_mean', lambda cqt_harmonic_chroma: cqt_harmonic_chroma.mean())\n",
    "Extractor.register_mapper('cqt_harmonic_chroma_var', lambda cqt_harmonic_chroma: cqt_harmonic_chroma.var())\n",
    "\n",
    "roll_percent = 0.85\n",
    "# Extractor.register_extractor('cqt_rolloff',\n",
    "#                              lambda cqt: librosa.feature.spectral.spectral_rolloff(S=cqt, freq=cqt_frequencies, roll_percent=roll_percent))\n",
    "Extractor.register_mapper('rolloff',\n",
    "                             lambda stft: librosa.feature.spectral.spectral_rolloff(S=stft, sr=sr, roll_percent=roll_percent))\n",
    "\n",
    "Extractor.register_mapper('rolloff_mean', lambda rolloff: rolloff.mean())\n",
    "Extractor.register_mapper('rolloff_var', lambda rolloff: rolloff.var())\n",
    "\n",
    "# Extractor.register_extractor('cqt_bandwidth',\n",
    "#                              lambda cqt: librosa.feature.spectral.spectral_bandwidth(S=cqt, freq=cqt_frequencies))\n",
    "Extractor.register_mapper('bandwidth',\n",
    "                             lambda stft: librosa.feature.spectral.spectral_bandwidth(S=stft, sr=sr, n_fft=n_fft))\n",
    "\n",
    "Extractor.register_mapper('bandwidth_mean', lambda bandwidth: bandwidth.mean())\n",
    "Extractor.register_mapper('bandwidth_var', lambda bandwidth: bandwidth.var())\n",
    "\n",
    "Extractor.register_mapper('zero_crossing_rate',\n",
    "                             lambda audio: librosa.feature.zero_crossing_rate(y=audio))\n",
    "\n",
    "Extractor.register_mapper('zero_crossing_rate_mean', lambda zero_crossing_rate: zero_crossing_rate.mean())\n",
    "Extractor.register_mapper('zero_crossing_rate_var', lambda zero_crossing_rate: zero_crossing_rate.var())\n",
    "\n",
    "\n",
    "Extractor.register_mapper('percept', lambda cqt: librosa.perceptual_weighting(cqt**2, cqt_frequencies, ref=np.max))\n",
    "Extractor.register_mapper('percept_freq_mean', lambda percept: percept.mean(axis=1))\n",
    "Extractor.register_mapper('percept_freq_var', lambda percept: percept.var(axis=1))\n",
    "Extractor.register_mapper('percept_mean', lambda percept: percept.mean())\n",
    "Extractor.register_mapper('percept_var', lambda percept: percept.var())\n",
    "\n",
    "Extractor.register_mapper('stft_chroma', lambda stft: librosa.feature.chroma_stft(S=stft**2, sr=sr))\n",
    "Extractor.register_mapper('stft_chroma_freq_mean', lambda stft_chroma: np.mean(stft_chroma, axis=1))\n",
    "Extractor.register_mapper('stft_chroma_freq_var', lambda stft_chroma: np.var(stft_chroma, axis=1))\n",
    "Extractor.register_mapper('stft_chroma_mean', lambda stft_chroma: np.mean(stft_chroma))\n",
    "Extractor.register_mapper('stft_chroma_var', lambda stft_chroma: np.var(stft_chroma))"
   ]
  },
  {
   "cell_type": "code",
   "execution_count": 23,
   "id": "14ab414d-3393-49cc-a094-4944b2ce7b91",
   "metadata": {
    "colab": {
     "referenced_widgets": [
      "164b5dee77304a7987b405765aca0754",
      "08d947e1615943eeaa9f961a64efe62b",
      "88264f3755c443f39bdddb13d1710cd7",
      "db1e6f038b824fdb850269a12da35182",
      "4af125e6333f4891bcd519d8825666ef",
      "7abc874a6a944e758e9fd6ed5ad9654d",
      "9887b4795bec4b2a951c49cb6b481b2a",
      "85ddd44e97b741eeb63437e61a3a6293",
      "570cd7f3b7824b71884a8d9a5de93c9d",
      "eb83bd5d224d4f52a389d09851c7658c",
      "228a7b47107a46e3aabe7e184f73ebeb",
      "bd9db982772341069281ee0fdcb06337",
      "458b78e9d043494dae35e3442e40eb74",
      "7fed7f6da3da4247afe8516c1451b159",
      "6b6ae089a1ef47ac9301873796393ba9",
      "71aa7834995a4e2ba38325fb2638cbeb",
      "7614d20d4ae046ef8eedf41577098695",
      "b303102831f14db1baa364a47b153f0a",
      "644978c3c78c493baf5956fe85efb925",
      "cf675db3e87646f0b800fb92c629a56b",
      "56979d7fd94b44b0b799abb106fd56b9",
      "4242e263ddae4a5da677a91acc0285c8",
      "d7fc30501a3e4e3c9c86bd871102f22e",
      "2e57b51fdb3143c58655509653fd07dd",
      "84a0626bd88041e6a5f129bd54d17409",
      "f6048a24e4f54f3191cfde6ec57e7be1",
      "01de75fb4f3c4cfbac29878568b50b2a",
      "c895235b55c9455592d5dee5ec26e487",
      "d49e2ec610584c55a9db88af218b901e",
      "8a1597da645d4da48c09563e261b1f96"
     ]
    },
    "id": "14ab414d-3393-49cc-a094-4944b2ce7b91",
    "outputId": "af5c3cb2-0e73-4890-dd02-ea204dadf761"
   },
   "outputs": [
    {
     "name": "stdout",
     "output_type": "stream",
     "text": [
      "Running extractor for features zero_crossing_rate at 2025-02-13 00:36:27.904877\n",
      "Failed compiling function, will use plain python wrapper.\n"
     ]
    },
    {
     "data": {
      "application/vnd.jupyter.widget-view+json": {
       "model_id": "3382d91a914c44f1b2585e7b57d7d954",
       "version_major": 2,
       "version_minor": 0
      },
      "text/plain": [
       "  0%|          | 0/799 [00:00<?, ?it/s]"
      ]
     },
     "metadata": {},
     "output_type": "display_data"
    },
    {
     "name": "stdout",
     "output_type": "stream",
     "text": [
      "Done running extractor at 2025-02-13 00:36:43.218776 total running time 0:00:15.313899\n",
      "Running extractor for features zero_crossing_rate_var at 2025-02-13 00:36:43.218821\n",
      "Failed compiling function, will use plain python wrapper.\n"
     ]
    },
    {
     "data": {
      "application/vnd.jupyter.widget-view+json": {
       "model_id": "1c8f76ec744446829a8b0f6a1aa909fc",
       "version_major": 2,
       "version_minor": 0
      },
      "text/plain": [
       "  0%|          | 0/799 [00:00<?, ?it/s]"
      ]
     },
     "metadata": {},
     "output_type": "display_data"
    },
    {
     "name": "stdout",
     "output_type": "stream",
     "text": [
      "Done running extractor at 2025-02-13 00:36:43.437381 total running time 0:00:00.218560\n",
      "Running extractor for features percept at 2025-02-13 00:36:43.437412\n",
      "Failed compiling function, will use plain python wrapper.\n"
     ]
    },
    {
     "data": {
      "application/vnd.jupyter.widget-view+json": {
       "model_id": "e9804efcd23642c7b6366a259d553363",
       "version_major": 2,
       "version_minor": 0
      },
      "text/plain": [
       "  0%|          | 0/799 [00:00<?, ?it/s]"
      ]
     },
     "metadata": {},
     "output_type": "display_data"
    },
    {
     "name": "stdout",
     "output_type": "stream",
     "text": [
      "Done running extractor at 2025-02-13 00:36:46.574967 total running time 0:00:03.137555\n",
      "Running extractor for features percept_freq_mean at 2025-02-13 00:36:46.575045\n",
      "Failed compiling function, will use plain python wrapper.\n"
     ]
    },
    {
     "data": {
      "application/vnd.jupyter.widget-view+json": {
       "model_id": "ef6c07b49a674573be50de83a9d531f5",
       "version_major": 2,
       "version_minor": 0
      },
      "text/plain": [
       "  0%|          | 0/799 [00:00<?, ?it/s]"
      ]
     },
     "metadata": {},
     "output_type": "display_data"
    },
    {
     "name": "stdout",
     "output_type": "stream",
     "text": [
      "Done running extractor at 2025-02-13 00:36:46.894536 total running time 0:00:00.319491\n",
      "Running extractor for features cqt_harmonic_chroma at 2025-02-13 00:36:46.894576\n",
      "Failed compiling function, will use plain python wrapper.\n"
     ]
    },
    {
     "data": {
      "application/vnd.jupyter.widget-view+json": {
       "model_id": "4bfc6de734fe4a16a9e1baa5851c7ba8",
       "version_major": 2,
       "version_minor": 0
      },
      "text/plain": [
       "  0%|          | 0/799 [00:00<?, ?it/s]"
      ]
     },
     "metadata": {},
     "output_type": "display_data"
    },
    {
     "name": "stdout",
     "output_type": "stream",
     "text": [
      "Done running extractor at 2025-02-13 00:36:48.601174 total running time 0:00:01.706598\n",
      "Running extractor for features cqt_harmonic_chroma_var at 2025-02-13 00:36:48.601263\n",
      "Failed compiling function, will use plain python wrapper.\n"
     ]
    },
    {
     "data": {
      "application/vnd.jupyter.widget-view+json": {
       "model_id": "072ddb5601c04a2fa59e44e1adc93cda",
       "version_major": 2,
       "version_minor": 0
      },
      "text/plain": [
       "  0%|          | 0/799 [00:00<?, ?it/s]"
      ]
     },
     "metadata": {},
     "output_type": "display_data"
    },
    {
     "name": "stdout",
     "output_type": "stream",
     "text": [
      "Done running extractor at 2025-02-13 00:36:48.974725 total running time 0:00:00.373462\n",
      "Running extractor for features rolloff at 2025-02-13 00:36:48.974756\n",
      "Failed compiling function, will use plain python wrapper.\n"
     ]
    },
    {
     "data": {
      "application/vnd.jupyter.widget-view+json": {
       "model_id": "549fbd164a35420c9e2070c9f71de930",
       "version_major": 2,
       "version_minor": 0
      },
      "text/plain": [
       "  0%|          | 0/799 [00:00<?, ?it/s]"
      ]
     },
     "metadata": {},
     "output_type": "display_data"
    },
    {
     "name": "stdout",
     "output_type": "stream",
     "text": [
      "Done running extractor at 2025-02-13 00:36:56.010642 total running time 0:00:07.035886\n",
      "Running extractor for features rolloff_mean at 2025-02-13 00:36:56.010695\n",
      "Failed compiling function, will use plain python wrapper.\n"
     ]
    },
    {
     "data": {
      "application/vnd.jupyter.widget-view+json": {
       "model_id": "383256b1a6444176aac6c9911b305030",
       "version_major": 2,
       "version_minor": 0
      },
      "text/plain": [
       "  0%|          | 0/799 [00:00<?, ?it/s]"
      ]
     },
     "metadata": {},
     "output_type": "display_data"
    },
    {
     "name": "stdout",
     "output_type": "stream",
     "text": [
      "Done running extractor at 2025-02-13 00:36:56.291189 total running time 0:00:00.280494\n",
      "Running extractor for features mfcc_quef_var at 2025-02-13 00:36:56.291224\n",
      "Failed compiling function, will use plain python wrapper.\n"
     ]
    },
    {
     "data": {
      "application/vnd.jupyter.widget-view+json": {
       "model_id": "194bd1acf1a04dfaa4403e2882083ba6",
       "version_major": 2,
       "version_minor": 0
      },
      "text/plain": [
       "  0%|          | 0/799 [00:00<?, ?it/s]"
      ]
     },
     "metadata": {},
     "output_type": "display_data"
    },
    {
     "name": "stdout",
     "output_type": "stream",
     "text": [
      "Done running extractor at 2025-02-13 00:36:57.158549 total running time 0:00:00.867325\n",
      "Running extractor for features percept_mean at 2025-02-13 00:36:57.158586\n",
      "Failed compiling function, will use plain python wrapper.\n"
     ]
    },
    {
     "data": {
      "application/vnd.jupyter.widget-view+json": {
       "model_id": "b45e5fb7605f4c6d88cf71d5dd09515a",
       "version_major": 2,
       "version_minor": 0
      },
      "text/plain": [
       "  0%|          | 0/799 [00:00<?, ?it/s]"
      ]
     },
     "metadata": {},
     "output_type": "display_data"
    },
    {
     "name": "stdout",
     "output_type": "stream",
     "text": [
      "Done running extractor at 2025-02-13 00:36:57.405909 total running time 0:00:00.247323\n",
      "Running extractor for features zero_crossing_rate_mean at 2025-02-13 00:36:57.405941\n",
      "Failed compiling function, will use plain python wrapper.\n"
     ]
    },
    {
     "data": {
      "application/vnd.jupyter.widget-view+json": {
       "model_id": "56888d34e6ed40adb4fa653c597d64d3",
       "version_major": 2,
       "version_minor": 0
      },
      "text/plain": [
       "  0%|          | 0/799 [00:00<?, ?it/s]"
      ]
     },
     "metadata": {},
     "output_type": "display_data"
    },
    {
     "name": "stdout",
     "output_type": "stream",
     "text": [
      "Done running extractor at 2025-02-13 00:36:57.575072 total running time 0:00:00.169131\n",
      "Running extractor for features stft_chroma at 2025-02-13 00:36:57.575103\n",
      "Failed compiling function, will use plain python wrapper.\n"
     ]
    },
    {
     "data": {
      "application/vnd.jupyter.widget-view+json": {
       "model_id": "19671bcee19e48af9ebf1ce12126ea2f",
       "version_major": 2,
       "version_minor": 0
      },
      "text/plain": [
       "  0%|          | 0/799 [00:00<?, ?it/s]"
      ]
     },
     "metadata": {},
     "output_type": "display_data"
    },
    {
     "name": "stdout",
     "output_type": "stream",
     "text": [
      "Done running extractor at 2025-02-13 00:37:21.995553 total running time 0:00:24.420450\n",
      "Running extractor for features cqt_harmonic_chroma_mean at 2025-02-13 00:37:21.995644\n",
      "Failed compiling function, will use plain python wrapper.\n"
     ]
    },
    {
     "data": {
      "application/vnd.jupyter.widget-view+json": {
       "model_id": "813ba0077dee4491beccaf97ea4742ae",
       "version_major": 2,
       "version_minor": 0
      },
      "text/plain": [
       "  0%|          | 0/799 [00:00<?, ?it/s]"
      ]
     },
     "metadata": {},
     "output_type": "display_data"
    },
    {
     "name": "stdout",
     "output_type": "stream",
     "text": [
      "Done running extractor at 2025-02-13 00:37:22.337376 total running time 0:00:00.341732\n",
      "Running extractor for features cqt_chroma at 2025-02-13 00:37:22.337414\n",
      "Failed compiling function, will use plain python wrapper.\n"
     ]
    },
    {
     "data": {
      "application/vnd.jupyter.widget-view+json": {
       "model_id": "9d0e9f6c189a410eaaa146e2ad42115b",
       "version_major": 2,
       "version_minor": 0
      },
      "text/plain": [
       "  0%|          | 0/799 [00:00<?, ?it/s]"
      ]
     },
     "metadata": {},
     "output_type": "display_data"
    },
    {
     "name": "stdout",
     "output_type": "stream",
     "text": [
      "Done running extractor at 2025-02-13 00:37:24.678160 total running time 0:00:02.340746\n",
      "Running extractor for features cqt_chroma_freq_mean at 2025-02-13 00:37:24.678244\n",
      "Failed compiling function, will use plain python wrapper.\n"
     ]
    },
    {
     "data": {
      "application/vnd.jupyter.widget-view+json": {
       "model_id": "38f9b9c3a69541ed9d5e53d24ed06de5",
       "version_major": 2,
       "version_minor": 0
      },
      "text/plain": [
       "  0%|          | 0/799 [00:00<?, ?it/s]"
      ]
     },
     "metadata": {},
     "output_type": "display_data"
    },
    {
     "name": "stdout",
     "output_type": "stream",
     "text": [
      "Done running extractor at 2025-02-13 00:37:25.146585 total running time 0:00:00.468341\n",
      "Running extractor for features cqt_chroma_var at 2025-02-13 00:37:25.146622\n",
      "Failed compiling function, will use plain python wrapper.\n"
     ]
    },
    {
     "data": {
      "application/vnd.jupyter.widget-view+json": {
       "model_id": "85e1e712aa724000911b2db511af8b70",
       "version_major": 2,
       "version_minor": 0
      },
      "text/plain": [
       "  0%|          | 0/799 [00:00<?, ?it/s]"
      ]
     },
     "metadata": {},
     "output_type": "display_data"
    },
    {
     "name": "stdout",
     "output_type": "stream",
     "text": [
      "Done running extractor at 2025-02-13 00:37:25.492376 total running time 0:00:00.345754\n",
      "Running extractor for features bandwidth at 2025-02-13 00:37:25.492416\n",
      "Failed compiling function, will use plain python wrapper.\n"
     ]
    },
    {
     "data": {
      "application/vnd.jupyter.widget-view+json": {
       "model_id": "a88eecb52ff0400c9e407561abc26fb6",
       "version_major": 2,
       "version_minor": 0
      },
      "text/plain": [
       "  0%|          | 0/799 [00:00<?, ?it/s]"
      ]
     },
     "metadata": {},
     "output_type": "display_data"
    },
    {
     "name": "stdout",
     "output_type": "stream",
     "text": [
      "Done running extractor at 2025-02-13 00:37:39.452647 total running time 0:00:13.960231\n",
      "Running extractor for features bandwidth_var at 2025-02-13 00:37:39.452695\n",
      "Failed compiling function, will use plain python wrapper.\n"
     ]
    },
    {
     "data": {
      "application/vnd.jupyter.widget-view+json": {
       "model_id": "daeaaf1c409b46d3b78ba740d3ffd867",
       "version_major": 2,
       "version_minor": 0
      },
      "text/plain": [
       "  0%|          | 0/799 [00:00<?, ?it/s]"
      ]
     },
     "metadata": {},
     "output_type": "display_data"
    },
    {
     "name": "stdout",
     "output_type": "stream",
     "text": [
      "Done running extractor at 2025-02-13 00:37:39.797316 total running time 0:00:00.344621\n",
      "Running extractor for features spectral_centroid at 2025-02-13 00:37:39.797351\n",
      "Failed compiling function, will use plain python wrapper.\n"
     ]
    },
    {
     "data": {
      "application/vnd.jupyter.widget-view+json": {
       "model_id": "66d9003fc79c41a8a18545f8b6663a04",
       "version_major": 2,
       "version_minor": 0
      },
      "text/plain": [
       "  0%|          | 0/799 [00:00<?, ?it/s]"
      ]
     },
     "metadata": {},
     "output_type": "display_data"
    },
    {
     "name": "stdout",
     "output_type": "stream",
     "text": [
      "Done running extractor at 2025-02-13 00:37:53.700632 total running time 0:00:13.903281\n",
      "Running extractor for features spectral_centroid_mean at 2025-02-13 00:37:53.700671\n",
      "Failed compiling function, will use plain python wrapper.\n"
     ]
    },
    {
     "data": {
      "application/vnd.jupyter.widget-view+json": {
       "model_id": "871f36fbc68e43b6844173e756910bd0",
       "version_major": 2,
       "version_minor": 0
      },
      "text/plain": [
       "  0%|          | 0/799 [00:00<?, ?it/s]"
      ]
     },
     "metadata": {},
     "output_type": "display_data"
    },
    {
     "name": "stdout",
     "output_type": "stream",
     "text": [
      "Done running extractor at 2025-02-13 00:37:54.056897 total running time 0:00:00.356226\n",
      "Running extractor for features rolloff_var at 2025-02-13 00:37:54.056930\n",
      "Failed compiling function, will use plain python wrapper.\n"
     ]
    },
    {
     "data": {
      "application/vnd.jupyter.widget-view+json": {
       "model_id": "00fc57362c7b49cdbcc61c0bf447508c",
       "version_major": 2,
       "version_minor": 0
      },
      "text/plain": [
       "  0%|          | 0/799 [00:00<?, ?it/s]"
      ]
     },
     "metadata": {},
     "output_type": "display_data"
    },
    {
     "name": "stdout",
     "output_type": "stream",
     "text": [
      "Done running extractor at 2025-02-13 00:37:54.236181 total running time 0:00:00.179251\n",
      "Running extractor for features cqt_chroma_mean at 2025-02-13 00:37:54.236216\n",
      "Failed compiling function, will use plain python wrapper.\n"
     ]
    },
    {
     "data": {
      "application/vnd.jupyter.widget-view+json": {
       "model_id": "b303bffd75164eb9a75a9c5c719eccbc",
       "version_major": 2,
       "version_minor": 0
      },
      "text/plain": [
       "  0%|          | 0/799 [00:00<?, ?it/s]"
      ]
     },
     "metadata": {},
     "output_type": "display_data"
    },
    {
     "name": "stdout",
     "output_type": "stream",
     "text": [
      "Done running extractor at 2025-02-13 00:37:54.521435 total running time 0:00:00.285219\n",
      "Running extractor for features stft_chroma_mean at 2025-02-13 00:37:54.521470\n",
      "Failed compiling function, will use plain python wrapper.\n"
     ]
    },
    {
     "data": {
      "application/vnd.jupyter.widget-view+json": {
       "model_id": "716606803ced43e685669f8cbf155f86",
       "version_major": 2,
       "version_minor": 0
      },
      "text/plain": [
       "  0%|          | 0/799 [00:00<?, ?it/s]"
      ]
     },
     "metadata": {},
     "output_type": "display_data"
    },
    {
     "name": "stdout",
     "output_type": "stream",
     "text": [
      "Done running extractor at 2025-02-13 00:37:54.757894 total running time 0:00:00.236424\n",
      "Running extractor for features percept_var at 2025-02-13 00:37:54.757937\n",
      "Failed compiling function, will use plain python wrapper.\n"
     ]
    },
    {
     "data": {
      "application/vnd.jupyter.widget-view+json": {
       "model_id": "6365687e18694f26abdf46af16145799",
       "version_major": 2,
       "version_minor": 0
      },
      "text/plain": [
       "  0%|          | 0/799 [00:00<?, ?it/s]"
      ]
     },
     "metadata": {},
     "output_type": "display_data"
    },
    {
     "name": "stdout",
     "output_type": "stream",
     "text": [
      "Done running extractor at 2025-02-13 00:37:55.060717 total running time 0:00:00.302780\n",
      "Running extractor for features percept_freq_var at 2025-02-13 00:37:55.060750\n",
      "Failed compiling function, will use plain python wrapper.\n"
     ]
    },
    {
     "data": {
      "application/vnd.jupyter.widget-view+json": {
       "model_id": "85ccd40e7049403bb64f215e0355c4f9",
       "version_major": 2,
       "version_minor": 0
      },
      "text/plain": [
       "  0%|          | 0/799 [00:00<?, ?it/s]"
      ]
     },
     "metadata": {},
     "output_type": "display_data"
    },
    {
     "name": "stdout",
     "output_type": "stream",
     "text": [
      "Done running extractor at 2025-02-13 00:37:55.568105 total running time 0:00:00.507355\n",
      "Running extractor for features cqt_chroma_freq_var at 2025-02-13 00:37:55.568146\n",
      "Failed compiling function, will use plain python wrapper.\n"
     ]
    },
    {
     "data": {
      "application/vnd.jupyter.widget-view+json": {
       "model_id": "c687569cbaf149e0865c5f221e8f1090",
       "version_major": 2,
       "version_minor": 0
      },
      "text/plain": [
       "  0%|          | 0/799 [00:00<?, ?it/s]"
      ]
     },
     "metadata": {},
     "output_type": "display_data"
    },
    {
     "name": "stdout",
     "output_type": "stream",
     "text": [
      "Done running extractor at 2025-02-13 00:37:55.916502 total running time 0:00:00.348356\n",
      "Running extractor for features mfcc_quef_mean at 2025-02-13 00:37:55.916551\n",
      "Failed compiling function, will use plain python wrapper.\n"
     ]
    },
    {
     "data": {
      "application/vnd.jupyter.widget-view+json": {
       "model_id": "afbc11fc016a46aa996759d8de673d71",
       "version_major": 2,
       "version_minor": 0
      },
      "text/plain": [
       "  0%|          | 0/799 [00:00<?, ?it/s]"
      ]
     },
     "metadata": {},
     "output_type": "display_data"
    },
    {
     "name": "stdout",
     "output_type": "stream",
     "text": [
      "Done running extractor at 2025-02-13 00:37:56.109782 total running time 0:00:00.193231\n",
      "Running extractor for features stft_chroma_var at 2025-02-13 00:37:56.109814\n",
      "Failed compiling function, will use plain python wrapper.\n"
     ]
    },
    {
     "data": {
      "application/vnd.jupyter.widget-view+json": {
       "model_id": "12f864850acd434ca5565aa89853a3ea",
       "version_major": 2,
       "version_minor": 0
      },
      "text/plain": [
       "  0%|          | 0/799 [00:00<?, ?it/s]"
      ]
     },
     "metadata": {},
     "output_type": "display_data"
    },
    {
     "name": "stdout",
     "output_type": "stream",
     "text": [
      "Done running extractor at 2025-02-13 00:37:56.443965 total running time 0:00:00.334151\n",
      "Running extractor for features spectral_centroid_var at 2025-02-13 00:37:56.444003\n",
      "Failed compiling function, will use plain python wrapper.\n"
     ]
    },
    {
     "data": {
      "application/vnd.jupyter.widget-view+json": {
       "model_id": "ec469a9a9ad442b7b254d3447ed75f08",
       "version_major": 2,
       "version_minor": 0
      },
      "text/plain": [
       "  0%|          | 0/799 [00:00<?, ?it/s]"
      ]
     },
     "metadata": {},
     "output_type": "display_data"
    },
    {
     "name": "stdout",
     "output_type": "stream",
     "text": [
      "Done running extractor at 2025-02-13 00:37:56.740021 total running time 0:00:00.296018\n",
      "Running extractor for features stft_chroma_freq_mean at 2025-02-13 00:37:56.740059\n",
      "Failed compiling function, will use plain python wrapper.\n"
     ]
    },
    {
     "data": {
      "application/vnd.jupyter.widget-view+json": {
       "model_id": "b5e15e307b2f414c94a3931450415ae2",
       "version_major": 2,
       "version_minor": 0
      },
      "text/plain": [
       "  0%|          | 0/799 [00:00<?, ?it/s]"
      ]
     },
     "metadata": {},
     "output_type": "display_data"
    },
    {
     "name": "stdout",
     "output_type": "stream",
     "text": [
      "Done running extractor at 2025-02-13 00:37:57.100838 total running time 0:00:00.360779\n",
      "Running extractor for features cqt_harmonic_chroma_freq_mean at 2025-02-13 00:37:57.100870\n",
      "Failed compiling function, will use plain python wrapper.\n"
     ]
    },
    {
     "data": {
      "application/vnd.jupyter.widget-view+json": {
       "model_id": "77961e6be8044e4b922cf69d17affe0b",
       "version_major": 2,
       "version_minor": 0
      },
      "text/plain": [
       "  0%|          | 0/799 [00:00<?, ?it/s]"
      ]
     },
     "metadata": {},
     "output_type": "display_data"
    },
    {
     "name": "stdout",
     "output_type": "stream",
     "text": [
      "Done running extractor at 2025-02-13 00:37:57.305777 total running time 0:00:00.204907\n",
      "Running extractor for features stft_chroma_freq_var at 2025-02-13 00:37:57.305807\n",
      "Failed compiling function, will use plain python wrapper.\n"
     ]
    },
    {
     "data": {
      "application/vnd.jupyter.widget-view+json": {
       "model_id": "2c0546bc280248eaa90763208ae229db",
       "version_major": 2,
       "version_minor": 0
      },
      "text/plain": [
       "  0%|          | 0/799 [00:00<?, ?it/s]"
      ]
     },
     "metadata": {},
     "output_type": "display_data"
    },
    {
     "name": "stdout",
     "output_type": "stream",
     "text": [
      "Done running extractor at 2025-02-13 00:37:57.675592 total running time 0:00:00.369785\n",
      "Running extractor for features cqt_harmonic_chroma_freq_var at 2025-02-13 00:37:57.675623\n",
      "Failed compiling function, will use plain python wrapper.\n"
     ]
    },
    {
     "data": {
      "application/vnd.jupyter.widget-view+json": {
       "model_id": "40fd731ac8274205b4569063dd341a51",
       "version_major": 2,
       "version_minor": 0
      },
      "text/plain": [
       "  0%|          | 0/799 [00:00<?, ?it/s]"
      ]
     },
     "metadata": {},
     "output_type": "display_data"
    },
    {
     "name": "stdout",
     "output_type": "stream",
     "text": [
      "Done running extractor at 2025-02-13 00:37:58.045672 total running time 0:00:00.370049\n",
      "Running extractor for features bandwidth_mean at 2025-02-13 00:37:58.045711\n",
      "Failed compiling function, will use plain python wrapper.\n"
     ]
    },
    {
     "data": {
      "application/vnd.jupyter.widget-view+json": {
       "model_id": "fcd27b39732d485580a55a3cc3d9a704",
       "version_major": 2,
       "version_minor": 0
      },
      "text/plain": [
       "  0%|          | 0/799 [00:00<?, ?it/s]"
      ]
     },
     "metadata": {},
     "output_type": "display_data"
    },
    {
     "name": "stdout",
     "output_type": "stream",
     "text": [
      "Done running extractor at 2025-02-13 00:37:58.272155 total running time 0:00:00.226444\n"
     ]
    }
   ],
   "source": [
    "E_train.soft_extract()\n",
    "# E_eval.soft_extract()"
   ]
  },
  {
   "cell_type": "code",
   "execution_count": 24,
   "id": "e87cadeb-77e2-4202-b87d-e0c825ed47ed",
   "metadata": {
    "id": "e87cadeb-77e2-4202-b87d-e0c825ed47ed",
    "outputId": "770d2dee-abed-4c95-8be9-4314b27e5258"
   },
   "outputs": [
    {
     "name": "stdout",
     "output_type": "stream",
     "text": [
      "0:\tlearn: 0.3067293\ttotal: 119ms\tremaining: 59.2s\n",
      "100:\tlearn: 0.8669797\ttotal: 2.74s\tremaining: 10.8s\n",
      "200:\tlearn: 0.9405321\ttotal: 5.21s\tremaining: 7.75s\n",
      "300:\tlearn: 0.9733959\ttotal: 7.72s\tremaining: 5.11s\n",
      "400:\tlearn: 0.9906103\ttotal: 10.2s\tremaining: 2.51s\n",
      "499:\tlearn: 0.9968701\ttotal: 12.6s\tremaining: 0us\n",
      "0:\tlearn: 0.3255086\ttotal: 41.6ms\tremaining: 20.8s\n",
      "100:\tlearn: 0.8685446\ttotal: 2.59s\tremaining: 10.3s\n",
      "200:\tlearn: 0.9405321\ttotal: 5.07s\tremaining: 7.54s\n",
      "300:\tlearn: 0.9765258\ttotal: 7.53s\tremaining: 4.98s\n",
      "400:\tlearn: 0.9874804\ttotal: 10s\tremaining: 2.47s\n",
      "499:\tlearn: 0.9937402\ttotal: 12.4s\tremaining: 0us\n",
      "0:\tlearn: 0.2957746\ttotal: 41.8ms\tremaining: 20.8s\n",
      "100:\tlearn: 0.8669797\ttotal: 2.7s\tremaining: 10.7s\n",
      "200:\tlearn: 0.9420970\ttotal: 5.16s\tremaining: 7.67s\n",
      "300:\tlearn: 0.9718310\ttotal: 7.67s\tremaining: 5.07s\n",
      "400:\tlearn: 0.9890454\ttotal: 10.2s\tremaining: 2.51s\n",
      "499:\tlearn: 0.9921753\ttotal: 12.6s\tremaining: 0us\n",
      "0:\tlearn: 0.3114241\ttotal: 42.4ms\tremaining: 21.2s\n",
      "100:\tlearn: 0.8450704\ttotal: 2.62s\tremaining: 10.4s\n",
      "200:\tlearn: 0.9389671\ttotal: 5.1s\tremaining: 7.58s\n",
      "300:\tlearn: 0.9718310\ttotal: 7.56s\tremaining: 5s\n",
      "400:\tlearn: 0.9796557\ttotal: 10s\tremaining: 2.48s\n",
      "499:\tlearn: 0.9921753\ttotal: 12.7s\tremaining: 0us\n",
      "0:\tlearn: 0.2625000\ttotal: 42.1ms\tremaining: 21s\n",
      "100:\tlearn: 0.8625000\ttotal: 2.69s\tremaining: 10.6s\n",
      "200:\tlearn: 0.9343750\ttotal: 5.22s\tremaining: 7.76s\n",
      "300:\tlearn: 0.9625000\ttotal: 7.71s\tremaining: 5.09s\n",
      "400:\tlearn: 0.9828125\ttotal: 10.5s\tremaining: 2.59s\n",
      "499:\tlearn: 0.9937500\ttotal: 13.1s\tremaining: 0us\n",
      "Mean Accuracy across 5 folds: 0.7334\n",
      "\n",
      "Classification Report (aggregated across folds):\n",
      "              precision    recall  f1-score   support\n",
      "\n",
      "       blues       0.77      0.72      0.75        80\n",
      "   classical       0.87      0.89      0.88        80\n",
      "     country       0.68      0.69      0.68        80\n",
      "       disco       0.71      0.72      0.72        80\n",
      "      hiphop       0.71      0.70      0.70        80\n",
      "        jazz       0.77      0.77      0.77        79\n",
      "       metal       0.77      0.85      0.81        80\n",
      "         pop       0.81      0.80      0.81        80\n",
      "      reggae       0.68      0.69      0.68        80\n",
      "        rock       0.55      0.50      0.52        80\n",
      "\n",
      "    accuracy                           0.73       799\n",
      "   macro avg       0.73      0.73      0.73       799\n",
      "weighted avg       0.73      0.73      0.73       799\n",
      "\n",
      "0:\tlearn: 0.3003755\ttotal: 42.6ms\tremaining: 21.3s\n",
      "100:\tlearn: 0.8347935\ttotal: 3.42s\tremaining: 13.5s\n",
      "200:\tlearn: 0.9186483\ttotal: 6.9s\tremaining: 10.3s\n",
      "300:\tlearn: 0.9561952\ttotal: 10.1s\tremaining: 6.7s\n",
      "400:\tlearn: 0.9812265\ttotal: 12.9s\tremaining: 3.18s\n",
      "499:\tlearn: 0.9899875\ttotal: 15.5s\tremaining: 0us\n"
     ]
    }
   ],
   "source": [
    "features = ['rms', 'bpm',\n",
    "    'cqt_freq_mean', 'cqt_freq_var',\n",
    "    'cqt_harmonic_mean', 'cqt_harmonic_freq_mean', 'cqt_harmonic_freq_var',\n",
    "    'cqt_percussive_mean', 'cqt_percussive_freq_mean', 'cqt_percussive_freq_var',\n",
    "    'mfcc_quef_mean', 'mfcc_quef_var',\n",
    "    'spectral_centroid_mean', 'spectral_centroid_var',\n",
    "    'cqt_chroma_freq_mean', 'cqt_chroma_freq_var',\n",
    "    'cqt_harmonic_chroma_freq_mean', 'cqt_harmonic_chroma_freq_var',\n",
    "    'rolloff_mean', 'rolloff_var',\n",
    "    'bandwidth_mean', 'bandwidth_var',\n",
    "    'percept_freq_mean', 'percept_freq_var',\n",
    "    'zero_crossing_rate_mean']\n",
    "\n",
    "model, acc = train_and_evaluate_catboost(\n",
    "    X=E_train.numpy(features),\n",
    "    y=y_train.to_numpy(),\n",
    ")"
   ]
  },
  {
   "cell_type": "code",
   "execution_count": 25,
   "id": "1ef69f61-9b1f-4160-a427-908e16b9900b",
   "metadata": {
    "id": "1ef69f61-9b1f-4160-a427-908e16b9900b"
   },
   "outputs": [
    {
     "name": "stdout",
     "output_type": "stream",
     "text": [
      "0:\tlearn: 0.2926448\ttotal: 71.3ms\tremaining: 35.6s\n",
      "100:\tlearn: 0.8669797\ttotal: 3.68s\tremaining: 14.5s\n",
      "200:\tlearn: 0.9436620\ttotal: 7.06s\tremaining: 10.5s\n",
      "300:\tlearn: 0.9796557\ttotal: 10.4s\tremaining: 6.89s\n",
      "400:\tlearn: 0.9921753\ttotal: 13.8s\tremaining: 3.4s\n",
      "499:\tlearn: 0.9984351\ttotal: 17.1s\tremaining: 0us\n",
      "0:\tlearn: 0.3286385\ttotal: 60.5ms\tremaining: 30.2s\n",
      "100:\tlearn: 0.8482003\ttotal: 3.5s\tremaining: 13.8s\n",
      "200:\tlearn: 0.9452269\ttotal: 6.89s\tremaining: 10.3s\n",
      "300:\tlearn: 0.9687011\ttotal: 10.3s\tremaining: 6.78s\n",
      "400:\tlearn: 0.9906103\ttotal: 13.6s\tremaining: 3.36s\n",
      "499:\tlearn: 0.9953052\ttotal: 16.9s\tremaining: 0us\n",
      "0:\tlearn: 0.3442879\ttotal: 55.4ms\tremaining: 27.6s\n",
      "100:\tlearn: 0.8575900\ttotal: 3.52s\tremaining: 13.9s\n",
      "200:\tlearn: 0.9327074\ttotal: 6.89s\tremaining: 10.2s\n",
      "300:\tlearn: 0.9671362\ttotal: 10.2s\tremaining: 6.77s\n",
      "400:\tlearn: 0.9874804\ttotal: 13.6s\tremaining: 3.35s\n",
      "499:\tlearn: 0.9921753\ttotal: 17s\tremaining: 0us\n",
      "0:\tlearn: 0.3082942\ttotal: 59.4ms\tremaining: 29.6s\n",
      "100:\tlearn: 0.8153365\ttotal: 3.9s\tremaining: 15.4s\n",
      "200:\tlearn: 0.9295775\ttotal: 7.26s\tremaining: 10.8s\n",
      "300:\tlearn: 0.9593114\ttotal: 10.6s\tremaining: 7.03s\n",
      "400:\tlearn: 0.9827856\ttotal: 14s\tremaining: 3.45s\n",
      "499:\tlearn: 0.9906103\ttotal: 17.3s\tremaining: 0us\n",
      "0:\tlearn: 0.3359375\ttotal: 56ms\tremaining: 27.9s\n",
      "100:\tlearn: 0.8703125\ttotal: 3.54s\tremaining: 14s\n",
      "200:\tlearn: 0.9390625\ttotal: 7.05s\tremaining: 10.5s\n",
      "300:\tlearn: 0.9640625\ttotal: 10.3s\tremaining: 6.84s\n",
      "400:\tlearn: 0.9890625\ttotal: 13.7s\tremaining: 3.37s\n",
      "499:\tlearn: 0.9937500\ttotal: 16.9s\tremaining: 0us\n",
      "Mean Accuracy across 5 folds: 0.7384\n",
      "\n",
      "Classification Report (aggregated across folds):\n",
      "              precision    recall  f1-score   support\n",
      "\n",
      "       blues       0.78      0.68      0.72        80\n",
      "   classical       0.89      0.91      0.90        80\n",
      "     country       0.70      0.71      0.70        80\n",
      "       disco       0.65      0.72      0.69        80\n",
      "      hiphop       0.79      0.70      0.74        80\n",
      "        jazz       0.80      0.80      0.80        79\n",
      "       metal       0.80      0.81      0.81        80\n",
      "         pop       0.78      0.81      0.80        80\n",
      "      reggae       0.66      0.71      0.69        80\n",
      "        rock       0.55      0.53      0.54        80\n",
      "\n",
      "    accuracy                           0.74       799\n",
      "   macro avg       0.74      0.74      0.74       799\n",
      "weighted avg       0.74      0.74      0.74       799\n",
      "\n",
      "0:\tlearn: 0.3141427\ttotal: 55.5ms\tremaining: 27.7s\n",
      "100:\tlearn: 0.8372966\ttotal: 3.49s\tremaining: 13.8s\n",
      "200:\tlearn: 0.9173967\ttotal: 6.82s\tremaining: 10.1s\n",
      "300:\tlearn: 0.9524406\ttotal: 10.1s\tremaining: 6.71s\n",
      "400:\tlearn: 0.9749687\ttotal: 13.5s\tremaining: 3.33s\n",
      "499:\tlearn: 0.9862328\ttotal: 16.8s\tremaining: 0us\n"
     ]
    }
   ],
   "source": [
    "features = ['rms', 'bpm',\n",
    "    'mel_freq_mean', 'mel_freq_var',\n",
    "    'stft_harmonic_mean', 'mel_harmonic_freq_mean', 'mel_harmonic_freq_var',\n",
    "    'stft_percussive_mean', 'mel_percussive_freq_mean', 'mel_percussive_freq_var',\n",
    "    'mfcc_quef_mean', 'mfcc_quef_var',\n",
    "    'spectral_centroid_mean', 'spectral_centroid_var',\n",
    "    'cqt_chroma_freq_mean', 'cqt_chroma_freq_var',\n",
    "    'cqt_harmonic_chroma_freq_mean', 'cqt_harmonic_chroma_freq_var',\n",
    "    'rolloff_mean', 'rolloff_var',\n",
    "    'bandwidth_mean', 'bandwidth_var',\n",
    "    'percept_freq_mean', 'percept_freq_var',\n",
    "    'zero_crossing_rate_mean']\n",
    "\n",
    "model, acc = train_and_evaluate_catboost(\n",
    "    X=E_train.numpy(features),\n",
    "    y=y_train.to_numpy(),\n",
    ")"
   ]
  },
  {
   "cell_type": "code",
   "execution_count": 26,
   "id": "8309cf2d-4d03-40ff-853b-ab5817fd6b9c",
   "metadata": {},
   "outputs": [],
   "source": [
    "n_mels = 48\n",
    "mel_proj = librosa.filters.mel(sr=sr, n_fft=n_fft, fmin=fmin, fmax=fmax, n_mels=n_mels)"
   ]
  },
  {
   "cell_type": "code",
   "execution_count": 27,
   "id": "ff6e3388-7fa3-4495-8723-2ae21fcd0ead",
   "metadata": {},
   "outputs": [
    {
     "name": "stdout",
     "output_type": "stream",
     "text": [
      "Running extractor for features mel48 at 2025-02-13 00:41:02.654787\n",
      "Failed compiling function, will use plain python wrapper.\n"
     ]
    },
    {
     "data": {
      "application/vnd.jupyter.widget-view+json": {
       "model_id": "82931cd59ade455ea3d6d611509bede1",
       "version_major": 2,
       "version_minor": 0
      },
      "text/plain": [
       "  0%|          | 0/799 [00:00<?, ?it/s]"
      ]
     },
     "metadata": {},
     "output_type": "display_data"
    },
    {
     "name": "stdout",
     "output_type": "stream",
     "text": [
      "Done running extractor at 2025-02-13 00:41:08.224053 total running time 0:00:05.569266\n",
      "Running extractor for features mel48_harmonic, mel48_percussive at 2025-02-13 00:41:08.224240\n",
      "Failed compiling function, will use plain python wrapper, exception: can only concatenate list (not \"tuple\") to list\n"
     ]
    },
    {
     "data": {
      "application/vnd.jupyter.widget-view+json": {
       "model_id": "d96b0bebe1574989911679eee5457ea9",
       "version_major": 2,
       "version_minor": 0
      },
      "text/plain": [
       "  0%|          | 0/799 [00:00<?, ?it/s]"
      ]
     },
     "metadata": {},
     "output_type": "display_data"
    },
    {
     "name": "stdout",
     "output_type": "stream",
     "text": [
      "Done running extractor at 2025-02-13 00:42:12.653492 total running time 0:01:04.429252\n"
     ]
    }
   ],
   "source": [
    "Extractor.register_mapper('mel48', lambda stft: librosa.power_to_db(np.einsum(\"ij,jk->ik\", mel_proj, stft**2, optimize=True)))\n",
    "def mel_hpss(stft_harmonic, stft_percussive):\n",
    "    return (\n",
    "        librosa.power_to_db(np.einsum(\"ij,jk->ik\", mel_proj, stft_harmonic**2, optimize=True)),\n",
    "        librosa.power_to_db(np.einsum(\"ij,jk->ik\", mel_proj, stft_percussive**2, optimize=True)),\n",
    "    )\n",
    "\n",
    "Extractor.register_mapper(['mel48_harmonic', 'mel48_percussive'], mel_hpss)\n",
    "E_train.soft_extract()"
   ]
  },
  {
   "cell_type": "code",
   "execution_count": 28,
   "id": "8eaea389-3d34-4bfe-b6e3-735822f07602",
   "metadata": {},
   "outputs": [
    {
     "name": "stdout",
     "output_type": "stream",
     "text": [
      "Running extractor for features mel48_percussive_freq_mean at 2025-02-13 00:42:12.683986\n",
      "Failed compiling function, will use plain python wrapper.\n"
     ]
    },
    {
     "data": {
      "application/vnd.jupyter.widget-view+json": {
       "model_id": "d3e55ee6034148aaba384f47ba6e7c8f",
       "version_major": 2,
       "version_minor": 0
      },
      "text/plain": [
       "  0%|          | 0/799 [00:00<?, ?it/s]"
      ]
     },
     "metadata": {},
     "output_type": "display_data"
    },
    {
     "name": "stdout",
     "output_type": "stream",
     "text": [
      "Done running extractor at 2025-02-13 00:42:12.853746 total running time 0:00:00.169760\n",
      "Running extractor for features mel48_freq_mean at 2025-02-13 00:42:12.853840\n",
      "Failed compiling function, will use plain python wrapper.\n"
     ]
    },
    {
     "data": {
      "application/vnd.jupyter.widget-view+json": {
       "model_id": "5fa509951f2244b693e035e3559c4274",
       "version_major": 2,
       "version_minor": 0
      },
      "text/plain": [
       "  0%|          | 0/799 [00:00<?, ?it/s]"
      ]
     },
     "metadata": {},
     "output_type": "display_data"
    },
    {
     "name": "stdout",
     "output_type": "stream",
     "text": [
      "Done running extractor at 2025-02-13 00:42:13.942109 total running time 0:00:01.088269\n",
      "Running extractor for features mel48_harmonic_freq_var at 2025-02-13 00:42:13.942145\n",
      "Failed compiling function, will use plain python wrapper.\n"
     ]
    },
    {
     "data": {
      "application/vnd.jupyter.widget-view+json": {
       "model_id": "f528f8f17be34128b2494e4093269b89",
       "version_major": 2,
       "version_minor": 0
      },
      "text/plain": [
       "  0%|          | 0/799 [00:00<?, ?it/s]"
      ]
     },
     "metadata": {},
     "output_type": "display_data"
    },
    {
     "name": "stdout",
     "output_type": "stream",
     "text": [
      "Done running extractor at 2025-02-13 00:42:14.074150 total running time 0:00:00.132005\n",
      "Running extractor for features mel48_freq_var at 2025-02-13 00:42:14.074182\n",
      "Failed compiling function, will use plain python wrapper.\n"
     ]
    },
    {
     "data": {
      "application/vnd.jupyter.widget-view+json": {
       "model_id": "8dedde48764d4bdd90a1b53b243036d9",
       "version_major": 2,
       "version_minor": 0
      },
      "text/plain": [
       "  0%|          | 0/799 [00:00<?, ?it/s]"
      ]
     },
     "metadata": {},
     "output_type": "display_data"
    },
    {
     "name": "stdout",
     "output_type": "stream",
     "text": [
      "Done running extractor at 2025-02-13 00:42:14.188830 total running time 0:00:00.114648\n",
      "Running extractor for features mel48_percussive_freq_var at 2025-02-13 00:42:14.188862\n",
      "Failed compiling function, will use plain python wrapper.\n"
     ]
    },
    {
     "data": {
      "application/vnd.jupyter.widget-view+json": {
       "model_id": "d4ab04f54ce54bc08c029bf136452f70",
       "version_major": 2,
       "version_minor": 0
      },
      "text/plain": [
       "  0%|          | 0/799 [00:00<?, ?it/s]"
      ]
     },
     "metadata": {},
     "output_type": "display_data"
    },
    {
     "name": "stdout",
     "output_type": "stream",
     "text": [
      "Done running extractor at 2025-02-13 00:42:14.286335 total running time 0:00:00.097473\n",
      "Running extractor for features mel48_harmonic_freq_mean at 2025-02-13 00:42:14.286374\n",
      "Failed compiling function, will use plain python wrapper.\n"
     ]
    },
    {
     "data": {
      "application/vnd.jupyter.widget-view+json": {
       "model_id": "bc35afab0e824a329c56156e9dc706f9",
       "version_major": 2,
       "version_minor": 0
      },
      "text/plain": [
       "  0%|          | 0/799 [00:00<?, ?it/s]"
      ]
     },
     "metadata": {},
     "output_type": "display_data"
    },
    {
     "name": "stdout",
     "output_type": "stream",
     "text": [
      "Done running extractor at 2025-02-13 00:42:14.357873 total running time 0:00:00.071499\n"
     ]
    }
   ],
   "source": [
    "Extractor.register_mapper('mel48_freq_mean', lambda mel48: mel48.mean(axis=1))\n",
    "Extractor.register_mapper('mel48_freq_var', lambda mel48: mel48.var(axis=1))\n",
    "Extractor.register_mapper('mel48_harmonic_freq_mean', lambda mel48_harmonic: mel48_harmonic.mean(axis=1))\n",
    "Extractor.register_mapper('mel48_harmonic_freq_var', lambda mel48_harmonic: mel48_harmonic.var(axis=1))\n",
    "Extractor.register_mapper('mel48_percussive_freq_mean', lambda mel48_percussive: mel48_percussive.mean(axis=1))\n",
    "Extractor.register_mapper('mel48_percussive_freq_var', lambda mel48_percussive: mel48_percussive.var(axis=1))\n",
    "E_train.soft_extract()"
   ]
  },
  {
   "cell_type": "code",
   "execution_count": 29,
   "id": "86ac6df2-6898-42d1-a8b6-0a44428a4a99",
   "metadata": {},
   "outputs": [
    {
     "name": "stdout",
     "output_type": "stream",
     "text": [
      "0:\tlearn: 0.2863850\ttotal: 60.1ms\tremaining: 30s\n",
      "100:\tlearn: 0.8607199\ttotal: 2.02s\tremaining: 8s\n",
      "200:\tlearn: 0.9327074\ttotal: 4.06s\tremaining: 6.03s\n",
      "300:\tlearn: 0.9718310\ttotal: 5.93s\tremaining: 3.92s\n",
      "400:\tlearn: 0.9874804\ttotal: 7.79s\tremaining: 1.92s\n",
      "499:\tlearn: 0.9984351\ttotal: 9.66s\tremaining: 0us\n",
      "0:\tlearn: 0.2989045\ttotal: 30.5ms\tremaining: 15.2s\n",
      "100:\tlearn: 0.8748044\ttotal: 1.94s\tremaining: 7.68s\n",
      "200:\tlearn: 0.9327074\ttotal: 3.77s\tremaining: 5.61s\n",
      "300:\tlearn: 0.9733959\ttotal: 5.63s\tremaining: 3.72s\n",
      "400:\tlearn: 0.9859155\ttotal: 7.49s\tremaining: 1.85s\n",
      "499:\tlearn: 0.9921753\ttotal: 9.3s\tremaining: 0us\n",
      "0:\tlearn: 0.2989045\ttotal: 30.7ms\tremaining: 15.3s\n",
      "100:\tlearn: 0.8528951\ttotal: 1.92s\tremaining: 7.59s\n",
      "200:\tlearn: 0.9342723\ttotal: 3.74s\tremaining: 5.57s\n",
      "300:\tlearn: 0.9733959\ttotal: 5.61s\tremaining: 3.71s\n",
      "400:\tlearn: 0.9843505\ttotal: 7.54s\tremaining: 1.86s\n",
      "499:\tlearn: 0.9921753\ttotal: 9.36s\tremaining: 0us\n",
      "0:\tlearn: 0.2942097\ttotal: 31.2ms\tremaining: 15.6s\n",
      "100:\tlearn: 0.8528951\ttotal: 1.9s\tremaining: 7.52s\n",
      "200:\tlearn: 0.9295775\ttotal: 3.76s\tremaining: 5.59s\n",
      "300:\tlearn: 0.9640063\ttotal: 5.58s\tremaining: 3.69s\n",
      "400:\tlearn: 0.9859155\ttotal: 7.4s\tremaining: 1.83s\n",
      "499:\tlearn: 0.9937402\ttotal: 9.19s\tremaining: 0us\n",
      "0:\tlearn: 0.3218750\ttotal: 30.6ms\tremaining: 15.3s\n",
      "100:\tlearn: 0.8625000\ttotal: 1.9s\tremaining: 7.49s\n",
      "200:\tlearn: 0.9281250\ttotal: 3.73s\tremaining: 5.55s\n",
      "300:\tlearn: 0.9609375\ttotal: 5.56s\tremaining: 3.67s\n",
      "400:\tlearn: 0.9875000\ttotal: 7.38s\tremaining: 1.82s\n",
      "499:\tlearn: 0.9968750\ttotal: 9.17s\tremaining: 0us\n",
      "Mean Accuracy across 5 folds: 0.7409\n",
      "\n",
      "Classification Report (aggregated across folds):\n",
      "              precision    recall  f1-score   support\n",
      "\n",
      "       blues       0.78      0.72      0.75        80\n",
      "   classical       0.89      0.89      0.89        80\n",
      "     country       0.64      0.65      0.65        80\n",
      "       disco       0.69      0.74      0.72        80\n",
      "      hiphop       0.77      0.70      0.73        80\n",
      "        jazz       0.81      0.84      0.82        79\n",
      "       metal       0.78      0.80      0.79        80\n",
      "         pop       0.74      0.78      0.76        80\n",
      "      reggae       0.71      0.69      0.70        80\n",
      "        rock       0.60      0.61      0.60        80\n",
      "\n",
      "    accuracy                           0.74       799\n",
      "   macro avg       0.74      0.74      0.74       799\n",
      "weighted avg       0.74      0.74      0.74       799\n",
      "\n",
      "0:\tlearn: 0.3191489\ttotal: 30.5ms\tremaining: 15.2s\n",
      "100:\tlearn: 0.8460576\ttotal: 1.92s\tremaining: 7.58s\n",
      "200:\tlearn: 0.9224030\ttotal: 3.78s\tremaining: 5.62s\n",
      "300:\tlearn: 0.9536921\ttotal: 5.61s\tremaining: 3.71s\n",
      "400:\tlearn: 0.9787234\ttotal: 7.45s\tremaining: 1.84s\n",
      "499:\tlearn: 0.9874844\ttotal: 9.26s\tremaining: 0us\n"
     ]
    }
   ],
   "source": [
    "features = ['rms', 'bpm',\n",
    "    'mel48_freq_mean', 'mel48_freq_var',\n",
    "    'stft_harmonic_mean', 'mel48_harmonic_freq_mean', 'mel48_harmonic_freq_var',\n",
    "    'stft_percussive_mean', 'mel48_percussive_freq_mean', 'mel48_percussive_freq_var',\n",
    "    'mfcc_quef_mean', 'mfcc_quef_var',\n",
    "    'spectral_centroid_mean', 'spectral_centroid_var',\n",
    "    'cqt_chroma_freq_mean', 'cqt_chroma_freq_var',\n",
    "    'cqt_harmonic_chroma_freq_mean', 'cqt_harmonic_chroma_freq_var',\n",
    "    'rolloff_mean', 'rolloff_var',\n",
    "    'bandwidth_mean', 'bandwidth_var',\n",
    "    'percept_freq_mean', 'percept_freq_var',\n",
    "    'zero_crossing_rate_mean']\n",
    "\n",
    "model, acc = train_and_evaluate_catboost(\n",
    "    X=E_train.numpy(features),\n",
    "    y=y_train.to_numpy(),\n",
    ")"
   ]
  },
  {
   "cell_type": "code",
   "execution_count": 30,
   "id": "4e397281-5ba3-4bbc-801c-4a2cbfac4d27",
   "metadata": {
    "id": "4e397281-5ba3-4bbc-801c-4a2cbfac4d27"
   },
   "outputs": [
    {
     "data": {
      "text/html": [
       "<div>\n",
       "<style scoped>\n",
       "    .dataframe tbody tr th:only-of-type {\n",
       "        vertical-align: middle;\n",
       "    }\n",
       "\n",
       "    .dataframe tbody tr th {\n",
       "        vertical-align: top;\n",
       "    }\n",
       "\n",
       "    .dataframe thead th {\n",
       "        text-align: right;\n",
       "    }\n",
       "</style>\n",
       "<table border=\"1\" class=\"dataframe\">\n",
       "  <thead>\n",
       "    <tr style=\"text-align: right;\">\n",
       "      <th></th>\n",
       "      <th>importance</th>\n",
       "    </tr>\n",
       "  </thead>\n",
       "  <tbody>\n",
       "    <tr>\n",
       "      <th>mfcc_quef_mean_3</th>\n",
       "      <td>2.604016</td>\n",
       "    </tr>\n",
       "    <tr>\n",
       "      <th>mfcc_quef_mean_5</th>\n",
       "      <td>2.526090</td>\n",
       "    </tr>\n",
       "    <tr>\n",
       "      <th>bandwidth_mean</th>\n",
       "      <td>2.522673</td>\n",
       "    </tr>\n",
       "    <tr>\n",
       "      <th>mel48_percussive_freq_var_1</th>\n",
       "      <td>2.423438</td>\n",
       "    </tr>\n",
       "    <tr>\n",
       "      <th>mel48_percussive_freq_var_0</th>\n",
       "      <td>2.334968</td>\n",
       "    </tr>\n",
       "    <tr>\n",
       "      <th>mfcc_quef_var_4</th>\n",
       "      <td>2.315471</td>\n",
       "    </tr>\n",
       "    <tr>\n",
       "      <th>rms</th>\n",
       "      <td>1.781317</td>\n",
       "    </tr>\n",
       "    <tr>\n",
       "      <th>spectral_centroid_var</th>\n",
       "      <td>1.599715</td>\n",
       "    </tr>\n",
       "    <tr>\n",
       "      <th>percept_freq_var_1</th>\n",
       "      <td>1.565962</td>\n",
       "    </tr>\n",
       "    <tr>\n",
       "      <th>mfcc_quef_mean_8</th>\n",
       "      <td>1.362403</td>\n",
       "    </tr>\n",
       "    <tr>\n",
       "      <th>mel48_percussive_freq_var_4</th>\n",
       "      <td>1.340544</td>\n",
       "    </tr>\n",
       "    <tr>\n",
       "      <th>mel48_freq_mean_37</th>\n",
       "      <td>1.325962</td>\n",
       "    </tr>\n",
       "    <tr>\n",
       "      <th>mel48_percussive_freq_var_19</th>\n",
       "      <td>1.185031</td>\n",
       "    </tr>\n",
       "    <tr>\n",
       "      <th>percept_freq_mean_57</th>\n",
       "      <td>1.150263</td>\n",
       "    </tr>\n",
       "    <tr>\n",
       "      <th>mel48_freq_var_26</th>\n",
       "      <td>1.145619</td>\n",
       "    </tr>\n",
       "  </tbody>\n",
       "</table>\n",
       "</div>"
      ],
      "text/plain": [
       "                              importance\n",
       "mfcc_quef_mean_3                2.604016\n",
       "mfcc_quef_mean_5                2.526090\n",
       "bandwidth_mean                  2.522673\n",
       "mel48_percussive_freq_var_1     2.423438\n",
       "mel48_percussive_freq_var_0     2.334968\n",
       "mfcc_quef_var_4                 2.315471\n",
       "rms                             1.781317\n",
       "spectral_centroid_var           1.599715\n",
       "percept_freq_var_1              1.565962\n",
       "mfcc_quef_mean_8                1.362403\n",
       "mel48_percussive_freq_var_4     1.340544\n",
       "mel48_freq_mean_37              1.325962\n",
       "mel48_percussive_freq_var_19    1.185031\n",
       "percept_freq_mean_57            1.150263\n",
       "mel48_freq_var_26               1.145619"
      ]
     },
     "execution_count": 30,
     "metadata": {},
     "output_type": "execute_result"
    }
   ],
   "source": [
    "pd.DataFrame(\n",
    "    data=model.feature_importances_,\n",
    "    index=E_train.get_columns(features),\n",
    "    columns=['importance']\n",
    ").sort_values(by='importance', ascending=False).head(15)"
   ]
  },
  {
   "cell_type": "code",
   "execution_count": 31,
   "id": "50e454ff-7e64-4509-9f7c-b431efaaedc3",
   "metadata": {},
   "outputs": [
    {
     "name": "stdout",
     "output_type": "stream",
     "text": [
      "0:\tlearn: 0.3145540\ttotal: 42.6ms\tremaining: 21.3s\n",
      "100:\tlearn: 0.8560250\ttotal: 2.48s\tremaining: 9.79s\n",
      "200:\tlearn: 0.9483568\ttotal: 4.77s\tremaining: 7.09s\n",
      "300:\tlearn: 0.9733959\ttotal: 7.03s\tremaining: 4.65s\n",
      "400:\tlearn: 0.9921753\ttotal: 9.3s\tremaining: 2.3s\n",
      "499:\tlearn: 1.0000000\ttotal: 11.5s\tremaining: 0us\n",
      "0:\tlearn: 0.2989045\ttotal: 38.3ms\tremaining: 19.1s\n",
      "100:\tlearn: 0.8638498\ttotal: 2.37s\tremaining: 9.37s\n",
      "200:\tlearn: 0.9436620\ttotal: 4.66s\tremaining: 6.92s\n",
      "300:\tlearn: 0.9671362\ttotal: 6.95s\tremaining: 4.59s\n",
      "400:\tlearn: 0.9874804\ttotal: 9.2s\tremaining: 2.27s\n",
      "499:\tlearn: 0.9906103\ttotal: 11.4s\tremaining: 0us\n",
      "0:\tlearn: 0.2879499\ttotal: 39.8ms\tremaining: 19.8s\n",
      "100:\tlearn: 0.8544601\ttotal: 2.38s\tremaining: 9.41s\n",
      "200:\tlearn: 0.9327074\ttotal: 4.66s\tremaining: 6.93s\n",
      "300:\tlearn: 0.9608764\ttotal: 6.94s\tremaining: 4.59s\n",
      "400:\tlearn: 0.9812207\ttotal: 9.21s\tremaining: 2.27s\n",
      "499:\tlearn: 0.9953052\ttotal: 11.4s\tremaining: 0us\n",
      "0:\tlearn: 0.2973396\ttotal: 39.3ms\tremaining: 19.6s\n",
      "100:\tlearn: 0.8435055\ttotal: 2.38s\tremaining: 9.38s\n",
      "200:\tlearn: 0.9358372\ttotal: 4.66s\tremaining: 6.93s\n",
      "300:\tlearn: 0.9733959\ttotal: 6.91s\tremaining: 4.57s\n",
      "400:\tlearn: 0.9812207\ttotal: 9.18s\tremaining: 2.27s\n",
      "499:\tlearn: 0.9921753\ttotal: 11.4s\tremaining: 0us\n",
      "0:\tlearn: 0.3453125\ttotal: 38.7ms\tremaining: 19.3s\n",
      "100:\tlearn: 0.8421875\ttotal: 2.38s\tremaining: 9.38s\n",
      "200:\tlearn: 0.9359375\ttotal: 4.65s\tremaining: 6.91s\n",
      "300:\tlearn: 0.9656250\ttotal: 6.91s\tremaining: 4.57s\n",
      "400:\tlearn: 0.9890625\ttotal: 9.17s\tremaining: 2.26s\n",
      "499:\tlearn: 0.9968750\ttotal: 11.4s\tremaining: 0us\n",
      "Mean Accuracy across 5 folds: 0.7684\n",
      "\n",
      "Classification Report (aggregated across folds):\n",
      "              precision    recall  f1-score   support\n",
      "\n",
      "       blues       0.77      0.75      0.76        80\n",
      "   classical       0.88      0.90      0.89        80\n",
      "     country       0.72      0.71      0.72        80\n",
      "       disco       0.73      0.75      0.74        80\n",
      "      hiphop       0.76      0.71      0.74        80\n",
      "        jazz       0.82      0.85      0.83        79\n",
      "       metal       0.83      0.84      0.83        80\n",
      "         pop       0.83      0.80      0.82        80\n",
      "      reggae       0.70      0.71      0.70        80\n",
      "        rock       0.65      0.66      0.66        80\n",
      "\n",
      "    accuracy                           0.77       799\n",
      "   macro avg       0.77      0.77      0.77       799\n",
      "weighted avg       0.77      0.77      0.77       799\n",
      "\n",
      "0:\tlearn: 0.3028786\ttotal: 38.4ms\tremaining: 19.1s\n",
      "100:\tlearn: 0.8372966\ttotal: 2.4s\tremaining: 9.46s\n",
      "200:\tlearn: 0.9111389\ttotal: 4.69s\tremaining: 6.98s\n",
      "300:\tlearn: 0.9561952\ttotal: 6.98s\tremaining: 4.61s\n",
      "400:\tlearn: 0.9724656\ttotal: 9.27s\tremaining: 2.29s\n",
      "499:\tlearn: 0.9849812\ttotal: 11.5s\tremaining: 0us\n"
     ]
    }
   ],
   "source": [
    "features = ['rms', 'bpm',\n",
    "    'mel48_freq_mean', 'mel48_freq_var',\n",
    "    'cqt_harmonic_mean', 'cqt_harmonic_freq_mean', 'cqt_harmonic_freq_var',\n",
    "    'cqt_percussive_mean', 'cqt_percussive_freq_mean', 'cqt_percussive_freq_var',\n",
    "    'mfcc_quef_mean', 'mfcc_quef_var',\n",
    "    'spectral_centroid_mean', 'spectral_centroid_var',\n",
    "    'cqt_chroma_freq_mean', 'cqt_chroma_freq_var',\n",
    "    'cqt_harmonic_chroma_freq_mean', 'cqt_harmonic_chroma_freq_var',\n",
    "    'rolloff_mean', 'rolloff_var',\n",
    "    'bandwidth_mean', 'bandwidth_var',\n",
    "    'percept_freq_mean', 'percept_freq_var',\n",
    "    'zero_crossing_rate_mean']\n",
    "\n",
    "model, acc = train_and_evaluate_catboost(\n",
    "    X=E_train.numpy(features),\n",
    "    y=y_train.to_numpy(),\n",
    ")"
   ]
  },
  {
   "cell_type": "code",
   "execution_count": 32,
   "id": "3eb05e47-ceb3-4d01-a484-4698df232ce4",
   "metadata": {},
   "outputs": [
    {
     "data": {
      "text/html": [
       "<div>\n",
       "<style scoped>\n",
       "    .dataframe tbody tr th:only-of-type {\n",
       "        vertical-align: middle;\n",
       "    }\n",
       "\n",
       "    .dataframe tbody tr th {\n",
       "        vertical-align: top;\n",
       "    }\n",
       "\n",
       "    .dataframe thead th {\n",
       "        text-align: right;\n",
       "    }\n",
       "</style>\n",
       "<table border=\"1\" class=\"dataframe\">\n",
       "  <thead>\n",
       "    <tr style=\"text-align: right;\">\n",
       "      <th></th>\n",
       "      <th>importance</th>\n",
       "    </tr>\n",
       "  </thead>\n",
       "  <tbody>\n",
       "    <tr>\n",
       "      <th>cqt_percussive_freq_var_5</th>\n",
       "      <td>2.752950</td>\n",
       "    </tr>\n",
       "    <tr>\n",
       "      <th>mfcc_quef_var_4</th>\n",
       "      <td>1.861032</td>\n",
       "    </tr>\n",
       "    <tr>\n",
       "      <th>rolloff_var</th>\n",
       "      <td>1.830884</td>\n",
       "    </tr>\n",
       "    <tr>\n",
       "      <th>mfcc_quef_mean_3</th>\n",
       "      <td>1.636252</td>\n",
       "    </tr>\n",
       "    <tr>\n",
       "      <th>cqt_percussive_freq_var_24</th>\n",
       "      <td>1.595311</td>\n",
       "    </tr>\n",
       "    <tr>\n",
       "      <th>mfcc_quef_mean_5</th>\n",
       "      <td>1.549922</td>\n",
       "    </tr>\n",
       "    <tr>\n",
       "      <th>cqt_percussive_freq_var_28</th>\n",
       "      <td>1.436959</td>\n",
       "    </tr>\n",
       "    <tr>\n",
       "      <th>mfcc_quef_mean_8</th>\n",
       "      <td>1.400779</td>\n",
       "    </tr>\n",
       "    <tr>\n",
       "      <th>bandwidth_mean</th>\n",
       "      <td>1.386569</td>\n",
       "    </tr>\n",
       "    <tr>\n",
       "      <th>percept_freq_mean_64</th>\n",
       "      <td>1.369409</td>\n",
       "    </tr>\n",
       "    <tr>\n",
       "      <th>mfcc_quef_mean_16</th>\n",
       "      <td>1.362132</td>\n",
       "    </tr>\n",
       "    <tr>\n",
       "      <th>percept_freq_var_14</th>\n",
       "      <td>1.334743</td>\n",
       "    </tr>\n",
       "    <tr>\n",
       "      <th>mfcc_quef_var_3</th>\n",
       "      <td>1.314854</td>\n",
       "    </tr>\n",
       "    <tr>\n",
       "      <th>mfcc_quef_mean_11</th>\n",
       "      <td>1.217481</td>\n",
       "    </tr>\n",
       "    <tr>\n",
       "      <th>cqt_percussive_freq_mean_14</th>\n",
       "      <td>1.207290</td>\n",
       "    </tr>\n",
       "  </tbody>\n",
       "</table>\n",
       "</div>"
      ],
      "text/plain": [
       "                             importance\n",
       "cqt_percussive_freq_var_5      2.752950\n",
       "mfcc_quef_var_4                1.861032\n",
       "rolloff_var                    1.830884\n",
       "mfcc_quef_mean_3               1.636252\n",
       "cqt_percussive_freq_var_24     1.595311\n",
       "mfcc_quef_mean_5               1.549922\n",
       "cqt_percussive_freq_var_28     1.436959\n",
       "mfcc_quef_mean_8               1.400779\n",
       "bandwidth_mean                 1.386569\n",
       "percept_freq_mean_64           1.369409\n",
       "mfcc_quef_mean_16              1.362132\n",
       "percept_freq_var_14            1.334743\n",
       "mfcc_quef_var_3                1.314854\n",
       "mfcc_quef_mean_11              1.217481\n",
       "cqt_percussive_freq_mean_14    1.207290"
      ]
     },
     "execution_count": 32,
     "metadata": {},
     "output_type": "execute_result"
    }
   ],
   "source": [
    "pd.DataFrame(\n",
    "    data=model.feature_importances_,\n",
    "    index=E_train.get_columns(features),\n",
    "    columns=['importance']\n",
    ").sort_values(by='importance', ascending=False).head(15)"
   ]
  },
  {
   "cell_type": "code",
   "execution_count": 33,
   "id": "21f66ab9-4b61-49e6-9edc-54c87da52aa4",
   "metadata": {},
   "outputs": [
    {
     "data": {
      "text/html": [
       "<div>\n",
       "<style scoped>\n",
       "    .dataframe tbody tr th:only-of-type {\n",
       "        vertical-align: middle;\n",
       "    }\n",
       "\n",
       "    .dataframe tbody tr th {\n",
       "        vertical-align: top;\n",
       "    }\n",
       "\n",
       "    .dataframe thead th {\n",
       "        text-align: right;\n",
       "    }\n",
       "</style>\n",
       "<table border=\"1\" class=\"dataframe\">\n",
       "  <thead>\n",
       "    <tr style=\"text-align: right;\">\n",
       "      <th></th>\n",
       "      <th>importance</th>\n",
       "    </tr>\n",
       "  </thead>\n",
       "  <tbody>\n",
       "    <tr>\n",
       "      <th>rms</th>\n",
       "      <td>0.0</td>\n",
       "    </tr>\n",
       "    <tr>\n",
       "      <th>cqt_percussive_freq_mean_67</th>\n",
       "      <td>0.0</td>\n",
       "    </tr>\n",
       "    <tr>\n",
       "      <th>cqt_percussive_freq_mean_66</th>\n",
       "      <td>0.0</td>\n",
       "    </tr>\n",
       "    <tr>\n",
       "      <th>cqt_percussive_freq_mean_63</th>\n",
       "      <td>0.0</td>\n",
       "    </tr>\n",
       "    <tr>\n",
       "      <th>cqt_percussive_freq_mean_62</th>\n",
       "      <td>0.0</td>\n",
       "    </tr>\n",
       "    <tr>\n",
       "      <th>cqt_percussive_freq_mean_61</th>\n",
       "      <td>0.0</td>\n",
       "    </tr>\n",
       "    <tr>\n",
       "      <th>cqt_percussive_freq_mean_60</th>\n",
       "      <td>0.0</td>\n",
       "    </tr>\n",
       "    <tr>\n",
       "      <th>cqt_percussive_freq_mean_59</th>\n",
       "      <td>0.0</td>\n",
       "    </tr>\n",
       "    <tr>\n",
       "      <th>cqt_percussive_freq_mean_58</th>\n",
       "      <td>0.0</td>\n",
       "    </tr>\n",
       "    <tr>\n",
       "      <th>cqt_percussive_freq_mean_57</th>\n",
       "      <td>0.0</td>\n",
       "    </tr>\n",
       "    <tr>\n",
       "      <th>cqt_percussive_freq_mean_56</th>\n",
       "      <td>0.0</td>\n",
       "    </tr>\n",
       "    <tr>\n",
       "      <th>cqt_percussive_freq_mean_55</th>\n",
       "      <td>0.0</td>\n",
       "    </tr>\n",
       "    <tr>\n",
       "      <th>cqt_percussive_freq_mean_54</th>\n",
       "      <td>0.0</td>\n",
       "    </tr>\n",
       "    <tr>\n",
       "      <th>cqt_percussive_freq_mean_53</th>\n",
       "      <td>0.0</td>\n",
       "    </tr>\n",
       "    <tr>\n",
       "      <th>cqt_percussive_freq_mean_52</th>\n",
       "      <td>0.0</td>\n",
       "    </tr>\n",
       "    <tr>\n",
       "      <th>cqt_percussive_freq_mean_51</th>\n",
       "      <td>0.0</td>\n",
       "    </tr>\n",
       "    <tr>\n",
       "      <th>cqt_percussive_freq_mean_49</th>\n",
       "      <td>0.0</td>\n",
       "    </tr>\n",
       "    <tr>\n",
       "      <th>cqt_percussive_freq_mean_45</th>\n",
       "      <td>0.0</td>\n",
       "    </tr>\n",
       "    <tr>\n",
       "      <th>cqt_percussive_freq_mean_68</th>\n",
       "      <td>0.0</td>\n",
       "    </tr>\n",
       "    <tr>\n",
       "      <th>cqt_percussive_freq_mean_44</th>\n",
       "      <td>0.0</td>\n",
       "    </tr>\n",
       "    <tr>\n",
       "      <th>cqt_percussive_freq_mean_69</th>\n",
       "      <td>0.0</td>\n",
       "    </tr>\n",
       "    <tr>\n",
       "      <th>cqt_percussive_freq_mean_71</th>\n",
       "      <td>0.0</td>\n",
       "    </tr>\n",
       "    <tr>\n",
       "      <th>cqt_percussive_freq_var_31</th>\n",
       "      <td>0.0</td>\n",
       "    </tr>\n",
       "    <tr>\n",
       "      <th>cqt_percussive_freq_var_22</th>\n",
       "      <td>0.0</td>\n",
       "    </tr>\n",
       "    <tr>\n",
       "      <th>cqt_percussive_freq_var_19</th>\n",
       "      <td>0.0</td>\n",
       "    </tr>\n",
       "    <tr>\n",
       "      <th>cqt_percussive_freq_var_11</th>\n",
       "      <td>0.0</td>\n",
       "    </tr>\n",
       "    <tr>\n",
       "      <th>cqt_percussive_freq_var_10</th>\n",
       "      <td>0.0</td>\n",
       "    </tr>\n",
       "    <tr>\n",
       "      <th>cqt_percussive_freq_var_9</th>\n",
       "      <td>0.0</td>\n",
       "    </tr>\n",
       "    <tr>\n",
       "      <th>cqt_percussive_freq_var_3</th>\n",
       "      <td>0.0</td>\n",
       "    </tr>\n",
       "    <tr>\n",
       "      <th>cqt_percussive_freq_var_2</th>\n",
       "      <td>0.0</td>\n",
       "    </tr>\n",
       "  </tbody>\n",
       "</table>\n",
       "</div>"
      ],
      "text/plain": [
       "                             importance\n",
       "rms                                 0.0\n",
       "cqt_percussive_freq_mean_67         0.0\n",
       "cqt_percussive_freq_mean_66         0.0\n",
       "cqt_percussive_freq_mean_63         0.0\n",
       "cqt_percussive_freq_mean_62         0.0\n",
       "cqt_percussive_freq_mean_61         0.0\n",
       "cqt_percussive_freq_mean_60         0.0\n",
       "cqt_percussive_freq_mean_59         0.0\n",
       "cqt_percussive_freq_mean_58         0.0\n",
       "cqt_percussive_freq_mean_57         0.0\n",
       "cqt_percussive_freq_mean_56         0.0\n",
       "cqt_percussive_freq_mean_55         0.0\n",
       "cqt_percussive_freq_mean_54         0.0\n",
       "cqt_percussive_freq_mean_53         0.0\n",
       "cqt_percussive_freq_mean_52         0.0\n",
       "cqt_percussive_freq_mean_51         0.0\n",
       "cqt_percussive_freq_mean_49         0.0\n",
       "cqt_percussive_freq_mean_45         0.0\n",
       "cqt_percussive_freq_mean_68         0.0\n",
       "cqt_percussive_freq_mean_44         0.0\n",
       "cqt_percussive_freq_mean_69         0.0\n",
       "cqt_percussive_freq_mean_71         0.0\n",
       "cqt_percussive_freq_var_31          0.0\n",
       "cqt_percussive_freq_var_22          0.0\n",
       "cqt_percussive_freq_var_19          0.0\n",
       "cqt_percussive_freq_var_11          0.0\n",
       "cqt_percussive_freq_var_10          0.0\n",
       "cqt_percussive_freq_var_9           0.0\n",
       "cqt_percussive_freq_var_3           0.0\n",
       "cqt_percussive_freq_var_2           0.0"
      ]
     },
     "execution_count": 33,
     "metadata": {},
     "output_type": "execute_result"
    }
   ],
   "source": [
    "pd.DataFrame(\n",
    "    data=model.feature_importances_,\n",
    "    index=E_train.get_columns(features),\n",
    "    columns=['importance']\n",
    ").sort_values(by='importance', ascending=True).head(30)"
   ]
  },
  {
   "cell_type": "code",
   "execution_count": 34,
   "id": "9a938400-1bc8-42f4-a2e5-dfa211d5bf73",
   "metadata": {},
   "outputs": [
    {
     "data": {
      "text/html": [
       "<div>\n",
       "<style scoped>\n",
       "    .dataframe tbody tr th:only-of-type {\n",
       "        vertical-align: middle;\n",
       "    }\n",
       "\n",
       "    .dataframe tbody tr th {\n",
       "        vertical-align: top;\n",
       "    }\n",
       "\n",
       "    .dataframe thead th {\n",
       "        text-align: right;\n",
       "    }\n",
       "</style>\n",
       "<table border=\"1\" class=\"dataframe\">\n",
       "  <thead>\n",
       "    <tr style=\"text-align: right;\">\n",
       "      <th></th>\n",
       "      <th>importance</th>\n",
       "    </tr>\n",
       "  </thead>\n",
       "  <tbody>\n",
       "    <tr>\n",
       "      <th>cqt_percussive_freq_var_5</th>\n",
       "      <td>2.752950</td>\n",
       "    </tr>\n",
       "    <tr>\n",
       "      <th>cqt_percussive_freq_var_24</th>\n",
       "      <td>1.595311</td>\n",
       "    </tr>\n",
       "    <tr>\n",
       "      <th>cqt_percussive_freq_var_28</th>\n",
       "      <td>1.436959</td>\n",
       "    </tr>\n",
       "    <tr>\n",
       "      <th>cqt_percussive_freq_mean_14</th>\n",
       "      <td>1.207290</td>\n",
       "    </tr>\n",
       "    <tr>\n",
       "      <th>cqt_percussive_freq_var_20</th>\n",
       "      <td>0.892143</td>\n",
       "    </tr>\n",
       "    <tr>\n",
       "      <th>cqt_percussive_freq_var_29</th>\n",
       "      <td>0.867401</td>\n",
       "    </tr>\n",
       "    <tr>\n",
       "      <th>cqt_percussive_freq_var_36</th>\n",
       "      <td>0.785187</td>\n",
       "    </tr>\n",
       "    <tr>\n",
       "      <th>cqt_percussive_freq_mean_30</th>\n",
       "      <td>0.703420</td>\n",
       "    </tr>\n",
       "    <tr>\n",
       "      <th>cqt_percussive_freq_var_23</th>\n",
       "      <td>0.654190</td>\n",
       "    </tr>\n",
       "    <tr>\n",
       "      <th>cqt_percussive_freq_var_26</th>\n",
       "      <td>0.637286</td>\n",
       "    </tr>\n",
       "    <tr>\n",
       "      <th>cqt_percussive_mean</th>\n",
       "      <td>0.623327</td>\n",
       "    </tr>\n",
       "    <tr>\n",
       "      <th>cqt_percussive_freq_var_18</th>\n",
       "      <td>0.505139</td>\n",
       "    </tr>\n",
       "    <tr>\n",
       "      <th>cqt_percussive_freq_mean_16</th>\n",
       "      <td>0.493191</td>\n",
       "    </tr>\n",
       "    <tr>\n",
       "      <th>cqt_percussive_freq_var_14</th>\n",
       "      <td>0.432595</td>\n",
       "    </tr>\n",
       "    <tr>\n",
       "      <th>cqt_percussive_freq_mean_20</th>\n",
       "      <td>0.420129</td>\n",
       "    </tr>\n",
       "    <tr>\n",
       "      <th>cqt_percussive_freq_var_16</th>\n",
       "      <td>0.418809</td>\n",
       "    </tr>\n",
       "    <tr>\n",
       "      <th>cqt_percussive_freq_mean_9</th>\n",
       "      <td>0.414448</td>\n",
       "    </tr>\n",
       "    <tr>\n",
       "      <th>cqt_percussive_freq_var_35</th>\n",
       "      <td>0.405116</td>\n",
       "    </tr>\n",
       "    <tr>\n",
       "      <th>cqt_percussive_freq_mean_65</th>\n",
       "      <td>0.402821</td>\n",
       "    </tr>\n",
       "    <tr>\n",
       "      <th>cqt_percussive_freq_var_44</th>\n",
       "      <td>0.351351</td>\n",
       "    </tr>\n",
       "    <tr>\n",
       "      <th>cqt_percussive_freq_mean_21</th>\n",
       "      <td>0.350400</td>\n",
       "    </tr>\n",
       "    <tr>\n",
       "      <th>cqt_percussive_freq_var_33</th>\n",
       "      <td>0.341980</td>\n",
       "    </tr>\n",
       "    <tr>\n",
       "      <th>cqt_percussive_freq_mean_24</th>\n",
       "      <td>0.324868</td>\n",
       "    </tr>\n",
       "    <tr>\n",
       "      <th>cqt_percussive_freq_mean_28</th>\n",
       "      <td>0.321654</td>\n",
       "    </tr>\n",
       "    <tr>\n",
       "      <th>cqt_percussive_freq_var_17</th>\n",
       "      <td>0.314053</td>\n",
       "    </tr>\n",
       "    <tr>\n",
       "      <th>cqt_percussive_freq_var_21</th>\n",
       "      <td>0.309556</td>\n",
       "    </tr>\n",
       "    <tr>\n",
       "      <th>cqt_percussive_freq_var_13</th>\n",
       "      <td>0.303246</td>\n",
       "    </tr>\n",
       "    <tr>\n",
       "      <th>cqt_percussive_freq_var_4</th>\n",
       "      <td>0.299916</td>\n",
       "    </tr>\n",
       "    <tr>\n",
       "      <th>cqt_percussive_freq_var_46</th>\n",
       "      <td>0.283021</td>\n",
       "    </tr>\n",
       "    <tr>\n",
       "      <th>cqt_percussive_freq_mean_77</th>\n",
       "      <td>0.263346</td>\n",
       "    </tr>\n",
       "  </tbody>\n",
       "</table>\n",
       "</div>"
      ],
      "text/plain": [
       "                             importance\n",
       "cqt_percussive_freq_var_5      2.752950\n",
       "cqt_percussive_freq_var_24     1.595311\n",
       "cqt_percussive_freq_var_28     1.436959\n",
       "cqt_percussive_freq_mean_14    1.207290\n",
       "cqt_percussive_freq_var_20     0.892143\n",
       "cqt_percussive_freq_var_29     0.867401\n",
       "cqt_percussive_freq_var_36     0.785187\n",
       "cqt_percussive_freq_mean_30    0.703420\n",
       "cqt_percussive_freq_var_23     0.654190\n",
       "cqt_percussive_freq_var_26     0.637286\n",
       "cqt_percussive_mean            0.623327\n",
       "cqt_percussive_freq_var_18     0.505139\n",
       "cqt_percussive_freq_mean_16    0.493191\n",
       "cqt_percussive_freq_var_14     0.432595\n",
       "cqt_percussive_freq_mean_20    0.420129\n",
       "cqt_percussive_freq_var_16     0.418809\n",
       "cqt_percussive_freq_mean_9     0.414448\n",
       "cqt_percussive_freq_var_35     0.405116\n",
       "cqt_percussive_freq_mean_65    0.402821\n",
       "cqt_percussive_freq_var_44     0.351351\n",
       "cqt_percussive_freq_mean_21    0.350400\n",
       "cqt_percussive_freq_var_33     0.341980\n",
       "cqt_percussive_freq_mean_24    0.324868\n",
       "cqt_percussive_freq_mean_28    0.321654\n",
       "cqt_percussive_freq_var_17     0.314053\n",
       "cqt_percussive_freq_var_21     0.309556\n",
       "cqt_percussive_freq_var_13     0.303246\n",
       "cqt_percussive_freq_var_4      0.299916\n",
       "cqt_percussive_freq_var_46     0.283021\n",
       "cqt_percussive_freq_mean_77    0.263346"
      ]
     },
     "execution_count": 34,
     "metadata": {},
     "output_type": "execute_result"
    }
   ],
   "source": [
    "df = pd.DataFrame(\n",
    "    data=model.feature_importances_,\n",
    "    index=E_train.get_columns(features),\n",
    "    columns=['importance']\n",
    ")\n",
    "df.loc[pd.Series(df.index, index=df.index).apply(lambda x: x.startswith('cqt_percussive'))].sort_values('importance', ascending=False).head(30)"
   ]
  },
  {
   "cell_type": "code",
   "execution_count": 35,
   "id": "15a1b534-7588-4029-9e8c-a63738f9a75d",
   "metadata": {},
   "outputs": [
    {
     "data": {
      "text/plain": [
       "<matplotlib.collections.PolyQuadMesh at 0x163480a70>"
      ]
     },
     "execution_count": 35,
     "metadata": {},
     "output_type": "execute_result"
    },
    {
     "data": {
      "image/png": "[encoded data removed]",
      "text/plain": [
       "<Figure size 640x480 with 1 Axes>"
      ]
     },
     "metadata": {},
     "output_type": "display_data"
    }
   ],
   "source": [
    "import matplotlib.pyplot as plt\n",
    "i = iter(E_train.features['cqt_percussive'])\n",
    "next(i)\n",
    "plt.pcolor(next(i)[0])"
   ]
  },
  {
   "cell_type": "code",
   "execution_count": 36,
   "id": "59bdd21d-1dfa-4d56-888e-6e66251d642f",
   "metadata": {},
   "outputs": [],
   "source": [
    "# import importlib\n",
    "# train_and_evaluate_catboost = importlib.reload(importlib.import_module(\"model\")).train_and_evaluate_catboost"
   ]
  },
  {
   "cell_type": "code",
   "execution_count": 37,
   "id": "4f1794d9-ff77-4f4b-a8a5-42c13c977af3",
   "metadata": {},
   "outputs": [],
   "source": [
    "# import optuna\n",
    "\n",
    "# optuna.logging.set_verbosity(optuna.logging.WARNING)\n",
    "\n",
    "# features = ['rms', 'bpm',\n",
    "#     'mel48_freq_mean', 'mel48_freq_var',\n",
    "#     'cqt_harmonic_mean', 'cqt_harmonic_freq_mean', 'cqt_harmonic_freq_var',\n",
    "#     'cqt_percussive_mean', 'cqt_percussive_freq_mean', 'cqt_percussive_freq_var',\n",
    "#     'mfcc_quef_mean', 'mfcc_quef_var',\n",
    "#     'spectral_centroid_mean', 'spectral_centroid_var',\n",
    "#     'cqt_chroma_freq_mean', 'cqt_chroma_freq_var',\n",
    "#     'cqt_harmonic_chroma_freq_mean', 'cqt_harmonic_chroma_freq_var',\n",
    "#     'rolloff_mean', 'rolloff_var',\n",
    "#     'bandwidth_mean', 'bandwidth_var',\n",
    "#     'percept_freq_mean', 'percept_freq_var',\n",
    "#     'zero_crossing_rate_mean']\n",
    "\n",
    "# all_features = ['rms', 'bpm',\n",
    "#     'mel_freq_mean', 'mel_freq_var',\n",
    "#     'mel48_freq_mean', 'mel48_freq_var',\n",
    "#     'cqt_freq_mean', 'cqt_freq_var',\n",
    "#     'stft_harmonic_mean', 'stft_harmonic_var', 'mel_harmonic_freq_mean', 'mel_harmonic_freq_var', 'mel48_harmonic_freq_mean', 'mel48_harmonic_freq_var',\n",
    "#     'cqt_harmonic_mean', 'cqt_harmonic_var', 'cqt_harmonic_freq_mean', 'cqt_harmonic_freq_var',\n",
    "#     'stft_percussive_mean', 'stft_percussive_var', 'mel_percussive_freq_mean', 'mel_percussive_freq_var', 'mel48_percussive_freq_mean', 'mel48_percussive_freq_var',\n",
    "#     'cqt_percussive_mean', 'cqt_percussive_freq_mean', 'cqt_percussive_freq_var',\n",
    "#     'mfcc_quef_mean', 'mfcc_quef_var',\n",
    "#     'spectral_centroid_mean', 'spectral_centroid_var',\n",
    "#     'stft_chroma_mean', 'stft_chroma_var', 'stft_chroma_freq_mean', 'stft_chroma_freq_var',\n",
    "#     'cqt_chroma_mean', 'cqt_chroma_var', 'cqt_chroma_freq_mean', 'cqt_chroma_freq_var',\n",
    "#     'cqt_harmonic_chroma_freq_mean', 'cqt_harmonic_chroma_freq_var',\n",
    "#     'rolloff_mean', 'rolloff_var',\n",
    "#     'bandwidth_mean', 'bandwidth_var',\n",
    "#     'percept_freq_mean', 'percept_freq_var',\n",
    "#     'zero_crossing_rate_mean', 'zero_crossing_rate_var']\n",
    "\n",
    "# def objective(trial, X, y, column_names):\n",
    "#     num_features = X.shape[1]\n",
    "#     selected_features = [trial.suggest_categorical(column_names[i], [0, 1]) for i in range(num_features)]\n",
    "#     selected_features = np.array(selected_features, dtype=bool)\n",
    "    \n",
    "#     if np.sum(selected_features) == 0:\n",
    "#         return 0  # Avoid empty feature selection\n",
    "\n",
    "#     X = X[:, selected_features]\n",
    "    \n",
    "#     _, acc = train_and_evaluate_catboost(X, y, verbose=False, train_final=False)\n",
    "#     return acc\n",
    "\n",
    "# def feature_selection_with_optuna(X, y, column_names, initial_features, n_trials=50):\n",
    "#     study = optuna.create_study(direction='maximize', storage=\"sqlite:///optuna.db\")\n",
    "#     if initial_features is not None:\n",
    "#         initial_params = {c: int(c in initial_features) for c in column_names}\n",
    "#         study.enqueue_trial(initial_params)\n",
    "#     study.optimize(lambda trial: objective(trial, X, y, column_names), n_trials=n_trials)\n",
    "    \n",
    "#     best_features = [i for i in range(X.shape[1]) if study.best_trial.params.get(column_names[i], 0) == 1]\n",
    "#     return best_features, study.best_value\n",
    "\n",
    "# best_features, best_value = feature_selection_with_optuna(\n",
    "#     E_train.numpy(all_features),\n",
    "#     y_train.to_numpy(),\n",
    "#     column_names=E_train.get_columns(all_features),\n",
    "#     initial_features=E_train.get_columns(features)\n",
    "# )"
   ]
  },
  {
   "cell_type": "code",
   "execution_count": 38,
   "id": "8f480773-7e23-43e9-aed6-fc860e649b02",
   "metadata": {},
   "outputs": [],
   "source": [
    "imp = pd.DataFrame(\n",
    "    data=model.feature_importances_,\n",
    "    index=E_train.get_columns(features),\n",
    "    columns=['importance']\n",
    ")\n",
    "bad_feats = list(imp[imp['importance'] < 0.1].index)"
   ]
  },
  {
   "cell_type": "code",
   "execution_count": 39,
   "id": "8a580f67-44d4-4308-a7ea-b6d275359159",
   "metadata": {},
   "outputs": [
    {
     "name": "stdout",
     "output_type": "stream",
     "text": [
      "0:\tlearn: 0.3239437\ttotal: 13.6ms\tremaining: 6.79s\n",
      "100:\tlearn: 0.8669797\ttotal: 802ms\tremaining: 3.17s\n",
      "200:\tlearn: 0.9546166\ttotal: 1.58s\tremaining: 2.35s\n",
      "300:\tlearn: 0.9702660\ttotal: 2.35s\tremaining: 1.55s\n",
      "400:\tlearn: 0.9906103\ttotal: 3.11s\tremaining: 769ms\n",
      "499:\tlearn: 0.9968701\ttotal: 3.9s\tremaining: 0us\n",
      "0:\tlearn: 0.3505477\ttotal: 13.4ms\tremaining: 6.71s\n",
      "100:\tlearn: 0.8810642\ttotal: 810ms\tremaining: 3.2s\n",
      "200:\tlearn: 0.9358372\ttotal: 1.59s\tremaining: 2.36s\n",
      "300:\tlearn: 0.9671362\ttotal: 2.37s\tremaining: 1.56s\n",
      "400:\tlearn: 0.9812207\ttotal: 3.13s\tremaining: 773ms\n",
      "499:\tlearn: 0.9906103\ttotal: 3.9s\tremaining: 0us\n",
      "0:\tlearn: 0.2989045\ttotal: 12.8ms\tremaining: 6.39s\n",
      "100:\tlearn: 0.8716745\ttotal: 798ms\tremaining: 3.15s\n",
      "200:\tlearn: 0.9420970\ttotal: 1.57s\tremaining: 2.34s\n",
      "300:\tlearn: 0.9733959\ttotal: 2.34s\tremaining: 1.54s\n",
      "400:\tlearn: 0.9859155\ttotal: 3.11s\tremaining: 768ms\n",
      "499:\tlearn: 0.9921753\ttotal: 3.86s\tremaining: 0us\n",
      "0:\tlearn: 0.2456964\ttotal: 13.2ms\tremaining: 6.59s\n",
      "100:\tlearn: 0.8654147\ttotal: 800ms\tremaining: 3.16s\n",
      "200:\tlearn: 0.9467919\ttotal: 1.57s\tremaining: 2.33s\n",
      "300:\tlearn: 0.9812207\ttotal: 2.35s\tremaining: 1.55s\n",
      "400:\tlearn: 0.9843505\ttotal: 3.11s\tremaining: 768ms\n",
      "499:\tlearn: 0.9921753\ttotal: 3.87s\tremaining: 0us\n",
      "0:\tlearn: 0.3000000\ttotal: 13ms\tremaining: 6.49s\n",
      "100:\tlearn: 0.8687500\ttotal: 794ms\tremaining: 3.14s\n",
      "200:\tlearn: 0.9375000\ttotal: 1.57s\tremaining: 2.33s\n",
      "300:\tlearn: 0.9687500\ttotal: 2.34s\tremaining: 1.54s\n",
      "400:\tlearn: 0.9890625\ttotal: 3.11s\tremaining: 767ms\n",
      "499:\tlearn: 0.9953125\ttotal: 3.87s\tremaining: 0us\n",
      "Mean Accuracy across 5 folds: 0.7635\n",
      "\n",
      "Classification Report (aggregated across folds):\n",
      "              precision    recall  f1-score   support\n",
      "\n",
      "       blues       0.82      0.81      0.82        80\n",
      "   classical       0.88      0.89      0.88        80\n",
      "     country       0.71      0.74      0.72        80\n",
      "       disco       0.70      0.75      0.72        80\n",
      "      hiphop       0.71      0.69      0.70        80\n",
      "        jazz       0.78      0.84      0.80        79\n",
      "       metal       0.86      0.84      0.85        80\n",
      "         pop       0.82      0.78      0.79        80\n",
      "      reggae       0.74      0.74      0.74        80\n",
      "        rock       0.63      0.57      0.60        80\n",
      "\n",
      "    accuracy                           0.76       799\n",
      "   macro avg       0.76      0.76      0.76       799\n",
      "weighted avg       0.76      0.76      0.76       799\n",
      "\n",
      "0:\tlearn: 0.3153942\ttotal: 13.2ms\tremaining: 6.59s\n",
      "100:\tlearn: 0.8485607\ttotal: 810ms\tremaining: 3.2s\n",
      "200:\tlearn: 0.9311640\ttotal: 1.62s\tremaining: 2.41s\n",
      "300:\tlearn: 0.9624531\ttotal: 2.4s\tremaining: 1.59s\n",
      "400:\tlearn: 0.9774718\ttotal: 3.18s\tremaining: 785ms\n",
      "499:\tlearn: 0.9874844\ttotal: 3.95s\tremaining: 0us\n"
     ]
    }
   ],
   "source": [
    "features = ['rms', 'bpm',\n",
    "    'mel48_freq_mean', 'mel48_freq_var',\n",
    "    'cqt_harmonic_mean', 'cqt_harmonic_freq_mean', 'cqt_harmonic_freq_var',\n",
    "    'cqt_percussive_mean', 'cqt_percussive_freq_mean', 'cqt_percussive_freq_var',\n",
    "    'mfcc_quef_mean', 'mfcc_quef_var',\n",
    "    'spectral_centroid_mean', 'spectral_centroid_var',\n",
    "    'cqt_chroma_freq_mean', 'cqt_chroma_freq_var',\n",
    "    'cqt_harmonic_chroma_freq_mean', 'cqt_harmonic_chroma_freq_var',\n",
    "    'rolloff_mean', 'rolloff_var',\n",
    "    'bandwidth_mean', 'bandwidth_var',\n",
    "    'percept_freq_mean', 'percept_freq_var',\n",
    "    'zero_crossing_rate_mean']\n",
    "\n",
    "column_names = E_train.get_columns(features)\n",
    "mask = np.array([x not in bad_feats for x in column_names])\n",
    "\n",
    "model, acc = train_and_evaluate_catboost(\n",
    "    X=E_train.numpy(features)[:, mask],\n",
    "    y=y_train.to_numpy(),\n",
    ")"
   ]
  },
  {
   "cell_type": "code",
   "execution_count": 40,
   "id": "99f37651-ab45-49f9-b25e-b892324430dd",
   "metadata": {},
   "outputs": [],
   "source": [
    "import numpy as np\n",
    "import librosa\n",
    "\n",
    "p_pitch_stay=0.6\n",
    "p_pitch_to_silence=0.3\n",
    "p_silence_stay=0.8\n",
    "win_size=3\n",
    "base_weight=1.0\n",
    "tri_weight=2.0\n",
    "energy_scale=0.5\n",
    "harmonic_weights=[0.8, 0.6, 0.4]\n",
    "eps=1e-6\n",
    "\n",
    "import numpy as np\n",
    "import librosa\n",
    "\n",
    "def compute_f0_from_cqt(cqt):\n",
    "    \"\"\"\n",
    "    Estimate the fundamental frequency (f0) from a CQT spectrogram using Viterbi decoding,\n",
    "    incorporating:\n",
    "      (a) a silence state with frame-dependent observation probability,\n",
    "      (b) a custom transition matrix with a constant plus triangular smoothing, and\n",
    "      (c) a harmonic weighting scheme that boosts candidate pitch observations if overtones are present.\n",
    "    \n",
    "    Observation probabilities:\n",
    "      - For each frame, silence probability is computed from the original frame energy as:\n",
    "            silence_obs_prob = 1/(1 + (frame_energy/energy_scale))\n",
    "      - For pitch states, the CQT magnitudes are first “boosted” by adding weighted contributions\n",
    "        from overtones. For each candidate state (bin i with center frequency f[i]):\n",
    "            weighted_cqt[i,t] = cqt_spec[i,t] + sum_{k=2}^{K} (h[k-2] * cqt_spec[j,t])\n",
    "        where j is the index whose center frequency is closest to k*f[i] and K is the maximum harmonic\n",
    "        for which k*f[i] is within the range of cqt_frequencies.\n",
    "      - The boosted magnitudes for pitch states are normalized per frame and then scaled by (1 – silence_obs_prob[t]).\n",
    "      - The silence observation probability (computed per frame) is appended as the extra state.\n",
    "    \n",
    "    Transition matrix for states:\n",
    "      - For pitch states (indices 0 to n_bins-1):\n",
    "           • Self-transition probability is p_pitch_stay.\n",
    "           • A fixed probability p_pitch_to_silence is allocated for transitions to silence.\n",
    "           • The remaining mass (1 – p_pitch_stay – p_pitch_to_silence) is distributed among transitions to\n",
    "             other pitch states using a smoothing function:\n",
    "               weight(i -> j) = base_weight + (if |i – j| <= win_size then tri_weight * (win_size – |i – j| + 1) else 0)\n",
    "             (These raw weights are normalized to sum to the available probability mass.)\n",
    "      - For the silence state (index n_bins):\n",
    "           • Self-transition probability is p_silence_stay.\n",
    "           • Transitions from silence to any pitch state are uniform.\n",
    "    \n",
    "    Parameters:\n",
    "        cqt_spec (np.ndarray): 2D array (n_bins x n_frames) with the magnitude CQT spectrogram.\n",
    "        cqt_frequencies (np.ndarray): 1D array (length n_bins) of center frequencies for the CQT bins.\n",
    "        p_pitch_stay (float): Probability of remaining in the same pitch state.\n",
    "        p_pitch_to_silence (float): Probability of transitioning from a pitch state to silence.\n",
    "        p_silence_stay (float): Self-transition probability for the silence state.\n",
    "        win_size (int): Window size (in bins) for the triangular smoothing component.\n",
    "        base_weight (float): Baseline weight for transitions between different pitch states.\n",
    "        tri_weight (float): Additional weight for transitions to nearby notes within win_size.\n",
    "        energy_scale (float): Scaling factor for computing silence probability from frame energy.\n",
    "        harmonic_weights (list of float): List of weights for overtones (starting with the 2nd harmonic).\n",
    "        eps (float): Small constant to avoid division by zero.\n",
    "    \n",
    "    Returns:\n",
    "        f0 (np.ndarray): 1D array (n_frames) of estimated f0 in Hz (0 for silent frames).\n",
    "        f0_bins (np.ndarray): 1D array (n_frames) with the index of the chosen pitch bin (-1 for silence).\n",
    "        voiced (np.ndarray): 1D boolean array (n_frames), True if the frame is voiced.\n",
    "    \"\"\"\n",
    "    n_bins, n_frames = cqt.shape\n",
    "    n_states = n_bins + 1  # extra state for silence\n",
    "    silence_state = n_bins\n",
    "\n",
    "    # --- Compute frame energy and silence observation probability ---\n",
    "    frame_energy = np.sum(cqt, axis=0)  # energy per frame\n",
    "    silence_obs_prob = 1.0 / (1.0 + (frame_energy / energy_scale))  # higher when energy is low\n",
    "\n",
    "    # --- Harmonic weighting of pitch observations ---\n",
    "    # Create a weighted version of the CQT magnitudes so that each candidate's observation is boosted by its overtones.\n",
    "    weighted_cqt = np.empty_like(cqt)\n",
    "    for i in range(n_bins):\n",
    "        # Start with the fundamental magnitude.\n",
    "        # weighted_cqt[i, t] = cqt_spec[i, t] plus contributions from overtones.\n",
    "        weighted = cqt[i, :].copy()\n",
    "        f0_candidate = cqt_frequencies[i]\n",
    "        # Iterate over harmonics k=2,3,...\n",
    "        for k, weight in enumerate(harmonic_weights, start=2):\n",
    "            f_harm = k * f0_candidate\n",
    "            # If the harmonic frequency exceeds the max frequency in our CQT, stop.\n",
    "            if f_harm > cqt_frequencies[-1]:\n",
    "                break\n",
    "            # Find the bin whose center frequency is closest to the expected harmonic frequency.\n",
    "            j = np.argmin(np.abs(cqt_frequencies - f_harm))\n",
    "            # Add the weighted energy from the overtone.\n",
    "            weighted += weight * cqt[j, :]\n",
    "        weighted_cqt[i, :] = weighted\n",
    "    weighted_cqt = weighted_cqt * np.log(10 + np.arange(n_bins))[:, None]\n",
    "    # --- Build the observation (emission) probability matrix ---\n",
    "    # For each frame, normalize the weighted pitch observations.\n",
    "    sum_weighted = np.sum(weighted_cqt, axis=0, keepdims=True) + eps\n",
    "    # Pitch observation probabilities scaled by (1 - silence_obs_prob).\n",
    "    obs_pitch = weighted_cqt / sum_weighted * (1 - silence_obs_prob[None, :])\n",
    "    # Silence observation probabilities (shape: 1 x n_frames)\n",
    "    obs_silence = silence_obs_prob[None, :]\n",
    "    # Combined observation matrix: shape (n_states, n_frames), each column sums to 1.\n",
    "    obs_probs = np.vstack([obs_pitch, obs_silence])\n",
    "    \n",
    "    # --- Build the transition probability matrix ---\n",
    "    transition = np.zeros((n_states, n_states), dtype=np.float64)\n",
    "    \n",
    "    # For each pitch state (indices 0 to n_bins-1):\n",
    "    for i in range(n_bins):\n",
    "        # Self-transition: remain on the same note.\n",
    "        transition[i, i] = p_pitch_stay\n",
    "\n",
    "        # Compute raw weights for transitions to other pitch states.\n",
    "        raw_weights = np.zeros(n_bins, dtype=np.float64)\n",
    "        for j in range(n_bins):\n",
    "            if j == i:\n",
    "                continue\n",
    "            # Distance between candidate states.\n",
    "            dist = abs(i - j)\n",
    "            # Triangular component if within win_size.\n",
    "            if dist <= win_size:\n",
    "                tri_comp = tri_weight * (win_size - dist + 1)\n",
    "            else:\n",
    "                tri_comp = 0.0\n",
    "            raw_weights[j] = base_weight + tri_comp\n",
    "\n",
    "        # Total probability mass available for transitions to other pitch states.\n",
    "        avail_mass = 1 - p_pitch_stay - p_pitch_to_silence\n",
    "        if raw_weights.sum() > 0:\n",
    "            raw_weights = raw_weights / raw_weights.sum() * avail_mass\n",
    "        else:\n",
    "            raw_weights[:] = avail_mass / (n_bins - 1)\n",
    "        # Assign probabilities for transitioning from pitch state i to other pitch states.\n",
    "        for j in range(n_bins):\n",
    "            if j != i:\n",
    "                transition[i, j] = raw_weights[j]\n",
    "        # Transition probability from pitch state i to silence.\n",
    "        transition[i, silence_state] = p_pitch_to_silence\n",
    "\n",
    "    # For the silence state:\n",
    "    # Transition from silence to any pitch state uniformly.\n",
    "    transition[silence_state, :n_bins] = (1 - p_silence_stay) / n_bins\n",
    "    # Self-transition for silence.\n",
    "    transition[silence_state, silence_state] = p_silence_stay\n",
    "\n",
    "    # --- Run the Viterbi algorithm ---\n",
    "    # librosa.sequence.viterbi expects 1-normalized probabilities; it will take the logarithm internally.\n",
    "    best_path = librosa.sequence.viterbi(obs_probs, transition)\n",
    "\n",
    "    # --- Post-processing: interpret state sequence ---\n",
    "    # Pitch states are indices 0 ... n_bins-1; silence is indicated by state n_bins.\n",
    "    voiced = best_path < n_bins\n",
    "    f0_bins = np.where(voiced, best_path, -1)\n",
    "    f0 = np.zeros(n_frames, dtype=np.float64)\n",
    "    f0[voiced] = cqt_frequencies[best_path[voiced]]\n",
    "\n",
    "    return f0, f0_bins, voiced"
   ]
  },
  {
   "cell_type": "code",
   "execution_count": 41,
   "id": "af1509f3-b0b1-463d-89f2-16872107b78f",
   "metadata": {},
   "outputs": [],
   "source": [
    "f0, f0_bins, voiced = compute_f0_from_cqt(next(iter(E_train.features['cqt']))[0])"
   ]
  },
  {
   "cell_type": "code",
   "execution_count": 42,
   "id": "037560c1-a916-4ce3-b0bc-f4e333dfe7d4",
   "metadata": {},
   "outputs": [],
   "source": [
    "# f0_pyin, voiced, _ = librosa.pyin(next(iter(E_train.features['audio']))[0], sr=sr, fmin=fmin, fmax=fmax)"
   ]
  },
  {
   "cell_type": "code",
   "execution_count": 43,
   "id": "8c57ea87-96e5-4d05-a08e-b5d8edf657fb",
   "metadata": {},
   "outputs": [],
   "source": [
    "# f0_pyin[~voiced] = -1"
   ]
  },
  {
   "cell_type": "code",
   "execution_count": 44,
   "id": "9675f7c8-1b2a-4aa9-9c23-ec6ae2dabd68",
   "metadata": {},
   "outputs": [],
   "source": [
    "# spec.shape"
   ]
  },
  {
   "cell_type": "code",
   "execution_count": 46,
   "id": "a4c79d75-d45a-4bda-99c4-5b4f498ba018",
   "metadata": {},
   "outputs": [
    {
     "data": {
      "image/png": "[encoded data removed]",
      "text/plain": [
       "<Figure size 640x480 with 1 Axes>"
      ]
     },
     "metadata": {},
     "output_type": "display_data"
    }
   ],
   "source": [
    "spec = next(iter(E_train.features['cqt']))[0][:,100:400]\n",
    "x = cqt_frequencies\n",
    "y = np.arange(spec.shape[1])\n",
    "xx, yy = np.meshgrid(y, x)\n",
    "plt.pcolor(xx, yy, spec)\n",
    "plt.plot(f0[100:400], color='yellow')\n",
    "# plt.plot(f0_pyin[100:400], color='red')\n",
    "plt.yscale('log')"
   ]
  },
  {
   "cell_type": "code",
   "execution_count": 47,
   "id": "8f267351-9575-4353-ac54-9a3a2a6ecfcd",
   "metadata": {
    "id": "8f267351-9575-4353-ac54-9a3a2a6ecfcd"
   },
   "outputs": [],
   "source": [
    "Extractor.register_mapper(['f0', 'f0_bins', 'voiced'], compute_f0_from_cqt)\n",
    "Extractor.register_mapper('f0_mean', lambda f0: np.mean(f0))\n",
    "Extractor.register_mapper('f0_var', lambda f0: np.var(f0))\n",
    "Extractor.register_mapper('voiced_f0', lambda f0, voiced: f0[voiced], uniform=False)\n",
    "Extractor.register_mapper('voiced_f0_bins', lambda f0_bins, voiced: f0_bins[voiced], uniform=False)\n",
    "Extractor.register_mapper('voiced_f0_mean', lambda f0: np.mean(f0))\n",
    "Extractor.register_mapper('voiced_f0_var', lambda f0: np.var(f0))\n",
    "Extractor.register_mapper('voiced_percent', lambda voiced: np.mean(voiced))"
   ]
  },
  {
   "cell_type": "code",
   "execution_count": 48,
   "id": "5a9e4dea-bdb7-493a-b0dc-74137736bdad",
   "metadata": {
    "colab": {
     "referenced_widgets": [
      "9d293812099243c3b63601a784e05f8d",
      "7d661427036d403bb8b4d8df066c9fb6",
      "ffd8b08958114ada900d6b6648422a5c",
      "3c8f39dc227a4864ac7744755868a9e6",
      "b245f0e6302042259310cd97590e7f52",
      "586a025674344f30bc33f408683b6a96",
      "f01f946b52ce455e881e2b582675a25c",
      "4e9e590dd6244b0bac338e108d2fdcf2",
      "4025478901824e9783193a2fc92f443c",
      "ff6d0de529674e389f226167e7c6f387",
      "0557c372a7ef4ed0b96739b927c5475c",
      "7d081a07331945ab8416698edd09e836",
      "6ce2fbd9346a45ddb21a52281d546217",
      "162d3101ad8446f59f96cc76e48c3279",
      "8dfe1322d3db4385be24d6b711ce8380",
      "dcd25318c3314d31a368b0c81cd84507",
      "f2122858aaab40068f1ea6115ff8ff09",
      "69e1633f76c240a7ac98df44b679a125"
     ]
    },
    "id": "5a9e4dea-bdb7-493a-b0dc-74137736bdad",
    "outputId": "781d8388-7801-41fd-e1c8-5d0c7d6a401a"
   },
   "outputs": [
    {
     "name": "stdout",
     "output_type": "stream",
     "text": [
      "Running extractor for features f0, f0_bins, voiced at 2025-02-13 00:56:13.229073\n",
      "Failed compiling function, will use plain python wrapper, exception: can only concatenate list (not \"tuple\") to list\n"
     ]
    },
    {
     "data": {
      "application/vnd.jupyter.widget-view+json": {
       "model_id": "2910f8e3ddcb4e2786060746c0a9f0f0",
       "version_major": 2,
       "version_minor": 0
      },
      "text/plain": [
       "  0%|          | 0/799 [00:00<?, ?it/s]"
      ]
     },
     "metadata": {},
     "output_type": "display_data"
    },
    {
     "name": "stdout",
     "output_type": "stream",
     "text": [
      "Done running extractor at 2025-02-13 00:56:31.211965 total running time 0:00:17.982892\n",
      "Running extractor for features voiced_f0_mean at 2025-02-13 00:56:31.212004\n",
      "Failed compiling function, will use plain python wrapper.\n"
     ]
    },
    {
     "data": {
      "application/vnd.jupyter.widget-view+json": {
       "model_id": "5f43e65d2922447fb71cfd5823e8fc3e",
       "version_major": 2,
       "version_minor": 0
      },
      "text/plain": [
       "  0%|          | 0/799 [00:00<?, ?it/s]"
      ]
     },
     "metadata": {},
     "output_type": "display_data"
    },
    {
     "name": "stdout",
     "output_type": "stream",
     "text": [
      "Done running extractor at 2025-02-13 00:56:31.382483 total running time 0:00:00.170479\n",
      "Running extractor for features voiced_f0 at 2025-02-13 00:56:31.382528\n"
     ]
    },
    {
     "data": {
      "application/vnd.jupyter.widget-view+json": {
       "model_id": "2bfd4d213acd44e58ba9cb3de5665e92",
       "version_major": 2,
       "version_minor": 0
      },
      "text/plain": [
       "  0%|          | 0/799 [00:00<?, ?it/s]"
      ]
     },
     "metadata": {},
     "output_type": "display_data"
    },
    {
     "name": "stdout",
     "output_type": "stream",
     "text": [
      "Done running extractor at 2025-02-13 00:56:31.769481 total running time 0:00:00.386953\n",
      "Running extractor for features f0_var at 2025-02-13 00:56:31.769513\n",
      "Failed compiling function, will use plain python wrapper.\n"
     ]
    },
    {
     "data": {
      "application/vnd.jupyter.widget-view+json": {
       "model_id": "276f7c9ab47d44f78ef9798192424871",
       "version_major": 2,
       "version_minor": 0
      },
      "text/plain": [
       "  0%|          | 0/799 [00:00<?, ?it/s]"
      ]
     },
     "metadata": {},
     "output_type": "display_data"
    },
    {
     "name": "stdout",
     "output_type": "stream",
     "text": [
      "Done running extractor at 2025-02-13 00:56:31.970220 total running time 0:00:00.200707\n",
      "Running extractor for features voiced_f0_bins at 2025-02-13 00:56:31.970255\n"
     ]
    },
    {
     "data": {
      "application/vnd.jupyter.widget-view+json": {
       "model_id": "a0f11b55ef8345ffa23004d0c8ede429",
       "version_major": 2,
       "version_minor": 0
      },
      "text/plain": [
       "  0%|          | 0/799 [00:00<?, ?it/s]"
      ]
     },
     "metadata": {},
     "output_type": "display_data"
    },
    {
     "name": "stdout",
     "output_type": "stream",
     "text": [
      "Done running extractor at 2025-02-13 00:56:32.351326 total running time 0:00:00.381071\n",
      "Running extractor for features f0_mean at 2025-02-13 00:56:32.351354\n",
      "Failed compiling function, will use plain python wrapper.\n"
     ]
    },
    {
     "data": {
      "application/vnd.jupyter.widget-view+json": {
       "model_id": "f188baee4e714253a94d055ebe709e11",
       "version_major": 2,
       "version_minor": 0
      },
      "text/plain": [
       "  0%|          | 0/799 [00:00<?, ?it/s]"
      ]
     },
     "metadata": {},
     "output_type": "display_data"
    },
    {
     "name": "stdout",
     "output_type": "stream",
     "text": [
      "Done running extractor at 2025-02-13 00:56:32.535995 total running time 0:00:00.184641\n",
      "Running extractor for features voiced_percent at 2025-02-13 00:56:32.536026\n",
      "Failed compiling function, will use plain python wrapper.\n"
     ]
    },
    {
     "data": {
      "application/vnd.jupyter.widget-view+json": {
       "model_id": "62ca537d0a444f948a83a59cba594119",
       "version_major": 2,
       "version_minor": 0
      },
      "text/plain": [
       "  0%|          | 0/400 [00:00<?, ?it/s]"
      ]
     },
     "metadata": {},
     "output_type": "display_data"
    },
    {
     "name": "stdout",
     "output_type": "stream",
     "text": [
      "Done running extractor at 2025-02-13 00:56:32.639037 total running time 0:00:00.103011\n",
      "Running extractor for features voiced_f0_var at 2025-02-13 00:56:32.639065\n",
      "Failed compiling function, will use plain python wrapper.\n"
     ]
    },
    {
     "data": {
      "application/vnd.jupyter.widget-view+json": {
       "model_id": "12865a27eaf24818827db0612c187d83",
       "version_major": 2,
       "version_minor": 0
      },
      "text/plain": [
       "  0%|          | 0/799 [00:00<?, ?it/s]"
      ]
     },
     "metadata": {},
     "output_type": "display_data"
    },
    {
     "name": "stdout",
     "output_type": "stream",
     "text": [
      "Done running extractor at 2025-02-13 00:56:32.862281 total running time 0:00:00.223216\n"
     ]
    }
   ],
   "source": [
    "E_train.soft_extract()"
   ]
  },
  {
   "cell_type": "code",
   "execution_count": 50,
   "id": "ce1679bd-d54d-41ce-91a1-787f58b398cf",
   "metadata": {
    "colab": {
     "referenced_widgets": [
      "8bfebf104d9b42e48cf917f83af5e1f1"
     ]
    },
    "id": "ce1679bd-d54d-41ce-91a1-787f58b398cf",
    "outputId": "bf4d6d33-4948-4571-c1f1-7578e76a025d"
   },
   "outputs": [
    {
     "name": "stdout",
     "output_type": "stream",
     "text": [
      "0:\tlearn: 0.2848200\ttotal: 14.8ms\tremaining: 7.39s\n",
      "100:\tlearn: 0.8669797\ttotal: 886ms\tremaining: 3.5s\n",
      "200:\tlearn: 0.9436620\ttotal: 1.72s\tremaining: 2.55s\n",
      "300:\tlearn: 0.9733959\ttotal: 2.56s\tremaining: 1.69s\n",
      "400:\tlearn: 0.9874804\ttotal: 3.38s\tremaining: 834ms\n",
      "499:\tlearn: 0.9953052\ttotal: 4.2s\tremaining: 0us\n",
      "0:\tlearn: 0.3223787\ttotal: 13.5ms\tremaining: 6.74s\n",
      "100:\tlearn: 0.8732394\ttotal: 862ms\tremaining: 3.4s\n",
      "200:\tlearn: 0.9327074\ttotal: 1.69s\tremaining: 2.51s\n",
      "300:\tlearn: 0.9640063\ttotal: 2.52s\tremaining: 1.67s\n",
      "400:\tlearn: 0.9827856\ttotal: 3.3s\tremaining: 815ms\n",
      "499:\tlearn: 0.9921753\ttotal: 4.12s\tremaining: 0us\n",
      "0:\tlearn: 0.3051643\ttotal: 13.3ms\tremaining: 6.64s\n",
      "100:\tlearn: 0.8654147\ttotal: 863ms\tremaining: 3.41s\n",
      "200:\tlearn: 0.9389671\ttotal: 1.69s\tremaining: 2.51s\n",
      "300:\tlearn: 0.9749609\ttotal: 2.57s\tremaining: 1.7s\n",
      "400:\tlearn: 0.9859155\ttotal: 3.41s\tremaining: 841ms\n",
      "499:\tlearn: 0.9953052\ttotal: 4.24s\tremaining: 0us\n",
      "0:\tlearn: 0.2942097\ttotal: 14.1ms\tremaining: 7.06s\n",
      "100:\tlearn: 0.8544601\ttotal: 899ms\tremaining: 3.55s\n",
      "200:\tlearn: 0.9405321\ttotal: 1.72s\tremaining: 2.56s\n",
      "300:\tlearn: 0.9702660\ttotal: 2.62s\tremaining: 1.73s\n",
      "400:\tlearn: 0.9827856\ttotal: 3.43s\tremaining: 848ms\n",
      "499:\tlearn: 0.9921753\ttotal: 4.24s\tremaining: 0us\n",
      "0:\tlearn: 0.3015625\ttotal: 13.5ms\tremaining: 6.74s\n",
      "100:\tlearn: 0.8765625\ttotal: 904ms\tremaining: 3.57s\n",
      "200:\tlearn: 0.9437500\ttotal: 1.75s\tremaining: 2.6s\n",
      "300:\tlearn: 0.9671875\ttotal: 2.64s\tremaining: 1.75s\n",
      "400:\tlearn: 0.9859375\ttotal: 3.55s\tremaining: 876ms\n",
      "499:\tlearn: 0.9937500\ttotal: 4.36s\tremaining: 0us\n",
      "Mean Accuracy across 5 folds: 0.7697\n",
      "\n",
      "Classification Report (aggregated across folds):\n",
      "              precision    recall  f1-score   support\n",
      "\n",
      "       blues       0.80      0.75      0.77        80\n",
      "   classical       0.89      0.89      0.89        80\n",
      "     country       0.72      0.72      0.72        80\n",
      "       disco       0.73      0.76      0.75        80\n",
      "      hiphop       0.76      0.72      0.74        80\n",
      "        jazz       0.75      0.81      0.78        79\n",
      "       metal       0.85      0.89      0.87        80\n",
      "         pop       0.84      0.79      0.81        80\n",
      "      reggae       0.71      0.75      0.73        80\n",
      "        rock       0.64      0.61      0.63        80\n",
      "\n",
      "    accuracy                           0.77       799\n",
      "   macro avg       0.77      0.77      0.77       799\n",
      "weighted avg       0.77      0.77      0.77       799\n",
      "\n",
      "0:\tlearn: 0.3041302\ttotal: 13.7ms\tremaining: 6.83s\n",
      "100:\tlearn: 0.8548185\ttotal: 848ms\tremaining: 3.35s\n",
      "200:\tlearn: 0.9336671\ttotal: 1.69s\tremaining: 2.52s\n",
      "300:\tlearn: 0.9637046\ttotal: 2.51s\tremaining: 1.66s\n",
      "400:\tlearn: 0.9762203\ttotal: 3.33s\tremaining: 823ms\n",
      "499:\tlearn: 0.9874844\ttotal: 4.12s\tremaining: 0us\n"
     ]
    }
   ],
   "source": [
    "features = ['rms', 'bpm', 'zero_crossing_rate_mean',\n",
    "    'mel48_freq_mean', 'mel48_freq_var',\n",
    "    'cqt_harmonic_mean', 'cqt_harmonic_freq_mean', 'cqt_harmonic_freq_var',\n",
    "    'cqt_percussive_mean', 'cqt_percussive_freq_mean', 'cqt_percussive_freq_var',\n",
    "    'mfcc_quef_mean', 'mfcc_quef_var',\n",
    "    'spectral_centroid_mean', 'spectral_centroid_var',\n",
    "    'cqt_chroma_freq_mean', 'cqt_chroma_freq_var',\n",
    "    'cqt_harmonic_chroma_freq_mean', 'cqt_harmonic_chroma_freq_var',\n",
    "    'rolloff_mean', 'rolloff_var',\n",
    "    'bandwidth_mean', 'bandwidth_var',\n",
    "    'percept_freq_mean', 'percept_freq_var',\n",
    "    'zero_crossing_rate_mean',\n",
    "    'voiced_f0_mean', 'voiced_f0_var', 'voiced_percent']\n",
    "\n",
    "column_names = E_train.get_columns(features)\n",
    "mask = np.array([x not in bad_feats for x in column_names])\n",
    "\n",
    "model, acc = train_and_evaluate_catboost(\n",
    "    X=E_train.numpy(features)[:, mask],\n",
    "    y=y_train.to_numpy(),\n",
    ")"
   ]
  },
  {
   "cell_type": "code",
   "execution_count": null,
   "id": "fcd802f2-b2ab-4289-8eb6-cd03ce1a42af",
   "metadata": {
    "id": "fcd802f2-b2ab-4289-8eb6-cd03ce1a42af"
   },
   "outputs": [],
   "source": []
  },
  {
   "cell_type": "markdown",
   "id": "4aed6724-b35c-4224-9f49-d3e3906c85c9",
   "metadata": {
    "id": "4aed6724-b35c-4224-9f49-d3e3906c85c9"
   },
   "source": [
    "**ChatGPT query**\n",
    "Please write a small snippet of code. It should shift CQT spectrogram down based on F0 and crop to 40 frequency bins. F0 is given in Hz, CQT frequencies are in separate array cqt_frequencies"
   ]
  },
  {
   "cell_type": "code",
   "execution_count": 51,
   "id": "94b1d468-5681-446c-971a-eaef15ade5bb",
   "metadata": {
    "id": "94b1d468-5681-446c-971a-eaef15ade5bb"
   },
   "outputs": [],
   "source": [
    "def shift_cqt_by_f0(S: np.ndarray, F0_bins: np.ndarray, voiced: np.ndarray, cqt_frequencies: np.ndarray) -> np.ndarray:\n",
    "    \"\"\"\n",
    "    Shift CQT spectrogram down based on F0 and crop to 40 frequency bins.\n",
    "\n",
    "    Parameters\n",
    "    ----------\n",
    "    S : np.ndarray\n",
    "        CQT spectrogram, shape (n_freq, n_frames).\n",
    "    F0 : float\n",
    "        Fundamental frequency in Hz.\n",
    "    cqt_frequencies : np.ndarray\n",
    "        Array of center frequencies for the CQT bins, sorted ascending.\n",
    "\n",
    "    Returns\n",
    "    -------\n",
    "    S_cropped : np.ndarray\n",
    "        Shifted and cropped CQT spectrogram, shape (40, n_frames).\n",
    "    \"\"\"\n",
    "    # 1. Find which bin is closest to F0\n",
    "    F0_bins = np.copy(F0_bins)\n",
    "    F0_bins[~voiced] = 0\n",
    "\n",
    "    # 2. Shift the spectrogram so that this bin appears near the top\n",
    "    #    Negative offset rolls elements upward (towards index 0).\n",
    "    S = np.array([np.roll(frame, -offset) for frame, offset in zip(S.T, F0_bins)]).T\n",
    "    return S[:40, voiced]"
   ]
  },
  {
   "cell_type": "code",
   "execution_count": 52,
   "id": "26d31aa5-6ce7-4f9c-899b-d89701e9b14c",
   "metadata": {
    "id": "26d31aa5-6ce7-4f9c-899b-d89701e9b14c",
    "outputId": "868f2e45-112a-40a6-f27c-82451b382258"
   },
   "outputs": [
    {
     "data": {
      "text/plain": [
       "<matplotlib.collections.PolyQuadMesh at 0x1669ac590>"
      ]
     },
     "execution_count": 52,
     "metadata": {},
     "output_type": "execute_result"
    },
    {
     "data": {
      "image/png": "[encoded data removed]",
      "text/plain": [
       "<Figure size 640x480 with 2 Axes>"
      ]
     },
     "metadata": {},
     "output_type": "display_data"
    }
   ],
   "source": [
    "plt.subplot(2, 1, 1)\n",
    "plt.pcolor(next(iter(E_train.features['cqt']))[0])\n",
    "plt.plot(next(iter(E_train.features['f0_bins']))[0])\n",
    "chifted_cqt = shift_cqt_by_f0(next(iter(E_train.features['cqt']))[0],\n",
    "                              next(iter(E_train.features['f0_bins']))[0],\n",
    "                              next(iter(E_train.features['voiced']))[0],\n",
    "                              cqt_frequencies)\n",
    "plt.subplot(2, 1, 2)\n",
    "plt.pcolor(chifted_cqt)"
   ]
  },
  {
   "cell_type": "code",
   "execution_count": 53,
   "id": "e998cab3-fb71-4e44-9412-7e39a4b6d541",
   "metadata": {
    "id": "e998cab3-fb71-4e44-9412-7e39a4b6d541"
   },
   "outputs": [],
   "source": [
    "Extractor.register_mapper('overtones', lambda cqt, f0_bins, voiced:\n",
    "                             shift_cqt_by_f0(cqt, f0_bins, voiced, cqt_frequencies), uniform=False)\n",
    "Extractor.register_mapper('overtones_freq_mean', lambda overtones:\n",
    "                             np.mean(overtones, axis=1) if overtones.shape[1] > 0 else np.zeros(overtones.shape[0]))\n",
    "Extractor.register_mapper('overtones_freq_var', lambda overtones:\n",
    "                             np.var(overtones, axis=1) if overtones.shape[1] > 0 else np.zeros(overtones.shape[0]))"
   ]
  },
  {
   "cell_type": "code",
   "execution_count": 54,
   "id": "c5fb4a70-3f6c-4fb7-b18d-9c7d41ddfe89",
   "metadata": {
    "colab": {
     "referenced_widgets": [
      "5c427119475745698e698b0340bf2ece",
      "ccfcaa7a616b4627a9bb46ce6ab7cb5a",
      "f586496d4af347d2b74b60247148e908",
      "cba83f943bdd44dcb6c7b5a49ca91a0b",
      "3e2e680e947e400a850353c9e4dc5d17",
      "422da086b27443448632cff797f644f2"
     ]
    },
    "id": "c5fb4a70-3f6c-4fb7-b18d-9c7d41ddfe89",
    "outputId": "0d45db65-86c0-49be-dd2a-970d1e5cb902"
   },
   "outputs": [
    {
     "name": "stdout",
     "output_type": "stream",
     "text": [
      "Running extractor for features overtones at 2025-02-13 00:57:28.960972\n"
     ]
    },
    {
     "data": {
      "application/vnd.jupyter.widget-view+json": {
       "model_id": "f48d907cf3574df293e5bbb18606ef90",
       "version_major": 2,
       "version_minor": 0
      },
      "text/plain": [
       "  0%|          | 0/799 [00:00<?, ?it/s]"
      ]
     },
     "metadata": {},
     "output_type": "display_data"
    },
    {
     "name": "stdout",
     "output_type": "stream",
     "text": [
      "Done running extractor at 2025-02-13 00:57:34.679086 total running time 0:00:05.718114\n",
      "Running extractor for features overtones_freq_mean at 2025-02-13 00:57:34.679134\n",
      "Failed compiling function, will use plain python wrapper.\n"
     ]
    },
    {
     "data": {
      "application/vnd.jupyter.widget-view+json": {
       "model_id": "7ea4c01301ba49f4811bba85d01901bb",
       "version_major": 2,
       "version_minor": 0
      },
      "text/plain": [
       "  0%|          | 0/799 [00:00<?, ?it/s]"
      ]
     },
     "metadata": {},
     "output_type": "display_data"
    },
    {
     "name": "stdout",
     "output_type": "stream",
     "text": [
      "Done running extractor at 2025-02-13 00:57:34.930182 total running time 0:00:00.251048\n",
      "Running extractor for features overtones_freq_var at 2025-02-13 00:57:34.930218\n",
      "Failed compiling function, will use plain python wrapper.\n"
     ]
    },
    {
     "data": {
      "application/vnd.jupyter.widget-view+json": {
       "model_id": "81d30cb0cc6146aca70331aab7e41328",
       "version_major": 2,
       "version_minor": 0
      },
      "text/plain": [
       "  0%|          | 0/799 [00:00<?, ?it/s]"
      ]
     },
     "metadata": {},
     "output_type": "display_data"
    },
    {
     "name": "stdout",
     "output_type": "stream",
     "text": [
      "Done running extractor at 2025-02-13 00:57:35.219245 total running time 0:00:00.289027\n"
     ]
    }
   ],
   "source": [
    "E_train.soft_extract()\n"
   ]
  },
  {
   "cell_type": "code",
   "execution_count": 55,
   "id": "91632cae-1530-413e-a095-b622a14afafd",
   "metadata": {
    "colab": {
     "referenced_widgets": [
      "ddf743a46be54872ad62be73df6e3904"
     ]
    },
    "id": "91632cae-1530-413e-a095-b622a14afafd",
    "outputId": "b8822eb1-9676-42b3-e5a6-e1fd7e90d943"
   },
   "outputs": [
    {
     "name": "stdout",
     "output_type": "stream",
     "text": [
      "0:\tlearn: 0.3098592\ttotal: 81.3ms\tremaining: 40.6s\n",
      "100:\tlearn: 0.8654147\ttotal: 2.78s\tremaining: 11s\n",
      "200:\tlearn: 0.9405321\ttotal: 5.67s\tremaining: 8.44s\n",
      "300:\tlearn: 0.9749609\ttotal: 8.58s\tremaining: 5.67s\n",
      "400:\tlearn: 0.9874804\ttotal: 11.1s\tremaining: 2.75s\n",
      "499:\tlearn: 0.9953052\ttotal: 13.6s\tremaining: 0us\n",
      "0:\tlearn: 0.3223787\ttotal: 43.3ms\tremaining: 21.6s\n",
      "100:\tlearn: 0.8575900\ttotal: 2.66s\tremaining: 10.5s\n",
      "200:\tlearn: 0.9420970\ttotal: 5.2s\tremaining: 7.74s\n",
      "300:\tlearn: 0.9671362\ttotal: 7.74s\tremaining: 5.12s\n",
      "400:\tlearn: 0.9812207\ttotal: 10.3s\tremaining: 2.54s\n",
      "499:\tlearn: 0.9859155\ttotal: 12.8s\tremaining: 0us\n",
      "0:\tlearn: 0.3161189\ttotal: 42.6ms\tremaining: 21.3s\n",
      "100:\tlearn: 0.8450704\ttotal: 2.63s\tremaining: 10.4s\n",
      "200:\tlearn: 0.9280125\ttotal: 5.18s\tremaining: 7.7s\n",
      "300:\tlearn: 0.9687011\ttotal: 7.7s\tremaining: 5.09s\n",
      "400:\tlearn: 0.9859155\ttotal: 10.2s\tremaining: 2.52s\n",
      "499:\tlearn: 0.9921753\ttotal: 12.7s\tremaining: 0us\n",
      "0:\tlearn: 0.3082942\ttotal: 42.5ms\tremaining: 21.2s\n",
      "100:\tlearn: 0.8669797\ttotal: 2.63s\tremaining: 10.4s\n",
      "200:\tlearn: 0.9420970\ttotal: 5.21s\tremaining: 7.75s\n",
      "300:\tlearn: 0.9702660\ttotal: 7.8s\tremaining: 5.16s\n",
      "400:\tlearn: 0.9827856\ttotal: 10.4s\tremaining: 2.56s\n",
      "499:\tlearn: 0.9890454\ttotal: 12.9s\tremaining: 0us\n",
      "0:\tlearn: 0.3250000\ttotal: 42.9ms\tremaining: 21.4s\n",
      "100:\tlearn: 0.8500000\ttotal: 2.65s\tremaining: 10.5s\n",
      "200:\tlearn: 0.9375000\ttotal: 5.17s\tremaining: 7.7s\n",
      "300:\tlearn: 0.9640625\ttotal: 7.71s\tremaining: 5.1s\n",
      "400:\tlearn: 0.9828125\ttotal: 10.2s\tremaining: 2.52s\n",
      "499:\tlearn: 0.9921875\ttotal: 12.7s\tremaining: 0us\n",
      "Mean Accuracy across 5 folds: 0.7572\n",
      "\n",
      "Classification Report (aggregated across folds):\n",
      "              precision    recall  f1-score   support\n",
      "\n",
      "       blues       0.83      0.78      0.80        80\n",
      "   classical       0.88      0.90      0.89        80\n",
      "     country       0.68      0.68      0.68        80\n",
      "       disco       0.72      0.78      0.75        80\n",
      "      hiphop       0.71      0.70      0.70        80\n",
      "        jazz       0.81      0.81      0.81        79\n",
      "       metal       0.81      0.85      0.83        80\n",
      "         pop       0.85      0.78      0.81        80\n",
      "      reggae       0.71      0.71      0.71        80\n",
      "        rock       0.59      0.60      0.59        80\n",
      "\n",
      "    accuracy                           0.76       799\n",
      "   macro avg       0.76      0.76      0.76       799\n",
      "weighted avg       0.76      0.76      0.76       799\n",
      "\n",
      "0:\tlearn: 0.3642053\ttotal: 43.5ms\tremaining: 21.7s\n",
      "100:\tlearn: 0.8498123\ttotal: 2.69s\tremaining: 10.6s\n",
      "200:\tlearn: 0.9249061\ttotal: 5.25s\tremaining: 7.8s\n",
      "300:\tlearn: 0.9624531\ttotal: 7.79s\tremaining: 5.15s\n",
      "400:\tlearn: 0.9812265\ttotal: 10.3s\tremaining: 2.55s\n",
      "499:\tlearn: 0.9899875\ttotal: 12.8s\tremaining: 0us\n"
     ]
    }
   ],
   "source": [
    "features = ['rms', 'bpm', 'zero_crossing_rate_mean',\n",
    "    'mel48_freq_mean', 'mel48_freq_var',\n",
    "    'cqt_harmonic_mean', 'cqt_harmonic_freq_mean', 'cqt_harmonic_freq_var',\n",
    "    'cqt_percussive_mean', 'cqt_percussive_freq_mean', 'cqt_percussive_freq_var',\n",
    "    'mfcc_quef_mean', 'mfcc_quef_var',\n",
    "    'spectral_centroid_mean', 'spectral_centroid_var',\n",
    "    'cqt_chroma_freq_mean', 'cqt_chroma_freq_var',\n",
    "    'cqt_harmonic_chroma_freq_mean', 'cqt_harmonic_chroma_freq_var',\n",
    "    'rolloff_mean', 'rolloff_var',\n",
    "    'bandwidth_mean', 'bandwidth_var',\n",
    "    'percept_freq_mean', 'percept_freq_var',\n",
    "    'zero_crossing_rate_mean',\n",
    "    'voiced_f0_mean', 'voiced_f0_var', 'voiced_percent',\n",
    "    'overtones_freq_mean', 'overtones_freq_var']\n",
    "\n",
    "column_names = E_train.get_columns(features)\n",
    "\n",
    "model, acc = train_and_evaluate_catboost(\n",
    "    X=E_train.numpy(features),\n",
    "    y=y_train.to_numpy(),\n",
    ")"
   ]
  },
  {
   "cell_type": "code",
   "execution_count": null,
   "id": "b56e38a6-b4ac-4ef0-9eb1-9c8a05993225",
   "metadata": {},
   "outputs": [],
   "source": [
    "# imp = pd.DataFrame(\n",
    "#     data=model.feature_importances_,\n",
    "#     index=E_train.get_columns(features),\n",
    "#     columns=['importance']\n",
    "# )\n",
    "# bad_feats = list(imp[imp['importance'] < 0.1].index)"
   ]
  },
  {
   "cell_type": "code",
   "execution_count": null,
   "id": "7e6aeaa8-da1b-4870-9ce3-3524ab01c2dd",
   "metadata": {
    "colab": {
     "referenced_widgets": [
      "2d2939e44c994ed5b8ac00441404a02a"
     ]
    },
    "id": "7e6aeaa8-da1b-4870-9ce3-3524ab01c2dd",
    "outputId": "48951788-79a8-4c82-f1f1-030d53ca98db"
   },
   "outputs": [],
   "source": [
    "# features = ['rms', 'bpm', 'zero_crossing_rate_mean',\n",
    "#     'mel48_freq_mean', 'mel48_freq_var',\n",
    "#     'cqt_harmonic_mean', 'cqt_harmonic_freq_mean', 'cqt_harmonic_freq_var',\n",
    "#     'cqt_percussive_mean', 'cqt_percussive_freq_mean', 'cqt_percussive_freq_var',\n",
    "#     'mfcc_quef_mean', 'mfcc_quef_var',\n",
    "#     'spectral_centroid_mean', 'spectral_centroid_var',\n",
    "#     'cqt_chroma_freq_mean', 'cqt_chroma_freq_var',\n",
    "#     'cqt_harmonic_chroma_freq_mean', 'cqt_harmonic_chroma_freq_var',\n",
    "#     'rolloff_mean', 'rolloff_var',\n",
    "#     'bandwidth_mean', 'bandwidth_var',\n",
    "#     'percept_freq_mean', 'percept_freq_var',\n",
    "#     'zero_crossing_rate_mean',\n",
    "#     'voiced_f0_mean', 'voiced_f0_var', 'voiced_percent',\n",
    "#     'overtones_freq_mean', 'overtones_freq_var']\n",
    "\n",
    "# column_names = E_train.get_columns(features)\n",
    "# mask = np.array([x not in bad_feats for x in column_names])\n",
    "\n",
    "# model, acc = train_and_evaluate_catboost(\n",
    "#     X=E_train.numpy(features)[:, mask],\n",
    "#     y=y_train.to_numpy(),\n",
    "# )"
   ]
  },
  {
   "cell_type": "code",
   "execution_count": 56,
   "id": "0c31200a-7b99-4fea-bba7-ecba517bb055",
   "metadata": {},
   "outputs": [],
   "source": [
    "# Extractor.register_mapper('f0_chroma', lambda voiced_f0_bins: voiced_f0_bins % 12, uniform=False)\n",
    "\n",
    "# def f0_chroma_stats(f0_chroma):\n",
    "#     if f0_chroma.shape[0] == 0:\n",
    "#         return 0, 0\n",
    "#     ohe = np.zeros((12, f0_chroma.shape[0]))\n",
    "#     ohe[f0_chroma, np.arange(f0_chroma.shape[0])] = 1\n",
    "#     return (\n",
    "#         ohe.mean(axis=-1),\n",
    "#         ohe.var(axis=-1)\n",
    "#     )\n",
    "# Extractor.register_mapper(['f0_chroma_freq_mean', 'f0_chroma_freq_var'], f0_chroma_stats)\n",
    "\n",
    "def f0_chroma_shifted_stats(voiced_f0_bins):\n",
    "    if voiced_f0_bins.shape[0] == 0:\n",
    "        return np.zeros((12,)), np.zeros((12,))\n",
    "    ohe = np.zeros((cqt_frequencies.shape[0], voiced_f0_bins.shape[0]))\n",
    "    ohe[voiced_f0_bins, np.arange(voiced_f0_bins.shape[0])] = 1\n",
    "    mean = ohe.mean(axis=-1)\n",
    "    # plt.pcolor(ohe)\n",
    "    key = np.argmax(mean)\n",
    "    key %= 12\n",
    "    ohe = np.zeros((12, voiced_f0_bins.shape[0]))\n",
    "    ohe[voiced_f0_bins % 12, np.arange(voiced_f0_bins.shape[0])] = 1\n",
    "    return (\n",
    "        np.roll(ohe.mean(axis=-1), -key),\n",
    "        np.roll(ohe.var(axis=-1), -key),\n",
    "    )\n",
    "\n",
    "Extractor.register_mapper(['f0_chroma_shifted_freq_mean', 'f0_chroma_shifted_freq_var'], f0_chroma_shifted_stats)\n",
    "    \n",
    "# E_train.soft_extract()"
   ]
  },
  {
   "cell_type": "code",
   "execution_count": 57,
   "id": "fdb0ee0b-f640-4f08-bd9c-f1062b5af49d",
   "metadata": {},
   "outputs": [
    {
     "name": "stdout",
     "output_type": "stream",
     "text": [
      "Running extractor for features f0_chroma_shifted_freq_mean, f0_chroma_shifted_freq_var at 2025-02-13 01:00:01.124738\n",
      "Failed compiling function, will use plain python wrapper, exception: Can't vectorize function with more then one return statement, yet.\n"
     ]
    },
    {
     "data": {
      "application/vnd.jupyter.widget-view+json": {
       "model_id": "270113b6ce5c4b10915555e2a2d6a590",
       "version_major": 2,
       "version_minor": 0
      },
      "text/plain": [
       "  0%|          | 0/799 [00:00<?, ?it/s]"
      ]
     },
     "metadata": {},
     "output_type": "display_data"
    },
    {
     "name": "stdout",
     "output_type": "stream",
     "text": [
      "Done running extractor at 2025-02-13 01:00:01.356711 total running time 0:00:00.231973\n"
     ]
    }
   ],
   "source": [
    "E_train.soft_extract()"
   ]
  },
  {
   "cell_type": "code",
   "execution_count": 58,
   "id": "8910b9bd-b5f5-460a-8dab-675dd54123db",
   "metadata": {},
   "outputs": [
    {
     "data": {
      "text/plain": [
       "[<matplotlib.lines.Line2D at 0x16a3a9fa0>]"
      ]
     },
     "execution_count": 58,
     "metadata": {},
     "output_type": "execute_result"
    },
    {
     "data": {
      "image/png": "[encoded data removed]",
      "text/plain": [
       "<Figure size 640x480 with 1 Axes>"
      ]
     },
     "metadata": {},
     "output_type": "display_data"
    }
   ],
   "source": [
    "plt.plot(f0_chroma_shifted_stats(E_train.features['voiced_f0_bins']._data[4][0])[0])"
   ]
  },
  {
   "cell_type": "code",
   "execution_count": 59,
   "id": "c3040613-cda7-4023-bc32-d60716ad6d14",
   "metadata": {},
   "outputs": [
    {
     "name": "stdout",
     "output_type": "stream",
     "text": [
      "0:\tlearn: 0.2206573\ttotal: 2.08ms\tremaining: 1.04s\n",
      "100:\tlearn: 0.4992175\ttotal: 120ms\tremaining: 473ms\n",
      "200:\tlearn: 0.5774648\ttotal: 240ms\tremaining: 357ms\n",
      "300:\tlearn: 0.6541471\ttotal: 357ms\tremaining: 236ms\n",
      "400:\tlearn: 0.6964006\ttotal: 473ms\tremaining: 117ms\n",
      "499:\tlearn: 0.7480438\ttotal: 587ms\tremaining: 0us\n",
      "0:\tlearn: 0.2237872\ttotal: 1.23ms\tremaining: 612ms\n",
      "100:\tlearn: 0.5211268\ttotal: 115ms\tremaining: 455ms\n",
      "200:\tlearn: 0.6103286\ttotal: 240ms\tremaining: 357ms\n",
      "300:\tlearn: 0.6635368\ttotal: 359ms\tremaining: 237ms\n",
      "400:\tlearn: 0.7230047\ttotal: 484ms\tremaining: 119ms\n",
      "499:\tlearn: 0.7746479\ttotal: 607ms\tremaining: 0us\n",
      "0:\tlearn: 0.2222222\ttotal: 1.24ms\tremaining: 619ms\n",
      "100:\tlearn: 0.5352113\ttotal: 114ms\tremaining: 452ms\n",
      "200:\tlearn: 0.6056338\ttotal: 226ms\tremaining: 336ms\n",
      "300:\tlearn: 0.6776213\ttotal: 337ms\tremaining: 223ms\n",
      "400:\tlearn: 0.7167449\ttotal: 448ms\tremaining: 111ms\n",
      "499:\tlearn: 0.7668232\ttotal: 559ms\tremaining: 0us\n",
      "0:\tlearn: 0.2237872\ttotal: 1.33ms\tremaining: 662ms\n",
      "100:\tlearn: 0.5133020\ttotal: 114ms\tremaining: 451ms\n",
      "200:\tlearn: 0.6009390\ttotal: 229ms\tremaining: 341ms\n",
      "300:\tlearn: 0.6682316\ttotal: 342ms\tremaining: 226ms\n",
      "400:\tlearn: 0.7198748\ttotal: 454ms\tremaining: 112ms\n",
      "499:\tlearn: 0.7621283\ttotal: 568ms\tremaining: 0us\n",
      "0:\tlearn: 0.2375000\ttotal: 1.27ms\tremaining: 636ms\n",
      "100:\tlearn: 0.4796875\ttotal: 114ms\tremaining: 449ms\n",
      "200:\tlearn: 0.5843750\ttotal: 227ms\tremaining: 338ms\n",
      "300:\tlearn: 0.6500000\ttotal: 337ms\tremaining: 223ms\n",
      "400:\tlearn: 0.7125000\ttotal: 450ms\tremaining: 111ms\n",
      "499:\tlearn: 0.7593750\ttotal: 561ms\tremaining: 0us\n",
      "Mean Accuracy across 5 folds: 0.2892\n",
      "\n",
      "Classification Report (aggregated across folds):\n",
      "              precision    recall  f1-score   support\n",
      "\n",
      "       blues       0.14      0.11      0.12        80\n",
      "   classical       0.59      0.80      0.68        80\n",
      "     country       0.32      0.40      0.35        80\n",
      "       disco       0.19      0.15      0.17        80\n",
      "      hiphop       0.28      0.35      0.31        80\n",
      "        jazz       0.39      0.22      0.28        79\n",
      "       metal       0.29      0.38      0.33        80\n",
      "         pop       0.25      0.24      0.24        80\n",
      "      reggae       0.22      0.24      0.23        80\n",
      "        rock       0.02      0.01      0.02        80\n",
      "\n",
      "    accuracy                           0.29       799\n",
      "   macro avg       0.27      0.29      0.27       799\n",
      "weighted avg       0.27      0.29      0.27       799\n",
      "\n",
      "0:\tlearn: 0.2202753\ttotal: 1.32ms\tremaining: 659ms\n",
      "100:\tlearn: 0.4793492\ttotal: 131ms\tremaining: 518ms\n",
      "200:\tlearn: 0.5694618\ttotal: 255ms\tremaining: 379ms\n",
      "300:\tlearn: 0.6345432\ttotal: 385ms\tremaining: 254ms\n",
      "400:\tlearn: 0.6821026\ttotal: 536ms\tremaining: 132ms\n",
      "499:\tlearn: 0.7133917\ttotal: 682ms\tremaining: 0us\n"
     ]
    }
   ],
   "source": [
    "features = ['f0_chroma_shifted_freq_mean', 'f0_chroma_shifted_freq_var']\n",
    "\n",
    "column_names = E_train.get_columns(features)\n",
    "# mask = np.array([x not in bad_feats for x in column_names])\n",
    "\n",
    "model, acc = train_and_evaluate_catboost(\n",
    "    X=E_train.numpy(features),\n",
    "    y=y_train.to_numpy(),\n",
    ")"
   ]
  },
  {
   "cell_type": "code",
   "execution_count": 61,
   "id": "f3147b2d-3b60-41e4-ac58-dac46c6e0a7b",
   "metadata": {},
   "outputs": [],
   "source": [
    "# features = ['f0_chroma_freq_mean', 'f0_chroma_freq_var']\n",
    "\n",
    "# column_names = E_train.get_columns(features)\n",
    "# mask = np.array([x not in bad_feats for x in column_names])\n",
    "\n",
    "# model, acc = train_and_evaluate_catboost(\n",
    "#     X=E_train.numpy(features)[:, mask],\n",
    "#     y=y_train.to_numpy(),\n",
    "# )"
   ]
  },
  {
   "cell_type": "code",
   "execution_count": 62,
   "id": "5e7bde84-c465-460f-a086-95f565b692c2",
   "metadata": {},
   "outputs": [
    {
     "name": "stdout",
     "output_type": "stream",
     "text": [
      "0:\tlearn: 0.3333333\ttotal: 30ms\tremaining: 14.9s\n",
      "100:\tlearn: 0.8654147\ttotal: 973ms\tremaining: 3.85s\n",
      "200:\tlearn: 0.9546166\ttotal: 1.85s\tremaining: 2.75s\n",
      "300:\tlearn: 0.9780908\ttotal: 2.72s\tremaining: 1.8s\n",
      "400:\tlearn: 0.9890454\ttotal: 3.58s\tremaining: 883ms\n",
      "499:\tlearn: 0.9968701\ttotal: 4.43s\tremaining: 0us\n",
      "0:\tlearn: 0.3270736\ttotal: 14.5ms\tremaining: 7.22s\n",
      "100:\tlearn: 0.8701095\ttotal: 922ms\tremaining: 3.64s\n",
      "200:\tlearn: 0.9452269\ttotal: 1.81s\tremaining: 2.69s\n",
      "300:\tlearn: 0.9671362\ttotal: 2.66s\tremaining: 1.76s\n",
      "400:\tlearn: 0.9890454\ttotal: 3.52s\tremaining: 869ms\n",
      "499:\tlearn: 0.9921753\ttotal: 4.36s\tremaining: 0us\n",
      "0:\tlearn: 0.3082942\ttotal: 14.3ms\tremaining: 7.12s\n",
      "100:\tlearn: 0.8794992\ttotal: 890ms\tremaining: 3.52s\n",
      "200:\tlearn: 0.9436620\ttotal: 1.76s\tremaining: 2.62s\n",
      "300:\tlearn: 0.9765258\ttotal: 2.61s\tremaining: 1.72s\n",
      "400:\tlearn: 0.9906103\ttotal: 3.47s\tremaining: 856ms\n",
      "499:\tlearn: 0.9984351\ttotal: 4.31s\tremaining: 0us\n",
      "0:\tlearn: 0.2832551\ttotal: 14.2ms\tremaining: 7.1s\n",
      "100:\tlearn: 0.8904538\ttotal: 885ms\tremaining: 3.5s\n",
      "200:\tlearn: 0.9499218\ttotal: 1.75s\tremaining: 2.6s\n",
      "300:\tlearn: 0.9655712\ttotal: 2.6s\tremaining: 1.72s\n",
      "400:\tlearn: 0.9812207\ttotal: 3.45s\tremaining: 852ms\n",
      "499:\tlearn: 0.9921753\ttotal: 4.3s\tremaining: 0us\n",
      "0:\tlearn: 0.3171875\ttotal: 14.5ms\tremaining: 7.22s\n",
      "100:\tlearn: 0.8671875\ttotal: 897ms\tremaining: 3.54s\n",
      "200:\tlearn: 0.9390625\ttotal: 1.76s\tremaining: 2.62s\n",
      "300:\tlearn: 0.9671875\ttotal: 2.62s\tremaining: 1.73s\n",
      "400:\tlearn: 0.9859375\ttotal: 3.47s\tremaining: 858ms\n",
      "499:\tlearn: 0.9953125\ttotal: 4.34s\tremaining: 0us\n",
      "Mean Accuracy across 5 folds: 0.7685\n",
      "\n",
      "Classification Report (aggregated across folds):\n",
      "              precision    recall  f1-score   support\n",
      "\n",
      "       blues       0.79      0.75      0.77        80\n",
      "   classical       0.88      0.89      0.88        80\n",
      "     country       0.74      0.70      0.72        80\n",
      "       disco       0.76      0.76      0.76        80\n",
      "      hiphop       0.77      0.71      0.74        80\n",
      "        jazz       0.78      0.85      0.81        79\n",
      "       metal       0.82      0.86      0.84        80\n",
      "         pop       0.82      0.81      0.82        80\n",
      "      reggae       0.72      0.75      0.74        80\n",
      "        rock       0.60      0.60      0.60        80\n",
      "\n",
      "    accuracy                           0.77       799\n",
      "   macro avg       0.77      0.77      0.77       799\n",
      "weighted avg       0.77      0.77      0.77       799\n",
      "\n",
      "0:\tlearn: 0.3128911\ttotal: 14.5ms\tremaining: 7.26s\n",
      "100:\tlearn: 0.8635795\ttotal: 909ms\tremaining: 3.59s\n",
      "200:\tlearn: 0.9324155\ttotal: 1.78s\tremaining: 2.65s\n",
      "300:\tlearn: 0.9599499\ttotal: 2.66s\tremaining: 1.76s\n",
      "400:\tlearn: 0.9774718\ttotal: 3.6s\tremaining: 889ms\n",
      "499:\tlearn: 0.9899875\ttotal: 4.46s\tremaining: 0us\n"
     ]
    }
   ],
   "source": [
    "features = ['rms', 'bpm', 'zero_crossing_rate_mean',\n",
    "    'mel48_freq_mean', 'mel48_freq_var',\n",
    "    'cqt_harmonic_mean', 'cqt_harmonic_freq_mean', 'cqt_harmonic_freq_var',\n",
    "    'cqt_percussive_mean', 'cqt_percussive_freq_mean', 'cqt_percussive_freq_var',\n",
    "    'mfcc_quef_mean', 'mfcc_quef_var',\n",
    "    'spectral_centroid_mean', 'spectral_centroid_var',\n",
    "    'cqt_chroma_freq_mean', 'cqt_chroma_freq_var',\n",
    "    'cqt_harmonic_chroma_freq_mean', 'cqt_harmonic_chroma_freq_var',\n",
    "    'rolloff_mean', 'rolloff_var',\n",
    "    'bandwidth_mean', 'bandwidth_var',\n",
    "    'percept_freq_mean', 'percept_freq_var',\n",
    "    'zero_crossing_rate_mean',\n",
    "    'voiced_f0_mean', 'voiced_f0_var', 'voiced_percent',\n",
    "    'f0_chroma_shifted_freq_mean', 'f0_chroma_shifted_freq_var']\n",
    "\n",
    "column_names = E_train.get_columns(features)\n",
    "mask = np.array([x not in bad_feats for x in column_names])\n",
    "\n",
    "model, acc = train_and_evaluate_catboost(\n",
    "    X=E_train.numpy(features)[:, mask],\n",
    "    y=y_train.to_numpy(),\n",
    ")"
   ]
  },
  {
   "cell_type": "code",
   "execution_count": 63,
   "id": "8aee82a3-447b-4159-8ff4-b0998f39702d",
   "metadata": {},
   "outputs": [
    {
     "data": {
      "text/html": [
       "<div>\n",
       "<style scoped>\n",
       "    .dataframe tbody tr th:only-of-type {\n",
       "        vertical-align: middle;\n",
       "    }\n",
       "\n",
       "    .dataframe tbody tr th {\n",
       "        vertical-align: top;\n",
       "    }\n",
       "\n",
       "    .dataframe thead th {\n",
       "        text-align: right;\n",
       "    }\n",
       "</style>\n",
       "<table border=\"1\" class=\"dataframe\">\n",
       "  <thead>\n",
       "    <tr style=\"text-align: right;\">\n",
       "      <th></th>\n",
       "      <th>importance</th>\n",
       "    </tr>\n",
       "  </thead>\n",
       "  <tbody>\n",
       "    <tr>\n",
       "      <th>mfcc_quef_mean_3</th>\n",
       "      <td>3.254400</td>\n",
       "    </tr>\n",
       "    <tr>\n",
       "      <th>bandwidth_mean</th>\n",
       "      <td>3.069062</td>\n",
       "    </tr>\n",
       "    <tr>\n",
       "      <th>mfcc_quef_var_4</th>\n",
       "      <td>2.931473</td>\n",
       "    </tr>\n",
       "    <tr>\n",
       "      <th>cqt_harmonic_freq_var_10</th>\n",
       "      <td>2.365524</td>\n",
       "    </tr>\n",
       "    <tr>\n",
       "      <th>mfcc_quef_mean_5</th>\n",
       "      <td>2.317102</td>\n",
       "    </tr>\n",
       "    <tr>\n",
       "      <th>cqt_percussive_freq_var_33</th>\n",
       "      <td>1.996789</td>\n",
       "    </tr>\n",
       "    <tr>\n",
       "      <th>mel48_freq_var_35</th>\n",
       "      <td>1.830703</td>\n",
       "    </tr>\n",
       "    <tr>\n",
       "      <th>cqt_harmonic_freq_var_33</th>\n",
       "      <td>1.824305</td>\n",
       "    </tr>\n",
       "    <tr>\n",
       "      <th>cqt_percussive_freq_mean_19</th>\n",
       "      <td>1.783911</td>\n",
       "    </tr>\n",
       "    <tr>\n",
       "      <th>cqt_percussive_freq_var_25</th>\n",
       "      <td>1.507354</td>\n",
       "    </tr>\n",
       "    <tr>\n",
       "      <th>mfcc_quef_mean_7</th>\n",
       "      <td>1.486891</td>\n",
       "    </tr>\n",
       "    <tr>\n",
       "      <th>cqt_percussive_freq_var_24</th>\n",
       "      <td>1.452439</td>\n",
       "    </tr>\n",
       "    <tr>\n",
       "      <th>spectral_centroid_var</th>\n",
       "      <td>1.404346</td>\n",
       "    </tr>\n",
       "    <tr>\n",
       "      <th>cqt_percussive_freq_var_4</th>\n",
       "      <td>1.275737</td>\n",
       "    </tr>\n",
       "    <tr>\n",
       "      <th>mfcc_quef_mean_8</th>\n",
       "      <td>1.266490</td>\n",
       "    </tr>\n",
       "    <tr>\n",
       "      <th>percept_freq_var_27</th>\n",
       "      <td>1.235031</td>\n",
       "    </tr>\n",
       "    <tr>\n",
       "      <th>mfcc_quef_mean_0</th>\n",
       "      <td>1.189176</td>\n",
       "    </tr>\n",
       "    <tr>\n",
       "      <th>rolloff_var</th>\n",
       "      <td>1.100691</td>\n",
       "    </tr>\n",
       "    <tr>\n",
       "      <th>f0_chroma_shifted_freq_mean_5</th>\n",
       "      <td>1.090288</td>\n",
       "    </tr>\n",
       "    <tr>\n",
       "      <th>cqt_harmonic_chroma_freq_mean_0</th>\n",
       "      <td>1.013825</td>\n",
       "    </tr>\n",
       "    <tr>\n",
       "      <th>cqt_percussive_freq_var_18</th>\n",
       "      <td>1.006913</td>\n",
       "    </tr>\n",
       "    <tr>\n",
       "      <th>percept_freq_mean_47</th>\n",
       "      <td>0.952436</td>\n",
       "    </tr>\n",
       "    <tr>\n",
       "      <th>cqt_percussive_freq_var_28</th>\n",
       "      <td>0.929928</td>\n",
       "    </tr>\n",
       "    <tr>\n",
       "      <th>mfcc_quef_mean_16</th>\n",
       "      <td>0.926738</td>\n",
       "    </tr>\n",
       "    <tr>\n",
       "      <th>cqt_percussive_freq_var_30</th>\n",
       "      <td>0.897287</td>\n",
       "    </tr>\n",
       "    <tr>\n",
       "      <th>cqt_harmonic_freq_var_40</th>\n",
       "      <td>0.877770</td>\n",
       "    </tr>\n",
       "    <tr>\n",
       "      <th>mel48_freq_var_9</th>\n",
       "      <td>0.861464</td>\n",
       "    </tr>\n",
       "    <tr>\n",
       "      <th>mfcc_quef_var_7</th>\n",
       "      <td>0.827411</td>\n",
       "    </tr>\n",
       "    <tr>\n",
       "      <th>percept_freq_var_1</th>\n",
       "      <td>0.795298</td>\n",
       "    </tr>\n",
       "    <tr>\n",
       "      <th>percept_freq_var_51</th>\n",
       "      <td>0.775595</td>\n",
       "    </tr>\n",
       "  </tbody>\n",
       "</table>\n",
       "</div>"
      ],
      "text/plain": [
       "                                 importance\n",
       "mfcc_quef_mean_3                   3.254400\n",
       "bandwidth_mean                     3.069062\n",
       "mfcc_quef_var_4                    2.931473\n",
       "cqt_harmonic_freq_var_10           2.365524\n",
       "mfcc_quef_mean_5                   2.317102\n",
       "cqt_percussive_freq_var_33         1.996789\n",
       "mel48_freq_var_35                  1.830703\n",
       "cqt_harmonic_freq_var_33           1.824305\n",
       "cqt_percussive_freq_mean_19        1.783911\n",
       "cqt_percussive_freq_var_25         1.507354\n",
       "mfcc_quef_mean_7                   1.486891\n",
       "cqt_percussive_freq_var_24         1.452439\n",
       "spectral_centroid_var              1.404346\n",
       "cqt_percussive_freq_var_4          1.275737\n",
       "mfcc_quef_mean_8                   1.266490\n",
       "percept_freq_var_27                1.235031\n",
       "mfcc_quef_mean_0                   1.189176\n",
       "rolloff_var                        1.100691\n",
       "f0_chroma_shifted_freq_mean_5      1.090288\n",
       "cqt_harmonic_chroma_freq_mean_0    1.013825\n",
       "cqt_percussive_freq_var_18         1.006913\n",
       "percept_freq_mean_47               0.952436\n",
       "cqt_percussive_freq_var_28         0.929928\n",
       "mfcc_quef_mean_16                  0.926738\n",
       "cqt_percussive_freq_var_30         0.897287\n",
       "cqt_harmonic_freq_var_40           0.877770\n",
       "mel48_freq_var_9                   0.861464\n",
       "mfcc_quef_var_7                    0.827411\n",
       "percept_freq_var_1                 0.795298\n",
       "percept_freq_var_51                0.775595"
      ]
     },
     "execution_count": 63,
     "metadata": {},
     "output_type": "execute_result"
    }
   ],
   "source": [
    "pd.DataFrame(\n",
    "    data=model.feature_importances_,\n",
    "    index=np.array(E_train.get_columns(features))[mask],\n",
    "    columns=['importance']\n",
    ").sort_values('importance', ascending=False).head(30)"
   ]
  },
  {
   "cell_type": "code",
   "execution_count": 64,
   "id": "da6f25ab-bf42-4248-8d22-2ff50e8a7b63",
   "metadata": {},
   "outputs": [
    {
     "data": {
      "text/html": [
       "<div>\n",
       "<style scoped>\n",
       "    .dataframe tbody tr th:only-of-type {\n",
       "        vertical-align: middle;\n",
       "    }\n",
       "\n",
       "    .dataframe tbody tr th {\n",
       "        vertical-align: top;\n",
       "    }\n",
       "\n",
       "    .dataframe thead th {\n",
       "        text-align: right;\n",
       "    }\n",
       "</style>\n",
       "<table border=\"1\" class=\"dataframe\">\n",
       "  <thead>\n",
       "    <tr style=\"text-align: right;\">\n",
       "      <th></th>\n",
       "      <th>importance</th>\n",
       "    </tr>\n",
       "  </thead>\n",
       "  <tbody>\n",
       "    <tr>\n",
       "      <th>f0_chroma_shifted_freq_mean_0</th>\n",
       "      <td>0.340320</td>\n",
       "    </tr>\n",
       "    <tr>\n",
       "      <th>f0_chroma_shifted_freq_mean_1</th>\n",
       "      <td>0.094853</td>\n",
       "    </tr>\n",
       "    <tr>\n",
       "      <th>f0_chroma_shifted_freq_mean_2</th>\n",
       "      <td>0.049555</td>\n",
       "    </tr>\n",
       "    <tr>\n",
       "      <th>f0_chroma_shifted_freq_mean_3</th>\n",
       "      <td>0.000315</td>\n",
       "    </tr>\n",
       "    <tr>\n",
       "      <th>f0_chroma_shifted_freq_mean_4</th>\n",
       "      <td>0.028165</td>\n",
       "    </tr>\n",
       "    <tr>\n",
       "      <th>f0_chroma_shifted_freq_mean_5</th>\n",
       "      <td>1.090288</td>\n",
       "    </tr>\n",
       "    <tr>\n",
       "      <th>f0_chroma_shifted_freq_mean_6</th>\n",
       "      <td>0.183776</td>\n",
       "    </tr>\n",
       "    <tr>\n",
       "      <th>f0_chroma_shifted_freq_mean_7</th>\n",
       "      <td>0.602871</td>\n",
       "    </tr>\n",
       "    <tr>\n",
       "      <th>f0_chroma_shifted_freq_mean_8</th>\n",
       "      <td>0.065165</td>\n",
       "    </tr>\n",
       "    <tr>\n",
       "      <th>f0_chroma_shifted_freq_mean_9</th>\n",
       "      <td>0.005917</td>\n",
       "    </tr>\n",
       "    <tr>\n",
       "      <th>f0_chroma_shifted_freq_mean_10</th>\n",
       "      <td>0.002199</td>\n",
       "    </tr>\n",
       "    <tr>\n",
       "      <th>f0_chroma_shifted_freq_mean_11</th>\n",
       "      <td>0.000000</td>\n",
       "    </tr>\n",
       "    <tr>\n",
       "      <th>f0_chroma_shifted_freq_var_0</th>\n",
       "      <td>0.240976</td>\n",
       "    </tr>\n",
       "    <tr>\n",
       "      <th>f0_chroma_shifted_freq_var_1</th>\n",
       "      <td>0.371598</td>\n",
       "    </tr>\n",
       "    <tr>\n",
       "      <th>f0_chroma_shifted_freq_var_2</th>\n",
       "      <td>0.001040</td>\n",
       "    </tr>\n",
       "    <tr>\n",
       "      <th>f0_chroma_shifted_freq_var_3</th>\n",
       "      <td>0.212294</td>\n",
       "    </tr>\n",
       "    <tr>\n",
       "      <th>f0_chroma_shifted_freq_var_4</th>\n",
       "      <td>0.021077</td>\n",
       "    </tr>\n",
       "    <tr>\n",
       "      <th>f0_chroma_shifted_freq_var_5</th>\n",
       "      <td>0.000074</td>\n",
       "    </tr>\n",
       "    <tr>\n",
       "      <th>f0_chroma_shifted_freq_var_6</th>\n",
       "      <td>0.133539</td>\n",
       "    </tr>\n",
       "    <tr>\n",
       "      <th>f0_chroma_shifted_freq_var_7</th>\n",
       "      <td>0.221417</td>\n",
       "    </tr>\n",
       "    <tr>\n",
       "      <th>f0_chroma_shifted_freq_var_8</th>\n",
       "      <td>0.073704</td>\n",
       "    </tr>\n",
       "    <tr>\n",
       "      <th>f0_chroma_shifted_freq_var_9</th>\n",
       "      <td>0.006251</td>\n",
       "    </tr>\n",
       "    <tr>\n",
       "      <th>f0_chroma_shifted_freq_var_10</th>\n",
       "      <td>0.002256</td>\n",
       "    </tr>\n",
       "    <tr>\n",
       "      <th>f0_chroma_shifted_freq_var_11</th>\n",
       "      <td>0.000000</td>\n",
       "    </tr>\n",
       "  </tbody>\n",
       "</table>\n",
       "</div>"
      ],
      "text/plain": [
       "                                importance\n",
       "f0_chroma_shifted_freq_mean_0     0.340320\n",
       "f0_chroma_shifted_freq_mean_1     0.094853\n",
       "f0_chroma_shifted_freq_mean_2     0.049555\n",
       "f0_chroma_shifted_freq_mean_3     0.000315\n",
       "f0_chroma_shifted_freq_mean_4     0.028165\n",
       "f0_chroma_shifted_freq_mean_5     1.090288\n",
       "f0_chroma_shifted_freq_mean_6     0.183776\n",
       "f0_chroma_shifted_freq_mean_7     0.602871\n",
       "f0_chroma_shifted_freq_mean_8     0.065165\n",
       "f0_chroma_shifted_freq_mean_9     0.005917\n",
       "f0_chroma_shifted_freq_mean_10    0.002199\n",
       "f0_chroma_shifted_freq_mean_11    0.000000\n",
       "f0_chroma_shifted_freq_var_0      0.240976\n",
       "f0_chroma_shifted_freq_var_1      0.371598\n",
       "f0_chroma_shifted_freq_var_2      0.001040\n",
       "f0_chroma_shifted_freq_var_3      0.212294\n",
       "f0_chroma_shifted_freq_var_4      0.021077\n",
       "f0_chroma_shifted_freq_var_5      0.000074\n",
       "f0_chroma_shifted_freq_var_6      0.133539\n",
       "f0_chroma_shifted_freq_var_7      0.221417\n",
       "f0_chroma_shifted_freq_var_8      0.073704\n",
       "f0_chroma_shifted_freq_var_9      0.006251\n",
       "f0_chroma_shifted_freq_var_10     0.002256\n",
       "f0_chroma_shifted_freq_var_11     0.000000"
      ]
     },
     "execution_count": 64,
     "metadata": {},
     "output_type": "execute_result"
    }
   ],
   "source": [
    "new = E_train.get_columns(['f0_chroma_shifted_freq_mean', 'f0_chroma_shifted_freq_var'])\n",
    "pd.DataFrame(\n",
    "    data=model.feature_importances_,\n",
    "    index=np.array(E_train.get_columns(features))[mask],\n",
    "    columns=['importance']\n",
    ").loc[new]"
   ]
  },
  {
   "cell_type": "code",
   "execution_count": 67,
   "id": "c32c9047-cb00-43aa-bfdc-6cca89a6bc06",
   "metadata": {},
   "outputs": [],
   "source": [
    "bad_feats += list(set(new) - {'f0_chroma_shifted_freq_mean_5', 'f0_chroma_shifted_freq_mean_7'})"
   ]
  },
  {
   "cell_type": "code",
   "execution_count": 71,
   "id": "7e030da3-7dca-4190-ae27-6236c5a5fe91",
   "metadata": {},
   "outputs": [
    {
     "name": "stdout",
     "output_type": "stream",
     "text": [
      "0:\tlearn: 0.3129890\ttotal: 25.4ms\tremaining: 12.7s\n",
      "100:\tlearn: 0.8810642\ttotal: 908ms\tremaining: 3.59s\n",
      "200:\tlearn: 0.9514867\ttotal: 1.78s\tremaining: 2.64s\n",
      "300:\tlearn: 0.9796557\ttotal: 2.66s\tremaining: 1.76s\n",
      "400:\tlearn: 0.9921753\ttotal: 3.54s\tremaining: 874ms\n",
      "499:\tlearn: 1.0000000\ttotal: 4.35s\tremaining: 0us\n",
      "0:\tlearn: 0.3004695\ttotal: 13.5ms\tremaining: 6.75s\n",
      "100:\tlearn: 0.8951487\ttotal: 880ms\tremaining: 3.47s\n",
      "200:\tlearn: 0.9436620\ttotal: 1.76s\tremaining: 2.62s\n",
      "300:\tlearn: 0.9702660\ttotal: 2.62s\tremaining: 1.73s\n",
      "400:\tlearn: 0.9874804\ttotal: 3.42s\tremaining: 846ms\n",
      "499:\tlearn: 0.9890454\ttotal: 4.23s\tremaining: 0us\n",
      "0:\tlearn: 0.2910798\ttotal: 13.5ms\tremaining: 6.74s\n",
      "100:\tlearn: 0.8732394\ttotal: 861ms\tremaining: 3.4s\n",
      "200:\tlearn: 0.9499218\ttotal: 1.76s\tremaining: 2.61s\n",
      "300:\tlearn: 0.9718310\ttotal: 2.6s\tremaining: 1.72s\n",
      "400:\tlearn: 0.9890454\ttotal: 3.4s\tremaining: 840ms\n",
      "499:\tlearn: 0.9937402\ttotal: 4.2s\tremaining: 0us\n",
      "0:\tlearn: 0.2926448\ttotal: 13.3ms\tremaining: 6.63s\n",
      "100:\tlearn: 0.8622848\ttotal: 819ms\tremaining: 3.24s\n",
      "200:\tlearn: 0.9374022\ttotal: 1.62s\tremaining: 2.41s\n",
      "300:\tlearn: 0.9718310\ttotal: 2.41s\tremaining: 1.59s\n",
      "400:\tlearn: 0.9859155\ttotal: 3.22s\tremaining: 794ms\n",
      "499:\tlearn: 0.9921753\ttotal: 4s\tremaining: 0us\n",
      "0:\tlearn: 0.3375000\ttotal: 13.6ms\tremaining: 6.76s\n",
      "100:\tlearn: 0.8796875\ttotal: 853ms\tremaining: 3.37s\n",
      "200:\tlearn: 0.9437500\ttotal: 1.7s\tremaining: 2.53s\n",
      "300:\tlearn: 0.9734375\ttotal: 2.5s\tremaining: 1.66s\n",
      "400:\tlearn: 0.9875000\ttotal: 3.3s\tremaining: 815ms\n",
      "499:\tlearn: 0.9953125\ttotal: 4.1s\tremaining: 0us\n",
      "Mean Accuracy across 5 folds: 0.7697\n",
      "\n",
      "Classification Report (aggregated across folds):\n",
      "              precision    recall  f1-score   support\n",
      "\n",
      "       blues       0.82      0.79      0.80        80\n",
      "   classical       0.85      0.90      0.87        80\n",
      "     country       0.71      0.74      0.72        80\n",
      "       disco       0.72      0.78      0.75        80\n",
      "      hiphop       0.80      0.70      0.75        80\n",
      "        jazz       0.78      0.81      0.80        79\n",
      "       metal       0.82      0.84      0.83        80\n",
      "         pop       0.80      0.81      0.81        80\n",
      "      reggae       0.75      0.74      0.74        80\n",
      "        rock       0.65      0.60      0.62        80\n",
      "\n",
      "    accuracy                           0.77       799\n",
      "   macro avg       0.77      0.77      0.77       799\n",
      "weighted avg       0.77      0.77      0.77       799\n",
      "\n",
      "0:\tlearn: 0.2941176\ttotal: 13.5ms\tremaining: 6.71s\n",
      "100:\tlearn: 0.8573217\ttotal: 874ms\tremaining: 3.45s\n",
      "200:\tlearn: 0.9274093\ttotal: 1.69s\tremaining: 2.51s\n",
      "300:\tlearn: 0.9586984\ttotal: 2.49s\tremaining: 1.65s\n",
      "400:\tlearn: 0.9812265\ttotal: 3.3s\tremaining: 815ms\n",
      "499:\tlearn: 0.9874844\ttotal: 4.09s\tremaining: 0us\n"
     ]
    }
   ],
   "source": [
    "features = ['rms', 'bpm', 'zero_crossing_rate_mean',\n",
    "    'mel48_freq_mean', 'mel48_freq_var',\n",
    "    'cqt_harmonic_mean', 'cqt_harmonic_freq_mean', 'cqt_harmonic_freq_var',\n",
    "    'cqt_percussive_mean', 'cqt_percussive_freq_mean', 'cqt_percussive_freq_var',\n",
    "    'mfcc_quef_mean', 'mfcc_quef_var',\n",
    "    'spectral_centroid_mean', 'spectral_centroid_var',\n",
    "    'cqt_chroma_freq_mean', 'cqt_chroma_freq_var',\n",
    "    'cqt_harmonic_chroma_freq_mean', 'cqt_harmonic_chroma_freq_var',\n",
    "    'rolloff_mean', 'rolloff_var',\n",
    "    'bandwidth_mean', 'bandwidth_var',\n",
    "    'percept_freq_mean', 'percept_freq_var',\n",
    "    'zero_crossing_rate_mean',\n",
    "    'voiced_f0_mean', 'voiced_f0_var', 'voiced_percent',\n",
    "    ]\n",
    "\n",
    "column_names = E_train.get_columns(features)\n",
    "mask = np.array([x not in bad_feats for x in column_names])\n",
    "\n",
    "model, acc = train_and_evaluate_catboost(\n",
    "    X=E_train.numpy(features)[:, mask],\n",
    "    y=y_train.to_numpy(),\n",
    ")"
   ]
  },
  {
   "cell_type": "code",
   "execution_count": 91,
   "id": "0f69f7a0-a6fb-4f2a-820c-02e910ff6491",
   "metadata": {},
   "outputs": [
    {
     "name": "stdout",
     "output_type": "stream",
     "text": [
      "Running extractor for features tempogram_ratio at 2025-02-13 01:29:57.699797\n",
      "Failed compiling function, will use plain python wrapper.\n"
     ]
    },
    {
     "data": {
      "application/vnd.jupyter.widget-view+json": {
       "model_id": "6563600cda164f24bd0103e13339a212",
       "version_major": 2,
       "version_minor": 0
      },
      "text/plain": [
       "  0%|          | 0/799 [00:00<?, ?it/s]"
      ]
     },
     "metadata": {},
     "output_type": "display_data"
    },
    {
     "name": "stdout",
     "output_type": "stream",
     "text": [
      "Done running extractor at 2025-02-13 01:30:18.428817 total running time 0:00:20.729020\n",
      "Running extractor for features tempogram_ratio_tempo_mean at 2025-02-13 01:30:18.428857\n",
      "Failed compiling function, will use plain python wrapper.\n"
     ]
    },
    {
     "data": {
      "application/vnd.jupyter.widget-view+json": {
       "model_id": "47c3b7c15d1345ab9d42ebe14c7a18ff",
       "version_major": 2,
       "version_minor": 0
      },
      "text/plain": [
       "  0%|          | 0/799 [00:00<?, ?it/s]"
      ]
     },
     "metadata": {},
     "output_type": "display_data"
    },
    {
     "name": "stdout",
     "output_type": "stream",
     "text": [
      "Done running extractor at 2025-02-13 01:30:18.746422 total running time 0:00:00.317565\n",
      "Running extractor for features tempogram_ratio_tempo_var at 2025-02-13 01:30:18.746463\n",
      "Failed compiling function, will use plain python wrapper.\n"
     ]
    },
    {
     "data": {
      "application/vnd.jupyter.widget-view+json": {
       "model_id": "b7930467d99648a9bc674036beffed49",
       "version_major": 2,
       "version_minor": 0
      },
      "text/plain": [
       "  0%|          | 0/799 [00:00<?, ?it/s]"
      ]
     },
     "metadata": {},
     "output_type": "display_data"
    },
    {
     "name": "stdout",
     "output_type": "stream",
     "text": [
      "Done running extractor at 2025-02-13 01:30:19.085026 total running time 0:00:00.338563\n"
     ]
    }
   ],
   "source": [
    "# Extractor.register_mapper('tempogram', lambda audio: librosa.feature.tempogram(y=audio, sr=sr, hop_length=hop_length))\n",
    "# Extractor.register_mapper('tempogram_tempo_mean', lambda tempogram: tempogram.mean(axis=-1))\n",
    "# Extractor.register_mapper('tempogram_tempo_var', lambda tempogram: tempogram.var(axis=-1))\n",
    "Extractor.register_mapper('tempogram_ratio', lambda tempogram: librosa.feature.tempogram_ratio(tg=tempogram, sr=sr))\n",
    "Extractor.register_mapper('tempogram_ratio_tempo_mean', lambda tempogram_ratio: tempogram_ratio.mean(axis=-1))\n",
    "Extractor.register_mapper('tempogram_ratio_tempo_var', lambda tempogram_ratio: tempogram_ratio.var(axis=-1))\n",
    "E_train.soft_extract()"
   ]
  },
  {
   "cell_type": "code",
   "execution_count": 92,
   "id": "494a403e-86c3-42c7-877c-4ceaeb5b16c1",
   "metadata": {},
   "outputs": [
    {
     "name": "stdout",
     "output_type": "stream",
     "text": [
      "0:\tlearn: 0.1893584\ttotal: 2.81ms\tremaining: 1.4s\n",
      "100:\tlearn: 0.5352113\ttotal: 135ms\tremaining: 535ms\n",
      "200:\tlearn: 0.6369327\ttotal: 258ms\tremaining: 384ms\n",
      "300:\tlearn: 0.7104851\ttotal: 378ms\tremaining: 250ms\n",
      "400:\tlearn: 0.7871674\ttotal: 498ms\tremaining: 123ms\n",
      "499:\tlearn: 0.8701095\ttotal: 618ms\tremaining: 0us\n",
      "0:\tlearn: 0.1940532\ttotal: 1.23ms\tremaining: 611ms\n",
      "100:\tlearn: 0.5492958\ttotal: 121ms\tremaining: 479ms\n",
      "200:\tlearn: 0.6619718\ttotal: 241ms\tremaining: 359ms\n",
      "300:\tlearn: 0.7543036\ttotal: 365ms\tremaining: 241ms\n",
      "400:\tlearn: 0.8012520\ttotal: 486ms\tremaining: 120ms\n",
      "499:\tlearn: 0.8607199\ttotal: 611ms\tremaining: 0us\n",
      "0:\tlearn: 0.1940532\ttotal: 1.3ms\tremaining: 647ms\n",
      "100:\tlearn: 0.5399061\ttotal: 129ms\tremaining: 511ms\n",
      "200:\tlearn: 0.6604069\ttotal: 250ms\tremaining: 372ms\n",
      "300:\tlearn: 0.7449139\ttotal: 370ms\tremaining: 245ms\n",
      "400:\tlearn: 0.8169014\ttotal: 491ms\tremaining: 121ms\n",
      "499:\tlearn: 0.8841941\ttotal: 609ms\tremaining: 0us\n",
      "0:\tlearn: 0.2065728\ttotal: 1.21ms\tremaining: 605ms\n",
      "100:\tlearn: 0.5430360\ttotal: 121ms\tremaining: 477ms\n",
      "200:\tlearn: 0.6572770\ttotal: 239ms\tremaining: 356ms\n",
      "300:\tlearn: 0.7417840\ttotal: 360ms\tremaining: 238ms\n",
      "400:\tlearn: 0.8122066\ttotal: 479ms\tremaining: 118ms\n",
      "499:\tlearn: 0.8685446\ttotal: 598ms\tremaining: 0us\n",
      "0:\tlearn: 0.2890625\ttotal: 1.31ms\tremaining: 654ms\n",
      "100:\tlearn: 0.5312500\ttotal: 121ms\tremaining: 476ms\n",
      "200:\tlearn: 0.6734375\ttotal: 241ms\tremaining: 359ms\n",
      "300:\tlearn: 0.7484375\ttotal: 360ms\tremaining: 238ms\n",
      "400:\tlearn: 0.8078125\ttotal: 484ms\tremaining: 120ms\n",
      "499:\tlearn: 0.8593750\ttotal: 601ms\tremaining: 0us\n",
      "Mean Accuracy across 5 folds: 0.4005\n",
      "\n",
      "Classification Report (aggregated across folds):\n",
      "              precision    recall  f1-score   support\n",
      "\n",
      "       blues       0.35      0.34      0.34        80\n",
      "   classical       0.57      0.59      0.58        80\n",
      "     country       0.26      0.26      0.26        80\n",
      "       disco       0.43      0.47      0.45        80\n",
      "      hiphop       0.29      0.30      0.29        80\n",
      "        jazz       0.41      0.48      0.44        79\n",
      "       metal       0.45      0.55      0.49        80\n",
      "         pop       0.41      0.38      0.39        80\n",
      "      reggae       0.51      0.57      0.54        80\n",
      "        rock       0.15      0.06      0.09        80\n",
      "\n",
      "    accuracy                           0.40       799\n",
      "   macro avg       0.38      0.40      0.39       799\n",
      "weighted avg       0.38      0.40      0.39       799\n",
      "\n",
      "0:\tlearn: 0.2140175\ttotal: 1.2ms\tremaining: 601ms\n",
      "100:\tlearn: 0.5056320\ttotal: 128ms\tremaining: 504ms\n",
      "200:\tlearn: 0.6170213\ttotal: 252ms\tremaining: 375ms\n",
      "300:\tlearn: 0.7083855\ttotal: 378ms\tremaining: 250ms\n",
      "400:\tlearn: 0.7471840\ttotal: 512ms\tremaining: 126ms\n",
      "499:\tlearn: 0.8147685\ttotal: 644ms\tremaining: 0us\n"
     ]
    }
   ],
   "source": [
    "features = [\n",
    "    'tempogram_ratio_tempo_mean', 'tempogram_ratio_tempo_var'\n",
    "    ]\n",
    "\n",
    "column_names = E_train.get_columns(features)\n",
    "mask = np.array([x not in bad_feats for x in column_names])\n",
    "\n",
    "model, acc = train_and_evaluate_catboost(\n",
    "    X=E_train.numpy(features)[:, mask],\n",
    "    y=y_train.to_numpy(),\n",
    ")"
   ]
  },
  {
   "cell_type": "code",
   "execution_count": 93,
   "id": "9cf5c912-4b0c-4341-bb92-b1f3993519f5",
   "metadata": {},
   "outputs": [
    {
     "name": "stdout",
     "output_type": "stream",
     "text": [
      "0:\tlearn: 0.2910798\ttotal: 14.6ms\tremaining: 7.26s\n",
      "100:\tlearn: 0.8857590\ttotal: 949ms\tremaining: 3.75s\n",
      "200:\tlearn: 0.9608764\ttotal: 1.83s\tremaining: 2.72s\n",
      "300:\tlearn: 0.9796557\ttotal: 2.69s\tremaining: 1.78s\n",
      "400:\tlearn: 0.9921753\ttotal: 3.57s\tremaining: 881ms\n",
      "499:\tlearn: 0.9968701\ttotal: 4.42s\tremaining: 0us\n",
      "0:\tlearn: 0.3004695\ttotal: 14.9ms\tremaining: 7.44s\n",
      "100:\tlearn: 0.8810642\ttotal: 899ms\tremaining: 3.55s\n",
      "200:\tlearn: 0.9483568\ttotal: 1.85s\tremaining: 2.75s\n",
      "300:\tlearn: 0.9749609\ttotal: 2.72s\tremaining: 1.8s\n",
      "400:\tlearn: 0.9843505\ttotal: 3.6s\tremaining: 890ms\n",
      "499:\tlearn: 0.9953052\ttotal: 4.45s\tremaining: 0us\n",
      "0:\tlearn: 0.2347418\ttotal: 14.5ms\tremaining: 7.24s\n",
      "100:\tlearn: 0.8826291\ttotal: 898ms\tremaining: 3.55s\n",
      "200:\tlearn: 0.9483568\ttotal: 1.83s\tremaining: 2.73s\n",
      "300:\tlearn: 0.9812207\ttotal: 2.7s\tremaining: 1.78s\n",
      "400:\tlearn: 0.9921753\ttotal: 3.56s\tremaining: 879ms\n",
      "499:\tlearn: 0.9968701\ttotal: 4.41s\tremaining: 0us\n",
      "0:\tlearn: 0.2738654\ttotal: 14.5ms\tremaining: 7.24s\n",
      "100:\tlearn: 0.8857590\ttotal: 895ms\tremaining: 3.53s\n",
      "200:\tlearn: 0.9514867\ttotal: 1.77s\tremaining: 2.63s\n",
      "300:\tlearn: 0.9733959\ttotal: 2.63s\tremaining: 1.74s\n",
      "400:\tlearn: 0.9827856\ttotal: 3.5s\tremaining: 865ms\n",
      "499:\tlearn: 0.9937402\ttotal: 4.36s\tremaining: 0us\n",
      "0:\tlearn: 0.2968750\ttotal: 14.6ms\tremaining: 7.28s\n",
      "100:\tlearn: 0.8765625\ttotal: 893ms\tremaining: 3.53s\n",
      "200:\tlearn: 0.9437500\ttotal: 1.76s\tremaining: 2.61s\n",
      "300:\tlearn: 0.9796875\ttotal: 2.61s\tremaining: 1.73s\n",
      "400:\tlearn: 0.9921875\ttotal: 3.47s\tremaining: 857ms\n",
      "499:\tlearn: 0.9968750\ttotal: 4.35s\tremaining: 0us\n",
      "Mean Accuracy across 5 folds: 0.7797\n",
      "\n",
      "Classification Report (aggregated across folds):\n",
      "              precision    recall  f1-score   support\n",
      "\n",
      "       blues       0.85      0.78      0.81        80\n",
      "   classical       0.90      0.91      0.91        80\n",
      "     country       0.70      0.74      0.72        80\n",
      "       disco       0.74      0.74      0.74        80\n",
      "      hiphop       0.82      0.78      0.79        80\n",
      "        jazz       0.79      0.86      0.82        79\n",
      "       metal       0.84      0.84      0.84        80\n",
      "         pop       0.81      0.81      0.81        80\n",
      "      reggae       0.74      0.75      0.75        80\n",
      "        rock       0.62      0.60      0.61        80\n",
      "\n",
      "    accuracy                           0.78       799\n",
      "   macro avg       0.78      0.78      0.78       799\n",
      "weighted avg       0.78      0.78      0.78       799\n",
      "\n",
      "0:\tlearn: 0.2966208\ttotal: 14.6ms\tremaining: 7.3s\n",
      "100:\tlearn: 0.8660826\ttotal: 951ms\tremaining: 3.76s\n",
      "200:\tlearn: 0.9449312\ttotal: 1.83s\tremaining: 2.72s\n",
      "300:\tlearn: 0.9662078\ttotal: 2.7s\tremaining: 1.79s\n",
      "400:\tlearn: 0.9799750\ttotal: 3.62s\tremaining: 894ms\n",
      "499:\tlearn: 0.9899875\ttotal: 4.57s\tremaining: 0us\n"
     ]
    }
   ],
   "source": [
    "features = ['rms', 'bpm', 'zero_crossing_rate_mean',\n",
    "    'mel48_freq_mean', 'mel48_freq_var',\n",
    "    'cqt_harmonic_mean', 'cqt_harmonic_freq_mean', 'cqt_harmonic_freq_var',\n",
    "    'cqt_percussive_mean', 'cqt_percussive_freq_mean', 'cqt_percussive_freq_var',\n",
    "    'mfcc_quef_mean', 'mfcc_quef_var',\n",
    "    'spectral_centroid_mean', 'spectral_centroid_var',\n",
    "    'cqt_chroma_freq_mean', 'cqt_chroma_freq_var',\n",
    "    'cqt_harmonic_chroma_freq_mean', 'cqt_harmonic_chroma_freq_var',\n",
    "    'rolloff_mean', 'rolloff_var',\n",
    "    'bandwidth_mean', 'bandwidth_var',\n",
    "    'percept_freq_mean', 'percept_freq_var',\n",
    "    'zero_crossing_rate_mean',\n",
    "    'voiced_f0_mean', 'voiced_f0_var', 'voiced_percent',\n",
    "    'tempogram_ratio_tempo_mean', 'tempogram_ratio_tempo_var'\n",
    "    ]\n",
    "\n",
    "column_names = E_train.get_columns(features)\n",
    "mask = np.array([x not in bad_feats for x in column_names])\n",
    "\n",
    "model, acc = train_and_evaluate_catboost(\n",
    "    X=E_train.numpy(features)[:, mask],\n",
    "    y=y_train.to_numpy(),\n",
    ")"
   ]
  },
  {
   "cell_type": "code",
   "execution_count": null,
   "id": "80b0f2cf-17bd-4529-9391-fdfd06879104",
   "metadata": {},
   "outputs": [],
   "source": [
    "features = ['rms', 'bpm', 'zero_crossing_rate_mean',\n",
    "    'mel48_freq_mean', 'mel48_freq_var',\n",
    "    'cqt_harmonic_mean', 'cqt_harmonic_freq_mean', 'cqt_harmonic_freq_var',\n",
    "    'cqt_percussive_mean', 'cqt_percussive_freq_mean', 'cqt_percussive_freq_var',\n",
    "    'mfcc_quef_mean', 'mfcc_quef_var',\n",
    "    'spectral_centroid_mean', 'spectral_centroid_var',\n",
    "    'cqt_chroma_freq_mean', 'cqt_chroma_freq_var',\n",
    "    'cqt_harmonic_chroma_freq_mean', 'cqt_harmonic_chroma_freq_var',\n",
    "    'rolloff_mean', 'rolloff_var',\n",
    "    'bandwidth_mean', 'bandwidth_var',\n",
    "    'percept_freq_mean', 'percept_freq_var',\n",
    "    'zero_crossing_rate_mean',\n",
    "    'voiced_f0_mean', 'voiced_f0_var', 'voiced_percent',\n",
    "    'tempogram_ratio_tempo_mean', 'tempogram_ratio_tempo_var'\n",
    "    ]\n",
    "\n",
    "column_names = E_train.get_columns(features)\n",
    "mask = np.array([x not in bad_feats for x in column_names])\n",
    "\n",
    "model, acc = train_and_evaluate_catboost(\n",
    "    X=E_train.numpy(features)[:, mask],\n",
    "    y=y_train.to_numpy(),\n",
    ")"
   ]
  },
  {
   "cell_type": "markdown",
   "id": "ed7d1d16-45ff-475d-80ec-6fcb7264da1e",
   "metadata": {
    "id": "ed7d1d16-45ff-475d-80ec-6fcb7264da1e"
   },
   "source": [
    "ChatGPT query\n",
    "\n",
    "Write a python function with a following signature\n",
    "\n",
    "```\n",
    "rnd = np.random.default_rng(42)\n",
    "def crop_by_beats(beat, harmony_specs, percussion_specs, frames_per_beat = 4, number_of_beats=16, number_of_samples=8)\n",
    "    pass\n",
    "```\n",
    "\n",
    "beats is the integer array of frames at which there was a beat\n",
    "upsample beats , for two neighboring values insert frames_per_beat-1 values between them uniformly cropped to the nearest frame\n",
    "\n",
    "Next number_of_samples times sample starting position in the upsampled beats array and take number_of_beats * frames_per_beat consequent beats. Position must be sampled aligned to number_of_beats * frames_per_beat.\n",
    "\n",
    "harmony_specs is a list of several spectrograms with harmonic parts of melody.\n",
    "for each of harmony spec calculate the mean along time axis (axis = 1) between the consequent beats of the sample including the frames at which there was a beat\n",
    "\n",
    "percussion_specs is a list of several spectrograms with percussion parts of melody. For each of percussion spec calculate the downsampled spectrogram as with harmony specs but shift the spectrogram so that the first sample was centered at the beat. The resulting length must be the same\n",
    "\n",
    "return list of tuples containing downsampled spectrograms"
   ]
  },
  {
   "cell_type": "code",
   "execution_count": null,
   "id": "c6db06bb-4ad3-4406-86d5-a924add6b614",
   "metadata": {
    "id": "c6db06bb-4ad3-4406-86d5-a924add6b614"
   },
   "outputs": [],
   "source": [
    "rnd = np.random.default_rng(42)\n",
    "\n",
    "def crop_by_beats(\n",
    "    beat,\n",
    "    harmony_specs,\n",
    "    percussion_specs,\n",
    "    frames_per_beat=4,\n",
    "    number_of_beats=8,\n",
    "    number_of_samples=8\n",
    "):\n",
    "    \"\"\"\n",
    "    Upsample the array of integer beat positions and then randomly extract\n",
    "    (number_of_samples) chunks of length (number_of_beats * frames_per_beat).\n",
    "\n",
    "    For each chunk, compute the downsampled spectrogram:\n",
    "      - For harmonic specs: take the mean along the time axis (axis=1)\n",
    "        between consecutive upsampled-beat boundaries.\n",
    "      - For percussion specs: take the mean along the time axis over intervals\n",
    "        shifted so that each is centered at the corresponding upsampled beat.\n",
    "\n",
    "    Parameters\n",
    "    ----------\n",
    "    beat : 1D array-like of int\n",
    "        Array of frame indices at which a beat occurs. Must be strictly increasing.\n",
    "    harmony_specs : list of np.ndarray\n",
    "        Each element is a spectrogram for a harmonic component with shape\n",
    "        (freq_bins, time_frames).\n",
    "    percussion_specs : list of np.ndarray\n",
    "        Each element is a spectrogram for a percussion component with shape\n",
    "        (freq_bins, time_frames).\n",
    "    frames_per_beat : int\n",
    "        Number of subdivisions per original beat when upsampling.\n",
    "    number_of_beats : int\n",
    "        How many beats (in terms of upsampled subdivisions) to include in each chunk.\n",
    "    number_of_samples : int\n",
    "        How many random chunks to extract.\n",
    "\n",
    "    Returns\n",
    "    -------\n",
    "    list of tuples\n",
    "        A list (of length `number_of_samples`). Each element is:\n",
    "\n",
    "            (harmony_downsampled_list, percussion_downsampled_list)\n",
    "\n",
    "        where `harmony_downsampled_list` and `percussion_downsampled_list` are each\n",
    "        lists of spectrograms (in the same order as `harmony_specs` and\n",
    "        `percussion_specs`). Each downsampled spectrogram has shape:\n",
    "\n",
    "            (freq_bins, number_of_beats * frames_per_beat)\n",
    "    \"\"\"\n",
    "\n",
    "    # 1) Upsample 'beat' by inserting (frames_per_beat - 1) points\n",
    "    #    uniformly between each pair of consecutive beats.\n",
    "    up_beats = []\n",
    "    beat = np.array(beat, dtype=int)\n",
    "    for i in range(len(beat) - 1):\n",
    "        start = beat[i]\n",
    "        end = beat[i + 1]\n",
    "        diff = end - start\n",
    "\n",
    "        # Insert frames_per_beat subdivisions between start and end,\n",
    "        # snapping to the nearest integer frame.\n",
    "        for k in range(frames_per_beat):\n",
    "            val = start + round(k * diff / frames_per_beat)\n",
    "            # Avoid duplicates if rounding yields same as last appended\n",
    "            if not up_beats or val != up_beats[-1]:\n",
    "                up_beats.append(val)\n",
    "\n",
    "    up_beats = np.array(up_beats, dtype=int)\n",
    "\n",
    "    # 2) We need (number_of_beats * frames_per_beat + 1) upsampled-beat\n",
    "    #    positions for each chunk (the +1 is because we need the right boundary).\n",
    "    needed_length = number_of_beats * frames_per_beat + 1\n",
    "    total_upsampled = len(up_beats)\n",
    "\n",
    "    # If we cannot extract even one chunk, return empty\n",
    "    max_start = total_upsampled - needed_length\n",
    "    if max_start < 0:\n",
    "        return []\n",
    "\n",
    "    # Possible start indices must be multiples of (4 * frames_per_beat)\n",
    "    # so that each chunk is \"aligned\".\n",
    "    stride = number_of_beats * frames_per_beat\n",
    "    possible_starts = np.arange(0, max_start + 1, stride)\n",
    "\n",
    "    # Randomly choose 'number_of_samples' start indices from these possibilities\n",
    "    chosen_starts = rnd.choice(possible_starts, size=number_of_samples, replace=True)\n",
    "\n",
    "    results = []\n",
    "    for start_idx in chosen_starts:\n",
    "        # Boundaries for this sample\n",
    "        boundary_points = up_beats[start_idx : start_idx + needed_length]\n",
    "        # === 3) Downsample each harmony spec ===\n",
    "        harmony_downsampled = []\n",
    "        for spec in harmony_specs:\n",
    "            # spec has shape (freq_bins, time_frames)\n",
    "            freq_bins = spec.shape[0]\n",
    "\n",
    "            # We'll get (number_of_beats * frames_per_beat) intervals\n",
    "            ds_harm = np.zeros((freq_bins, number_of_beats * frames_per_beat),\n",
    "                               dtype=spec.dtype)\n",
    "            for j in range(number_of_beats * frames_per_beat):\n",
    "                left = boundary_points[j]\n",
    "                right = boundary_points[j + 1]\n",
    "                # Take the average along axis=1 (time axis)\n",
    "                ds_harm[:, j] = spec[:, left:right].mean(axis=1)\n",
    "\n",
    "            harmony_downsampled.append(ds_harm)\n",
    "\n",
    "        # === 4) Downsample each percussion spec with centering ===\n",
    "        percussion_downsampled = []\n",
    "        percussion_sampled = []\n",
    "        for spec in percussion_specs:\n",
    "\n",
    "            freq_bins = spec.shape[0]\n",
    "            ds_perc = np.zeros((freq_bins, number_of_beats * frames_per_beat),\n",
    "                               dtype=spec.dtype)\n",
    "\n",
    "            old_right = None\n",
    "            for j in range(number_of_beats * frames_per_beat):\n",
    "                dist = boundary_points[j + 1] - boundary_points[j]\n",
    "                right = boundary_points[j + 1] - dist // 2\n",
    "                if old_right is None:\n",
    "                    left = boundary_points[j] - dist // 2\n",
    "                    if left < 0:\n",
    "                        left = 0\n",
    "                else:\n",
    "                    left = old_right\n",
    "                old_right = right\n",
    "\n",
    "                # Average over the time axis in [left, right)\n",
    "                chunk = spec[:, left:right]\n",
    "                ds_perc[:, j] = chunk.mean(axis=1)\n",
    "\n",
    "            percussion_downsampled.append(ds_perc)\n",
    "\n",
    "        # One result entry = (list_of_downsampled_harmony_specs, list_of_downsampled_percussion_specs)\n",
    "        results.append((harmony_downsampled, percussion_downsampled))\n",
    "    return results"
   ]
  },
  {
   "cell_type": "code",
   "execution_count": null,
   "id": "2f127a9d-846b-463b-a674-7295da842e3a",
   "metadata": {
    "id": "2f127a9d-846b-463b-a674-7295da842e3a"
   },
   "outputs": [],
   "source": [
    "Extractor.register_extractor('sample',\n",
    "                             lambda beat, cqt, harmonic, mfcc, cqt_chroma, harmonic_chroma, percussive:\n",
    "                             crop_by_beats(\n",
    "                                 beat=beat,\n",
    "                                 harmony_specs=[cqt, harmonic, mfcc, cqt_chroma, harmonic_chroma],\n",
    "                                 percussion_specs=[percussive]\n",
    "                             ), shuffle=True, map_labels=[\n",
    "                                 ('idx', 's_idx'),\n",
    "                                 ('y', 's_y'),\n",
    "                             ])\n",
    "Extractor.register_extractor('s_cqt', lambda sample: sample[0][0])\n",
    "Extractor.register_extractor('s_harmonic', lambda sample: sample[0][1])\n",
    "Extractor.register_extractor('s_mfcc', lambda sample: sample[0][2])\n",
    "Extractor.register_extractor('s_cqt_chroma', lambda sample: sample[0][3])\n",
    "Extractor.register_extractor('s_harmonic_chroma', lambda sample: sample[0][4])\n",
    "Extractor.register_extractor('s_percussive', lambda sample: sample[1][0])"
   ]
  },
  {
   "cell_type": "code",
   "execution_count": null,
   "id": "d2a78a9e-20c2-4df6-af7b-5191bc804124",
   "metadata": {
    "id": "d2a78a9e-20c2-4df6-af7b-5191bc804124",
    "outputId": "2e3bbe3c-bfcf-40b1-e92d-2361f5333adf"
   },
   "outputs": [],
   "source": [
    "del E_train.features['sample']\n",
    "del E_eval.features['sample']\n",
    "for f in list(E_train.features.keys()):\n",
    "    if f.startswith('s_'):\n",
    "        del E_train.features[f]\n",
    "        del E_eval.features[f]"
   ]
  },
  {
   "cell_type": "code",
   "execution_count": null,
   "id": "08d2c32d-712c-4928-9df0-0a93b73120c5",
   "metadata": {
    "id": "08d2c32d-712c-4928-9df0-0a93b73120c5"
   },
   "outputs": [],
   "source": [
    "E_train.soft_extract()\n",
    "E_eval.soft_extract()"
   ]
  },
  {
   "cell_type": "code",
   "execution_count": null,
   "id": "1026d150-35ad-4cd4-b44a-f3e75a8c03cb",
   "metadata": {
    "id": "1026d150-35ad-4cd4-b44a-f3e75a8c03cb"
   },
   "outputs": [],
   "source": [
    "Extractor.register_extractor('s_percussive_beat_frames',\n",
    "                             lambda s_percussive: s_percussive.mean(axis=0))"
   ]
  },
  {
   "cell_type": "code",
   "execution_count": null,
   "id": "b471db37-be83-4d88-9feb-2fb4655e3cc0",
   "metadata": {
    "id": "b471db37-be83-4d88-9feb-2fb4655e3cc0"
   },
   "outputs": [],
   "source": [
    "E_train.soft_extract()\n",
    "E_eval.soft_extract()"
   ]
  },
  {
   "cell_type": "code",
   "execution_count": null,
   "id": "84043e0c-cf40-4563-873b-1df91750a582",
   "metadata": {
    "id": "84043e0c-cf40-4563-873b-1df91750a582"
   },
   "outputs": [],
   "source": [
    "plt.subplot(2, 2, 1)\n",
    "plt.plot(E_train.features['s_percussive_beat_frames'][0])\n",
    "plt.subplot(2, 2, 2)\n",
    "plt.plot(E_train.features['s_percussive_beat_frames'][1])\n",
    "plt.subplot(2, 2, 3)\n",
    "plt.plot(E_train.features['s_percussive_beat_frames'][2])\n",
    "plt.subplot(2, 2, 4)\n",
    "plt.plot(E_train.features['s_percussive_beat_frames'][3])"
   ]
  },
  {
   "cell_type": "code",
   "execution_count": null,
   "id": "5ad9bda3-d368-4c21-969b-452eb39b92e9",
   "metadata": {
    "id": "5ad9bda3-d368-4c21-969b-452eb39b92e9"
   },
   "outputs": [],
   "source": [
    "from sklearn.cluster import KMeans\n",
    "\n",
    "class KMeansAdapter(KMeans):\n",
    "    def transform(self, *args, **kwargs):\n",
    "        return self.predict(*args, **kwargs).reshape(-1, 1)\n",
    "    def fit_transform(self, *args, **kwargs):\n",
    "        return self.fit_predict(*args, **kwargs).reshape(-1, 1)\n",
    "n_clusters=8\n",
    "Extractor.register_sklearn_extractor('s_percussive_beat_frames_kmeans', ['s_percussive_beat_frames'], KMeansAdapter(n_clusters=n_clusters))"
   ]
  },
  {
   "cell_type": "code",
   "execution_count": null,
   "id": "91ef5889-6de5-4b0f-94c9-e6d8ee20ea74",
   "metadata": {
    "id": "91ef5889-6de5-4b0f-94c9-e6d8ee20ea74"
   },
   "outputs": [],
   "source": [
    "E_train.train"
   ]
  },
  {
   "cell_type": "code",
   "execution_count": null,
   "id": "aa33435a-a8a4-4c26-96ac-8caf23b10437",
   "metadata": {
    "id": "aa33435a-a8a4-4c26-96ac-8caf23b10437"
   },
   "outputs": [],
   "source": [
    "del E_train.features['s_percussive_beat_frames_kmeans']\n",
    "del E_eval.features['s_percussive_beat_frames_kmeans']\n",
    "E_train.soft_extract()\n",
    "E_eval.soft_extract()"
   ]
  },
  {
   "cell_type": "code",
   "execution_count": null,
   "id": "52339667-cf98-4d70-a29a-6adcadcd5ece",
   "metadata": {
    "id": "52339667-cf98-4d70-a29a-6adcadcd5ece"
   },
   "outputs": [],
   "source": [
    "import matplotlib.ticker as ticker\n",
    "centers = Extractor._stateful_extractors['s_percussive_beat_frames_kmeans'][0].cluster_centers_\n",
    "h = (len(centers) + 2) // 2\n",
    "for i, c in enumerate(centers):\n",
    "    ax = plt.subplot(h, 2, i + 1)\n",
    "    ax.xaxis.set_major_locator(ticker.MultipleLocator(base=4))\n",
    "    plt.plot(c)\n",
    "    plt.grid(axis='x', which='both')"
   ]
  },
  {
   "cell_type": "code",
   "execution_count": null,
   "id": "bc9e5161-9b7b-4c10-aa58-41413f9affa6",
   "metadata": {
    "id": "bc9e5161-9b7b-4c10-aa58-41413f9affa6"
   },
   "outputs": [],
   "source": [
    "Extractor.register_sklearn_extractor('s_percussive_beat_frames_svd', ['s_percussive_beat_frames'],\n",
    "                                     TruncatedSVD(\n",
    "                                         n_components=n_tsvd_components,\n",
    "                                         n_iter=n_svd_iter,\n",
    "                                         random_state=42\n",
    "                                     ))"
   ]
  },
  {
   "cell_type": "code",
   "execution_count": null,
   "id": "3745e742-70d1-4ea5-bbd1-331e9ce97a7d",
   "metadata": {
    "id": "3745e742-70d1-4ea5-bbd1-331e9ce97a7d"
   },
   "outputs": [],
   "source": [
    "E_train.soft_extract()\n",
    "E_eval.soft_extract()"
   ]
  },
  {
   "cell_type": "code",
   "execution_count": null,
   "id": "e0b15de5-8541-4bec-b09b-ab30506559b5",
   "metadata": {
    "id": "e0b15de5-8541-4bec-b09b-ab30506559b5"
   },
   "outputs": [],
   "source": [
    "def sum_beats(E, feature_names, idx, to_idx):\n",
    "    return [np.array(list(x[1])) for x in pd.DataFrame(data=E.get_features(\n",
    "        [idx] + feature_names\n",
    "    ), columns=[\"idx\"] + list(E.get_feature_names_vector(feature_names))) \\\n",
    "    .groupby(\"idx\").agg(\"sum\") \\\n",
    "    .loc[E.get_features([to_idx])[:,0]].iterrows()]\n",
    "E_train.features['percussive_beat_frames_svd'] = sum_beats(E_train, [\"s_percussive_beat_frames_svd\"], \"s_idx\", \"idx\")\n",
    "E_eval.features['percussive_beat_frames_svd'] = sum_beats(E_eval, [\"s_percussive_beat_frames_svd\"], \"s_idx\", \"idx\")"
   ]
  },
  {
   "cell_type": "code",
   "execution_count": null,
   "id": "c48be66f-7d17-464a-8946-c3d49669408a",
   "metadata": {
    "id": "c48be66f-7d17-464a-8946-c3d49669408a"
   },
   "outputs": [],
   "source": [
    "plt.plot(E_train.features['percussive_beat_frames_svd'][10])"
   ]
  },
  {
   "cell_type": "code",
   "execution_count": null,
   "id": "be6902c0-d157-4458-81d4-8e40a342fd2d",
   "metadata": {
    "id": "be6902c0-d157-4458-81d4-8e40a342fd2d"
   },
   "outputs": [],
   "source": []
  },
  {
   "cell_type": "code",
   "execution_count": null,
   "id": "f8009bfb-b3a4-4c92-9249-f264389b89b3",
   "metadata": {
    "id": "f8009bfb-b3a4-4c92-9249-f264389b89b3"
   },
   "outputs": [],
   "source": [
    "def ohe(s):\n",
    "    v = [0] * n_clusters\n",
    "    for i in s:\n",
    "        v[i] += 1\n",
    "    return v\n",
    "\n",
    "def aggregate(E, feature_names, idx, to_idx):\n",
    "    return [np.array(x) for x in pd.DataFrame(data=E.get_features(\n",
    "        [idx] + feature_names\n",
    "    ), columns=[\"idx\"] + feature_names) \\\n",
    "    .groupby(\"idx\").agg(ohe) \\\n",
    "    .loc[E.get_features([to_idx])[:,0]]['s_percussive_beat_frames_kmeans']]\n",
    "E_train.features['percussive_beat_frames_kmeans'] = aggregate(E_train, [\"s_percussive_beat_frames_kmeans\"], \"s_idx\", \"idx\")\n",
    "E_eval.features['percussive_beat_frames_kmeans'] = aggregate(E_eval, [\"s_percussive_beat_frames_kmeans\"], \"s_idx\", \"idx\")"
   ]
  },
  {
   "cell_type": "code",
   "execution_count": null,
   "id": "6888403b-08b7-4699-958b-30fe374384a7",
   "metadata": {
    "id": "6888403b-08b7-4699-958b-30fe374384a7"
   },
   "outputs": [],
   "source": [
    "import importlib\n",
    "train_and_evaluate_catboost = importlib.reload(importlib.import_module('model')).train_and_evaluate_catboost"
   ]
  },
  {
   "cell_type": "code",
   "execution_count": null,
   "id": "80203d1a-5d9e-4121-8b48-f5518a782dc9",
   "metadata": {
    "id": "80203d1a-5d9e-4121-8b48-f5518a782dc9"
   },
   "outputs": [],
   "source": [
    "# ChatGPT query:\n",
    "#\n",
    "# I have an array with feature names and I want to generate weights for the features. Some of the feature names look like <name>_<index>.\n",
    "# I want to make a function receiving a dict with prefixes and corresponding feature weights.\n",
    "# It should return the np.array of the same shape as feature_names, containing weights.\n",
    "# If the feature name starts with prefix from the dict then the weight has to be taken from the dict, otherwise it has to be 1.\n",
    "# Here is the signature:\n",
    "#\n",
    "# def assign_feature_weights(feature_names: np.ndarray, weights: dict[str, int]) -> np.ndarray:\n",
    "#     pass\n",
    "\n",
    "import numpy as np\n",
    "\n",
    "def assign_feature_weights(feature_names: np.ndarray, weights: dict[str, float]) -> np.ndarray:\n",
    "    \"\"\"\n",
    "    Assign weights to features based on given prefixes.\n",
    "\n",
    "    Parameters\n",
    "    ----------\n",
    "    feature_names : np.ndarray\n",
    "        Array of feature names.\n",
    "    weights : dict[str, float]\n",
    "        Dictionary mapping a prefix (string) to a weight (float).\n",
    "\n",
    "    Returns\n",
    "    -------\n",
    "    np.ndarray\n",
    "        An array of the same shape as `feature_names` containing the assigned weights.\n",
    "        If a feature name starts with any prefix in `weights`, the corresponding weight\n",
    "        is used. Otherwise, the weight is 1.0.\n",
    "    \"\"\"\n",
    "    result_weights = np.ones_like(feature_names, dtype=float)  # default is 1.0\n",
    "\n",
    "    for i, fname in enumerate(feature_names):\n",
    "        for prefix, w in weights.items():\n",
    "            if fname.startswith(prefix):\n",
    "                result_weights[i] = w\n",
    "                break  # Stop at the first matching prefix\n",
    "\n",
    "    return result_weights"
   ]
  },
  {
   "cell_type": "code",
   "execution_count": null,
   "id": "297370d9-a3b5-46cf-b8c4-8d19afd3f36c",
   "metadata": {
    "id": "297370d9-a3b5-46cf-b8c4-8d19afd3f36c"
   },
   "outputs": [],
   "source": [
    "features = ['stats', 'rms', 'bpm',\n",
    "    'cqt_per_freq_mean_svd', 'cqt_per_freq_var_svd',\n",
    "    'harmonic_per_freq_mean_svd', 'harmonic_per_freq_var_svd',\n",
    "    'percussive_per_freq_mean_svd', 'percussive_per_freq_var_svd',\n",
    "    'mfcc_quef_mean', 'mfcc_quef_var',\n",
    "    'cqt_spectral_centroid_mean', 'cqt_spectral_centroid_var',\n",
    "    'cqt_chroma_mean', 'cqt_chroma_var',\n",
    "    'harmonic_chroma_freq_mean', 'harmonic_chroma_freq_var',\n",
    "    'cqt_rolloff_mean', 'cqt_rolloff_var',\n",
    "    'cqt_bandwidth_mean', 'cqt_bandwidth_var',\n",
    "    'percept_freq_mean_svd', 'percept_freq_var_svd',\n",
    "    'voiced_f0_mean', 'f0_var',\n",
    "    'overtones_freq_mean_svd', 'overtones_freq_var_svd',\n",
    "    ]\n",
    "\n",
    "weights = assign_feature_weights(E_eval.get_feature_names_vector(features),\n",
    "                                 dict(percussive_beat_frames_kmeans=1))\n",
    "model, acc = train_and_evaluate_catboost(\n",
    "    idx_eval=E_eval.get_features(['idx'])[:,0],\n",
    "    X_train=E_train.get_features(features),\n",
    "    X_eval=E_eval.get_features(features),\n",
    "    y_train=E_train.get_features(['y'])[:,0],\n",
    "    y_eval=E_eval.get_features(['y'])[:,0],\n",
    ")"
   ]
  },
  {
   "cell_type": "code",
   "execution_count": null,
   "id": "bdcf8273-5a86-474b-9cf0-b31f897f05c2",
   "metadata": {
    "id": "bdcf8273-5a86-474b-9cf0-b31f897f05c2"
   },
   "outputs": [],
   "source": [
    "imp = pd.DataFrame(\n",
    "    data=model.feature_importances_,\n",
    "    index=E_train.get_feature_names_vector(features),\n",
    "    columns=['importance']\n",
    ").sort_values(by='importance', ascending=False).head(15)\n",
    "imp['stat_name'] = pd.Series(imp.index, index=imp.index).apply(lambda x: int(x[6:]) if x.startswith('stats_') else None)\n",
    "imp['stat_name'] = imp['stat_name'].apply(lambda x: X_train.columns[int(x) + 2] if not np.isnan(x) else None)\n",
    "imp"
   ]
  },
  {
   "cell_type": "code",
   "execution_count": null,
   "id": "8fce659c-29a6-4159-b839-e8e104a1a5d6",
   "metadata": {},
   "outputs": [],
   "source": []
  },
  {
   "cell_type": "code",
   "execution_count": null,
   "id": "5ba64843-5465-47b7-ae4f-72f0ec7d24ea",
   "metadata": {},
   "outputs": [],
   "source": []
  },
  {
   "cell_type": "code",
   "execution_count": null,
   "id": "d5e0a20a-1edf-48a2-9776-237948634c29",
   "metadata": {},
   "outputs": [],
   "source": []
  }
 ],
 "metadata": {
  "colab": {
   "provenance": []
  },
  "kernelspec": {
   "display_name": "Python 3 (ipykernel)",
   "language": "python",
   "name": "python3"
  },
  "language_info": {
   "codemirror_mode": {
    "name": "ipython",
    "version": 3
   },
   "file_extension": ".py",
   "mimetype": "text/x-python",
   "name": "python",
   "nbconvert_exporter": "python",
   "pygments_lexer": "ipython3",
   "version": "3.12.8"
  }
 },
 "nbformat": 4,
 "nbformat_minor": 5
}
