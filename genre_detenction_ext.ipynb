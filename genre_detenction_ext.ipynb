{
 "cells": [
  {
   "cell_type": "code",
   "execution_count": 3,
   "id": "4ec4f216-efdb-4e99-aec2-b26667fa71ba",
   "metadata": {},
   "outputs": [],
   "source": [
    "import pandas as pd\n",
    "import numpy as np\n",
    "from model import *\n",
    "import extractor\n",
    "class Extractor(extractor.AudioDataExtractionPipeline):\n",
    "    pass"
   ]
  },
  {
   "cell_type": "code",
   "execution_count": 4,
   "id": "5512d565-1366-47d5-8b87-efda54317286",
   "metadata": {},
   "outputs": [
    {
     "data": {
      "text/html": [
       "<div>\n",
       "<style scoped>\n",
       "    .dataframe tbody tr th:only-of-type {\n",
       "        vertical-align: middle;\n",
       "    }\n",
       "\n",
       "    .dataframe tbody tr th {\n",
       "        vertical-align: top;\n",
       "    }\n",
       "\n",
       "    .dataframe thead th {\n",
       "        text-align: right;\n",
       "    }\n",
       "</style>\n",
       "<table border=\"1\" class=\"dataframe\">\n",
       "  <thead>\n",
       "    <tr style=\"text-align: right;\">\n",
       "      <th></th>\n",
       "      <th>filename</th>\n",
       "      <th>length</th>\n",
       "      <th>chroma_stft_mean</th>\n",
       "      <th>chroma_stft_var</th>\n",
       "      <th>rms_mean</th>\n",
       "      <th>rms_var</th>\n",
       "      <th>spectral_centroid_mean</th>\n",
       "      <th>spectral_centroid_var</th>\n",
       "      <th>spectral_bandwidth_mean</th>\n",
       "      <th>spectral_bandwidth_var</th>\n",
       "      <th>...</th>\n",
       "      <th>mfcc16_var</th>\n",
       "      <th>mfcc17_mean</th>\n",
       "      <th>mfcc17_var</th>\n",
       "      <th>mfcc18_mean</th>\n",
       "      <th>mfcc18_var</th>\n",
       "      <th>mfcc19_mean</th>\n",
       "      <th>mfcc19_var</th>\n",
       "      <th>mfcc20_mean</th>\n",
       "      <th>mfcc20_var</th>\n",
       "      <th>label</th>\n",
       "    </tr>\n",
       "  </thead>\n",
       "  <tbody>\n",
       "    <tr>\n",
       "      <th>0</th>\n",
       "      <td>blues.00000.wav</td>\n",
       "      <td>661794</td>\n",
       "      <td>0.350088</td>\n",
       "      <td>0.088757</td>\n",
       "      <td>0.130228</td>\n",
       "      <td>0.002827</td>\n",
       "      <td>1784.165850</td>\n",
       "      <td>129774.064525</td>\n",
       "      <td>2002.449060</td>\n",
       "      <td>85882.761315</td>\n",
       "      <td>...</td>\n",
       "      <td>52.420910</td>\n",
       "      <td>-1.690215</td>\n",
       "      <td>36.524071</td>\n",
       "      <td>-0.408979</td>\n",
       "      <td>41.597103</td>\n",
       "      <td>-2.303523</td>\n",
       "      <td>55.062923</td>\n",
       "      <td>1.221291</td>\n",
       "      <td>46.936035</td>\n",
       "      <td>blues</td>\n",
       "    </tr>\n",
       "    <tr>\n",
       "      <th>1</th>\n",
       "      <td>blues.00001.wav</td>\n",
       "      <td>661794</td>\n",
       "      <td>0.340914</td>\n",
       "      <td>0.094980</td>\n",
       "      <td>0.095948</td>\n",
       "      <td>0.002373</td>\n",
       "      <td>1530.176679</td>\n",
       "      <td>375850.073649</td>\n",
       "      <td>2039.036516</td>\n",
       "      <td>213843.755497</td>\n",
       "      <td>...</td>\n",
       "      <td>55.356403</td>\n",
       "      <td>-0.731125</td>\n",
       "      <td>60.314529</td>\n",
       "      <td>0.295073</td>\n",
       "      <td>48.120598</td>\n",
       "      <td>-0.283518</td>\n",
       "      <td>51.106190</td>\n",
       "      <td>0.531217</td>\n",
       "      <td>45.786282</td>\n",
       "      <td>blues</td>\n",
       "    </tr>\n",
       "    <tr>\n",
       "      <th>2</th>\n",
       "      <td>blues.00002.wav</td>\n",
       "      <td>661794</td>\n",
       "      <td>0.363637</td>\n",
       "      <td>0.085275</td>\n",
       "      <td>0.175570</td>\n",
       "      <td>0.002746</td>\n",
       "      <td>1552.811865</td>\n",
       "      <td>156467.643368</td>\n",
       "      <td>1747.702312</td>\n",
       "      <td>76254.192257</td>\n",
       "      <td>...</td>\n",
       "      <td>40.598766</td>\n",
       "      <td>-7.729093</td>\n",
       "      <td>47.639427</td>\n",
       "      <td>-1.816407</td>\n",
       "      <td>52.382141</td>\n",
       "      <td>-3.439720</td>\n",
       "      <td>46.639660</td>\n",
       "      <td>-2.231258</td>\n",
       "      <td>30.573025</td>\n",
       "      <td>blues</td>\n",
       "    </tr>\n",
       "    <tr>\n",
       "      <th>3</th>\n",
       "      <td>blues.00003.wav</td>\n",
       "      <td>661794</td>\n",
       "      <td>0.404785</td>\n",
       "      <td>0.093999</td>\n",
       "      <td>0.141093</td>\n",
       "      <td>0.006346</td>\n",
       "      <td>1070.106615</td>\n",
       "      <td>184355.942417</td>\n",
       "      <td>1596.412872</td>\n",
       "      <td>166441.494769</td>\n",
       "      <td>...</td>\n",
       "      <td>44.427753</td>\n",
       "      <td>-3.319597</td>\n",
       "      <td>50.206673</td>\n",
       "      <td>0.636965</td>\n",
       "      <td>37.319130</td>\n",
       "      <td>-0.619121</td>\n",
       "      <td>37.259739</td>\n",
       "      <td>-3.407448</td>\n",
       "      <td>31.949339</td>\n",
       "      <td>blues</td>\n",
       "    </tr>\n",
       "    <tr>\n",
       "      <th>4</th>\n",
       "      <td>blues.00004.wav</td>\n",
       "      <td>661794</td>\n",
       "      <td>0.308526</td>\n",
       "      <td>0.087841</td>\n",
       "      <td>0.091529</td>\n",
       "      <td>0.002303</td>\n",
       "      <td>1835.004266</td>\n",
       "      <td>343399.939274</td>\n",
       "      <td>1748.172116</td>\n",
       "      <td>88445.209036</td>\n",
       "      <td>...</td>\n",
       "      <td>86.099236</td>\n",
       "      <td>-5.454034</td>\n",
       "      <td>75.269707</td>\n",
       "      <td>-0.916874</td>\n",
       "      <td>53.613918</td>\n",
       "      <td>-4.404827</td>\n",
       "      <td>62.910812</td>\n",
       "      <td>-11.703234</td>\n",
       "      <td>55.195160</td>\n",
       "      <td>blues</td>\n",
       "    </tr>\n",
       "    <tr>\n",
       "      <th>...</th>\n",
       "      <td>...</td>\n",
       "      <td>...</td>\n",
       "      <td>...</td>\n",
       "      <td>...</td>\n",
       "      <td>...</td>\n",
       "      <td>...</td>\n",
       "      <td>...</td>\n",
       "      <td>...</td>\n",
       "      <td>...</td>\n",
       "      <td>...</td>\n",
       "      <td>...</td>\n",
       "      <td>...</td>\n",
       "      <td>...</td>\n",
       "      <td>...</td>\n",
       "      <td>...</td>\n",
       "      <td>...</td>\n",
       "      <td>...</td>\n",
       "      <td>...</td>\n",
       "      <td>...</td>\n",
       "      <td>...</td>\n",
       "      <td>...</td>\n",
       "    </tr>\n",
       "    <tr>\n",
       "      <th>995</th>\n",
       "      <td>rock.00095.wav</td>\n",
       "      <td>661794</td>\n",
       "      <td>0.352063</td>\n",
       "      <td>0.080487</td>\n",
       "      <td>0.079486</td>\n",
       "      <td>0.000345</td>\n",
       "      <td>2008.149458</td>\n",
       "      <td>282174.689224</td>\n",
       "      <td>2106.541053</td>\n",
       "      <td>88609.749506</td>\n",
       "      <td>...</td>\n",
       "      <td>45.050526</td>\n",
       "      <td>-13.289984</td>\n",
       "      <td>41.754955</td>\n",
       "      <td>2.484145</td>\n",
       "      <td>36.778877</td>\n",
       "      <td>-6.713265</td>\n",
       "      <td>54.866825</td>\n",
       "      <td>-1.193787</td>\n",
       "      <td>49.950665</td>\n",
       "      <td>rock</td>\n",
       "    </tr>\n",
       "    <tr>\n",
       "      <th>996</th>\n",
       "      <td>rock.00096.wav</td>\n",
       "      <td>661794</td>\n",
       "      <td>0.398687</td>\n",
       "      <td>0.075086</td>\n",
       "      <td>0.076458</td>\n",
       "      <td>0.000588</td>\n",
       "      <td>2006.843354</td>\n",
       "      <td>182114.709510</td>\n",
       "      <td>2068.942009</td>\n",
       "      <td>82426.016726</td>\n",
       "      <td>...</td>\n",
       "      <td>33.851742</td>\n",
       "      <td>-10.848309</td>\n",
       "      <td>39.395096</td>\n",
       "      <td>1.881229</td>\n",
       "      <td>32.010040</td>\n",
       "      <td>-7.461491</td>\n",
       "      <td>39.196327</td>\n",
       "      <td>-2.795338</td>\n",
       "      <td>31.773624</td>\n",
       "      <td>rock</td>\n",
       "    </tr>\n",
       "    <tr>\n",
       "      <th>997</th>\n",
       "      <td>rock.00097.wav</td>\n",
       "      <td>661794</td>\n",
       "      <td>0.432142</td>\n",
       "      <td>0.075268</td>\n",
       "      <td>0.081651</td>\n",
       "      <td>0.000322</td>\n",
       "      <td>2077.526598</td>\n",
       "      <td>231657.968040</td>\n",
       "      <td>1927.293153</td>\n",
       "      <td>74717.124394</td>\n",
       "      <td>...</td>\n",
       "      <td>33.597008</td>\n",
       "      <td>-12.845291</td>\n",
       "      <td>36.367264</td>\n",
       "      <td>3.440978</td>\n",
       "      <td>36.001110</td>\n",
       "      <td>-12.588070</td>\n",
       "      <td>42.502201</td>\n",
       "      <td>-2.106337</td>\n",
       "      <td>29.865515</td>\n",
       "      <td>rock</td>\n",
       "    </tr>\n",
       "    <tr>\n",
       "      <th>998</th>\n",
       "      <td>rock.00098.wav</td>\n",
       "      <td>661794</td>\n",
       "      <td>0.362485</td>\n",
       "      <td>0.091506</td>\n",
       "      <td>0.083860</td>\n",
       "      <td>0.001211</td>\n",
       "      <td>1398.699344</td>\n",
       "      <td>240318.731073</td>\n",
       "      <td>1818.450280</td>\n",
       "      <td>109090.207161</td>\n",
       "      <td>...</td>\n",
       "      <td>46.324894</td>\n",
       "      <td>-4.416050</td>\n",
       "      <td>43.583942</td>\n",
       "      <td>1.556207</td>\n",
       "      <td>34.331261</td>\n",
       "      <td>-5.041897</td>\n",
       "      <td>47.227180</td>\n",
       "      <td>-3.590644</td>\n",
       "      <td>41.299088</td>\n",
       "      <td>rock</td>\n",
       "    </tr>\n",
       "    <tr>\n",
       "      <th>999</th>\n",
       "      <td>rock.00099.wav</td>\n",
       "      <td>661794</td>\n",
       "      <td>0.358401</td>\n",
       "      <td>0.085884</td>\n",
       "      <td>0.054454</td>\n",
       "      <td>0.000336</td>\n",
       "      <td>1609.795082</td>\n",
       "      <td>422203.216152</td>\n",
       "      <td>1797.213044</td>\n",
       "      <td>120115.632927</td>\n",
       "      <td>...</td>\n",
       "      <td>59.167755</td>\n",
       "      <td>-7.069775</td>\n",
       "      <td>73.760391</td>\n",
       "      <td>0.028346</td>\n",
       "      <td>76.504326</td>\n",
       "      <td>-2.025783</td>\n",
       "      <td>72.189316</td>\n",
       "      <td>1.155239</td>\n",
       "      <td>49.662510</td>\n",
       "      <td>rock</td>\n",
       "    </tr>\n",
       "  </tbody>\n",
       "</table>\n",
       "<p>1000 rows × 60 columns</p>\n",
       "</div>"
      ],
      "text/plain": [
       "            filename  length  chroma_stft_mean  chroma_stft_var  rms_mean  \\\n",
       "0    blues.00000.wav  661794          0.350088         0.088757  0.130228   \n",
       "1    blues.00001.wav  661794          0.340914         0.094980  0.095948   \n",
       "2    blues.00002.wav  661794          0.363637         0.085275  0.175570   \n",
       "3    blues.00003.wav  661794          0.404785         0.093999  0.141093   \n",
       "4    blues.00004.wav  661794          0.308526         0.087841  0.091529   \n",
       "..               ...     ...               ...              ...       ...   \n",
       "995   rock.00095.wav  661794          0.352063         0.080487  0.079486   \n",
       "996   rock.00096.wav  661794          0.398687         0.075086  0.076458   \n",
       "997   rock.00097.wav  661794          0.432142         0.075268  0.081651   \n",
       "998   rock.00098.wav  661794          0.362485         0.091506  0.083860   \n",
       "999   rock.00099.wav  661794          0.358401         0.085884  0.054454   \n",
       "\n",
       "      rms_var  spectral_centroid_mean  spectral_centroid_var  \\\n",
       "0    0.002827             1784.165850          129774.064525   \n",
       "1    0.002373             1530.176679          375850.073649   \n",
       "2    0.002746             1552.811865          156467.643368   \n",
       "3    0.006346             1070.106615          184355.942417   \n",
       "4    0.002303             1835.004266          343399.939274   \n",
       "..        ...                     ...                    ...   \n",
       "995  0.000345             2008.149458          282174.689224   \n",
       "996  0.000588             2006.843354          182114.709510   \n",
       "997  0.000322             2077.526598          231657.968040   \n",
       "998  0.001211             1398.699344          240318.731073   \n",
       "999  0.000336             1609.795082          422203.216152   \n",
       "\n",
       "     spectral_bandwidth_mean  spectral_bandwidth_var  ...  mfcc16_var  \\\n",
       "0                2002.449060            85882.761315  ...   52.420910   \n",
       "1                2039.036516           213843.755497  ...   55.356403   \n",
       "2                1747.702312            76254.192257  ...   40.598766   \n",
       "3                1596.412872           166441.494769  ...   44.427753   \n",
       "4                1748.172116            88445.209036  ...   86.099236   \n",
       "..                       ...                     ...  ...         ...   \n",
       "995              2106.541053            88609.749506  ...   45.050526   \n",
       "996              2068.942009            82426.016726  ...   33.851742   \n",
       "997              1927.293153            74717.124394  ...   33.597008   \n",
       "998              1818.450280           109090.207161  ...   46.324894   \n",
       "999              1797.213044           120115.632927  ...   59.167755   \n",
       "\n",
       "     mfcc17_mean  mfcc17_var  mfcc18_mean  mfcc18_var  mfcc19_mean  \\\n",
       "0      -1.690215   36.524071    -0.408979   41.597103    -2.303523   \n",
       "1      -0.731125   60.314529     0.295073   48.120598    -0.283518   \n",
       "2      -7.729093   47.639427    -1.816407   52.382141    -3.439720   \n",
       "3      -3.319597   50.206673     0.636965   37.319130    -0.619121   \n",
       "4      -5.454034   75.269707    -0.916874   53.613918    -4.404827   \n",
       "..           ...         ...          ...         ...          ...   \n",
       "995   -13.289984   41.754955     2.484145   36.778877    -6.713265   \n",
       "996   -10.848309   39.395096     1.881229   32.010040    -7.461491   \n",
       "997   -12.845291   36.367264     3.440978   36.001110   -12.588070   \n",
       "998    -4.416050   43.583942     1.556207   34.331261    -5.041897   \n",
       "999    -7.069775   73.760391     0.028346   76.504326    -2.025783   \n",
       "\n",
       "     mfcc19_var  mfcc20_mean  mfcc20_var  label  \n",
       "0     55.062923     1.221291   46.936035  blues  \n",
       "1     51.106190     0.531217   45.786282  blues  \n",
       "2     46.639660    -2.231258   30.573025  blues  \n",
       "3     37.259739    -3.407448   31.949339  blues  \n",
       "4     62.910812   -11.703234   55.195160  blues  \n",
       "..          ...          ...         ...    ...  \n",
       "995   54.866825    -1.193787   49.950665   rock  \n",
       "996   39.196327    -2.795338   31.773624   rock  \n",
       "997   42.502201    -2.106337   29.865515   rock  \n",
       "998   47.227180    -3.590644   41.299088   rock  \n",
       "999   72.189316     1.155239   49.662510   rock  \n",
       "\n",
       "[1000 rows x 60 columns]"
      ]
     },
     "execution_count": 4,
     "metadata": {},
     "output_type": "execute_result"
    }
   ],
   "source": [
    "import pandas as pd\n",
    "df = pd.read_csv(\"dataset/Data/features_30_sec.csv\")\n",
    "df"
   ]
  },
  {
   "cell_type": "code",
   "execution_count": 5,
   "id": "dbdeecea-5a6e-488b-89e2-4c9e4d7e472b",
   "metadata": {},
   "outputs": [],
   "source": [
    "from sklearn.model_selection import train_test_split\n",
    "\n",
    "# Define features and target\n",
    "X = df.drop(columns=['label'])  # Features: e.g., 'track' and 'statistics'\n",
    "y = df['label']  # Target: 'label'\n",
    "\n",
    "# Split the dataset while preserving class proportions\n",
    "X_train, X_eval, y_train, y_eval = train_test_split(\n",
    "    X, y, \n",
    "    test_size=0.3,  # 30% for testing\n",
    "    stratify=y,     # Preserve class proportions\n",
    "    random_state=42 # For reproducibility\n",
    ")"
   ]
  },
  {
   "cell_type": "code",
   "execution_count": 6,
   "id": "b3f52c4c-0f71-42f5-b0a3-20853d19f15c",
   "metadata": {},
   "outputs": [],
   "source": [
    "# Drop corrupted sample \n",
    "idx = X_train.index[X_train[\"filename\"] == \"jazz.00054.wav\"]\n",
    "X_train = X_train.drop(index=idx)\n",
    "y_train = y_train.drop(index=idx)"
   ]
  },
  {
   "cell_type": "code",
   "execution_count": 7,
   "id": "5a94ba90-5c92-432a-9a7e-40ed4a617ebe",
   "metadata": {},
   "outputs": [
    {
     "data": {
      "application/vnd.jupyter.widget-view+json": {
       "model_id": "91b1d46eed9042c8aa94efbaf01a21e4",
       "version_major": 2,
       "version_minor": 0
      },
      "text/plain": [
       "MetricVisualizer(layout=Layout(align_self='stretch', height='500px'))"
      ]
     },
     "metadata": {},
     "output_type": "display_data"
    },
    {
     "name": "stdout",
     "output_type": "stream",
     "text": [
      "0:\tlearn: 0.3648069\ttest: 0.3433333\tbest: 0.3433333 (0)\ttotal: 61.1ms\tremaining: 30.5s\n",
      "50:\tlearn: 0.7367668\ttest: 0.6566667\tbest: 0.6700000 (47)\ttotal: 194ms\tremaining: 1.71s\n",
      "100:\tlearn: 0.8211731\ttest: 0.7200000\tbest: 0.7233333 (98)\ttotal: 321ms\tremaining: 1.27s\n",
      "150:\tlearn: 0.8726753\ttest: 0.7300000\tbest: 0.7400000 (122)\ttotal: 450ms\tremaining: 1.04s\n",
      "200:\tlearn: 0.9070100\ttest: 0.7366667\tbest: 0.7466667 (182)\ttotal: 566ms\tremaining: 842ms\n",
      "250:\tlearn: 0.9313305\ttest: 0.7366667\tbest: 0.7533333 (218)\ttotal: 681ms\tremaining: 675ms\n",
      "300:\tlearn: 0.9484979\ttest: 0.7533333\tbest: 0.7533333 (218)\ttotal: 795ms\tremaining: 525ms\n",
      "350:\tlearn: 0.9670959\ttest: 0.7466667\tbest: 0.7600000 (318)\ttotal: 909ms\tremaining: 386ms\n",
      "400:\tlearn: 0.9728183\ttest: 0.7466667\tbest: 0.7600000 (318)\ttotal: 1.04s\tremaining: 257ms\n",
      "450:\tlearn: 0.9756795\ttest: 0.7400000\tbest: 0.7600000 (318)\ttotal: 1.16s\tremaining: 126ms\n",
      "499:\tlearn: 0.9842632\ttest: 0.7466667\tbest: 0.7600000 (318)\ttotal: 1.35s\tremaining: 0us\n",
      "\n",
      "bestTest = 0.76\n",
      "bestIteration = 318\n",
      "\n",
      "Shrink model to first 319 iterations.\n",
      "\n",
      "Classification Report:\n",
      "               precision    recall  f1-score   support\n",
      "\n",
      "       blues       0.76      0.63      0.69        30\n",
      "   classical       0.97      0.97      0.97        30\n",
      "     country       0.79      0.77      0.78        30\n",
      "       disco       0.62      0.53      0.57        30\n",
      "      hiphop       0.59      0.80      0.68        30\n",
      "        jazz       0.85      0.93      0.89        30\n",
      "       metal       0.86      0.83      0.85        30\n",
      "         pop       0.85      0.93      0.89        30\n",
      "      reggae       0.67      0.67      0.67        30\n",
      "        rock       0.67      0.53      0.59        30\n",
      "\n",
      "    accuracy                           0.76       300\n",
      "   macro avg       0.76      0.76      0.76       300\n",
      "weighted avg       0.76      0.76      0.76       300\n",
      "\n",
      "Evaluation Accuracy: 0.7600\n"
     ]
    }
   ],
   "source": [
    "model, acc = train_and_evaluate_catboost(\n",
    "    X_eval.index.to_numpy(), \n",
    "    X_train.drop(columns=[\"filename\", \"length\"]).to_numpy(), \n",
    "    X_eval.drop(columns=[\"filename\", \"length\"]).to_numpy(), \n",
    "    y_train.to_numpy(), \n",
    "    y_eval.to_numpy()\n",
    ")"
   ]
  },
  {
   "cell_type": "code",
   "execution_count": 8,
   "id": "0310d7af-e347-4531-9b6b-7d8602f4a5f1",
   "metadata": {},
   "outputs": [],
   "source": [
    "import soundfile as sf\n",
    "import librosa\n",
    "import numpy as np\n",
    "from resampy import resample"
   ]
  },
  {
   "cell_type": "code",
   "execution_count": 9,
   "id": "c87f01e0-8eaa-4e53-acdb-4c2aa06decb5",
   "metadata": {},
   "outputs": [
    {
     "data": {
      "application/vnd.jupyter.widget-view+json": {
       "model_id": "36c05741f4344977ac320b26ff0adc1b",
       "version_major": 2,
       "version_minor": 0
      },
      "text/plain": [
       "audio:   0%|          | 0/699 [00:00<?, ?it/s]"
      ]
     },
     "metadata": {},
     "output_type": "display_data"
    },
    {
     "data": {
      "application/vnd.jupyter.widget-view+json": {
       "model_id": "d8f2cf0a25e042ab9f879faea3cd150a",
       "version_major": 2,
       "version_minor": 0
      },
      "text/plain": [
       "audio:   0%|          | 0/300 [00:00<?, ?it/s]"
      ]
     },
     "metadata": {},
     "output_type": "display_data"
    }
   ],
   "source": [
    "E_train = Extractor(\n",
    "    idx=[np.array([row[0]]) for row in X_train.iterrows()],\n",
    "    x=[row[1].to_numpy() for row in X_train.iterrows()],\n",
    "    y=[np.array([row]) for row in y_train],\n",
    "    train=True\n",
    ")\n",
    "E_eval = Extractor(\n",
    "    idx=[np.array([row[0]]) for row in X_eval.iterrows()],\n",
    "    x=[row[1].to_numpy() for row in X_eval.iterrows()],\n",
    "    y=[np.array([row]) for row in y_eval],\n",
    "    train=False\n",
    ")\n",
    "\n",
    "def load_audio(x) -> [np.ndarray]:\n",
    "    file_path = f\"dataset/Data/genres_original/{x[0].split('.')[0]}/{x[0]}\"\n",
    "    y, sr = sf.read(file_path)\n",
    "    if len(y.shape) == 2:  # Convert stereo to mono\n",
    "        y = np.mean(y, dim=0)\n",
    "    y = resample(y, sr, 16000)\n",
    "    return y\n",
    "Extractor.register_extractor('audio', load_audio)\n",
    "E_train.full_extract()\n",
    "E_eval.full_extract()"
   ]
  },
  {
   "cell_type": "code",
   "execution_count": 10,
   "id": "9bbcf479-de45-4e9e-b3c4-7b15ce5a943c",
   "metadata": {},
   "outputs": [
    {
     "data": {
      "application/vnd.jupyter.widget-view+json": {
       "model_id": "f76deef16dc14cb7a88b4a8f75bfb3f5",
       "version_major": 2,
       "version_minor": 0
      },
      "text/plain": [
       "stats:   0%|          | 0/699 [00:00<?, ?it/s]"
      ]
     },
     "metadata": {},
     "output_type": "display_data"
    },
    {
     "data": {
      "application/vnd.jupyter.widget-view+json": {
       "model_id": "c63945efd0314b6b9d52d3a39aa6341f",
       "version_major": 2,
       "version_minor": 0
      },
      "text/plain": [
       "rms:   0%|          | 0/699 [00:00<?, ?it/s]"
      ]
     },
     "metadata": {},
     "output_type": "display_data"
    },
    {
     "data": {
      "application/vnd.jupyter.widget-view+json": {
       "model_id": "98651dfcfcba44fa9eacbdc4da4eed6b",
       "version_major": 2,
       "version_minor": 0
      },
      "text/plain": [
       "stats:   0%|          | 0/300 [00:00<?, ?it/s]"
      ]
     },
     "metadata": {},
     "output_type": "display_data"
    },
    {
     "data": {
      "application/vnd.jupyter.widget-view+json": {
       "model_id": "3a6a920d0c6d4dfebf335ffe20e14260",
       "version_major": 2,
       "version_minor": 0
      },
      "text/plain": [
       "rms:   0%|          | 0/300 [00:00<?, ?it/s]"
      ]
     },
     "metadata": {},
     "output_type": "display_data"
    }
   ],
   "source": [
    "Extractor.register_extractor('stats', lambda x: x[2:])\n",
    "Extractor.register_extractor('rms', lambda audio: np.array([np.sqrt(np.mean(audio**2))]))\n",
    "E_train.soft_extract()\n",
    "E_eval.soft_extract()"
   ]
  },
  {
   "cell_type": "code",
   "execution_count": 11,
   "id": "fafcb966-7dc7-423a-bf6b-f961633ca6b3",
   "metadata": {},
   "outputs": [],
   "source": [
    "import librosa\n",
    "import soundfile as sf\n",
    "from resampy import resample\n",
    "from tqdm.notebook import tqdm\n",
    "\n",
    "sr = 16000\n",
    "hop_length = 512\n",
    "n_mfcc = 13\n",
    "n_mels = 128\n",
    "n_bins = 84\n",
    "bins_per_octave = 12\n",
    "fmin = librosa.note_to_hz(\"C1\")\n",
    "\n",
    "\n",
    "def mel(audio):\n",
    "    # Calculate MelSpectrogram\n",
    "    mel_spectrogram = librosa.feature.melspectrogram(y=audio, sr=sr, n_mels=n_mels)\n",
    "    mel_spectrogram = librosa.power_to_db(mel_spectrogram, ref=np.max)  # Convert to decibel scale\n",
    "    return mel_spectrogram\n",
    "\n",
    "Extractor.register_extractor('mel', mel)\n",
    "Extractor.register_extractor('cqt', lambda audio: np.abs(librosa.cqt(audio, sr=sr, hop_length=hop_length, fmin=fmin, bins_per_octave=bins_per_octave, n_bins=n_bins)))\n",
    "# Extractor.register_extractor('stft', lambda audio: librosa.stft(audio, hop_length=hop_length))\n",
    "Extractor.register_extractor('mfcc', lambda audio: librosa.feature.mfcc(y=audio, sr=sr, n_mfcc=n_mfcc))\n"
   ]
  },
  {
   "cell_type": "code",
   "execution_count": 12,
   "id": "925aff54-a495-4557-8975-e573bf48f98b",
   "metadata": {},
   "outputs": [
    {
     "data": {
      "application/vnd.jupyter.widget-view+json": {
       "model_id": "e825b31553c04411b1bf2dff66505fa2",
       "version_major": 2,
       "version_minor": 0
      },
      "text/plain": [
       "mel:   0%|          | 0/699 [00:00<?, ?it/s]"
      ]
     },
     "metadata": {},
     "output_type": "display_data"
    },
    {
     "data": {
      "application/vnd.jupyter.widget-view+json": {
       "model_id": "fe9426fd7c1b4dc0905fd0bfd256da1e",
       "version_major": 2,
       "version_minor": 0
      },
      "text/plain": [
       "cqt:   0%|          | 0/699 [00:00<?, ?it/s]"
      ]
     },
     "metadata": {},
     "output_type": "display_data"
    },
    {
     "data": {
      "application/vnd.jupyter.widget-view+json": {
       "model_id": "e4ca85894522460cb88fc5f8021fe523",
       "version_major": 2,
       "version_minor": 0
      },
      "text/plain": [
       "mfcc:   0%|          | 0/699 [00:00<?, ?it/s]"
      ]
     },
     "metadata": {},
     "output_type": "display_data"
    },
    {
     "data": {
      "application/vnd.jupyter.widget-view+json": {
       "model_id": "54a48f546e5b4650bf9fb413b5931990",
       "version_major": 2,
       "version_minor": 0
      },
      "text/plain": [
       "mel:   0%|          | 0/300 [00:00<?, ?it/s]"
      ]
     },
     "metadata": {},
     "output_type": "display_data"
    },
    {
     "data": {
      "application/vnd.jupyter.widget-view+json": {
       "model_id": "b86e990c9b3a49b4a8c14302b23fa227",
       "version_major": 2,
       "version_minor": 0
      },
      "text/plain": [
       "cqt:   0%|          | 0/300 [00:00<?, ?it/s]"
      ]
     },
     "metadata": {},
     "output_type": "display_data"
    },
    {
     "data": {
      "application/vnd.jupyter.widget-view+json": {
       "model_id": "f13c5de7864b4a0181bb2bb1677fe42d",
       "version_major": 2,
       "version_minor": 0
      },
      "text/plain": [
       "mfcc:   0%|          | 0/300 [00:00<?, ?it/s]"
      ]
     },
     "metadata": {},
     "output_type": "display_data"
    }
   ],
   "source": [
    "E_train.soft_extract()\n",
    "E_eval.soft_extract()"
   ]
  },
  {
   "cell_type": "code",
   "execution_count": 13,
   "id": "e2014469-6b29-480a-a919-03057c27e6cb",
   "metadata": {},
   "outputs": [],
   "source": [
    "import matplotlib.pyplot as plt"
   ]
  },
  {
   "cell_type": "code",
   "execution_count": 14,
   "id": "f3d88988-ce55-4fc3-b181-2cfaeeaf274b",
   "metadata": {},
   "outputs": [],
   "source": [
    "hop_length=512\n",
    "Extractor.register_extractor('bpm_beat', lambda audio: librosa.beat.beat_track(y=audio, sr=sr, hop_length=hop_length))\n",
    "Extractor.register_extractor('bpm', lambda bpm_beat: bpm_beat[0])\n",
    "Extractor.register_extractor('beat', lambda bpm_beat: bpm_beat[1])"
   ]
  },
  {
   "cell_type": "code",
   "execution_count": 15,
   "id": "15027598-f607-4097-9312-a0ae8e42f768",
   "metadata": {},
   "outputs": [
    {
     "data": {
      "application/vnd.jupyter.widget-view+json": {
       "model_id": "da9b8bcc88734d319ee0047b541c34eb",
       "version_major": 2,
       "version_minor": 0
      },
      "text/plain": [
       "bpm_beat:   0%|          | 0/699 [00:00<?, ?it/s]"
      ]
     },
     "metadata": {},
     "output_type": "display_data"
    },
    {
     "data": {
      "application/vnd.jupyter.widget-view+json": {
       "model_id": "4600f598fa534b79bdc9b2e9fee7dd05",
       "version_major": 2,
       "version_minor": 0
      },
      "text/plain": [
       "bpm:   0%|          | 0/699 [00:00<?, ?it/s]"
      ]
     },
     "metadata": {},
     "output_type": "display_data"
    },
    {
     "data": {
      "application/vnd.jupyter.widget-view+json": {
       "model_id": "326e3870dbe1498db1eeb18ad8be71a4",
       "version_major": 2,
       "version_minor": 0
      },
      "text/plain": [
       "beat:   0%|          | 0/699 [00:00<?, ?it/s]"
      ]
     },
     "metadata": {},
     "output_type": "display_data"
    },
    {
     "data": {
      "application/vnd.jupyter.widget-view+json": {
       "model_id": "9ea141a15cf74b01a4f7b73aa4b55c1b",
       "version_major": 2,
       "version_minor": 0
      },
      "text/plain": [
       "bpm_beat:   0%|          | 0/300 [00:00<?, ?it/s]"
      ]
     },
     "metadata": {},
     "output_type": "display_data"
    },
    {
     "data": {
      "application/vnd.jupyter.widget-view+json": {
       "model_id": "bd9bcab205634c55b0a9a1729523e526",
       "version_major": 2,
       "version_minor": 0
      },
      "text/plain": [
       "bpm:   0%|          | 0/300 [00:00<?, ?it/s]"
      ]
     },
     "metadata": {},
     "output_type": "display_data"
    },
    {
     "data": {
      "application/vnd.jupyter.widget-view+json": {
       "model_id": "c8890bc148224103ab5840608720ae92",
       "version_major": 2,
       "version_minor": 0
      },
      "text/plain": [
       "beat:   0%|          | 0/300 [00:00<?, ?it/s]"
      ]
     },
     "metadata": {},
     "output_type": "display_data"
    }
   ],
   "source": [
    "E_train.soft_extract()\n",
    "E_eval.soft_extract()"
   ]
  },
  {
   "cell_type": "code",
   "execution_count": 16,
   "id": "1476f645-8857-45c2-9600-a472f649171a",
   "metadata": {},
   "outputs": [],
   "source": [
    "Extractor.register_extractor('cqt_hpss', lambda cqt: librosa.decompose.hpss(cqt))\n",
    "Extractor.register_extractor('harmonic', lambda cqt_hpss: cqt_hpss[0])\n",
    "Extractor.register_extractor('percussive', lambda cqt_hpss: cqt_hpss[1])"
   ]
  },
  {
   "cell_type": "code",
   "execution_count": 17,
   "id": "3ff04c83-d4e3-4c8b-a755-e2204fcfd015",
   "metadata": {},
   "outputs": [
    {
     "data": {
      "application/vnd.jupyter.widget-view+json": {
       "model_id": "34457c1594184b26b7049e4f945afc30",
       "version_major": 2,
       "version_minor": 0
      },
      "text/plain": [
       "cqt_hpss:   0%|          | 0/699 [00:00<?, ?it/s]"
      ]
     },
     "metadata": {},
     "output_type": "display_data"
    },
    {
     "data": {
      "application/vnd.jupyter.widget-view+json": {
       "model_id": "c2e26ed1bae9417e85da12e1c84e1696",
       "version_major": 2,
       "version_minor": 0
      },
      "text/plain": [
       "harmonic:   0%|          | 0/699 [00:00<?, ?it/s]"
      ]
     },
     "metadata": {},
     "output_type": "display_data"
    },
    {
     "data": {
      "application/vnd.jupyter.widget-view+json": {
       "model_id": "54aa9b24919c46ad9659462154c3283f",
       "version_major": 2,
       "version_minor": 0
      },
      "text/plain": [
       "percussive:   0%|          | 0/699 [00:00<?, ?it/s]"
      ]
     },
     "metadata": {},
     "output_type": "display_data"
    },
    {
     "data": {
      "application/vnd.jupyter.widget-view+json": {
       "model_id": "15dce6b3db924cabb5f4674cb17130a7",
       "version_major": 2,
       "version_minor": 0
      },
      "text/plain": [
       "cqt_hpss:   0%|          | 0/300 [00:00<?, ?it/s]"
      ]
     },
     "metadata": {},
     "output_type": "display_data"
    },
    {
     "data": {
      "application/vnd.jupyter.widget-view+json": {
       "model_id": "426493efdeaa426da615129120cdfbf0",
       "version_major": 2,
       "version_minor": 0
      },
      "text/plain": [
       "harmonic:   0%|          | 0/300 [00:00<?, ?it/s]"
      ]
     },
     "metadata": {},
     "output_type": "display_data"
    },
    {
     "data": {
      "application/vnd.jupyter.widget-view+json": {
       "model_id": "839c2c4df25347adb40a0b06cf8fa772",
       "version_major": 2,
       "version_minor": 0
      },
      "text/plain": [
       "percussive:   0%|          | 0/300 [00:00<?, ?it/s]"
      ]
     },
     "metadata": {},
     "output_type": "display_data"
    }
   ],
   "source": [
    "E_train.soft_extract()\n",
    "E_eval.soft_extract()"
   ]
  },
  {
   "cell_type": "code",
   "execution_count": 18,
   "id": "9c6a1c71-753e-4ed1-8d2d-5695c663b607",
   "metadata": {},
   "outputs": [
    {
     "data": {
      "text/plain": [
       "(0.0, 30.0)"
      ]
     },
     "execution_count": 18,
     "metadata": {},
     "output_type": "execute_result"
    },
    {
     "data": {
      "image/png": "[encoded data removed]",
      "text/plain": [
       "<Figure size 640x480 with 1 Axes>"
      ]
     },
     "metadata": {},
     "output_type": "display_data"
    }
   ],
   "source": [
    "plt.pcolor(E_train.features['percussive'][0])\n",
    "plt.vlines(E_train.features['beat'][0], 10, 30)\n",
    "plt.xlim(0, 200)\n",
    "plt.ylim(0, 30)"
   ]
  },
  {
   "cell_type": "code",
   "execution_count": 19,
   "id": "25e49140-a2e1-4036-8ded-258b54d5fe6f",
   "metadata": {},
   "outputs": [],
   "source": [
    "Extractor.register_extractor('cqt_per_freq_mean', lambda cqt: cqt.mean(axis=1))\n",
    "Extractor.register_extractor('cqt_per_freq_var', lambda cqt: cqt.var(axis=1))\n",
    "Extractor.register_extractor('harmonic_per_freq_mean', lambda harmonic: harmonic.mean(axis=1))\n",
    "Extractor.register_extractor('harmonic_per_freq_var', lambda harmonic: harmonic.var(axis=1))\n",
    "Extractor.register_extractor('percussive_per_freq_mean', lambda percussive: percussive.mean(axis=1))\n",
    "Extractor.register_extractor('percussive_per_freq_var', lambda percussive: percussive.var(axis=1))"
   ]
  },
  {
   "cell_type": "code",
   "execution_count": 20,
   "id": "9f567244-757f-4a77-ba01-8a2b9006e470",
   "metadata": {},
   "outputs": [
    {
     "data": {
      "application/vnd.jupyter.widget-view+json": {
       "model_id": "bd5a4acdc61e4dffa2292c75584760e8",
       "version_major": 2,
       "version_minor": 0
      },
      "text/plain": [
       "cqt_per_freq_mean:   0%|          | 0/699 [00:00<?, ?it/s]"
      ]
     },
     "metadata": {},
     "output_type": "display_data"
    },
    {
     "data": {
      "application/vnd.jupyter.widget-view+json": {
       "model_id": "88963628685d4deba9983757614f72c8",
       "version_major": 2,
       "version_minor": 0
      },
      "text/plain": [
       "cqt_per_freq_var:   0%|          | 0/699 [00:00<?, ?it/s]"
      ]
     },
     "metadata": {},
     "output_type": "display_data"
    },
    {
     "data": {
      "application/vnd.jupyter.widget-view+json": {
       "model_id": "a9f86ca1503641bb8c231b8a268b3677",
       "version_major": 2,
       "version_minor": 0
      },
      "text/plain": [
       "harmonic_per_freq_mean:   0%|          | 0/699 [00:00<?, ?it/s]"
      ]
     },
     "metadata": {},
     "output_type": "display_data"
    },
    {
     "data": {
      "application/vnd.jupyter.widget-view+json": {
       "model_id": "174533d082754896acc4cd600a092cbb",
       "version_major": 2,
       "version_minor": 0
      },
      "text/plain": [
       "harmonic_per_freq_var:   0%|          | 0/699 [00:00<?, ?it/s]"
      ]
     },
     "metadata": {},
     "output_type": "display_data"
    },
    {
     "data": {
      "application/vnd.jupyter.widget-view+json": {
       "model_id": "5bdea46cfc34419cb0ce2cc36a029310",
       "version_major": 2,
       "version_minor": 0
      },
      "text/plain": [
       "percussive_per_freq_mean:   0%|          | 0/699 [00:00<?, ?it/s]"
      ]
     },
     "metadata": {},
     "output_type": "display_data"
    },
    {
     "data": {
      "application/vnd.jupyter.widget-view+json": {
       "model_id": "7a804e83f9d445ed85bcdb7f54b4214e",
       "version_major": 2,
       "version_minor": 0
      },
      "text/plain": [
       "percussive_per_freq_var:   0%|          | 0/699 [00:00<?, ?it/s]"
      ]
     },
     "metadata": {},
     "output_type": "display_data"
    },
    {
     "data": {
      "application/vnd.jupyter.widget-view+json": {
       "model_id": "060971ba68184630964ab27ce7b10383",
       "version_major": 2,
       "version_minor": 0
      },
      "text/plain": [
       "cqt_per_freq_mean:   0%|          | 0/300 [00:00<?, ?it/s]"
      ]
     },
     "metadata": {},
     "output_type": "display_data"
    },
    {
     "data": {
      "application/vnd.jupyter.widget-view+json": {
       "model_id": "7be00278cd07423fadd0cac4500a4741",
       "version_major": 2,
       "version_minor": 0
      },
      "text/plain": [
       "cqt_per_freq_var:   0%|          | 0/300 [00:00<?, ?it/s]"
      ]
     },
     "metadata": {},
     "output_type": "display_data"
    },
    {
     "data": {
      "application/vnd.jupyter.widget-view+json": {
       "model_id": "aeee83a4813a4954a2f3fae0755e8859",
       "version_major": 2,
       "version_minor": 0
      },
      "text/plain": [
       "harmonic_per_freq_mean:   0%|          | 0/300 [00:00<?, ?it/s]"
      ]
     },
     "metadata": {},
     "output_type": "display_data"
    },
    {
     "data": {
      "application/vnd.jupyter.widget-view+json": {
       "model_id": "85e27b448ae046f59994bb9c0aacc096",
       "version_major": 2,
       "version_minor": 0
      },
      "text/plain": [
       "harmonic_per_freq_var:   0%|          | 0/300 [00:00<?, ?it/s]"
      ]
     },
     "metadata": {},
     "output_type": "display_data"
    },
    {
     "data": {
      "application/vnd.jupyter.widget-view+json": {
       "model_id": "427f358e3b82416f9846c5b29de91fa8",
       "version_major": 2,
       "version_minor": 0
      },
      "text/plain": [
       "percussive_per_freq_mean:   0%|          | 0/300 [00:00<?, ?it/s]"
      ]
     },
     "metadata": {},
     "output_type": "display_data"
    },
    {
     "data": {
      "application/vnd.jupyter.widget-view+json": {
       "model_id": "168e0496ef9f4c7ca7b999fc5872fb43",
       "version_major": 2,
       "version_minor": 0
      },
      "text/plain": [
       "percussive_per_freq_var:   0%|          | 0/300 [00:00<?, ?it/s]"
      ]
     },
     "metadata": {},
     "output_type": "display_data"
    }
   ],
   "source": [
    "E_train.soft_extract()\n",
    "E_eval.soft_extract()"
   ]
  },
  {
   "cell_type": "code",
   "execution_count": 21,
   "id": "1ee29554-008c-4aed-9263-8fd83b86a477",
   "metadata": {},
   "outputs": [
    {
     "data": {
      "application/vnd.jupyter.widget-view+json": {
       "model_id": "df6ad074a23d4b10a805243879e8b166",
       "version_major": 2,
       "version_minor": 0
      },
      "text/plain": [
       "MetricVisualizer(layout=Layout(align_self='stretch', height='500px'))"
      ]
     },
     "metadata": {},
     "output_type": "display_data"
    },
    {
     "name": "stdout",
     "output_type": "stream",
     "text": [
      "0:\tlearn: 0.2660944\ttest: 0.3000000\tbest: 0.3000000 (0)\ttotal: 62.1ms\tremaining: 31s\n",
      "50:\tlearn: 0.6838340\ttest: 0.5666667\tbest: 0.5700000 (47)\ttotal: 1.04s\tremaining: 9.19s\n",
      "100:\tlearn: 0.7711016\ttest: 0.6166667\tbest: 0.6200000 (78)\ttotal: 2.04s\tremaining: 8.07s\n",
      "150:\tlearn: 0.8183119\ttest: 0.6500000\tbest: 0.6500000 (150)\ttotal: 2.98s\tremaining: 6.88s\n",
      "200:\tlearn: 0.8555079\ttest: 0.6600000\tbest: 0.6666667 (196)\ttotal: 3.91s\tremaining: 5.82s\n",
      "250:\tlearn: 0.8955651\ttest: 0.6800000\tbest: 0.6833333 (243)\ttotal: 4.88s\tremaining: 4.84s\n",
      "300:\tlearn: 0.9113019\ttest: 0.6800000\tbest: 0.6933333 (299)\ttotal: 6.1s\tremaining: 4.03s\n",
      "350:\tlearn: 0.9284692\ttest: 0.6933333\tbest: 0.6933333 (299)\ttotal: 7.02s\tremaining: 2.98s\n",
      "400:\tlearn: 0.9384835\ttest: 0.7000000\tbest: 0.7066667 (383)\ttotal: 7.96s\tremaining: 1.97s\n",
      "450:\tlearn: 0.9527897\ttest: 0.7033333\tbest: 0.7066667 (383)\ttotal: 8.89s\tremaining: 966ms\n",
      "499:\tlearn: 0.9656652\ttest: 0.7100000\tbest: 0.7100000 (459)\ttotal: 9.88s\tremaining: 0us\n",
      "\n",
      "bestTest = 0.71\n",
      "bestIteration = 459\n",
      "\n",
      "Shrink model to first 460 iterations.\n",
      "\n",
      "Classification Report:\n",
      "               precision    recall  f1-score   support\n",
      "\n",
      "       blues       0.71      0.57      0.63        30\n",
      "   classical       0.91      0.97      0.94        30\n",
      "     country       0.63      0.57      0.60        30\n",
      "       disco       0.76      0.63      0.69        30\n",
      "      hiphop       0.61      0.83      0.70        30\n",
      "        jazz       0.69      0.83      0.76        30\n",
      "       metal       0.80      0.80      0.80        30\n",
      "         pop       0.69      0.73      0.71        30\n",
      "      reggae       0.71      0.67      0.69        30\n",
      "        rock       0.60      0.50      0.55        30\n",
      "\n",
      "    accuracy                           0.71       300\n",
      "   macro avg       0.71      0.71      0.71       300\n",
      "weighted avg       0.71      0.71      0.71       300\n",
      "\n",
      "Evaluation Accuracy: 0.7100\n"
     ]
    }
   ],
   "source": [
    "features = ['cqt_per_freq_mean', 'cqt_per_freq_var', 'harmonic_per_freq_mean', 'harmonic_per_freq_var', 'percussive_per_freq_mean', 'percussive_per_freq_var']\n",
    "\n",
    "model, acc = train_and_evaluate_catboost(\n",
    "    idx_eval=E_eval.get_features(['idx'])[:,0],\n",
    "    X_train=E_train.get_features(features),\n",
    "    X_eval=E_eval.get_features(features),\n",
    "    y_train=E_train.get_features(['y'])[:,0], \n",
    "    y_eval=E_eval.get_features(['y'])[:,0],\n",
    ")"
   ]
  },
  {
   "cell_type": "code",
   "execution_count": 22,
   "id": "2146ffde-9fa4-439c-8caa-da70d5bcb00b",
   "metadata": {},
   "outputs": [],
   "source": [
    "Extractor.register_extractor('mfcc_quef_mean', lambda mfcc: mfcc.mean(axis=1))\n",
    "Extractor.register_extractor('mfcc_quef_var', lambda mfcc: mfcc.var(axis=1))\n",
    "\n",
    "# Usually STFT is used for spectral centroid, but I will use CQT, it may turn out to be even more precise.\n",
    "cqt_frequencies = librosa.cqt_frequencies(n_bins=n_bins, fmin=fmin, bins_per_octave=bins_per_octave)\n",
    "# Extractor.register_extractor('cqt_spectral_centroid', \n",
    "#                              lambda cqt: np.sum(cqt_frequencies.reshape(-1, 1) * librosa.util.normalize(cqt, norm=1, axis=0), axis=0))\n",
    "Extractor.register_extractor('cqt_spectral_centroid', \n",
    "                             lambda audio: librosa.feature.spectral_centroid(y=audio, sr=sr))\n",
    "\n",
    "Extractor.register_extractor('cqt_spectral_centroid_mean', lambda cqt_spectral_centroid: cqt_spectral_centroid.mean())\n",
    "Extractor.register_extractor('cqt_spectral_centroid_var', lambda cqt_spectral_centroid: cqt_spectral_centroid.var())\n",
    "\n",
    "cqt_frequencies = librosa.cqt_frequencies(n_bins=n_bins, fmin=fmin, bins_per_octave=bins_per_octave)\n",
    "chroma_map = librosa.filters.cq_to_chroma(cqt_frequencies.shape[0], bins_per_octave=bins_per_octave, n_chroma=bins_per_octave, fmin=fmin)\n",
    "Extractor.register_extractor('cqt_chroma', \n",
    "                             lambda cqt: np.dot(chroma_map, cqt))\n",
    "Extractor.register_extractor('cqt_chroma_freq_mean', lambda cqt_chroma: cqt_chroma.mean(axis=1))\n",
    "Extractor.register_extractor('cqt_chroma_freq_var', lambda cqt_chroma: cqt_chroma.var(axis=1))\n",
    "Extractor.register_extractor('cqt_chroma_mean', lambda cqt_chroma: cqt_chroma.mean())\n",
    "Extractor.register_extractor('cqt_chroma_var', lambda cqt_chroma: cqt_chroma.var())\n",
    "\n",
    "Extractor.register_extractor('harmonic_chroma', \n",
    "                             lambda harmonic: np.dot(chroma_map, harmonic))\n",
    "Extractor.register_extractor('harmonic_chroma_freq_mean', lambda harmonic_chroma: harmonic_chroma.mean(axis=1))\n",
    "Extractor.register_extractor('harmonic_chroma_freq_var', lambda harmonic_chroma: harmonic_chroma.var(axis=1))\n",
    "Extractor.register_extractor('harmonic_chroma_mean', lambda harmonic_chroma: harmonic_chroma.mean())\n",
    "Extractor.register_extractor('harmonic_chroma_var', lambda harmonic_chroma: harmonic_chroma.var())\n",
    "\n",
    "roll_percent = 0.85\n",
    "# Extractor.register_extractor('cqt_rolloff', \n",
    "#                              lambda cqt: librosa.feature.spectral.spectral_rolloff(S=cqt, freq=cqt_frequencies, roll_percent=roll_percent))\n",
    "Extractor.register_extractor('cqt_rolloff', \n",
    "                             lambda audio: librosa.feature.spectral.spectral_rolloff(y=audio, sr=sr, roll_percent=roll_percent))\n",
    "\n",
    "Extractor.register_extractor('cqt_rolloff_mean', lambda cqt_rolloff: cqt_rolloff.mean())\n",
    "Extractor.register_extractor('cqt_rolloff_var', lambda cqt_rolloff: cqt_rolloff.var())\n",
    "\n",
    "# Extractor.register_extractor('cqt_bandwidth', \n",
    "#                              lambda cqt: librosa.feature.spectral.spectral_bandwidth(S=cqt, freq=cqt_frequencies))\n",
    "Extractor.register_extractor('cqt_bandwidth', \n",
    "                             lambda audio: librosa.feature.spectral.spectral_bandwidth(y=audio, sr=sr))\n",
    "\n",
    "Extractor.register_extractor('cqt_bandwidth_mean', lambda cqt_bandwidth: cqt_bandwidth.mean())\n",
    "Extractor.register_extractor('cqt_bandwidth_var', lambda cqt_bandwidth: cqt_bandwidth.var())\n",
    "\n",
    "Extractor.register_extractor('zero_crossing_rate', \n",
    "                             lambda audio: librosa.feature.zero_crossing_rate(y=audio))\n",
    "\n",
    "Extractor.register_extractor('zero_crossing_rate_mean', lambda zero_crossing_rate: zero_crossing_rate.mean())\n",
    "Extractor.register_extractor('zero_crossing_rate_var', lambda zero_crossing_rate: zero_crossing_rate.var())\n",
    "\n",
    "\n",
    "Extractor.register_extractor('percept', lambda cqt: librosa.perceptual_weighting(cqt**2, cqt_frequencies, ref=np.max))\n",
    "Extractor.register_extractor('percept_freq_mean', lambda percept: percept.mean(axis=1))\n",
    "Extractor.register_extractor('percept_freq_var', lambda percept: percept.var(axis=1))\n",
    "Extractor.register_extractor('percept_mean', lambda percept: percept.mean())\n",
    "Extractor.register_extractor('percept_var', lambda percept: percept.var())"
   ]
  },
  {
   "cell_type": "code",
   "execution_count": 23,
   "id": "5edcc359-2d58-42ce-8b19-f17ed29a822d",
   "metadata": {},
   "outputs": [
    {
     "data": {
      "application/vnd.jupyter.widget-view+json": {
       "model_id": "915ecea42834471e85ce481527cbc541",
       "version_major": 2,
       "version_minor": 0
      },
      "text/plain": [
       "mfcc_quef_mean:   0%|          | 0/699 [00:00<?, ?it/s]"
      ]
     },
     "metadata": {},
     "output_type": "display_data"
    },
    {
     "data": {
      "application/vnd.jupyter.widget-view+json": {
       "model_id": "1ec116f157a94bb68470d40080b52861",
       "version_major": 2,
       "version_minor": 0
      },
      "text/plain": [
       "mfcc_quef_var:   0%|          | 0/699 [00:00<?, ?it/s]"
      ]
     },
     "metadata": {},
     "output_type": "display_data"
    },
    {
     "data": {
      "application/vnd.jupyter.widget-view+json": {
       "model_id": "bfc88abe9d09456eb0e75177fec99280",
       "version_major": 2,
       "version_minor": 0
      },
      "text/plain": [
       "cqt_spectral_centroid:   0%|          | 0/699 [00:00<?, ?it/s]"
      ]
     },
     "metadata": {},
     "output_type": "display_data"
    },
    {
     "data": {
      "application/vnd.jupyter.widget-view+json": {
       "model_id": "084da5c6e35b4144adad9e89bef8795b",
       "version_major": 2,
       "version_minor": 0
      },
      "text/plain": [
       "cqt_spectral_centroid_mean:   0%|          | 0/699 [00:00<?, ?it/s]"
      ]
     },
     "metadata": {},
     "output_type": "display_data"
    },
    {
     "data": {
      "application/vnd.jupyter.widget-view+json": {
       "model_id": "456a6b5b50b448719dade0b62ea2483f",
       "version_major": 2,
       "version_minor": 0
      },
      "text/plain": [
       "cqt_spectral_centroid_var:   0%|          | 0/699 [00:00<?, ?it/s]"
      ]
     },
     "metadata": {},
     "output_type": "display_data"
    },
    {
     "data": {
      "application/vnd.jupyter.widget-view+json": {
       "model_id": "5337631ebb6a4ef29ef682cca9c9fbc6",
       "version_major": 2,
       "version_minor": 0
      },
      "text/plain": [
       "cqt_chroma:   0%|          | 0/699 [00:00<?, ?it/s]"
      ]
     },
     "metadata": {},
     "output_type": "display_data"
    },
    {
     "data": {
      "application/vnd.jupyter.widget-view+json": {
       "model_id": "5a69fc469d0941f7848639b5bba00916",
       "version_major": 2,
       "version_minor": 0
      },
      "text/plain": [
       "cqt_chroma_freq_mean:   0%|          | 0/699 [00:00<?, ?it/s]"
      ]
     },
     "metadata": {},
     "output_type": "display_data"
    },
    {
     "data": {
      "application/vnd.jupyter.widget-view+json": {
       "model_id": "d6b14002ed96409589b0eb1334e15041",
       "version_major": 2,
       "version_minor": 0
      },
      "text/plain": [
       "cqt_chroma_freq_var:   0%|          | 0/699 [00:00<?, ?it/s]"
      ]
     },
     "metadata": {},
     "output_type": "display_data"
    },
    {
     "data": {
      "application/vnd.jupyter.widget-view+json": {
       "model_id": "d69fe878dc9d407ca892be490646b4ea",
       "version_major": 2,
       "version_minor": 0
      },
      "text/plain": [
       "cqt_chroma_mean:   0%|          | 0/699 [00:00<?, ?it/s]"
      ]
     },
     "metadata": {},
     "output_type": "display_data"
    },
    {
     "data": {
      "application/vnd.jupyter.widget-view+json": {
       "model_id": "176888fdba8b4a6e8fb85ae0a263b080",
       "version_major": 2,
       "version_minor": 0
      },
      "text/plain": [
       "cqt_chroma_var:   0%|          | 0/699 [00:00<?, ?it/s]"
      ]
     },
     "metadata": {},
     "output_type": "display_data"
    },
    {
     "data": {
      "application/vnd.jupyter.widget-view+json": {
       "model_id": "58a4afe7e2974f1aad9970dcdb76d0d5",
       "version_major": 2,
       "version_minor": 0
      },
      "text/plain": [
       "harmonic_chroma:   0%|          | 0/699 [00:00<?, ?it/s]"
      ]
     },
     "metadata": {},
     "output_type": "display_data"
    },
    {
     "data": {
      "application/vnd.jupyter.widget-view+json": {
       "model_id": "9f5a10e97198400bae23f0c1105dbbc3",
       "version_major": 2,
       "version_minor": 0
      },
      "text/plain": [
       "harmonic_chroma_freq_mean:   0%|          | 0/699 [00:00<?, ?it/s]"
      ]
     },
     "metadata": {},
     "output_type": "display_data"
    },
    {
     "data": {
      "application/vnd.jupyter.widget-view+json": {
       "model_id": "2a5b1083c09744f68469722e114ca2c0",
       "version_major": 2,
       "version_minor": 0
      },
      "text/plain": [
       "harmonic_chroma_freq_var:   0%|          | 0/699 [00:00<?, ?it/s]"
      ]
     },
     "metadata": {},
     "output_type": "display_data"
    },
    {
     "data": {
      "application/vnd.jupyter.widget-view+json": {
       "model_id": "9ccb09c8214c44df9baab5c26d225d83",
       "version_major": 2,
       "version_minor": 0
      },
      "text/plain": [
       "harmonic_chroma_mean:   0%|          | 0/699 [00:00<?, ?it/s]"
      ]
     },
     "metadata": {},
     "output_type": "display_data"
    },
    {
     "data": {
      "application/vnd.jupyter.widget-view+json": {
       "model_id": "0f26deb6d70a48aca33e9435c03afd1f",
       "version_major": 2,
       "version_minor": 0
      },
      "text/plain": [
       "harmonic_chroma_var:   0%|          | 0/699 [00:00<?, ?it/s]"
      ]
     },
     "metadata": {},
     "output_type": "display_data"
    },
    {
     "data": {
      "application/vnd.jupyter.widget-view+json": {
       "model_id": "d079a5c3317c49a8adbaed2b21cf2f5e",
       "version_major": 2,
       "version_minor": 0
      },
      "text/plain": [
       "cqt_rolloff:   0%|          | 0/699 [00:00<?, ?it/s]"
      ]
     },
     "metadata": {},
     "output_type": "display_data"
    },
    {
     "data": {
      "application/vnd.jupyter.widget-view+json": {
       "model_id": "371c581ec55543d0a2cc7b339400da85",
       "version_major": 2,
       "version_minor": 0
      },
      "text/plain": [
       "cqt_rolloff_mean:   0%|          | 0/699 [00:00<?, ?it/s]"
      ]
     },
     "metadata": {},
     "output_type": "display_data"
    },
    {
     "data": {
      "application/vnd.jupyter.widget-view+json": {
       "model_id": "c82bc300f39d48f8ba63f6b01176b002",
       "version_major": 2,
       "version_minor": 0
      },
      "text/plain": [
       "cqt_rolloff_var:   0%|          | 0/699 [00:00<?, ?it/s]"
      ]
     },
     "metadata": {},
     "output_type": "display_data"
    },
    {
     "data": {
      "application/vnd.jupyter.widget-view+json": {
       "model_id": "dac51d9a6eaf41c484ed7a5fae6630f5",
       "version_major": 2,
       "version_minor": 0
      },
      "text/plain": [
       "cqt_bandwidth:   0%|          | 0/699 [00:00<?, ?it/s]"
      ]
     },
     "metadata": {},
     "output_type": "display_data"
    },
    {
     "data": {
      "application/vnd.jupyter.widget-view+json": {
       "model_id": "ec748e72791446b9a771b05a27cafbf0",
       "version_major": 2,
       "version_minor": 0
      },
      "text/plain": [
       "cqt_bandwidth_mean:   0%|          | 0/699 [00:00<?, ?it/s]"
      ]
     },
     "metadata": {},
     "output_type": "display_data"
    },
    {
     "data": {
      "application/vnd.jupyter.widget-view+json": {
       "model_id": "86912ff8d19343489ac02c7565e5e803",
       "version_major": 2,
       "version_minor": 0
      },
      "text/plain": [
       "cqt_bandwidth_var:   0%|          | 0/699 [00:00<?, ?it/s]"
      ]
     },
     "metadata": {},
     "output_type": "display_data"
    },
    {
     "data": {
      "application/vnd.jupyter.widget-view+json": {
       "model_id": "c50f5c1bbb8d448389af68881af6dbe2",
       "version_major": 2,
       "version_minor": 0
      },
      "text/plain": [
       "zero_crossing_rate:   0%|          | 0/699 [00:00<?, ?it/s]"
      ]
     },
     "metadata": {},
     "output_type": "display_data"
    },
    {
     "data": {
      "application/vnd.jupyter.widget-view+json": {
       "model_id": "73882f4d9744427483d99194d7d34f46",
       "version_major": 2,
       "version_minor": 0
      },
      "text/plain": [
       "zero_crossing_rate_mean:   0%|          | 0/699 [00:00<?, ?it/s]"
      ]
     },
     "metadata": {},
     "output_type": "display_data"
    },
    {
     "data": {
      "application/vnd.jupyter.widget-view+json": {
       "model_id": "1f6bed5737cc43c39877f030f36ceb44",
       "version_major": 2,
       "version_minor": 0
      },
      "text/plain": [
       "zero_crossing_rate_var:   0%|          | 0/699 [00:00<?, ?it/s]"
      ]
     },
     "metadata": {},
     "output_type": "display_data"
    },
    {
     "data": {
      "application/vnd.jupyter.widget-view+json": {
       "model_id": "1e2972b092a7477b9052963e445cc618",
       "version_major": 2,
       "version_minor": 0
      },
      "text/plain": [
       "percept:   0%|          | 0/699 [00:00<?, ?it/s]"
      ]
     },
     "metadata": {},
     "output_type": "display_data"
    },
    {
     "data": {
      "application/vnd.jupyter.widget-view+json": {
       "model_id": "bb6581fc7eba402ea9c51c7a22ffe15a",
       "version_major": 2,
       "version_minor": 0
      },
      "text/plain": [
       "percept_freq_mean:   0%|          | 0/699 [00:00<?, ?it/s]"
      ]
     },
     "metadata": {},
     "output_type": "display_data"
    },
    {
     "data": {
      "application/vnd.jupyter.widget-view+json": {
       "model_id": "43877592dbeb445cb22d2f9bc8dc0580",
       "version_major": 2,
       "version_minor": 0
      },
      "text/plain": [
       "percept_freq_var:   0%|          | 0/699 [00:00<?, ?it/s]"
      ]
     },
     "metadata": {},
     "output_type": "display_data"
    },
    {
     "data": {
      "application/vnd.jupyter.widget-view+json": {
       "model_id": "1c602172d3e64020a42d2376c8d1185b",
       "version_major": 2,
       "version_minor": 0
      },
      "text/plain": [
       "percept_mean:   0%|          | 0/699 [00:00<?, ?it/s]"
      ]
     },
     "metadata": {},
     "output_type": "display_data"
    },
    {
     "data": {
      "application/vnd.jupyter.widget-view+json": {
       "model_id": "46b68d1440514595812610920d649074",
       "version_major": 2,
       "version_minor": 0
      },
      "text/plain": [
       "percept_var:   0%|          | 0/699 [00:00<?, ?it/s]"
      ]
     },
     "metadata": {},
     "output_type": "display_data"
    },
    {
     "data": {
      "application/vnd.jupyter.widget-view+json": {
       "model_id": "c4ec646965a54f0c9204a23820d699b5",
       "version_major": 2,
       "version_minor": 0
      },
      "text/plain": [
       "mfcc_quef_mean:   0%|          | 0/300 [00:00<?, ?it/s]"
      ]
     },
     "metadata": {},
     "output_type": "display_data"
    },
    {
     "data": {
      "application/vnd.jupyter.widget-view+json": {
       "model_id": "544d4cf032aa4c4c8d421fa9e0fc25ce",
       "version_major": 2,
       "version_minor": 0
      },
      "text/plain": [
       "mfcc_quef_var:   0%|          | 0/300 [00:00<?, ?it/s]"
      ]
     },
     "metadata": {},
     "output_type": "display_data"
    },
    {
     "data": {
      "application/vnd.jupyter.widget-view+json": {
       "model_id": "054aa74ae324425a8479aa14dfaa40db",
       "version_major": 2,
       "version_minor": 0
      },
      "text/plain": [
       "cqt_spectral_centroid:   0%|          | 0/300 [00:00<?, ?it/s]"
      ]
     },
     "metadata": {},
     "output_type": "display_data"
    },
    {
     "data": {
      "application/vnd.jupyter.widget-view+json": {
       "model_id": "76109d921d3c440784ff05aa5a23aca2",
       "version_major": 2,
       "version_minor": 0
      },
      "text/plain": [
       "cqt_spectral_centroid_mean:   0%|          | 0/300 [00:00<?, ?it/s]"
      ]
     },
     "metadata": {},
     "output_type": "display_data"
    },
    {
     "data": {
      "application/vnd.jupyter.widget-view+json": {
       "model_id": "d8bf5f51d0d64ba0b67afef582a2741f",
       "version_major": 2,
       "version_minor": 0
      },
      "text/plain": [
       "cqt_spectral_centroid_var:   0%|          | 0/300 [00:00<?, ?it/s]"
      ]
     },
     "metadata": {},
     "output_type": "display_data"
    },
    {
     "data": {
      "application/vnd.jupyter.widget-view+json": {
       "model_id": "0e0cda928d264c4e9f4a07070fe3bcb1",
       "version_major": 2,
       "version_minor": 0
      },
      "text/plain": [
       "cqt_chroma:   0%|          | 0/300 [00:00<?, ?it/s]"
      ]
     },
     "metadata": {},
     "output_type": "display_data"
    },
    {
     "data": {
      "application/vnd.jupyter.widget-view+json": {
       "model_id": "2fa2fb39d45d4ebcb6ab8e012247fe59",
       "version_major": 2,
       "version_minor": 0
      },
      "text/plain": [
       "cqt_chroma_freq_mean:   0%|          | 0/300 [00:00<?, ?it/s]"
      ]
     },
     "metadata": {},
     "output_type": "display_data"
    },
    {
     "data": {
      "application/vnd.jupyter.widget-view+json": {
       "model_id": "da642d33c2bf47d48b931fe9132ef0be",
       "version_major": 2,
       "version_minor": 0
      },
      "text/plain": [
       "cqt_chroma_freq_var:   0%|          | 0/300 [00:00<?, ?it/s]"
      ]
     },
     "metadata": {},
     "output_type": "display_data"
    },
    {
     "data": {
      "application/vnd.jupyter.widget-view+json": {
       "model_id": "27f6dfc94b92404c893b84dd99e707ba",
       "version_major": 2,
       "version_minor": 0
      },
      "text/plain": [
       "cqt_chroma_mean:   0%|          | 0/300 [00:00<?, ?it/s]"
      ]
     },
     "metadata": {},
     "output_type": "display_data"
    },
    {
     "data": {
      "application/vnd.jupyter.widget-view+json": {
       "model_id": "75c6686b17bc4503a6ff7e01b5de5730",
       "version_major": 2,
       "version_minor": 0
      },
      "text/plain": [
       "cqt_chroma_var:   0%|          | 0/300 [00:00<?, ?it/s]"
      ]
     },
     "metadata": {},
     "output_type": "display_data"
    },
    {
     "data": {
      "application/vnd.jupyter.widget-view+json": {
       "model_id": "015b5d85fb1248b8900a4d977f3d0d52",
       "version_major": 2,
       "version_minor": 0
      },
      "text/plain": [
       "harmonic_chroma:   0%|          | 0/300 [00:00<?, ?it/s]"
      ]
     },
     "metadata": {},
     "output_type": "display_data"
    },
    {
     "data": {
      "application/vnd.jupyter.widget-view+json": {
       "model_id": "c98c6d6105174dafaa27ae1cc132133f",
       "version_major": 2,
       "version_minor": 0
      },
      "text/plain": [
       "harmonic_chroma_freq_mean:   0%|          | 0/300 [00:00<?, ?it/s]"
      ]
     },
     "metadata": {},
     "output_type": "display_data"
    },
    {
     "data": {
      "application/vnd.jupyter.widget-view+json": {
       "model_id": "a973edad495e45f2a3ae560fa4d78e8f",
       "version_major": 2,
       "version_minor": 0
      },
      "text/plain": [
       "harmonic_chroma_freq_var:   0%|          | 0/300 [00:00<?, ?it/s]"
      ]
     },
     "metadata": {},
     "output_type": "display_data"
    },
    {
     "data": {
      "application/vnd.jupyter.widget-view+json": {
       "model_id": "4fdae66f5fd547c8b64e34d5897be7e8",
       "version_major": 2,
       "version_minor": 0
      },
      "text/plain": [
       "harmonic_chroma_mean:   0%|          | 0/300 [00:00<?, ?it/s]"
      ]
     },
     "metadata": {},
     "output_type": "display_data"
    },
    {
     "data": {
      "application/vnd.jupyter.widget-view+json": {
       "model_id": "085d750e88f24fa5b4a8fe076cbf1521",
       "version_major": 2,
       "version_minor": 0
      },
      "text/plain": [
       "harmonic_chroma_var:   0%|          | 0/300 [00:00<?, ?it/s]"
      ]
     },
     "metadata": {},
     "output_type": "display_data"
    },
    {
     "data": {
      "application/vnd.jupyter.widget-view+json": {
       "model_id": "b21cd3d6047240ffbc9191aeddbf6048",
       "version_major": 2,
       "version_minor": 0
      },
      "text/plain": [
       "cqt_rolloff:   0%|          | 0/300 [00:00<?, ?it/s]"
      ]
     },
     "metadata": {},
     "output_type": "display_data"
    },
    {
     "data": {
      "application/vnd.jupyter.widget-view+json": {
       "model_id": "c6827c2a486c4b5ba16360fa8a8a28f2",
       "version_major": 2,
       "version_minor": 0
      },
      "text/plain": [
       "cqt_rolloff_mean:   0%|          | 0/300 [00:00<?, ?it/s]"
      ]
     },
     "metadata": {},
     "output_type": "display_data"
    },
    {
     "data": {
      "application/vnd.jupyter.widget-view+json": {
       "model_id": "3b8917b8829e42e9aa3e340ec6b8811a",
       "version_major": 2,
       "version_minor": 0
      },
      "text/plain": [
       "cqt_rolloff_var:   0%|          | 0/300 [00:00<?, ?it/s]"
      ]
     },
     "metadata": {},
     "output_type": "display_data"
    },
    {
     "data": {
      "application/vnd.jupyter.widget-view+json": {
       "model_id": "05f5bdc35b3b43c59197062e21b257c1",
       "version_major": 2,
       "version_minor": 0
      },
      "text/plain": [
       "cqt_bandwidth:   0%|          | 0/300 [00:00<?, ?it/s]"
      ]
     },
     "metadata": {},
     "output_type": "display_data"
    },
    {
     "data": {
      "application/vnd.jupyter.widget-view+json": {
       "model_id": "f7ec265a357a494580646d8769737e2b",
       "version_major": 2,
       "version_minor": 0
      },
      "text/plain": [
       "cqt_bandwidth_mean:   0%|          | 0/300 [00:00<?, ?it/s]"
      ]
     },
     "metadata": {},
     "output_type": "display_data"
    },
    {
     "data": {
      "application/vnd.jupyter.widget-view+json": {
       "model_id": "a564c7937b1f4e13a9aec91aa5b3b4be",
       "version_major": 2,
       "version_minor": 0
      },
      "text/plain": [
       "cqt_bandwidth_var:   0%|          | 0/300 [00:00<?, ?it/s]"
      ]
     },
     "metadata": {},
     "output_type": "display_data"
    },
    {
     "data": {
      "application/vnd.jupyter.widget-view+json": {
       "model_id": "8c5a0dd117d84a47ad440a73a31e9e90",
       "version_major": 2,
       "version_minor": 0
      },
      "text/plain": [
       "zero_crossing_rate:   0%|          | 0/300 [00:00<?, ?it/s]"
      ]
     },
     "metadata": {},
     "output_type": "display_data"
    },
    {
     "data": {
      "application/vnd.jupyter.widget-view+json": {
       "model_id": "6d4907c22d2540e29ebd4f1d5d7a38c8",
       "version_major": 2,
       "version_minor": 0
      },
      "text/plain": [
       "zero_crossing_rate_mean:   0%|          | 0/300 [00:00<?, ?it/s]"
      ]
     },
     "metadata": {},
     "output_type": "display_data"
    },
    {
     "data": {
      "application/vnd.jupyter.widget-view+json": {
       "model_id": "ce5c53bbd8df478f90fb760df41fd1d4",
       "version_major": 2,
       "version_minor": 0
      },
      "text/plain": [
       "zero_crossing_rate_var:   0%|          | 0/300 [00:00<?, ?it/s]"
      ]
     },
     "metadata": {},
     "output_type": "display_data"
    },
    {
     "data": {
      "application/vnd.jupyter.widget-view+json": {
       "model_id": "f60829afa498496cb4612874cc42020c",
       "version_major": 2,
       "version_minor": 0
      },
      "text/plain": [
       "percept:   0%|          | 0/300 [00:00<?, ?it/s]"
      ]
     },
     "metadata": {},
     "output_type": "display_data"
    },
    {
     "data": {
      "application/vnd.jupyter.widget-view+json": {
       "model_id": "ecc5522724194b62a61875858c7311f0",
       "version_major": 2,
       "version_minor": 0
      },
      "text/plain": [
       "percept_freq_mean:   0%|          | 0/300 [00:00<?, ?it/s]"
      ]
     },
     "metadata": {},
     "output_type": "display_data"
    },
    {
     "data": {
      "application/vnd.jupyter.widget-view+json": {
       "model_id": "11d4c4f2f15d484ebfafaf336c8a65d2",
       "version_major": 2,
       "version_minor": 0
      },
      "text/plain": [
       "percept_freq_var:   0%|          | 0/300 [00:00<?, ?it/s]"
      ]
     },
     "metadata": {},
     "output_type": "display_data"
    },
    {
     "data": {
      "application/vnd.jupyter.widget-view+json": {
       "model_id": "bbc9c84975184a33aa2008627d6ece34",
       "version_major": 2,
       "version_minor": 0
      },
      "text/plain": [
       "percept_mean:   0%|          | 0/300 [00:00<?, ?it/s]"
      ]
     },
     "metadata": {},
     "output_type": "display_data"
    },
    {
     "data": {
      "application/vnd.jupyter.widget-view+json": {
       "model_id": "8290f97b84d2400885d30beb15a9d6d1",
       "version_major": 2,
       "version_minor": 0
      },
      "text/plain": [
       "percept_var:   0%|          | 0/300 [00:00<?, ?it/s]"
      ]
     },
     "metadata": {},
     "output_type": "display_data"
    }
   ],
   "source": [
    "E_train.soft_extract()\n",
    "E_eval.soft_extract()"
   ]
  },
  {
   "cell_type": "code",
   "execution_count": 24,
   "id": "e87cadeb-77e2-4202-b87d-e0c825ed47ed",
   "metadata": {},
   "outputs": [
    {
     "data": {
      "application/vnd.jupyter.widget-view+json": {
       "model_id": "9bd9f3ea9fd04393837c201854d0b82c",
       "version_major": 2,
       "version_minor": 0
      },
      "text/plain": [
       "MetricVisualizer(layout=Layout(align_self='stretch', height='500px'))"
      ]
     },
     "metadata": {},
     "output_type": "display_data"
    },
    {
     "name": "stdout",
     "output_type": "stream",
     "text": [
      "0:\tlearn: 0.2732475\ttest: 0.2966667\tbest: 0.2966667 (0)\ttotal: 114ms\tremaining: 57s\n",
      "50:\tlearn: 0.7038627\ttest: 0.6200000\tbest: 0.6300000 (47)\ttotal: 1.61s\tremaining: 14.2s\n",
      "100:\tlearn: 0.8211731\ttest: 0.6666667\tbest: 0.6700000 (97)\ttotal: 3.04s\tremaining: 12s\n",
      "150:\tlearn: 0.8640916\ttest: 0.7133333\tbest: 0.7133333 (150)\ttotal: 4.37s\tremaining: 10.1s\n",
      "200:\tlearn: 0.9012876\ttest: 0.7266667\tbest: 0.7400000 (188)\ttotal: 5.76s\tremaining: 8.58s\n",
      "250:\tlearn: 0.9227468\ttest: 0.7333333\tbest: 0.7400000 (188)\ttotal: 7.16s\tremaining: 7.1s\n",
      "300:\tlearn: 0.9356223\ttest: 0.7433333\tbest: 0.7433333 (267)\ttotal: 8.53s\tremaining: 5.64s\n",
      "350:\tlearn: 0.9456366\ttest: 0.7433333\tbest: 0.7500000 (345)\ttotal: 9.86s\tremaining: 4.18s\n",
      "400:\tlearn: 0.9527897\ttest: 0.7433333\tbest: 0.7566667 (372)\ttotal: 11.2s\tremaining: 2.76s\n",
      "450:\tlearn: 0.9628040\ttest: 0.7466667\tbest: 0.7566667 (372)\ttotal: 12.6s\tremaining: 1.37s\n",
      "499:\tlearn: 0.9799714\ttest: 0.7500000\tbest: 0.7600000 (475)\ttotal: 13.9s\tremaining: 0us\n",
      "\n",
      "bestTest = 0.76\n",
      "bestIteration = 475\n",
      "\n",
      "Shrink model to first 476 iterations.\n",
      "\n",
      "Classification Report:\n",
      "               precision    recall  f1-score   support\n",
      "\n",
      "       blues       0.82      0.60      0.69        30\n",
      "   classical       0.88      0.93      0.90        30\n",
      "     country       0.73      0.73      0.73        30\n",
      "       disco       0.77      0.67      0.71        30\n",
      "      hiphop       0.72      0.87      0.79        30\n",
      "        jazz       0.87      0.90      0.89        30\n",
      "       metal       0.81      0.83      0.82        30\n",
      "         pop       0.76      0.83      0.79        30\n",
      "      reggae       0.66      0.77      0.71        30\n",
      "        rock       0.58      0.47      0.52        30\n",
      "\n",
      "    accuracy                           0.76       300\n",
      "   macro avg       0.76      0.76      0.76       300\n",
      "weighted avg       0.76      0.76      0.76       300\n",
      "\n",
      "Evaluation Accuracy: 0.7600\n"
     ]
    }
   ],
   "source": [
    "features = ['rms', 'bpm',\n",
    "    'cqt_per_freq_mean', 'cqt_per_freq_var', \n",
    "    'harmonic_per_freq_mean', 'harmonic_per_freq_var', \n",
    "    'percussive_per_freq_mean', 'percussive_per_freq_var',\n",
    "    'mfcc_quef_mean', 'mfcc_quef_var', \n",
    "    'cqt_spectral_centroid_mean', 'cqt_spectral_centroid_var', \n",
    "    'cqt_chroma_mean', 'cqt_chroma_var', \n",
    "    'harmonic_chroma_freq_mean', 'harmonic_chroma_freq_var', \n",
    "    'cqt_rolloff_mean', 'cqt_rolloff_var', \n",
    "    'cqt_bandwidth_mean', 'cqt_bandwidth_var',\n",
    "    'percept_freq_mean', 'percept_freq_var']\n",
    "\n",
    "model, acc = train_and_evaluate_catboost(\n",
    "    idx_eval=E_eval.get_features(['idx'])[:,0],\n",
    "    X_train=E_train.get_features(features),\n",
    "    X_eval=E_eval.get_features(features),\n",
    "    y_train=E_train.get_features(['y'])[:,0], \n",
    "    y_eval=E_eval.get_features(['y'])[:,0],\n",
    ")"
   ]
  },
  {
   "cell_type": "code",
   "execution_count": 25,
   "id": "4e397281-5ba3-4bbc-801c-4a2cbfac4d27",
   "metadata": {},
   "outputs": [
    {
     "data": {
      "text/html": [
       "<div>\n",
       "<style scoped>\n",
       "    .dataframe tbody tr th:only-of-type {\n",
       "        vertical-align: middle;\n",
       "    }\n",
       "\n",
       "    .dataframe tbody tr th {\n",
       "        vertical-align: top;\n",
       "    }\n",
       "\n",
       "    .dataframe thead th {\n",
       "        text-align: right;\n",
       "    }\n",
       "</style>\n",
       "<table border=\"1\" class=\"dataframe\">\n",
       "  <thead>\n",
       "    <tr style=\"text-align: right;\">\n",
       "      <th></th>\n",
       "      <th>importance</th>\n",
       "    </tr>\n",
       "  </thead>\n",
       "  <tbody>\n",
       "    <tr>\n",
       "      <th>mfcc_quef_mean_3</th>\n",
       "      <td>2.359190</td>\n",
       "    </tr>\n",
       "    <tr>\n",
       "      <th>mfcc_quef_var_8</th>\n",
       "      <td>2.358319</td>\n",
       "    </tr>\n",
       "    <tr>\n",
       "      <th>mfcc_quef_var_3</th>\n",
       "      <td>2.214395</td>\n",
       "    </tr>\n",
       "    <tr>\n",
       "      <th>percussive_per_freq_var_19</th>\n",
       "      <td>1.399441</td>\n",
       "    </tr>\n",
       "    <tr>\n",
       "      <th>percussive_per_freq_mean_15</th>\n",
       "      <td>1.380568</td>\n",
       "    </tr>\n",
       "    <tr>\n",
       "      <th>percept_freq_var_1</th>\n",
       "      <td>1.320246</td>\n",
       "    </tr>\n",
       "    <tr>\n",
       "      <th>percussive_per_freq_mean_18</th>\n",
       "      <td>1.249470</td>\n",
       "    </tr>\n",
       "    <tr>\n",
       "      <th>mfcc_quef_var_2</th>\n",
       "      <td>1.248530</td>\n",
       "    </tr>\n",
       "    <tr>\n",
       "      <th>percept_freq_mean_8</th>\n",
       "      <td>1.225092</td>\n",
       "    </tr>\n",
       "    <tr>\n",
       "      <th>percussive_per_freq_var_29</th>\n",
       "      <td>1.154247</td>\n",
       "    </tr>\n",
       "    <tr>\n",
       "      <th>percussive_per_freq_mean_20</th>\n",
       "      <td>1.110014</td>\n",
       "    </tr>\n",
       "    <tr>\n",
       "      <th>percept_freq_var_0</th>\n",
       "      <td>1.025510</td>\n",
       "    </tr>\n",
       "    <tr>\n",
       "      <th>mfcc_quef_var_4</th>\n",
       "      <td>1.007279</td>\n",
       "    </tr>\n",
       "    <tr>\n",
       "      <th>percept_freq_mean_35</th>\n",
       "      <td>0.992137</td>\n",
       "    </tr>\n",
       "    <tr>\n",
       "      <th>percussive_per_freq_var_37</th>\n",
       "      <td>0.971263</td>\n",
       "    </tr>\n",
       "  </tbody>\n",
       "</table>\n",
       "</div>"
      ],
      "text/plain": [
       "                             importance\n",
       "mfcc_quef_mean_3               2.359190\n",
       "mfcc_quef_var_8                2.358319\n",
       "mfcc_quef_var_3                2.214395\n",
       "percussive_per_freq_var_19     1.399441\n",
       "percussive_per_freq_mean_15    1.380568\n",
       "percept_freq_var_1             1.320246\n",
       "percussive_per_freq_mean_18    1.249470\n",
       "mfcc_quef_var_2                1.248530\n",
       "percept_freq_mean_8            1.225092\n",
       "percussive_per_freq_var_29     1.154247\n",
       "percussive_per_freq_mean_20    1.110014\n",
       "percept_freq_var_0             1.025510\n",
       "mfcc_quef_var_4                1.007279\n",
       "percept_freq_mean_35           0.992137\n",
       "percussive_per_freq_var_37     0.971263"
      ]
     },
     "execution_count": 25,
     "metadata": {},
     "output_type": "execute_result"
    }
   ],
   "source": [
    "pd.DataFrame(\n",
    "    data=model.feature_importances_, \n",
    "    index=E_train.get_feature_names_vector(features), \n",
    "    columns=['importance']\n",
    ").sort_values(by='importance', ascending=False).head(15)"
   ]
  },
  {
   "cell_type": "code",
   "execution_count": 26,
   "id": "7f195210-2e93-470c-b746-0a027873e5fd",
   "metadata": {},
   "outputs": [
    {
     "data": {
      "application/vnd.jupyter.widget-view+json": {
       "model_id": "ef18187044c1480199af19bd236414a4",
       "version_major": 2,
       "version_minor": 0
      },
      "text/plain": [
       "MetricVisualizer(layout=Layout(align_self='stretch', height='500px'))"
      ]
     },
     "metadata": {},
     "output_type": "display_data"
    },
    {
     "name": "stdout",
     "output_type": "stream",
     "text": [
      "0:\tlearn: 0.3018598\ttest: 0.2800000\tbest: 0.2800000 (0)\ttotal: 69.8ms\tremaining: 34.9s\n",
      "50:\tlearn: 0.7467811\ttest: 0.6733333\tbest: 0.6800000 (49)\ttotal: 1.64s\tremaining: 14.4s\n",
      "100:\tlearn: 0.8426323\ttest: 0.7233333\tbest: 0.7266667 (78)\ttotal: 3.13s\tremaining: 12.4s\n",
      "150:\tlearn: 0.8955651\ttest: 0.7666667\tbest: 0.7733333 (139)\ttotal: 4.64s\tremaining: 10.7s\n",
      "200:\tlearn: 0.9213162\ttest: 0.8000000\tbest: 0.8000000 (200)\ttotal: 6.13s\tremaining: 9.13s\n",
      "250:\tlearn: 0.9413448\ttest: 0.7966667\tbest: 0.8033333 (242)\ttotal: 7.61s\tremaining: 7.54s\n",
      "300:\tlearn: 0.9585122\ttest: 0.7933333\tbest: 0.8033333 (242)\ttotal: 9.07s\tremaining: 6s\n",
      "350:\tlearn: 0.9728183\ttest: 0.7933333\tbest: 0.8033333 (242)\ttotal: 10.6s\tremaining: 4.5s\n",
      "400:\tlearn: 0.9785408\ttest: 0.7966667\tbest: 0.8033333 (242)\ttotal: 12.2s\tremaining: 3s\n",
      "450:\tlearn: 0.9828326\ttest: 0.8033333\tbest: 0.8033333 (242)\ttotal: 13.6s\tremaining: 1.48s\n",
      "499:\tlearn: 0.9899857\ttest: 0.8066667\tbest: 0.8100000 (463)\ttotal: 15.1s\tremaining: 0us\n",
      "\n",
      "bestTest = 0.81\n",
      "bestIteration = 463\n",
      "\n",
      "Shrink model to first 464 iterations.\n",
      "\n",
      "Classification Report:\n",
      "               precision    recall  f1-score   support\n",
      "\n",
      "       blues       0.96      0.73      0.83        30\n",
      "   classical       0.88      0.93      0.90        30\n",
      "     country       0.81      0.83      0.82        30\n",
      "       disco       0.77      0.67      0.71        30\n",
      "      hiphop       0.68      0.93      0.79        30\n",
      "        jazz       0.87      0.87      0.87        30\n",
      "       metal       0.89      0.83      0.86        30\n",
      "         pop       0.87      0.90      0.89        30\n",
      "      reggae       0.73      0.73      0.73        30\n",
      "        rock       0.71      0.67      0.69        30\n",
      "\n",
      "    accuracy                           0.81       300\n",
      "   macro avg       0.82      0.81      0.81       300\n",
      "weighted avg       0.82      0.81      0.81       300\n",
      "\n",
      "Evaluation Accuracy: 0.8100\n"
     ]
    }
   ],
   "source": [
    "features = ['stats',\n",
    "    'cqt_per_freq_mean', 'cqt_per_freq_var', \n",
    "    'harmonic_per_freq_mean', 'harmonic_per_freq_var', \n",
    "    'percussive_per_freq_mean', 'percussive_per_freq_var',\n",
    "    'mfcc_quef_mean', 'mfcc_quef_var', \n",
    "    'cqt_spectral_centroid_mean', 'cqt_spectral_centroid_var', \n",
    "    'cqt_chroma_freq_mean', 'cqt_chroma_freq_var', \n",
    "    'harmonic_chroma_freq_mean', 'harmonic_chroma_freq_var',\n",
    "    'cqt_rolloff_mean', 'cqt_rolloff_var', \n",
    "    'cqt_bandwidth_mean', 'cqt_bandwidth_var',\n",
    "    'percept_freq_mean', 'percept_freq_var']\n",
    "\n",
    "model, acc = train_and_evaluate_catboost(\n",
    "    idx_eval=E_eval.get_features(['idx'])[:,0],\n",
    "    X_train=E_train.get_features(features),\n",
    "    X_eval=E_eval.get_features(features),\n",
    "    y_train=E_train.get_features(['y'])[:,0], \n",
    "    y_eval=E_eval.get_features(['y'])[:,0],\n",
    ")"
   ]
  },
  {
   "cell_type": "code",
   "execution_count": 27,
   "id": "4ee373f7-93f5-4eee-87b5-628f52acee95",
   "metadata": {},
   "outputs": [
    {
     "data": {
      "text/html": [
       "<div>\n",
       "<style scoped>\n",
       "    .dataframe tbody tr th:only-of-type {\n",
       "        vertical-align: middle;\n",
       "    }\n",
       "\n",
       "    .dataframe tbody tr th {\n",
       "        vertical-align: top;\n",
       "    }\n",
       "\n",
       "    .dataframe thead th {\n",
       "        text-align: right;\n",
       "    }\n",
       "</style>\n",
       "<table border=\"1\" class=\"dataframe\">\n",
       "  <thead>\n",
       "    <tr style=\"text-align: right;\">\n",
       "      <th></th>\n",
       "      <th>importance</th>\n",
       "      <th>stat_name</th>\n",
       "    </tr>\n",
       "  </thead>\n",
       "  <tbody>\n",
       "    <tr>\n",
       "      <th>stats_0</th>\n",
       "      <td>2.523169</td>\n",
       "      <td>chroma_stft_mean</td>\n",
       "    </tr>\n",
       "    <tr>\n",
       "      <th>stats_6</th>\n",
       "      <td>1.797094</td>\n",
       "      <td>spectral_bandwidth_mean</td>\n",
       "    </tr>\n",
       "    <tr>\n",
       "      <th>stats_23</th>\n",
       "      <td>1.583620</td>\n",
       "      <td>mfcc4_mean</td>\n",
       "    </tr>\n",
       "    <tr>\n",
       "      <th>stats_33</th>\n",
       "      <td>1.515491</td>\n",
       "      <td>mfcc9_mean</td>\n",
       "    </tr>\n",
       "    <tr>\n",
       "      <th>percussive_per_freq_mean_22</th>\n",
       "      <td>1.454783</td>\n",
       "      <td>None</td>\n",
       "    </tr>\n",
       "    <tr>\n",
       "      <th>stats_39</th>\n",
       "      <td>1.381583</td>\n",
       "      <td>mfcc12_mean</td>\n",
       "    </tr>\n",
       "    <tr>\n",
       "      <th>mfcc_quef_var_4</th>\n",
       "      <td>1.311128</td>\n",
       "      <td>None</td>\n",
       "    </tr>\n",
       "    <tr>\n",
       "      <th>stats_9</th>\n",
       "      <td>1.279369</td>\n",
       "      <td>rolloff_var</td>\n",
       "    </tr>\n",
       "    <tr>\n",
       "      <th>percussive_per_freq_var_21</th>\n",
       "      <td>1.255095</td>\n",
       "      <td>None</td>\n",
       "    </tr>\n",
       "    <tr>\n",
       "      <th>percept_freq_mean_75</th>\n",
       "      <td>1.246075</td>\n",
       "      <td>None</td>\n",
       "    </tr>\n",
       "    <tr>\n",
       "      <th>percept_freq_var_27</th>\n",
       "      <td>1.209876</td>\n",
       "      <td>None</td>\n",
       "    </tr>\n",
       "    <tr>\n",
       "      <th>mfcc_quef_var_8</th>\n",
       "      <td>1.138965</td>\n",
       "      <td>None</td>\n",
       "    </tr>\n",
       "    <tr>\n",
       "      <th>mfcc_quef_mean_3</th>\n",
       "      <td>1.103165</td>\n",
       "      <td>None</td>\n",
       "    </tr>\n",
       "    <tr>\n",
       "      <th>stats_27</th>\n",
       "      <td>1.101513</td>\n",
       "      <td>mfcc6_mean</td>\n",
       "    </tr>\n",
       "    <tr>\n",
       "      <th>stats_12</th>\n",
       "      <td>1.092918</td>\n",
       "      <td>harmony_mean</td>\n",
       "    </tr>\n",
       "  </tbody>\n",
       "</table>\n",
       "</div>"
      ],
      "text/plain": [
       "                             importance                stat_name\n",
       "stats_0                        2.523169         chroma_stft_mean\n",
       "stats_6                        1.797094  spectral_bandwidth_mean\n",
       "stats_23                       1.583620               mfcc4_mean\n",
       "stats_33                       1.515491               mfcc9_mean\n",
       "percussive_per_freq_mean_22    1.454783                     None\n",
       "stats_39                       1.381583              mfcc12_mean\n",
       "mfcc_quef_var_4                1.311128                     None\n",
       "stats_9                        1.279369              rolloff_var\n",
       "percussive_per_freq_var_21     1.255095                     None\n",
       "percept_freq_mean_75           1.246075                     None\n",
       "percept_freq_var_27            1.209876                     None\n",
       "mfcc_quef_var_8                1.138965                     None\n",
       "mfcc_quef_mean_3               1.103165                     None\n",
       "stats_27                       1.101513               mfcc6_mean\n",
       "stats_12                       1.092918             harmony_mean"
      ]
     },
     "execution_count": 27,
     "metadata": {},
     "output_type": "execute_result"
    }
   ],
   "source": [
    "imp = pd.DataFrame(\n",
    "    data=model.feature_importances_, \n",
    "    index=E_train.get_feature_names_vector(features), \n",
    "    columns=['importance']\n",
    ").sort_values(by='importance', ascending=False).head(15)\n",
    "imp['stat_name'] = pd.Series(imp.index, index=imp.index).apply(lambda x: int(x[6:]) if x.startswith('stats_') else None)\n",
    "imp['stat_name'] = imp['stat_name'].apply(lambda x: X_train.columns[int(x) + 2] if not np.isnan(x) else None)\n",
    "imp"
   ]
  },
  {
   "cell_type": "code",
   "execution_count": 34,
   "id": "1aba1f2a-c193-4b7c-8452-23f2831490ed",
   "metadata": {},
   "outputs": [],
   "source": [
    "from sklearn.decomposition import TruncatedSVD, PCA\n",
    "\n",
    "n_tsvd_components = 15\n",
    "n_svd_iter=20\n",
    "\n",
    "features = ['stats',\n",
    "    'cqt_per_freq_mean', 'cqt_per_freq_var', \n",
    "    'harmonic_per_freq_mean', 'harmonic_per_freq_var', \n",
    "    'percussive_per_freq_mean', 'percussive_per_freq_var',\n",
    "    'mfcc_quef_mean', 'mfcc_quef_var', \n",
    "    'cqt_spectral_centroid_mean', 'cqt_spectral_centroid_var', \n",
    "    'cqt_chroma_freq_mean', 'cqt_chroma_freq_var', \n",
    "    'harmonic_chroma_freq_mean', 'harmonic_chroma_freq_var',\n",
    "    'cqt_rolloff_mean', 'cqt_rolloff_var', \n",
    "    'cqt_bandwidth_mean', 'cqt_bandwidth_var',\n",
    "    'percept_freq_mean', 'percept_freq_var']\n",
    "\n",
    "Extractor.register_sklearn_extractor('cqt_per_freq_mean_svd', \n",
    "                                     ['cqt_per_freq_mean'], \n",
    "                                     TruncatedSVD(n_components=n_tsvd_components, n_iter=n_svd_iter, random_state=42))\n",
    "Extractor.register_sklearn_extractor('cqt_per_freq_var_svd', \n",
    "                                     ['cqt_per_freq_var'], \n",
    "                                     TruncatedSVD(n_components=n_tsvd_components, n_iter=n_svd_iter, random_state=42))\n",
    "Extractor.register_sklearn_extractor('harmonic_per_freq_mean_svd', \n",
    "                                     ['harmonic_per_freq_mean'], \n",
    "                                     TruncatedSVD(n_components=n_tsvd_components, n_iter=n_svd_iter, random_state=42))\n",
    "Extractor.register_sklearn_extractor('harmonic_per_freq_var_svd', \n",
    "                                     ['harmonic_per_freq_var'], \n",
    "                                     TruncatedSVD(n_components=n_tsvd_components, n_iter=n_svd_iter, random_state=42))\n",
    "Extractor.register_sklearn_extractor('percussive_per_freq_mean_svd', \n",
    "                                     ['percussive_per_freq_mean'], \n",
    "                                     TruncatedSVD(n_components=n_tsvd_components, n_iter=n_svd_iter, random_state=42))\n",
    "Extractor.register_sklearn_extractor('percussive_per_freq_var_svd', \n",
    "                                     ['percussive_per_freq_var'], \n",
    "                                     TruncatedSVD(n_components=n_tsvd_components, n_iter=n_svd_iter, random_state=42))\n",
    "Extractor.register_sklearn_extractor('percept_freq_mean_svd', \n",
    "                                     ['percept_freq_mean'], \n",
    "                                     TruncatedSVD(n_components=n_tsvd_components, n_iter=n_svd_iter, random_state=42))\n",
    "Extractor.register_sklearn_extractor('percept_freq_var_svd', \n",
    "                                     ['percept_freq_var'], \n",
    "                                     TruncatedSVD(n_components=n_tsvd_components, n_iter=n_svd_iter, random_state=42))"
   ]
  },
  {
   "cell_type": "code",
   "execution_count": 33,
   "id": "c1b01dd3-cf21-4095-b297-29184fe0da70",
   "metadata": {},
   "outputs": [],
   "source": [
    "for feat in list(E_train.features.keys()):\n",
    "    if feat.endswith('svd'):\n",
    "        del E_train.features[feat]\n",
    "        del E_eval.features[feat]"
   ]
  },
  {
   "cell_type": "code",
   "execution_count": 35,
   "id": "9e254f81-a701-4c2b-8124-863d107be50e",
   "metadata": {},
   "outputs": [],
   "source": [
    "E_train.soft_extract()\n",
    "E_eval.soft_extract()"
   ]
  },
  {
   "cell_type": "code",
   "execution_count": 38,
   "id": "f4687b96-35bb-4a31-8adc-898f602059de",
   "metadata": {},
   "outputs": [
    {
     "data": {
      "application/vnd.jupyter.widget-view+json": {
       "model_id": "1840bc2e40484d1c99c84b0fbe38ba0f",
       "version_major": 2,
       "version_minor": 0
      },
      "text/plain": [
       "MetricVisualizer(layout=Layout(align_self='stretch', height='500px'))"
      ]
     },
     "metadata": {},
     "output_type": "display_data"
    },
    {
     "name": "stdout",
     "output_type": "stream",
     "text": [
      "0:\tlearn: 0.3047210\ttest: 0.2966667\tbest: 0.2966667 (0)\ttotal: 19.9ms\tremaining: 9.95s\n",
      "50:\tlearn: 0.7424893\ttest: 0.6400000\tbest: 0.6400000 (50)\ttotal: 524ms\tremaining: 4.61s\n",
      "100:\tlearn: 0.8483548\ttest: 0.7100000\tbest: 0.7133333 (99)\ttotal: 962ms\tremaining: 3.8s\n",
      "150:\tlearn: 0.8998569\ttest: 0.7333333\tbest: 0.7333333 (142)\ttotal: 1.35s\tremaining: 3.13s\n",
      "200:\tlearn: 0.9298999\ttest: 0.7466667\tbest: 0.7500000 (175)\ttotal: 1.72s\tremaining: 2.56s\n",
      "250:\tlearn: 0.9484979\ttest: 0.7600000\tbest: 0.7600000 (238)\ttotal: 2.13s\tremaining: 2.12s\n",
      "300:\tlearn: 0.9570815\ttest: 0.7666667\tbest: 0.7666667 (297)\ttotal: 2.52s\tremaining: 1.66s\n",
      "350:\tlearn: 0.9670959\ttest: 0.7733333\tbest: 0.7766667 (332)\ttotal: 2.9s\tremaining: 1.23s\n",
      "400:\tlearn: 0.9728183\ttest: 0.7633333\tbest: 0.7766667 (332)\ttotal: 3.27s\tremaining: 807ms\n",
      "450:\tlearn: 0.9828326\ttest: 0.7733333\tbest: 0.7766667 (332)\ttotal: 3.73s\tremaining: 406ms\n",
      "499:\tlearn: 0.9885551\ttest: 0.7700000\tbest: 0.7766667 (332)\ttotal: 4.24s\tremaining: 0us\n",
      "\n",
      "bestTest = 0.7766666667\n",
      "bestIteration = 332\n",
      "\n",
      "Shrink model to first 333 iterations.\n",
      "\n",
      "Classification Report:\n",
      "               precision    recall  f1-score   support\n",
      "\n",
      "       blues       0.90      0.63      0.75        30\n",
      "   classical       0.93      0.90      0.92        30\n",
      "     country       0.85      0.77      0.81        30\n",
      "       disco       0.84      0.70      0.76        30\n",
      "      hiphop       0.68      0.87      0.76        30\n",
      "        jazz       0.79      0.90      0.84        30\n",
      "       metal       0.86      0.80      0.83        30\n",
      "         pop       0.77      0.80      0.79        30\n",
      "      reggae       0.71      0.80      0.75        30\n",
      "        rock       0.55      0.60      0.57        30\n",
      "\n",
      "    accuracy                           0.78       300\n",
      "   macro avg       0.79      0.78      0.78       300\n",
      "weighted avg       0.79      0.78      0.78       300\n",
      "\n",
      "Evaluation Accuracy: 0.7767\n"
     ]
    }
   ],
   "source": [
    "features = ['rms', 'bpm',\n",
    "    'cqt_per_freq_mean_svd', 'cqt_per_freq_var_svd', \n",
    "    'harmonic_per_freq_mean_svd', 'harmonic_per_freq_var_svd', \n",
    "    'percussive_per_freq_mean_svd', 'percussive_per_freq_var_svd',\n",
    "    'mfcc_quef_mean', 'mfcc_quef_var', \n",
    "    'cqt_spectral_centroid_mean', 'cqt_spectral_centroid_var', \n",
    "    'cqt_chroma_mean', 'cqt_chroma_var', \n",
    "    'harmonic_chroma_freq_mean', 'harmonic_chroma_freq_var', \n",
    "    'cqt_rolloff_mean', 'cqt_rolloff_var', \n",
    "    'cqt_bandwidth_mean', 'cqt_bandwidth_var',\n",
    "    'percept_freq_mean_svd', 'percept_freq_var_svd']\n",
    "\n",
    "model, acc = train_and_evaluate_catboost(\n",
    "    idx_eval=E_eval.get_features(['idx'])[:,0],\n",
    "    X_train=E_train.get_features(features),\n",
    "    X_eval=E_eval.get_features(features),\n",
    "    y_train=E_train.get_features(['y'])[:,0], \n",
    "    y_eval=E_eval.get_features(['y'])[:,0],\n",
    ")"
   ]
  },
  {
   "cell_type": "code",
   "execution_count": 42,
   "id": "d85937d9-df36-40df-b030-a353f3932913",
   "metadata": {},
   "outputs": [
    {
     "data": {
      "text/html": [
       "<div>\n",
       "<style scoped>\n",
       "    .dataframe tbody tr th:only-of-type {\n",
       "        vertical-align: middle;\n",
       "    }\n",
       "\n",
       "    .dataframe tbody tr th {\n",
       "        vertical-align: top;\n",
       "    }\n",
       "\n",
       "    .dataframe thead th {\n",
       "        text-align: right;\n",
       "    }\n",
       "</style>\n",
       "<table border=\"1\" class=\"dataframe\">\n",
       "  <thead>\n",
       "    <tr style=\"text-align: right;\">\n",
       "      <th></th>\n",
       "      <th>importance</th>\n",
       "    </tr>\n",
       "  </thead>\n",
       "  <tbody>\n",
       "    <tr>\n",
       "      <th>percussive_per_freq_mean_svd_0</th>\n",
       "      <td>4.205752</td>\n",
       "    </tr>\n",
       "    <tr>\n",
       "      <th>mfcc_quef_mean_3</th>\n",
       "      <td>3.267344</td>\n",
       "    </tr>\n",
       "    <tr>\n",
       "      <th>percept_freq_var_svd_1</th>\n",
       "      <td>3.180768</td>\n",
       "    </tr>\n",
       "    <tr>\n",
       "      <th>percept_freq_mean_svd_0</th>\n",
       "      <td>2.635458</td>\n",
       "    </tr>\n",
       "    <tr>\n",
       "      <th>percept_freq_var_svd_3</th>\n",
       "      <td>2.591597</td>\n",
       "    </tr>\n",
       "    <tr>\n",
       "      <th>mfcc_quef_var_8</th>\n",
       "      <td>2.577771</td>\n",
       "    </tr>\n",
       "    <tr>\n",
       "      <th>mfcc_quef_var_4</th>\n",
       "      <td>2.278346</td>\n",
       "    </tr>\n",
       "    <tr>\n",
       "      <th>percussive_per_freq_var_svd_2</th>\n",
       "      <td>2.050827</td>\n",
       "    </tr>\n",
       "    <tr>\n",
       "      <th>percept_freq_mean_svd_1</th>\n",
       "      <td>1.956709</td>\n",
       "    </tr>\n",
       "    <tr>\n",
       "      <th>cqt_per_freq_mean_svd_2</th>\n",
       "      <td>1.855102</td>\n",
       "    </tr>\n",
       "    <tr>\n",
       "      <th>mfcc_quef_var_5</th>\n",
       "      <td>1.792074</td>\n",
       "    </tr>\n",
       "    <tr>\n",
       "      <th>cqt_spectral_centroid_mean_</th>\n",
       "      <td>1.759670</td>\n",
       "    </tr>\n",
       "    <tr>\n",
       "      <th>cqt_per_freq_mean_svd_0</th>\n",
       "      <td>1.749184</td>\n",
       "    </tr>\n",
       "    <tr>\n",
       "      <th>cqt_spectral_centroid_var_</th>\n",
       "      <td>1.720792</td>\n",
       "    </tr>\n",
       "    <tr>\n",
       "      <th>mfcc_quef_var_3</th>\n",
       "      <td>1.683460</td>\n",
       "    </tr>\n",
       "  </tbody>\n",
       "</table>\n",
       "</div>"
      ],
      "text/plain": [
       "                                importance\n",
       "percussive_per_freq_mean_svd_0    4.205752\n",
       "mfcc_quef_mean_3                  3.267344\n",
       "percept_freq_var_svd_1            3.180768\n",
       "percept_freq_mean_svd_0           2.635458\n",
       "percept_freq_var_svd_3            2.591597\n",
       "mfcc_quef_var_8                   2.577771\n",
       "mfcc_quef_var_4                   2.278346\n",
       "percussive_per_freq_var_svd_2     2.050827\n",
       "percept_freq_mean_svd_1           1.956709\n",
       "cqt_per_freq_mean_svd_2           1.855102\n",
       "mfcc_quef_var_5                   1.792074\n",
       "cqt_spectral_centroid_mean_       1.759670\n",
       "cqt_per_freq_mean_svd_0           1.749184\n",
       "cqt_spectral_centroid_var_        1.720792\n",
       "mfcc_quef_var_3                   1.683460"
      ]
     },
     "execution_count": 42,
     "metadata": {},
     "output_type": "execute_result"
    }
   ],
   "source": [
    "pd.DataFrame(\n",
    "    data=model.feature_importances_, \n",
    "    index=E_train.get_feature_names_vector(features), \n",
    "    columns=['importance']\n",
    ").sort_values(by='importance', ascending=False).head(15)"
   ]
  },
  {
   "cell_type": "code",
   "execution_count": 165,
   "id": "8f267351-9575-4353-ac54-9a3a2a6ecfcd",
   "metadata": {},
   "outputs": [],
   "source": [
    "fmax=300\n",
    "Extractor.register_extractor('pyin', lambda audio: librosa.pyin(y=audio, sr=sr, fmin=fmin, fmax=fmax))\n",
    "Extractor.register_extractor('f0', lambda pyin: pyin[0])\n",
    "Extractor.register_extractor('f0_mean', lambda f0: np.mean(f0))\n",
    "Extractor.register_extractor('f0_var', lambda f0: np.var(f0))\n",
    "Extractor.register_extractor('voiced', lambda pyin: pyin[1])\n",
    "Extractor.register_extractor('voiced_f0', lambda f0, voiced: f0[voiced])\n",
    "Extractor.register_extractor('voiced_f0_mean', lambda f0: np.mean(f0))\n",
    "Extractor.register_extractor('voiced_f0_var', lambda f0: np.var(f0))\n",
    "Extractor.register_extractor('voiced_percent', lambda voiced: np.mean(voiced))"
   ]
  },
  {
   "cell_type": "code",
   "execution_count": 170,
   "id": "5a9e4dea-bdb7-493a-b0dc-74137736bdad",
   "metadata": {},
   "outputs": [
    {
     "data": {
      "application/vnd.jupyter.widget-view+json": {
       "model_id": "0281b7caa1814a968ca63a37c9770ef4",
       "version_major": 2,
       "version_minor": 0
      },
      "text/plain": [
       "overtones:   0%|          | 0/699 [00:00<?, ?it/s]"
      ]
     },
     "metadata": {},
     "output_type": "display_data"
    },
    {
     "data": {
      "application/vnd.jupyter.widget-view+json": {
       "model_id": "659e04947bad47b3a1c71fc313bf3359",
       "version_major": 2,
       "version_minor": 0
      },
      "text/plain": [
       "overtones_freq_mean:   0%|          | 0/699 [00:00<?, ?it/s]"
      ]
     },
     "metadata": {},
     "output_type": "display_data"
    },
    {
     "ename": "AttributeError",
     "evalue": "'int' object has no attribute 'dtype'",
     "output_type": "error",
     "traceback": [
      "\u001b[0;31m---------------------------------------------------------------------------\u001b[0m",
      "\u001b[0;31mAttributeError\u001b[0m                            Traceback (most recent call last)",
      "Cell \u001b[0;32mIn[170], line 1\u001b[0m\n\u001b[0;32m----> 1\u001b[0m \u001b[43mE_train\u001b[49m\u001b[38;5;241;43m.\u001b[39;49m\u001b[43msoft_extract\u001b[49m\u001b[43m(\u001b[49m\u001b[43m)\u001b[49m\n\u001b[1;32m      2\u001b[0m E_eval\u001b[38;5;241m.\u001b[39msoft_extract()\n",
      "File \u001b[0;32m~/Documents/Ariel/TDS/genre_by_track/extractor.py:243\u001b[0m, in \u001b[0;36mAudioDataExtractionPipeline.soft_extract\u001b[0;34m(self)\u001b[0m\n\u001b[1;32m    241\u001b[0m \u001b[38;5;66;03m# If there's a stateless extractor for feat\u001b[39;00m\n\u001b[1;32m    242\u001b[0m \u001b[38;5;28;01mif\u001b[39;00m feat \u001b[38;5;129;01min\u001b[39;00m \u001b[38;5;28mself\u001b[39m\u001b[38;5;241m.\u001b[39m_stateless_extractors:\n\u001b[0;32m--> 243\u001b[0m     \u001b[38;5;28;43mself\u001b[39;49m\u001b[38;5;241;43m.\u001b[39;49m\u001b[43m_compute_stateless_feature\u001b[49m\u001b[43m(\u001b[49m\u001b[43mfeat\u001b[49m\u001b[43m)\u001b[49m\n\u001b[1;32m    244\u001b[0m \u001b[38;5;66;03m# If there's a stateful extractor for feat\u001b[39;00m\n\u001b[1;32m    245\u001b[0m \u001b[38;5;28;01melif\u001b[39;00m feat \u001b[38;5;129;01min\u001b[39;00m \u001b[38;5;28mself\u001b[39m\u001b[38;5;241m.\u001b[39m_stateful_extractors:\n",
      "File \u001b[0;32m~/Documents/Ariel/TDS/genre_by_track/extractor.py:284\u001b[0m, in \u001b[0;36mAudioDataExtractionPipeline._compute_stateless_feature\u001b[0;34m(self, feat_name)\u001b[0m\n\u001b[1;32m    281\u001b[0m \u001b[38;5;28;01mfor\u001b[39;00m d \u001b[38;5;129;01min\u001b[39;00m deps:\n\u001b[1;32m    282\u001b[0m     kw[d] \u001b[38;5;241m=\u001b[39m \u001b[38;5;28mself\u001b[39m\u001b[38;5;241m.\u001b[39mfeatures[d][i]\n\u001b[0;32m--> 284\u001b[0m result \u001b[38;5;241m=\u001b[39m \u001b[43mextractor\u001b[49m\u001b[43m(\u001b[49m\u001b[38;5;241;43m*\u001b[39;49m\u001b[38;5;241;43m*\u001b[39;49m\u001b[43mkw\u001b[49m\u001b[43m)\u001b[49m\n\u001b[1;32m    285\u001b[0m \u001b[38;5;66;03m# result can be a single np.array or a list of np.array\u001b[39;00m\n\u001b[1;32m    286\u001b[0m \u001b[38;5;28;01mif\u001b[39;00m \u001b[38;5;28misinstance\u001b[39m(result, \u001b[38;5;28mlist\u001b[39m):\n",
      "Cell \u001b[0;32mIn[144], line 3\u001b[0m, in \u001b[0;36m<lambda>\u001b[0;34m(overtones)\u001b[0m\n\u001b[1;32m      1\u001b[0m Extractor\u001b[38;5;241m.\u001b[39mregister_extractor(\u001b[38;5;124m'\u001b[39m\u001b[38;5;124movertones\u001b[39m\u001b[38;5;124m'\u001b[39m, \u001b[38;5;28;01mlambda\u001b[39;00m cqt, f0, voiced: \n\u001b[1;32m      2\u001b[0m                              shift_cqt_by_f0(cqt, f0, voiced, cqt_frequencies))\n\u001b[0;32m----> 3\u001b[0m Extractor\u001b[38;5;241m.\u001b[39mregister_extractor(\u001b[38;5;124m'\u001b[39m\u001b[38;5;124movertones_freq_mean\u001b[39m\u001b[38;5;124m'\u001b[39m, \u001b[38;5;28;01mlambda\u001b[39;00m overtones: \u001b[43mnp\u001b[49m\u001b[38;5;241;43m.\u001b[39;49m\u001b[43mnanmean\u001b[49m\u001b[43m(\u001b[49m\u001b[43movertones\u001b[49m\u001b[43m,\u001b[49m\u001b[43m \u001b[49m\u001b[43maxis\u001b[49m\u001b[38;5;241;43m=\u001b[39;49m\u001b[38;5;241;43m1\u001b[39;49m\u001b[43m,\u001b[49m\u001b[43m \u001b[49m\u001b[43mout\u001b[49m\u001b[38;5;241;43m=\u001b[39;49m\u001b[38;5;241;43m0\u001b[39;49m\u001b[43m)\u001b[49m)\n\u001b[1;32m      4\u001b[0m Extractor\u001b[38;5;241m.\u001b[39mregister_extractor(\u001b[38;5;124m'\u001b[39m\u001b[38;5;124movertones_freq_var\u001b[39m\u001b[38;5;124m'\u001b[39m, \u001b[38;5;28;01mlambda\u001b[39;00m overtones: np\u001b[38;5;241m.\u001b[39mnanvar(overtones, axis\u001b[38;5;241m=\u001b[39m\u001b[38;5;241m1\u001b[39m, out\u001b[38;5;241m=\u001b[39m\u001b[38;5;241m0\u001b[39m))\n\u001b[1;32m      5\u001b[0m Extractor\u001b[38;5;241m.\u001b[39mregister_sklearn_extractor(\u001b[38;5;124m'\u001b[39m\u001b[38;5;124movertones_freq_mean_svd\u001b[39m\u001b[38;5;124m'\u001b[39m, \n\u001b[1;32m      6\u001b[0m                                      [\u001b[38;5;124m'\u001b[39m\u001b[38;5;124movertones_freq_mean\u001b[39m\u001b[38;5;124m'\u001b[39m], \n\u001b[1;32m      7\u001b[0m                                      TruncatedSVD(n_components\u001b[38;5;241m=\u001b[39mn_tsvd_components, n_iter\u001b[38;5;241m=\u001b[39mn_svd_iter, random_state\u001b[38;5;241m=\u001b[39m\u001b[38;5;241m42\u001b[39m))\n",
      "File \u001b[0;32m~/Documents/Ariel/TDS/genre_by_track/venv/lib/python3.12/site-packages/numpy/lib/nanfunctions.py:1041\u001b[0m, in \u001b[0;36mnanmean\u001b[0;34m(a, axis, dtype, out, keepdims, where)\u001b[0m\n\u001b[1;32m   1039\u001b[0m \u001b[38;5;28;01mif\u001b[39;00m dtype \u001b[38;5;129;01mis\u001b[39;00m \u001b[38;5;129;01mnot\u001b[39;00m \u001b[38;5;28;01mNone\u001b[39;00m \u001b[38;5;129;01mand\u001b[39;00m \u001b[38;5;129;01mnot\u001b[39;00m \u001b[38;5;28missubclass\u001b[39m(dtype\u001b[38;5;241m.\u001b[39mtype, np\u001b[38;5;241m.\u001b[39minexact):\n\u001b[1;32m   1040\u001b[0m     \u001b[38;5;28;01mraise\u001b[39;00m \u001b[38;5;167;01mTypeError\u001b[39;00m(\u001b[38;5;124m\"\u001b[39m\u001b[38;5;124mIf a is inexact, then dtype must be inexact\u001b[39m\u001b[38;5;124m\"\u001b[39m)\n\u001b[0;32m-> 1041\u001b[0m \u001b[38;5;28;01mif\u001b[39;00m out \u001b[38;5;129;01mis\u001b[39;00m \u001b[38;5;129;01mnot\u001b[39;00m \u001b[38;5;28;01mNone\u001b[39;00m \u001b[38;5;129;01mand\u001b[39;00m \u001b[38;5;129;01mnot\u001b[39;00m \u001b[38;5;28missubclass\u001b[39m(\u001b[43mout\u001b[49m\u001b[38;5;241;43m.\u001b[39;49m\u001b[43mdtype\u001b[49m\u001b[38;5;241m.\u001b[39mtype, np\u001b[38;5;241m.\u001b[39minexact):\n\u001b[1;32m   1042\u001b[0m     \u001b[38;5;28;01mraise\u001b[39;00m \u001b[38;5;167;01mTypeError\u001b[39;00m(\u001b[38;5;124m\"\u001b[39m\u001b[38;5;124mIf a is inexact, then out must be inexact\u001b[39m\u001b[38;5;124m\"\u001b[39m)\n\u001b[1;32m   1044\u001b[0m cnt \u001b[38;5;241m=\u001b[39m np\u001b[38;5;241m.\u001b[39msum(\u001b[38;5;241m~\u001b[39mmask, axis\u001b[38;5;241m=\u001b[39maxis, dtype\u001b[38;5;241m=\u001b[39mnp\u001b[38;5;241m.\u001b[39mintp, keepdims\u001b[38;5;241m=\u001b[39mkeepdims,\n\u001b[1;32m   1045\u001b[0m              where\u001b[38;5;241m=\u001b[39mwhere)\n",
      "\u001b[0;31mAttributeError\u001b[0m: 'int' object has no attribute 'dtype'"
     ]
    }
   ],
   "source": [
    "E_train.soft_extract()\n",
    "E_eval.soft_extract()"
   ]
  },
  {
   "cell_type": "code",
   "execution_count": 164,
   "id": "ce1679bd-d54d-41ce-91a1-787f58b398cf",
   "metadata": {},
   "outputs": [
    {
     "data": {
      "application/vnd.jupyter.widget-view+json": {
       "model_id": "b4504b4c9e5c4109925cad7068ebd33b",
       "version_major": 2,
       "version_minor": 0
      },
      "text/plain": [
       "MetricVisualizer(layout=Layout(align_self='stretch', height='500px'))"
      ]
     },
     "metadata": {},
     "output_type": "display_data"
    },
    {
     "name": "stdout",
     "output_type": "stream",
     "text": [
      "0:\tlearn: 0.2288984\ttest: 0.2133333\tbest: 0.2133333 (0)\ttotal: 35.8ms\tremaining: 17.9s\n",
      "50:\tlearn: 0.7639485\ttest: 0.6800000\tbest: 0.6933333 (43)\ttotal: 457ms\tremaining: 4.02s\n",
      "100:\tlearn: 0.8540773\ttest: 0.7333333\tbest: 0.7366667 (94)\ttotal: 861ms\tremaining: 3.4s\n",
      "150:\tlearn: 0.8912732\ttest: 0.7666667\tbest: 0.7666667 (149)\ttotal: 1.29s\tremaining: 2.99s\n",
      "200:\tlearn: 0.9227468\ttest: 0.7766667\tbest: 0.7800000 (186)\ttotal: 1.69s\tremaining: 2.51s\n",
      "250:\tlearn: 0.9399142\ttest: 0.7666667\tbest: 0.7800000 (186)\ttotal: 2.09s\tremaining: 2.07s\n",
      "300:\tlearn: 0.9599428\ttest: 0.7800000\tbest: 0.7800000 (186)\ttotal: 2.48s\tremaining: 1.64s\n",
      "350:\tlearn: 0.9742489\ttest: 0.7800000\tbest: 0.7833333 (341)\ttotal: 2.86s\tremaining: 1.21s\n",
      "400:\tlearn: 0.9799714\ttest: 0.7800000\tbest: 0.7833333 (341)\ttotal: 3.21s\tremaining: 794ms\n",
      "450:\tlearn: 0.9856938\ttest: 0.7833333\tbest: 0.7833333 (341)\ttotal: 3.6s\tremaining: 391ms\n",
      "499:\tlearn: 0.9856938\ttest: 0.7866667\tbest: 0.7900000 (465)\ttotal: 3.96s\tremaining: 0us\n",
      "\n",
      "bestTest = 0.79\n",
      "bestIteration = 465\n",
      "\n",
      "Shrink model to first 466 iterations.\n",
      "\n",
      "Classification Report:\n",
      "               precision    recall  f1-score   support\n",
      "\n",
      "       blues       0.81      0.73      0.77        30\n",
      "   classical       0.88      0.93      0.90        30\n",
      "     country       0.83      0.80      0.81        30\n",
      "       disco       0.71      0.67      0.69        30\n",
      "      hiphop       0.81      0.97      0.88        30\n",
      "        jazz       0.83      0.83      0.83        30\n",
      "       metal       0.81      0.83      0.82        30\n",
      "         pop       0.84      0.87      0.85        30\n",
      "      reggae       0.83      0.80      0.81        30\n",
      "        rock       0.52      0.47      0.49        30\n",
      "\n",
      "    accuracy                           0.79       300\n",
      "   macro avg       0.79      0.79      0.79       300\n",
      "weighted avg       0.79      0.79      0.79       300\n",
      "\n",
      "Evaluation Accuracy: 0.7900\n"
     ]
    }
   ],
   "source": [
    "features = ['rms', 'bpm',\n",
    "    'cqt_per_freq_mean_svd', 'cqt_per_freq_var_svd', \n",
    "    'harmonic_per_freq_mean_svd', 'harmonic_per_freq_var_svd', \n",
    "    'percussive_per_freq_mean_svd', 'percussive_per_freq_var_svd',\n",
    "    'mfcc_quef_mean', 'mfcc_quef_var', \n",
    "    'cqt_spectral_centroid_mean', 'cqt_spectral_centroid_var', \n",
    "    'cqt_chroma_mean', 'cqt_chroma_var', \n",
    "    'harmonic_chroma_freq_mean', 'harmonic_chroma_freq_var', \n",
    "    'cqt_rolloff_mean', 'cqt_rolloff_var', \n",
    "    'cqt_bandwidth_mean', 'cqt_bandwidth_var',\n",
    "    'percept_freq_mean_svd', 'percept_freq_var_svd',\n",
    "    'voiced_f0_mean', 'f0_var']\n",
    "\n",
    "model, acc = train_and_evaluate_catboost(\n",
    "    idx_eval=E_eval.get_features(['idx'])[:,0],\n",
    "    X_train=E_train.get_features(features),\n",
    "    X_eval=E_eval.get_features(features),\n",
    "    y_train=E_train.get_features(['y'])[:,0], \n",
    "    y_eval=E_eval.get_features(['y'])[:,0],\n",
    ")"
   ]
  },
  {
   "cell_type": "code",
   "execution_count": null,
   "id": "fcd802f2-b2ab-4289-8eb6-cd03ce1a42af",
   "metadata": {},
   "outputs": [],
   "source": []
  },
  {
   "cell_type": "markdown",
   "id": "4aed6724-b35c-4224-9f49-d3e3906c85c9",
   "metadata": {},
   "source": [
    "**ChatGPT query**\n",
    "Please write a small snippet of code. It should shift CQT spectrogram down based on F0 and crop to 40 frequency bins. F0 is given in Hz, CQT frequencies are in separate array cqt_frequencies"
   ]
  },
  {
   "cell_type": "code",
   "execution_count": 117,
   "id": "94b1d468-5681-446c-971a-eaef15ade5bb",
   "metadata": {},
   "outputs": [],
   "source": [
    "def shift_cqt_by_f0(S: np.ndarray, F0: np.ndarray, voiced: np.ndarray, cqt_frequencies: np.ndarray) -> np.ndarray:\n",
    "    \"\"\"\n",
    "    Shift CQT spectrogram down based on F0 and crop to 40 frequency bins.\n",
    "    \n",
    "    Parameters\n",
    "    ----------\n",
    "    S : np.ndarray\n",
    "        CQT spectrogram, shape (n_freq, n_frames).\n",
    "    F0 : float\n",
    "        Fundamental frequency in Hz.\n",
    "    cqt_frequencies : np.ndarray\n",
    "        Array of center frequencies for the CQT bins, sorted ascending.\n",
    "        \n",
    "    Returns\n",
    "    -------\n",
    "    S_cropped : np.ndarray\n",
    "        Shifted and cropped CQT spectrogram, shape (40, n_frames).\n",
    "    \"\"\"\n",
    "    # 1. Find which bin is closest to F0\n",
    "    F0[~voiced] = 0\n",
    "    offsets = np.argmin(np.abs(cqt_frequencies.reshape(-1, 1) - F0.reshape(1, -1)), axis=0)\n",
    "\n",
    "    # 2. Shift the spectrogram so that this bin appears near the top\n",
    "    #    Negative offset rolls elements upward (towards index 0).\n",
    "    S = np.array([np.roll(frame, -offset) for frame, offset in zip(S.T, offsets)]).T\n",
    "    return S[:40, voiced]"
   ]
  },
  {
   "cell_type": "code",
   "execution_count": 118,
   "id": "26d31aa5-6ce7-4f9c-899b-d89701e9b14c",
   "metadata": {},
   "outputs": [
    {
     "data": {
      "text/plain": [
       "<matplotlib.collections.PolyQuadMesh at 0x53260bf50>"
      ]
     },
     "execution_count": 118,
     "metadata": {},
     "output_type": "execute_result"
    },
    {
     "data": {
      "image/png": "[encoded data removed]",
      "text/plain": [
       "<Figure size 640x480 with 2 Axes>"
      ]
     },
     "metadata": {},
     "output_type": "display_data"
    }
   ],
   "source": [
    "plt.subplot(2, 1, 1)\n",
    "plt.pcolor(E_train.features['cqt'][0])\n",
    "chifted_cqt = shift_cqt_by_f0(E_train.features['cqt'][0], \n",
    "                              E_train.features['f0'][0], \n",
    "                              E_train.features['voiced'][0], \n",
    "                              cqt_frequencies)\n",
    "plt.subplot(2, 1, 2)\n",
    "plt.pcolor(chifted_cqt)"
   ]
  },
  {
   "cell_type": "code",
   "execution_count": 190,
   "id": "e998cab3-fb71-4e44-9412-7e39a4b6d541",
   "metadata": {},
   "outputs": [],
   "source": [
    "Extractor.register_extractor('overtones', lambda cqt, f0, voiced: \n",
    "                             shift_cqt_by_f0(cqt, f0, voiced, cqt_frequencies))\n",
    "Extractor.register_extractor('overtones_freq_mean', lambda overtones: \n",
    "                             np.mean(overtones, axis=1) if overtones.shape[1] > 0 else np.zeros(overtones.shape[0]))\n",
    "Extractor.register_extractor('overtones_freq_var', lambda overtones: \n",
    "                             np.var(overtones, axis=1) if overtones.shape[1] > 0 else np.zeros(overtones.shape[0]))\n",
    "Extractor.register_sklearn_extractor('overtones_freq_mean_svd', \n",
    "                                     ['overtones_freq_mean'], \n",
    "                                     TruncatedSVD(n_components=n_tsvd_components, n_iter=n_svd_iter, random_state=42))\n",
    "Extractor.register_sklearn_extractor('overtones_freq_var_svd', \n",
    "                                     ['overtones_freq_var'], \n",
    "                                     TruncatedSVD(n_components=n_tsvd_components, n_iter=n_svd_iter, random_state=42))"
   ]
  },
  {
   "cell_type": "code",
   "execution_count": 191,
   "id": "c5fb4a70-3f6c-4fb7-b18d-9c7d41ddfe89",
   "metadata": {},
   "outputs": [
    {
     "data": {
      "application/vnd.jupyter.widget-view+json": {
       "model_id": "e26647b7e63c40afa87d7005d09190f4",
       "version_major": 2,
       "version_minor": 0
      },
      "text/plain": [
       "overtones:   0%|          | 0/699 [00:00<?, ?it/s]"
      ]
     },
     "metadata": {},
     "output_type": "display_data"
    },
    {
     "data": {
      "application/vnd.jupyter.widget-view+json": {
       "model_id": "337bb4d9924f439e8113dc5eca53591e",
       "version_major": 2,
       "version_minor": 0
      },
      "text/plain": [
       "overtones_freq_mean:   0%|          | 0/699 [00:00<?, ?it/s]"
      ]
     },
     "metadata": {},
     "output_type": "display_data"
    },
    {
     "data": {
      "application/vnd.jupyter.widget-view+json": {
       "model_id": "59b36f953e7f47688f79795719ef6db6",
       "version_major": 2,
       "version_minor": 0
      },
      "text/plain": [
       "overtones_freq_var:   0%|          | 0/699 [00:00<?, ?it/s]"
      ]
     },
     "metadata": {},
     "output_type": "display_data"
    },
    {
     "data": {
      "application/vnd.jupyter.widget-view+json": {
       "model_id": "7ab6f505b8cd4c40a950cfdbd085c8a8",
       "version_major": 2,
       "version_minor": 0
      },
      "text/plain": [
       "overtones:   0%|          | 0/300 [00:00<?, ?it/s]"
      ]
     },
     "metadata": {},
     "output_type": "display_data"
    },
    {
     "data": {
      "application/vnd.jupyter.widget-view+json": {
       "model_id": "5672dfa2c5644f91bceccc9179df3f87",
       "version_major": 2,
       "version_minor": 0
      },
      "text/plain": [
       "overtones_freq_mean:   0%|          | 0/300 [00:00<?, ?it/s]"
      ]
     },
     "metadata": {},
     "output_type": "display_data"
    },
    {
     "data": {
      "application/vnd.jupyter.widget-view+json": {
       "model_id": "784b3b7be84d4be5b1042c04c58cce12",
       "version_major": 2,
       "version_minor": 0
      },
      "text/plain": [
       "overtones_freq_var:   0%|          | 0/300 [00:00<?, ?it/s]"
      ]
     },
     "metadata": {},
     "output_type": "display_data"
    }
   ],
   "source": [
    "E_train.soft_extract()\n",
    "E_eval.soft_extract()"
   ]
  },
  {
   "cell_type": "code",
   "execution_count": 194,
   "id": "91632cae-1530-413e-a095-b622a14afafd",
   "metadata": {},
   "outputs": [
    {
     "data": {
      "application/vnd.jupyter.widget-view+json": {
       "model_id": "addf31fd4ee846dba0317dc5eff28bff",
       "version_major": 2,
       "version_minor": 0
      },
      "text/plain": [
       "MetricVisualizer(layout=Layout(align_self='stretch', height='500px'))"
      ]
     },
     "metadata": {},
     "output_type": "display_data"
    },
    {
     "name": "stdout",
     "output_type": "stream",
     "text": [
      "0:\tlearn: 0.2861230\ttest: 0.2700000\tbest: 0.2700000 (0)\ttotal: 46ms\tremaining: 22.9s\n",
      "50:\tlearn: 0.7567954\ttest: 0.6466667\tbest: 0.6466667 (47)\ttotal: 534ms\tremaining: 4.7s\n",
      "100:\tlearn: 0.8512160\ttest: 0.6833333\tbest: 0.6900000 (94)\ttotal: 990ms\tremaining: 3.91s\n",
      "150:\tlearn: 0.8998569\ttest: 0.7133333\tbest: 0.7166667 (144)\ttotal: 1.52s\tremaining: 3.5s\n",
      "200:\tlearn: 0.9256080\ttest: 0.7400000\tbest: 0.7433333 (198)\ttotal: 1.96s\tremaining: 2.91s\n",
      "250:\tlearn: 0.9427754\ttest: 0.7433333\tbest: 0.7500000 (205)\ttotal: 2.39s\tremaining: 2.37s\n",
      "300:\tlearn: 0.9599428\ttest: 0.7466667\tbest: 0.7533333 (293)\ttotal: 2.81s\tremaining: 1.86s\n",
      "350:\tlearn: 0.9713877\ttest: 0.7600000\tbest: 0.7633333 (317)\ttotal: 3.22s\tremaining: 1.37s\n",
      "400:\tlearn: 0.9771102\ttest: 0.7833333\tbest: 0.7833333 (380)\ttotal: 3.73s\tremaining: 922ms\n",
      "450:\tlearn: 0.9899857\ttest: 0.7800000\tbest: 0.7833333 (380)\ttotal: 4.25s\tremaining: 462ms\n",
      "499:\tlearn: 0.9914163\ttest: 0.7800000\tbest: 0.7866667 (459)\ttotal: 4.68s\tremaining: 0us\n",
      "\n",
      "bestTest = 0.7866666667\n",
      "bestIteration = 459\n",
      "\n",
      "Shrink model to first 460 iterations.\n",
      "\n",
      "Classification Report:\n",
      "               precision    recall  f1-score   support\n",
      "\n",
      "       blues       0.86      0.80      0.83        30\n",
      "   classical       0.94      0.97      0.95        30\n",
      "     country       0.75      0.80      0.77        30\n",
      "       disco       0.85      0.73      0.79        30\n",
      "      hiphop       0.72      0.87      0.79        30\n",
      "        jazz       0.90      0.87      0.88        30\n",
      "       metal       0.82      0.77      0.79        30\n",
      "         pop       0.73      0.80      0.76        30\n",
      "      reggae       0.77      0.77      0.77        30\n",
      "        rock       0.56      0.50      0.53        30\n",
      "\n",
      "    accuracy                           0.79       300\n",
      "   macro avg       0.79      0.79      0.79       300\n",
      "weighted avg       0.79      0.79      0.79       300\n",
      "\n",
      "Evaluation Accuracy: 0.7867\n"
     ]
    }
   ],
   "source": [
    "features = ['rms', 'bpm',\n",
    "    'cqt_per_freq_mean_svd', 'cqt_per_freq_var_svd', \n",
    "    'harmonic_per_freq_mean_svd', 'harmonic_per_freq_var_svd', \n",
    "    'percussive_per_freq_mean_svd', 'percussive_per_freq_var_svd',\n",
    "    'mfcc_quef_mean', 'mfcc_quef_var', \n",
    "    'cqt_spectral_centroid_mean', 'cqt_spectral_centroid_var', \n",
    "    'cqt_chroma_mean', 'cqt_chroma_var', \n",
    "    'harmonic_chroma_freq_mean', 'harmonic_chroma_freq_var', \n",
    "    'cqt_rolloff_mean', 'cqt_rolloff_var', \n",
    "    'cqt_bandwidth_mean', 'cqt_bandwidth_var',\n",
    "    'percept_freq_mean_svd', 'percept_freq_var_svd',\n",
    "    'voiced_f0_mean', 'f0_var',\n",
    "    'overtones_freq_mean_svd', 'overtones_freq_var_svd']\n",
    "\n",
    "model, acc = train_and_evaluate_catboost(\n",
    "    idx_eval=E_eval.get_features(['idx'])[:,0],\n",
    "    X_train=E_train.get_features(features),\n",
    "    X_eval=E_eval.get_features(features),\n",
    "    y_train=E_train.get_features(['y'])[:,0], \n",
    "    y_eval=E_eval.get_features(['y'])[:,0],\n",
    ")"
   ]
  },
  {
   "cell_type": "raw",
   "id": "6f1c5ed5-1e9c-4089-a0ae-e73714b083d2",
   "metadata": {},
   "source": [
    "We extracted a lot of features, its time to leave out only the ones really needed. We could have used eval dataset to select the features, but that wouldn't be really fair, if our feature selection depends on eval dataset selection algorithm could overfit to it. So lets seporate train set again.\n"
   ]
  },
  {
   "cell_type": "code",
   "execution_count": null,
   "id": "d547e96d-04cd-4aec-b45e-def8a562d933",
   "metadata": {},
   "outputs": [],
   "source": [
    "model=select_features_catboost(feat_sel_x_train, feat_sel_x_eval, feat_sel_y_train, feat_sel_y_eval)"
   ]
  },
  {
   "cell_type": "code",
   "execution_count": 239,
   "id": "cdb0a529-ef43-4399-a32b-02596a91571d",
   "metadata": {},
   "outputs": [
    {
     "name": "stdout",
     "output_type": "stream",
     "text": [
      "\n",
      "Classification Report:\n",
      "               precision    recall  f1-score   support\n",
      "\n",
      "       blues       0.76      0.53      0.63        30\n",
      "   classical       0.85      0.93      0.89        30\n",
      "     country       0.77      0.77      0.77        30\n",
      "       disco       0.72      0.70      0.71        30\n",
      "      hiphop       0.59      0.73      0.66        30\n",
      "        jazz       0.84      0.90      0.87        30\n",
      "       metal       0.83      0.80      0.81        30\n",
      "         pop       0.69      0.67      0.68        30\n",
      "      reggae       0.68      0.70      0.69        30\n",
      "        rock       0.62      0.60      0.61        30\n",
      "\n",
      "    accuracy                           0.73       300\n",
      "   macro avg       0.74      0.73      0.73       300\n",
      "weighted avg       0.74      0.73      0.73       300\n",
      "\n",
      "Evaluation Accuracy: 0.7333\n"
     ]
    }
   ],
   "source": [
    "from sklearn.metrics import classification_report, accuracy_score\n",
    "predictions = model.predict(E_eval.get_features(features))[:, 0]\n",
    "eval_accuracy = accuracy_score(E_eval.get_features(['y'])[:,0], predictions)\n",
    "print(\"\\nClassification Report:\\n\", classification_report(E_eval.get_features(['y'])[:,0], predictions))\n",
    "print(f\"Evaluation Accuracy: {eval_accuracy:.4f}\")"
   ]
  },
  {
   "cell_type": "markdown",
   "id": "ed7d1d16-45ff-475d-80ec-6fcb7264da1e",
   "metadata": {},
   "source": [
    "ChatGPT query\n",
    "\n",
    "Write a python function with a following signature\n",
    "\n",
    "```\n",
    "rnd = np.random.default_rng(42)\n",
    "def crop_by_beats(beat, harmony_specs, percussion_specs, frames_per_beat = 4, number_of_beats=16, number_of_samples=8)\n",
    "    pass\n",
    "```\n",
    "\n",
    "beats is the integer array of frames at which there was a beat\n",
    "upsample beats , for two neighboring values insert frames_per_beat-1 values between them uniformly cropped to the nearest frame\n",
    "\n",
    "Next number_of_samples times sample starting position in the upsampled beats array and take number_of_beats * frames_per_beat consequent beats. Position must be sampled aligned to number_of_beats * frames_per_beat.\n",
    "\n",
    "harmony_specs is a list of several spectrograms with harmonic parts of melody.\n",
    "for each of harmony spec calculate the mean along time axis (axis = 1) between the consequent beats of the sample including the frames at which there was a beat\n",
    "\n",
    "percussion_specs is a list of several spectrograms with percussion parts of melody. For each of percussion spec calculate the downsampled spectrogram as with harmony specs but shift the spectrogram so that the first sample was centered at the beat. The resulting length must be the same\n",
    "\n",
    "return list of tuples containing downsampled spectrograms"
   ]
  },
  {
   "cell_type": "code",
   "execution_count": 18,
   "id": "c6db06bb-4ad3-4406-86d5-a924add6b614",
   "metadata": {},
   "outputs": [],
   "source": [
    "rnd = np.random.default_rng(42)\n",
    "\n",
    "def crop_by_beats(\n",
    "    beat,\n",
    "    harmony_specs,\n",
    "    percussion_specs,\n",
    "    frames_per_beat=4,\n",
    "    number_of_beats=8,\n",
    "    number_of_samples=8\n",
    "):\n",
    "    \"\"\"\n",
    "    Upsample the array of integer beat positions and then randomly extract \n",
    "    (number_of_samples) chunks of length (number_of_beats * frames_per_beat).\n",
    "    \n",
    "    For each chunk, compute the downsampled spectrogram:\n",
    "      - For harmonic specs: take the mean along the time axis (axis=1) \n",
    "        between consecutive upsampled-beat boundaries.\n",
    "      - For percussion specs: take the mean along the time axis over intervals \n",
    "        shifted so that each is centered at the corresponding upsampled beat.\n",
    "    \n",
    "    Parameters\n",
    "    ----------\n",
    "    beat : 1D array-like of int\n",
    "        Array of frame indices at which a beat occurs. Must be strictly increasing.\n",
    "    harmony_specs : list of np.ndarray\n",
    "        Each element is a spectrogram for a harmonic component with shape \n",
    "        (freq_bins, time_frames).\n",
    "    percussion_specs : list of np.ndarray\n",
    "        Each element is a spectrogram for a percussion component with shape \n",
    "        (freq_bins, time_frames).\n",
    "    frames_per_beat : int\n",
    "        Number of subdivisions per original beat when upsampling.\n",
    "    number_of_beats : int\n",
    "        How many beats (in terms of upsampled subdivisions) to include in each chunk.\n",
    "    number_of_samples : int\n",
    "        How many random chunks to extract.\n",
    "    \n",
    "    Returns\n",
    "    -------\n",
    "    list of tuples\n",
    "        A list (of length `number_of_samples`). Each element is:\n",
    "        \n",
    "            (harmony_downsampled_list, percussion_downsampled_list)\n",
    "        \n",
    "        where `harmony_downsampled_list` and `percussion_downsampled_list` are each \n",
    "        lists of spectrograms (in the same order as `harmony_specs` and \n",
    "        `percussion_specs`). Each downsampled spectrogram has shape:\n",
    "        \n",
    "            (freq_bins, number_of_beats * frames_per_beat)\n",
    "    \"\"\"\n",
    "    \n",
    "    # 1) Upsample 'beat' by inserting (frames_per_beat - 1) points \n",
    "    #    uniformly between each pair of consecutive beats.\n",
    "    up_beats = []\n",
    "    beat = np.array(beat, dtype=int)\n",
    "    for i in range(len(beat) - 1):\n",
    "        start = beat[i]\n",
    "        end = beat[i + 1]\n",
    "        diff = end - start\n",
    "        \n",
    "        # Insert frames_per_beat subdivisions between start and end, \n",
    "        # snapping to the nearest integer frame.\n",
    "        for k in range(frames_per_beat):\n",
    "            val = start + round(k * diff / frames_per_beat)\n",
    "            # Avoid duplicates if rounding yields same as last appended\n",
    "            if not up_beats or val != up_beats[-1]:\n",
    "                up_beats.append(val)\n",
    "    \n",
    "    up_beats = np.array(up_beats, dtype=int)\n",
    "    \n",
    "    # 2) We need (number_of_beats * frames_per_beat + 1) upsampled-beat \n",
    "    #    positions for each chunk (the +1 is because we need the right boundary).\n",
    "    needed_length = number_of_beats * frames_per_beat + 1\n",
    "    total_upsampled = len(up_beats)\n",
    "    \n",
    "    # If we cannot extract even one chunk, return empty\n",
    "    max_start = total_upsampled - needed_length\n",
    "    if max_start < 0:\n",
    "        return []\n",
    "    \n",
    "    # Possible start indices must be multiples of (4 * frames_per_beat)\n",
    "    # so that each chunk is \"aligned\".\n",
    "    stride = 4 * frames_per_beat\n",
    "    possible_starts = np.arange(0, max_start + 1, stride)\n",
    "    \n",
    "    # Randomly choose 'number_of_samples' start indices from these possibilities\n",
    "    chosen_starts = rnd.choice(possible_starts, size=number_of_samples, replace=True)\n",
    "    \n",
    "    results = []\n",
    "    for start_idx in chosen_starts:\n",
    "        # Boundaries for this sample\n",
    "        boundary_points = up_beats[start_idx : start_idx + needed_length]\n",
    "        # === 3) Downsample each harmony spec ===\n",
    "        harmony_downsampled = []\n",
    "        harmony_sampled = []\n",
    "        for spec in harmony_specs:\n",
    "            # spec has shape (freq_bins, time_frames)\n",
    "            freq_bins = spec.shape[0]\n",
    "            \n",
    "            # We'll get (number_of_beats * frames_per_beat) intervals\n",
    "            ds_harm = np.zeros((freq_bins, number_of_beats * frames_per_beat),\n",
    "                               dtype=spec.dtype)\n",
    "            for j in range(number_of_beats * frames_per_beat):\n",
    "                left = boundary_points[j]\n",
    "                right = boundary_points[j + 1]\n",
    "                # Take the average along axis=1 (time axis)\n",
    "                ds_harm[:, j] = spec[:, left:right].mean(axis=1)\n",
    "\n",
    "            harmony_downsampled.append(ds_harm)\n",
    "            harmony_sampled.append(spec[:,boundary_points[0]:boundary_points[-1]])\n",
    "        \n",
    "        # === 4) Downsample each percussion spec with centering ===\n",
    "        percussion_downsampled = []\n",
    "        percussion_sampled = []\n",
    "        for spec in percussion_specs:\n",
    "            \n",
    "            freq_bins = spec.shape[0]\n",
    "            ds_perc = np.zeros((freq_bins, number_of_beats * frames_per_beat),\n",
    "                               dtype=spec.dtype)\n",
    "\n",
    "            first_left = None\n",
    "            old_right = None\n",
    "            for j in range(number_of_beats * frames_per_beat):\n",
    "                dist = boundary_points[j + 1] - boundary_points[j]\n",
    "                right = boundary_points[j + 1] - dist // 2\n",
    "                if old_right is None:\n",
    "                    left = boundary_points[j] - dist // 2\n",
    "                    if left < 0:\n",
    "                        left = 0\n",
    "                    first_left = left\n",
    "                else:\n",
    "                    left = old_right\n",
    "                old_right = right\n",
    "\n",
    "                # Average over the time axis in [left, right)\n",
    "                chunk = spec[:, left:right]\n",
    "                ds_perc[:, j] = chunk.mean(axis=1)\n",
    "\n",
    "            percussion_downsampled.append(ds_perc)\n",
    "            percussion_sampled.append(spec[:,first_left:old_right])\n",
    "        \n",
    "        # One result entry = (list_of_downsampled_harmony_specs, list_of_downsampled_percussion_specs)\n",
    "        results.append((harmony_downsampled, percussion_downsampled, harmony_sampled, percussion_sampled))\n",
    "    return results"
   ]
  },
  {
   "cell_type": "code",
   "execution_count": 19,
   "id": "2f127a9d-846b-463b-a674-7295da842e3a",
   "metadata": {},
   "outputs": [],
   "source": [
    "Extractor.register_extractor('sample', \n",
    "                             lambda beat, cqt, harmonic, mfcc, percussive: \n",
    "                             crop_by_beats(\n",
    "                                 beat=beat, \n",
    "                                 harmony_specs=[cqt, harmonic, mfcc], \n",
    "                                 percussion_specs=[percussive]\n",
    "                             ), shuffle=True, map_labels=[\n",
    "                                 ('idx', 's_idx'), \n",
    "                                 ('y', 's_y'), \n",
    "                                 ('stats', 's_stats'), \n",
    "                                 ('bpm', 's_bpm'),\n",
    "                                 ('rms', 's_rms')\n",
    "                             ])\n",
    "Extractor.register_extractor('ds_cqt', lambda sample: sample[0][0])\n",
    "Extractor.register_extractor('ds_harmonic', lambda sample: sample[0][1])\n",
    "Extractor.register_extractor('ds_mfcc', lambda sample: sample[0][2])\n",
    "Extractor.register_extractor('ds_percussive', lambda sample: sample[1][0])\n",
    "Extractor.register_extractor('s_cqt', lambda sample: sample[2][0])\n",
    "Extractor.register_extractor('s_harmonic', lambda sample: sample[2][1])\n",
    "Extractor.register_extractor('s_mfcc', lambda sample: sample[2][2])\n",
    "Extractor.register_extractor('s_percussive', lambda sample: sample[3][0])"
   ]
  },
  {
   "cell_type": "code",
   "execution_count": 20,
   "id": "08d2c32d-712c-4928-9df0-0a93b73120c5",
   "metadata": {},
   "outputs": [
    {
     "data": {
      "application/vnd.jupyter.widget-view+json": {
       "model_id": "5d474f02539a49b9a95f394e9218ccd1",
       "version_major": 2,
       "version_minor": 0
      },
      "text/plain": [
       "sample:   0%|          | 0/699 [00:00<?, ?it/s]"
      ]
     },
     "metadata": {},
     "output_type": "display_data"
    },
    {
     "data": {
      "application/vnd.jupyter.widget-view+json": {
       "model_id": "f51b488bfc1442d8b2bbe3b88497fbe3",
       "version_major": 2,
       "version_minor": 0
      },
      "text/plain": [
       "ds_cqt:   0%|          | 0/5592 [00:00<?, ?it/s]"
      ]
     },
     "metadata": {},
     "output_type": "display_data"
    },
    {
     "data": {
      "application/vnd.jupyter.widget-view+json": {
       "model_id": "ef67178f0d164465b3ac04af14bcb149",
       "version_major": 2,
       "version_minor": 0
      },
      "text/plain": [
       "ds_harmonic:   0%|          | 0/5592 [00:00<?, ?it/s]"
      ]
     },
     "metadata": {},
     "output_type": "display_data"
    },
    {
     "data": {
      "application/vnd.jupyter.widget-view+json": {
       "model_id": "862435b13ff54ba8bee9f3e49d9f7df5",
       "version_major": 2,
       "version_minor": 0
      },
      "text/plain": [
       "ds_mfcc:   0%|          | 0/5592 [00:00<?, ?it/s]"
      ]
     },
     "metadata": {},
     "output_type": "display_data"
    },
    {
     "data": {
      "application/vnd.jupyter.widget-view+json": {
       "model_id": "e2e47383905e461ca6bed0d8ffda8980",
       "version_major": 2,
       "version_minor": 0
      },
      "text/plain": [
       "ds_percussive:   0%|          | 0/5592 [00:00<?, ?it/s]"
      ]
     },
     "metadata": {},
     "output_type": "display_data"
    },
    {
     "data": {
      "application/vnd.jupyter.widget-view+json": {
       "model_id": "cca5aa64c52b425facb101e6584fd020",
       "version_major": 2,
       "version_minor": 0
      },
      "text/plain": [
       "s_cqt:   0%|          | 0/5592 [00:00<?, ?it/s]"
      ]
     },
     "metadata": {},
     "output_type": "display_data"
    },
    {
     "data": {
      "application/vnd.jupyter.widget-view+json": {
       "model_id": "f45a2e9af1434fff8d5068b19b10f078",
       "version_major": 2,
       "version_minor": 0
      },
      "text/plain": [
       "s_harmonic:   0%|          | 0/5592 [00:00<?, ?it/s]"
      ]
     },
     "metadata": {},
     "output_type": "display_data"
    },
    {
     "data": {
      "application/vnd.jupyter.widget-view+json": {
       "model_id": "5df7e681347542cb9a150de7fdf97195",
       "version_major": 2,
       "version_minor": 0
      },
      "text/plain": [
       "s_mfcc:   0%|          | 0/5592 [00:00<?, ?it/s]"
      ]
     },
     "metadata": {},
     "output_type": "display_data"
    },
    {
     "data": {
      "application/vnd.jupyter.widget-view+json": {
       "model_id": "e6fb7c22dae3410195dce82f18fb8fcb",
       "version_major": 2,
       "version_minor": 0
      },
      "text/plain": [
       "s_percussive:   0%|          | 0/5592 [00:00<?, ?it/s]"
      ]
     },
     "metadata": {},
     "output_type": "display_data"
    },
    {
     "data": {
      "application/vnd.jupyter.widget-view+json": {
       "model_id": "3d6c543efca145ebb26a741f9fc25cd5",
       "version_major": 2,
       "version_minor": 0
      },
      "text/plain": [
       "sample:   0%|          | 0/300 [00:00<?, ?it/s]"
      ]
     },
     "metadata": {},
     "output_type": "display_data"
    },
    {
     "data": {
      "application/vnd.jupyter.widget-view+json": {
       "model_id": "b26e246aa1454487998a1d4b45ab8b79",
       "version_major": 2,
       "version_minor": 0
      },
      "text/plain": [
       "ds_cqt:   0%|          | 0/2400 [00:00<?, ?it/s]"
      ]
     },
     "metadata": {},
     "output_type": "display_data"
    },
    {
     "data": {
      "application/vnd.jupyter.widget-view+json": {
       "model_id": "aa20201572324f608d2418647999abfc",
       "version_major": 2,
       "version_minor": 0
      },
      "text/plain": [
       "ds_harmonic:   0%|          | 0/2400 [00:00<?, ?it/s]"
      ]
     },
     "metadata": {},
     "output_type": "display_data"
    },
    {
     "data": {
      "application/vnd.jupyter.widget-view+json": {
       "model_id": "d658347d41e3439db371e1adbe887883",
       "version_major": 2,
       "version_minor": 0
      },
      "text/plain": [
       "ds_mfcc:   0%|          | 0/2400 [00:00<?, ?it/s]"
      ]
     },
     "metadata": {},
     "output_type": "display_data"
    },
    {
     "data": {
      "application/vnd.jupyter.widget-view+json": {
       "model_id": "0525d7b784aa4a5aae48daa80672caa5",
       "version_major": 2,
       "version_minor": 0
      },
      "text/plain": [
       "ds_percussive:   0%|          | 0/2400 [00:00<?, ?it/s]"
      ]
     },
     "metadata": {},
     "output_type": "display_data"
    },
    {
     "data": {
      "application/vnd.jupyter.widget-view+json": {
       "model_id": "3b0cfa8e718943398a1563faa43132af",
       "version_major": 2,
       "version_minor": 0
      },
      "text/plain": [
       "s_cqt:   0%|          | 0/2400 [00:00<?, ?it/s]"
      ]
     },
     "metadata": {},
     "output_type": "display_data"
    },
    {
     "data": {
      "application/vnd.jupyter.widget-view+json": {
       "model_id": "0ac1cb668c3942a6b8a6850e5cbb576d",
       "version_major": 2,
       "version_minor": 0
      },
      "text/plain": [
       "s_harmonic:   0%|          | 0/2400 [00:00<?, ?it/s]"
      ]
     },
     "metadata": {},
     "output_type": "display_data"
    },
    {
     "data": {
      "application/vnd.jupyter.widget-view+json": {
       "model_id": "2b0df404b46e40c9811b8fb9ebb51ae5",
       "version_major": 2,
       "version_minor": 0
      },
      "text/plain": [
       "s_mfcc:   0%|          | 0/2400 [00:00<?, ?it/s]"
      ]
     },
     "metadata": {},
     "output_type": "display_data"
    },
    {
     "data": {
      "application/vnd.jupyter.widget-view+json": {
       "model_id": "a5d7b2d0198e4792b9c57b622eb012fd",
       "version_major": 2,
       "version_minor": 0
      },
      "text/plain": [
       "s_percussive:   0%|          | 0/2400 [00:00<?, ?it/s]"
      ]
     },
     "metadata": {},
     "output_type": "display_data"
    }
   ],
   "source": [
    "E_train.soft_extract()\n",
    "E_eval.soft_extract()"
   ]
  },
  {
   "cell_type": "code",
   "execution_count": 21,
   "id": "1026d150-35ad-4cd4-b44a-f3e75a8c03cb",
   "metadata": {},
   "outputs": [],
   "source": [
    "Extractor.register_extractor('cqt_per_freq_stats', \n",
    "                             lambda s_cqt: np.hstack([s_cqt.mean(axis=1), s_cqt.var(axis=1)]))\n",
    "Extractor.register_extractor('harmonic_per_freq_stats', \n",
    "                             lambda s_harmonic: np.hstack([s_harmonic.mean(axis=1), s_harmonic.var(axis=1)]))\n",
    "Extractor.register_extractor('percussive_per_freq_stats', \n",
    "                             lambda s_percussive: np.hstack([s_percussive.mean(axis=1), s_percussive.var(axis=1)]))\n",
    "Extractor.register_extractor('percussive_beat_frames', \n",
    "                             lambda ds_percussive: ds_percussive.mean(axis=0))"
   ]
  },
  {
   "cell_type": "code",
   "execution_count": 22,
   "id": "b471db37-be83-4d88-9feb-2fb4655e3cc0",
   "metadata": {},
   "outputs": [
    {
     "data": {
      "application/vnd.jupyter.widget-view+json": {
       "model_id": "8bf07eae637c43ec92fab523e1f77aab",
       "version_major": 2,
       "version_minor": 0
      },
      "text/plain": [
       "cqt_per_freq_stats:   0%|          | 0/5592 [00:00<?, ?it/s]"
      ]
     },
     "metadata": {},
     "output_type": "display_data"
    },
    {
     "data": {
      "application/vnd.jupyter.widget-view+json": {
       "model_id": "f7b3cae44e554a8088a7df776764f42e",
       "version_major": 2,
       "version_minor": 0
      },
      "text/plain": [
       "harmonic_per_freq_stats:   0%|          | 0/5592 [00:00<?, ?it/s]"
      ]
     },
     "metadata": {},
     "output_type": "display_data"
    },
    {
     "data": {
      "application/vnd.jupyter.widget-view+json": {
       "model_id": "279c9f2d488049d8b343f24a4f7dab7b",
       "version_major": 2,
       "version_minor": 0
      },
      "text/plain": [
       "percussive_per_freq_stats:   0%|          | 0/5592 [00:00<?, ?it/s]"
      ]
     },
     "metadata": {},
     "output_type": "display_data"
    },
    {
     "data": {
      "application/vnd.jupyter.widget-view+json": {
       "model_id": "07b3e7e8de0243ba802770e0293353ae",
       "version_major": 2,
       "version_minor": 0
      },
      "text/plain": [
       "percussive_beat_frames:   0%|          | 0/5592 [00:00<?, ?it/s]"
      ]
     },
     "metadata": {},
     "output_type": "display_data"
    },
    {
     "data": {
      "application/vnd.jupyter.widget-view+json": {
       "model_id": "e689fd2316ad44c9b759114dec62bb88",
       "version_major": 2,
       "version_minor": 0
      },
      "text/plain": [
       "cqt_per_freq_stats:   0%|          | 0/2400 [00:00<?, ?it/s]"
      ]
     },
     "metadata": {},
     "output_type": "display_data"
    },
    {
     "data": {
      "application/vnd.jupyter.widget-view+json": {
       "model_id": "5d181ccfe3b5487ab0964477b6860c35",
       "version_major": 2,
       "version_minor": 0
      },
      "text/plain": [
       "harmonic_per_freq_stats:   0%|          | 0/2400 [00:00<?, ?it/s]"
      ]
     },
     "metadata": {},
     "output_type": "display_data"
    },
    {
     "data": {
      "application/vnd.jupyter.widget-view+json": {
       "model_id": "ed15c27c4b7246e3b514f1d2aeb18bea",
       "version_major": 2,
       "version_minor": 0
      },
      "text/plain": [
       "percussive_per_freq_stats:   0%|          | 0/2400 [00:00<?, ?it/s]"
      ]
     },
     "metadata": {},
     "output_type": "display_data"
    },
    {
     "data": {
      "application/vnd.jupyter.widget-view+json": {
       "model_id": "372809eb75684cc8b570076b1c3f6d8f",
       "version_major": 2,
       "version_minor": 0
      },
      "text/plain": [
       "percussive_beat_frames:   0%|          | 0/2400 [00:00<?, ?it/s]"
      ]
     },
     "metadata": {},
     "output_type": "display_data"
    }
   ],
   "source": [
    "E_train.soft_extract()\n",
    "E_eval.soft_extract()"
   ]
  },
  {
   "cell_type": "code",
   "execution_count": 23,
   "id": "644ef256-d4d3-4790-ba47-cfe7e1d61b9d",
   "metadata": {},
   "outputs": [
    {
     "data": {
      "application/vnd.jupyter.widget-view+json": {
       "model_id": "e5f980e78b664c75b46c55dff3fe2932",
       "version_major": 2,
       "version_minor": 0
      },
      "text/plain": [
       "MetricVisualizer(layout=Layout(align_self='stretch', height='500px'))"
      ]
     },
     "metadata": {},
     "output_type": "display_data"
    },
    {
     "name": "stdout",
     "output_type": "stream",
     "text": [
      "0:\tlearn: 0.2945279\ttest: 0.2991667\tbest: 0.2991667 (0)\ttotal: 70.2ms\tremaining: 35s\n",
      "50:\tlearn: 0.6471745\ttest: 0.5579167\tbest: 0.5604167 (46)\ttotal: 1.63s\tremaining: 14.3s\n",
      "100:\tlearn: 0.7446352\ttest: 0.6025000\tbest: 0.6087500 (96)\ttotal: 3.03s\tremaining: 12s\n",
      "150:\tlearn: 0.8068670\ttest: 0.6304167\tbest: 0.6308333 (148)\ttotal: 4.35s\tremaining: 10.1s\n",
      "200:\tlearn: 0.8513948\ttest: 0.6562500\tbest: 0.6562500 (199)\ttotal: 6.09s\tremaining: 9.07s\n",
      "250:\tlearn: 0.8769671\ttest: 0.6625000\tbest: 0.6654167 (230)\ttotal: 7.77s\tremaining: 7.71s\n",
      "300:\tlearn: 0.8986052\ttest: 0.6725000\tbest: 0.6758333 (293)\ttotal: 9.4s\tremaining: 6.22s\n",
      "350:\tlearn: 0.9155937\ttest: 0.6833333\tbest: 0.6837500 (348)\ttotal: 11.2s\tremaining: 4.76s\n",
      "400:\tlearn: 0.9298999\ttest: 0.6779167\tbest: 0.6841667 (360)\ttotal: 12.9s\tremaining: 3.19s\n",
      "450:\tlearn: 0.9397353\ttest: 0.6829167\tbest: 0.6841667 (360)\ttotal: 14.3s\tremaining: 1.55s\n",
      "499:\tlearn: 0.9481402\ttest: 0.6887500\tbest: 0.6887500 (483)\ttotal: 15.6s\tremaining: 0us\n",
      "\n",
      "bestTest = 0.68875\n",
      "bestIteration = 483\n",
      "\n",
      "Shrink model to first 484 iterations.\n",
      "\n",
      "Classification Report:\n",
      "               precision    recall  f1-score   support\n",
      "\n",
      "       blues       0.78      0.70      0.74        30\n",
      "   classical       0.85      0.93      0.89        30\n",
      "     country       0.70      0.70      0.70        30\n",
      "       disco       0.86      0.60      0.71        30\n",
      "      hiphop       0.74      0.83      0.78        30\n",
      "        jazz       0.78      0.83      0.81        30\n",
      "       metal       0.82      0.77      0.79        30\n",
      "         pop       0.63      0.73      0.68        30\n",
      "      reggae       0.71      0.80      0.75        30\n",
      "        rock       0.46      0.40      0.43        30\n",
      "\n",
      "    accuracy                           0.73       300\n",
      "   macro avg       0.73      0.73      0.73       300\n",
      "weighted avg       0.73      0.73      0.73       300\n",
      "\n",
      "Evaluation Accuracy: 0.7300\n"
     ]
    }
   ],
   "source": [
    "features = ['cqt_per_freq_stats', 'harmonic_per_freq_stats', 'percussive_per_freq_stats', 'percussive_beat_frames']\n",
    "model, acc = train_and_evaluate_catboost(\n",
    "    idx_eval=E_eval.get_features(['s_idx'])[:,0],\n",
    "    X_train=E_train.get_features(features),\n",
    "    X_eval=E_eval.get_features(features),\n",
    "    y_train=E_train.get_features(['s_y'])[:,0], \n",
    "    y_eval=E_eval.get_features(['s_y'])[:,0]\n",
    ")"
   ]
  },
  {
   "cell_type": "code",
   "execution_count": 24,
   "id": "14c48a78-b01c-4aa6-835e-a98ab7cff752",
   "metadata": {},
   "outputs": [
    {
     "data": {
      "text/html": [
       "<div>\n",
       "<style scoped>\n",
       "    .dataframe tbody tr th:only-of-type {\n",
       "        vertical-align: middle;\n",
       "    }\n",
       "\n",
       "    .dataframe tbody tr th {\n",
       "        vertical-align: top;\n",
       "    }\n",
       "\n",
       "    .dataframe thead th {\n",
       "        text-align: right;\n",
       "    }\n",
       "</style>\n",
       "<table border=\"1\" class=\"dataframe\">\n",
       "  <thead>\n",
       "    <tr style=\"text-align: right;\">\n",
       "      <th></th>\n",
       "      <th>importance</th>\n",
       "    </tr>\n",
       "  </thead>\n",
       "  <tbody>\n",
       "    <tr>\n",
       "      <th>percussive_per_freq_stats_13</th>\n",
       "      <td>1.860962</td>\n",
       "    </tr>\n",
       "    <tr>\n",
       "      <th>percussive_per_freq_stats_102</th>\n",
       "      <td>1.800169</td>\n",
       "    </tr>\n",
       "    <tr>\n",
       "      <th>percussive_per_freq_stats_100</th>\n",
       "      <td>1.713587</td>\n",
       "    </tr>\n",
       "    <tr>\n",
       "      <th>percussive_per_freq_stats_92</th>\n",
       "      <td>1.485996</td>\n",
       "    </tr>\n",
       "    <tr>\n",
       "      <th>percussive_per_freq_stats_24</th>\n",
       "      <td>1.332584</td>\n",
       "    </tr>\n",
       "    <tr>\n",
       "      <th>percussive_per_freq_stats_16</th>\n",
       "      <td>1.081001</td>\n",
       "    </tr>\n",
       "    <tr>\n",
       "      <th>cqt_per_freq_stats_100</th>\n",
       "      <td>1.058225</td>\n",
       "    </tr>\n",
       "    <tr>\n",
       "      <th>percussive_per_freq_stats_111</th>\n",
       "      <td>1.001478</td>\n",
       "    </tr>\n",
       "    <tr>\n",
       "      <th>harmonic_per_freq_stats_80</th>\n",
       "      <td>0.989797</td>\n",
       "    </tr>\n",
       "    <tr>\n",
       "      <th>percussive_per_freq_stats_94</th>\n",
       "      <td>0.945060</td>\n",
       "    </tr>\n",
       "    <tr>\n",
       "      <th>cqt_per_freq_stats_32</th>\n",
       "      <td>0.921678</td>\n",
       "    </tr>\n",
       "    <tr>\n",
       "      <th>harmonic_per_freq_stats_74</th>\n",
       "      <td>0.903283</td>\n",
       "    </tr>\n",
       "    <tr>\n",
       "      <th>harmonic_per_freq_stats_167</th>\n",
       "      <td>0.857376</td>\n",
       "    </tr>\n",
       "    <tr>\n",
       "      <th>harmonic_per_freq_stats_7</th>\n",
       "      <td>0.846477</td>\n",
       "    </tr>\n",
       "    <tr>\n",
       "      <th>harmonic_per_freq_stats_28</th>\n",
       "      <td>0.830516</td>\n",
       "    </tr>\n",
       "  </tbody>\n",
       "</table>\n",
       "</div>"
      ],
      "text/plain": [
       "                               importance\n",
       "percussive_per_freq_stats_13     1.860962\n",
       "percussive_per_freq_stats_102    1.800169\n",
       "percussive_per_freq_stats_100    1.713587\n",
       "percussive_per_freq_stats_92     1.485996\n",
       "percussive_per_freq_stats_24     1.332584\n",
       "percussive_per_freq_stats_16     1.081001\n",
       "cqt_per_freq_stats_100           1.058225\n",
       "percussive_per_freq_stats_111    1.001478\n",
       "harmonic_per_freq_stats_80       0.989797\n",
       "percussive_per_freq_stats_94     0.945060\n",
       "cqt_per_freq_stats_32            0.921678\n",
       "harmonic_per_freq_stats_74       0.903283\n",
       "harmonic_per_freq_stats_167      0.857376\n",
       "harmonic_per_freq_stats_7        0.846477\n",
       "harmonic_per_freq_stats_28       0.830516"
      ]
     },
     "execution_count": 24,
     "metadata": {},
     "output_type": "execute_result"
    }
   ],
   "source": [
    "pd.DataFrame(\n",
    "    data=model.feature_importances_, \n",
    "    index=E_train.get_feature_names_vector(features), \n",
    "    columns=['importance']\n",
    ").sort_values(by='importance', ascending=False).head(15)"
   ]
  },
  {
   "cell_type": "code",
   "execution_count": 25,
   "id": "02bb29bb-9873-4ce1-a9ee-0fd7c07d9bf5",
   "metadata": {},
   "outputs": [
    {
     "data": {
      "image/png": "[encoded data removed]",
      "text/plain": [
       "<Figure size 1000x700 with 9 Axes>"
      ]
     },
     "metadata": {},
     "output_type": "display_data"
    }
   ],
   "source": [
    "# It looks like the one of the most important features are high frequencies of drums, which is the last thing I expected. Lets check pictures:\n",
    "s_y = E_train.get_features(['s_y'])[:, 0]\n",
    "jazz_idx = np.where(s_y == 'jazz')[0][:3]\n",
    "rock_idx = np.where(s_y == 'rock')[0][:3]\n",
    "hip_hop_idx = np.where(s_y == 'hiphop')[0][:3]\n",
    "\n",
    "plt.figure().set_size_inches(10, 7)\n",
    "for pos, idx in enumerate(np.hstack([jazz_idx, rock_idx, hip_hop_idx])):\n",
    "    plt.subplot(3, 3, pos + 1)\n",
    "    plt.plot(E_train.features['percussive_per_freq_stats'][idx])"
   ]
  },
  {
   "cell_type": "code",
   "execution_count": 26,
   "id": "cc85719d-ff24-45e1-b0d1-9b12f1970add",
   "metadata": {},
   "outputs": [
    {
     "data": {
      "application/vnd.jupyter.widget-view+json": {
       "model_id": "1bef0adb9e3e45a4b3897df0ed5bff16",
       "version_major": 2,
       "version_minor": 0
      },
      "text/plain": [
       "MetricVisualizer(layout=Layout(align_self='stretch', height='500px'))"
      ]
     },
     "metadata": {},
     "output_type": "display_data"
    },
    {
     "name": "stdout",
     "output_type": "stream",
     "text": [
      "0:\tlearn: 0.3041845\ttest: 0.2945833\tbest: 0.2945833 (0)\ttotal: 83.4ms\tremaining: 41.6s\n",
      "50:\tlearn: 0.6491416\ttest: 0.5650000\tbest: 0.5650000 (50)\ttotal: 1.79s\tremaining: 15.8s\n",
      "100:\tlearn: 0.7548283\ttest: 0.6270833\tbest: 0.6283333 (99)\ttotal: 3.33s\tremaining: 13.2s\n",
      "150:\tlearn: 0.8215308\ttest: 0.6466667\tbest: 0.6466667 (150)\ttotal: 4.68s\tremaining: 10.8s\n",
      "200:\tlearn: 0.8524678\ttest: 0.6583333\tbest: 0.6591667 (199)\ttotal: 6s\tremaining: 8.92s\n",
      "250:\tlearn: 0.8864449\ttest: 0.6708333\tbest: 0.6725000 (226)\ttotal: 7.59s\tremaining: 7.53s\n",
      "300:\tlearn: 0.9086195\ttest: 0.6754167\tbest: 0.6766667 (291)\ttotal: 9.23s\tremaining: 6.1s\n",
      "350:\tlearn: 0.9257868\ttest: 0.6795833\tbest: 0.6800000 (336)\ttotal: 10.6s\tremaining: 4.5s\n",
      "400:\tlearn: 0.9406295\ttest: 0.6883333\tbest: 0.6883333 (400)\ttotal: 12s\tremaining: 2.96s\n",
      "450:\tlearn: 0.9502861\ttest: 0.6883333\tbest: 0.6891667 (408)\ttotal: 13.4s\tremaining: 1.46s\n",
      "499:\tlearn: 0.9565451\ttest: 0.6879167\tbest: 0.6904167 (481)\ttotal: 15.1s\tremaining: 0us\n",
      "\n",
      "bestTest = 0.6904166667\n",
      "bestIteration = 481\n",
      "\n",
      "Shrink model to first 482 iterations.\n",
      "\n",
      "Classification Report:\n",
      "               precision    recall  f1-score   support\n",
      "\n",
      "       blues       0.88      0.70      0.78        30\n",
      "   classical       0.82      0.93      0.88        30\n",
      "     country       0.68      0.63      0.66        30\n",
      "       disco       0.82      0.60      0.69        30\n",
      "      hiphop       0.68      0.70      0.69        30\n",
      "        jazz       0.81      0.87      0.84        30\n",
      "       metal       0.81      0.73      0.77        30\n",
      "         pop       0.59      0.73      0.66        30\n",
      "      reggae       0.68      0.77      0.72        30\n",
      "        rock       0.48      0.50      0.49        30\n",
      "\n",
      "    accuracy                           0.72       300\n",
      "   macro avg       0.73      0.72      0.72       300\n",
      "weighted avg       0.73      0.72      0.72       300\n",
      "\n",
      "Evaluation Accuracy: 0.7167\n"
     ]
    }
   ],
   "source": [
    "# Lets add BPM and RMS\n",
    "\n",
    "features = ['s_rms', 's_bpm', 'cqt_per_freq_stats', 'harmonic_per_freq_stats', 'percussive_per_freq_stats', 'percussive_beat_frames']\n",
    "model, acc = train_and_evaluate_catboost(\n",
    "    idx_eval=E_eval.get_features(['s_idx'])[:,0],\n",
    "    X_train=E_train.get_features(features),\n",
    "    X_eval=E_eval.get_features(features),\n",
    "    y_train=E_train.get_features(['s_y'])[:,0], \n",
    "    y_eval=E_eval.get_features(['s_y'])[:,0]\n",
    ")"
   ]
  },
  {
   "cell_type": "code",
   "execution_count": 27,
   "id": "374ecf68-70ea-43ce-b820-bff26fad26bb",
   "metadata": {},
   "outputs": [
    {
     "data": {
      "text/html": [
       "<div>\n",
       "<style scoped>\n",
       "    .dataframe tbody tr th:only-of-type {\n",
       "        vertical-align: middle;\n",
       "    }\n",
       "\n",
       "    .dataframe tbody tr th {\n",
       "        vertical-align: top;\n",
       "    }\n",
       "\n",
       "    .dataframe thead th {\n",
       "        text-align: right;\n",
       "    }\n",
       "</style>\n",
       "<table border=\"1\" class=\"dataframe\">\n",
       "  <thead>\n",
       "    <tr style=\"text-align: right;\">\n",
       "      <th></th>\n",
       "      <th>importance</th>\n",
       "    </tr>\n",
       "  </thead>\n",
       "  <tbody>\n",
       "    <tr>\n",
       "      <th>s_bpm_0</th>\n",
       "      <td>2.990165</td>\n",
       "    </tr>\n",
       "    <tr>\n",
       "      <th>s_rms_0</th>\n",
       "      <td>2.505802</td>\n",
       "    </tr>\n",
       "    <tr>\n",
       "      <th>percussive_per_freq_stats_103</th>\n",
       "      <td>2.240952</td>\n",
       "    </tr>\n",
       "    <tr>\n",
       "      <th>percussive_per_freq_stats_92</th>\n",
       "      <td>1.544422</td>\n",
       "    </tr>\n",
       "    <tr>\n",
       "      <th>percussive_per_freq_stats_101</th>\n",
       "      <td>1.532344</td>\n",
       "    </tr>\n",
       "    <tr>\n",
       "      <th>percussive_per_freq_stats_111</th>\n",
       "      <td>1.435889</td>\n",
       "    </tr>\n",
       "    <tr>\n",
       "      <th>percussive_per_freq_stats_100</th>\n",
       "      <td>1.206888</td>\n",
       "    </tr>\n",
       "    <tr>\n",
       "      <th>percussive_per_freq_stats_95</th>\n",
       "      <td>1.165411</td>\n",
       "    </tr>\n",
       "    <tr>\n",
       "      <th>percussive_per_freq_stats_91</th>\n",
       "      <td>1.020118</td>\n",
       "    </tr>\n",
       "    <tr>\n",
       "      <th>harmonic_per_freq_stats_80</th>\n",
       "      <td>1.013218</td>\n",
       "    </tr>\n",
       "    <tr>\n",
       "      <th>harmonic_per_freq_stats_82</th>\n",
       "      <td>1.000161</td>\n",
       "    </tr>\n",
       "    <tr>\n",
       "      <th>cqt_per_freq_stats_100</th>\n",
       "      <td>0.921211</td>\n",
       "    </tr>\n",
       "    <tr>\n",
       "      <th>percussive_per_freq_stats_113</th>\n",
       "      <td>0.920465</td>\n",
       "    </tr>\n",
       "    <tr>\n",
       "      <th>percussive_beat_frames_20</th>\n",
       "      <td>0.895238</td>\n",
       "    </tr>\n",
       "    <tr>\n",
       "      <th>harmonic_per_freq_stats_92</th>\n",
       "      <td>0.875500</td>\n",
       "    </tr>\n",
       "  </tbody>\n",
       "</table>\n",
       "</div>"
      ],
      "text/plain": [
       "                               importance\n",
       "s_bpm_0                          2.990165\n",
       "s_rms_0                          2.505802\n",
       "percussive_per_freq_stats_103    2.240952\n",
       "percussive_per_freq_stats_92     1.544422\n",
       "percussive_per_freq_stats_101    1.532344\n",
       "percussive_per_freq_stats_111    1.435889\n",
       "percussive_per_freq_stats_100    1.206888\n",
       "percussive_per_freq_stats_95     1.165411\n",
       "percussive_per_freq_stats_91     1.020118\n",
       "harmonic_per_freq_stats_80       1.013218\n",
       "harmonic_per_freq_stats_82       1.000161\n",
       "cqt_per_freq_stats_100           0.921211\n",
       "percussive_per_freq_stats_113    0.920465\n",
       "percussive_beat_frames_20        0.895238\n",
       "harmonic_per_freq_stats_92       0.875500"
      ]
     },
     "execution_count": 27,
     "metadata": {},
     "output_type": "execute_result"
    }
   ],
   "source": [
    "pd.DataFrame(\n",
    "    data=model.feature_importances_, \n",
    "    index=E_train.get_feature_names_vector(features), \n",
    "    columns=['importance']\n",
    ").sort_values(by='importance', ascending=False).head(15)"
   ]
  },
  {
   "cell_type": "markdown",
   "id": "0dd9e048-c0f4-4fbe-ae9c-89e46ff3101b",
   "metadata": {},
   "source": [
    "Common to all splits features look more important to catboost (as they contain data about whole sample).\n",
    "But we will calculate majority over samples, and using common features sploils the whole bagging idea.\n",
    "Luckily it is possible to specify feature weights in catboost"
   ]
  },
  {
   "cell_type": "code",
   "execution_count": 28,
   "id": "8b70a37b-9b88-4c0a-b8fa-45dcd8fad0dd",
   "metadata": {},
   "outputs": [],
   "source": [
    "# ChatGPT query:\n",
    "#\n",
    "# I have an array with feature names and I want to generate weights for the features. Some of the feature names look like <name>_<index>. \n",
    "# I want to make a function receiving a dict with prefixes and corresponding feature weights. \n",
    "# It should return the np.array of the same shape as feature_names, containing weights. \n",
    "# If the feature name starts with prefix from the dict then the weight has to be taken from the dict, otherwise it has to be 1. \n",
    "# Here is the signature:\n",
    "# \n",
    "# def assign_feature_weights(feature_names: np.ndarray, weights: dict[str, int]) -> np.ndarray:\n",
    "#     pass\n",
    "\n",
    "import numpy as np\n",
    "\n",
    "def assign_feature_weights(feature_names: np.ndarray, weights: dict[str, float]) -> np.ndarray:\n",
    "    \"\"\"\n",
    "    Assign weights to features based on given prefixes.\n",
    "    \n",
    "    Parameters\n",
    "    ----------\n",
    "    feature_names : np.ndarray\n",
    "        Array of feature names.\n",
    "    weights : dict[str, float]\n",
    "        Dictionary mapping a prefix (string) to a weight (float).\n",
    "        \n",
    "    Returns\n",
    "    -------\n",
    "    np.ndarray\n",
    "        An array of the same shape as `feature_names` containing the assigned weights. \n",
    "        If a feature name starts with any prefix in `weights`, the corresponding weight \n",
    "        is used. Otherwise, the weight is 1.0.\n",
    "    \"\"\"\n",
    "    result_weights = np.ones_like(feature_names, dtype=float)  # default is 1.0\n",
    "    \n",
    "    for i, fname in enumerate(feature_names):\n",
    "        for prefix, w in weights.items():\n",
    "            if fname.startswith(prefix):\n",
    "                result_weights[i] = w\n",
    "                break  # Stop at the first matching prefix\n",
    "\n",
    "    return result_weights\n"
   ]
  },
  {
   "cell_type": "code",
   "execution_count": 29,
   "id": "3dd1ba4c-e78e-4231-9491-aeb1a19842f5",
   "metadata": {},
   "outputs": [
    {
     "data": {
      "application/vnd.jupyter.widget-view+json": {
       "model_id": "22817273de9c4b8bb3df907762c2b6cb",
       "version_major": 2,
       "version_minor": 0
      },
      "text/plain": [
       "MetricVisualizer(layout=Layout(align_self='stretch', height='500px'))"
      ]
     },
     "metadata": {},
     "output_type": "display_data"
    },
    {
     "name": "stdout",
     "output_type": "stream",
     "text": [
      "0:\tlearn: 0.3041845\ttest: 0.2945833\tbest: 0.2945833 (0)\ttotal: 78.1ms\tremaining: 39s\n",
      "50:\tlearn: 0.6600501\ttest: 0.5620833\tbest: 0.5620833 (50)\ttotal: 1.5s\tremaining: 13.2s\n",
      "100:\tlearn: 0.7585837\ttest: 0.6237500\tbest: 0.6245833 (97)\ttotal: 2.88s\tremaining: 11.4s\n",
      "150:\tlearn: 0.8097282\ttest: 0.6466667\tbest: 0.6483333 (138)\ttotal: 4.47s\tremaining: 10.3s\n",
      "200:\tlearn: 0.8530043\ttest: 0.6587500\tbest: 0.6604167 (175)\ttotal: 6.1s\tremaining: 9.08s\n",
      "250:\tlearn: 0.8798283\ttest: 0.6700000\tbest: 0.6700000 (250)\ttotal: 7.56s\tremaining: 7.5s\n",
      "300:\tlearn: 0.8996781\ttest: 0.6791667\tbest: 0.6795833 (294)\ttotal: 8.9s\tremaining: 5.88s\n",
      "350:\tlearn: 0.9198856\ttest: 0.6729167\tbest: 0.6795833 (294)\ttotal: 10.3s\tremaining: 4.38s\n",
      "400:\tlearn: 0.9334764\ttest: 0.6829167\tbest: 0.6887500 (386)\ttotal: 12s\tremaining: 2.95s\n",
      "450:\tlearn: 0.9433119\ttest: 0.6866667\tbest: 0.6887500 (386)\ttotal: 13.6s\tremaining: 1.47s\n",
      "499:\tlearn: 0.9527897\ttest: 0.6845833\tbest: 0.6895833 (460)\ttotal: 14.9s\tremaining: 0us\n",
      "\n",
      "bestTest = 0.6895833333\n",
      "bestIteration = 460\n",
      "\n",
      "Shrink model to first 461 iterations.\n",
      "\n",
      "Classification Report:\n",
      "               precision    recall  f1-score   support\n",
      "\n",
      "       blues       0.79      0.63      0.70        30\n",
      "   classical       0.82      0.90      0.86        30\n",
      "     country       0.69      0.67      0.68        30\n",
      "       disco       0.76      0.63      0.69        30\n",
      "      hiphop       0.77      0.77      0.77        30\n",
      "        jazz       0.71      0.83      0.77        30\n",
      "       metal       0.85      0.73      0.79        30\n",
      "         pop       0.63      0.73      0.68        30\n",
      "      reggae       0.66      0.77      0.71        30\n",
      "        rock       0.46      0.43      0.45        30\n",
      "\n",
      "    accuracy                           0.71       300\n",
      "   macro avg       0.71      0.71      0.71       300\n",
      "weighted avg       0.71      0.71      0.71       300\n",
      "\n",
      "Evaluation Accuracy: 0.7100\n"
     ]
    }
   ],
   "source": [
    "features = ['s_rms', 's_bpm', 'cqt_per_freq_stats', 'harmonic_per_freq_stats', 'percussive_per_freq_stats', 'percussive_beat_frames']\n",
    "weights = assign_feature_weights(E_train.get_feature_names_vector(features), dict(s_rms=0.7, s_bpm=0.7))\n",
    "model, acc = train_and_evaluate_catboost(\n",
    "    idx_eval=E_eval.get_features(['s_idx'])[:,0],\n",
    "    X_train=E_train.get_features(features),\n",
    "    X_eval=E_eval.get_features(features),\n",
    "    y_train=E_train.get_features(['s_y'])[:,0], \n",
    "    y_eval=E_eval.get_features(['s_y'])[:,0],\n",
    "    feature_weights=weights\n",
    ")"
   ]
  },
  {
   "cell_type": "code",
   "execution_count": 30,
   "id": "eb53fe63-17ff-40d4-af4d-52feba3fc602",
   "metadata": {},
   "outputs": [
    {
     "data": {
      "text/html": [
       "<div>\n",
       "<style scoped>\n",
       "    .dataframe tbody tr th:only-of-type {\n",
       "        vertical-align: middle;\n",
       "    }\n",
       "\n",
       "    .dataframe tbody tr th {\n",
       "        vertical-align: top;\n",
       "    }\n",
       "\n",
       "    .dataframe thead th {\n",
       "        text-align: right;\n",
       "    }\n",
       "</style>\n",
       "<table border=\"1\" class=\"dataframe\">\n",
       "  <thead>\n",
       "    <tr style=\"text-align: right;\">\n",
       "      <th></th>\n",
       "      <th>importance</th>\n",
       "    </tr>\n",
       "  </thead>\n",
       "  <tbody>\n",
       "    <tr>\n",
       "      <th>percussive_per_freq_stats_103</th>\n",
       "      <td>2.251306</td>\n",
       "    </tr>\n",
       "    <tr>\n",
       "      <th>percussive_per_freq_stats_101</th>\n",
       "      <td>1.633343</td>\n",
       "    </tr>\n",
       "    <tr>\n",
       "      <th>percussive_per_freq_stats_111</th>\n",
       "      <td>1.352486</td>\n",
       "    </tr>\n",
       "    <tr>\n",
       "      <th>percussive_per_freq_stats_95</th>\n",
       "      <td>1.307608</td>\n",
       "    </tr>\n",
       "    <tr>\n",
       "      <th>percussive_per_freq_stats_92</th>\n",
       "      <td>1.283767</td>\n",
       "    </tr>\n",
       "    <tr>\n",
       "      <th>s_bpm_0</th>\n",
       "      <td>1.187593</td>\n",
       "    </tr>\n",
       "    <tr>\n",
       "      <th>percussive_per_freq_stats_91</th>\n",
       "      <td>1.154281</td>\n",
       "    </tr>\n",
       "    <tr>\n",
       "      <th>harmonic_per_freq_stats_80</th>\n",
       "      <td>1.131064</td>\n",
       "    </tr>\n",
       "    <tr>\n",
       "      <th>percussive_per_freq_stats_100</th>\n",
       "      <td>1.087781</td>\n",
       "    </tr>\n",
       "    <tr>\n",
       "      <th>percussive_per_freq_stats_108</th>\n",
       "      <td>1.046582</td>\n",
       "    </tr>\n",
       "    <tr>\n",
       "      <th>harmonic_per_freq_stats_74</th>\n",
       "      <td>1.045460</td>\n",
       "    </tr>\n",
       "    <tr>\n",
       "      <th>percussive_per_freq_stats_104</th>\n",
       "      <td>1.040752</td>\n",
       "    </tr>\n",
       "    <tr>\n",
       "      <th>percussive_beat_frames_20</th>\n",
       "      <td>0.961105</td>\n",
       "    </tr>\n",
       "    <tr>\n",
       "      <th>percussive_per_freq_stats_113</th>\n",
       "      <td>0.930787</td>\n",
       "    </tr>\n",
       "    <tr>\n",
       "      <th>percussive_per_freq_stats_17</th>\n",
       "      <td>0.872237</td>\n",
       "    </tr>\n",
       "  </tbody>\n",
       "</table>\n",
       "</div>"
      ],
      "text/plain": [
       "                               importance\n",
       "percussive_per_freq_stats_103    2.251306\n",
       "percussive_per_freq_stats_101    1.633343\n",
       "percussive_per_freq_stats_111    1.352486\n",
       "percussive_per_freq_stats_95     1.307608\n",
       "percussive_per_freq_stats_92     1.283767\n",
       "s_bpm_0                          1.187593\n",
       "percussive_per_freq_stats_91     1.154281\n",
       "harmonic_per_freq_stats_80       1.131064\n",
       "percussive_per_freq_stats_100    1.087781\n",
       "percussive_per_freq_stats_108    1.046582\n",
       "harmonic_per_freq_stats_74       1.045460\n",
       "percussive_per_freq_stats_104    1.040752\n",
       "percussive_beat_frames_20        0.961105\n",
       "percussive_per_freq_stats_113    0.930787\n",
       "percussive_per_freq_stats_17     0.872237"
      ]
     },
     "execution_count": 30,
     "metadata": {},
     "output_type": "execute_result"
    }
   ],
   "source": [
    "pd.DataFrame(\n",
    "    data=model.feature_importances_, \n",
    "    index=E_train.get_feature_names_vector(features), \n",
    "    columns=['importance']\n",
    ").sort_values(by='importance', ascending=False).head(15)"
   ]
  },
  {
   "cell_type": "code",
   "execution_count": 31,
   "id": "c60b9aa2-c15d-4cfb-b7e3-c2145412a24f",
   "metadata": {},
   "outputs": [
    {
     "data": {
      "application/vnd.jupyter.widget-view+json": {
       "model_id": "ea3eb5735ea34c9888d44c5ef769623d",
       "version_major": 2,
       "version_minor": 0
      },
      "text/plain": [
       "MetricVisualizer(layout=Layout(align_self='stretch', height='500px'))"
      ]
     },
     "metadata": {},
     "output_type": "display_data"
    },
    {
     "name": "stdout",
     "output_type": "stream",
     "text": [
      "0:\tlearn: 0.3034692\ttest: 0.3091667\tbest: 0.3091667 (0)\ttotal: 86.4ms\tremaining: 43.1s\n",
      "50:\tlearn: 0.7616237\ttest: 0.6487500\tbest: 0.6508333 (48)\ttotal: 1.67s\tremaining: 14.7s\n",
      "100:\tlearn: 0.8546137\ttest: 0.7229167\tbest: 0.7245833 (96)\ttotal: 3.5s\tremaining: 13.8s\n",
      "150:\tlearn: 0.9141631\ttest: 0.7612500\tbest: 0.7612500 (150)\ttotal: 5.16s\tremaining: 11.9s\n",
      "200:\tlearn: 0.9493920\ttest: 0.7850000\tbest: 0.7850000 (200)\ttotal: 6.67s\tremaining: 9.92s\n",
      "250:\tlearn: 0.9638770\ttest: 0.7887500\tbest: 0.7916667 (239)\ttotal: 8.13s\tremaining: 8.06s\n",
      "300:\tlearn: 0.9760372\ttest: 0.7937500\tbest: 0.7966667 (286)\ttotal: 9.83s\tremaining: 6.5s\n",
      "350:\tlearn: 0.9821173\ttest: 0.7995833\tbest: 0.8008333 (348)\ttotal: 11.6s\tremaining: 4.93s\n",
      "400:\tlearn: 0.9890916\ttest: 0.7991667\tbest: 0.8008333 (348)\ttotal: 13.1s\tremaining: 3.24s\n",
      "450:\tlearn: 0.9917740\ttest: 0.8000000\tbest: 0.8029167 (440)\ttotal: 14.6s\tremaining: 1.59s\n",
      "499:\tlearn: 0.9949928\ttest: 0.8054167\tbest: 0.8062500 (495)\ttotal: 16.2s\tremaining: 0us\n",
      "\n",
      "bestTest = 0.80625\n",
      "bestIteration = 495\n",
      "\n",
      "Shrink model to first 496 iterations.\n",
      "\n",
      "Classification Report:\n",
      "               precision    recall  f1-score   support\n",
      "\n",
      "       blues       0.92      0.80      0.86        30\n",
      "   classical       0.97      0.97      0.97        30\n",
      "     country       0.78      0.83      0.81        30\n",
      "       disco       0.84      0.70      0.76        30\n",
      "      hiphop       0.76      0.87      0.81        30\n",
      "        jazz       0.85      0.93      0.89        30\n",
      "       metal       1.00      0.80      0.89        30\n",
      "         pop       0.75      0.90      0.82        30\n",
      "      reggae       0.83      0.80      0.81        30\n",
      "        rock       0.65      0.67      0.66        30\n",
      "\n",
      "    accuracy                           0.83       300\n",
      "   macro avg       0.83      0.83      0.83       300\n",
      "weighted avg       0.83      0.83      0.83       300\n",
      "\n",
      "Evaluation Accuracy: 0.8267\n"
     ]
    }
   ],
   "source": [
    "# Lets add other stats\n",
    "\n",
    "features = ['s_stats', 's_bpm', 'cqt_per_freq_stats', 'harmonic_per_freq_stats', 'percussive_per_freq_stats', 'percussive_beat_frames']\n",
    "weights = assign_feature_weights(E_train.get_feature_names_vector(features), dict(s_bpm=0.7, s_stats=0.68))\n",
    "\n",
    "model, acc = train_and_evaluate_catboost(\n",
    "    idx_eval=E_eval.get_features(['s_idx'])[:,0],\n",
    "    X_train=E_train.get_features(features),\n",
    "    X_eval=E_eval.get_features(features),\n",
    "    y_train=E_train.get_features(['s_y'])[:,0], \n",
    "    y_eval=E_eval.get_features(['s_y'])[:,0],\n",
    "    feature_weights=weights\n",
    ")"
   ]
  },
  {
   "cell_type": "code",
   "execution_count": 32,
   "id": "2f53a051-970e-424c-a72c-704fb015f3d3",
   "metadata": {},
   "outputs": [
    {
     "data": {
      "text/html": [
       "<div>\n",
       "<style scoped>\n",
       "    .dataframe tbody tr th:only-of-type {\n",
       "        vertical-align: middle;\n",
       "    }\n",
       "\n",
       "    .dataframe tbody tr th {\n",
       "        vertical-align: top;\n",
       "    }\n",
       "\n",
       "    .dataframe thead th {\n",
       "        text-align: right;\n",
       "    }\n",
       "</style>\n",
       "<table border=\"1\" class=\"dataframe\">\n",
       "  <thead>\n",
       "    <tr style=\"text-align: right;\">\n",
       "      <th></th>\n",
       "      <th>importance</th>\n",
       "      <th>stat_name</th>\n",
       "    </tr>\n",
       "  </thead>\n",
       "  <tbody>\n",
       "    <tr>\n",
       "      <th>s_stats_26</th>\n",
       "      <td>3.797915</td>\n",
       "      <td>mfcc5_var</td>\n",
       "    </tr>\n",
       "    <tr>\n",
       "      <th>s_stats_23</th>\n",
       "      <td>3.227812</td>\n",
       "      <td>mfcc4_mean</td>\n",
       "    </tr>\n",
       "    <tr>\n",
       "      <th>s_stats_27</th>\n",
       "      <td>2.672782</td>\n",
       "      <td>mfcc6_mean</td>\n",
       "    </tr>\n",
       "    <tr>\n",
       "      <th>s_stats_0</th>\n",
       "      <td>2.300775</td>\n",
       "      <td>chroma_stft_mean</td>\n",
       "    </tr>\n",
       "    <tr>\n",
       "      <th>percussive_per_freq_stats_103</th>\n",
       "      <td>2.115719</td>\n",
       "      <td>None</td>\n",
       "    </tr>\n",
       "    <tr>\n",
       "      <th>s_stats_24</th>\n",
       "      <td>2.076114</td>\n",
       "      <td>mfcc4_var</td>\n",
       "    </tr>\n",
       "    <tr>\n",
       "      <th>s_stats_12</th>\n",
       "      <td>1.866515</td>\n",
       "      <td>harmony_mean</td>\n",
       "    </tr>\n",
       "    <tr>\n",
       "      <th>s_stats_5</th>\n",
       "      <td>1.806029</td>\n",
       "      <td>spectral_centroid_var</td>\n",
       "    </tr>\n",
       "    <tr>\n",
       "      <th>s_stats_1</th>\n",
       "      <td>1.800582</td>\n",
       "      <td>chroma_stft_var</td>\n",
       "    </tr>\n",
       "    <tr>\n",
       "      <th>percussive_per_freq_stats_9</th>\n",
       "      <td>1.600120</td>\n",
       "      <td>None</td>\n",
       "    </tr>\n",
       "    <tr>\n",
       "      <th>s_stats_33</th>\n",
       "      <td>1.578043</td>\n",
       "      <td>mfcc9_mean</td>\n",
       "    </tr>\n",
       "    <tr>\n",
       "      <th>s_stats_49</th>\n",
       "      <td>1.481265</td>\n",
       "      <td>mfcc17_mean</td>\n",
       "    </tr>\n",
       "    <tr>\n",
       "      <th>s_stats_36</th>\n",
       "      <td>1.452060</td>\n",
       "      <td>mfcc10_var</td>\n",
       "    </tr>\n",
       "    <tr>\n",
       "      <th>percussive_per_freq_stats_95</th>\n",
       "      <td>1.380013</td>\n",
       "      <td>None</td>\n",
       "    </tr>\n",
       "    <tr>\n",
       "      <th>s_stats_9</th>\n",
       "      <td>1.301269</td>\n",
       "      <td>rolloff_var</td>\n",
       "    </tr>\n",
       "  </tbody>\n",
       "</table>\n",
       "</div>"
      ],
      "text/plain": [
       "                               importance              stat_name\n",
       "s_stats_26                       3.797915              mfcc5_var\n",
       "s_stats_23                       3.227812             mfcc4_mean\n",
       "s_stats_27                       2.672782             mfcc6_mean\n",
       "s_stats_0                        2.300775       chroma_stft_mean\n",
       "percussive_per_freq_stats_103    2.115719                   None\n",
       "s_stats_24                       2.076114              mfcc4_var\n",
       "s_stats_12                       1.866515           harmony_mean\n",
       "s_stats_5                        1.806029  spectral_centroid_var\n",
       "s_stats_1                        1.800582        chroma_stft_var\n",
       "percussive_per_freq_stats_9      1.600120                   None\n",
       "s_stats_33                       1.578043             mfcc9_mean\n",
       "s_stats_49                       1.481265            mfcc17_mean\n",
       "s_stats_36                       1.452060             mfcc10_var\n",
       "percussive_per_freq_stats_95     1.380013                   None\n",
       "s_stats_9                        1.301269            rolloff_var"
      ]
     },
     "execution_count": 32,
     "metadata": {},
     "output_type": "execute_result"
    }
   ],
   "source": [
    "imp = pd.DataFrame(\n",
    "    data=model.feature_importances_, \n",
    "    index=E_train.get_feature_names_vector(features), \n",
    "    columns=['importance']\n",
    ").sort_values(by='importance', ascending=False).head(15)\n",
    "imp['stat_name'] = pd.Series(imp.index, index=imp.index).apply(lambda x: int(x[8:]) if x.startswith('s_stats') else None)\n",
    "imp['stat_name'] = imp['stat_name'].apply(lambda x: X_train.columns[int(x) + 2] if not np.isnan(x) else None)\n",
    "imp"
   ]
  },
  {
   "cell_type": "markdown",
   "id": "24b6005d-aadc-4705-94ed-8657e2dee407",
   "metadata": {},
   "source": [
    "TODO: translate to English\n",
    "1. Высокий вес у mfcc - это преобразование Фурье посчитанное поверх mel спектрограммы.\n",
    "Эта операция выполняет 2 цели, понижает размерность, и позволяет оценить фундаментальную частоту\n",
    "2. Высокий вес у статистик над хроматическими фичами (то есть какая нота встречается чаще)\n",
    "3. Высокий вес у статистик спектрального центроида\n",
    "\n",
    "Вывод: Надо добавить эти фичи, только посчитанные на кусочке"
   ]
  },
  {
   "cell_type": "code",
   "execution_count": 33,
   "id": "8be23710-0367-438e-a199-22149260ab70",
   "metadata": {},
   "outputs": [],
   "source": [
    "Extractor.register_extractor('mfcc_quef_stats', \n",
    "                             lambda s_mfcc: np.hstack([s_mfcc.mean(axis=1), s_mfcc.var(axis=1)]))\n",
    "\n",
    "# Usually STFT is used for spectral centroid, but I will use CQT, it may turn out to be even more precise.\n",
    "cqt_frequencies = librosa.cqt_frequencies(n_bins=n_bins, fmin=fmin, bins_per_octave=bins_per_octave)\n",
    "Extractor.register_extractor('cqt_spectral_centroid', \n",
    "                             lambda s_cqt: np.sum(cqt_frequencies.reshape(-1, 1) * librosa.util.normalize(s_cqt, norm=1, axis=-2), axis=0))\n",
    "\n",
    "Extractor.register_extractor('cqt_spectral_centroid_stats', \n",
    "                             lambda cqt_spectral_centroid: np.array([cqt_spectral_centroid.mean(), cqt_spectral_centroid.var()]))\n",
    "\n",
    "chroma_map = librosa.filters.cq_to_chroma(cqt_frequencies.shape[0], bins_per_octave=bins_per_octave, n_chroma=bins_per_octave, fmin=fmin)\n",
    "Extractor.register_extractor('cqt_chroma', \n",
    "                             lambda s_cqt: np.dot(chroma_map, s_cqt))\n",
    "Extractor.register_extractor('cqt_chroma_stats', \n",
    "                             lambda cqt_chroma: np.hstack([cqt_chroma.mean(axis=1), cqt_chroma.var(axis=1)]))\n",
    "\n",
    "Extractor.register_extractor('harmonic_chroma', \n",
    "                             lambda s_harmonic: np.dot(chroma_map, s_harmonic))\n",
    "Extractor.register_extractor('harmonic_chroma_stats', \n",
    "                             lambda harmonic_chroma: np.hstack([harmonic_chroma.mean(axis=1), harmonic_chroma.var(axis=1)]))\n"
   ]
  },
  {
   "cell_type": "code",
   "execution_count": 34,
   "id": "ac2e5d55-a379-4c94-96a3-823d16ffc06e",
   "metadata": {},
   "outputs": [
    {
     "data": {
      "application/vnd.jupyter.widget-view+json": {
       "model_id": "bdeaf2160ac94936af985f41e344db09",
       "version_major": 2,
       "version_minor": 0
      },
      "text/plain": [
       "mfcc_quef_stats:   0%|          | 0/5592 [00:00<?, ?it/s]"
      ]
     },
     "metadata": {},
     "output_type": "display_data"
    },
    {
     "data": {
      "application/vnd.jupyter.widget-view+json": {
       "model_id": "5c694204d748446ba6cf8fb2a6ccb84a",
       "version_major": 2,
       "version_minor": 0
      },
      "text/plain": [
       "cqt_spectral_centroid:   0%|          | 0/5592 [00:00<?, ?it/s]"
      ]
     },
     "metadata": {},
     "output_type": "display_data"
    },
    {
     "data": {
      "application/vnd.jupyter.widget-view+json": {
       "model_id": "c9701a10e1ec4cc1b72efbfe43f77b58",
       "version_major": 2,
       "version_minor": 0
      },
      "text/plain": [
       "cqt_spectral_centroid_stats:   0%|          | 0/5592 [00:00<?, ?it/s]"
      ]
     },
     "metadata": {},
     "output_type": "display_data"
    },
    {
     "data": {
      "application/vnd.jupyter.widget-view+json": {
       "model_id": "63802605879d48a98626c6e43a3f3a7d",
       "version_major": 2,
       "version_minor": 0
      },
      "text/plain": [
       "cqt_chroma:   0%|          | 0/5592 [00:00<?, ?it/s]"
      ]
     },
     "metadata": {},
     "output_type": "display_data"
    },
    {
     "data": {
      "application/vnd.jupyter.widget-view+json": {
       "model_id": "22cc25a0b97c411e8921800a874d434a",
       "version_major": 2,
       "version_minor": 0
      },
      "text/plain": [
       "cqt_chroma_stats:   0%|          | 0/5592 [00:00<?, ?it/s]"
      ]
     },
     "metadata": {},
     "output_type": "display_data"
    },
    {
     "data": {
      "application/vnd.jupyter.widget-view+json": {
       "model_id": "8725bd3a88194ca09497d62ffd810a60",
       "version_major": 2,
       "version_minor": 0
      },
      "text/plain": [
       "harmonic_chroma:   0%|          | 0/5592 [00:00<?, ?it/s]"
      ]
     },
     "metadata": {},
     "output_type": "display_data"
    },
    {
     "data": {
      "application/vnd.jupyter.widget-view+json": {
       "model_id": "f180da351e19480dbe90df645f64d9af",
       "version_major": 2,
       "version_minor": 0
      },
      "text/plain": [
       "harmonic_chroma_stats:   0%|          | 0/5592 [00:00<?, ?it/s]"
      ]
     },
     "metadata": {},
     "output_type": "display_data"
    },
    {
     "data": {
      "application/vnd.jupyter.widget-view+json": {
       "model_id": "9207424eb99a47078c8d2f724d930e0b",
       "version_major": 2,
       "version_minor": 0
      },
      "text/plain": [
       "mfcc_quef_stats:   0%|          | 0/2400 [00:00<?, ?it/s]"
      ]
     },
     "metadata": {},
     "output_type": "display_data"
    },
    {
     "data": {
      "application/vnd.jupyter.widget-view+json": {
       "model_id": "46103cc1cef44cccb4580e253b02d591",
       "version_major": 2,
       "version_minor": 0
      },
      "text/plain": [
       "cqt_spectral_centroid:   0%|          | 0/2400 [00:00<?, ?it/s]"
      ]
     },
     "metadata": {},
     "output_type": "display_data"
    },
    {
     "data": {
      "application/vnd.jupyter.widget-view+json": {
       "model_id": "7dd05b883acd47d5be12ffee6727b215",
       "version_major": 2,
       "version_minor": 0
      },
      "text/plain": [
       "cqt_spectral_centroid_stats:   0%|          | 0/2400 [00:00<?, ?it/s]"
      ]
     },
     "metadata": {},
     "output_type": "display_data"
    },
    {
     "data": {
      "application/vnd.jupyter.widget-view+json": {
       "model_id": "4c11f42495854f75a18def99957390f2",
       "version_major": 2,
       "version_minor": 0
      },
      "text/plain": [
       "cqt_chroma:   0%|          | 0/2400 [00:00<?, ?it/s]"
      ]
     },
     "metadata": {},
     "output_type": "display_data"
    },
    {
     "data": {
      "application/vnd.jupyter.widget-view+json": {
       "model_id": "0b9bc741ee0f45dcb6b7da349c26fe87",
       "version_major": 2,
       "version_minor": 0
      },
      "text/plain": [
       "cqt_chroma_stats:   0%|          | 0/2400 [00:00<?, ?it/s]"
      ]
     },
     "metadata": {},
     "output_type": "display_data"
    },
    {
     "data": {
      "application/vnd.jupyter.widget-view+json": {
       "model_id": "056e9a540edb438a8ad93451b925e1ff",
       "version_major": 2,
       "version_minor": 0
      },
      "text/plain": [
       "harmonic_chroma:   0%|          | 0/2400 [00:00<?, ?it/s]"
      ]
     },
     "metadata": {},
     "output_type": "display_data"
    },
    {
     "data": {
      "application/vnd.jupyter.widget-view+json": {
       "model_id": "6586e94a2bf94d2b9a4f0e33241a0ef1",
       "version_major": 2,
       "version_minor": 0
      },
      "text/plain": [
       "harmonic_chroma_stats:   0%|          | 0/2400 [00:00<?, ?it/s]"
      ]
     },
     "metadata": {},
     "output_type": "display_data"
    }
   ],
   "source": [
    "E_train.soft_extract()\n",
    "E_eval.soft_extract()"
   ]
  },
  {
   "cell_type": "code",
   "execution_count": 35,
   "id": "47f7c917-9ae9-4ac3-b8c7-d1f6487d996b",
   "metadata": {},
   "outputs": [
    {
     "data": {
      "application/vnd.jupyter.widget-view+json": {
       "model_id": "bb9bfbe571924d9d9b803c5e747fa1e6",
       "version_major": 2,
       "version_minor": 0
      },
      "text/plain": [
       "MetricVisualizer(layout=Layout(align_self='stretch', height='500px'))"
      ]
     },
     "metadata": {},
     "output_type": "display_data"
    },
    {
     "name": "stdout",
     "output_type": "stream",
     "text": [
      "0:\tlearn: 0.2973891\ttest: 0.2758333\tbest: 0.2758333 (0)\ttotal: 93.6ms\tremaining: 46.7s\n",
      "50:\tlearn: 0.6695279\ttest: 0.5804167\tbest: 0.5854167 (49)\ttotal: 1.71s\tremaining: 15s\n",
      "100:\tlearn: 0.7619814\ttest: 0.6325000\tbest: 0.6358333 (99)\ttotal: 3.66s\tremaining: 14.5s\n",
      "150:\tlearn: 0.8227825\ttest: 0.6687500\tbest: 0.6687500 (150)\ttotal: 5.44s\tremaining: 12.6s\n",
      "200:\tlearn: 0.8637339\ttest: 0.6862500\tbest: 0.6862500 (197)\ttotal: 6.92s\tremaining: 10.3s\n",
      "250:\tlearn: 0.8916309\ttest: 0.6937500\tbest: 0.6950000 (241)\ttotal: 8.59s\tremaining: 8.52s\n",
      "300:\tlearn: 0.9132690\ttest: 0.6958333\tbest: 0.6987500 (276)\ttotal: 10.1s\tremaining: 6.66s\n",
      "350:\tlearn: 0.9293634\ttest: 0.6991667\tbest: 0.7020833 (333)\ttotal: 11.6s\tremaining: 4.94s\n",
      "400:\tlearn: 0.9409871\ttest: 0.7029167\tbest: 0.7079167 (379)\ttotal: 13.1s\tremaining: 3.25s\n",
      "450:\tlearn: 0.9506438\ttest: 0.7108333\tbest: 0.7137500 (444)\ttotal: 14.6s\tremaining: 1.59s\n",
      "499:\tlearn: 0.9585122\ttest: 0.7100000\tbest: 0.7145833 (485)\ttotal: 16.1s\tremaining: 0us\n",
      "\n",
      "bestTest = 0.7145833333\n",
      "bestIteration = 485\n",
      "\n",
      "Shrink model to first 486 iterations.\n",
      "\n",
      "Classification Report:\n",
      "               precision    recall  f1-score   support\n",
      "\n",
      "       blues       0.77      0.67      0.71        30\n",
      "   classical       0.85      0.93      0.89        30\n",
      "     country       0.73      0.80      0.76        30\n",
      "       disco       0.83      0.67      0.74        30\n",
      "      hiphop       0.74      0.77      0.75        30\n",
      "        jazz       0.79      0.87      0.83        30\n",
      "       metal       0.82      0.77      0.79        30\n",
      "         pop       0.67      0.73      0.70        30\n",
      "      reggae       0.76      0.87      0.81        30\n",
      "        rock       0.60      0.50      0.55        30\n",
      "\n",
      "    accuracy                           0.76       300\n",
      "   macro avg       0.76      0.76      0.75       300\n",
      "weighted avg       0.76      0.76      0.75       300\n",
      "\n",
      "Evaluation Accuracy: 0.7567\n"
     ]
    }
   ],
   "source": [
    "# Lets add MFCC, chromatic features and centroid\n",
    "\n",
    "features = ['s_rms', 's_bpm', 'cqt_per_freq_stats', 'harmonic_per_freq_stats', 'percussive_per_freq_stats', 'percussive_beat_frames',\n",
    "           'cqt_spectral_centroid_stats', 'cqt_chroma_stats', 'harmonic_chroma_stats', 'mfcc_quef_stats']\n",
    "weights = assign_feature_weights(E_train.get_feature_names_vector(features), dict(s_rms=0.5, s_bpm=0.7, mfcc_quef=0.8))\n",
    "model, acc = train_and_evaluate_catboost(\n",
    "    idx_eval=E_eval.get_features(['s_idx'])[:,0],\n",
    "    X_train=E_train.get_features(features),\n",
    "    X_eval=E_eval.get_features(features),\n",
    "    y_train=E_train.get_features(['s_y'])[:,0], \n",
    "    y_eval=E_eval.get_features(['s_y'])[:,0],\n",
    "    feature_weights=weights\n",
    ")"
   ]
  },
  {
   "cell_type": "code",
   "execution_count": 36,
   "id": "a4c336fe-0b48-4e22-85e1-ba2eccda159d",
   "metadata": {},
   "outputs": [
    {
     "data": {
      "text/html": [
       "<div>\n",
       "<style scoped>\n",
       "    .dataframe tbody tr th:only-of-type {\n",
       "        vertical-align: middle;\n",
       "    }\n",
       "\n",
       "    .dataframe tbody tr th {\n",
       "        vertical-align: top;\n",
       "    }\n",
       "\n",
       "    .dataframe thead th {\n",
       "        text-align: right;\n",
       "    }\n",
       "</style>\n",
       "<table border=\"1\" class=\"dataframe\">\n",
       "  <thead>\n",
       "    <tr style=\"text-align: right;\">\n",
       "      <th></th>\n",
       "      <th>importance</th>\n",
       "    </tr>\n",
       "  </thead>\n",
       "  <tbody>\n",
       "    <tr>\n",
       "      <th>mfcc_quef_stats_17</th>\n",
       "      <td>2.555800</td>\n",
       "    </tr>\n",
       "    <tr>\n",
       "      <th>percussive_per_freq_stats_102</th>\n",
       "      <td>2.100362</td>\n",
       "    </tr>\n",
       "    <tr>\n",
       "      <th>mfcc_quef_stats_3</th>\n",
       "      <td>1.653333</td>\n",
       "    </tr>\n",
       "    <tr>\n",
       "      <th>cqt_spectral_centroid_stats_1</th>\n",
       "      <td>1.352556</td>\n",
       "    </tr>\n",
       "    <tr>\n",
       "      <th>s_bpm_0</th>\n",
       "      <td>1.324758</td>\n",
       "    </tr>\n",
       "    <tr>\n",
       "      <th>mfcc_quef_stats_16</th>\n",
       "      <td>1.203805</td>\n",
       "    </tr>\n",
       "    <tr>\n",
       "      <th>percussive_per_freq_stats_109</th>\n",
       "      <td>1.188045</td>\n",
       "    </tr>\n",
       "    <tr>\n",
       "      <th>percussive_per_freq_stats_91</th>\n",
       "      <td>1.182254</td>\n",
       "    </tr>\n",
       "    <tr>\n",
       "      <th>percussive_per_freq_stats_12</th>\n",
       "      <td>1.115728</td>\n",
       "    </tr>\n",
       "    <tr>\n",
       "      <th>percussive_per_freq_stats_112</th>\n",
       "      <td>1.047367</td>\n",
       "    </tr>\n",
       "    <tr>\n",
       "      <th>percussive_per_freq_stats_14</th>\n",
       "      <td>1.039676</td>\n",
       "    </tr>\n",
       "    <tr>\n",
       "      <th>percussive_per_freq_stats_22</th>\n",
       "      <td>1.028257</td>\n",
       "    </tr>\n",
       "    <tr>\n",
       "      <th>harmonic_per_freq_stats_76</th>\n",
       "      <td>0.975192</td>\n",
       "    </tr>\n",
       "    <tr>\n",
       "      <th>harmonic_per_freq_stats_83</th>\n",
       "      <td>0.913097</td>\n",
       "    </tr>\n",
       "    <tr>\n",
       "      <th>harmonic_per_freq_stats_90</th>\n",
       "      <td>0.908626</td>\n",
       "    </tr>\n",
       "  </tbody>\n",
       "</table>\n",
       "</div>"
      ],
      "text/plain": [
       "                               importance\n",
       "mfcc_quef_stats_17               2.555800\n",
       "percussive_per_freq_stats_102    2.100362\n",
       "mfcc_quef_stats_3                1.653333\n",
       "cqt_spectral_centroid_stats_1    1.352556\n",
       "s_bpm_0                          1.324758\n",
       "mfcc_quef_stats_16               1.203805\n",
       "percussive_per_freq_stats_109    1.188045\n",
       "percussive_per_freq_stats_91     1.182254\n",
       "percussive_per_freq_stats_12     1.115728\n",
       "percussive_per_freq_stats_112    1.047367\n",
       "percussive_per_freq_stats_14     1.039676\n",
       "percussive_per_freq_stats_22     1.028257\n",
       "harmonic_per_freq_stats_76       0.975192\n",
       "harmonic_per_freq_stats_83       0.913097\n",
       "harmonic_per_freq_stats_90       0.908626"
      ]
     },
     "execution_count": 36,
     "metadata": {},
     "output_type": "execute_result"
    }
   ],
   "source": [
    "pd.DataFrame(\n",
    "    data=model.feature_importances_, \n",
    "    index=E_train.get_feature_names_vector(features), \n",
    "    columns=['importance']\n",
    ").sort_values(by='importance', ascending=False).head(15)"
   ]
  },
  {
   "cell_type": "code",
   "execution_count": 37,
   "id": "b541891a-5769-4d7a-8d19-e35bbf86d8e1",
   "metadata": {},
   "outputs": [
    {
     "data": {
      "text/html": [
       "<div>\n",
       "<style scoped>\n",
       "    .dataframe tbody tr th:only-of-type {\n",
       "        vertical-align: middle;\n",
       "    }\n",
       "\n",
       "    .dataframe tbody tr th {\n",
       "        vertical-align: top;\n",
       "    }\n",
       "\n",
       "    .dataframe thead tr th {\n",
       "        text-align: left;\n",
       "    }\n",
       "\n",
       "    .dataframe thead tr:last-of-type th {\n",
       "        text-align: right;\n",
       "    }\n",
       "</style>\n",
       "<table border=\"1\" class=\"dataframe\">\n",
       "  <thead>\n",
       "    <tr>\n",
       "      <th></th>\n",
       "      <th colspan=\"2\" halign=\"left\">importance</th>\n",
       "    </tr>\n",
       "    <tr>\n",
       "      <th></th>\n",
       "      <th>max</th>\n",
       "      <th>mean</th>\n",
       "    </tr>\n",
       "    <tr>\n",
       "      <th>cropped_feature_name</th>\n",
       "      <th></th>\n",
       "      <th></th>\n",
       "    </tr>\n",
       "  </thead>\n",
       "  <tbody>\n",
       "    <tr>\n",
       "      <th>mfcc_quef_stats</th>\n",
       "      <td>2.555800</td>\n",
       "      <td>0.470026</td>\n",
       "    </tr>\n",
       "    <tr>\n",
       "      <th>percussive_per_freq_stats</th>\n",
       "      <td>2.100362</td>\n",
       "      <td>0.168522</td>\n",
       "    </tr>\n",
       "    <tr>\n",
       "      <th>cqt_spectral_centroid_stats</th>\n",
       "      <td>1.352556</td>\n",
       "      <td>0.923675</td>\n",
       "    </tr>\n",
       "    <tr>\n",
       "      <th>s_bpm</th>\n",
       "      <td>1.324758</td>\n",
       "      <td>1.324758</td>\n",
       "    </tr>\n",
       "    <tr>\n",
       "      <th>harmonic_per_freq_stats</th>\n",
       "      <td>0.975192</td>\n",
       "      <td>0.188518</td>\n",
       "    </tr>\n",
       "    <tr>\n",
       "      <th>cqt_per_freq_stats</th>\n",
       "      <td>0.801020</td>\n",
       "      <td>0.097102</td>\n",
       "    </tr>\n",
       "    <tr>\n",
       "      <th>percussive_beat_frames</th>\n",
       "      <td>0.727212</td>\n",
       "      <td>0.168800</td>\n",
       "    </tr>\n",
       "    <tr>\n",
       "      <th>cqt_chroma_stats</th>\n",
       "      <td>0.374091</td>\n",
       "      <td>0.061525</td>\n",
       "    </tr>\n",
       "    <tr>\n",
       "      <th>harmonic_chroma_stats</th>\n",
       "      <td>0.217795</td>\n",
       "      <td>0.059716</td>\n",
       "    </tr>\n",
       "    <tr>\n",
       "      <th>s_rms</th>\n",
       "      <td>0.000000</td>\n",
       "      <td>0.000000</td>\n",
       "    </tr>\n",
       "  </tbody>\n",
       "</table>\n",
       "</div>"
      ],
      "text/plain": [
       "                            importance          \n",
       "                                   max      mean\n",
       "cropped_feature_name                            \n",
       "mfcc_quef_stats               2.555800  0.470026\n",
       "percussive_per_freq_stats     2.100362  0.168522\n",
       "cqt_spectral_centroid_stats   1.352556  0.923675\n",
       "s_bpm                         1.324758  1.324758\n",
       "harmonic_per_freq_stats       0.975192  0.188518\n",
       "cqt_per_freq_stats            0.801020  0.097102\n",
       "percussive_beat_frames        0.727212  0.168800\n",
       "cqt_chroma_stats              0.374091  0.061525\n",
       "harmonic_chroma_stats         0.217795  0.059716\n",
       "s_rms                         0.000000  0.000000"
      ]
     },
     "execution_count": 37,
     "metadata": {},
     "output_type": "execute_result"
    }
   ],
   "source": [
    "# Lets leave out only features that turn out important. Boosting is not robust to autocorrelation. \n",
    "# There is of course a penalty in CatBoost, but still it makes sense.\n",
    "imp = pd.DataFrame(data=np.stack([E_train.get_feature_names_vector(features)]).T, columns=['feature_name'])\n",
    "imp['importance'] = model.feature_importances_\n",
    "imp['cropped_feature_name'] = imp['feature_name'].apply(lambda x: '_'.join(x.split('_')[:-1]))\n",
    "imp[['cropped_feature_name', 'importance']].groupby('cropped_feature_name').agg(['max', 'mean']).sort_values(('importance', 'max'), ascending=False)"
   ]
  },
  {
   "cell_type": "code",
   "execution_count": 38,
   "id": "99dbf575-63ee-4f51-971f-c283c0d9201f",
   "metadata": {},
   "outputs": [
    {
     "data": {
      "application/vnd.jupyter.widget-view+json": {
       "model_id": "4e7950612f5046fd961e86581a5127d2",
       "version_major": 2,
       "version_minor": 0
      },
      "text/plain": [
       "MetricVisualizer(layout=Layout(align_self='stretch', height='500px'))"
      ]
     },
     "metadata": {},
     "output_type": "display_data"
    },
    {
     "name": "stdout",
     "output_type": "stream",
     "text": [
      "0:\tlearn: 0.2963162\ttest: 0.2862500\tbest: 0.2862500 (0)\ttotal: 30.3ms\tremaining: 15.1s\n",
      "50:\tlearn: 0.6793634\ttest: 0.5895833\tbest: 0.5895833 (50)\ttotal: 1.13s\tremaining: 9.97s\n",
      "100:\tlearn: 0.7744993\ttest: 0.6412500\tbest: 0.6450000 (95)\ttotal: 2.17s\tremaining: 8.55s\n",
      "150:\tlearn: 0.8261803\ttest: 0.6704167\tbest: 0.6758333 (145)\ttotal: 3.2s\tremaining: 7.39s\n",
      "200:\tlearn: 0.8690987\ttest: 0.6825000\tbest: 0.6837500 (185)\ttotal: 4.23s\tremaining: 6.29s\n",
      "250:\tlearn: 0.8964592\ttest: 0.6983333\tbest: 0.6987500 (232)\ttotal: 5.25s\tremaining: 5.2s\n",
      "300:\tlearn: 0.9095136\ttest: 0.7075000\tbest: 0.7083333 (288)\ttotal: 6.26s\tremaining: 4.14s\n",
      "350:\tlearn: 0.9265021\ttest: 0.7137500\tbest: 0.7175000 (337)\ttotal: 7.3s\tremaining: 3.1s\n",
      "400:\tlearn: 0.9358011\ttest: 0.7191667\tbest: 0.7208333 (396)\ttotal: 8.3s\tremaining: 2.05s\n",
      "450:\tlearn: 0.9472461\ttest: 0.7229167\tbest: 0.7229167 (449)\ttotal: 9.29s\tremaining: 1.01s\n",
      "499:\tlearn: 0.9558298\ttest: 0.7195833\tbest: 0.7279167 (485)\ttotal: 10.2s\tremaining: 0us\n",
      "\n",
      "bestTest = 0.7279166667\n",
      "bestIteration = 485\n",
      "\n",
      "Shrink model to first 486 iterations.\n",
      "\n",
      "Classification Report:\n",
      "               precision    recall  f1-score   support\n",
      "\n",
      "       blues       0.81      0.70      0.75        30\n",
      "   classical       0.85      0.93      0.89        30\n",
      "     country       0.68      0.77      0.72        30\n",
      "       disco       0.83      0.63      0.72        30\n",
      "      hiphop       0.71      0.83      0.77        30\n",
      "        jazz       0.79      0.87      0.83        30\n",
      "       metal       0.83      0.80      0.81        30\n",
      "         pop       0.71      0.73      0.72        30\n",
      "      reggae       0.72      0.77      0.74        30\n",
      "        rock       0.67      0.53      0.59        30\n",
      "\n",
      "    accuracy                           0.76       300\n",
      "   macro avg       0.76      0.76      0.75       300\n",
      "weighted avg       0.76      0.76      0.75       300\n",
      "\n",
      "Evaluation Accuracy: 0.7567\n"
     ]
    }
   ],
   "source": [
    "features = ['s_bpm', 'harmonic_per_freq_stats', 'percussive_per_freq_stats',\n",
    "           'cqt_spectral_centroid_stats', 'mfcc_quef_stats', 'percussive_beat_frames']\n",
    "weights = assign_feature_weights(E_train.get_feature_names_vector(features), dict(s_rms=0.5, s_bpm=0.7, mfcc_quef=0.8))\n",
    "model, acc = train_and_evaluate_catboost(\n",
    "    idx_eval=E_eval.get_features(['s_idx'])[:,0],\n",
    "    X_train=E_train.get_features(features),\n",
    "    X_eval=E_eval.get_features(features),\n",
    "    y_train=E_train.get_features(['s_y'])[:,0], \n",
    "    y_eval=E_eval.get_features(['s_y'])[:,0],\n",
    "    feature_weights=weights\n",
    ")"
   ]
  },
  {
   "cell_type": "markdown",
   "id": "e43e8dfb-8de7-406c-b151-22e367a8ccd6",
   "metadata": {},
   "source": [
    "Lets try normalizing spectrograms. That way we will consider loundness and distribution separately"
   ]
  },
  {
   "cell_type": "code",
   "execution_count": 39,
   "id": "1b8ea039-832f-4765-a490-a1a8406aba85",
   "metadata": {},
   "outputs": [],
   "source": [
    "Extractor.register_extractor('s_cqt_n', lambda s_cqt: librosa.util.normalize(s_cqt, norm=1))\n",
    "Extractor.register_extractor('s_cqt_stats', lambda s_cqt: np.array([np.mean(s_cqt), np.var(s_cqt)]))\n",
    "Extractor.register_extractor('s_harmonic_n', lambda s_harmonic: librosa.util.normalize(s_harmonic, norm=1))\n",
    "Extractor.register_extractor('s_harmonic_stats', lambda s_harmonic: np.array([np.mean(s_harmonic), np.var(s_harmonic)]))\n",
    "Extractor.register_extractor('s_percussive_n', lambda s_percussive: librosa.util.normalize(s_percussive, norm=1))\n",
    "Extractor.register_extractor('s_percussive_stats', lambda s_percussive: np.array([np.mean(s_percussive), np.var(s_percussive)]))\n",
    "Extractor.register_extractor('ds_percussive_n', lambda ds_percussive: librosa.util.normalize(ds_percussive, norm=1))\n",
    "\n",
    "Extractor.register_extractor('cqt_n_freq_stats', \n",
    "                             lambda s_cqt_n: np.hstack([s_cqt_n.mean(axis=1), s_cqt_n.var(axis=1)]))\n",
    "Extractor.register_extractor('harmonic_n_freq_stats', \n",
    "                             lambda s_harmonic_n: np.hstack([s_harmonic_n.mean(axis=1), s_harmonic_n.var(axis=1)]))\n",
    "Extractor.register_extractor('percussive_n_freq_stats', \n",
    "                             lambda s_percussive_n: np.hstack([s_percussive_n.mean(axis=1), s_percussive_n.var(axis=1)]))\n",
    "Extractor.register_extractor('percussive_n_beat_frames', \n",
    "                             lambda ds_percussive_n: ds_percussive_n.mean(axis=0))"
   ]
  },
  {
   "cell_type": "code",
   "execution_count": 40,
   "id": "715e49fd-4c49-4639-9895-47e138d167c0",
   "metadata": {},
   "outputs": [
    {
     "data": {
      "application/vnd.jupyter.widget-view+json": {
       "model_id": "6fa831f3b8e5465a9bf1ade591d3bcb7",
       "version_major": 2,
       "version_minor": 0
      },
      "text/plain": [
       "s_cqt_n:   0%|          | 0/5592 [00:00<?, ?it/s]"
      ]
     },
     "metadata": {},
     "output_type": "display_data"
    },
    {
     "data": {
      "application/vnd.jupyter.widget-view+json": {
       "model_id": "e7b399cf41384836ad56c7944e2dadd1",
       "version_major": 2,
       "version_minor": 0
      },
      "text/plain": [
       "s_cqt_stats:   0%|          | 0/5592 [00:00<?, ?it/s]"
      ]
     },
     "metadata": {},
     "output_type": "display_data"
    },
    {
     "data": {
      "application/vnd.jupyter.widget-view+json": {
       "model_id": "123edb231b63400599842a65e826afa1",
       "version_major": 2,
       "version_minor": 0
      },
      "text/plain": [
       "s_harmonic_n:   0%|          | 0/5592 [00:00<?, ?it/s]"
      ]
     },
     "metadata": {},
     "output_type": "display_data"
    },
    {
     "data": {
      "application/vnd.jupyter.widget-view+json": {
       "model_id": "905b974f9f364d06ab9f464dc39849d6",
       "version_major": 2,
       "version_minor": 0
      },
      "text/plain": [
       "s_harmonic_stats:   0%|          | 0/5592 [00:00<?, ?it/s]"
      ]
     },
     "metadata": {},
     "output_type": "display_data"
    },
    {
     "data": {
      "application/vnd.jupyter.widget-view+json": {
       "model_id": "95d63dcddbdd4924b3b4c4a2236c0137",
       "version_major": 2,
       "version_minor": 0
      },
      "text/plain": [
       "s_percussive_n:   0%|          | 0/5592 [00:00<?, ?it/s]"
      ]
     },
     "metadata": {},
     "output_type": "display_data"
    },
    {
     "data": {
      "application/vnd.jupyter.widget-view+json": {
       "model_id": "45cbccb1fea74a0dbafae724473ab28d",
       "version_major": 2,
       "version_minor": 0
      },
      "text/plain": [
       "s_percussive_stats:   0%|          | 0/5592 [00:00<?, ?it/s]"
      ]
     },
     "metadata": {},
     "output_type": "display_data"
    },
    {
     "data": {
      "application/vnd.jupyter.widget-view+json": {
       "model_id": "48edfd7a1de24bbfbbe2382a601a962c",
       "version_major": 2,
       "version_minor": 0
      },
      "text/plain": [
       "ds_percussive_n:   0%|          | 0/5592 [00:00<?, ?it/s]"
      ]
     },
     "metadata": {},
     "output_type": "display_data"
    },
    {
     "data": {
      "application/vnd.jupyter.widget-view+json": {
       "model_id": "fb106e57d8af4f13bf12cfe9f991816b",
       "version_major": 2,
       "version_minor": 0
      },
      "text/plain": [
       "cqt_n_freq_stats:   0%|          | 0/5592 [00:00<?, ?it/s]"
      ]
     },
     "metadata": {},
     "output_type": "display_data"
    },
    {
     "data": {
      "application/vnd.jupyter.widget-view+json": {
       "model_id": "83634f710cf94be9bcddd2cbdcaa6cc9",
       "version_major": 2,
       "version_minor": 0
      },
      "text/plain": [
       "harmonic_n_freq_stats:   0%|          | 0/5592 [00:00<?, ?it/s]"
      ]
     },
     "metadata": {},
     "output_type": "display_data"
    },
    {
     "data": {
      "application/vnd.jupyter.widget-view+json": {
       "model_id": "892dd6a4516d4fa3a67f5d693816b8ec",
       "version_major": 2,
       "version_minor": 0
      },
      "text/plain": [
       "percussive_n_freq_stats:   0%|          | 0/5592 [00:00<?, ?it/s]"
      ]
     },
     "metadata": {},
     "output_type": "display_data"
    },
    {
     "data": {
      "application/vnd.jupyter.widget-view+json": {
       "model_id": "b6cad5813d8f41209127548a476af738",
       "version_major": 2,
       "version_minor": 0
      },
      "text/plain": [
       "percussive_n_beat_frames:   0%|          | 0/5592 [00:00<?, ?it/s]"
      ]
     },
     "metadata": {},
     "output_type": "display_data"
    },
    {
     "data": {
      "application/vnd.jupyter.widget-view+json": {
       "model_id": "4a83fcdbd1cf4fb399ad686b91607358",
       "version_major": 2,
       "version_minor": 0
      },
      "text/plain": [
       "s_cqt_n:   0%|          | 0/2400 [00:00<?, ?it/s]"
      ]
     },
     "metadata": {},
     "output_type": "display_data"
    },
    {
     "data": {
      "application/vnd.jupyter.widget-view+json": {
       "model_id": "8e5442745dd0482093dcc54dbc9a4360",
       "version_major": 2,
       "version_minor": 0
      },
      "text/plain": [
       "s_cqt_stats:   0%|          | 0/2400 [00:00<?, ?it/s]"
      ]
     },
     "metadata": {},
     "output_type": "display_data"
    },
    {
     "data": {
      "application/vnd.jupyter.widget-view+json": {
       "model_id": "c64300887dd4498da53411c92fa07739",
       "version_major": 2,
       "version_minor": 0
      },
      "text/plain": [
       "s_harmonic_n:   0%|          | 0/2400 [00:00<?, ?it/s]"
      ]
     },
     "metadata": {},
     "output_type": "display_data"
    },
    {
     "data": {
      "application/vnd.jupyter.widget-view+json": {
       "model_id": "02446bd5d323406d88bb990aa1bd2aad",
       "version_major": 2,
       "version_minor": 0
      },
      "text/plain": [
       "s_harmonic_stats:   0%|          | 0/2400 [00:00<?, ?it/s]"
      ]
     },
     "metadata": {},
     "output_type": "display_data"
    },
    {
     "data": {
      "application/vnd.jupyter.widget-view+json": {
       "model_id": "1e496f704d24413282bdb44b030a9bc8",
       "version_major": 2,
       "version_minor": 0
      },
      "text/plain": [
       "s_percussive_n:   0%|          | 0/2400 [00:00<?, ?it/s]"
      ]
     },
     "metadata": {},
     "output_type": "display_data"
    },
    {
     "data": {
      "application/vnd.jupyter.widget-view+json": {
       "model_id": "130173e945a0474f8f1c9685448941ca",
       "version_major": 2,
       "version_minor": 0
      },
      "text/plain": [
       "s_percussive_stats:   0%|          | 0/2400 [00:00<?, ?it/s]"
      ]
     },
     "metadata": {},
     "output_type": "display_data"
    },
    {
     "data": {
      "application/vnd.jupyter.widget-view+json": {
       "model_id": "52c76b606ea842879c5654a28bff919e",
       "version_major": 2,
       "version_minor": 0
      },
      "text/plain": [
       "ds_percussive_n:   0%|          | 0/2400 [00:00<?, ?it/s]"
      ]
     },
     "metadata": {},
     "output_type": "display_data"
    },
    {
     "data": {
      "application/vnd.jupyter.widget-view+json": {
       "model_id": "74905838fa48486a8c6bd6896901035a",
       "version_major": 2,
       "version_minor": 0
      },
      "text/plain": [
       "cqt_n_freq_stats:   0%|          | 0/2400 [00:00<?, ?it/s]"
      ]
     },
     "metadata": {},
     "output_type": "display_data"
    },
    {
     "data": {
      "application/vnd.jupyter.widget-view+json": {
       "model_id": "c30735907d5d4955b8f9f9b3a566ab59",
       "version_major": 2,
       "version_minor": 0
      },
      "text/plain": [
       "harmonic_n_freq_stats:   0%|          | 0/2400 [00:00<?, ?it/s]"
      ]
     },
     "metadata": {},
     "output_type": "display_data"
    },
    {
     "data": {
      "application/vnd.jupyter.widget-view+json": {
       "model_id": "aaf1311bde84401fbbd5957e6dca9d83",
       "version_major": 2,
       "version_minor": 0
      },
      "text/plain": [
       "percussive_n_freq_stats:   0%|          | 0/2400 [00:00<?, ?it/s]"
      ]
     },
     "metadata": {},
     "output_type": "display_data"
    },
    {
     "data": {
      "application/vnd.jupyter.widget-view+json": {
       "model_id": "c2f8a5b15b5b49c8a0079caa2350d995",
       "version_major": 2,
       "version_minor": 0
      },
      "text/plain": [
       "percussive_n_beat_frames:   0%|          | 0/2400 [00:00<?, ?it/s]"
      ]
     },
     "metadata": {},
     "output_type": "display_data"
    }
   ],
   "source": [
    "E_train.soft_extract()\n",
    "E_eval.soft_extract()"
   ]
  },
  {
   "cell_type": "code",
   "execution_count": 41,
   "id": "87b77ce4-7743-4728-acd6-1ba573e8739d",
   "metadata": {},
   "outputs": [
    {
     "data": {
      "application/vnd.jupyter.widget-view+json": {
       "model_id": "0ca394709fa241499075bdf178907227",
       "version_major": 2,
       "version_minor": 0
      },
      "text/plain": [
       "MetricVisualizer(layout=Layout(align_self='stretch', height='500px'))"
      ]
     },
     "metadata": {},
     "output_type": "display_data"
    },
    {
     "name": "stdout",
     "output_type": "stream",
     "text": [
      "0:\tlearn: 0.2371245\ttest: 0.2304167\tbest: 0.2304167 (0)\ttotal: 98ms\tremaining: 48.9s\n",
      "50:\tlearn: 0.6777539\ttest: 0.5916667\tbest: 0.5916667 (49)\ttotal: 1.54s\tremaining: 13.6s\n",
      "100:\tlearn: 0.7746781\ttest: 0.6162500\tbest: 0.6241667 (95)\ttotal: 2.87s\tremaining: 11.3s\n",
      "150:\tlearn: 0.8251073\ttest: 0.6508333\tbest: 0.6512500 (149)\ttotal: 4.53s\tremaining: 10.5s\n",
      "200:\tlearn: 0.8640916\ttest: 0.6583333\tbest: 0.6625000 (195)\ttotal: 5.87s\tremaining: 8.73s\n",
      "250:\tlearn: 0.8880544\ttest: 0.6625000\tbest: 0.6679167 (214)\ttotal: 7.18s\tremaining: 7.13s\n",
      "300:\tlearn: 0.9109442\ttest: 0.6658333\tbest: 0.6683333 (267)\ttotal: 8.46s\tremaining: 5.6s\n",
      "350:\tlearn: 0.9282904\ttest: 0.6791667\tbest: 0.6791667 (350)\ttotal: 9.76s\tremaining: 4.14s\n",
      "400:\tlearn: 0.9375894\ttest: 0.6770833\tbest: 0.6825000 (358)\ttotal: 11.1s\tremaining: 2.74s\n",
      "450:\tlearn: 0.9495708\ttest: 0.6879167\tbest: 0.6879167 (428)\ttotal: 12.4s\tremaining: 1.35s\n",
      "499:\tlearn: 0.9563662\ttest: 0.6858333\tbest: 0.6879167 (428)\ttotal: 13.8s\tremaining: 0us\n",
      "\n",
      "bestTest = 0.6879166667\n",
      "bestIteration = 428\n",
      "\n",
      "Shrink model to first 429 iterations.\n",
      "\n",
      "Classification Report:\n",
      "               precision    recall  f1-score   support\n",
      "\n",
      "       blues       0.95      0.63      0.76        30\n",
      "   classical       0.88      0.97      0.92        30\n",
      "     country       0.57      0.70      0.63        30\n",
      "       disco       0.61      0.63      0.62        30\n",
      "      hiphop       0.66      0.63      0.64        30\n",
      "        jazz       0.96      0.83      0.89        30\n",
      "       metal       0.80      0.80      0.80        30\n",
      "         pop       0.70      0.77      0.73        30\n",
      "      reggae       0.69      0.80      0.74        30\n",
      "        rock       0.58      0.50      0.54        30\n",
      "\n",
      "    accuracy                           0.73       300\n",
      "   macro avg       0.74      0.73      0.73       300\n",
      "weighted avg       0.74      0.73      0.73       300\n",
      "\n",
      "Evaluation Accuracy: 0.7267\n"
     ]
    }
   ],
   "source": [
    "features = ['s_bpm', 'cqt_n_freq_stats', 's_cqt_stats', 'harmonic_n_freq_stats', 's_harmonic_stats', 'percussive_n_freq_stats', 's_percussive_stats',\n",
    "           'cqt_spectral_centroid_stats', 'mfcc_quef_stats', 'percussive_n_beat_frames']\n",
    "weights = assign_feature_weights(E_train.get_feature_names_vector(features), dict(s_cqt_stats=0.7, s_harmonic_stats=0.6, s_percussive_stats=0.6, s_rms=0.4, s_bpm=0.7, mfcc_quef=0.8))\n",
    "model, acc = train_and_evaluate_catboost(\n",
    "    idx_eval=E_eval.get_features(['s_idx'])[:,0],\n",
    "    X_train=E_train.get_features(features),\n",
    "    X_eval=E_eval.get_features(features),\n",
    "    y_train=E_train.get_features(['s_y'])[:,0], \n",
    "    y_eval=E_eval.get_features(['s_y'])[:,0],\n",
    "    feature_weights=weights\n",
    ")"
   ]
  },
  {
   "cell_type": "code",
   "execution_count": 42,
   "id": "e1ed93d8-a894-482c-b88c-f33586502445",
   "metadata": {},
   "outputs": [
    {
     "data": {
      "text/html": [
       "<div>\n",
       "<style scoped>\n",
       "    .dataframe tbody tr th:only-of-type {\n",
       "        vertical-align: middle;\n",
       "    }\n",
       "\n",
       "    .dataframe tbody tr th {\n",
       "        vertical-align: top;\n",
       "    }\n",
       "\n",
       "    .dataframe thead th {\n",
       "        text-align: right;\n",
       "    }\n",
       "</style>\n",
       "<table border=\"1\" class=\"dataframe\">\n",
       "  <thead>\n",
       "    <tr style=\"text-align: right;\">\n",
       "      <th></th>\n",
       "      <th>importance</th>\n",
       "    </tr>\n",
       "  </thead>\n",
       "  <tbody>\n",
       "    <tr>\n",
       "      <th>s_percussive_stats_1</th>\n",
       "      <td>3.542872</td>\n",
       "    </tr>\n",
       "    <tr>\n",
       "      <th>mfcc_quef_stats_0</th>\n",
       "      <td>2.933706</td>\n",
       "    </tr>\n",
       "    <tr>\n",
       "      <th>mfcc_quef_stats_18</th>\n",
       "      <td>1.908849</td>\n",
       "    </tr>\n",
       "    <tr>\n",
       "      <th>mfcc_quef_stats_17</th>\n",
       "      <td>1.903218</td>\n",
       "    </tr>\n",
       "    <tr>\n",
       "      <th>percussive_n_freq_stats_103</th>\n",
       "      <td>1.741569</td>\n",
       "    </tr>\n",
       "    <tr>\n",
       "      <th>harmonic_n_freq_stats_7</th>\n",
       "      <td>1.741066</td>\n",
       "    </tr>\n",
       "    <tr>\n",
       "      <th>s_cqt_stats_1</th>\n",
       "      <td>1.737402</td>\n",
       "    </tr>\n",
       "    <tr>\n",
       "      <th>percussive_n_freq_stats_96</th>\n",
       "      <td>1.708620</td>\n",
       "    </tr>\n",
       "    <tr>\n",
       "      <th>cqt_n_freq_stats_93</th>\n",
       "      <td>1.589942</td>\n",
       "    </tr>\n",
       "    <tr>\n",
       "      <th>mfcc_quef_stats_16</th>\n",
       "      <td>1.525116</td>\n",
       "    </tr>\n",
       "    <tr>\n",
       "      <th>mfcc_quef_stats_3</th>\n",
       "      <td>1.520058</td>\n",
       "    </tr>\n",
       "    <tr>\n",
       "      <th>s_bpm_0</th>\n",
       "      <td>1.495509</td>\n",
       "    </tr>\n",
       "    <tr>\n",
       "      <th>percussive_n_freq_stats_101</th>\n",
       "      <td>1.474436</td>\n",
       "    </tr>\n",
       "    <tr>\n",
       "      <th>mfcc_quef_stats_21</th>\n",
       "      <td>1.423137</td>\n",
       "    </tr>\n",
       "    <tr>\n",
       "      <th>cqt_spectral_centroid_stats_1</th>\n",
       "      <td>1.408025</td>\n",
       "    </tr>\n",
       "  </tbody>\n",
       "</table>\n",
       "</div>"
      ],
      "text/plain": [
       "                               importance\n",
       "s_percussive_stats_1             3.542872\n",
       "mfcc_quef_stats_0                2.933706\n",
       "mfcc_quef_stats_18               1.908849\n",
       "mfcc_quef_stats_17               1.903218\n",
       "percussive_n_freq_stats_103      1.741569\n",
       "harmonic_n_freq_stats_7          1.741066\n",
       "s_cqt_stats_1                    1.737402\n",
       "percussive_n_freq_stats_96       1.708620\n",
       "cqt_n_freq_stats_93              1.589942\n",
       "mfcc_quef_stats_16               1.525116\n",
       "mfcc_quef_stats_3                1.520058\n",
       "s_bpm_0                          1.495509\n",
       "percussive_n_freq_stats_101      1.474436\n",
       "mfcc_quef_stats_21               1.423137\n",
       "cqt_spectral_centroid_stats_1    1.408025"
      ]
     },
     "execution_count": 42,
     "metadata": {},
     "output_type": "execute_result"
    }
   ],
   "source": [
    "pd.DataFrame(\n",
    "    data=model.feature_importances_, \n",
    "    index=E_train.get_feature_names_vector(features), \n",
    "    columns=['importance']\n",
    ").sort_values(by='importance', ascending=False).head(15)"
   ]
  },
  {
   "cell_type": "code",
   "execution_count": 43,
   "id": "f953eaba-289c-4134-8787-c43a533f96dd",
   "metadata": {},
   "outputs": [
    {
     "data": {
      "application/vnd.jupyter.widget-view+json": {
       "model_id": "74eba302a948485081143a82d82f99e5",
       "version_major": 2,
       "version_minor": 0
      },
      "text/plain": [
       "MetricVisualizer(layout=Layout(align_self='stretch', height='500px'))"
      ]
     },
     "metadata": {},
     "output_type": "display_data"
    },
    {
     "name": "stdout",
     "output_type": "stream",
     "text": [
      "0:\tlearn: 0.3118741\ttest: 0.3070833\tbest: 0.3070833 (0)\ttotal: 117ms\tremaining: 58.2s\n",
      "50:\tlearn: 0.7407010\ttest: 0.6329167\tbest: 0.6329167 (50)\ttotal: 1.73s\tremaining: 15.2s\n",
      "100:\tlearn: 0.8354793\ttest: 0.7070833\tbest: 0.7083333 (99)\ttotal: 3.32s\tremaining: 13.1s\n",
      "150:\tlearn: 0.9023605\ttest: 0.7300000\tbest: 0.7300000 (150)\ttotal: 4.82s\tremaining: 11.1s\n",
      "200:\tlearn: 0.9293634\ttest: 0.7491667\tbest: 0.7504167 (198)\ttotal: 6.3s\tremaining: 9.38s\n",
      "250:\tlearn: 0.9526109\ttest: 0.7629167\tbest: 0.7633333 (249)\ttotal: 7.82s\tremaining: 7.76s\n",
      "300:\tlearn: 0.9662017\ttest: 0.7708333\tbest: 0.7725000 (298)\ttotal: 9.36s\tremaining: 6.19s\n",
      "350:\tlearn: 0.9760372\ttest: 0.7779167\tbest: 0.7800000 (337)\ttotal: 10.9s\tremaining: 4.61s\n",
      "400:\tlearn: 0.9808655\ttest: 0.7808333\tbest: 0.7812500 (358)\ttotal: 12.4s\tremaining: 3.05s\n",
      "450:\tlearn: 0.9867668\ttest: 0.7845833\tbest: 0.7866667 (435)\ttotal: 14s\tremaining: 1.52s\n",
      "499:\tlearn: 0.9892704\ttest: 0.7866667\tbest: 0.7891667 (488)\ttotal: 15.5s\tremaining: 0us\n",
      "\n",
      "bestTest = 0.7891666667\n",
      "bestIteration = 488\n",
      "\n",
      "Shrink model to first 489 iterations.\n",
      "\n",
      "Classification Report:\n",
      "               precision    recall  f1-score   support\n",
      "\n",
      "       blues       0.92      0.77      0.84        30\n",
      "   classical       0.90      0.93      0.92        30\n",
      "     country       0.79      0.87      0.83        30\n",
      "       disco       0.83      0.63      0.72        30\n",
      "      hiphop       0.71      0.83      0.77        30\n",
      "        jazz       0.83      1.00      0.91        30\n",
      "       metal       1.00      0.87      0.93        30\n",
      "         pop       0.81      0.87      0.84        30\n",
      "      reggae       0.74      0.77      0.75        30\n",
      "        rock       0.68      0.63      0.66        30\n",
      "\n",
      "    accuracy                           0.82       300\n",
      "   macro avg       0.82      0.82      0.82       300\n",
      "weighted avg       0.82      0.82      0.82       300\n",
      "\n",
      "Evaluation Accuracy: 0.8167\n"
     ]
    }
   ],
   "source": [
    "features = ['s_stats', 's_bpm', 'cqt_per_freq_stats', 'harmonic_per_freq_stats', 'percussive_per_freq_stats',\n",
    "           'cqt_spectral_centroid_stats', 'mfcc_quef_stats', 'percussive_beat_frames']\n",
    "weights = assign_feature_weights(E_train.get_feature_names_vector(features), dict(s_stats=0.6, s_rms=0.5, s_bpm=0.7, mfcc_quef=0.8))\n",
    "model, acc = train_and_evaluate_catboost(\n",
    "    idx_eval=E_eval.get_features(['s_idx'])[:,0],\n",
    "    X_train=E_train.get_features(features),\n",
    "    X_eval=E_eval.get_features(features),\n",
    "    y_train=E_train.get_features(['s_y'])[:,0], \n",
    "    y_eval=E_eval.get_features(['s_y'])[:,0],\n",
    "    feature_weights=weights\n",
    ")"
   ]
  },
  {
   "cell_type": "code",
   "execution_count": 44,
   "id": "5743316b-866d-4ff5-ba81-d2cf5c6760b7",
   "metadata": {},
   "outputs": [
    {
     "data": {
      "text/html": [
       "<div>\n",
       "<style scoped>\n",
       "    .dataframe tbody tr th:only-of-type {\n",
       "        vertical-align: middle;\n",
       "    }\n",
       "\n",
       "    .dataframe tbody tr th {\n",
       "        vertical-align: top;\n",
       "    }\n",
       "\n",
       "    .dataframe thead th {\n",
       "        text-align: right;\n",
       "    }\n",
       "</style>\n",
       "<table border=\"1\" class=\"dataframe\">\n",
       "  <thead>\n",
       "    <tr style=\"text-align: right;\">\n",
       "      <th></th>\n",
       "      <th>importance</th>\n",
       "      <th>stat_name</th>\n",
       "    </tr>\n",
       "  </thead>\n",
       "  <tbody>\n",
       "    <tr>\n",
       "      <th>s_stats_26</th>\n",
       "      <td>3.110332</td>\n",
       "      <td>mfcc5_var</td>\n",
       "    </tr>\n",
       "    <tr>\n",
       "      <th>s_stats_0</th>\n",
       "      <td>2.400861</td>\n",
       "      <td>chroma_stft_mean</td>\n",
       "    </tr>\n",
       "    <tr>\n",
       "      <th>s_stats_23</th>\n",
       "      <td>2.348540</td>\n",
       "      <td>mfcc4_mean</td>\n",
       "    </tr>\n",
       "    <tr>\n",
       "      <th>s_stats_33</th>\n",
       "      <td>1.544775</td>\n",
       "      <td>mfcc9_mean</td>\n",
       "    </tr>\n",
       "    <tr>\n",
       "      <th>percussive_per_freq_stats_100</th>\n",
       "      <td>1.496329</td>\n",
       "      <td>None</td>\n",
       "    </tr>\n",
       "    <tr>\n",
       "      <th>s_stats_12</th>\n",
       "      <td>1.389909</td>\n",
       "      <td>harmony_mean</td>\n",
       "    </tr>\n",
       "    <tr>\n",
       "      <th>s_stats_5</th>\n",
       "      <td>1.358316</td>\n",
       "      <td>spectral_centroid_var</td>\n",
       "    </tr>\n",
       "    <tr>\n",
       "      <th>s_stats_27</th>\n",
       "      <td>1.341501</td>\n",
       "      <td>mfcc6_mean</td>\n",
       "    </tr>\n",
       "    <tr>\n",
       "      <th>percussive_per_freq_stats_15</th>\n",
       "      <td>1.215955</td>\n",
       "      <td>None</td>\n",
       "    </tr>\n",
       "    <tr>\n",
       "      <th>percussive_per_freq_stats_19</th>\n",
       "      <td>1.213377</td>\n",
       "      <td>None</td>\n",
       "    </tr>\n",
       "    <tr>\n",
       "      <th>percussive_per_freq_stats_102</th>\n",
       "      <td>1.203361</td>\n",
       "      <td>None</td>\n",
       "    </tr>\n",
       "    <tr>\n",
       "      <th>s_stats_14</th>\n",
       "      <td>1.194566</td>\n",
       "      <td>perceptr_mean</td>\n",
       "    </tr>\n",
       "    <tr>\n",
       "      <th>percussive_per_freq_stats_12</th>\n",
       "      <td>1.179854</td>\n",
       "      <td>None</td>\n",
       "    </tr>\n",
       "    <tr>\n",
       "      <th>s_stats_6</th>\n",
       "      <td>1.099468</td>\n",
       "      <td>spectral_bandwidth_mean</td>\n",
       "    </tr>\n",
       "    <tr>\n",
       "      <th>cqt_spectral_centroid_stats_1</th>\n",
       "      <td>1.098627</td>\n",
       "      <td>None</td>\n",
       "    </tr>\n",
       "  </tbody>\n",
       "</table>\n",
       "</div>"
      ],
      "text/plain": [
       "                               importance                stat_name\n",
       "s_stats_26                       3.110332                mfcc5_var\n",
       "s_stats_0                        2.400861         chroma_stft_mean\n",
       "s_stats_23                       2.348540               mfcc4_mean\n",
       "s_stats_33                       1.544775               mfcc9_mean\n",
       "percussive_per_freq_stats_100    1.496329                     None\n",
       "s_stats_12                       1.389909             harmony_mean\n",
       "s_stats_5                        1.358316    spectral_centroid_var\n",
       "s_stats_27                       1.341501               mfcc6_mean\n",
       "percussive_per_freq_stats_15     1.215955                     None\n",
       "percussive_per_freq_stats_19     1.213377                     None\n",
       "percussive_per_freq_stats_102    1.203361                     None\n",
       "s_stats_14                       1.194566            perceptr_mean\n",
       "percussive_per_freq_stats_12     1.179854                     None\n",
       "s_stats_6                        1.099468  spectral_bandwidth_mean\n",
       "cqt_spectral_centroid_stats_1    1.098627                     None"
      ]
     },
     "execution_count": 44,
     "metadata": {},
     "output_type": "execute_result"
    }
   ],
   "source": [
    "imp = pd.DataFrame(\n",
    "    data=model.feature_importances_, \n",
    "    index=E_train.get_feature_names_vector(features), \n",
    "    columns=['importance']\n",
    ").sort_values(by='importance', ascending=False).head(15)\n",
    "imp['stat_name'] = pd.Series(imp.index, index=imp.index).apply(lambda x: int(x[8:]) if x.startswith('s_stats') else None)\n",
    "imp['stat_name'] = imp['stat_name'].apply(lambda x: X_train.columns[int(x) + 2] if not np.isnan(x) else None)\n",
    "imp"
   ]
  },
  {
   "cell_type": "code",
   "execution_count": 45,
   "id": "b3076e7b-0da0-44c5-99d5-77d5ce1e208f",
   "metadata": {},
   "outputs": [],
   "source": [
    "Extractor.register_extractor('cqt_chroma_1d_stats', lambda cqt_chroma: np.array([np.mean(cqt_chroma), np.var(cqt_chroma)]))\n",
    "Extractor.register_extractor('harmonic_chroma_1d_stats', lambda harmonic_chroma: np.array([np.mean(harmonic_chroma), np.var(harmonic_chroma)]))"
   ]
  },
  {
   "cell_type": "code",
   "execution_count": 46,
   "id": "30f28fd6-5054-48b1-894f-9e442fee36f2",
   "metadata": {},
   "outputs": [
    {
     "data": {
      "application/vnd.jupyter.widget-view+json": {
       "model_id": "74a1ee35ecef49239bcf35f54293032f",
       "version_major": 2,
       "version_minor": 0
      },
      "text/plain": [
       "cqt_chroma_1d_stats:   0%|          | 0/5592 [00:00<?, ?it/s]"
      ]
     },
     "metadata": {},
     "output_type": "display_data"
    },
    {
     "data": {
      "application/vnd.jupyter.widget-view+json": {
       "model_id": "b528400c58b94c4b836ef17e404b4a8a",
       "version_major": 2,
       "version_minor": 0
      },
      "text/plain": [
       "harmonic_chroma_1d_stats:   0%|          | 0/5592 [00:00<?, ?it/s]"
      ]
     },
     "metadata": {},
     "output_type": "display_data"
    },
    {
     "data": {
      "application/vnd.jupyter.widget-view+json": {
       "model_id": "4599e69636554778a3612be404ddad07",
       "version_major": 2,
       "version_minor": 0
      },
      "text/plain": [
       "cqt_chroma_1d_stats:   0%|          | 0/2400 [00:00<?, ?it/s]"
      ]
     },
     "metadata": {},
     "output_type": "display_data"
    },
    {
     "data": {
      "application/vnd.jupyter.widget-view+json": {
       "model_id": "7f1cf806d4c04c659652bce1416d84a9",
       "version_major": 2,
       "version_minor": 0
      },
      "text/plain": [
       "harmonic_chroma_1d_stats:   0%|          | 0/2400 [00:00<?, ?it/s]"
      ]
     },
     "metadata": {},
     "output_type": "display_data"
    }
   ],
   "source": [
    "E_train.soft_extract()\n",
    "E_eval.soft_extract()"
   ]
  },
  {
   "cell_type": "code",
   "execution_count": 47,
   "id": "fff9fa80-8425-4478-b015-2a8a6d2285b5",
   "metadata": {},
   "outputs": [
    {
     "data": {
      "application/vnd.jupyter.widget-view+json": {
       "model_id": "277dd61c190341bb9253e085ade83675",
       "version_major": 2,
       "version_minor": 0
      },
      "text/plain": [
       "MetricVisualizer(layout=Layout(align_self='stretch', height='500px'))"
      ]
     },
     "metadata": {},
     "output_type": "display_data"
    },
    {
     "name": "stdout",
     "output_type": "stream",
     "text": [
      "0:\tlearn: 0.3218884\ttest: 0.2979167\tbest: 0.2979167 (0)\ttotal: 94.9ms\tremaining: 47.4s\n",
      "50:\tlearn: 0.6734621\ttest: 0.5708333\tbest: 0.5708333 (50)\ttotal: 1.93s\tremaining: 17s\n",
      "100:\tlearn: 0.7696710\ttest: 0.6383333\tbest: 0.6383333 (100)\ttotal: 3.42s\tremaining: 13.5s\n",
      "150:\tlearn: 0.8295780\ttest: 0.6579167\tbest: 0.6591667 (146)\ttotal: 4.86s\tremaining: 11.2s\n",
      "200:\tlearn: 0.8658798\ttest: 0.6766667\tbest: 0.6804167 (190)\ttotal: 6.66s\tremaining: 9.91s\n",
      "250:\tlearn: 0.8964592\ttest: 0.6895833\tbest: 0.6895833 (249)\ttotal: 8.37s\tremaining: 8.31s\n",
      "300:\tlearn: 0.9186338\ttest: 0.6908333\tbest: 0.6937500 (287)\ttotal: 9.79s\tremaining: 6.48s\n",
      "350:\tlearn: 0.9320458\ttest: 0.6966667\tbest: 0.6983333 (329)\ttotal: 11.2s\tremaining: 4.75s\n",
      "400:\tlearn: 0.9406295\ttest: 0.7079167\tbest: 0.7087500 (387)\ttotal: 12.7s\tremaining: 3.13s\n",
      "450:\tlearn: 0.9495708\ttest: 0.7108333\tbest: 0.7108333 (450)\ttotal: 14.4s\tremaining: 1.56s\n",
      "499:\tlearn: 0.9581545\ttest: 0.7120833\tbest: 0.7145833 (472)\ttotal: 15.9s\tremaining: 0us\n",
      "\n",
      "bestTest = 0.7145833333\n",
      "bestIteration = 472\n",
      "\n",
      "Shrink model to first 473 iterations.\n",
      "\n",
      "Classification Report:\n",
      "               precision    recall  f1-score   support\n",
      "\n",
      "       blues       0.84      0.70      0.76        30\n",
      "   classical       0.85      0.97      0.91        30\n",
      "     country       0.68      0.70      0.69        30\n",
      "       disco       0.86      0.60      0.71        30\n",
      "      hiphop       0.76      0.73      0.75        30\n",
      "        jazz       0.78      0.83      0.81        30\n",
      "       metal       0.88      0.77      0.82        30\n",
      "         pop       0.61      0.73      0.67        30\n",
      "      reggae       0.62      0.70      0.66        30\n",
      "        rock       0.47      0.50      0.48        30\n",
      "\n",
      "    accuracy                           0.72       300\n",
      "   macro avg       0.73      0.72      0.72       300\n",
      "weighted avg       0.73      0.72      0.72       300\n",
      "\n",
      "Evaluation Accuracy: 0.7233\n"
     ]
    }
   ],
   "source": [
    "features = ['s_bpm', 'cqt_per_freq_stats', 'harmonic_per_freq_stats', 'percussive_per_freq_stats',\n",
    "           'cqt_spectral_centroid_stats', 'mfcc_quef_stats', 'percussive_beat_frames', 'cqt_chroma_1d_stats', 'harmonic_chroma_1d_stats']\n",
    "weights = assign_feature_weights(E_train.get_feature_names_vector(features), dict(s_rms=0.5, s_bpm=0.7, mfcc_quef=0.8))\n",
    "model, acc = train_and_evaluate_catboost(\n",
    "    idx_eval=E_eval.get_features(['s_idx'])[:,0],\n",
    "    X_train=E_train.get_features(features),\n",
    "    X_eval=E_eval.get_features(features),\n",
    "    y_train=E_train.get_features(['s_y'])[:,0], \n",
    "    y_eval=E_eval.get_features(['s_y'])[:,0],\n",
    "    feature_weights=weights\n",
    ")"
   ]
  },
  {
   "cell_type": "code",
   "execution_count": 48,
   "id": "265c43f3-b03d-46e4-ba5d-8f898e823f1d",
   "metadata": {},
   "outputs": [
    {
     "data": {
      "text/html": [
       "<div>\n",
       "<style scoped>\n",
       "    .dataframe tbody tr th:only-of-type {\n",
       "        vertical-align: middle;\n",
       "    }\n",
       "\n",
       "    .dataframe tbody tr th {\n",
       "        vertical-align: top;\n",
       "    }\n",
       "\n",
       "    .dataframe thead th {\n",
       "        text-align: right;\n",
       "    }\n",
       "</style>\n",
       "<table border=\"1\" class=\"dataframe\">\n",
       "  <thead>\n",
       "    <tr style=\"text-align: right;\">\n",
       "      <th></th>\n",
       "      <th>importance</th>\n",
       "    </tr>\n",
       "  </thead>\n",
       "  <tbody>\n",
       "    <tr>\n",
       "      <th>percussive_per_freq_stats_13</th>\n",
       "      <td>1.865174</td>\n",
       "    </tr>\n",
       "    <tr>\n",
       "      <th>mfcc_quef_stats_16</th>\n",
       "      <td>1.658949</td>\n",
       "    </tr>\n",
       "    <tr>\n",
       "      <th>percussive_per_freq_stats_18</th>\n",
       "      <td>1.545962</td>\n",
       "    </tr>\n",
       "    <tr>\n",
       "      <th>mfcc_quef_stats_3</th>\n",
       "      <td>1.503084</td>\n",
       "    </tr>\n",
       "    <tr>\n",
       "      <th>percussive_per_freq_stats_25</th>\n",
       "      <td>1.471228</td>\n",
       "    </tr>\n",
       "    <tr>\n",
       "      <th>mfcc_quef_stats_17</th>\n",
       "      <td>1.376585</td>\n",
       "    </tr>\n",
       "    <tr>\n",
       "      <th>mfcc_quef_stats_15</th>\n",
       "      <td>1.280125</td>\n",
       "    </tr>\n",
       "    <tr>\n",
       "      <th>percussive_per_freq_stats_112</th>\n",
       "      <td>1.243802</td>\n",
       "    </tr>\n",
       "    <tr>\n",
       "      <th>percussive_per_freq_stats_93</th>\n",
       "      <td>1.221018</td>\n",
       "    </tr>\n",
       "    <tr>\n",
       "      <th>cqt_spectral_centroid_stats_1</th>\n",
       "      <td>1.175296</td>\n",
       "    </tr>\n",
       "    <tr>\n",
       "      <th>harmonic_per_freq_stats_81</th>\n",
       "      <td>1.090790</td>\n",
       "    </tr>\n",
       "    <tr>\n",
       "      <th>s_bpm_0</th>\n",
       "      <td>1.072605</td>\n",
       "    </tr>\n",
       "    <tr>\n",
       "      <th>percussive_per_freq_stats_88</th>\n",
       "      <td>1.068407</td>\n",
       "    </tr>\n",
       "    <tr>\n",
       "      <th>harmonic_per_freq_stats_11</th>\n",
       "      <td>1.020176</td>\n",
       "    </tr>\n",
       "    <tr>\n",
       "      <th>percussive_per_freq_stats_103</th>\n",
       "      <td>1.003128</td>\n",
       "    </tr>\n",
       "  </tbody>\n",
       "</table>\n",
       "</div>"
      ],
      "text/plain": [
       "                               importance\n",
       "percussive_per_freq_stats_13     1.865174\n",
       "mfcc_quef_stats_16               1.658949\n",
       "percussive_per_freq_stats_18     1.545962\n",
       "mfcc_quef_stats_3                1.503084\n",
       "percussive_per_freq_stats_25     1.471228\n",
       "mfcc_quef_stats_17               1.376585\n",
       "mfcc_quef_stats_15               1.280125\n",
       "percussive_per_freq_stats_112    1.243802\n",
       "percussive_per_freq_stats_93     1.221018\n",
       "cqt_spectral_centroid_stats_1    1.175296\n",
       "harmonic_per_freq_stats_81       1.090790\n",
       "s_bpm_0                          1.072605\n",
       "percussive_per_freq_stats_88     1.068407\n",
       "harmonic_per_freq_stats_11       1.020176\n",
       "percussive_per_freq_stats_103    1.003128"
      ]
     },
     "execution_count": 48,
     "metadata": {},
     "output_type": "execute_result"
    }
   ],
   "source": [
    "pd.DataFrame(\n",
    "    data=model.feature_importances_, \n",
    "    index=E_train.get_feature_names_vector(features), \n",
    "    columns=['importance']\n",
    ").sort_values(by='importance', ascending=False).head(15)"
   ]
  },
  {
   "cell_type": "code",
   "execution_count": 49,
   "id": "d833f410-a7dc-4920-9b40-aedfb4bf87a7",
   "metadata": {},
   "outputs": [],
   "source": [
    "roll_percent = 0.85\n",
    "Extractor.register_extractor('cqt_rollof', \n",
    "                             lambda s_cqt: librosa.feature.spectral.spectral_rolloff(S=s_cqt, freq=cqt_frequencies, roll_percent=roll_percent))\n",
    "\n",
    "Extractor.register_extractor('cqt_rollof_stats', \n",
    "                             lambda cqt_rollof: np.array([cqt_rollof.mean(), cqt_rollof.var()]))\n",
    "\n",
    "Extractor.register_extractor('cqt_bandwidth', \n",
    "                             lambda s_cqt: librosa.feature.spectral.spectral_bandwidth(S=s_cqt, freq=cqt_frequencies))\n",
    "\n",
    "Extractor.register_extractor('cqt_bandwidth_stats', \n",
    "                             lambda cqt_bandwidth: np.array([cqt_bandwidth.mean(), cqt_bandwidth.var()]))\n",
    "\n"
   ]
  },
  {
   "cell_type": "code",
   "execution_count": 50,
   "id": "b490ed89-526a-404d-b847-5bd4ea29e637",
   "metadata": {},
   "outputs": [
    {
     "data": {
      "application/vnd.jupyter.widget-view+json": {
       "model_id": "88b06fab4e9b46069d71c9b493e3ce4e",
       "version_major": 2,
       "version_minor": 0
      },
      "text/plain": [
       "cqt_rollof:   0%|          | 0/5592 [00:00<?, ?it/s]"
      ]
     },
     "metadata": {},
     "output_type": "display_data"
    },
    {
     "data": {
      "application/vnd.jupyter.widget-view+json": {
       "model_id": "2f0ca14490314457b91d1a7661f3cc1e",
       "version_major": 2,
       "version_minor": 0
      },
      "text/plain": [
       "cqt_rollof_stats:   0%|          | 0/5592 [00:00<?, ?it/s]"
      ]
     },
     "metadata": {},
     "output_type": "display_data"
    },
    {
     "data": {
      "application/vnd.jupyter.widget-view+json": {
       "model_id": "e763a70fca884c4191c28327de94e851",
       "version_major": 2,
       "version_minor": 0
      },
      "text/plain": [
       "cqt_bandwidth:   0%|          | 0/5592 [00:00<?, ?it/s]"
      ]
     },
     "metadata": {},
     "output_type": "display_data"
    },
    {
     "data": {
      "application/vnd.jupyter.widget-view+json": {
       "model_id": "84e99a82c32346608750231afaa71d0a",
       "version_major": 2,
       "version_minor": 0
      },
      "text/plain": [
       "cqt_bandwidth_stats:   0%|          | 0/5592 [00:00<?, ?it/s]"
      ]
     },
     "metadata": {},
     "output_type": "display_data"
    },
    {
     "data": {
      "application/vnd.jupyter.widget-view+json": {
       "model_id": "cd384cc4e3ff43b28af2eb2a3326dc0d",
       "version_major": 2,
       "version_minor": 0
      },
      "text/plain": [
       "cqt_rollof:   0%|          | 0/2400 [00:00<?, ?it/s]"
      ]
     },
     "metadata": {},
     "output_type": "display_data"
    },
    {
     "data": {
      "application/vnd.jupyter.widget-view+json": {
       "model_id": "d78dbfaa1e0346c5933c4d0a90d33eff",
       "version_major": 2,
       "version_minor": 0
      },
      "text/plain": [
       "cqt_rollof_stats:   0%|          | 0/2400 [00:00<?, ?it/s]"
      ]
     },
     "metadata": {},
     "output_type": "display_data"
    },
    {
     "data": {
      "application/vnd.jupyter.widget-view+json": {
       "model_id": "632733b6908e4a70bdbd3a50356b16d3",
       "version_major": 2,
       "version_minor": 0
      },
      "text/plain": [
       "cqt_bandwidth:   0%|          | 0/2400 [00:00<?, ?it/s]"
      ]
     },
     "metadata": {},
     "output_type": "display_data"
    },
    {
     "data": {
      "application/vnd.jupyter.widget-view+json": {
       "model_id": "bbaaa658d21b48ceb3ff46706cd655c0",
       "version_major": 2,
       "version_minor": 0
      },
      "text/plain": [
       "cqt_bandwidth_stats:   0%|          | 0/2400 [00:00<?, ?it/s]"
      ]
     },
     "metadata": {},
     "output_type": "display_data"
    }
   ],
   "source": [
    "E_train.soft_extract()\n",
    "E_eval.soft_extract()"
   ]
  },
  {
   "cell_type": "code",
   "execution_count": 51,
   "id": "125cfdf5-9a51-4201-a882-6c8a836796ac",
   "metadata": {},
   "outputs": [
    {
     "data": {
      "application/vnd.jupyter.widget-view+json": {
       "model_id": "42b96d4d35164c8e931dcb9d618bb934",
       "version_major": 2,
       "version_minor": 0
      },
      "text/plain": [
       "MetricVisualizer(layout=Layout(align_self='stretch', height='500px'))"
      ]
     },
     "metadata": {},
     "output_type": "display_data"
    },
    {
     "name": "stdout",
     "output_type": "stream",
     "text": [
      "0:\tlearn: 0.3172389\ttest: 0.3275000\tbest: 0.3275000 (0)\ttotal: 72ms\tremaining: 35.9s\n",
      "50:\tlearn: 0.6684549\ttest: 0.5679167\tbest: 0.5725000 (48)\ttotal: 1.88s\tremaining: 16.5s\n",
      "100:\tlearn: 0.7673462\ttest: 0.6437500\tbest: 0.6450000 (99)\ttotal: 3.52s\tremaining: 13.9s\n",
      "150:\tlearn: 0.8308298\ttest: 0.6675000\tbest: 0.6687500 (137)\ttotal: 4.91s\tremaining: 11.4s\n",
      "200:\tlearn: 0.8682046\ttest: 0.6804167\tbest: 0.6858333 (191)\ttotal: 6.53s\tremaining: 9.71s\n",
      "250:\tlearn: 0.8953863\ttest: 0.6975000\tbest: 0.6975000 (250)\ttotal: 7.94s\tremaining: 7.88s\n",
      "300:\tlearn: 0.9148784\ttest: 0.7070833\tbest: 0.7070833 (297)\ttotal: 9.36s\tremaining: 6.19s\n",
      "350:\tlearn: 0.9298999\ttest: 0.7150000\tbest: 0.7158333 (337)\ttotal: 10.8s\tremaining: 4.59s\n",
      "400:\tlearn: 0.9456366\ttest: 0.7200000\tbest: 0.7208333 (399)\ttotal: 12.2s\tremaining: 3s\n",
      "450:\tlearn: 0.9518956\ttest: 0.7262500\tbest: 0.7270833 (429)\ttotal: 13.5s\tremaining: 1.47s\n",
      "499:\tlearn: 0.9594063\ttest: 0.7279167\tbest: 0.7295833 (472)\ttotal: 14.9s\tremaining: 0us\n",
      "\n",
      "bestTest = 0.7295833333\n",
      "bestIteration = 472\n",
      "\n",
      "Shrink model to first 473 iterations.\n",
      "\n",
      "Classification Report:\n",
      "               precision    recall  f1-score   support\n",
      "\n",
      "       blues       0.96      0.73      0.83        30\n",
      "   classical       0.85      0.93      0.89        30\n",
      "     country       0.72      0.77      0.74        30\n",
      "       disco       0.86      0.63      0.73        30\n",
      "      hiphop       0.75      0.70      0.72        30\n",
      "        jazz       0.82      0.90      0.86        30\n",
      "       metal       0.83      0.83      0.83        30\n",
      "         pop       0.65      0.73      0.69        30\n",
      "      reggae       0.69      0.83      0.76        30\n",
      "        rock       0.55      0.53      0.54        30\n",
      "\n",
      "    accuracy                           0.76       300\n",
      "   macro avg       0.77      0.76      0.76       300\n",
      "weighted avg       0.77      0.76      0.76       300\n",
      "\n",
      "Evaluation Accuracy: 0.7600\n"
     ]
    }
   ],
   "source": [
    "features = ['s_bpm', 'cqt_per_freq_stats', 'harmonic_per_freq_stats', 'percussive_per_freq_stats',\n",
    "           'cqt_spectral_centroid_stats', 'mfcc_quef_stats', 'percussive_beat_frames']\n",
    "weights = assign_feature_weights(E_train.get_feature_names_vector(features), dict(s_rms=0.5, s_bpm=0.7, mfcc_quef=0.8))\n",
    "model, acc = train_and_evaluate_catboost(\n",
    "    idx_eval=E_eval.get_features(['s_idx'])[:,0],\n",
    "    X_train=E_train.get_features(features),\n",
    "    X_eval=E_eval.get_features(features),\n",
    "    y_train=E_train.get_features(['s_y'])[:,0], \n",
    "    y_eval=E_eval.get_features(['s_y'])[:,0],\n",
    "    feature_weights=weights\n",
    ")"
   ]
  },
  {
   "cell_type": "code",
   "execution_count": 52,
   "id": "fb556cea-be41-4826-a131-af28c1707e30",
   "metadata": {},
   "outputs": [
    {
     "data": {
      "text/html": [
       "<div>\n",
       "<style scoped>\n",
       "    .dataframe tbody tr th:only-of-type {\n",
       "        vertical-align: middle;\n",
       "    }\n",
       "\n",
       "    .dataframe tbody tr th {\n",
       "        vertical-align: top;\n",
       "    }\n",
       "\n",
       "    .dataframe thead th {\n",
       "        text-align: right;\n",
       "    }\n",
       "</style>\n",
       "<table border=\"1\" class=\"dataframe\">\n",
       "  <thead>\n",
       "    <tr style=\"text-align: right;\">\n",
       "      <th></th>\n",
       "      <th>importance</th>\n",
       "    </tr>\n",
       "  </thead>\n",
       "  <tbody>\n",
       "    <tr>\n",
       "      <th>percussive_per_freq_stats_103</th>\n",
       "      <td>1.695180</td>\n",
       "    </tr>\n",
       "    <tr>\n",
       "      <th>percussive_per_freq_stats_13</th>\n",
       "      <td>1.546405</td>\n",
       "    </tr>\n",
       "    <tr>\n",
       "      <th>mfcc_quef_stats_3</th>\n",
       "      <td>1.517176</td>\n",
       "    </tr>\n",
       "    <tr>\n",
       "      <th>mfcc_quef_stats_16</th>\n",
       "      <td>1.485983</td>\n",
       "    </tr>\n",
       "    <tr>\n",
       "      <th>percussive_per_freq_stats_100</th>\n",
       "      <td>1.447562</td>\n",
       "    </tr>\n",
       "    <tr>\n",
       "      <th>percussive_per_freq_stats_20</th>\n",
       "      <td>1.375092</td>\n",
       "    </tr>\n",
       "    <tr>\n",
       "      <th>mfcc_quef_stats_17</th>\n",
       "      <td>1.373996</td>\n",
       "    </tr>\n",
       "    <tr>\n",
       "      <th>percussive_per_freq_stats_15</th>\n",
       "      <td>1.320239</td>\n",
       "    </tr>\n",
       "    <tr>\n",
       "      <th>percussive_per_freq_stats_102</th>\n",
       "      <td>1.160154</td>\n",
       "    </tr>\n",
       "    <tr>\n",
       "      <th>cqt_spectral_centroid_stats_1</th>\n",
       "      <td>1.136781</td>\n",
       "    </tr>\n",
       "    <tr>\n",
       "      <th>percussive_per_freq_stats_112</th>\n",
       "      <td>1.117057</td>\n",
       "    </tr>\n",
       "    <tr>\n",
       "      <th>mfcc_quef_stats_13</th>\n",
       "      <td>1.065835</td>\n",
       "    </tr>\n",
       "    <tr>\n",
       "      <th>s_bpm_0</th>\n",
       "      <td>1.065199</td>\n",
       "    </tr>\n",
       "    <tr>\n",
       "      <th>percussive_per_freq_stats_108</th>\n",
       "      <td>1.059157</td>\n",
       "    </tr>\n",
       "    <tr>\n",
       "      <th>harmonic_per_freq_stats_6</th>\n",
       "      <td>1.042721</td>\n",
       "    </tr>\n",
       "  </tbody>\n",
       "</table>\n",
       "</div>"
      ],
      "text/plain": [
       "                               importance\n",
       "percussive_per_freq_stats_103    1.695180\n",
       "percussive_per_freq_stats_13     1.546405\n",
       "mfcc_quef_stats_3                1.517176\n",
       "mfcc_quef_stats_16               1.485983\n",
       "percussive_per_freq_stats_100    1.447562\n",
       "percussive_per_freq_stats_20     1.375092\n",
       "mfcc_quef_stats_17               1.373996\n",
       "percussive_per_freq_stats_15     1.320239\n",
       "percussive_per_freq_stats_102    1.160154\n",
       "cqt_spectral_centroid_stats_1    1.136781\n",
       "percussive_per_freq_stats_112    1.117057\n",
       "mfcc_quef_stats_13               1.065835\n",
       "s_bpm_0                          1.065199\n",
       "percussive_per_freq_stats_108    1.059157\n",
       "harmonic_per_freq_stats_6        1.042721"
      ]
     },
     "execution_count": 52,
     "metadata": {},
     "output_type": "execute_result"
    }
   ],
   "source": [
    "pd.DataFrame(\n",
    "    data=model.feature_importances_, \n",
    "    index=E_train.get_feature_names_vector(features), \n",
    "    columns=['importance']\n",
    ").sort_values(by='importance', ascending=False).head(15)"
   ]
  },
  {
   "cell_type": "markdown",
   "id": "a9f4925b-a9a8-417e-8f43-0843ef2f8ee9",
   "metadata": {},
   "source": [
    "TODO: Write some reasoning for SVD"
   ]
  },
  {
   "cell_type": "code",
   "execution_count": 53,
   "id": "291b20c8-ddfc-4965-bad1-b9d200eb7573",
   "metadata": {},
   "outputs": [],
   "source": [
    "from sklearn.decomposition import TruncatedSVD, PCA\n",
    "\n",
    "n_tsvd_components = 10\n",
    "n_svd_iter=20\n",
    "\n",
    "Extractor.register_extractor('harmonic_per_freq_mean', lambda harmonic_per_freq_stats: harmonic_per_freq_stats[:n_bins])\n",
    "Extractor.register_extractor('harmonic_per_freq_var', lambda harmonic_per_freq_stats: harmonic_per_freq_stats[n_bins:])\n",
    "Extractor.register_sklearn_extractor('harmonic_per_freq_mean_svd', \n",
    "                                     ['harmonic_per_freq_mean'], \n",
    "                                     TruncatedSVD(n_components=n_tsvd_components, n_iter=n_svd_iter, random_state=42))\n",
    "Extractor.register_sklearn_extractor('harmonic_per_freq_var_svd', \n",
    "                                     ['harmonic_per_freq_var'], \n",
    "                                     TruncatedSVD(n_components=n_tsvd_components, n_iter=n_svd_iter, random_state=42))\n",
    "\n",
    "Extractor.register_extractor('percussive_per_freq_mean', lambda percussive_per_freq_stats: percussive_per_freq_stats[:n_bins])\n",
    "Extractor.register_extractor('percussive_per_freq_var', lambda percussive_per_freq_stats: percussive_per_freq_stats[n_bins:])\n",
    "Extractor.register_sklearn_extractor('percussive_per_freq_mean_svd', \n",
    "                                     ['percussive_per_freq_mean'], \n",
    "                                     TruncatedSVD(n_components=n_tsvd_components, n_iter=n_svd_iter, random_state=42))\n",
    "Extractor.register_sklearn_extractor('percussive_per_freq_var_svd', \n",
    "                                     ['percussive_per_freq_var'], \n",
    "                                     TruncatedSVD(n_components=n_tsvd_components, n_iter=n_svd_iter, random_state=42))\n",
    "\n",
    "Extractor.register_sklearn_extractor('percussive_beat_frames_svd', \n",
    "                                     ['percussive_beat_frames'], \n",
    "                                     TruncatedSVD(n_components=n_tsvd_components, n_iter=n_svd_iter, random_state=42))"
   ]
  },
  {
   "cell_type": "code",
   "execution_count": 54,
   "id": "83f80347-032d-4a0c-9876-b72fb484922e",
   "metadata": {},
   "outputs": [],
   "source": [
    "# plt.pcolor(Extractor._stateful_extractors['percussive_beat_frames_svd'][0].components_)"
   ]
  },
  {
   "cell_type": "code",
   "execution_count": 55,
   "id": "8d73bb6d-f19f-47fe-ac0e-31e9f18d9bed",
   "metadata": {},
   "outputs": [],
   "source": [
    "# for feat in ['harmonic_per_freq_mean_svd', 'harmonic_per_freq_var_svd', 'percussive_per_freq_mean_svd', 'percussive_per_freq_var_svd', 'percussive_beat_frames_svd']:\n",
    "#     del E_train.features[feat]\n",
    "#     del E_eval.features[feat]"
   ]
  },
  {
   "cell_type": "code",
   "execution_count": 56,
   "id": "3cd54fc2-2797-4111-a2e8-49f97004d0a2",
   "metadata": {},
   "outputs": [
    {
     "data": {
      "application/vnd.jupyter.widget-view+json": {
       "model_id": "64eaa6e997b943f6b87861d3a8ecd56d",
       "version_major": 2,
       "version_minor": 0
      },
      "text/plain": [
       "harmonic_per_freq_mean:   0%|          | 0/5592 [00:00<?, ?it/s]"
      ]
     },
     "metadata": {},
     "output_type": "display_data"
    },
    {
     "data": {
      "application/vnd.jupyter.widget-view+json": {
       "model_id": "9e4ba95ba234441596794ca35d8ce883",
       "version_major": 2,
       "version_minor": 0
      },
      "text/plain": [
       "harmonic_per_freq_var:   0%|          | 0/5592 [00:00<?, ?it/s]"
      ]
     },
     "metadata": {},
     "output_type": "display_data"
    },
    {
     "data": {
      "application/vnd.jupyter.widget-view+json": {
       "model_id": "d5a668ad8b7d46b285424528e39800ec",
       "version_major": 2,
       "version_minor": 0
      },
      "text/plain": [
       "percussive_per_freq_mean:   0%|          | 0/5592 [00:00<?, ?it/s]"
      ]
     },
     "metadata": {},
     "output_type": "display_data"
    },
    {
     "data": {
      "application/vnd.jupyter.widget-view+json": {
       "model_id": "f750682e3d3e4a079c591e4ff85517c2",
       "version_major": 2,
       "version_minor": 0
      },
      "text/plain": [
       "percussive_per_freq_var:   0%|          | 0/5592 [00:00<?, ?it/s]"
      ]
     },
     "metadata": {},
     "output_type": "display_data"
    },
    {
     "data": {
      "application/vnd.jupyter.widget-view+json": {
       "model_id": "c6634351bf6f4227b072c5e0a558a373",
       "version_major": 2,
       "version_minor": 0
      },
      "text/plain": [
       "harmonic_per_freq_mean:   0%|          | 0/2400 [00:00<?, ?it/s]"
      ]
     },
     "metadata": {},
     "output_type": "display_data"
    },
    {
     "data": {
      "application/vnd.jupyter.widget-view+json": {
       "model_id": "21f084f08ae04807ab648380a7310f06",
       "version_major": 2,
       "version_minor": 0
      },
      "text/plain": [
       "harmonic_per_freq_var:   0%|          | 0/2400 [00:00<?, ?it/s]"
      ]
     },
     "metadata": {},
     "output_type": "display_data"
    },
    {
     "data": {
      "application/vnd.jupyter.widget-view+json": {
       "model_id": "815bdf62124f4d1fb64503c016ea93af",
       "version_major": 2,
       "version_minor": 0
      },
      "text/plain": [
       "percussive_per_freq_mean:   0%|          | 0/2400 [00:00<?, ?it/s]"
      ]
     },
     "metadata": {},
     "output_type": "display_data"
    },
    {
     "data": {
      "application/vnd.jupyter.widget-view+json": {
       "model_id": "5c89b722b6d5497daa95f49d6f6feb60",
       "version_major": 2,
       "version_minor": 0
      },
      "text/plain": [
       "percussive_per_freq_var:   0%|          | 0/2400 [00:00<?, ?it/s]"
      ]
     },
     "metadata": {},
     "output_type": "display_data"
    }
   ],
   "source": [
    "E_train.soft_extract()\n",
    "E_eval.soft_extract()"
   ]
  },
  {
   "cell_type": "code",
   "execution_count": 57,
   "id": "b0050fb2-a283-4b3f-8bb3-8e0d9a8e283d",
   "metadata": {},
   "outputs": [
    {
     "data": {
      "application/vnd.jupyter.widget-view+json": {
       "model_id": "def039f5173e4eb580fd0abc5d4cd6a3",
       "version_major": 2,
       "version_minor": 0
      },
      "text/plain": [
       "MetricVisualizer(layout=Layout(align_self='stretch', height='500px'))"
      ]
     },
     "metadata": {},
     "output_type": "display_data"
    },
    {
     "name": "stdout",
     "output_type": "stream",
     "text": [
      "0:\tlearn: 0.3057940\ttest: 0.3037500\tbest: 0.3037500 (0)\ttotal: 58.2ms\tremaining: 29s\n",
      "50:\tlearn: 0.6736409\ttest: 0.5791667\tbest: 0.5791667 (50)\ttotal: 1.18s\tremaining: 10.4s\n",
      "100:\tlearn: 0.7632332\ttest: 0.6333333\tbest: 0.6345833 (99)\ttotal: 2.27s\tremaining: 8.99s\n",
      "150:\tlearn: 0.8277897\ttest: 0.6687500\tbest: 0.6700000 (148)\ttotal: 3.3s\tremaining: 7.63s\n",
      "200:\tlearn: 0.8728541\ttest: 0.6816667\tbest: 0.6879167 (183)\ttotal: 4.34s\tremaining: 6.45s\n",
      "250:\tlearn: 0.9034335\ttest: 0.7025000\tbest: 0.7025000 (250)\ttotal: 5.52s\tremaining: 5.48s\n",
      "300:\tlearn: 0.9204220\ttest: 0.6987500\tbest: 0.7045833 (268)\ttotal: 6.54s\tremaining: 4.33s\n",
      "350:\tlearn: 0.9329399\ttest: 0.7008333\tbest: 0.7054167 (323)\ttotal: 7.56s\tremaining: 3.21s\n",
      "400:\tlearn: 0.9417024\ttest: 0.7112500\tbest: 0.7120833 (392)\ttotal: 8.58s\tremaining: 2.12s\n",
      "450:\tlearn: 0.9501073\ttest: 0.7120833\tbest: 0.7150000 (416)\ttotal: 9.6s\tremaining: 1.04s\n",
      "499:\tlearn: 0.9585122\ttest: 0.7133333\tbest: 0.7150000 (416)\ttotal: 11s\tremaining: 0us\n",
      "\n",
      "bestTest = 0.715\n",
      "bestIteration = 416\n",
      "\n",
      "Shrink model to first 417 iterations.\n",
      "\n",
      "Classification Report:\n",
      "               precision    recall  f1-score   support\n",
      "\n",
      "       blues       0.70      0.63      0.67        30\n",
      "   classical       0.85      0.93      0.89        30\n",
      "     country       0.68      0.83      0.75        30\n",
      "       disco       0.86      0.60      0.71        30\n",
      "      hiphop       0.69      0.80      0.74        30\n",
      "        jazz       0.78      0.83      0.81        30\n",
      "       metal       0.89      0.83      0.86        30\n",
      "         pop       0.65      0.67      0.66        30\n",
      "      reggae       0.75      0.80      0.77        30\n",
      "        rock       0.62      0.50      0.56        30\n",
      "\n",
      "    accuracy                           0.74       300\n",
      "   macro avg       0.75      0.74      0.74       300\n",
      "weighted avg       0.75      0.74      0.74       300\n",
      "\n",
      "Evaluation Accuracy: 0.7433\n"
     ]
    }
   ],
   "source": [
    "features = ['s_bpm', 'harmonic_per_freq_stats', 'percussive_per_freq_stats',\n",
    "           'cqt_spectral_centroid_stats', 'mfcc_quef_stats', 'percussive_beat_frames',\n",
    "           'percussive_beat_frames_svd']\n",
    "weights = assign_feature_weights(E_train.get_feature_names_vector(features), dict(s_rms=0.5, s_bpm=0.7, mfcc_quef=0.8))\n",
    "model, acc = train_and_evaluate_catboost(\n",
    "    idx_eval=E_eval.get_features(['s_idx'])[:,0],\n",
    "    X_train=E_train.get_features(features),\n",
    "    X_eval=E_eval.get_features(features),\n",
    "    y_train=E_train.get_features(['s_y'])[:,0], \n",
    "    y_eval=E_eval.get_features(['s_y'])[:,0],\n",
    "    feature_weights=weights\n",
    ")"
   ]
  },
  {
   "cell_type": "code",
   "execution_count": 58,
   "id": "535665a8-c9f4-4bf3-be92-eb9c31cb0eaf",
   "metadata": {},
   "outputs": [
    {
     "data": {
      "text/html": [
       "<div>\n",
       "<style scoped>\n",
       "    .dataframe tbody tr th:only-of-type {\n",
       "        vertical-align: middle;\n",
       "    }\n",
       "\n",
       "    .dataframe tbody tr th {\n",
       "        vertical-align: top;\n",
       "    }\n",
       "\n",
       "    .dataframe thead th {\n",
       "        text-align: right;\n",
       "    }\n",
       "</style>\n",
       "<table border=\"1\" class=\"dataframe\">\n",
       "  <thead>\n",
       "    <tr style=\"text-align: right;\">\n",
       "      <th></th>\n",
       "      <th>importance</th>\n",
       "    </tr>\n",
       "  </thead>\n",
       "  <tbody>\n",
       "    <tr>\n",
       "      <th>percussive_beat_frames_svd_1</th>\n",
       "      <td>2.766503</td>\n",
       "    </tr>\n",
       "    <tr>\n",
       "      <th>mfcc_quef_stats_16</th>\n",
       "      <td>1.894035</td>\n",
       "    </tr>\n",
       "    <tr>\n",
       "      <th>percussive_per_freq_stats_95</th>\n",
       "      <td>1.752189</td>\n",
       "    </tr>\n",
       "    <tr>\n",
       "      <th>mfcc_quef_stats_3</th>\n",
       "      <td>1.717627</td>\n",
       "    </tr>\n",
       "    <tr>\n",
       "      <th>percussive_per_freq_stats_101</th>\n",
       "      <td>1.585784</td>\n",
       "    </tr>\n",
       "    <tr>\n",
       "      <th>percussive_per_freq_stats_93</th>\n",
       "      <td>1.566197</td>\n",
       "    </tr>\n",
       "    <tr>\n",
       "      <th>percussive_per_freq_stats_17</th>\n",
       "      <td>1.456319</td>\n",
       "    </tr>\n",
       "    <tr>\n",
       "      <th>harmonic_per_freq_stats_92</th>\n",
       "      <td>1.436928</td>\n",
       "    </tr>\n",
       "    <tr>\n",
       "      <th>mfcc_quef_stats_18</th>\n",
       "      <td>1.406279</td>\n",
       "    </tr>\n",
       "    <tr>\n",
       "      <th>cqt_spectral_centroid_stats_1</th>\n",
       "      <td>1.359080</td>\n",
       "    </tr>\n",
       "    <tr>\n",
       "      <th>percussive_per_freq_stats_105</th>\n",
       "      <td>1.355172</td>\n",
       "    </tr>\n",
       "    <tr>\n",
       "      <th>percussive_per_freq_stats_14</th>\n",
       "      <td>1.246025</td>\n",
       "    </tr>\n",
       "    <tr>\n",
       "      <th>mfcc_quef_stats_13</th>\n",
       "      <td>1.178519</td>\n",
       "    </tr>\n",
       "    <tr>\n",
       "      <th>harmonic_per_freq_stats_83</th>\n",
       "      <td>1.089433</td>\n",
       "    </tr>\n",
       "    <tr>\n",
       "      <th>percussive_per_freq_stats_111</th>\n",
       "      <td>1.049585</td>\n",
       "    </tr>\n",
       "  </tbody>\n",
       "</table>\n",
       "</div>"
      ],
      "text/plain": [
       "                               importance\n",
       "percussive_beat_frames_svd_1     2.766503\n",
       "mfcc_quef_stats_16               1.894035\n",
       "percussive_per_freq_stats_95     1.752189\n",
       "mfcc_quef_stats_3                1.717627\n",
       "percussive_per_freq_stats_101    1.585784\n",
       "percussive_per_freq_stats_93     1.566197\n",
       "percussive_per_freq_stats_17     1.456319\n",
       "harmonic_per_freq_stats_92       1.436928\n",
       "mfcc_quef_stats_18               1.406279\n",
       "cqt_spectral_centroid_stats_1    1.359080\n",
       "percussive_per_freq_stats_105    1.355172\n",
       "percussive_per_freq_stats_14     1.246025\n",
       "mfcc_quef_stats_13               1.178519\n",
       "harmonic_per_freq_stats_83       1.089433\n",
       "percussive_per_freq_stats_111    1.049585"
      ]
     },
     "execution_count": 58,
     "metadata": {},
     "output_type": "execute_result"
    }
   ],
   "source": [
    "pd.DataFrame(\n",
    "    data=model.feature_importances_, \n",
    "    index=E_train.get_feature_names_vector(features), \n",
    "    columns=['importance']\n",
    ").sort_values(by='importance', ascending=False).head(15)"
   ]
  },
  {
   "cell_type": "code",
   "execution_count": 59,
   "id": "9efa22b9-0f6e-491f-abb5-0fd29922e738",
   "metadata": {},
   "outputs": [
    {
     "data": {
      "text/plain": [
       "[<matplotlib.lines.Line2D at 0x16c149c70>]"
      ]
     },
     "execution_count": 59,
     "metadata": {},
     "output_type": "execute_result"
    },
    {
     "data": {
      "image/png": "[encoded data removed]",
      "text/plain": [
       "<Figure size 640x480 with 1 Axes>"
      ]
     },
     "metadata": {},
     "output_type": "display_data"
    }
   ],
   "source": [
    "plt.plot(E_eval.features['percussive_beat_frames_svd'][0])"
   ]
  },
  {
   "cell_type": "code",
   "execution_count": 60,
   "id": "a098a082-3519-4127-9b8d-355604a3ece0",
   "metadata": {},
   "outputs": [
    {
     "data": {
      "text/plain": [
       "<matplotlib.collections.PolyQuadMesh at 0x16c17bb30>"
      ]
     },
     "execution_count": 60,
     "metadata": {},
     "output_type": "execute_result"
    },
    {
     "data": {
      "image/png": "[encoded data removed]",
      "text/plain": [
       "<Figure size 640x480 with 1 Axes>"
      ]
     },
     "metadata": {},
     "output_type": "display_data"
    }
   ],
   "source": [
    "plt.pcolor(Extractor._stateful_extractors['percussive_beat_frames_svd'][0].components_)"
   ]
  },
  {
   "cell_type": "code",
   "execution_count": null,
   "id": "aa33435a-a8a4-4c26-96ac-8caf23b10437",
   "metadata": {},
   "outputs": [],
   "source": []
  }
 ],
 "metadata": {
  "kernelspec": {
   "display_name": "Python 3 (ipykernel)",
   "language": "python",
   "name": "python3"
  },
  "language_info": {
   "codemirror_mode": {
    "name": "ipython",
    "version": 3
   },
   "file_extension": ".py",
   "mimetype": "text/x-python",
   "name": "python",
   "nbconvert_exporter": "python",
   "pygments_lexer": "ipython3",
   "version": "3.12.8"
  }
 },
 "nbformat": 4,
 "nbformat_minor": 5
}
