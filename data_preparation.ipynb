{
 "cells": [
  {
   "cell_type": "code",
   "execution_count": 20,
   "id": "7f549320-2931-4bbd-aa69-7394dd8d2748",
   "metadata": {},
   "outputs": [],
   "source": [
    "import pandas as pd"
   ]
  },
  {
   "cell_type": "code",
   "execution_count": 21,
   "id": "cd5754af-5294-4727-a40a-0690e2a87161",
   "metadata": {},
   "outputs": [],
   "source": [
    "with open(\"mtg/data/autotagging_genre.tsv\") as src:\n",
    "    with open(\"dataset/mtg.tsv\", \"w\") as targ:\n",
    "        for line in src.readlines():\n",
    "            fields = line.split(\"\\t\")\n",
    "            fields = fields[:5] + [','.join(fields[5:])]\n",
    "            targ.write('\\t'.join(fields) + \"\\n\")"
   ]
  },
  {
   "cell_type": "code",
   "execution_count": 22,
   "id": "810ea669-5cf0-4f2c-93b2-a7e3ec0698be",
   "metadata": {},
   "outputs": [],
   "source": [
    "df = pd.read_csv(\"dataset/mtg.tsv\", sep=\"\\t\")"
   ]
  },
  {
   "cell_type": "code",
   "execution_count": 23,
   "id": "5a67af83-b4c8-461c-8934-a9b0a254bd78",
   "metadata": {},
   "outputs": [],
   "source": [
    "df['TAGS'] = df['TAGS'].apply(lambda x: [y.removeprefix(\"genre---\") for y in x.split(\",\")])"
   ]
  },
  {
   "cell_type": "code",
   "execution_count": 24,
   "id": "d29e71a2-ad50-438c-8988-b62950f206d9",
   "metadata": {},
   "outputs": [],
   "source": [
    "df = df[df['TAGS'].apply(lambda x: len(x) > 0)]"
   ]
  },
  {
   "cell_type": "code",
   "execution_count": 25,
   "id": "f2a61f35-3285-4ac9-8ca2-38090728b77b",
   "metadata": {},
   "outputs": [],
   "source": [
    "df.loc[:, 'GENRE'] = df['TAGS'].apply(lambda x: x[0])"
   ]
  },
  {
   "cell_type": "code",
   "execution_count": 26,
   "id": "670edd2a-3c12-405c-a4aa-8c9e7ff1ff5e",
   "metadata": {},
   "outputs": [],
   "source": [
    "df.loc[:, 'BATCH'] = df['PATH'].apply(lambda x: int(x.split('/')[0]))"
   ]
  },
  {
   "cell_type": "code",
   "execution_count": 27,
   "id": "faa001ef-e802-4c37-b625-73d2a2f83cd4",
   "metadata": {},
   "outputs": [],
   "source": [
    "df = df[df['BATCH'] <= 18] # I ran out of SSD after 18 tarballs, but I think it's enough."
   ]
  },
  {
   "cell_type": "code",
   "execution_count": 28,
   "id": "63472b5a-0a1c-4a0a-af3c-472416206b2f",
   "metadata": {},
   "outputs": [],
   "source": [
    "drop_classes = ['easylistening', 'chillout']\n",
    "df = df[~df['GENRE'].isin(drop_classes)]"
   ]
  },
  {
   "cell_type": "code",
   "execution_count": 29,
   "id": "286195aa-a559-40fb-abf3-ee58490e60c2",
   "metadata": {},
   "outputs": [],
   "source": [
    "good_genres = set(df['GENRE'].value_counts()[:10].index)"
   ]
  },
  {
   "cell_type": "code",
   "execution_count": 30,
   "id": "1fe02cf1-88cf-49ca-95a2-ea61426b373c",
   "metadata": {},
   "outputs": [],
   "source": [
    "df = df[df['TAGS'].apply(lambda x: len(set(x) & good_genres) > 0)]"
   ]
  },
  {
   "cell_type": "code",
   "execution_count": 31,
   "id": "4b799f05-b672-480f-be2a-50d8b5f59dd4",
   "metadata": {},
   "outputs": [],
   "source": [
    "df.to_csv(\"mtg/selected-tracks.csv\", index=None)"
   ]
  },
  {
   "cell_type": "code",
   "execution_count": 33,
   "id": "27f69958-42ec-4400-9d85-5ac93962964f",
   "metadata": {},
   "outputs": [
    {
     "name": "stdout",
     "output_type": "stream",
     "text": [
      "mkdir: dataset/mtg/extracted: File exists\n"
     ]
    }
   ],
   "source": [
    "!mkdir dataset/mtg/extracted"
   ]
  },
  {
   "cell_type": "code",
   "execution_count": 34,
   "id": "0ad74a47-1e82-43a0-b3ed-15d10812127c",
   "metadata": {},
   "outputs": [
    {
     "name": "stderr",
     "output_type": "stream",
     "text": [
      "/var/folders/c7/l787n6sd6db5qx890vglg8_m0000gn/T/ipykernel_96145/570987002.py:9: DeprecationWarning: Python 3.14 will, by default, filter extracted tar archives and reject files or modify their metadata. Use the filter argument to control this behavior.\n",
      "  tar.extract(p, path=f\"dataset/mtg/extracted\")\n"
     ]
    }
   ],
   "source": [
    "import tarfile\n",
    "\n",
    "for paths in df.groupby('BATCH')['PATH'].agg(list):\n",
    "    batch = paths[0].split(\"/\")[0]\n",
    "    # Open the tar file\n",
    "    with tarfile.open(f\"dataset/mtg/raw_30s_audio-{batch}.tar\", \"r\") as tar:\n",
    "        for p in paths:\n",
    "            # Extract a single file\n",
    "            tar.extract(p, path=f\"dataset/mtg/extracted\")"
   ]
  },
  {
   "cell_type": "code",
   "execution_count": null,
   "id": "fee53030-0904-470e-996a-3c1212cb01b0",
   "metadata": {},
   "outputs": [],
   "source": []
  }
 ],
 "metadata": {
  "kernelspec": {
   "display_name": "Python 3 (ipykernel)",
   "language": "python",
   "name": "python3"
  },
  "language_info": {
   "codemirror_mode": {
    "name": "ipython",
    "version": 3
   },
   "file_extension": ".py",
   "mimetype": "text/x-python",
   "name": "python",
   "nbconvert_exporter": "python",
   "pygments_lexer": "ipython3",
   "version": "3.12.8"
  }
 },
 "nbformat": 4,
 "nbformat_minor": 5
}
